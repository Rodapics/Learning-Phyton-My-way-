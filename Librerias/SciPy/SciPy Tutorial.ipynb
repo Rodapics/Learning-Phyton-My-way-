{
 "cells": [
  {
   "cell_type": "code",
   "execution_count": 14,
   "id": "9e96c16b-1ed6-4b08-83b0-28bb7f82b73a",
   "metadata": {
    "tags": []
   },
   "outputs": [],
   "source": [
    "import numpy as np\n",
    "import matplotlib.pyplot as plt\n",
    "import scipy as sp"
   ]
  },
  {
   "cell_type": "code",
   "execution_count": 16,
   "id": "0f3ec3aa-66ae-4303-96f2-8e71d1fcc3f3",
   "metadata": {
    "tags": []
   },
   "outputs": [],
   "source": [
    "#Se realiza una minimización"
   ]
  },
  {
   "cell_type": "code",
   "execution_count": 18,
   "id": "bde31110-1c48-467f-b115-0e8e4e529e7f",
   "metadata": {
    "tags": []
   },
   "outputs": [],
   "source": [
    "from scipy.optimize import minimize"
   ]
  },
  {
   "cell_type": "code",
   "execution_count": 19,
   "id": "00bacb9d-41a9-441c-9f44-0c2fa599bf22",
   "metadata": {
    "tags": []
   },
   "outputs": [
    {
     "data": {
      "text/plain": [
       "array([2.99999999])"
      ]
     },
     "execution_count": 19,
     "metadata": {},
     "output_type": "execute_result"
    }
   ],
   "source": [
    "def f(x):\n",
    "    return (x-3)**2\n",
    "\n",
    "res = minimize(f, x0=2)\n",
    "res.x"
   ]
  },
  {
   "cell_type": "code",
   "execution_count": null,
   "id": "ae1f3042-ee91-483e-b072-87cd95dea538",
   "metadata": {},
   "outputs": [],
   "source": []
  },
  {
   "cell_type": "code",
   "execution_count": null,
   "id": "588ee6cb-7cd7-480e-bc0d-85d086c4343b",
   "metadata": {},
   "outputs": [],
   "source": []
  }
 ],
 "metadata": {
  "kernelspec": {
   "display_name": "Python 3 (ipykernel)",
   "language": "python",
   "name": "python3"
  },
  "language_info": {
   "codemirror_mode": {
    "name": "ipython",
    "version": 3
   },
   "file_extension": ".py",
   "mimetype": "text/x-python",
   "name": "python",
   "nbconvert_exporter": "python",
   "pygments_lexer": "ipython3",
   "version": "3.10.9"
  }
 },
 "nbformat": 4,
 "nbformat_minor": 5
}
