{
 "cells": [
  {
   "cell_type": "code",
   "execution_count": 1,
   "id": "61a2f0ad-fc87-4e17-9a05-0d9269e28eac",
   "metadata": {
    "tags": []
   },
   "outputs": [],
   "source": [
    "# Se discute la importancia del Numpy"
   ]
  },
  {
   "cell_type": "code",
   "execution_count": 2,
   "id": "c93ea28e-80e3-4b0c-8b7d-56a75856b70e",
   "metadata": {
    "tags": []
   },
   "outputs": [],
   "source": [
    "import numpy as np"
   ]
  },
  {
   "cell_type": "code",
   "execution_count": 3,
   "id": "1b287a4c-65c2-4e30-af60-1f37ba5656da",
   "metadata": {
    "tags": []
   },
   "outputs": [
    {
     "data": {
      "text/plain": [
       "[1, 2, 3, 2, 4, 6]"
      ]
     },
     "execution_count": 3,
     "metadata": {},
     "output_type": "execute_result"
    }
   ],
   "source": [
    "a = [1,2,3]\n",
    "b = [2,4,6]\n",
    "\n",
    "a+b"
   ]
  },
  {
   "cell_type": "code",
   "execution_count": 7,
   "id": "e5d5b4bf-0cc1-40e7-b176-14b4ed3b2cf7",
   "metadata": {
    "tags": []
   },
   "outputs": [
    {
     "data": {
      "text/plain": [
       "array([3, 6, 9])"
      ]
     },
     "execution_count": 7,
     "metadata": {},
     "output_type": "execute_result"
    }
   ],
   "source": [
    "np_a = np.array(a)\n",
    "np_b = np.array(b)\n",
    "np_a + np_b"
   ]
  },
  {
   "cell_type": "code",
   "execution_count": 8,
   "id": "2a88506a-2e6e-4f75-aa67-497f2c128d9c",
   "metadata": {
    "tags": []
   },
   "outputs": [
    {
     "data": {
      "text/plain": [
       "dtype('int32')"
      ]
     },
     "execution_count": 8,
     "metadata": {},
     "output_type": "execute_result"
    }
   ],
   "source": [
    "np_a.dtype"
   ]
  },
  {
   "cell_type": "code",
   "execution_count": 9,
   "id": "30514811-efe6-4aa2-8fcb-a5166bfbf425",
   "metadata": {
    "tags": []
   },
   "outputs": [
    {
     "data": {
      "text/plain": [
       "array([1, 2, 3])"
      ]
     },
     "execution_count": 9,
     "metadata": {},
     "output_type": "execute_result"
    }
   ],
   "source": [
    "np_a"
   ]
  },
  {
   "cell_type": "code",
   "execution_count": 10,
   "id": "6a60545d-2897-4ab0-bfbd-c25529f745b2",
   "metadata": {
    "tags": []
   },
   "outputs": [],
   "source": [
    "np_a[0] = 13.3456"
   ]
  },
  {
   "cell_type": "code",
   "execution_count": 19,
   "id": "0958725d-314f-418d-8d12-edd32d11e106",
   "metadata": {
    "tags": []
   },
   "outputs": [
    {
     "data": {
      "text/plain": [
       "array([13.3456,  2.    ,  3.    ])"
      ]
     },
     "execution_count": 19,
     "metadata": {},
     "output_type": "execute_result"
    }
   ],
   "source": [
    "np_a  #Vemos que el array solo es de enteros y no almacena el numero completo ingresado"
   ]
  },
  {
   "cell_type": "code",
   "execution_count": 12,
   "id": "4eb01f38-b77d-476b-8a5b-9153769bd63f",
   "metadata": {
    "tags": []
   },
   "outputs": [
    {
     "data": {
      "text/plain": [
       "dtype('int32')"
      ]
     },
     "execution_count": 12,
     "metadata": {},
     "output_type": "execute_result"
    }
   ],
   "source": [
    "np_a.dtype"
   ]
  },
  {
   "cell_type": "code",
   "execution_count": 13,
   "id": "d5be02c6-41ff-4f51-b2d8-76e7c2a3f22b",
   "metadata": {
    "tags": []
   },
   "outputs": [],
   "source": [
    "np_a = np.array([1,2,3], dtype ='float')"
   ]
  },
  {
   "cell_type": "code",
   "execution_count": 14,
   "id": "fe366fde-e521-497b-915f-47271d124ba7",
   "metadata": {
    "tags": []
   },
   "outputs": [
    {
     "data": {
      "text/plain": [
       "array([1., 2., 3.])"
      ]
     },
     "execution_count": 14,
     "metadata": {},
     "output_type": "execute_result"
    }
   ],
   "source": [
    "np_a"
   ]
  },
  {
   "cell_type": "code",
   "execution_count": 15,
   "id": "0c86df3a-41c9-4997-ac03-af2360188a94",
   "metadata": {
    "tags": []
   },
   "outputs": [
    {
     "data": {
      "text/plain": [
       "dtype('float64')"
      ]
     },
     "execution_count": 15,
     "metadata": {},
     "output_type": "execute_result"
    }
   ],
   "source": [
    "np_a.dtype"
   ]
  },
  {
   "cell_type": "code",
   "execution_count": 16,
   "id": "27cd9be3-67fa-438d-badd-fd4a48339300",
   "metadata": {
    "tags": []
   },
   "outputs": [],
   "source": [
    "np_a[0] = 13.3456"
   ]
  },
  {
   "cell_type": "code",
   "execution_count": 29,
   "id": "ec977c6f-b6fb-46ce-999e-de0bd0d8fe71",
   "metadata": {
    "tags": []
   },
   "outputs": [
    {
     "data": {
      "text/plain": [
       "array([13.3456,  2.    ,  3.    ])"
      ]
     },
     "execution_count": 29,
     "metadata": {},
     "output_type": "execute_result"
    }
   ],
   "source": [
    "np_a  #Vemos que aquí si almacena la varaible"
   ]
  },
  {
   "cell_type": "code",
   "execution_count": 30,
   "id": "8f66e9f7-c7d6-41e4-a391-03870402cfbf",
   "metadata": {
    "tags": []
   },
   "outputs": [],
   "source": [
    "#Empieza a mencionar las funciones universales"
   ]
  },
  {
   "cell_type": "code",
   "execution_count": 31,
   "id": "31a50021-0f4d-450b-9ed7-58fc3047580a",
   "metadata": {
    "tags": []
   },
   "outputs": [
    {
     "data": {
      "text/plain": [
       "array([0.70273137, 0.90929743, 0.14112001])"
      ]
     },
     "execution_count": 31,
     "metadata": {},
     "output_type": "execute_result"
    }
   ],
   "source": [
    "np.sin(np_a)"
   ]
  },
  {
   "cell_type": "code",
   "execution_count": 32,
   "id": "e899cae8-61f2-45ed-b93a-583b8c85407e",
   "metadata": {
    "tags": []
   },
   "outputs": [
    {
     "data": {
      "text/plain": [
       "array([-0.41614684, -0.65364362,  0.96017029])"
      ]
     },
     "execution_count": 32,
     "metadata": {},
     "output_type": "execute_result"
    }
   ],
   "source": [
    "np.cos(np_b)"
   ]
  },
  {
   "cell_type": "code",
   "execution_count": 33,
   "id": "87f4c31a-15d8-4a11-aa80-84e1bb21cc81",
   "metadata": {
    "tags": []
   },
   "outputs": [
    {
     "data": {
      "text/plain": [
       "numpy.ndarray"
      ]
     },
     "execution_count": 33,
     "metadata": {},
     "output_type": "execute_result"
    }
   ],
   "source": [
    "type(np_a) #Array n-dimensional"
   ]
  },
  {
   "cell_type": "code",
   "execution_count": 34,
   "id": "4ff01b39-9366-44dc-9992-b3036fc1c27b",
   "metadata": {
    "tags": []
   },
   "outputs": [
    {
     "data": {
      "text/plain": [
       "list"
      ]
     },
     "execution_count": 34,
     "metadata": {},
     "output_type": "execute_result"
    }
   ],
   "source": [
    "lol = [[1,2,3],[4,5,6]]\n",
    "type(lol)"
   ]
  },
  {
   "cell_type": "code",
   "execution_count": 35,
   "id": "5c59b4aa-86b0-4f43-9302-006e100a8fe5",
   "metadata": {
    "tags": []
   },
   "outputs": [],
   "source": [
    "np_array = np.array(lol)"
   ]
  },
  {
   "cell_type": "code",
   "execution_count": 36,
   "id": "37580aa9-06f9-4bea-a27e-24fffb071ab5",
   "metadata": {
    "tags": []
   },
   "outputs": [
    {
     "data": {
      "text/plain": [
       "array([[1, 2, 3],\n",
       "       [4, 5, 6]])"
      ]
     },
     "execution_count": 36,
     "metadata": {},
     "output_type": "execute_result"
    }
   ],
   "source": [
    "np_array"
   ]
  },
  {
   "cell_type": "code",
   "execution_count": 37,
   "id": "11ea2616-d1b6-472e-a4d3-0de3b867b250",
   "metadata": {
    "tags": []
   },
   "outputs": [
    {
     "data": {
      "text/plain": [
       "[4, 5, 6]"
      ]
     },
     "execution_count": 37,
     "metadata": {},
     "output_type": "execute_result"
    }
   ],
   "source": [
    "lol[1]"
   ]
  },
  {
   "cell_type": "code",
   "execution_count": 38,
   "id": "e558a4d0-4a72-43d9-865f-010ff0a92acb",
   "metadata": {
    "tags": []
   },
   "outputs": [
    {
     "data": {
      "text/plain": [
       "5"
      ]
     },
     "execution_count": 38,
     "metadata": {},
     "output_type": "execute_result"
    }
   ],
   "source": [
    "lol[1][1]  #Dos corchetes para acceder a la información\n",
    "\n",
    "#No funciona:\n",
    "# lol[1,1]"
   ]
  },
  {
   "cell_type": "code",
   "execution_count": 39,
   "id": "e167e69a-73e9-4990-b092-76fd2f4850cf",
   "metadata": {
    "tags": []
   },
   "outputs": [
    {
     "data": {
      "text/plain": [
       "5"
      ]
     },
     "execution_count": 39,
     "metadata": {},
     "output_type": "execute_result"
    }
   ],
   "source": [
    "np_array[1,1]  #Aqui si funciona"
   ]
  },
  {
   "cell_type": "code",
   "execution_count": 40,
   "id": "9155cc80-1e2c-406f-b3ee-1b5680cd2fda",
   "metadata": {
    "tags": []
   },
   "outputs": [
    {
     "data": {
      "text/plain": [
       "5"
      ]
     },
     "execution_count": 40,
     "metadata": {},
     "output_type": "execute_result"
    }
   ],
   "source": [
    "np_array[1][1] #También funciona"
   ]
  },
  {
   "cell_type": "code",
   "execution_count": null,
   "id": "d11fae29-711d-4183-9fda-16b18d4d1738",
   "metadata": {},
   "outputs": [],
   "source": []
  }
 ],
 "metadata": {
  "kernelspec": {
   "display_name": "Python 3 (ipykernel)",
   "language": "python",
   "name": "python3"
  },
  "language_info": {
   "codemirror_mode": {
    "name": "ipython",
    "version": 3
   },
   "file_extension": ".py",
   "mimetype": "text/x-python",
   "name": "python",
   "nbconvert_exporter": "python",
   "pygments_lexer": "ipython3",
   "version": "3.10.9"
  }
 },
 "nbformat": 4,
 "nbformat_minor": 5
}
