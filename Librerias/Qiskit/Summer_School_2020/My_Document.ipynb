{
 "cells": [
  {
   "cell_type": "markdown",
   "id": "601de72b-41ce-4758-8897-a1fc18e2c599",
   "metadata": {},
   "source": [
    "# Proceso de Instalación."
   ]
  },
  {
   "cell_type": "code",
   "execution_count": 2,
   "id": "c5a4605e-bc82-497c-9415-4af3302e776b",
   "metadata": {
    "tags": []
   },
   "outputs": [],
   "source": [
    "!pip install -U -r resources/requirements.txt\n",
    "\n",
    "from IPython.display import clear_output\n",
    "clear_output()"
   ]
  },
  {
   "cell_type": "markdown",
   "id": "e614d7f7-da2c-4703-86b7-a994bb185b66",
   "metadata": {},
   "source": [
    "# Qubits One-Single-State"
   ]
  },
  {
   "cell_type": "markdown",
   "id": "1ebb287d-be2c-43f9-b38d-f1d3d882b2e3",
   "metadata": {},
   "source": [
    "A continuación, realizamos la definición de el circuito cuántico"
   ]
  },
  {
   "cell_type": "code",
   "execution_count": 9,
   "id": "293e9921-7915-4843-9e21-1302fefb87d1",
   "metadata": {
    "tags": []
   },
   "outputs": [
    {
     "data": {
      "image/png": "[encoded data removed]",
      "text/plain": [
       "<Figure size 143.647x117.056 with 1 Axes>"
      ]
     },
     "execution_count": 9,
     "metadata": {},
     "output_type": "execute_result"
    }
   ],
   "source": [
    "from qiskit import QuantumCircuit\n",
    "\n",
    "mycircuit = QuantumCircuit(1)\n",
    "mycircuit.draw('mpl')"
   ]
  },
  {
   "cell_type": "markdown",
   "id": "f8411306-41aa-4d72-8ff3-89fb33e1ec02",
   "metadata": {},
   "source": [
    "También, podemos definir los vectres estados y darles un label"
   ]
  },
  {
   "cell_type": "code",
   "execution_count": 15,
   "id": "a6deaed2-6dba-4832-9130-f4031c693b50",
   "metadata": {
    "tags": []
   },
   "outputs": [],
   "source": [
    "from qiskit.quantum_info import Statevector\n",
    "\n",
    "sv = Statevector.from_label('0')"
   ]
  },
  {
   "cell_type": "code",
   "execution_count": 16,
   "id": "b19ac16e-d3d2-4a56-841d-9855f4bb42a2",
   "metadata": {
    "tags": []
   },
   "outputs": [
    {
     "name": "stdout",
     "output_type": "stream",
     "text": [
      "Statevector([1.+0.j, 0.+0.j],\n",
      "            dims=(2,))\n"
     ]
    }
   ],
   "source": [
    "sv"
   ]
  },
  {
   "cell_type": "code",
   "execution_count": 17,
   "id": "6523cab4-bbf3-40a8-8def-df218d3f615e",
   "metadata": {
    "tags": []
   },
   "outputs": [
    {
     "data": {
      "text/plain": [
       "array([1.+0.j, 0.+0.j])"
      ]
     },
     "execution_count": 17,
     "metadata": {},
     "output_type": "execute_result"
    }
   ],
   "source": [
    "sv.data"
   ]
  },
  {
   "cell_type": "markdown",
   "id": "8d7143d2-8142-4c9c-b1fc-504e11f8b7c8",
   "metadata": {},
   "source": [
    "Aplicamos el circuito que previamente teníamos a este estado \"sv\" definido previamente"
   ]
  },
  {
   "cell_type": "code",
   "execution_count": 18,
   "id": "325b10f5-beb0-4458-9504-664849374221",
   "metadata": {
    "tags": []
   },
   "outputs": [
    {
     "name": "stdout",
     "output_type": "stream",
     "text": [
      "Statevector([1.+0.j, 0.+0.j],\n",
      "            dims=(2,))\n"
     ]
    }
   ],
   "source": [
    "new_sv = sv.evolve(mycircuit)\n",
    "new_sv"
   ]
  },
  {
   "cell_type": "markdown",
   "id": "319e032a-e473-42f0-867d-4a701da08f6b",
   "metadata": {},
   "source": []
  },
  {
   "cell_type": "code",
   "execution_count": 13,
   "id": "914251d9-de10-458b-bc14-469e302fd98d",
   "metadata": {
    "tags": []
   },
   "outputs": [
    {
     "data": {
      "text/plain": [
       "1.0"
      ]
     },
     "execution_count": 13,
     "metadata": {},
     "output_type": "execute_result"
    }
   ],
   "source": [
    "from qiskit.quantum_info import state_fidelity\n",
    "\n",
    "state_fidelity(sv, new_sv)"
   ]
  },
  {
   "cell_type": "code",
   "execution_count": null,
   "id": "fbeb7baa-31cf-4942-bb34-f9506cb60c68",
   "metadata": {},
   "outputs": [],
   "source": []
  }
 ],
 "metadata": {
  "kernelspec": {
   "display_name": "Python 3 (ipykernel)",
   "language": "python",
   "name": "python3"
  },
  "language_info": {
   "codemirror_mode": {
    "name": "ipython",
    "version": 3
   },
   "file_extension": ".py",
   "mimetype": "text/x-python",
   "name": "python",
   "nbconvert_exporter": "python",
   "pygments_lexer": "ipython3",
   "version": "3.10.9"
  }
 },
 "nbformat": 4,
 "nbformat_minor": 5
}
