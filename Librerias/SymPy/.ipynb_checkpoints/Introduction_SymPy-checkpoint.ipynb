{
 "cells": [
  {
   "cell_type": "markdown",
   "id": "1f8ed984-3e9d-4016-a076-a563feec8f7e",
   "metadata": {
    "tags": []
   },
   "source": [
    "# Vídeo"
   ]
  },
  {
   "cell_type": "code",
   "execution_count": 1,
   "id": "acded7fd-48c0-41c8-b9c5-45c4359a0f50",
   "metadata": {
    "tags": []
   },
   "outputs": [],
   "source": [
    "import sympy as smp\n",
    "import numpy as np\n",
    "import matplotlib.pyplot as plt\n",
    "\n"
   ]
  },
  {
   "cell_type": "code",
   "execution_count": null,
   "id": "3c8294d2-e29c-43e2-a866-898c6396b511",
   "metadata": {},
   "outputs": [],
   "source": []
  },
  {
   "cell_type": "code",
   "execution_count": 2,
   "id": "229da2b0-3b01-43b6-b27a-2d371b4e8697",
   "metadata": {
    "tags": []
   },
   "outputs": [],
   "source": [
    "x = smp.symbols('x')\n"
   ]
  },
  {
   "cell_type": "code",
   "execution_count": 3,
   "id": "8238831f-24d9-46fb-851b-97038febadf7",
   "metadata": {
    "tags": []
   },
   "outputs": [
    {
     "data": {
      "text/latex": [
       "$\\displaystyle x^{2}$"
      ],
      "text/plain": [
       "x**2"
      ]
     },
     "execution_count": 3,
     "metadata": {},
     "output_type": "execute_result"
    }
   ],
   "source": [
    "x**2\n"
   ]
  },
  {
   "cell_type": "code",
   "execution_count": 4,
   "id": "e8bde75d-ce05-49ef-88d6-ded259b03bb9",
   "metadata": {
    "tags": []
   },
   "outputs": [
    {
     "data": {
      "text/latex": [
       "$\\displaystyle \\sin{\\left(x \\right)}$"
      ],
      "text/plain": [
       "sin(x)"
      ]
     },
     "execution_count": 4,
     "metadata": {},
     "output_type": "execute_result"
    }
   ],
   "source": [
    "smp.sin(x)\n"
   ]
  },
  {
   "cell_type": "code",
   "execution_count": null,
   "id": "af3a4659-8630-4bfb-8bd4-6214fcc4e62c",
   "metadata": {},
   "outputs": [],
   "source": []
  },
  {
   "cell_type": "markdown",
   "id": "5a08dc05-70b7-4056-934e-5de50c8116bc",
   "metadata": {},
   "source": [
    "# Calculo - Problema IPT"
   ]
  },
  {
   "cell_type": "code",
   "execution_count": 7,
   "id": "d64b847f-dd97-4e32-97a8-b399d8948f52",
   "metadata": {
    "tags": []
   },
   "outputs": [],
   "source": [
    "#Ecuación (8):\n",
    "#Definimos symbolos:\n",
    "g = smp.symbols('g')\n",
    "R = smp.symbols('R')\n",
    "epsilon = smp.symbols('epsilon')\n",
    "lambda_1 = smp.symbols('lambda')\n",
    "V_0 = smp.symbols('V_0')\n",
    "theta = smp.symbols('theta')\n",
    "c = smp.symbols('c')\n",
    "#c = V_0**2/(4*g*R)\n",
    "\n"
   ]
  },
  {
   "cell_type": "code",
   "execution_count": 105,
   "id": "26e4696b-d058-4159-bf7e-f45abb2a95bb",
   "metadata": {
    "tags": []
   },
   "outputs": [],
   "source": [
    "#Hacemos n(t)\n",
    "\n",
    "a =- 4*lambda_1*g*smp.cos(theta)*(((1 + lambda_1 + lambda_1*epsilon/2) * c + 2 * lambda_1* smp.sin(theta/2)**2 )/(2 + 2*lambda_1*smp.cos(theta) + 2*lambda_1*epsilon/2))\n",
    "\n",
    "theta_punto = (g/R) * (((1 + lambda_1 + lambda_1*epsilon/2) * c + 2 * lambda_1* smp.sin(theta/2)**2)/(2 + 2*lambda_1*smp.cos(theta) + 2*lambda_1*epsilon/2))\n",
    "\n",
    "derivada = derivada = smp.diff(theta_punto, theta)\n",
    "\n"
   ]
  },
  {
   "cell_type": "code",
   "execution_count": 104,
   "id": "8278afb0-170c-422b-8f86-30bdb7cf1a28",
   "metadata": {
    "tags": []
   },
   "outputs": [
    {
     "data": {
      "text/latex": [
       "$\\displaystyle \\frac{g \\left(c \\left(\\frac{\\epsilon \\lambda}{2} + \\lambda + 1\\right) + 2 \\lambda \\sin^{2}{\\left(\\frac{\\theta}{2} \\right)}\\right)}{R \\left(\\epsilon \\lambda + 2 \\lambda \\cos{\\left(\\theta \\right)} + 2\\right)}$"
      ],
      "text/plain": [
       "g*(c*(epsilon*lambda/2 + lambda + 1) + 2*lambda*sin(theta/2)**2)/(R*(epsilon*lambda + 2*lambda*cos(theta) + 2))"
      ]
     },
     "execution_count": 104,
     "metadata": {},
     "output_type": "execute_result"
    }
   ],
   "source": [
    "theta_punto"
   ]
  },
  {
   "cell_type": "code",
   "execution_count": 106,
   "id": "af8db65c-c052-4bf8-bd93-eee5db8261a2",
   "metadata": {
    "tags": []
   },
   "outputs": [
    {
     "data": {
      "text/latex": [
       "$\\displaystyle \\frac{2 g \\lambda \\left(c \\left(\\frac{\\epsilon \\lambda}{2} + \\lambda + 1\\right) + 2 \\lambda \\sin^{2}{\\left(\\frac{\\theta}{2} \\right)}\\right) \\sin{\\left(\\theta \\right)}}{R \\left(\\epsilon \\lambda + 2 \\lambda \\cos{\\left(\\theta \\right)} + 2\\right)^{2}} + \\frac{2 g \\lambda \\sin{\\left(\\frac{\\theta}{2} \\right)} \\cos{\\left(\\frac{\\theta}{2} \\right)}}{R \\left(\\epsilon \\lambda + 2 \\lambda \\cos{\\left(\\theta \\right)} + 2\\right)}$"
      ],
      "text/plain": [
       "2*g*lambda*(c*(epsilon*lambda/2 + lambda + 1) + 2*lambda*sin(theta/2)**2)*sin(theta)/(R*(epsilon*lambda + 2*lambda*cos(theta) + 2)**2) + 2*g*lambda*sin(theta/2)*cos(theta/2)/(R*(epsilon*lambda + 2*lambda*cos(theta) + 2))"
      ]
     },
     "execution_count": 106,
     "metadata": {},
     "output_type": "execute_result"
    }
   ],
   "source": [
    "derivada"
   ]
  },
  {
   "cell_type": "code",
   "execution_count": null,
   "id": "30633ee9-8694-4d9a-82d3-1b571bc03273",
   "metadata": {},
   "outputs": [],
   "source": [
    "b= - 4 * R*lambda_1*g*lambda_1/(2*R) * ((smp.sin(theta)**2 * (1 + lambda_1*smp.cos(theta) + lambda_1*epsilon/2) + smp.sin(theta)**2 *((1 + lambda_1 + lambda_1*epsilon/2)*c + 2*lambda_1*smp.sin(theta/2)**2))/(2 + 2*lambda_1*smp.cos(theta) + 2*lambda_1*epsilon/2)**2)\n"
   ]
  },
  {
   "cell_type": "code",
   "execution_count": 88,
   "id": "16d76b03-413f-4ebd-8066-793da36df0b5",
   "metadata": {
    "tags": []
   },
   "outputs": [
    {
     "data": {
      "text/latex": [
       "$\\displaystyle - \\frac{4 g \\lambda \\left(c \\left(\\frac{\\epsilon \\lambda}{2} + \\lambda + 1\\right) + 2 \\lambda \\sin^{2}{\\left(\\frac{\\theta}{2} \\right)}\\right) \\cos{\\left(\\theta \\right)}}{\\epsilon \\lambda + 2 \\lambda \\cos{\\left(\\theta \\right)} + 2}$"
      ],
      "text/plain": [
       "-4*g*lambda*(c*(epsilon*lambda/2 + lambda + 1) + 2*lambda*sin(theta/2)**2)*cos(theta)/(epsilon*lambda + 2*lambda*cos(theta) + 2)"
      ]
     },
     "execution_count": 88,
     "metadata": {},
     "output_type": "execute_result"
    }
   ],
   "source": [
    "a"
   ]
  },
  {
   "cell_type": "code",
   "execution_count": 89,
   "id": "f319309a-f612-484a-9f41-3246d1100584",
   "metadata": {
    "tags": []
   },
   "outputs": [
    {
     "data": {
      "text/latex": [
       "$\\displaystyle - \\frac{2 g \\lambda^{2} \\left(\\left(c \\left(\\frac{\\epsilon \\lambda}{2} + \\lambda + 1\\right) + 2 \\lambda \\sin^{2}{\\left(\\frac{\\theta}{2} \\right)}\\right) \\sin^{2}{\\left(\\theta \\right)} + \\left(\\frac{\\epsilon \\lambda}{2} + \\lambda \\cos{\\left(\\theta \\right)} + 1\\right) \\sin^{2}{\\left(\\theta \\right)}\\right)}{\\left(\\epsilon \\lambda + 2 \\lambda \\cos{\\left(\\theta \\right)} + 2\\right)^{2}}$"
      ],
      "text/plain": [
       "-2*g*lambda**2*((c*(epsilon*lambda/2 + lambda + 1) + 2*lambda*sin(theta/2)**2)*sin(theta)**2 + (epsilon*lambda/2 + lambda*cos(theta) + 1)*sin(theta)**2)/(epsilon*lambda + 2*lambda*cos(theta) + 2)**2"
      ]
     },
     "execution_count": 89,
     "metadata": {},
     "output_type": "execute_result"
    }
   ],
   "source": [
    "b"
   ]
  },
  {
   "cell_type": "code",
   "execution_count": 102,
   "id": "0db46bad-d38c-42c9-aed0-40e20a5f1871",
   "metadata": {
    "tags": []
   },
   "outputs": [
    {
     "data": {
      "text/latex": [
       "$\\displaystyle - \\frac{2 g \\lambda^{2} \\left(\\left(c \\left(\\frac{\\epsilon \\lambda}{2} + \\lambda + 1\\right) + 2 \\lambda \\sin^{2}{\\left(\\frac{\\theta}{2} \\right)}\\right) \\sin^{2}{\\left(\\theta \\right)} + \\left(\\frac{\\epsilon \\lambda}{2} + \\lambda \\cos{\\left(\\theta \\right)} + 1\\right) \\sin^{2}{\\left(\\theta \\right)}\\right)}{\\left(\\epsilon \\lambda + 2 \\lambda \\cos{\\left(\\theta \\right)} + 2\\right)^{2}} - \\frac{4 g \\lambda \\left(c \\left(\\frac{\\epsilon \\lambda}{2} + \\lambda + 1\\right) + 2 \\lambda \\sin^{2}{\\left(\\frac{\\theta}{2} \\right)}\\right) \\cos{\\left(\\theta \\right)}}{\\epsilon \\lambda + 2 \\lambda \\cos{\\left(\\theta \\right)} + 2} + g$"
      ],
      "text/plain": [
       "-2*g*lambda**2*((c*(epsilon*lambda/2 + lambda + 1) + 2*lambda*sin(theta/2)**2)*sin(theta)**2 + (epsilon*lambda/2 + lambda*cos(theta) + 1)*sin(theta)**2)/(epsilon*lambda + 2*lambda*cos(theta) + 2)**2 - 4*g*lambda*(c*(epsilon*lambda/2 + lambda + 1) + 2*lambda*sin(theta/2)**2)*cos(theta)/(epsilon*lambda + 2*lambda*cos(theta) + 2) + g"
      ]
     },
     "execution_count": 102,
     "metadata": {},
     "output_type": "execute_result"
    }
   ],
   "source": [
    "n_t =g+a+b\n",
    "n_t"
   ]
  },
  {
   "cell_type": "code",
   "execution_count": 91,
   "id": "06d37383-d257-4299-88b0-5562f2e92652",
   "metadata": {
    "tags": []
   },
   "outputs": [
    {
     "data": {
      "text/latex": [
       "$\\displaystyle - \\frac{2 g \\lambda^{2} \\left(\\left(c \\left(\\frac{\\epsilon \\lambda}{2} + \\lambda + 1\\right) + 2 \\lambda \\left(\\frac{1}{2} - \\frac{\\cos{\\left(\\theta \\right)}}{2}\\right)^{2}\\right) \\sin^{2}{\\left(\\theta \\right)} + \\left(\\frac{\\epsilon \\lambda}{2} + \\lambda \\cos{\\left(\\theta \\right)} + 1\\right) \\sin^{2}{\\left(\\theta \\right)}\\right)}{\\left(\\epsilon \\lambda + 2 \\lambda \\cos{\\left(\\theta \\right)} + 2\\right)^{2}} - \\frac{4 g \\lambda \\left(c \\left(\\frac{\\epsilon \\lambda}{2} + \\lambda + 1\\right) + 2 \\lambda \\left(\\frac{1}{2} - \\frac{\\cos{\\left(\\theta \\right)}}{2}\\right)^{2}\\right) \\cos{\\left(\\theta \\right)}}{\\epsilon \\lambda + 2 \\lambda \\cos{\\left(\\theta \\right)} + 2} + g$"
      ],
      "text/plain": [
       "-2*g*lambda**2*((c*(epsilon*lambda/2 + lambda + 1) + 2*lambda*(1/2 - cos(theta)/2)**2)*sin(theta)**2 + (epsilon*lambda/2 + lambda*cos(theta) + 1)*sin(theta)**2)/(epsilon*lambda + 2*lambda*cos(theta) + 2)**2 - 4*g*lambda*(c*(epsilon*lambda/2 + lambda + 1) + 2*lambda*(1/2 - cos(theta)/2)**2)*cos(theta)/(epsilon*lambda + 2*lambda*cos(theta) + 2) + g"
      ]
     },
     "execution_count": 91,
     "metadata": {},
     "output_type": "execute_result"
    }
   ],
   "source": [
    "n_t_cambiada = n_t.subs(smp.sin(theta/2), (1 - smp.cos(theta))/2)  #Cambio de variable de la sustitución trigonometrica\n",
    "n_t_cambiada"
   ]
  },
  {
   "cell_type": "code",
   "execution_count": 92,
   "id": "aae60108-ec28-4b35-904f-ad4a82b71f6f",
   "metadata": {
    "tags": []
   },
   "outputs": [
    {
     "data": {
      "text/latex": [
       "$\\displaystyle - \\frac{2 g \\lambda^{2} \\left(\\left(1 - \\cos^{2}{\\left(\\theta \\right)}\\right) \\left(c \\left(\\frac{\\epsilon \\lambda}{2} + \\lambda + 1\\right) + 2 \\lambda \\left(\\frac{1}{2} - \\frac{\\cos{\\left(\\theta \\right)}}{2}\\right)^{2}\\right) + \\left(1 - \\cos^{2}{\\left(\\theta \\right)}\\right) \\left(\\frac{\\epsilon \\lambda}{2} + \\lambda \\cos{\\left(\\theta \\right)} + 1\\right)\\right)}{\\left(\\epsilon \\lambda + 2 \\lambda \\cos{\\left(\\theta \\right)} + 2\\right)^{2}} - \\frac{4 g \\lambda \\left(c \\left(\\frac{\\epsilon \\lambda}{2} + \\lambda + 1\\right) + 2 \\lambda \\left(\\frac{1}{2} - \\frac{\\cos{\\left(\\theta \\right)}}{2}\\right)^{2}\\right) \\cos{\\left(\\theta \\right)}}{\\epsilon \\lambda + 2 \\lambda \\cos{\\left(\\theta \\right)} + 2} + g$"
      ],
      "text/plain": [
       "-2*g*lambda**2*((1 - cos(theta)**2)*(c*(epsilon*lambda/2 + lambda + 1) + 2*lambda*(1/2 - cos(theta)/2)**2) + (1 - cos(theta)**2)*(epsilon*lambda/2 + lambda*cos(theta) + 1))/(epsilon*lambda + 2*lambda*cos(theta) + 2)**2 - 4*g*lambda*(c*(epsilon*lambda/2 + lambda + 1) + 2*lambda*(1/2 - cos(theta)/2)**2)*cos(theta)/(epsilon*lambda + 2*lambda*cos(theta) + 2) + g"
      ]
     },
     "execution_count": 92,
     "metadata": {},
     "output_type": "execute_result"
    }
   ],
   "source": [
    "n_t_cambiada_2 = n_t_cambiada.subs(smp.sin(theta)**2, (1-smp.cos(theta)**2))\n",
    "n_t_cambiada_2"
   ]
  },
  {
   "cell_type": "code",
   "execution_count": 93,
   "id": "678ed438-0694-408f-962f-9fc4aa9d3dbd",
   "metadata": {
    "tags": []
   },
   "outputs": [
    {
     "data": {
      "text/latex": [
       "$\\displaystyle - \\frac{2 g \\lambda^{2} \\left(\\left(1 - x^{2}\\right) \\left(c \\left(\\frac{\\epsilon \\lambda}{2} + \\lambda + 1\\right) + 2 \\lambda \\left(\\frac{1}{2} - \\frac{x}{2}\\right)^{2}\\right) + \\left(1 - x^{2}\\right) \\left(\\frac{\\epsilon \\lambda}{2} + \\lambda x + 1\\right)\\right)}{\\left(\\epsilon \\lambda + 2 \\lambda x + 2\\right)^{2}} - \\frac{4 g \\lambda x \\left(c \\left(\\frac{\\epsilon \\lambda}{2} + \\lambda + 1\\right) + 2 \\lambda \\left(\\frac{1}{2} - \\frac{x}{2}\\right)^{2}\\right)}{\\epsilon \\lambda + 2 \\lambda x + 2} + g$"
      ],
      "text/plain": [
       "-2*g*lambda**2*((1 - x**2)*(c*(epsilon*lambda/2 + lambda + 1) + 2*lambda*(1/2 - x/2)**2) + (1 - x**2)*(epsilon*lambda/2 + lambda*x + 1))/(epsilon*lambda + 2*lambda*x + 2)**2 - 4*g*lambda*x*(c*(epsilon*lambda/2 + lambda + 1) + 2*lambda*(1/2 - x/2)**2)/(epsilon*lambda + 2*lambda*x + 2) + g"
      ]
     },
     "execution_count": 93,
     "metadata": {},
     "output_type": "execute_result"
    }
   ],
   "source": [
    "n_t_final = n_t_cambiada_2.subs(smp.cos(theta),x)\n",
    "n_t_final"
   ]
  },
  {
   "cell_type": "code",
   "execution_count": 95,
   "id": "9def195d-a5dc-4767-b3f1-4c7caa4bae24",
   "metadata": {
    "tags": []
   },
   "outputs": [
    {
     "data": {
      "text/latex": [
       "$\\displaystyle \\frac{g \\left(\\lambda^{2} \\left(x^{2} - 1\\right) \\left(c \\left(\\epsilon \\lambda + 2 \\lambda + 2\\right) + \\epsilon \\lambda + 2 \\lambda x + \\lambda \\left(x - 1\\right)^{2} + 2\\right) - 2 \\lambda x \\left(c \\left(\\epsilon \\lambda + 2 \\lambda + 2\\right) + \\lambda \\left(x - 1\\right)^{2}\\right) \\left(\\epsilon \\lambda + 2 \\lambda x + 2\\right) + \\left(\\epsilon \\lambda + 2 \\lambda x + 2\\right)^{2}\\right)}{\\left(\\epsilon \\lambda + 2 \\lambda x + 2\\right)^{2}}$"
      ],
      "text/plain": [
       "g*(lambda**2*(x**2 - 1)*(c*(epsilon*lambda + 2*lambda + 2) + epsilon*lambda + 2*lambda*x + lambda*(x - 1)**2 + 2) - 2*lambda*x*(c*(epsilon*lambda + 2*lambda + 2) + lambda*(x - 1)**2)*(epsilon*lambda + 2*lambda*x + 2) + (epsilon*lambda + 2*lambda*x + 2)**2)/(epsilon*lambda + 2*lambda*x + 2)**2"
      ]
     },
     "execution_count": 95,
     "metadata": {},
     "output_type": "execute_result"
    }
   ],
   "source": [
    "n_t_factorizada = smp.simplify(n_t_final)\n",
    "n_t_factorizada"
   ]
  },
  {
   "cell_type": "code",
   "execution_count": 99,
   "id": "a9072f1c-438d-4316-906e-120068c0794d",
   "metadata": {
    "tags": []
   },
   "outputs": [
    {
     "data": {
      "text/latex": [
       "$\\displaystyle \\lambda^{2} \\left(x^{2} - 1\\right) \\left(c \\left(\\epsilon \\lambda + 2 \\lambda + 2\\right) + \\epsilon \\lambda + 2 \\lambda x + \\lambda \\left(x - 1\\right)^{2} + 2\\right) - 2 \\lambda x \\left(c \\left(\\epsilon \\lambda + 2 \\lambda + 2\\right) + \\lambda \\left(x - 1\\right)^{2}\\right) \\left(\\epsilon \\lambda + 2 \\lambda x + 2\\right) + \\left(\\epsilon \\lambda + 2 \\lambda x + 2\\right)^{2}$"
      ],
      "text/plain": [
       "lambda**2*(x**2 - 1)*(c*(epsilon*lambda + 2*lambda + 2) + epsilon*lambda + 2*lambda*x + lambda*(x - 1)**2 + 2) - 2*lambda*x*(c*(epsilon*lambda + 2*lambda + 2) + lambda*(x - 1)**2)*(epsilon*lambda + 2*lambda*x + 2) + (epsilon*lambda + 2*lambda*x + 2)**2"
      ]
     },
     "execution_count": 99,
     "metadata": {},
     "output_type": "execute_result"
    }
   ],
   "source": [
    "#Ahora definimos el polinomio P:\n",
    "\n",
    "P_eta = n_t_factorizada * ((2 + 2*lambda_1*x + 2*lambda_1*epsilon/2)**2)/(g)\n",
    "P_eta"
   ]
  },
  {
   "cell_type": "code",
   "execution_count": null,
   "id": "0426c4c0-a676-45cb-b59c-e9fd395d1a7d",
   "metadata": {},
   "outputs": [],
   "source": []
  },
  {
   "cell_type": "code",
   "execution_count": 100,
   "id": "4e6d0fae-5828-4831-91cc-5ec441e6d376",
   "metadata": {
    "tags": []
   },
   "outputs": [
    {
     "data": {
      "text/latex": [
       "$\\displaystyle - 2 c \\epsilon^{2} \\lambda^{3} x - 3 c \\epsilon \\lambda^{3} x^{2} - 4 c \\epsilon \\lambda^{3} x - c \\epsilon \\lambda^{3} - 8 c \\epsilon \\lambda^{2} x - 6 c \\lambda^{3} x^{2} - 2 c \\lambda^{3} - 6 c \\lambda^{2} x^{2} - 8 c \\lambda^{2} x - 2 c \\lambda^{2} - 8 c \\lambda x + \\epsilon^{2} \\lambda^{2} - 2 \\epsilon \\lambda^{3} x^{3} + 5 \\epsilon \\lambda^{3} x^{2} - 2 \\epsilon \\lambda^{3} x - \\epsilon \\lambda^{3} + 4 \\epsilon \\lambda^{2} x + 4 \\epsilon \\lambda - 3 \\lambda^{3} x^{4} + 8 \\lambda^{3} x^{3} - 4 \\lambda^{3} x^{2} - \\lambda^{3} - 4 \\lambda^{2} x^{3} + 14 \\lambda^{2} x^{2} - 4 \\lambda^{2} x - 2 \\lambda^{2} + 8 \\lambda x + 4$"
      ],
      "text/plain": [
       "-2*c*epsilon**2*lambda**3*x - 3*c*epsilon*lambda**3*x**2 - 4*c*epsilon*lambda**3*x - c*epsilon*lambda**3 - 8*c*epsilon*lambda**2*x - 6*c*lambda**3*x**2 - 2*c*lambda**3 - 6*c*lambda**2*x**2 - 8*c*lambda**2*x - 2*c*lambda**2 - 8*c*lambda*x + epsilon**2*lambda**2 - 2*epsilon*lambda**3*x**3 + 5*epsilon*lambda**3*x**2 - 2*epsilon*lambda**3*x - epsilon*lambda**3 + 4*epsilon*lambda**2*x + 4*epsilon*lambda - 3*lambda**3*x**4 + 8*lambda**3*x**3 - 4*lambda**3*x**2 - lambda**3 - 4*lambda**2*x**3 + 14*lambda**2*x**2 - 4*lambda**2*x - 2*lambda**2 + 8*lambda*x + 4"
      ]
     },
     "execution_count": 100,
     "metadata": {},
     "output_type": "execute_result"
    }
   ],
   "source": [
    "P_eta_expand = smp.expand(P_eta)\n",
    "P_eta_expand"
   ]
  },
  {
   "cell_type": "code",
   "execution_count": 101,
   "id": "4ac84307-fee5-4aa1-8ffd-66b7a27f4fe2",
   "metadata": {
    "tags": []
   },
   "outputs": [
    {
     "data": {
      "text/latex": [
       "$\\displaystyle \\xi$"
      ],
      "text/plain": [
       "xi"
      ]
     },
     "execution_count": 101,
     "metadata": {},
     "output_type": "execute_result"
    }
   ],
   "source": []
  },
  {
   "cell_type": "code",
   "execution_count": null,
   "id": "18a89cec-c091-422a-96c5-61d526b0a490",
   "metadata": {},
   "outputs": [],
   "source": []
  }
 ],
 "metadata": {
  "kernelspec": {
   "display_name": "Python 3 (ipykernel)",
   "language": "python",
   "name": "python3"
  },
  "language_info": {
   "codemirror_mode": {
    "name": "ipython",
    "version": 3
   },
   "file_extension": ".py",
   "mimetype": "text/x-python",
   "name": "python",
   "nbconvert_exporter": "python",
   "pygments_lexer": "ipython3",
   "version": "3.10.9"
  }
 },
 "nbformat": 4,
 "nbformat_minor": 5
}
