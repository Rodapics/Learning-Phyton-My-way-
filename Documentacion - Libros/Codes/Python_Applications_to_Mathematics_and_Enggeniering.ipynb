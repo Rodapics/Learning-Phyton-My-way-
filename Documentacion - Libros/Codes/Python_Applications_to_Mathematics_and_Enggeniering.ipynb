{
 "cells": [
  {
   "cell_type": "markdown",
   "id": "6e7a686c-9d22-496a-a470-d34945e42f7a",
   "metadata": {},
   "source": [
    "## Chapter 8: Sub-algorithm"
   ]
  },
  {
   "cell_type": "code",
   "execution_count": 1,
   "id": "6c790da1-32ee-4afb-8d84-7b1596d96e27",
   "metadata": {
    "tags": []
   },
   "outputs": [],
   "source": [
    "### Functions."
   ]
  },
  {
   "cell_type": "code",
   "execution_count": 5,
   "id": "a7dd2652-d1cf-4bf2-b09e-164f6d12f4cd",
   "metadata": {
    "tags": []
   },
   "outputs": [],
   "source": [
    "#Example first function in phyton: Create a function that tell you if a function is prime or not.\n",
    "\n",
    "\n",
    "import math\n",
    "\n",
    "def primo(number):\n",
    "    # Given a number, we need to verify if it is prime or bot.\n",
    "    is_prime = True #we suppose that the number is prime.\n",
    "    \n",
    "    divisor = 2 #We start the división from 2.\n",
    "    \n",
    "    if(number == 2):\n",
    "        return is_prime\n",
    "    \n",
    "    while divisor <= math.sqrt(number) and is_prime:\n",
    "        coefficient = number//divisor #Inner division.\n",
    "        if coefficient * divisor == number:\n",
    "            is_prime = False #No es primo\n",
    "        else:\n",
    "            divisor = divisor + 1 # We are goin to be still looking for a number.\n",
    "    \n",
    "    return(is_prime)\n",
    "    \n",
    "    \n",
    "    \n",
    "    \n"
   ]
  },
  {
   "cell_type": "code",
   "execution_count": 11,
   "id": "c59a7de6-6932-43de-9576-2b3f15354190",
   "metadata": {
    "tags": []
   },
   "outputs": [
    {
     "data": {
      "text/plain": [
       "True"
      ]
     },
     "execution_count": 11,
     "metadata": {},
     "output_type": "execute_result"
    }
   ],
   "source": []
  },
  {
   "cell_type": "code",
   "execution_count": null,
   "id": "9338bacb-6864-47ce-b4df-e3960e5f6dfb",
   "metadata": {},
   "outputs": [],
   "source": []
  },
  {
   "cell_type": "code",
   "execution_count": null,
   "id": "488c40e6-9d88-465c-99f5-e22a3a4bf444",
   "metadata": {},
   "outputs": [],
   "source": [
    "\n",
    "\n",
    "\n"
   ]
  }
 ],
 "metadata": {
  "kernelspec": {
   "display_name": "Python 3 (ipykernel)",
   "language": "python",
   "name": "python3"
  },
  "language_info": {
   "codemirror_mode": {
    "name": "ipython",
    "version": 3
   },
   "file_extension": ".py",
   "mimetype": "text/x-python",
   "name": "python",
   "nbconvert_exporter": "python",
   "pygments_lexer": "ipython3",
   "version": "3.10.9"
  }
 },
 "nbformat": 4,
 "nbformat_minor": 5
}
