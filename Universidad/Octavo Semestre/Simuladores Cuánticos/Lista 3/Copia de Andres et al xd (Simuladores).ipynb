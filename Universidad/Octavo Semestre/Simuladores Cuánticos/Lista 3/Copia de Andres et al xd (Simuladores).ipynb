{
 "cells": [
  {
   "cell_type": "code",
   "execution_count": 2,
   "metadata": {
    "executionInfo": {
     "elapsed": 637,
     "status": "ok",
     "timestamp": 1702248979578,
     "user": {
      "displayName": "LUIS ANGEL LOPEZ CUSI",
      "userId": "13498886025020850832"
     },
     "user_tz": 300
    },
    "id": "pVohE4KMW-ms"
   },
   "outputs": [],
   "source": [
    "import numpy as np\n",
    "import matplotlib.pyplot as plt\n",
    "import cmath"
   ]
  },
  {
   "cell_type": "markdown",
   "metadata": {
    "id": "7i0TAI8CWyW0"
   },
   "source": [
    "#1)"
   ]
  },
  {
   "cell_type": "code",
   "execution_count": 2,
   "metadata": {
    "executionInfo": {
     "elapsed": 24,
     "status": "ok",
     "timestamp": 1702248979578,
     "user": {
      "displayName": "LUIS ANGEL LOPEZ CUSI",
      "userId": "13498886025020850832"
     },
     "user_tz": 300
    },
    "id": "bEl_ZQ0UDKpL"
   },
   "outputs": [],
   "source": []
  },
  {
   "cell_type": "markdown",
   "metadata": {
    "id": "XDaYaQTcW5PW"
   },
   "source": [
    "##b)"
   ]
  },
  {
   "cell_type": "code",
   "execution_count": 3,
   "metadata": {
    "executionInfo": {
     "elapsed": 23,
     "status": "ok",
     "timestamp": 1702248979578,
     "user": {
      "displayName": "LUIS ANGEL LOPEZ CUSI",
      "userId": "13498886025020850832"
     },
     "user_tz": 300
    },
    "id": "tOwqYSKcXUSC"
   },
   "outputs": [],
   "source": [
    "I = np.identity(4)\n",
    "O = np.zeros((4, 4))\n",
    "y = np.array([1, 0, 0, 0])\n",
    "x = np.transpose(y)\n",
    "o = np.zeros((1, 4))"
   ]
  },
  {
   "cell_type": "code",
   "execution_count": 3,
   "metadata": {
    "executionInfo": {
     "elapsed": 22,
     "status": "ok",
     "timestamp": 1702248979579,
     "user": {
      "displayName": "LUIS ANGEL LOPEZ CUSI",
      "userId": "13498886025020850832"
     },
     "user_tz": 300
    },
    "id": "b5cLK2XE14Ot"
   },
   "outputs": [],
   "source": []
  },
  {
   "cell_type": "code",
   "execution_count": 4,
   "metadata": {
    "colab": {
     "base_uri": "https://localhost:8080/"
    },
    "executionInfo": {
     "elapsed": 20,
     "status": "ok",
     "timestamp": 1702248979579,
     "user": {
      "displayName": "LUIS ANGEL LOPEZ CUSI",
      "userId": "13498886025020850832"
     },
     "user_tz": 300
    },
    "id": "pkxzxmUvcQsf",
    "outputId": "49b50f11-db27-4cd1-85d2-1b83a6d9ad56"
   },
   "outputs": [
    {
     "name": "stderr",
     "output_type": "stream",
     "text": [
      "<ipython-input-4-96e0c5045c4c>:1: VisibleDeprecationWarning: Creating an ndarray from ragged nested sequences (which is a list-or-tuple of lists-or-tuples-or ndarrays with different lengths or shapes) is deprecated. If you meant to do this, you must specify 'dtype=object' when creating the ndarray.\n",
      "  A = np.array([\n"
     ]
    }
   ],
   "source": [
    "A = np.array([\n",
    "    [x, I, I, y],\n",
    "    [x, I, I, y],\n",
    "    [o, I, O, y]\n",
    "])"
   ]
  },
  {
   "cell_type": "code",
   "execution_count": 5,
   "metadata": {
    "executionInfo": {
     "elapsed": 15,
     "status": "ok",
     "timestamp": 1702248979579,
     "user": {
      "displayName": "LUIS ANGEL LOPEZ CUSI",
      "userId": "13498886025020850832"
     },
     "user_tz": 300
    },
    "id": "0JXToYwtfmE5"
   },
   "outputs": [],
   "source": [
    "c1= np.dot(np.dot(np.dot(A[0,0], A[2,1]), A[1,2]), A[0,3])\n",
    "c2= np.dot(np.dot(np.dot(A[1,0], A[2,1]), A[0,2]), A[0,3])\n",
    "c3= np.dot(np.dot(np.dot(A[0,0], A[1,1]), A[0,2]), A[2,3])\n",
    "c4= np.dot(np.dot(np.dot(A[1,0], A[0,1]), A[0,2]), A[1,3])"
   ]
  },
  {
   "cell_type": "markdown",
   "metadata": {
    "id": "n4j5QlbEiOAY"
   },
   "source": [
    "##c)"
   ]
  },
  {
   "cell_type": "code",
   "execution_count": 6,
   "metadata": {
    "colab": {
     "base_uri": "https://localhost:8080/"
    },
    "executionInfo": {
     "elapsed": 15,
     "status": "ok",
     "timestamp": 1702248979580,
     "user": {
      "displayName": "LUIS ANGEL LOPEZ CUSI",
      "userId": "13498886025020850832"
     },
     "user_tz": 300
    },
    "id": "Lbg911lNiNLC",
    "outputId": "bc23e2d8-0102-4105-edef-15b13600d568"
   },
   "outputs": [
    {
     "data": {
      "text/plain": [
       "4.0"
      ]
     },
     "execution_count": 6,
     "metadata": {},
     "output_type": "execute_result"
    }
   ],
   "source": [
    "N= c1**2 + c2**2+ c3**2+ c4**2\n",
    "N"
   ]
  },
  {
   "cell_type": "markdown",
   "metadata": {
    "id": "tDKEQk1nipum"
   },
   "source": [
    "##d)"
   ]
  },
  {
   "cell_type": "code",
   "execution_count": 7,
   "metadata": {
    "executionInfo": {
     "elapsed": 13,
     "status": "ok",
     "timestamp": 1702248979580,
     "user": {
      "displayName": "LUIS ANGEL LOPEZ CUSI",
      "userId": "13498886025020850832"
     },
     "user_tz": 300
    },
    "id": "pwSSvYs5ipRK"
   },
   "outputs": [],
   "source": [
    "y_N= (1/np.sqrt(N))*y"
   ]
  },
  {
   "cell_type": "code",
   "execution_count": 8,
   "metadata": {
    "colab": {
     "base_uri": "https://localhost:8080/"
    },
    "executionInfo": {
     "elapsed": 12,
     "status": "ok",
     "timestamp": 1702248979580,
     "user": {
      "displayName": "LUIS ANGEL LOPEZ CUSI",
      "userId": "13498886025020850832"
     },
     "user_tz": 300
    },
    "id": "M8rmc67Miekj",
    "outputId": "f82ac949-8306-4ad3-a23d-816bf1961069"
   },
   "outputs": [
    {
     "name": "stderr",
     "output_type": "stream",
     "text": [
      "<ipython-input-8-09f55e306f6c>:1: VisibleDeprecationWarning: Creating an ndarray from ragged nested sequences (which is a list-or-tuple of lists-or-tuples-or ndarrays with different lengths or shapes) is deprecated. If you meant to do this, you must specify 'dtype=object' when creating the ndarray.\n",
      "  A_N = np.array([\n"
     ]
    }
   ],
   "source": [
    "A_N = np.array([\n",
    "    [x, I, I, y_N],\n",
    "    [x, I, I, y_N],\n",
    "    [o, I, O, y_N]\n",
    "])"
   ]
  },
  {
   "cell_type": "code",
   "execution_count": 9,
   "metadata": {
    "executionInfo": {
     "elapsed": 10,
     "status": "ok",
     "timestamp": 1702248979580,
     "user": {
      "displayName": "LUIS ANGEL LOPEZ CUSI",
      "userId": "13498886025020850832"
     },
     "user_tz": 300
    },
    "id": "afXbIcNjj3E9"
   },
   "outputs": [],
   "source": [
    "c1N= np.dot(np.dot(np.dot(A_N[0,0], A_N[2,1]), A_N[1,2]), A_N[0,3])\n",
    "c2N= np.dot(np.dot(np.dot(A_N[1,0], A_N[2,1]), A_N[0,2]), A_N[0,3])\n",
    "c3N= np.dot(np.dot(np.dot(A_N[0,0], A_N[1,1]), A_N[0,2]), A_N[2,3])\n",
    "c4N= np.dot(np.dot(np.dot(A_N[1,0], A_N[0,1]), A_N[0,2]), A_N[1,3])"
   ]
  },
  {
   "cell_type": "code",
   "execution_count": 10,
   "metadata": {
    "colab": {
     "base_uri": "https://localhost:8080/"
    },
    "executionInfo": {
     "elapsed": 10,
     "status": "ok",
     "timestamp": 1702248979581,
     "user": {
      "displayName": "LUIS ANGEL LOPEZ CUSI",
      "userId": "13498886025020850832"
     },
     "user_tz": 300
    },
    "id": "JkySe-pakQAC",
    "outputId": "d2e8274e-b25c-4b2d-bbc9-877cd88108be"
   },
   "outputs": [
    {
     "data": {
      "text/plain": [
       "1.0"
      ]
     },
     "execution_count": 10,
     "metadata": {},
     "output_type": "execute_result"
    }
   ],
   "source": [
    "N= c1N**2 + c2N**2+ c3N**2+ c4N**2\n",
    "N"
   ]
  }
 ],
 "metadata": {
  "colab": {
   "provenance": [
    {
     "file_id": "1brn2CBLjWfMnK0nTAL4vwt9VhqdfDkwq",
     "timestamp": 1702162000702
    },
    {
     "file_id": "1fhIh4uqIoPM4f03TyVA400Pk2Quqan7R",
     "timestamp": 1702156303182
    },
    {
     "file_id": "1LipzB9of7q3fDsRF6YaIJjMCPrWTYpGe",
     "timestamp": 1697950930072
    }
   ]
  },
  "kernelspec": {
   "display_name": "Python 3 (ipykernel)",
   "language": "python",
   "name": "python3"
  },
  "language_info": {
   "codemirror_mode": {
    "name": "ipython",
    "version": 3
   },
   "file_extension": ".py",
   "mimetype": "text/x-python",
   "name": "python",
   "nbconvert_exporter": "python",
   "pygments_lexer": "ipython3",
   "version": "3.10.9"
  }
 },
 "nbformat": 4,
 "nbformat_minor": 4
}
