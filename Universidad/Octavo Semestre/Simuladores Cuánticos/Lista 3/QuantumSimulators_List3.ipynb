{
 "cells": [
  {
   "cell_type": "code",
   "execution_count": 16,
   "metadata": {
    "id": "Hayc5n42vJW7"
   },
   "outputs": [],
   "source": [
    "import numpy as np\n",
    "import matplotlib.pyplot as plt\n",
    "import cmath"
   ]
  },
  {
   "cell_type": "code",
   "execution_count": 17,
   "metadata": {
    "colab": {
     "base_uri": "https://localhost:8080/"
    },
    "id": "CgEPmnvLvf7K",
    "outputId": "978332e8-906c-4e32-fae4-a322e47076a8"
   },
   "outputs": [
    {
     "name": "stderr",
     "output_type": "stream",
     "text": [
      "<ipython-input-17-25040e46b183>:8: VisibleDeprecationWarning: Creating an ndarray from ragged nested sequences (which is a list-or-tuple of lists-or-tuples-or ndarrays with different lengths or shapes) is deprecated. If you meant to do this, you must specify 'dtype=object' when creating the ndarray.\n",
      "  A = np.array([\n"
     ]
    }
   ],
   "source": [
    "I = np.identity(4) # Identity matrix\n",
    "O_matrix = np.zeros((4, 4)) # Cero matrix\n",
    "o_vector = np.zeros((1, 4)) # Cero vector\n",
    "v = np.array([1, 0, 0, 0]) # Unitary vector v\n",
    "u = np.transpose(v) # Transpose of v\n",
    "\n",
    "# Definition of state matrix\n",
    "A = np.array([\n",
    "    [u, I, I, v],\n",
    "    [u, I, I, o_vector],\n",
    "    [u, O_matrix, I, o_vector]\n",
    "])"
   ]
  },
  {
   "cell_type": "code",
   "execution_count": 18,
   "metadata": {
    "colab": {
     "base_uri": "https://localhost:8080/"
    },
    "id": "f4Ms8Eepv_Oj",
    "outputId": "66d03775-cdcd-42a5-9998-3285a2336605"
   },
   "outputs": [
    {
     "name": "stdout",
     "output_type": "stream",
     "text": [
      "The coefficients C2000, C1100, C0020, C1110 are, respectively: 1.0, 1.0, 1.0, 1.0\n"
     ]
    }
   ],
   "source": [
    "# Coefficient calculations\n",
    "\n",
    "C2000= np.dot(np.dot(np.dot(A[2,0], A[0,1]), A[0,2]), A[0,3])\n",
    "C1100= np.dot(np.dot(np.dot(A[1,0], A[1,1]), A[0,2]), A[0,3])\n",
    "C0020= np.dot(np.dot(np.dot(A[0,0], A[0,1]), A[2,2]), A[0,3])\n",
    "C1110= np.dot(np.dot(np.dot(A[1,0], A[1,1]), A[1,2]), A[0,3])\n",
    "\n",
    "print(\"The coefficients C2000, C1100, C0020, C1110 are, respectively: \" + str(C2000) + \", \" + str(C1100) + \", \" + str(C0020) + \", \" + str(C1110))"
   ]
  },
  {
   "cell_type": "code",
   "execution_count": 19,
   "metadata": {
    "colab": {
     "base_uri": "https://localhost:8080/"
    },
    "id": "pYbVck-CxgSD",
    "outputId": "c1cbbcce-7e25-46de-8592-07054b3f9cd1"
   },
   "outputs": [
    {
     "name": "stdout",
     "output_type": "stream",
     "text": [
      "The norm of the state is 2.0\n"
     ]
    }
   ],
   "source": [
    "# The norm is given by the square root of the square coefficient sum:\n",
    "\n",
    "Norm = np.sqrt(C2000**2+C1100**2+C0020**2+C1110**2)\n",
    "print(\"The norm of the state is \" + str(Norm))"
   ]
  },
  {
   "cell_type": "code",
   "execution_count": 20,
   "metadata": {
    "colab": {
     "base_uri": "https://localhost:8080/"
    },
    "id": "SOcZNNHJ49BV",
    "outputId": "e146de72-a8f6-4901-f79f-62a5ad54c8ae"
   },
   "outputs": [
    {
     "name": "stdout",
     "output_type": "stream",
     "text": [
      "The new coefficients C2000, C1100, C0020, C1110 are, respectively: 0.4999999999999999, 0.4999999999999999, 0.4999999999999999, 0.4999999999999999 and the new norm is 0.9999999999999998\n"
     ]
    },
    {
     "name": "stderr",
     "output_type": "stream",
     "text": [
      "<ipython-input-20-69ae47bdb375>:6: VisibleDeprecationWarning: Creating an ndarray from ragged nested sequences (which is a list-or-tuple of lists-or-tuples-or ndarrays with different lengths or shapes) is deprecated. If you meant to do this, you must specify 'dtype=object' when creating the ndarray.\n",
      "  A = np.array([\n"
     ]
    }
   ],
   "source": [
    "# Normalizing the state:\n",
    "v = (1/np.sqrt(Norm))*v\n",
    "u = np.transpose(v)\n",
    "\n",
    "# Definition of new state matrix\n",
    "A = np.array([\n",
    "    [u, I, I, v],\n",
    "    [u, I, I, o_vector],\n",
    "    [u, O_matrix, I, o_vector]\n",
    "])\n",
    "\n",
    "# Coefficient calculations\n",
    "\n",
    "C2000= np.dot(np.dot(np.dot(A[2,0], A[0,1]), A[0,2]), A[0,3])\n",
    "C1100= np.dot(np.dot(np.dot(A[1,0], A[1,1]), A[0,2]), A[0,3])\n",
    "C0020= np.dot(np.dot(np.dot(A[0,0], A[0,1]), A[2,2]), A[0,3])\n",
    "C1110= np.dot(np.dot(np.dot(A[1,0], A[1,1]), A[1,2]), A[0,3])\n",
    "\n",
    "Norm = np.sqrt(C2000**2+C1100**2+C0020**2+C1110**2)\n",
    "\n",
    "print(\"The new coefficients C2000, C1100, C0020, C1110 are, respectively: \" + str(C2000) + \", \" + str(C1100) + \", \" + str(C0020) + \", \" + str(C1110) + \" and the new norm is \" + str(Norm))"
   ]
  }
 ],
 "metadata": {
  "colab": {
   "provenance": []
  },
  "kernelspec": {
   "display_name": "Python 3 (ipykernel)",
   "language": "python",
   "name": "python3"
  },
  "language_info": {
   "codemirror_mode": {
    "name": "ipython",
    "version": 3
   },
   "file_extension": ".py",
   "mimetype": "text/x-python",
   "name": "python",
   "nbconvert_exporter": "python",
   "pygments_lexer": "ipython3",
   "version": "3.10.9"
  }
 },
 "nbformat": 4,
 "nbformat_minor": 4
}
