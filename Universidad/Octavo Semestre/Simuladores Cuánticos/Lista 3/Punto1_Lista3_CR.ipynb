{
 "cells": [
  {
   "cell_type": "markdown",
   "id": "8b7ce579-3e74-4902-87d1-6fe52541f6f7",
   "metadata": {},
   "source": [
    "# Parte b) Punto 1"
   ]
  },
  {
   "cell_type": "code",
   "execution_count": 1,
   "id": "14de66e7-cc4c-4d16-8787-87dd00a87333",
   "metadata": {
    "tags": []
   },
   "outputs": [],
   "source": [
    "import numpy as np\n",
    "import matplotlib.pyplot as plt\n",
    "import cmath"
   ]
  },
  {
   "cell_type": "markdown",
   "id": "bbce575f-182f-4996-9a3e-62172e7a150f",
   "metadata": {},
   "source": [
    "El estado que se ha definido es de la forma:\n",
    "\n"
   ]
  },
  {
   "cell_type": "code",
   "execution_count": null,
   "id": "9ea12e8c-2278-4743-a7e5-0e2bb26b17fd",
   "metadata": {},
   "outputs": [],
   "source": []
  },
  {
   "cell_type": "code",
   "execution_count": null,
   "id": "5f83e44e-8f06-4059-9d4a-733168822ea6",
   "metadata": {},
   "outputs": [],
   "source": []
  }
 ],
 "metadata": {
  "kernelspec": {
   "display_name": "Python 3 (ipykernel)",
   "language": "python",
   "name": "python3"
  },
  "language_info": {
   "codemirror_mode": {
    "name": "ipython",
    "version": 3
   },
   "file_extension": ".py",
   "mimetype": "text/x-python",
   "name": "python",
   "nbconvert_exporter": "python",
   "pygments_lexer": "ipython3",
   "version": "3.10.9"
  }
 },
 "nbformat": 4,
 "nbformat_minor": 5
}
