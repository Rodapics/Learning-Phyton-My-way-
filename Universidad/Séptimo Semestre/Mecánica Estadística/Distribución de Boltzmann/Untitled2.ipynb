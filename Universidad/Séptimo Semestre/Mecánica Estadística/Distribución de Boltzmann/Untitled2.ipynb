{
 "cells": [
  {
   "cell_type": "code",
   "execution_count": 1,
   "id": "b242d667-5eb0-456b-af0c-ccc14ac26f2b",
   "metadata": {},
   "outputs": [
    {
     "ename": "ValueError",
     "evalue": "cannot reshape array of size 1000 into shape (40,40)",
     "output_type": "error",
     "traceback": [
      "\u001b[1;31m---------------------------------------------------------------------------\u001b[0m",
      "\u001b[1;31mValueError\u001b[0m                                Traceback (most recent call last)",
      "Cell \u001b[1;32mIn[1], line 31\u001b[0m\n\u001b[0;32m     29\u001b[0m \u001b[38;5;66;03m# Graficar el diagrama de fases\u001b[39;00m\n\u001b[0;32m     30\u001b[0m plt\u001b[38;5;241m.\u001b[39mfigure(figsize\u001b[38;5;241m=\u001b[39m(\u001b[38;5;241m8\u001b[39m, \u001b[38;5;241m6\u001b[39m))\n\u001b[1;32m---> 31\u001b[0m plt\u001b[38;5;241m.\u001b[39mstreamplot(X0, Y0, \u001b[43msolucion\u001b[49m\u001b[43m[\u001b[49m\u001b[43m:\u001b[49m\u001b[43m,\u001b[49m\u001b[43m \u001b[49m\u001b[38;5;241;43m0\u001b[39;49m\u001b[43m]\u001b[49m\u001b[38;5;241;43m.\u001b[39;49m\u001b[43mreshape\u001b[49m\u001b[43m(\u001b[49m\u001b[38;5;241;43m40\u001b[39;49m\u001b[43m,\u001b[49m\u001b[43m \u001b[49m\u001b[38;5;241;43m40\u001b[39;49m\u001b[43m)\u001b[49m, solucion[:, \u001b[38;5;241m1\u001b[39m]\u001b[38;5;241m.\u001b[39mreshape(\u001b[38;5;241m40\u001b[39m, \u001b[38;5;241m40\u001b[39m), density\u001b[38;5;241m=\u001b[39m\u001b[38;5;241m1\u001b[39m, linewidth\u001b[38;5;241m=\u001b[39m\u001b[38;5;241m1\u001b[39m, cmap\u001b[38;5;241m=\u001b[39m\u001b[38;5;124m'\u001b[39m\u001b[38;5;124mcoolwarm\u001b[39m\u001b[38;5;124m'\u001b[39m, arrowstyle\u001b[38;5;241m=\u001b[39m\u001b[38;5;124m'\u001b[39m\u001b[38;5;124m->\u001b[39m\u001b[38;5;124m'\u001b[39m, arrowsize\u001b[38;5;241m=\u001b[39m\u001b[38;5;241m1.5\u001b[39m)\n\u001b[0;32m     32\u001b[0m plt\u001b[38;5;241m.\u001b[39mxlabel(\u001b[38;5;124m'\u001b[39m\u001b[38;5;124mPosición x\u001b[39m\u001b[38;5;124m'\u001b[39m)\n\u001b[0;32m     33\u001b[0m plt\u001b[38;5;241m.\u001b[39mylabel(\u001b[38;5;124m'\u001b[39m\u001b[38;5;124mVelocidad dx/dt\u001b[39m\u001b[38;5;124m'\u001b[39m)\n",
      "\u001b[1;31mValueError\u001b[0m: cannot reshape array of size 1000 into shape (40,40)"
     ]
    },
    {
     "data": {
      "text/plain": [
       "<Figure size 800x600 with 0 Axes>"
      ]
     },
     "metadata": {},
     "output_type": "display_data"
    }
   ],
   "source": [
    "import numpy as np\n",
    "from scipy.integrate import odeint\n",
    "import matplotlib.pyplot as plt\n",
    "\n",
    "# Definir la ecuación de movimiento\n",
    "def movimiento(X, t, A, B, m):\n",
    "    x, v = X\n",
    "    dxdt = v\n",
    "    dvdt = -(2*A*x + 4*B*x**3) / m\n",
    "    return [dxdt, dvdt]\n",
    "\n",
    "# Parámetros del problema\n",
    "A = 1\n",
    "B = 1\n",
    "m = 1\n",
    "\n",
    "# Condiciones iniciales para x y dx/dt\n",
    "x0 = np.linspace(-2, 2, 40)\n",
    "v0 = np.linspace(-2, 2, 40)\n",
    "\n",
    "# Crear una malla de condiciones iniciales\n",
    "X0, Y0 = np.meshgrid(x0, v0)\n",
    "condiciones_iniciales = np.array([X0, Y0]).reshape(2, -1).T\n",
    "\n",
    "# Resolver la ecuación de movimiento para todas las condiciones iniciales\n",
    "t = np.linspace(0, 10, 1000)\n",
    "solucion = odeint(movimiento, condiciones_iniciales[0], t, args=(A, B, m))\n",
    "\n",
    "# Graficar el diagrama de fases\n",
    "plt.figure(figsize=(8, 6))\n",
    "plt.streamplot(X0, Y0, solucion[:, 0].reshape(40, 40), solucion[:, 1].reshape(40, 40), density=1, linewidth=1, cmap='coolwarm', arrowstyle='->', arrowsize=1.5)\n",
    "plt.xlabel('Posición x')\n",
    "plt.ylabel('Velocidad dx/dt')\n",
    "plt.title('Diagrama de fases')\n",
    "plt.show()\n"
   ]
  },
  {
   "cell_type": "code",
   "execution_count": 2,
   "id": "74eed1e1-dc77-49b9-bdc1-33b70b4958c6",
   "metadata": {},
   "outputs": [
    {
     "ename": "ValueError",
     "evalue": "cannot reshape array of size 1000 into shape (20,20)",
     "output_type": "error",
     "traceback": [
      "\u001b[1;31m---------------------------------------------------------------------------\u001b[0m",
      "\u001b[1;31mValueError\u001b[0m                                Traceback (most recent call last)",
      "Cell \u001b[1;32mIn[2], line 31\u001b[0m\n\u001b[0;32m     29\u001b[0m \u001b[38;5;66;03m# Graficar el diagrama de fases\u001b[39;00m\n\u001b[0;32m     30\u001b[0m plt\u001b[38;5;241m.\u001b[39mfigure(figsize\u001b[38;5;241m=\u001b[39m(\u001b[38;5;241m8\u001b[39m, \u001b[38;5;241m6\u001b[39m))\n\u001b[1;32m---> 31\u001b[0m plt\u001b[38;5;241m.\u001b[39mstreamplot(X0, Y0, \u001b[43msolucion\u001b[49m\u001b[43m[\u001b[49m\u001b[43m:\u001b[49m\u001b[43m,\u001b[49m\u001b[43m \u001b[49m\u001b[38;5;241;43m0\u001b[39;49m\u001b[43m]\u001b[49m\u001b[38;5;241;43m.\u001b[39;49m\u001b[43mreshape\u001b[49m\u001b[43m(\u001b[49m\u001b[38;5;241;43m20\u001b[39;49m\u001b[43m,\u001b[49m\u001b[43m \u001b[49m\u001b[38;5;241;43m20\u001b[39;49m\u001b[43m)\u001b[49m, solucion[:, \u001b[38;5;241m1\u001b[39m]\u001b[38;5;241m.\u001b[39mreshape(\u001b[38;5;241m20\u001b[39m, \u001b[38;5;241m20\u001b[39m), density\u001b[38;5;241m=\u001b[39m\u001b[38;5;241m1\u001b[39m, linewidth\u001b[38;5;241m=\u001b[39m\u001b[38;5;241m1\u001b[39m, cmap\u001b[38;5;241m=\u001b[39m\u001b[38;5;124m'\u001b[39m\u001b[38;5;124mcoolwarm\u001b[39m\u001b[38;5;124m'\u001b[39m, arrowstyle\u001b[38;5;241m=\u001b[39m\u001b[38;5;124m'\u001b[39m\u001b[38;5;124m->\u001b[39m\u001b[38;5;124m'\u001b[39m, arrowsize\u001b[38;5;241m=\u001b[39m\u001b[38;5;241m1.5\u001b[39m)\n\u001b[0;32m     32\u001b[0m plt\u001b[38;5;241m.\u001b[39mxlabel(\u001b[38;5;124m'\u001b[39m\u001b[38;5;124mPosición x\u001b[39m\u001b[38;5;124m'\u001b[39m)\n\u001b[0;32m     33\u001b[0m plt\u001b[38;5;241m.\u001b[39mylabel(\u001b[38;5;124m'\u001b[39m\u001b[38;5;124mVelocidad dx/dt\u001b[39m\u001b[38;5;124m'\u001b[39m)\n",
      "\u001b[1;31mValueError\u001b[0m: cannot reshape array of size 1000 into shape (20,20)"
     ]
    },
    {
     "data": {
      "text/plain": [
       "<Figure size 800x600 with 0 Axes>"
      ]
     },
     "metadata": {},
     "output_type": "display_data"
    }
   ],
   "source": [
    "import numpy as np\n",
    "from scipy.integrate import odeint\n",
    "import matplotlib.pyplot as plt\n",
    "\n",
    "# Definir la ecuación de movimiento\n",
    "def movimiento(X, t, A, B, m):\n",
    "    x, v = X\n",
    "    dxdt = v\n",
    "    dvdt = -(2*A*x + 4*B*x**3) / m\n",
    "    return [dxdt, dvdt]\n",
    "\n",
    "# Parámetros del problema\n",
    "A = 1\n",
    "B = 1\n",
    "m = 1\n",
    "\n",
    "# Condiciones iniciales para x y dx/dt\n",
    "x0 = np.linspace(-2, 2, 20)\n",
    "v0 = np.linspace(-2, 2, 20)\n",
    "\n",
    "# Crear una malla de condiciones iniciales\n",
    "X0, Y0 = np.meshgrid(x0, v0)\n",
    "condiciones_iniciales = np.array([X0, Y0]).reshape(2, -1).T\n",
    "\n",
    "# Resolver la ecuación de movimiento para todas las condiciones iniciales\n",
    "t = np.linspace(0, 10, 1000)\n",
    "solucion = odeint(movimiento, condiciones_iniciales[0], t, args=(A, B, m))\n",
    "\n",
    "# Graficar el diagrama de fases\n",
    "plt.figure(figsize=(8, 6))\n",
    "plt.streamplot(X0, Y0, solucion[:, 0].reshape(20, 20), solucion[:, 1].reshape(20, 20), density=1, linewidth=1, cmap='coolwarm', arrowstyle='->', arrowsize=1.5)\n",
    "plt.xlabel('Posición x')\n",
    "plt.ylabel('Velocidad dx/dt')\n",
    "plt.title('Diagrama de fases')\n",
    "plt.show()\n"
   ]
  },
  {
   "cell_type": "code",
   "execution_count": 3,
   "id": "b87a8bdd-da6b-4d8d-8f92-8b28272a172f",
   "metadata": {},
   "outputs": [
    {
     "ename": "ValueError",
     "evalue": "cannot reshape array of size 1000 into shape (20,20)",
     "output_type": "error",
     "traceback": [
      "\u001b[1;31m---------------------------------------------------------------------------\u001b[0m",
      "\u001b[1;31mValueError\u001b[0m                                Traceback (most recent call last)",
      "Cell \u001b[1;32mIn[3], line 31\u001b[0m\n\u001b[0;32m     29\u001b[0m \u001b[38;5;66;03m# Graficar el diagrama de fases\u001b[39;00m\n\u001b[0;32m     30\u001b[0m plt\u001b[38;5;241m.\u001b[39mfigure(figsize\u001b[38;5;241m=\u001b[39m(\u001b[38;5;241m8\u001b[39m, \u001b[38;5;241m6\u001b[39m))\n\u001b[1;32m---> 31\u001b[0m plt\u001b[38;5;241m.\u001b[39mstreamplot(X0, Y0, \u001b[43msolucion\u001b[49m\u001b[43m[\u001b[49m\u001b[43m:\u001b[49m\u001b[43m,\u001b[49m\u001b[43m \u001b[49m\u001b[38;5;241;43m0\u001b[39;49m\u001b[43m]\u001b[49m\u001b[38;5;241;43m.\u001b[39;49m\u001b[43mreshape\u001b[49m\u001b[43m(\u001b[49m\u001b[38;5;241;43m20\u001b[39;49m\u001b[43m,\u001b[49m\u001b[43m \u001b[49m\u001b[38;5;241;43m20\u001b[39;49m\u001b[43m)\u001b[49m, solucion[:, \u001b[38;5;241m1\u001b[39m]\u001b[38;5;241m.\u001b[39mreshape(\u001b[38;5;241m20\u001b[39m, \u001b[38;5;241m20\u001b[39m), density\u001b[38;5;241m=\u001b[39m\u001b[38;5;241m1\u001b[39m, linewidth\u001b[38;5;241m=\u001b[39m\u001b[38;5;241m1\u001b[39m, cmap\u001b[38;5;241m=\u001b[39m\u001b[38;5;124m'\u001b[39m\u001b[38;5;124mcoolwarm\u001b[39m\u001b[38;5;124m'\u001b[39m, arrowstyle\u001b[38;5;241m=\u001b[39m\u001b[38;5;124m'\u001b[39m\u001b[38;5;124m->\u001b[39m\u001b[38;5;124m'\u001b[39m, arrowsize\u001b[38;5;241m=\u001b[39m\u001b[38;5;241m1.5\u001b[39m)\n\u001b[0;32m     32\u001b[0m plt\u001b[38;5;241m.\u001b[39mxlabel(\u001b[38;5;124m'\u001b[39m\u001b[38;5;124mPosición x\u001b[39m\u001b[38;5;124m'\u001b[39m)\n\u001b[0;32m     33\u001b[0m plt\u001b[38;5;241m.\u001b[39mylabel(\u001b[38;5;124m'\u001b[39m\u001b[38;5;124mVelocidad dx/dt\u001b[39m\u001b[38;5;124m'\u001b[39m)\n",
      "\u001b[1;31mValueError\u001b[0m: cannot reshape array of size 1000 into shape (20,20)"
     ]
    },
    {
     "data": {
      "text/plain": [
       "<Figure size 800x600 with 0 Axes>"
      ]
     },
     "metadata": {},
     "output_type": "display_data"
    }
   ],
   "source": [
    "import numpy as np\n",
    "from scipy.integrate import odeint\n",
    "import matplotlib.pyplot as plt\n",
    "\n",
    "# Definir la ecuación de movimiento\n",
    "def movimiento(X, t, A, B, m):\n",
    "    x, v = X\n",
    "    dxdt = v\n",
    "    dvdt = -(2*A*x + 4*B*x**3) / m\n",
    "    return [dxdt, dvdt]\n",
    "\n",
    "# Parámetros del problema\n",
    "A = 1\n",
    "B = 1\n",
    "m = 1\n",
    "\n",
    "# Condiciones iniciales para x y dx/dt\n",
    "x0 = np.linspace(-2, 2, 20)\n",
    "v0 = np.linspace(-2, 2, 20)\n",
    "\n",
    "# Crear una malla de condiciones iniciales\n",
    "X0, Y0 = np.meshgrid(x0, v0)\n",
    "condiciones_iniciales = np.array([X0, Y0]).reshape(2, -1).T\n",
    "\n",
    "# Resolver la ecuación de movimiento para todas las condiciones iniciales\n",
    "t = np.linspace(0, 10, 1000)\n",
    "solucion = odeint(movimiento, condiciones_iniciales[0], t, args=(A, B, m))\n",
    "\n",
    "# Graficar el diagrama de fases\n",
    "plt.figure(figsize=(8, 6))\n",
    "plt.streamplot(X0, Y0, solucion[:, 0].reshape(20, 20), solucion[:, 1].reshape(20, 20), density=1, linewidth=1, cmap='coolwarm', arrowstyle='->', arrowsize=1.5)\n",
    "plt.xlabel('Posición x')\n",
    "plt.ylabel('Velocidad dx/dt')\n",
    "plt.title('Diagrama de fases')\n",
    "plt.show()\n"
   ]
  }
 ],
 "metadata": {
  "kernelspec": {
   "display_name": "Python 3 (ipykernel)",
   "language": "python",
   "name": "python3"
  },
  "language_info": {
   "codemirror_mode": {
    "name": "ipython",
    "version": 3
   },
   "file_extension": ".py",
   "mimetype": "text/x-python",
   "name": "python",
   "nbconvert_exporter": "python",
   "pygments_lexer": "ipython3",
   "version": "3.10.9"
  }
 },
 "nbformat": 4,
 "nbformat_minor": 5
}
