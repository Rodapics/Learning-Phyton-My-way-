{
 "cells": [
  {
   "cell_type": "markdown",
   "id": "79f4151d-aa0c-4ae7-941c-37a481d54f05",
   "metadata": {},
   "source": [
    "<center>\n",
    "\n",
    "<img src=\"https://lh3.googleusercontent.com/fife/AK0iWDyCBTIe52ljg41cDZuw7T-gNxpIRxisybxcF0ThtSUDxPsvOPCPlfOPFos0sXU4Zndvoy31Qi7xy8HBtJLUUV9NXsBMtnrbHI6OqU73-zwc1dDpIVRpwJgmiZ-hvWtTwkhlsnWnSz-U-9j-VH-ILcJjPmlNi1LLG8k-9lfCqFrde07iUf6t1I4GoNgzhL_4n3qGwjuh6nGb0GCKZmO8_gDtUTadWv-0qMfvyU2YzneLEz00p7RNMpF0YEnYJKJveVTU2DUEZoYXETHKcAIbQ28IEEhXbuk3kY9GWjLfiKqjRQZTzrrq_G94zL9n046Z-ZJHak-BEy9s9dyYl_AmcYQf-pKswu2Zb4zwwWiIFUyQ2Wh75TowvpoSG9gg9jfreRhV1mOYBbuCGrVvg1yScwfJfUs9FoKSvo_0utbDfxxGgC3HaMTJ3Ndqjayw8TzpuyqZhg6UDaBMuiFHkEueNT43n7BhRwNlusO_rsxK1Pj0KApneil-Xd5rBTeHITy0YWY36C0K-F7KkJWHnWpgI8VKGjF6hzwtzy59YLiD8F7-slE4QG6cZRe8WbjogUAWDBUkaStkwLsOWAABDXyCq1M3h4CL2JpU9Uf7snqFbvcSXN4JXPb9Noo6MOq33cNv6QzkM5F2PDEIf-Oj7VrcwpT8D_gZusmHx3G_BDIEmy56F8nlCUQ3EHCnqMP1dm77DxdzBBt59LSWinDyyx9be1F3X7PnzTlbtnn4ePYVvFUIWkLoMyeJBEPzQMOuaD3TEndhIiAY7XvFUwwrIUovzogNCnNkZOrModb8FtN-UzxzZQ2a75kHsZBuWdNtEDqXTMZViNbYVx_RJAdowB_d3q61ksfcWFVgj-PY69VDHZTDISXDBBrS4-C1xprRQw6psYtLj9hmQKkk6cruvUH3W4AahOduq3XYSKHuhB1XMx9tWYV-dq8FHKxH3R1BMVfw0hHpNnz0K0LwWT8lIfP8_AQB8D2ek6OWbAEKtruh2zhlwFfnHQMTm-dSVgP13WHNHRD35nOAGPn6Bxc2axMsWN4ygEVX23-E69p3xc4X17UtCdlfHnQB8j7iOc5036_1Bl-XT8SwifuFb25uJIZos-AXYVxHnp0sPXS8DG46LHM3cJmAicd1bd6Iw001Tdv-ca5wkpXGX689R5TYcLhhJYK-rFBuWj1eedIskqtzMxMOzbfAi2HpmfSTqRj34bLv4WGirW8Vluk_AAdCWBGE1chWTE93aFe2NYGAGsAKGQbCIq6fWddWMd03hINpW5l1wjC2r_JiujthcxuvGroKk-_SGZz3xVw6kT-nCdtPxxzUh72eYqOm4bCEFf9IBIqOvC8GQSBh5kzkxA1B05UlYloSA1x3i0jgc4YlYIAyInR52T3fm7zoktTAMLqsWb7vOpRIAUVLJyskUv_tQeztac0Jy4EEAYtxOwR5QEwnbu7yCPRzYAdy-OlvQHcaK1UUL82qxqjmbISNFTbZYHPP2zJ50bRVOGXgsUEa5aKOX-uhvAVgDynUKRvhte8n9gZtLsrROOspyrcpRtwp68SSdQyW9dIyyyR318iyFATU7BB14w-0ycsbVlgdKFBXaSHZtbk5QaHC8vbS3kySlD5fyipQ0Ak-J7J8MlvVvmd_ytR6hH6MB_bZ3IUypfaLMarCgCqNWG3dFIgKE74d5iUu9pkPjRnM2wgBTdqOoHjmZBLm6eMUc9qwZEtx1exoPZw=s328-no?authuser=1\">\n",
    "    \n",
    "#  **Jumpy Hoop**\n",
    "    \n",
    "    Autores: Andres Bocanegra, Carlos Rodallega, Natalia Jimenez y Martin Montaño\n",
    "    Institución: Universidad del Valle\n",
    "    Correo: rodallega.carlos@correounivalle.edu.co     "
   ]
  },
  {
   "cell_type": "markdown",
   "id": "c47b7e50-5db7-4327-8eba-f718d8d66793",
   "metadata": {},
   "source": [
    "Todos los cálculos aquí presentados se encuentran inspirados en el modelo dado por  J. G. P. Berman en: **J. G. P. Berman and J. F. M. Izrailev, “The hopping hoop revisited,” The American Mathematical Monthly, vol. 106:7, pp. 609–617, 1999.**\n"
   ]
  },
  {
   "cell_type": "markdown",
   "id": "0bc9a64b-51f6-4ea1-a6d1-c318d5dcb17a",
   "metadata": {
    "tags": []
   },
   "source": [
    "## Librerias"
   ]
  },
  {
   "cell_type": "code",
   "execution_count": 52,
   "id": "afbbd9ae-6974-4459-97f6-8c333344273f",
   "metadata": {
    "tags": []
   },
   "outputs": [
    {
     "name": "stdout",
     "output_type": "stream",
     "text": [
      "done\n"
     ]
    }
   ],
   "source": [
    "import pandas as pd\n",
    "import numpy as np\n",
    "import matplotlib.pyplot as plt\n",
    "import matplotlib as mpl\n",
    "import sympy as smp\n",
    "from scipy.optimize import curve_fit\n",
    "import math\n",
    "from sympy import lambdify\n",
    "#Si presenta problemas al correr el programa, comente las siguientes lineas:\n",
    "plt.style.reload_library()\n",
    "plt.style.use(['science','notebook'])\n",
    "from itertools import combinations\n",
    "print('done')"
   ]
  },
  {
   "cell_type": "markdown",
   "id": "359f8ca0-7a88-4dd6-bdc9-8b99499dee1e",
   "metadata": {
    "tags": []
   },
   "source": [
    "# Enunciado del problema:\n",
    "Given enough angular momentum, a hoop with a mass attached to it may demonstrate a jumping motion when it is rolling. Explain the phenomenon and how it depends on the relevant parameters. Is it possible to reproduce this behavior with any unbalanced mass distribution on a wheel? What happens when one changes the profile of the ground? Can you add a mechanical contraption (that will not touch the ground) to the hoop to increase the maximal height of the jump?\n",
    "    \n",
    "\n",
    "\n"
   ]
  },
  {
   "cell_type": "markdown",
   "id": "6ec1468e-ccdc-4441-8b91-6c52bcea8583",
   "metadata": {
    "tags": []
   },
   "source": [
    "# <center> Cálculo Fuerza Normal $f_N(\\xi)$\n",
    "## Indice\n",
    "1. [Solucion](#1.-Solucion)\n",
    "2. [Solución para $\\lambda = 1$](#2.-Caso_Especial_1)\n",
    "3. [Solución para $\\lambda \\neq 1$](#3.-Caso_Especial_2)\n",
    "4. [Error Articulo](#Error)\n",
    "5. [Calculos Númericos](#Calculos)\n"
   ]
  },
  {
   "cell_type": "markdown",
   "id": "e84b1755-7852-4a30-bb56-d46ab1d16a4f",
   "metadata": {
    "tags": []
   },
   "source": [
    "##  1.-Solucion\n",
    "Recordando que la expresión que queremos hallar la expresión para la Fuerza Normal $f_N(\\xi)$ y la Fuerza de Fricción $f_f(\\xi)$, donde:\n",
    "\n",
    "$$cos(\\theta) = \\xi$$\n",
    "\n",
    "Sabemos que en el problema original, al realizar el análisis por Newton se obtiene:\n",
    "\n",
    "$$\n",
    "\\begin{aligned}\n",
    "& \\ddot{x}(t)=f(t) \\\\\n",
    "& \\ddot{y}(t)=n(t)-g\n",
    "\\end{aligned}\n",
    "$$\n",
    "\n",
    "Por otro lado, cuando realizamos el análisis de la energía mecánica del sistema llegamos a:\n",
    "\n",
    "$$\n",
    "\\frac{1}{2} M\\left(\\dot{x}^2+\\dot{y}^2\\right)+\\frac{1}{2} I \\dot{\\theta}^2+M g y=M\\left((1+\\lambda)\\left(\\frac{1}{4} v_0^2+g R\\right)+\\frac{1}{8} v_0^2 \\lambda \\epsilon\\right)\n",
    "$$\n",
    "\n",
    "Lo que permite despejar el termino de la derivada angular:\n",
    "$$\n",
    "\\dot{\\theta}(t)^2=\\frac{g}{R} \\frac{\\left((1+\\lambda+\\lambda \\epsilon / 2) c+2 \\lambda \\sin ^2(\\theta(t) / 2)\\right)}{1+\\lambda \\cos (\\theta(t))+\\lambda \\epsilon / 2}\n",
    "$$\n",
    "\n",
    "Con esta información, ya podemos hallar la fuerza normal, asi que definimos las variables necesarias a través de símbolos, donde se tratará de hallar la solución simbolica al problema."
   ]
  },
  {
   "cell_type": "markdown",
   "id": "ade188b2-8cd6-4003-bc4a-419bf30239d4",
   "metadata": {
    "jp-MarkdownHeadingCollapsed": true,
    "tags": []
   },
   "source": [
    "### Definición de Simbolos"
   ]
  },
  {
   "cell_type": "code",
   "execution_count": 2,
   "id": "6c9f6b71-9fd9-40f0-87ec-40d1178b7ece",
   "metadata": {},
   "outputs": [
    {
     "name": "stdout",
     "output_type": "stream",
     "text": [
      "Done\n"
     ]
    }
   ],
   "source": [
    "g = smp.symbols('g')\n",
    "R = smp.symbols('R')\n",
    "epsilon = smp.symbols('epsilon')\n",
    "lambda_1 = smp.symbols('lambda')\n",
    "V_0 = smp.symbols('V_0')\n",
    "theta = smp.symbols('theta')\n",
    "#c = V_0**2/(4*g*R)\n",
    "xi = smp.symbols('xi')\n",
    "c = smp.symbols('c')\n",
    "print('Done')"
   ]
  },
  {
   "cell_type": "markdown",
   "id": "6a41210d-607d-496a-bdbc-f11d2bbc0d4c",
   "metadata": {
    "jp-MarkdownHeadingCollapsed": true,
    "tags": []
   },
   "source": [
    "### Cálculo de la Fuerza Normal\n",
    "A continuación se presenta la solución de la fuerza normal de manera simbolica."
   ]
  },
  {
   "cell_type": "code",
   "execution_count": 3,
   "id": "26e4696b-d058-4159-bf7e-f45abb2a95bb",
   "metadata": {
    "tags": []
   },
   "outputs": [
    {
     "data": {
      "text/latex": [
       "$\\displaystyle - \\frac{2 g \\lambda \\left(c \\left(\\frac{\\epsilon \\lambda}{2} + \\lambda + 1\\right) + 2 \\lambda \\sin^{2}{\\left(\\frac{\\theta}{2} \\right)}\\right) \\cos{\\left(\\theta \\right)}}{\\epsilon \\lambda + 2 \\lambda \\cos{\\left(\\theta \\right)} + 2}$"
      ],
      "text/plain": [
       "-2*g*lambda*(c*(epsilon*lambda/2 + lambda + 1) + 2*lambda*sin(theta/2)**2)*cos(theta)/(epsilon*lambda + 2*lambda*cos(theta) + 2)"
      ]
     },
     "execution_count": 3,
     "metadata": {},
     "output_type": "execute_result"
    }
   ],
   "source": [
    "#Hacemos n(t) =g+a+b\n",
    "a =- 2*lambda_1*g*smp.cos(theta)*(((1 + lambda_1 + lambda_1*epsilon/2) * c + 2 * lambda_1* smp.sin(theta/2)**2 )/(2 + 2*lambda_1*smp.cos(theta) + 2*lambda_1*epsilon/2))\n",
    "a"
   ]
  },
  {
   "cell_type": "code",
   "execution_count": 4,
   "id": "30633ee9-8694-4d9a-82d3-1b571bc03273",
   "metadata": {},
   "outputs": [
    {
     "data": {
      "text/latex": [
       "$\\displaystyle - \\frac{2 g \\lambda^{2} \\left(\\left(c \\left(\\frac{\\epsilon \\lambda}{2} + \\lambda + 1\\right) + 2 \\lambda \\sin^{2}{\\left(\\frac{\\theta}{2} \\right)}\\right) \\sin^{2}{\\left(\\theta \\right)} + \\left(\\frac{\\epsilon \\lambda}{2} + \\lambda \\cos{\\left(\\theta \\right)} + 1\\right) \\sin^{2}{\\left(\\theta \\right)}\\right)}{\\left(\\epsilon \\lambda + 2 \\lambda \\cos{\\left(\\theta \\right)} + 2\\right)^{2}}$"
      ],
      "text/plain": [
       "-2*g*lambda**2*((c*(epsilon*lambda/2 + lambda + 1) + 2*lambda*sin(theta/2)**2)*sin(theta)**2 + (epsilon*lambda/2 + lambda*cos(theta) + 1)*sin(theta)**2)/(epsilon*lambda + 2*lambda*cos(theta) + 2)**2"
      ]
     },
     "execution_count": 4,
     "metadata": {},
     "output_type": "execute_result"
    }
   ],
   "source": [
    "b= - 4 * R*lambda_1*g*lambda_1/(2*R) * ((smp.sin(theta)**2 * (1 + lambda_1*smp.cos(theta) + lambda_1*epsilon/2) + smp.sin(theta)**2 *((1 + lambda_1 + lambda_1*epsilon/2)*c + 2*lambda_1*smp.sin(theta/2)**2))/(2 + 2*lambda_1*smp.cos(theta) + 2*lambda_1*epsilon/2)**2)\n",
    "b"
   ]
  },
  {
   "cell_type": "code",
   "execution_count": 5,
   "id": "0db46bad-d38c-42c9-aed0-40e20a5f1871",
   "metadata": {
    "tags": []
   },
   "outputs": [
    {
     "data": {
      "text/latex": [
       "$\\displaystyle - \\frac{2 g \\lambda^{2} \\left(\\left(c \\left(\\frac{\\epsilon \\lambda}{2} + \\lambda + 1\\right) + 2 \\lambda \\sin^{2}{\\left(\\frac{\\theta}{2} \\right)}\\right) \\sin^{2}{\\left(\\theta \\right)} + \\left(\\frac{\\epsilon \\lambda}{2} + \\lambda \\cos{\\left(\\theta \\right)} + 1\\right) \\sin^{2}{\\left(\\theta \\right)}\\right)}{\\left(\\epsilon \\lambda + 2 \\lambda \\cos{\\left(\\theta \\right)} + 2\\right)^{2}} - \\frac{2 g \\lambda \\left(c \\left(\\frac{\\epsilon \\lambda}{2} + \\lambda + 1\\right) + 2 \\lambda \\sin^{2}{\\left(\\frac{\\theta}{2} \\right)}\\right) \\cos{\\left(\\theta \\right)}}{\\epsilon \\lambda + 2 \\lambda \\cos{\\left(\\theta \\right)} + 2} + g$"
      ],
      "text/plain": [
       "-2*g*lambda**2*((c*(epsilon*lambda/2 + lambda + 1) + 2*lambda*sin(theta/2)**2)*sin(theta)**2 + (epsilon*lambda/2 + lambda*cos(theta) + 1)*sin(theta)**2)/(epsilon*lambda + 2*lambda*cos(theta) + 2)**2 - 2*g*lambda*(c*(epsilon*lambda/2 + lambda + 1) + 2*lambda*sin(theta/2)**2)*cos(theta)/(epsilon*lambda + 2*lambda*cos(theta) + 2) + g"
      ]
     },
     "execution_count": 5,
     "metadata": {},
     "output_type": "execute_result"
    }
   ],
   "source": [
    "n_t =g+a+b\n",
    "n_t"
   ]
  },
  {
   "cell_type": "markdown",
   "id": "2ca6e44d-2fba-42a1-97b5-1d30dc916635",
   "metadata": {},
   "source": [
    "**Hemos encontrado la expresión que estamos buscando**, sin embargo, esta expresión se encuentra escrita en terminos de funciones trigonometricas, realizando cambios de variables pertinentes, podemos colocar todo en terminos de $\\xi$, recordando que \n",
    "\n",
    "$$\\xi = cos(\\theta) = $$\n",
    "\n"
   ]
  },
  {
   "cell_type": "markdown",
   "id": "094001dc-6b66-4da7-8049-8fc2c1886bf4",
   "metadata": {},
   "source": [
    "**Primer cambio de variable:**\n",
    "\n",
    "$$ sin^2(\\frac{\\theta}{2})= \\frac{1- cos(\\theta)}{2} $$"
   ]
  },
  {
   "cell_type": "code",
   "execution_count": 6,
   "id": "06d37383-d257-4299-88b0-5562f2e92652",
   "metadata": {
    "tags": []
   },
   "outputs": [
    {
     "data": {
      "text/latex": [
       "$\\displaystyle - \\frac{2 g \\lambda^{2} \\left(\\left(c \\left(\\frac{\\epsilon \\lambda}{2} + \\lambda + 1\\right) + 2 \\lambda \\left(\\frac{1}{2} - \\frac{\\cos{\\left(\\theta \\right)}}{2}\\right)\\right) \\sin^{2}{\\left(\\theta \\right)} + \\left(\\frac{\\epsilon \\lambda}{2} + \\lambda \\cos{\\left(\\theta \\right)} + 1\\right) \\sin^{2}{\\left(\\theta \\right)}\\right)}{\\left(\\epsilon \\lambda + 2 \\lambda \\cos{\\left(\\theta \\right)} + 2\\right)^{2}} - \\frac{2 g \\lambda \\left(c \\left(\\frac{\\epsilon \\lambda}{2} + \\lambda + 1\\right) + 2 \\lambda \\left(\\frac{1}{2} - \\frac{\\cos{\\left(\\theta \\right)}}{2}\\right)\\right) \\cos{\\left(\\theta \\right)}}{\\epsilon \\lambda + 2 \\lambda \\cos{\\left(\\theta \\right)} + 2} + g$"
      ],
      "text/plain": [
       "-2*g*lambda**2*((c*(epsilon*lambda/2 + lambda + 1) + 2*lambda*(1/2 - cos(theta)/2))*sin(theta)**2 + (epsilon*lambda/2 + lambda*cos(theta) + 1)*sin(theta)**2)/(epsilon*lambda + 2*lambda*cos(theta) + 2)**2 - 2*g*lambda*(c*(epsilon*lambda/2 + lambda + 1) + 2*lambda*(1/2 - cos(theta)/2))*cos(theta)/(epsilon*lambda + 2*lambda*cos(theta) + 2) + g"
      ]
     },
     "execution_count": 6,
     "metadata": {},
     "output_type": "execute_result"
    }
   ],
   "source": [
    "n_t_cambiada = n_t.subs(smp.sin(theta/2)**2, (1 - smp.cos(theta))/2)  #Cambio de variable de la sustitución trigonometrica\n",
    "n_t_cambiada"
   ]
  },
  {
   "cell_type": "markdown",
   "id": "85deabda-9f1e-4727-9185-eeba3443efa5",
   "metadata": {},
   "source": [
    "**Segundo cambio de variable:**\n",
    "\n",
    "$$ sin^2 \\theta = (1-cos^2\\theta)$$"
   ]
  },
  {
   "cell_type": "code",
   "execution_count": 7,
   "id": "aae60108-ec28-4b35-904f-ad4a82b71f6f",
   "metadata": {
    "tags": []
   },
   "outputs": [
    {
     "data": {
      "text/latex": [
       "$\\displaystyle - \\frac{2 g \\lambda^{2} \\left(\\left(1 - \\cos^{2}{\\left(\\theta \\right)}\\right) \\left(c \\left(\\frac{\\epsilon \\lambda}{2} + \\lambda + 1\\right) + 2 \\lambda \\left(\\frac{1}{2} - \\frac{\\cos{\\left(\\theta \\right)}}{2}\\right)\\right) + \\left(1 - \\cos^{2}{\\left(\\theta \\right)}\\right) \\left(\\frac{\\epsilon \\lambda}{2} + \\lambda \\cos{\\left(\\theta \\right)} + 1\\right)\\right)}{\\left(\\epsilon \\lambda + 2 \\lambda \\cos{\\left(\\theta \\right)} + 2\\right)^{2}} - \\frac{2 g \\lambda \\left(c \\left(\\frac{\\epsilon \\lambda}{2} + \\lambda + 1\\right) + 2 \\lambda \\left(\\frac{1}{2} - \\frac{\\cos{\\left(\\theta \\right)}}{2}\\right)\\right) \\cos{\\left(\\theta \\right)}}{\\epsilon \\lambda + 2 \\lambda \\cos{\\left(\\theta \\right)} + 2} + g$"
      ],
      "text/plain": [
       "-2*g*lambda**2*((1 - cos(theta)**2)*(c*(epsilon*lambda/2 + lambda + 1) + 2*lambda*(1/2 - cos(theta)/2)) + (1 - cos(theta)**2)*(epsilon*lambda/2 + lambda*cos(theta) + 1))/(epsilon*lambda + 2*lambda*cos(theta) + 2)**2 - 2*g*lambda*(c*(epsilon*lambda/2 + lambda + 1) + 2*lambda*(1/2 - cos(theta)/2))*cos(theta)/(epsilon*lambda + 2*lambda*cos(theta) + 2) + g"
      ]
     },
     "execution_count": 7,
     "metadata": {},
     "output_type": "execute_result"
    }
   ],
   "source": [
    "n_t_cambiada_2 = n_t_cambiada.subs(smp.sin(theta)**2, (1-smp.cos(theta)**2))\n",
    "n_t_cambiada_2"
   ]
  },
  {
   "cell_type": "markdown",
   "id": "d60bcdc3-026c-4b91-9aaf-1dc6d67fceb6",
   "metadata": {},
   "source": [
    "**Tercer y último cambio de variable:**\n",
    "\n",
    "$$\\xi = cos(\\theta) = $$"
   ]
  },
  {
   "cell_type": "code",
   "execution_count": 8,
   "id": "678ed438-0694-408f-962f-9fc4aa9d3dbd",
   "metadata": {
    "tags": []
   },
   "outputs": [
    {
     "data": {
      "text/latex": [
       "$\\displaystyle - \\frac{2 g \\lambda^{2} \\left(\\left(1 - \\xi^{2}\\right) \\left(c \\left(\\frac{\\epsilon \\lambda}{2} + \\lambda + 1\\right) + 2 \\lambda \\left(\\frac{1}{2} - \\frac{\\xi}{2}\\right)\\right) + \\left(1 - \\xi^{2}\\right) \\left(\\frac{\\epsilon \\lambda}{2} + \\lambda \\xi + 1\\right)\\right)}{\\left(\\epsilon \\lambda + 2 \\lambda \\xi + 2\\right)^{2}} - \\frac{2 g \\lambda \\xi \\left(c \\left(\\frac{\\epsilon \\lambda}{2} + \\lambda + 1\\right) + 2 \\lambda \\left(\\frac{1}{2} - \\frac{\\xi}{2}\\right)\\right)}{\\epsilon \\lambda + 2 \\lambda \\xi + 2} + g$"
      ],
      "text/plain": [
       "-2*g*lambda**2*((1 - xi**2)*(c*(epsilon*lambda/2 + lambda + 1) + 2*lambda*(1/2 - xi/2)) + (1 - xi**2)*(epsilon*lambda/2 + lambda*xi + 1))/(epsilon*lambda + 2*lambda*xi + 2)**2 - 2*g*lambda*xi*(c*(epsilon*lambda/2 + lambda + 1) + 2*lambda*(1/2 - xi/2))/(epsilon*lambda + 2*lambda*xi + 2) + g"
      ]
     },
     "execution_count": 8,
     "metadata": {},
     "output_type": "execute_result"
    }
   ],
   "source": [
    "n_t_final = n_t_cambiada_2.subs(smp.cos(theta),xi)\n",
    "n_t_final"
   ]
  },
  {
   "cell_type": "code",
   "execution_count": 9,
   "id": "9def195d-a5dc-4767-b3f1-4c7caa4bae24",
   "metadata": {
    "tags": []
   },
   "outputs": [
    {
     "data": {
      "text/latex": [
       "$\\displaystyle \\frac{g \\left(\\lambda^{2} \\left(\\xi^{2} - 1\\right) \\left(c \\left(\\epsilon \\lambda + 2 \\lambda + 2\\right) + \\epsilon \\lambda + 2 \\lambda \\xi - 2 \\lambda \\left(\\xi - 1\\right) + 2\\right) - \\lambda \\xi \\left(c \\left(\\epsilon \\lambda + 2 \\lambda + 2\\right) - 2 \\lambda \\left(\\xi - 1\\right)\\right) \\left(\\epsilon \\lambda + 2 \\lambda \\xi + 2\\right) + \\left(\\epsilon \\lambda + 2 \\lambda \\xi + 2\\right)^{2}\\right)}{\\left(\\epsilon \\lambda + 2 \\lambda \\xi + 2\\right)^{2}}$"
      ],
      "text/plain": [
       "g*(lambda**2*(xi**2 - 1)*(c*(epsilon*lambda + 2*lambda + 2) + epsilon*lambda + 2*lambda*xi - 2*lambda*(xi - 1) + 2) - lambda*xi*(c*(epsilon*lambda + 2*lambda + 2) - 2*lambda*(xi - 1))*(epsilon*lambda + 2*lambda*xi + 2) + (epsilon*lambda + 2*lambda*xi + 2)**2)/(epsilon*lambda + 2*lambda*xi + 2)**2"
      ]
     },
     "execution_count": 9,
     "metadata": {},
     "output_type": "execute_result"
    }
   ],
   "source": [
    "n_t_factorizada = smp.simplify(n_t_final)\n",
    "n_t_factorizada"
   ]
  },
  {
   "cell_type": "markdown",
   "id": "d650b22c-a3c5-47af-b832-73aa900055c1",
   "metadata": {},
   "source": [
    "Ahora se define el polinomio $p(\\xi))$, este polinomio se define tal\n",
    "\n",
    "$$ n(\\xi) = \\frac{g}{(\\epsilon \\lambda + 2\\epsilon \\lambda + 2)^2} p(\\xi) $$\n",
    "\n",
    "Lo que nos permitirá calcular las soluciones de la ecuación $n(\\xi)=0$ con mayor facilidad."
   ]
  },
  {
   "cell_type": "code",
   "execution_count": 10,
   "id": "a9072f1c-438d-4316-906e-120068c0794d",
   "metadata": {
    "tags": []
   },
   "outputs": [
    {
     "data": {
      "text/latex": [
       "$\\displaystyle \\lambda^{2} \\left(\\xi^{2} - 1\\right) \\left(c \\left(\\epsilon \\lambda + 2 \\lambda + 2\\right) + \\epsilon \\lambda + 2 \\lambda \\xi - 2 \\lambda \\left(\\xi - 1\\right) + 2\\right) - \\lambda \\xi \\left(c \\left(\\epsilon \\lambda + 2 \\lambda + 2\\right) - 2 \\lambda \\left(\\xi - 1\\right)\\right) \\left(\\epsilon \\lambda + 2 \\lambda \\xi + 2\\right) + \\left(\\epsilon \\lambda + 2 \\lambda \\xi + 2\\right)^{2}$"
      ],
      "text/plain": [
       "lambda**2*(xi**2 - 1)*(c*(epsilon*lambda + 2*lambda + 2) + epsilon*lambda + 2*lambda*xi - 2*lambda*(xi - 1) + 2) - lambda*xi*(c*(epsilon*lambda + 2*lambda + 2) - 2*lambda*(xi - 1))*(epsilon*lambda + 2*lambda*xi + 2) + (epsilon*lambda + 2*lambda*xi + 2)**2"
      ]
     },
     "execution_count": 10,
     "metadata": {},
     "output_type": "execute_result"
    }
   ],
   "source": [
    "#Fefinimos el polinomio P:\n",
    "P_eta = n_t_factorizada * ((2 + 2*lambda_1*xi + 2*lambda_1*epsilon/2)**2)/(g)\n",
    "P_eta"
   ]
  },
  {
   "cell_type": "code",
   "execution_count": 11,
   "id": "4e6d0fae-5828-4831-91cc-5ec441e6d376",
   "metadata": {
    "tags": []
   },
   "outputs": [
    {
     "data": {
      "text/latex": [
       "$\\displaystyle - c \\epsilon^{2} \\lambda^{3} \\xi - c \\epsilon \\lambda^{3} \\xi^{2} - 2 c \\epsilon \\lambda^{3} \\xi - c \\epsilon \\lambda^{3} - 4 c \\epsilon \\lambda^{2} \\xi - 2 c \\lambda^{3} \\xi^{2} - 2 c \\lambda^{3} - 2 c \\lambda^{2} \\xi^{2} - 4 c \\lambda^{2} \\xi - 2 c \\lambda^{2} - 4 c \\lambda \\xi + \\epsilon^{2} \\lambda^{2} + 3 \\epsilon \\lambda^{3} \\xi^{2} - 2 \\epsilon \\lambda^{3} \\xi - \\epsilon \\lambda^{3} + 4 \\epsilon \\lambda^{2} \\xi + 4 \\epsilon \\lambda + 4 \\lambda^{3} \\xi^{3} - 2 \\lambda^{3} \\xi^{2} - 2 \\lambda^{3} + 10 \\lambda^{2} \\xi^{2} - 4 \\lambda^{2} \\xi - 2 \\lambda^{2} + 8 \\lambda \\xi + 4$"
      ],
      "text/plain": [
       "-c*epsilon**2*lambda**3*xi - c*epsilon*lambda**3*xi**2 - 2*c*epsilon*lambda**3*xi - c*epsilon*lambda**3 - 4*c*epsilon*lambda**2*xi - 2*c*lambda**3*xi**2 - 2*c*lambda**3 - 2*c*lambda**2*xi**2 - 4*c*lambda**2*xi - 2*c*lambda**2 - 4*c*lambda*xi + epsilon**2*lambda**2 + 3*epsilon*lambda**3*xi**2 - 2*epsilon*lambda**3*xi - epsilon*lambda**3 + 4*epsilon*lambda**2*xi + 4*epsilon*lambda + 4*lambda**3*xi**3 - 2*lambda**3*xi**2 - 2*lambda**3 + 10*lambda**2*xi**2 - 4*lambda**2*xi - 2*lambda**2 + 8*lambda*xi + 4"
      ]
     },
     "execution_count": 11,
     "metadata": {},
     "output_type": "execute_result"
    }
   ],
   "source": [
    "P_eta_expand = smp.expand(P_eta)\n",
    "P_eta_expand"
   ]
  },
  {
   "cell_type": "markdown",
   "id": "63af418a-82e3-431f-a84c-609727184aeb",
   "metadata": {},
   "source": [
    "Podemos observar que si se des-comenta el siguiente código, se obtendrá una expresión largota que nos indica la solución general del problema, vemos que si tratamos de trabajar con esta expresión se vuelve tedioso el asunto.\n",
    "\n",
    "Por esto, hemos decidido darle valores a $\\lambda$ y graficar el comportamiento de esta fuerza normal en función de los parámetros internos que podamos cambiarle al problema."
   ]
  },
  {
   "cell_type": "code",
   "execution_count": 12,
   "id": "2f54c55c-6de8-4f47-b71e-0a50c51a91f9",
   "metadata": {
    "tags": []
   },
   "outputs": [],
   "source": [
    "#Solucionar polinomio\n",
    "soluciones = smp.solve(P_eta,xi)\n",
    "#soluciones"
   ]
  },
  {
   "cell_type": "markdown",
   "id": "05feb556-e793-4c4f-b242-1173e060e243",
   "metadata": {
    "jp-MarkdownHeadingCollapsed": true,
    "tags": []
   },
   "source": [
    "##  2.-Caso_Especial_1\n",
    "Siguiendo la idea anteriormente mencionada, podemos reescribir toda la expresión anterior asignadole un valor a lambda arbitrario y sustituyendolo de manera simbólica las expresiones previamente cálculadas. \n",
    "\n",
    "Sin embargo, con la idea de tener predicciones comprobables en nuestros resultados haremos que $\\lambda = 1$ que es cuando todo la masa del sistema se encuentra concentrada en la partícula atada al aro."
   ]
  },
  {
   "cell_type": "code",
   "execution_count": 13,
   "id": "4c6aad0e-e5ee-4eae-afba-af3fa4746cf1",
   "metadata": {
    "tags": []
   },
   "outputs": [],
   "source": [
    "valor_lambda = 1"
   ]
  },
  {
   "cell_type": "markdown",
   "id": "9f0b437f-8826-4b4b-badb-c1dbedcd4478",
   "metadata": {
    "tags": []
   },
   "source": [
    "### Cálculos\n",
    "\n",
    "A continuación se presenta el mismo proceso realizado previamente, solo que para el nuevo valor de $\\lambda = 1$."
   ]
  },
  {
   "cell_type": "code",
   "execution_count": 48,
   "id": "09185b65-01fd-40af-a4b1-91eac42b8a59",
   "metadata": {
    "tags": []
   },
   "outputs": [],
   "source": [
    "a =- 2*lambda_1*g*smp.cos(theta)*(((1 + lambda_1 + lambda_1*epsilon/2) * c + 2 * lambda_1* smp.sin(theta/2)**2 )/(2 + 2*lambda_1*smp.cos(theta) + 2*lambda_1*epsilon/2))\n",
    "a_1 = a.subs([(lambda_1, valor_lambda)])\n"
   ]
  },
  {
   "cell_type": "code",
   "execution_count": 15,
   "id": "f3cd2fd9-605b-4a34-835e-a7585f871eac",
   "metadata": {
    "tags": []
   },
   "outputs": [
    {
     "data": {
      "text/latex": [
       "$\\displaystyle - \\frac{2 g \\left(c \\left(\\frac{\\epsilon}{2} + 2\\right) + 2 \\sin^{2}{\\left(\\frac{\\theta}{2} \\right)}\\right) \\cos{\\left(\\theta \\right)}}{\\epsilon + 2 \\cos{\\left(\\theta \\right)} + 2}$"
      ],
      "text/plain": [
       "-2*g*(c*(epsilon/2 + 2) + 2*sin(theta/2)**2)*cos(theta)/(epsilon + 2*cos(theta) + 2)"
      ]
     },
     "execution_count": 15,
     "metadata": {},
     "output_type": "execute_result"
    }
   ],
   "source": [
    "a_1"
   ]
  },
  {
   "cell_type": "code",
   "execution_count": 16,
   "id": "c1f21372-2002-4b6b-b55b-037dbe644f97",
   "metadata": {
    "tags": []
   },
   "outputs": [],
   "source": [
    "b= - 4 * R*lambda_1*g*lambda_1/(2*R) * ((smp.sin(theta)**2 * (1 + lambda_1*smp.cos(theta) + lambda_1*epsilon/2) + smp.sin(theta)**2 *((1 + lambda_1 + lambda_1*epsilon/2)*c + 2*lambda_1*smp.sin(theta/2)**2))/(2 + 2*lambda_1*smp.cos(theta) + 2*lambda_1*epsilon/2)**2)\n",
    "b_1 = b.subs([(lambda_1, valor_lambda)])\n"
   ]
  },
  {
   "cell_type": "code",
   "execution_count": 17,
   "id": "ed1bdef7-51bb-4c3d-87c8-75b8831fc8c2",
   "metadata": {
    "tags": []
   },
   "outputs": [
    {
     "data": {
      "text/latex": [
       "$\\displaystyle - \\frac{2 g \\left(\\left(c \\left(\\frac{\\epsilon}{2} + 2\\right) + 2 \\sin^{2}{\\left(\\frac{\\theta}{2} \\right)}\\right) \\sin^{2}{\\left(\\theta \\right)} + \\left(\\frac{\\epsilon}{2} + \\cos{\\left(\\theta \\right)} + 1\\right) \\sin^{2}{\\left(\\theta \\right)}\\right)}{\\left(\\epsilon + 2 \\cos{\\left(\\theta \\right)} + 2\\right)^{2}}$"
      ],
      "text/plain": [
       "-2*g*((c*(epsilon/2 + 2) + 2*sin(theta/2)**2)*sin(theta)**2 + (epsilon/2 + cos(theta) + 1)*sin(theta)**2)/(epsilon + 2*cos(theta) + 2)**2"
      ]
     },
     "execution_count": 17,
     "metadata": {},
     "output_type": "execute_result"
    }
   ],
   "source": [
    "b_1"
   ]
  },
  {
   "cell_type": "code",
   "execution_count": 18,
   "id": "056a5632-b348-4f8f-8231-f7ede36904d2",
   "metadata": {
    "tags": []
   },
   "outputs": [
    {
     "data": {
      "text/latex": [
       "$\\displaystyle - \\frac{2 g \\left(c \\left(\\frac{\\epsilon}{2} + 2\\right) + 2 \\sin^{2}{\\left(\\frac{\\theta}{2} \\right)}\\right) \\cos{\\left(\\theta \\right)}}{\\epsilon + 2 \\cos{\\left(\\theta \\right)} + 2} - \\frac{2 g \\left(\\left(c \\left(\\frac{\\epsilon}{2} + 2\\right) + 2 \\sin^{2}{\\left(\\frac{\\theta}{2} \\right)}\\right) \\sin^{2}{\\left(\\theta \\right)} + \\left(\\frac{\\epsilon}{2} + \\cos{\\left(\\theta \\right)} + 1\\right) \\sin^{2}{\\left(\\theta \\right)}\\right)}{\\left(\\epsilon + 2 \\cos{\\left(\\theta \\right)} + 2\\right)^{2}} + g$"
      ],
      "text/plain": [
       "-2*g*(c*(epsilon/2 + 2) + 2*sin(theta/2)**2)*cos(theta)/(epsilon + 2*cos(theta) + 2) - 2*g*((c*(epsilon/2 + 2) + 2*sin(theta/2)**2)*sin(theta)**2 + (epsilon/2 + cos(theta) + 1)*sin(theta)**2)/(epsilon + 2*cos(theta) + 2)**2 + g"
      ]
     },
     "execution_count": 18,
     "metadata": {},
     "output_type": "execute_result"
    }
   ],
   "source": [
    "n_t =g+a_1+b_1\n",
    "n_t"
   ]
  },
  {
   "cell_type": "code",
   "execution_count": 19,
   "id": "bfe2328d-ec73-4dfe-90e5-54fd2d32fb67",
   "metadata": {
    "tags": []
   },
   "outputs": [
    {
     "data": {
      "text/latex": [
       "$\\displaystyle - \\frac{2 g \\left(\\left(\\frac{\\epsilon}{2} + \\cos{\\left(\\theta \\right)} + 1\\right) \\sin^{2}{\\left(\\theta \\right)} + \\left(c \\left(\\frac{\\epsilon}{2} + 2\\right) - \\cos{\\left(\\theta \\right)} + 1\\right) \\sin^{2}{\\left(\\theta \\right)}\\right)}{\\left(\\epsilon + 2 \\cos{\\left(\\theta \\right)} + 2\\right)^{2}} + g - \\frac{2 g \\left(c \\left(\\frac{\\epsilon}{2} + 2\\right) - \\cos{\\left(\\theta \\right)} + 1\\right) \\cos{\\left(\\theta \\right)}}{\\epsilon + 2 \\cos{\\left(\\theta \\right)} + 2}$"
      ],
      "text/plain": [
       "-2*g*((epsilon/2 + cos(theta) + 1)*sin(theta)**2 + (c*(epsilon/2 + 2) - cos(theta) + 1)*sin(theta)**2)/(epsilon + 2*cos(theta) + 2)**2 + g - 2*g*(c*(epsilon/2 + 2) - cos(theta) + 1)*cos(theta)/(epsilon + 2*cos(theta) + 2)"
      ]
     },
     "execution_count": 19,
     "metadata": {},
     "output_type": "execute_result"
    }
   ],
   "source": [
    "n_t_cambiada = n_t.subs(smp.sin(theta/2)**2, (1 - smp.cos(theta))/2)  #Cambio de variable de la sustitución trigonometrica\n",
    "n_t_cambiada"
   ]
  },
  {
   "cell_type": "code",
   "execution_count": 20,
   "id": "ed3f4d1a-7587-45b9-83b3-2d6fe4b5dfd8",
   "metadata": {
    "tags": []
   },
   "outputs": [
    {
     "data": {
      "text/latex": [
       "$\\displaystyle - \\frac{2 g \\left(\\left(1 - \\cos^{2}{\\left(\\theta \\right)}\\right) \\left(\\frac{\\epsilon}{2} + \\cos{\\left(\\theta \\right)} + 1\\right) + \\left(1 - \\cos^{2}{\\left(\\theta \\right)}\\right) \\left(c \\left(\\frac{\\epsilon}{2} + 2\\right) - \\cos{\\left(\\theta \\right)} + 1\\right)\\right)}{\\left(\\epsilon + 2 \\cos{\\left(\\theta \\right)} + 2\\right)^{2}} + g - \\frac{2 g \\left(c \\left(\\frac{\\epsilon}{2} + 2\\right) - \\cos{\\left(\\theta \\right)} + 1\\right) \\cos{\\left(\\theta \\right)}}{\\epsilon + 2 \\cos{\\left(\\theta \\right)} + 2}$"
      ],
      "text/plain": [
       "-2*g*((1 - cos(theta)**2)*(epsilon/2 + cos(theta) + 1) + (1 - cos(theta)**2)*(c*(epsilon/2 + 2) - cos(theta) + 1))/(epsilon + 2*cos(theta) + 2)**2 + g - 2*g*(c*(epsilon/2 + 2) - cos(theta) + 1)*cos(theta)/(epsilon + 2*cos(theta) + 2)"
      ]
     },
     "execution_count": 20,
     "metadata": {},
     "output_type": "execute_result"
    }
   ],
   "source": [
    "n_t_cambiada_2 = n_t_cambiada.subs(smp.sin(theta)**2, (1-smp.cos(theta)**2))\n",
    "n_t_cambiada_2"
   ]
  },
  {
   "cell_type": "code",
   "execution_count": 21,
   "id": "8cbe25b7-01fc-4ec1-9c7e-c424a62961fb",
   "metadata": {
    "tags": []
   },
   "outputs": [
    {
     "data": {
      "text/latex": [
       "$\\displaystyle - \\frac{2 g \\xi \\left(c \\left(\\frac{\\epsilon}{2} + 2\\right) - \\xi + 1\\right)}{\\epsilon + 2 \\xi + 2} - \\frac{2 g \\left(\\left(1 - \\xi^{2}\\right) \\left(\\frac{\\epsilon}{2} + \\xi + 1\\right) + \\left(1 - \\xi^{2}\\right) \\left(c \\left(\\frac{\\epsilon}{2} + 2\\right) - \\xi + 1\\right)\\right)}{\\left(\\epsilon + 2 \\xi + 2\\right)^{2}} + g$"
      ],
      "text/plain": [
       "-2*g*xi*(c*(epsilon/2 + 2) - xi + 1)/(epsilon + 2*xi + 2) - 2*g*((1 - xi**2)*(epsilon/2 + xi + 1) + (1 - xi**2)*(c*(epsilon/2 + 2) - xi + 1))/(epsilon + 2*xi + 2)**2 + g"
      ]
     },
     "execution_count": 21,
     "metadata": {},
     "output_type": "execute_result"
    }
   ],
   "source": [
    "n_t_final = n_t_cambiada_2.subs(smp.cos(theta),xi)\n",
    "n_t_final"
   ]
  },
  {
   "cell_type": "code",
   "execution_count": 22,
   "id": "b143d054-730d-4e89-bb48-65ff88206a83",
   "metadata": {
    "tags": []
   },
   "outputs": [
    {
     "data": {
      "text/latex": [
       "$\\displaystyle \\frac{g \\left(- \\xi \\left(\\epsilon + 2 \\xi + 2\\right) \\left(c \\left(\\epsilon + 4\\right) - 2 \\xi + 2\\right) + \\left(\\xi^{2} - 1\\right) \\left(c \\left(\\epsilon + 4\\right) + \\epsilon + 4\\right) + \\left(\\epsilon + 2 \\xi + 2\\right)^{2}\\right)}{\\left(\\epsilon + 2 \\xi + 2\\right)^{2}}$"
      ],
      "text/plain": [
       "g*(-xi*(epsilon + 2*xi + 2)*(c*(epsilon + 4) - 2*xi + 2) + (xi**2 - 1)*(c*(epsilon + 4) + epsilon + 4) + (epsilon + 2*xi + 2)**2)/(epsilon + 2*xi + 2)**2"
      ]
     },
     "execution_count": 22,
     "metadata": {},
     "output_type": "execute_result"
    }
   ],
   "source": [
    "n_t_factorizada = smp.simplify(n_t_final)\n",
    "n_t_factorizada"
   ]
  },
  {
   "cell_type": "code",
   "execution_count": 23,
   "id": "9c4a9320-d9cf-484a-a376-f2652002d3e6",
   "metadata": {
    "tags": []
   },
   "outputs": [
    {
     "data": {
      "text/latex": [
       "$\\displaystyle - \\xi \\left(\\epsilon + 2 \\xi + 2\\right) \\left(c \\left(\\epsilon + 4\\right) - 2 \\xi + 2\\right) + \\left(\\xi^{2} - 1\\right) \\left(c \\left(\\epsilon + 4\\right) + \\epsilon + 4\\right) + \\left(\\epsilon + 2 \\xi + 2\\right)^{2}$"
      ],
      "text/plain": [
       "-xi*(epsilon + 2*xi + 2)*(c*(epsilon + 4) - 2*xi + 2) + (xi**2 - 1)*(c*(epsilon + 4) + epsilon + 4) + (epsilon + 2*xi + 2)**2"
      ]
     },
     "execution_count": 23,
     "metadata": {},
     "output_type": "execute_result"
    }
   ],
   "source": [
    "#Ahora definimos el polinomio P:\n",
    "P_eta = n_t_factorizada * ((2 + 2*valor_lambda*xi + 2*valor_lambda*epsilon/2)**2)/(g)\n",
    "P_eta"
   ]
  },
  {
   "cell_type": "code",
   "execution_count": 24,
   "id": "cc64bcf2-0059-407e-911f-b079ad774f73",
   "metadata": {
    "tags": []
   },
   "outputs": [
    {
     "data": {
      "text/latex": [
       "$\\displaystyle - c \\epsilon^{2} \\xi - c \\epsilon \\xi^{2} - 6 c \\epsilon \\xi - c \\epsilon - 4 c \\xi^{2} - 8 c \\xi - 4 c + \\epsilon^{2} + 3 \\epsilon \\xi^{2} + 2 \\epsilon \\xi + 3 \\epsilon + 4 \\xi^{3} + 8 \\xi^{2} + 4 \\xi$"
      ],
      "text/plain": [
       "-c*epsilon**2*xi - c*epsilon*xi**2 - 6*c*epsilon*xi - c*epsilon - 4*c*xi**2 - 8*c*xi - 4*c + epsilon**2 + 3*epsilon*xi**2 + 2*epsilon*xi + 3*epsilon + 4*xi**3 + 8*xi**2 + 4*xi"
      ]
     },
     "execution_count": 24,
     "metadata": {},
     "output_type": "execute_result"
    }
   ],
   "source": [
    "P_eta_expand = smp.expand(P_eta)\n",
    "P_eta_expand"
   ]
  },
  {
   "cell_type": "code",
   "execution_count": 25,
   "id": "b3af1263-d301-4b79-99fa-68d36e2d1de4",
   "metadata": {
    "tags": []
   },
   "outputs": [
    {
     "data": {
      "text/latex": [
       "$\\displaystyle - c \\epsilon - 4 c + \\epsilon^{2} + 3 \\epsilon + 4 \\xi^{3} + \\xi^{2} \\left(- c \\epsilon - 4 c + 3 \\epsilon + 8\\right) + \\xi \\left(- c \\epsilon^{2} - 6 c \\epsilon - 8 c + 2 \\epsilon + 4\\right)$"
      ],
      "text/plain": [
       "-c*epsilon - 4*c + epsilon**2 + 3*epsilon + 4*xi**3 + xi**2*(-c*epsilon - 4*c + 3*epsilon + 8) + xi*(-c*epsilon**2 - 6*c*epsilon - 8*c + 2*epsilon + 4)"
      ]
     },
     "execution_count": 25,
     "metadata": {},
     "output_type": "execute_result"
    }
   ],
   "source": [
    "P_Eta_xi = smp.factor(P_eta_expand, xi)\n",
    "P_Eta_xi"
   ]
  },
  {
   "cell_type": "markdown",
   "id": "00e765f4-aec1-4cf4-a9c2-1799054662ce",
   "metadata": {},
   "source": [
    "### Gráfica\n",
    "En base a los resultados anteriormente encontrados, podemos darles valores a las variables simbolicas utilizadas y graficar la expresión encontrada para ver como se comporta a través de la modificación de parametros relevantes en el sistema."
   ]
  },
  {
   "cell_type": "code",
   "execution_count": 56,
   "id": "e18c03de-fa46-44bc-b85f-b74e91340f50",
   "metadata": {
    "tags": []
   },
   "outputs": [
    {
     "data": {
      "image/png": "[encoded data removed]",
      "text/plain": [
       "<Figure size 800x600 with 1 Axes>"
      ]
     },
     "metadata": {},
     "output_type": "display_data"
    }
   ],
   "source": [
    "#Asignación de valores:\n",
    "\n",
    "valor_a = 9.8   # Fuerza de gravedad\n",
    "valor_b = 0.6   #Radio\n",
    "valor_c = 0.1     #Epsilon[0,1]\n",
    "velocidad = 15  #Velocidad inicial\n",
    "valor_d = (velocidad**2)/(4*valor_b*valor_a)\n",
    "\n",
    "\n",
    "#Sustitución en el polinomio de dichos valores\n",
    "\n",
    "polinomio_Eta_xi_1 = P_Eta_xi.subs([ (epsilon, valor_c), (c, valor_d)])\n",
    "\n",
    "#Convertimos este polinomio en una función\n",
    "\n",
    "polinomio_Eta_xi_2 = lambdify(xi, polinomio_Eta_xi_1, modules='numpy')\n",
    "\n",
    "#Creamos el linspace de trabajo\n",
    "\n",
    "x_vals = np.linspace(-1, 1, 40000)  \n",
    "\n",
    "#Evaluamos la función en dicho linspace.\n",
    "\n",
    "y_vals = polinomio_Eta_xi_2(x_vals)\n",
    "\n",
    "# Grafica el polinomio\n",
    "plt.figure(figsize=(8, 6))\n",
    "plt.plot(x_vals, y_vals)\n",
    "plt.xlabel(r'$\\sin(\\theta)$')\n",
    "plt.ylabel(r'p($\\theta$)')\n",
    "plt.title('Normal Force Polynomial Vs Cosine of the angle for the case $\\lambda = 1$')\n",
    "plt.grid(True)\n",
    "plt.savefig(\"Grafica_1.png\", dpi=500)\n",
    "plt.show()"
   ]
  },
  {
   "cell_type": "markdown",
   "id": "16aef502-07e1-49a7-8206-6b19a773562e",
   "metadata": {
    "jp-MarkdownHeadingCollapsed": true,
    "tags": []
   },
   "source": [
    "##  3.-Caso_Especial_2\n",
    "Siguiendo la idea anteriormente mencionada, podemos reescribir toda la expresión anterior asignadole un valor a lambda arbitrario y sustituyendolo de manera simbolica a las expresiones previamente calculadas. Sin embargo, con la idea de tener predicciones realistas en nuestros resultados haremos que $\\lambda = 0.4$ que es similar a la configuración experimental construida\n"
   ]
  },
  {
   "cell_type": "code",
   "execution_count": 58,
   "id": "4c1041fb-0d0f-4470-8445-9b48fbaa522c",
   "metadata": {
    "tags": []
   },
   "outputs": [],
   "source": [
    "valor_lambda = 0.4"
   ]
  },
  {
   "cell_type": "markdown",
   "id": "b9b9878d-3b64-44fc-a2c2-02a0264e9f74",
   "metadata": {},
   "source": [
    "### Cálculos\n",
    "\n",
    "A continuación se presenta el mismo proceso realizado previamente, solo que para el nuevo valor de $\\lambda = 0.4$."
   ]
  },
  {
   "cell_type": "code",
   "execution_count": 67,
   "id": "43c311c8-a4dd-4968-80f0-caec95643b30",
   "metadata": {
    "tags": []
   },
   "outputs": [],
   "source": [
    "a =- 2*lambda_1*g*smp.cos(theta)*(((1 + lambda_1 + lambda_1*epsilon/2) * c + 2 * lambda_1* smp.sin(theta/2)**2 )/(2 + 2*lambda_1*smp.cos(theta) + 2*lambda_1*epsilon/2))\n",
    "a_2 = a.subs([(lambda_1, valor_lambda)])"
   ]
  },
  {
   "cell_type": "code",
   "execution_count": 68,
   "id": "8d478845-a30e-47c0-9bc1-0b67b950efc8",
   "metadata": {
    "tags": []
   },
   "outputs": [
    {
     "data": {
      "text/latex": [
       "$\\displaystyle - \\frac{0.8 g \\left(c \\left(0.2 \\epsilon + 1.4\\right) + 0.8 \\sin^{2}{\\left(\\frac{\\theta}{2} \\right)}\\right) \\cos{\\left(\\theta \\right)}}{0.4 \\epsilon + 0.8 \\cos{\\left(\\theta \\right)} + 2}$"
      ],
      "text/plain": [
       "-0.8*g*(c*(0.2*epsilon + 1.4) + 0.8*sin(theta/2)**2)*cos(theta)/(0.4*epsilon + 0.8*cos(theta) + 2)"
      ]
     },
     "execution_count": 68,
     "metadata": {},
     "output_type": "execute_result"
    }
   ],
   "source": [
    "a_2"
   ]
  },
  {
   "cell_type": "code",
   "execution_count": 69,
   "id": "075c33c3-c5f4-4b35-8b12-c3b4765e9879",
   "metadata": {
    "tags": []
   },
   "outputs": [],
   "source": [
    "b= - 4 * R*lambda_1*g*lambda_1/(2*R) * ((smp.sin(theta)**2 * (1 + lambda_1*smp.cos(theta) + lambda_1*epsilon/2) + smp.sin(theta)**2 *((1 + lambda_1 + lambda_1*epsilon/2)*c + 2*lambda_1*smp.sin(theta/2)**2))/(2 + 2*lambda_1*smp.cos(theta) + 2*lambda_1*epsilon/2)**2)\n",
    "b_2 = b.subs([(lambda_1, valor_lambda)])\n"
   ]
  },
  {
   "cell_type": "code",
   "execution_count": 70,
   "id": "9427da89-0021-4482-85d6-6dbb4a326430",
   "metadata": {
    "tags": []
   },
   "outputs": [
    {
     "data": {
      "text/latex": [
       "$\\displaystyle - \\frac{0.08 g \\left(\\left(c \\left(0.2 \\epsilon + 1.4\\right) + 0.8 \\sin^{2}{\\left(\\frac{\\theta}{2} \\right)}\\right) \\sin^{2}{\\left(\\theta \\right)} + \\left(0.2 \\epsilon + 0.4 \\cos{\\left(\\theta \\right)} + 1\\right) \\sin^{2}{\\left(\\theta \\right)}\\right)}{\\left(0.2 \\epsilon + 0.4 \\cos{\\left(\\theta \\right)} + 1\\right)^{2}}$"
      ],
      "text/plain": [
       "-0.08*g*((c*(0.2*epsilon + 1.4) + 0.8*sin(theta/2)**2)*sin(theta)**2 + (0.2*epsilon + 0.4*cos(theta) + 1)*sin(theta)**2)/(0.2*epsilon + 0.4*cos(theta) + 1)**2"
      ]
     },
     "execution_count": 70,
     "metadata": {},
     "output_type": "execute_result"
    }
   ],
   "source": [
    "b_2"
   ]
  },
  {
   "cell_type": "code",
   "execution_count": 71,
   "id": "a9940af8-db32-4125-9e70-2faa3251cda4",
   "metadata": {
    "tags": []
   },
   "outputs": [
    {
     "data": {
      "text/latex": [
       "$\\displaystyle - \\frac{0.8 g \\left(c \\left(0.2 \\epsilon + 1.4\\right) + 0.8 \\sin^{2}{\\left(\\frac{\\theta}{2} \\right)}\\right) \\cos{\\left(\\theta \\right)}}{0.4 \\epsilon + 0.8 \\cos{\\left(\\theta \\right)} + 2} - \\frac{0.08 g \\left(\\left(c \\left(0.2 \\epsilon + 1.4\\right) + 0.8 \\sin^{2}{\\left(\\frac{\\theta}{2} \\right)}\\right) \\sin^{2}{\\left(\\theta \\right)} + \\left(0.2 \\epsilon + 0.4 \\cos{\\left(\\theta \\right)} + 1\\right) \\sin^{2}{\\left(\\theta \\right)}\\right)}{\\left(0.2 \\epsilon + 0.4 \\cos{\\left(\\theta \\right)} + 1\\right)^{2}} + g$"
      ],
      "text/plain": [
       "-0.8*g*(c*(0.2*epsilon + 1.4) + 0.8*sin(theta/2)**2)*cos(theta)/(0.4*epsilon + 0.8*cos(theta) + 2) - 0.08*g*((c*(0.2*epsilon + 1.4) + 0.8*sin(theta/2)**2)*sin(theta)**2 + (0.2*epsilon + 0.4*cos(theta) + 1)*sin(theta)**2)/(0.2*epsilon + 0.4*cos(theta) + 1)**2 + g"
      ]
     },
     "execution_count": 71,
     "metadata": {},
     "output_type": "execute_result"
    }
   ],
   "source": [
    "n_t =g+a_2+b_2\n",
    "n_t"
   ]
  },
  {
   "cell_type": "code",
   "execution_count": 72,
   "id": "775d8060-132f-47b3-9692-cc1cb1d11f70",
   "metadata": {
    "tags": []
   },
   "outputs": [
    {
     "data": {
      "text/latex": [
       "$\\displaystyle - \\frac{0.08 g \\left(\\left(0.2 \\epsilon + 0.4 \\cos{\\left(\\theta \\right)} + 1\\right) \\sin^{2}{\\left(\\theta \\right)} + \\left(c \\left(0.2 \\epsilon + 1.4\\right) - 0.4 \\cos{\\left(\\theta \\right)} + 0.4\\right) \\sin^{2}{\\left(\\theta \\right)}\\right)}{\\left(0.2 \\epsilon + 0.4 \\cos{\\left(\\theta \\right)} + 1\\right)^{2}} + g - \\frac{0.8 g \\left(c \\left(0.2 \\epsilon + 1.4\\right) - 0.4 \\cos{\\left(\\theta \\right)} + 0.4\\right) \\cos{\\left(\\theta \\right)}}{0.4 \\epsilon + 0.8 \\cos{\\left(\\theta \\right)} + 2}$"
      ],
      "text/plain": [
       "-0.08*g*((0.2*epsilon + 0.4*cos(theta) + 1)*sin(theta)**2 + (c*(0.2*epsilon + 1.4) - 0.4*cos(theta) + 0.4)*sin(theta)**2)/(0.2*epsilon + 0.4*cos(theta) + 1)**2 + g - 0.8*g*(c*(0.2*epsilon + 1.4) - 0.4*cos(theta) + 0.4)*cos(theta)/(0.4*epsilon + 0.8*cos(theta) + 2)"
      ]
     },
     "execution_count": 72,
     "metadata": {},
     "output_type": "execute_result"
    }
   ],
   "source": [
    "n_t_cambiada = n_t.subs(smp.sin(theta/2)**2, (1 - smp.cos(theta))/2)  #Cambio de variable de la sustitución trigonometrica\n",
    "n_t_cambiada"
   ]
  },
  {
   "cell_type": "code",
   "execution_count": 73,
   "id": "aa0e9dbb-722f-4ea2-8691-1ddce8dc2139",
   "metadata": {
    "tags": []
   },
   "outputs": [
    {
     "data": {
      "text/latex": [
       "$\\displaystyle - \\frac{0.08 g \\left(\\left(1 - \\cos^{2}{\\left(\\theta \\right)}\\right) \\left(0.2 \\epsilon + 0.4 \\cos{\\left(\\theta \\right)} + 1\\right) + \\left(1 - \\cos^{2}{\\left(\\theta \\right)}\\right) \\left(c \\left(0.2 \\epsilon + 1.4\\right) - 0.4 \\cos{\\left(\\theta \\right)} + 0.4\\right)\\right)}{\\left(0.2 \\epsilon + 0.4 \\cos{\\left(\\theta \\right)} + 1\\right)^{2}} + g - \\frac{0.8 g \\left(c \\left(0.2 \\epsilon + 1.4\\right) - 0.4 \\cos{\\left(\\theta \\right)} + 0.4\\right) \\cos{\\left(\\theta \\right)}}{0.4 \\epsilon + 0.8 \\cos{\\left(\\theta \\right)} + 2}$"
      ],
      "text/plain": [
       "-0.08*g*((1 - cos(theta)**2)*(0.2*epsilon + 0.4*cos(theta) + 1) + (1 - cos(theta)**2)*(c*(0.2*epsilon + 1.4) - 0.4*cos(theta) + 0.4))/(0.2*epsilon + 0.4*cos(theta) + 1)**2 + g - 0.8*g*(c*(0.2*epsilon + 1.4) - 0.4*cos(theta) + 0.4)*cos(theta)/(0.4*epsilon + 0.8*cos(theta) + 2)"
      ]
     },
     "execution_count": 73,
     "metadata": {},
     "output_type": "execute_result"
    }
   ],
   "source": [
    "n_t_cambiada_2 = n_t_cambiada.subs(smp.sin(theta)**2, (1-smp.cos(theta)**2))\n",
    "n_t_cambiada_2"
   ]
  },
  {
   "cell_type": "code",
   "execution_count": 74,
   "id": "5d086d86-ec72-458c-bd48-35558a6ee206",
   "metadata": {
    "tags": []
   },
   "outputs": [
    {
     "data": {
      "text/latex": [
       "$\\displaystyle - \\frac{0.8 g \\xi \\left(c \\left(0.2 \\epsilon + 1.4\\right) - 0.4 \\xi + 0.4\\right)}{0.4 \\epsilon + 0.8 \\xi + 2} - \\frac{0.08 g \\left(\\left(1 - \\xi^{2}\\right) \\left(0.2 \\epsilon + 0.4 \\xi + 1\\right) + \\left(1 - \\xi^{2}\\right) \\left(c \\left(0.2 \\epsilon + 1.4\\right) - 0.4 \\xi + 0.4\\right)\\right)}{\\left(0.2 \\epsilon + 0.4 \\xi + 1\\right)^{2}} + g$"
      ],
      "text/plain": [
       "-0.8*g*xi*(c*(0.2*epsilon + 1.4) - 0.4*xi + 0.4)/(0.4*epsilon + 0.8*xi + 2) - 0.08*g*((1 - xi**2)*(0.2*epsilon + 0.4*xi + 1) + (1 - xi**2)*(c*(0.2*epsilon + 1.4) - 0.4*xi + 0.4))/(0.2*epsilon + 0.4*xi + 1)**2 + g"
      ]
     },
     "execution_count": 74,
     "metadata": {},
     "output_type": "execute_result"
    }
   ],
   "source": [
    "n_t_final = n_t_cambiada_2.subs(smp.cos(theta),xi)\n",
    "n_t_final"
   ]
  },
  {
   "cell_type": "code",
   "execution_count": 75,
   "id": "11bd2c51-a65e-4160-b3ee-9b2f3879057f",
   "metadata": {
    "tags": []
   },
   "outputs": [
    {
     "data": {
      "text/latex": [
       "$\\displaystyle \\frac{g \\left(- 0.8 \\xi \\left(0.2 \\epsilon + 0.4 \\xi + 1\\right)^{2} \\left(c \\left(0.2 \\epsilon + 1.4\\right) - 0.4 \\xi + 0.4\\right) + 0.08 \\left(\\xi^{2} - 1\\right) \\left(0.4 \\epsilon + 0.8 \\xi + 2\\right) \\left(c \\left(0.2 \\epsilon + 1.4\\right) + 0.2 \\epsilon + 1.4\\right) + \\left(0.2 \\epsilon + 0.4 \\xi + 1\\right)^{2} \\cdot \\left(0.4 \\epsilon + 0.8 \\xi + 2\\right)\\right)}{\\left(0.2 \\epsilon + 0.4 \\xi + 1\\right)^{2} \\cdot \\left(0.4 \\epsilon + 0.8 \\xi + 2\\right)}$"
      ],
      "text/plain": [
       "g*(-0.8*xi*(0.2*epsilon + 0.4*xi + 1)**2*(c*(0.2*epsilon + 1.4) - 0.4*xi + 0.4) + 0.08*(xi**2 - 1)*(0.4*epsilon + 0.8*xi + 2)*(c*(0.2*epsilon + 1.4) + 0.2*epsilon + 1.4) + (0.2*epsilon + 0.4*xi + 1)**2*(0.4*epsilon + 0.8*xi + 2))/((0.2*epsilon + 0.4*xi + 1)**2*(0.4*epsilon + 0.8*xi + 2))"
      ]
     },
     "execution_count": 75,
     "metadata": {},
     "output_type": "execute_result"
    }
   ],
   "source": [
    "n_t_factorizada = smp.simplify(n_t_final)\n",
    "n_t_factorizada"
   ]
  },
  {
   "cell_type": "code",
   "execution_count": 76,
   "id": "31dbbaee-ebc4-4d71-adae-8a83d4cf0a29",
   "metadata": {
    "tags": []
   },
   "outputs": [
    {
     "data": {
      "text/latex": [
       "$\\displaystyle \\frac{\\left(\\epsilon + 2 \\xi + 2\\right)^{2} \\left(- 0.8 \\xi \\left(0.2 \\epsilon + 0.4 \\xi + 1\\right)^{2} \\left(c \\left(0.2 \\epsilon + 1.4\\right) - 0.4 \\xi + 0.4\\right) + 0.08 \\left(\\xi^{2} - 1\\right) \\left(0.4 \\epsilon + 0.8 \\xi + 2\\right) \\left(c \\left(0.2 \\epsilon + 1.4\\right) + 0.2 \\epsilon + 1.4\\right) + \\left(0.2 \\epsilon + 0.4 \\xi + 1\\right)^{2} \\cdot \\left(0.4 \\epsilon + 0.8 \\xi + 2\\right)\\right)}{\\left(0.2 \\epsilon + 0.4 \\xi + 1\\right)^{2} \\cdot \\left(0.4 \\epsilon + 0.8 \\xi + 2\\right)}$"
      ],
      "text/plain": [
       "(epsilon + 2*xi + 2)**2*(-0.8*xi*(0.2*epsilon + 0.4*xi + 1)**2*(c*(0.2*epsilon + 1.4) - 0.4*xi + 0.4) + 0.08*(xi**2 - 1)*(0.4*epsilon + 0.8*xi + 2)*(c*(0.2*epsilon + 1.4) + 0.2*epsilon + 1.4) + (0.2*epsilon + 0.4*xi + 1)**2*(0.4*epsilon + 0.8*xi + 2))/((0.2*epsilon + 0.4*xi + 1)**2*(0.4*epsilon + 0.8*xi + 2))"
      ]
     },
     "execution_count": 76,
     "metadata": {},
     "output_type": "execute_result"
    }
   ],
   "source": [
    "#Ahora definimos el polinomio P:\n",
    "\n",
    "P_eta = n_t_factorizada * ((2 + 2*1*xi + 2*1*epsilon/2)**2)/(g)\n",
    "P_eta"
   ]
  },
  {
   "cell_type": "code",
   "execution_count": 77,
   "id": "999a15c0-2a10-4252-83f3-cde3600b81c6",
   "metadata": {
    "tags": []
   },
   "outputs": [
    {
     "data": {
      "text/latex": [
       "$\\displaystyle - \\frac{0.0064 c \\epsilon^{5} \\xi}{0.016 \\epsilon^{3} + 0.096 \\epsilon^{2} \\xi + 0.24 \\epsilon^{2} + 0.192 \\epsilon \\xi^{2} + 0.96 \\epsilon \\xi + 1.2 \\epsilon + 0.128 \\xi^{3} + 0.96 \\xi^{2} + 2.4 \\xi + 2} - \\frac{0.0448 c \\epsilon^{4} \\xi^{2}}{0.016 \\epsilon^{3} + 0.096 \\epsilon^{2} \\xi + 0.24 \\epsilon^{2} + 0.192 \\epsilon \\xi^{2} + 0.96 \\epsilon \\xi + 1.2 \\epsilon + 0.128 \\xi^{3} + 0.96 \\xi^{2} + 2.4 \\xi + 2} - \\frac{0.1344 c \\epsilon^{4} \\xi}{0.016 \\epsilon^{3} + 0.096 \\epsilon^{2} \\xi + 0.24 \\epsilon^{2} + 0.192 \\epsilon \\xi^{2} + 0.96 \\epsilon \\xi + 1.2 \\epsilon + 0.128 \\xi^{3} + 0.96 \\xi^{2} + 2.4 \\xi + 2} - \\frac{0.0064 c \\epsilon^{4}}{0.016 \\epsilon^{3} + 0.096 \\epsilon^{2} \\xi + 0.24 \\epsilon^{2} + 0.192 \\epsilon \\xi^{2} + 0.96 \\epsilon \\xi + 1.2 \\epsilon + 0.128 \\xi^{3} + 0.96 \\xi^{2} + 2.4 \\xi + 2} - \\frac{0.1152 c \\epsilon^{3} \\xi^{3}}{0.016 \\epsilon^{3} + 0.096 \\epsilon^{2} \\xi + 0.24 \\epsilon^{2} + 0.192 \\epsilon \\xi^{2} + 0.96 \\epsilon \\xi + 1.2 \\epsilon + 0.128 \\xi^{3} + 0.96 \\xi^{2} + 2.4 \\xi + 2} - \\frac{0.7936 c \\epsilon^{3} \\xi^{2}}{0.016 \\epsilon^{3} + 0.096 \\epsilon^{2} \\xi + 0.24 \\epsilon^{2} + 0.192 \\epsilon \\xi^{2} + 0.96 \\epsilon \\xi + 1.2 \\epsilon + 0.128 \\xi^{3} + 0.96 \\xi^{2} + 2.4 \\xi + 2} - \\frac{1.1072 c \\epsilon^{3} \\xi}{0.016 \\epsilon^{3} + 0.096 \\epsilon^{2} \\xi + 0.24 \\epsilon^{2} + 0.192 \\epsilon \\xi^{2} + 0.96 \\epsilon \\xi + 1.2 \\epsilon + 0.128 \\xi^{3} + 0.96 \\xi^{2} + 2.4 \\xi + 2} - \\frac{0.1024 c \\epsilon^{3}}{0.016 \\epsilon^{3} + 0.096 \\epsilon^{2} \\xi + 0.24 \\epsilon^{2} + 0.192 \\epsilon \\xi^{2} + 0.96 \\epsilon \\xi + 1.2 \\epsilon + 0.128 \\xi^{3} + 0.96 \\xi^{2} + 2.4 \\xi + 2} - \\frac{0.128 c \\epsilon^{2} \\xi^{4}}{0.016 \\epsilon^{3} + 0.096 \\epsilon^{2} \\xi + 0.24 \\epsilon^{2} + 0.192 \\epsilon \\xi^{2} + 0.96 \\epsilon \\xi + 1.2 \\epsilon + 0.128 \\xi^{3} + 0.96 \\xi^{2} + 2.4 \\xi + 2} - \\frac{1.6512 c \\epsilon^{2} \\xi^{3}}{0.016 \\epsilon^{3} + 0.096 \\epsilon^{2} \\xi + 0.24 \\epsilon^{2} + 0.192 \\epsilon \\xi^{2} + 0.96 \\epsilon \\xi + 1.2 \\epsilon + 0.128 \\xi^{3} + 0.96 \\xi^{2} + 2.4 \\xi + 2} - \\frac{5.0496 c \\epsilon^{2} \\xi^{2}}{0.016 \\epsilon^{3} + 0.096 \\epsilon^{2} \\xi + 0.24 \\epsilon^{2} + 0.192 \\epsilon \\xi^{2} + 0.96 \\epsilon \\xi + 1.2 \\epsilon + 0.128 \\xi^{3} + 0.96 \\xi^{2} + 2.4 \\xi + 2} - \\frac{4.4864 c \\epsilon^{2} \\xi}{0.016 \\epsilon^{3} + 0.096 \\epsilon^{2} \\xi + 0.24 \\epsilon^{2} + 0.192 \\epsilon \\xi^{2} + 0.96 \\epsilon \\xi + 1.2 \\epsilon + 0.128 \\xi^{3} + 0.96 \\xi^{2} + 2.4 \\xi + 2} - \\frac{0.5568 c \\epsilon^{2}}{0.016 \\epsilon^{3} + 0.096 \\epsilon^{2} \\xi + 0.24 \\epsilon^{2} + 0.192 \\epsilon \\xi^{2} + 0.96 \\epsilon \\xi + 1.2 \\epsilon + 0.128 \\xi^{3} + 0.96 \\xi^{2} + 2.4 \\xi + 2} - \\frac{0.0512 c \\epsilon \\xi^{5}}{0.016 \\epsilon^{3} + 0.096 \\epsilon^{2} \\xi + 0.24 \\epsilon^{2} + 0.192 \\epsilon \\xi^{2} + 0.96 \\epsilon \\xi + 1.2 \\epsilon + 0.128 \\xi^{3} + 0.96 \\xi^{2} + 2.4 \\xi + 2} - \\frac{1.3824 c \\epsilon \\xi^{4}}{0.016 \\epsilon^{3} + 0.096 \\epsilon^{2} \\xi + 0.24 \\epsilon^{2} + 0.192 \\epsilon \\xi^{2} + 0.96 \\epsilon \\xi + 1.2 \\epsilon + 0.128 \\xi^{3} + 0.96 \\xi^{2} + 2.4 \\xi + 2} - \\frac{7.424 c \\epsilon \\xi^{3}}{0.016 \\epsilon^{3} + 0.096 \\epsilon^{2} \\xi + 0.24 \\epsilon^{2} + 0.192 \\epsilon \\xi^{2} + 0.96 \\epsilon \\xi + 1.2 \\epsilon + 0.128 \\xi^{3} + 0.96 \\xi^{2} + 2.4 \\xi + 2} - \\frac{13.7216 c \\epsilon \\xi^{2}}{0.016 \\epsilon^{3} + 0.096 \\epsilon^{2} \\xi + 0.24 \\epsilon^{2} + 0.192 \\epsilon \\xi^{2} + 0.96 \\epsilon \\xi + 1.2 \\epsilon + 0.128 \\xi^{3} + 0.96 \\xi^{2} + 2.4 \\xi + 2} - \\frac{8.832 c \\epsilon \\xi}{0.016 \\epsilon^{3} + 0.096 \\epsilon^{2} \\xi + 0.24 \\epsilon^{2} + 0.192 \\epsilon \\xi^{2} + 0.96 \\epsilon \\xi + 1.2 \\epsilon + 0.128 \\xi^{3} + 0.96 \\xi^{2} + 2.4 \\xi + 2} - \\frac{1.2032 c \\epsilon}{0.016 \\epsilon^{3} + 0.096 \\epsilon^{2} \\xi + 0.24 \\epsilon^{2} + 0.192 \\epsilon \\xi^{2} + 0.96 \\epsilon \\xi + 1.2 \\epsilon + 0.128 \\xi^{3} + 0.96 \\xi^{2} + 2.4 \\xi + 2} - \\frac{0.3584 c \\xi^{5}}{0.016 \\epsilon^{3} + 0.096 \\epsilon^{2} \\xi + 0.24 \\epsilon^{2} + 0.192 \\epsilon \\xi^{2} + 0.96 \\epsilon \\xi + 1.2 \\epsilon + 0.128 \\xi^{3} + 0.96 \\xi^{2} + 2.4 \\xi + 2} - \\frac{3.4048 c \\xi^{4}}{0.016 \\epsilon^{3} + 0.096 \\epsilon^{2} \\xi + 0.24 \\epsilon^{2} + 0.192 \\epsilon \\xi^{2} + 0.96 \\epsilon \\xi + 1.2 \\epsilon + 0.128 \\xi^{3} + 0.96 \\xi^{2} + 2.4 \\xi + 2} - \\frac{10.5728 c \\xi^{3}}{0.016 \\epsilon^{3} + 0.096 \\epsilon^{2} \\xi + 0.24 \\epsilon^{2} + 0.192 \\epsilon \\xi^{2} + 0.96 \\epsilon \\xi + 1.2 \\epsilon + 0.128 \\xi^{3} + 0.96 \\xi^{2} + 2.4 \\xi + 2} - \\frac{13.2608 c \\xi^{2}}{0.016 \\epsilon^{3} + 0.096 \\epsilon^{2} \\xi + 0.24 \\epsilon^{2} + 0.192 \\epsilon \\xi^{2} + 0.96 \\epsilon \\xi + 1.2 \\epsilon + 0.128 \\xi^{3} + 0.96 \\xi^{2} + 2.4 \\xi + 2} - \\frac{6.6304 c \\xi}{0.016 \\epsilon^{3} + 0.096 \\epsilon^{2} \\xi + 0.24 \\epsilon^{2} + 0.192 \\epsilon \\xi^{2} + 0.96 \\epsilon \\xi + 1.2 \\epsilon + 0.128 \\xi^{3} + 0.96 \\xi^{2} + 2.4 \\xi + 2} - \\frac{0.896 c}{0.016 \\epsilon^{3} + 0.096 \\epsilon^{2} \\xi + 0.24 \\epsilon^{2} + 0.192 \\epsilon \\xi^{2} + 0.96 \\epsilon \\xi + 1.2 \\epsilon + 0.128 \\xi^{3} + 0.96 \\xi^{2} + 2.4 \\xi + 2} + \\frac{0.016 \\epsilon^{5}}{0.016 \\epsilon^{3} + 0.096 \\epsilon^{2} \\xi + 0.24 \\epsilon^{2} + 0.192 \\epsilon \\xi^{2} + 0.96 \\epsilon \\xi + 1.2 \\epsilon + 0.128 \\xi^{3} + 0.96 \\xi^{2} + 2.4 \\xi + 2} + \\frac{0.0192 \\epsilon^{4} \\xi^{2}}{0.016 \\epsilon^{3} + 0.096 \\epsilon^{2} \\xi + 0.24 \\epsilon^{2} + 0.192 \\epsilon \\xi^{2} + 0.96 \\epsilon \\xi + 1.2 \\epsilon + 0.128 \\xi^{3} + 0.96 \\xi^{2} + 2.4 \\xi + 2} + \\frac{0.1472 \\epsilon^{4} \\xi}{0.016 \\epsilon^{3} + 0.096 \\epsilon^{2} \\xi + 0.24 \\epsilon^{2} + 0.192 \\epsilon \\xi^{2} + 0.96 \\epsilon \\xi + 1.2 \\epsilon + 0.128 \\xi^{3} + 0.96 \\xi^{2} + 2.4 \\xi + 2} + \\frac{0.2976 \\epsilon^{4}}{0.016 \\epsilon^{3} + 0.096 \\epsilon^{2} \\xi + 0.24 \\epsilon^{2} + 0.192 \\epsilon \\xi^{2} + 0.96 \\epsilon \\xi + 1.2 \\epsilon + 0.128 \\xi^{3} + 0.96 \\xi^{2} + 2.4 \\xi + 2} + \\frac{0.1408 \\epsilon^{3} \\xi^{3}}{0.016 \\epsilon^{3} + 0.096 \\epsilon^{2} \\xi + 0.24 \\epsilon^{2} + 0.192 \\epsilon \\xi^{2} + 0.96 \\epsilon \\xi + 1.2 \\epsilon + 0.128 \\xi^{3} + 0.96 \\xi^{2} + 2.4 \\xi + 2} + \\frac{0.8192 \\epsilon^{3} \\xi^{2}}{0.016 \\epsilon^{3} + 0.096 \\epsilon^{2} \\xi + 0.24 \\epsilon^{2} + 0.192 \\epsilon \\xi^{2} + 0.96 \\epsilon \\xi + 1.2 \\epsilon + 0.128 \\xi^{3} + 0.96 \\xi^{2} + 2.4 \\xi + 2} + \\frac{2.2144 \\epsilon^{3} \\xi}{0.016 \\epsilon^{3} + 0.096 \\epsilon^{2} \\xi + 0.24 \\epsilon^{2} + 0.192 \\epsilon \\xi^{2} + 0.96 \\epsilon \\xi + 1.2 \\epsilon + 0.128 \\xi^{3} + 0.96 \\xi^{2} + 2.4 \\xi + 2} + \\frac{2.1216 \\epsilon^{3}}{0.016 \\epsilon^{3} + 0.096 \\epsilon^{2} \\xi + 0.24 \\epsilon^{2} + 0.192 \\epsilon \\xi^{2} + 0.96 \\epsilon \\xi + 1.2 \\epsilon + 0.128 \\xi^{3} + 0.96 \\xi^{2} + 2.4 \\xi + 2} + \\frac{0.384 \\epsilon^{2} \\xi^{4}}{0.016 \\epsilon^{3} + 0.096 \\epsilon^{2} \\xi + 0.24 \\epsilon^{2} + 0.192 \\epsilon \\xi^{2} + 0.96 \\epsilon \\xi + 1.2 \\epsilon + 0.128 \\xi^{3} + 0.96 \\xi^{2} + 2.4 \\xi + 2} + \\frac{2.5472 \\epsilon^{2} \\xi^{3}}{0.016 \\epsilon^{3} + 0.096 \\epsilon^{2} \\xi + 0.24 \\epsilon^{2} + 0.192 \\epsilon \\xi^{2} + 0.96 \\epsilon \\xi + 1.2 \\epsilon + 0.128 \\xi^{3} + 0.96 \\xi^{2} + 2.4 \\xi + 2} + \\frac{7.584 \\epsilon^{2} \\xi^{2}}{0.016 \\epsilon^{3} + 0.096 \\epsilon^{2} \\xi + 0.24 \\epsilon^{2} + 0.192 \\epsilon \\xi^{2} + 0.96 \\epsilon \\xi + 1.2 \\epsilon + 0.128 \\xi^{3} + 0.96 \\xi^{2} + 2.4 \\xi + 2} + \\frac{11.9616 \\epsilon^{2} \\xi}{0.016 \\epsilon^{3} + 0.096 \\epsilon^{2} \\xi + 0.24 \\epsilon^{2} + 0.192 \\epsilon \\xi^{2} + 0.96 \\epsilon \\xi + 1.2 \\epsilon + 0.128 \\xi^{3} + 0.96 \\xi^{2} + 2.4 \\xi + 2} + \\frac{7.2032 \\epsilon^{2}}{0.016 \\epsilon^{3} + 0.096 \\epsilon^{2} \\xi + 0.24 \\epsilon^{2} + 0.192 \\epsilon \\xi^{2} + 0.96 \\epsilon \\xi + 1.2 \\epsilon + 0.128 \\xi^{3} + 0.96 \\xi^{2} + 2.4 \\xi + 2} + \\frac{0.4608 \\epsilon \\xi^{5}}{0.016 \\epsilon^{3} + 0.096 \\epsilon^{2} \\xi + 0.24 \\epsilon^{2} + 0.192 \\epsilon \\xi^{2} + 0.96 \\epsilon \\xi + 1.2 \\epsilon + 0.128 \\xi^{3} + 0.96 \\xi^{2} + 2.4 \\xi + 2} + \\frac{3.7888 \\epsilon \\xi^{4}}{0.016 \\epsilon^{3} + 0.096 \\epsilon^{2} \\xi + 0.24 \\epsilon^{2} + 0.192 \\epsilon \\xi^{2} + 0.96 \\epsilon \\xi + 1.2 \\epsilon + 0.128 \\xi^{3} + 0.96 \\xi^{2} + 2.4 \\xi + 2} + \\frac{12.9792 \\epsilon \\xi^{3}}{0.016 \\epsilon^{3} + 0.096 \\epsilon^{2} \\xi + 0.24 \\epsilon^{2} + 0.192 \\epsilon \\xi^{2} + 0.96 \\epsilon \\xi + 1.2 \\epsilon + 0.128 \\xi^{3} + 0.96 \\xi^{2} + 2.4 \\xi + 2} + \\frac{25.3824 \\epsilon \\xi^{2}}{0.016 \\epsilon^{3} + 0.096 \\epsilon^{2} \\xi + 0.24 \\epsilon^{2} + 0.192 \\epsilon \\xi^{2} + 0.96 \\epsilon \\xi + 1.2 \\epsilon + 0.128 \\xi^{3} + 0.96 \\xi^{2} + 2.4 \\xi + 2} + \\frac{27.328 \\epsilon \\xi}{0.016 \\epsilon^{3} + 0.096 \\epsilon^{2} \\xi + 0.24 \\epsilon^{2} + 0.192 \\epsilon \\xi^{2} + 0.96 \\epsilon \\xi + 1.2 \\epsilon + 0.128 \\xi^{3} + 0.96 \\xi^{2} + 2.4 \\xi + 2} + \\frac{11.5968 \\epsilon}{0.016 \\epsilon^{3} + 0.096 \\epsilon^{2} \\xi + 0.24 \\epsilon^{2} + 0.192 \\epsilon \\xi^{2} + 0.96 \\epsilon \\xi + 1.2 \\epsilon + 0.128 \\xi^{3} + 0.96 \\xi^{2} + 2.4 \\xi + 2} + \\frac{0.2048 \\xi^{6}}{0.016 \\epsilon^{3} + 0.096 \\epsilon^{2} \\xi + 0.24 \\epsilon^{2} + 0.192 \\epsilon \\xi^{2} + 0.96 \\epsilon \\xi + 1.2 \\epsilon + 0.128 \\xi^{3} + 0.96 \\xi^{2} + 2.4 \\xi + 2} + \\frac{2.0992 \\xi^{5}}{0.016 \\epsilon^{3} + 0.096 \\epsilon^{2} \\xi + 0.24 \\epsilon^{2} + 0.192 \\epsilon \\xi^{2} + 0.96 \\epsilon \\xi + 1.2 \\epsilon + 0.128 \\xi^{3} + 0.96 \\xi^{2} + 2.4 \\xi + 2} + \\frac{8.576 \\xi^{4}}{0.016 \\epsilon^{3} + 0.096 \\epsilon^{2} \\xi + 0.24 \\epsilon^{2} + 0.192 \\epsilon \\xi^{2} + 0.96 \\epsilon \\xi + 1.2 \\epsilon + 0.128 \\xi^{3} + 0.96 \\xi^{2} + 2.4 \\xi + 2} + \\frac{19.6352 \\xi^{3}}{0.016 \\epsilon^{3} + 0.096 \\epsilon^{2} \\xi + 0.24 \\epsilon^{2} + 0.192 \\epsilon \\xi^{2} + 0.96 \\epsilon \\xi + 1.2 \\epsilon + 0.128 \\xi^{3} + 0.96 \\xi^{2} + 2.4 \\xi + 2} + \\frac{28.0192 \\xi^{2}}{0.016 \\epsilon^{3} + 0.096 \\epsilon^{2} \\xi + 0.24 \\epsilon^{2} + 0.192 \\epsilon \\xi^{2} + 0.96 \\epsilon \\xi + 1.2 \\epsilon + 0.128 \\xi^{3} + 0.96 \\xi^{2} + 2.4 \\xi + 2} + \\frac{22.1696 \\xi}{0.016 \\epsilon^{3} + 0.096 \\epsilon^{2} \\xi + 0.24 \\epsilon^{2} + 0.192 \\epsilon \\xi^{2} + 0.96 \\epsilon \\xi + 1.2 \\epsilon + 0.128 \\xi^{3} + 0.96 \\xi^{2} + 2.4 \\xi + 2} + \\frac{7.104}{0.016 \\epsilon^{3} + 0.096 \\epsilon^{2} \\xi + 0.24 \\epsilon^{2} + 0.192 \\epsilon \\xi^{2} + 0.96 \\epsilon \\xi + 1.2 \\epsilon + 0.128 \\xi^{3} + 0.96 \\xi^{2} + 2.4 \\xi + 2}$"
      ],
      "text/plain": [
       "-0.0064*c*epsilon**5*xi/(0.016*epsilon**3 + 0.096*epsilon**2*xi + 0.24*epsilon**2 + 0.192*epsilon*xi**2 + 0.96*epsilon*xi + 1.2*epsilon + 0.128*xi**3 + 0.96*xi**2 + 2.4*xi + 2) - 0.0448*c*epsilon**4*xi**2/(0.016*epsilon**3 + 0.096*epsilon**2*xi + 0.24*epsilon**2 + 0.192*epsilon*xi**2 + 0.96*epsilon*xi + 1.2*epsilon + 0.128*xi**3 + 0.96*xi**2 + 2.4*xi + 2) - 0.1344*c*epsilon**4*xi/(0.016*epsilon**3 + 0.096*epsilon**2*xi + 0.24*epsilon**2 + 0.192*epsilon*xi**2 + 0.96*epsilon*xi + 1.2*epsilon + 0.128*xi**3 + 0.96*xi**2 + 2.4*xi + 2) - 0.0064*c*epsilon**4/(0.016*epsilon**3 + 0.096*epsilon**2*xi + 0.24*epsilon**2 + 0.192*epsilon*xi**2 + 0.96*epsilon*xi + 1.2*epsilon + 0.128*xi**3 + 0.96*xi**2 + 2.4*xi + 2) - 0.1152*c*epsilon**3*xi**3/(0.016*epsilon**3 + 0.096*epsilon**2*xi + 0.24*epsilon**2 + 0.192*epsilon*xi**2 + 0.96*epsilon*xi + 1.2*epsilon + 0.128*xi**3 + 0.96*xi**2 + 2.4*xi + 2) - 0.7936*c*epsilon**3*xi**2/(0.016*epsilon**3 + 0.096*epsilon**2*xi + 0.24*epsilon**2 + 0.192*epsilon*xi**2 + 0.96*epsilon*xi + 1.2*epsilon + 0.128*xi**3 + 0.96*xi**2 + 2.4*xi + 2) - 1.1072*c*epsilon**3*xi/(0.016*epsilon**3 + 0.096*epsilon**2*xi + 0.24*epsilon**2 + 0.192*epsilon*xi**2 + 0.96*epsilon*xi + 1.2*epsilon + 0.128*xi**3 + 0.96*xi**2 + 2.4*xi + 2) - 0.1024*c*epsilon**3/(0.016*epsilon**3 + 0.096*epsilon**2*xi + 0.24*epsilon**2 + 0.192*epsilon*xi**2 + 0.96*epsilon*xi + 1.2*epsilon + 0.128*xi**3 + 0.96*xi**2 + 2.4*xi + 2) - 0.128*c*epsilon**2*xi**4/(0.016*epsilon**3 + 0.096*epsilon**2*xi + 0.24*epsilon**2 + 0.192*epsilon*xi**2 + 0.96*epsilon*xi + 1.2*epsilon + 0.128*xi**3 + 0.96*xi**2 + 2.4*xi + 2) - 1.6512*c*epsilon**2*xi**3/(0.016*epsilon**3 + 0.096*epsilon**2*xi + 0.24*epsilon**2 + 0.192*epsilon*xi**2 + 0.96*epsilon*xi + 1.2*epsilon + 0.128*xi**3 + 0.96*xi**2 + 2.4*xi + 2) - 5.0496*c*epsilon**2*xi**2/(0.016*epsilon**3 + 0.096*epsilon**2*xi + 0.24*epsilon**2 + 0.192*epsilon*xi**2 + 0.96*epsilon*xi + 1.2*epsilon + 0.128*xi**3 + 0.96*xi**2 + 2.4*xi + 2) - 4.4864*c*epsilon**2*xi/(0.016*epsilon**3 + 0.096*epsilon**2*xi + 0.24*epsilon**2 + 0.192*epsilon*xi**2 + 0.96*epsilon*xi + 1.2*epsilon + 0.128*xi**3 + 0.96*xi**2 + 2.4*xi + 2) - 0.5568*c*epsilon**2/(0.016*epsilon**3 + 0.096*epsilon**2*xi + 0.24*epsilon**2 + 0.192*epsilon*xi**2 + 0.96*epsilon*xi + 1.2*epsilon + 0.128*xi**3 + 0.96*xi**2 + 2.4*xi + 2) - 0.0512*c*epsilon*xi**5/(0.016*epsilon**3 + 0.096*epsilon**2*xi + 0.24*epsilon**2 + 0.192*epsilon*xi**2 + 0.96*epsilon*xi + 1.2*epsilon + 0.128*xi**3 + 0.96*xi**2 + 2.4*xi + 2) - 1.3824*c*epsilon*xi**4/(0.016*epsilon**3 + 0.096*epsilon**2*xi + 0.24*epsilon**2 + 0.192*epsilon*xi**2 + 0.96*epsilon*xi + 1.2*epsilon + 0.128*xi**3 + 0.96*xi**2 + 2.4*xi + 2) - 7.424*c*epsilon*xi**3/(0.016*epsilon**3 + 0.096*epsilon**2*xi + 0.24*epsilon**2 + 0.192*epsilon*xi**2 + 0.96*epsilon*xi + 1.2*epsilon + 0.128*xi**3 + 0.96*xi**2 + 2.4*xi + 2) - 13.7216*c*epsilon*xi**2/(0.016*epsilon**3 + 0.096*epsilon**2*xi + 0.24*epsilon**2 + 0.192*epsilon*xi**2 + 0.96*epsilon*xi + 1.2*epsilon + 0.128*xi**3 + 0.96*xi**2 + 2.4*xi + 2) - 8.832*c*epsilon*xi/(0.016*epsilon**3 + 0.096*epsilon**2*xi + 0.24*epsilon**2 + 0.192*epsilon*xi**2 + 0.96*epsilon*xi + 1.2*epsilon + 0.128*xi**3 + 0.96*xi**2 + 2.4*xi + 2) - 1.2032*c*epsilon/(0.016*epsilon**3 + 0.096*epsilon**2*xi + 0.24*epsilon**2 + 0.192*epsilon*xi**2 + 0.96*epsilon*xi + 1.2*epsilon + 0.128*xi**3 + 0.96*xi**2 + 2.4*xi + 2) - 0.3584*c*xi**5/(0.016*epsilon**3 + 0.096*epsilon**2*xi + 0.24*epsilon**2 + 0.192*epsilon*xi**2 + 0.96*epsilon*xi + 1.2*epsilon + 0.128*xi**3 + 0.96*xi**2 + 2.4*xi + 2) - 3.4048*c*xi**4/(0.016*epsilon**3 + 0.096*epsilon**2*xi + 0.24*epsilon**2 + 0.192*epsilon*xi**2 + 0.96*epsilon*xi + 1.2*epsilon + 0.128*xi**3 + 0.96*xi**2 + 2.4*xi + 2) - 10.5728*c*xi**3/(0.016*epsilon**3 + 0.096*epsilon**2*xi + 0.24*epsilon**2 + 0.192*epsilon*xi**2 + 0.96*epsilon*xi + 1.2*epsilon + 0.128*xi**3 + 0.96*xi**2 + 2.4*xi + 2) - 13.2608*c*xi**2/(0.016*epsilon**3 + 0.096*epsilon**2*xi + 0.24*epsilon**2 + 0.192*epsilon*xi**2 + 0.96*epsilon*xi + 1.2*epsilon + 0.128*xi**3 + 0.96*xi**2 + 2.4*xi + 2) - 6.6304*c*xi/(0.016*epsilon**3 + 0.096*epsilon**2*xi + 0.24*epsilon**2 + 0.192*epsilon*xi**2 + 0.96*epsilon*xi + 1.2*epsilon + 0.128*xi**3 + 0.96*xi**2 + 2.4*xi + 2) - 0.896*c/(0.016*epsilon**3 + 0.096*epsilon**2*xi + 0.24*epsilon**2 + 0.192*epsilon*xi**2 + 0.96*epsilon*xi + 1.2*epsilon + 0.128*xi**3 + 0.96*xi**2 + 2.4*xi + 2) + 0.016*epsilon**5/(0.016*epsilon**3 + 0.096*epsilon**2*xi + 0.24*epsilon**2 + 0.192*epsilon*xi**2 + 0.96*epsilon*xi + 1.2*epsilon + 0.128*xi**3 + 0.96*xi**2 + 2.4*xi + 2) + 0.0192*epsilon**4*xi**2/(0.016*epsilon**3 + 0.096*epsilon**2*xi + 0.24*epsilon**2 + 0.192*epsilon*xi**2 + 0.96*epsilon*xi + 1.2*epsilon + 0.128*xi**3 + 0.96*xi**2 + 2.4*xi + 2) + 0.1472*epsilon**4*xi/(0.016*epsilon**3 + 0.096*epsilon**2*xi + 0.24*epsilon**2 + 0.192*epsilon*xi**2 + 0.96*epsilon*xi + 1.2*epsilon + 0.128*xi**3 + 0.96*xi**2 + 2.4*xi + 2) + 0.2976*epsilon**4/(0.016*epsilon**3 + 0.096*epsilon**2*xi + 0.24*epsilon**2 + 0.192*epsilon*xi**2 + 0.96*epsilon*xi + 1.2*epsilon + 0.128*xi**3 + 0.96*xi**2 + 2.4*xi + 2) + 0.1408*epsilon**3*xi**3/(0.016*epsilon**3 + 0.096*epsilon**2*xi + 0.24*epsilon**2 + 0.192*epsilon*xi**2 + 0.96*epsilon*xi + 1.2*epsilon + 0.128*xi**3 + 0.96*xi**2 + 2.4*xi + 2) + 0.8192*epsilon**3*xi**2/(0.016*epsilon**3 + 0.096*epsilon**2*xi + 0.24*epsilon**2 + 0.192*epsilon*xi**2 + 0.96*epsilon*xi + 1.2*epsilon + 0.128*xi**3 + 0.96*xi**2 + 2.4*xi + 2) + 2.2144*epsilon**3*xi/(0.016*epsilon**3 + 0.096*epsilon**2*xi + 0.24*epsilon**2 + 0.192*epsilon*xi**2 + 0.96*epsilon*xi + 1.2*epsilon + 0.128*xi**3 + 0.96*xi**2 + 2.4*xi + 2) + 2.1216*epsilon**3/(0.016*epsilon**3 + 0.096*epsilon**2*xi + 0.24*epsilon**2 + 0.192*epsilon*xi**2 + 0.96*epsilon*xi + 1.2*epsilon + 0.128*xi**3 + 0.96*xi**2 + 2.4*xi + 2) + 0.384*epsilon**2*xi**4/(0.016*epsilon**3 + 0.096*epsilon**2*xi + 0.24*epsilon**2 + 0.192*epsilon*xi**2 + 0.96*epsilon*xi + 1.2*epsilon + 0.128*xi**3 + 0.96*xi**2 + 2.4*xi + 2) + 2.5472*epsilon**2*xi**3/(0.016*epsilon**3 + 0.096*epsilon**2*xi + 0.24*epsilon**2 + 0.192*epsilon*xi**2 + 0.96*epsilon*xi + 1.2*epsilon + 0.128*xi**3 + 0.96*xi**2 + 2.4*xi + 2) + 7.584*epsilon**2*xi**2/(0.016*epsilon**3 + 0.096*epsilon**2*xi + 0.24*epsilon**2 + 0.192*epsilon*xi**2 + 0.96*epsilon*xi + 1.2*epsilon + 0.128*xi**3 + 0.96*xi**2 + 2.4*xi + 2) + 11.9616*epsilon**2*xi/(0.016*epsilon**3 + 0.096*epsilon**2*xi + 0.24*epsilon**2 + 0.192*epsilon*xi**2 + 0.96*epsilon*xi + 1.2*epsilon + 0.128*xi**3 + 0.96*xi**2 + 2.4*xi + 2) + 7.2032*epsilon**2/(0.016*epsilon**3 + 0.096*epsilon**2*xi + 0.24*epsilon**2 + 0.192*epsilon*xi**2 + 0.96*epsilon*xi + 1.2*epsilon + 0.128*xi**3 + 0.96*xi**2 + 2.4*xi + 2) + 0.4608*epsilon*xi**5/(0.016*epsilon**3 + 0.096*epsilon**2*xi + 0.24*epsilon**2 + 0.192*epsilon*xi**2 + 0.96*epsilon*xi + 1.2*epsilon + 0.128*xi**3 + 0.96*xi**2 + 2.4*xi + 2) + 3.7888*epsilon*xi**4/(0.016*epsilon**3 + 0.096*epsilon**2*xi + 0.24*epsilon**2 + 0.192*epsilon*xi**2 + 0.96*epsilon*xi + 1.2*epsilon + 0.128*xi**3 + 0.96*xi**2 + 2.4*xi + 2) + 12.9792*epsilon*xi**3/(0.016*epsilon**3 + 0.096*epsilon**2*xi + 0.24*epsilon**2 + 0.192*epsilon*xi**2 + 0.96*epsilon*xi + 1.2*epsilon + 0.128*xi**3 + 0.96*xi**2 + 2.4*xi + 2) + 25.3824*epsilon*xi**2/(0.016*epsilon**3 + 0.096*epsilon**2*xi + 0.24*epsilon**2 + 0.192*epsilon*xi**2 + 0.96*epsilon*xi + 1.2*epsilon + 0.128*xi**3 + 0.96*xi**2 + 2.4*xi + 2) + 27.328*epsilon*xi/(0.016*epsilon**3 + 0.096*epsilon**2*xi + 0.24*epsilon**2 + 0.192*epsilon*xi**2 + 0.96*epsilon*xi + 1.2*epsilon + 0.128*xi**3 + 0.96*xi**2 + 2.4*xi + 2) + 11.5968*epsilon/(0.016*epsilon**3 + 0.096*epsilon**2*xi + 0.24*epsilon**2 + 0.192*epsilon*xi**2 + 0.96*epsilon*xi + 1.2*epsilon + 0.128*xi**3 + 0.96*xi**2 + 2.4*xi + 2) + 0.2048*xi**6/(0.016*epsilon**3 + 0.096*epsilon**2*xi + 0.24*epsilon**2 + 0.192*epsilon*xi**2 + 0.96*epsilon*xi + 1.2*epsilon + 0.128*xi**3 + 0.96*xi**2 + 2.4*xi + 2) + 2.0992*xi**5/(0.016*epsilon**3 + 0.096*epsilon**2*xi + 0.24*epsilon**2 + 0.192*epsilon*xi**2 + 0.96*epsilon*xi + 1.2*epsilon + 0.128*xi**3 + 0.96*xi**2 + 2.4*xi + 2) + 8.576*xi**4/(0.016*epsilon**3 + 0.096*epsilon**2*xi + 0.24*epsilon**2 + 0.192*epsilon*xi**2 + 0.96*epsilon*xi + 1.2*epsilon + 0.128*xi**3 + 0.96*xi**2 + 2.4*xi + 2) + 19.6352*xi**3/(0.016*epsilon**3 + 0.096*epsilon**2*xi + 0.24*epsilon**2 + 0.192*epsilon*xi**2 + 0.96*epsilon*xi + 1.2*epsilon + 0.128*xi**3 + 0.96*xi**2 + 2.4*xi + 2) + 28.0192*xi**2/(0.016*epsilon**3 + 0.096*epsilon**2*xi + 0.24*epsilon**2 + 0.192*epsilon*xi**2 + 0.96*epsilon*xi + 1.2*epsilon + 0.128*xi**3 + 0.96*xi**2 + 2.4*xi + 2) + 22.1696*xi/(0.016*epsilon**3 + 0.096*epsilon**2*xi + 0.24*epsilon**2 + 0.192*epsilon*xi**2 + 0.96*epsilon*xi + 1.2*epsilon + 0.128*xi**3 + 0.96*xi**2 + 2.4*xi + 2) + 7.104/(0.016*epsilon**3 + 0.096*epsilon**2*xi + 0.24*epsilon**2 + 0.192*epsilon*xi**2 + 0.96*epsilon*xi + 1.2*epsilon + 0.128*xi**3 + 0.96*xi**2 + 2.4*xi + 2)"
      ]
     },
     "execution_count": 77,
     "metadata": {},
     "output_type": "execute_result"
    }
   ],
   "source": [
    "P_eta_expand = smp.expand(P_eta)\n",
    "P_eta_expand"
   ]
  },
  {
   "cell_type": "code",
   "execution_count": 78,
   "id": "03540321-197a-477b-8c11-102e5054facd",
   "metadata": {
    "tags": []
   },
   "outputs": [
    {
     "data": {
      "text/latex": [
       "$\\displaystyle \\frac{14.0096 \\left(- 0.000228414801279123 c \\epsilon^{4} - 0.00365463682046597 c \\epsilon^{3} - 0.0198720877112837 c \\epsilon^{2} - 0.0429419826404751 c \\epsilon - 0.0319780721790772 c + 0.000571037003197807 \\epsilon^{5} + 0.0106212882594792 \\epsilon^{4} + 0.0757195066240292 \\epsilon^{3} + 0.257080858839653 \\epsilon^{2} + 0.413887619917771 \\epsilon + 0.00730927364093193 \\xi^{6} + \\xi^{5} \\left(- 0.00182731841023298 c \\epsilon - 0.0127912288716309 c + 0.0164458656920969 \\epsilon + 0.0749200548195523\\right) + \\xi^{4} \\left(- 0.00456829602558246 c \\epsilon^{2} - 0.0493375970762905 c \\epsilon - 0.121516674280493 c + 0.0137048880767474 \\epsilon^{2} + 0.135221562357241 \\epsilon + 0.306075833714025\\right) + \\xi^{3} \\left(- 0.00411146642302421 c \\epsilon^{3} - 0.0589310187300137 c \\epsilon^{2} - 0.264961169483783 c \\epsilon - 0.377341251713111 c + 0.0050251256281407 \\epsilon^{3} + 0.0909090909090909 \\epsilon^{2} + 0.463225216994061 \\epsilon + 0.700776610324349\\right) + \\xi^{2} \\left(- 0.00159890360895386 c \\epsilon^{4} - 0.0283234353586112 c \\epsilon^{3} - 0.180219278209228 c \\epsilon^{2} - 0.489721333942439 c \\epsilon - 0.473275468250343 c + 0.000685244403837368 \\epsilon^{4} + 0.0292370945637277 \\epsilon^{3} + 0.270671539515761 \\epsilon^{2} + 0.905893101873001 \\epsilon + 1.0\\right) + \\xi \\left(- 0.000228414801279123 c \\epsilon^{5} - 0.00479671082686158 c \\epsilon^{4} - 0.0395157606212883 c \\epsilon^{3} - 0.160118775696665 c \\epsilon^{2} - 0.31521242576519 c \\epsilon - 0.236637734125171 c + 0.00525354042941983 \\epsilon^{4} + 0.0790315212425765 \\epsilon^{3} + 0.426907263590681 \\epsilon^{2} + 0.975331201461855 \\epsilon + 0.791228871630882\\right) + 0.253540429419826\\right)}{\\left(0.2 \\epsilon + 0.4 \\xi + 1.0\\right)^{3}}$"
      ],
      "text/plain": [
       "14.0096*(-0.000228414801279123*c*epsilon**4 - 0.00365463682046597*c*epsilon**3 - 0.0198720877112837*c*epsilon**2 - 0.0429419826404751*c*epsilon - 0.0319780721790772*c + 0.000571037003197807*epsilon**5 + 0.0106212882594792*epsilon**4 + 0.0757195066240292*epsilon**3 + 0.257080858839653*epsilon**2 + 0.413887619917771*epsilon + 0.00730927364093193*xi**6 + xi**5*(-0.00182731841023298*c*epsilon - 0.0127912288716309*c + 0.0164458656920969*epsilon + 0.0749200548195523) + xi**4*(-0.00456829602558246*c*epsilon**2 - 0.0493375970762905*c*epsilon - 0.121516674280493*c + 0.0137048880767474*epsilon**2 + 0.135221562357241*epsilon + 0.306075833714025) + xi**3*(-0.00411146642302421*c*epsilon**3 - 0.0589310187300137*c*epsilon**2 - 0.264961169483783*c*epsilon - 0.377341251713111*c + 0.0050251256281407*epsilon**3 + 0.0909090909090909*epsilon**2 + 0.463225216994061*epsilon + 0.700776610324349) + xi**2*(-0.00159890360895386*c*epsilon**4 - 0.0283234353586112*c*epsilon**3 - 0.180219278209228*c*epsilon**2 - 0.489721333942439*c*epsilon - 0.473275468250343*c + 0.000685244403837368*epsilon**4 + 0.0292370945637277*epsilon**3 + 0.270671539515761*epsilon**2 + 0.905893101873001*epsilon + 1.0) + xi*(-0.000228414801279123*c*epsilon**5 - 0.00479671082686158*c*epsilon**4 - 0.0395157606212883*c*epsilon**3 - 0.160118775696665*c*epsilon**2 - 0.31521242576519*c*epsilon - 0.236637734125171*c + 0.00525354042941983*epsilon**4 + 0.0790315212425765*epsilon**3 + 0.426907263590681*epsilon**2 + 0.975331201461855*epsilon + 0.791228871630882) + 0.253540429419826)/(0.2*epsilon + 0.4*xi + 1.0)**3"
      ]
     },
     "execution_count": 78,
     "metadata": {},
     "output_type": "execute_result"
    }
   ],
   "source": [
    "#Factorizando, respecto a xi\n",
    "P_Eta_xi = smp.factor(P_eta_expand, xi)\n",
    "P_Eta_xi\n"
   ]
  },
  {
   "cell_type": "markdown",
   "id": "a3f3277d-4704-4b69-b5c9-67989466840b",
   "metadata": {},
   "source": [
    "### Gráfica\n",
    "En base a los resultados anteriormente encontrados, podemos darles valores a las variables simbolicas utilizadas y graficar la expresión encontrada para ver como se comporta a través de la modificación de parametros relevantes en el sistema."
   ]
  },
  {
   "cell_type": "code",
   "execution_count": 82,
   "id": "f14e45f8-a92b-4fd0-b5ff-35f933a501e3",
   "metadata": {
    "tags": []
   },
   "outputs": [
    {
     "data": {
      "image/png": "[encoded data removed]",
      "text/plain": [
       "<Figure size 800x600 with 1 Axes>"
      ]
     },
     "metadata": {},
     "output_type": "display_data"
    }
   ],
   "source": [
    "#Asignación de valores:\n",
    "valor_a = 9.8   # Fuerza de gravedad\n",
    "valor_b = 0.6   #Radio\n",
    "valor_c = 1     #Epsilon[0,1]\n",
    "velocidad = 10  #Velocidad inicial\n",
    "valor_d = (velocidad**2)/(4*valor_b*valor_a)\n",
    "\n",
    "\n",
    "#Sustitución en el polinomio de dichos valores\n",
    "\n",
    "polinomio_Eta_xi_1 = P_Eta_xi.subs([(g, valor_a), (R, valor_b), (epsilon, valor_c), (c, valor_d)])\n",
    "\n",
    "#Convertimos este polinomio en una función\n",
    "\n",
    "polinomio_Eta_xi_2 = lambdify(xi, polinomio_Eta_xi_1, modules='numpy')\n",
    "\n",
    "#Creamos el linspace de trabajo\n",
    "\n",
    "x_vals = np.linspace(-1, 1, 40000)  \n",
    "\n",
    "#Evaluamos la función en dicho linspace.\n",
    "\n",
    "y_vals = polinomio_Eta_xi_2(x_vals)\n",
    "\n",
    "# Grafica el polinomio\n",
    "plt.figure(figsize=(8, 6))\n",
    "plt.plot(x_vals, y_vals)\n",
    "plt.xlabel(r'$\\sin(\\theta)$')\n",
    "plt.ylabel(r'p($\\theta$)')\n",
    "plt.title('Normal Force Polynomial Vs Cosine of the angle for the case $\\lambda = 0.4$')\n",
    "plt.grid(True)\n",
    "plt.savefig(\"Grafica_1_1.png\", dpi=500)\n",
    "plt.show()"
   ]
  },
  {
   "cell_type": "markdown",
   "id": "df90f794-73f6-4b89-b3c1-04db0862e1f8",
   "metadata": {
    "jp-MarkdownHeadingCollapsed": true,
    "tags": []
   },
   "source": [
    "## Error\n",
    "A continuación se presenta en esta pequeña sección que los cálculos obtenidos en el paper son incorrectos, debido a que el autor confunde dos términos, específicamente confunda que $\\xi = \\epsilon$, lo que hace que abarque un termino que no debería aparecer.\n"
   ]
  },
  {
   "cell_type": "code",
   "execution_count": 40,
   "id": "18a89cec-c091-422a-96c5-61d526b0a490",
   "metadata": {},
   "outputs": [
    {
     "data": {
      "text/latex": [
       "$\\displaystyle - c \\epsilon^{2} \\xi - c \\epsilon \\xi^{2} - 6 c \\epsilon \\xi - c \\epsilon - 4 c \\xi^{2} - 8 c \\xi - 4 c + \\epsilon^{2} + 3 \\epsilon \\xi^{2} + 2 \\epsilon \\xi + 3 \\epsilon + 4 \\xi^{3} + 8 \\xi^{2} + 4 \\xi$"
      ],
      "text/plain": [
       "-c*epsilon**2*xi - c*epsilon*xi**2 - 6*c*epsilon*xi - c*epsilon - 4*c*xi**2 - 8*c*xi - 4*c + epsilon**2 + 3*epsilon*xi**2 + 2*epsilon*xi + 3*epsilon + 4*xi**3 + 8*xi**2 + 4*xi"
      ]
     },
     "execution_count": 40,
     "metadata": {},
     "output_type": "execute_result"
    }
   ],
   "source": [
    "#Colocando Lambda = 1\n",
    "#lambda_1 = 1\n",
    "P_eta_expand"
   ]
  },
  {
   "cell_type": "markdown",
   "id": "7993b4fe-3d56-4449-8635-312b2ae53814",
   "metadata": {},
   "source": [
    "Escribimos el polinomio dado el autor:"
   ]
  },
  {
   "cell_type": "code",
   "execution_count": 41,
   "id": "705e553b-5ff9-4334-88f8-150cc27f665f",
   "metadata": {
    "tags": []
   },
   "outputs": [],
   "source": [
    "p_com = (1- c*lambda_1*epsilon)*lambda_1**2 *epsilon**2 -epsilon*lambda_1*((c*xi**2 + 2*c*xi + 2*xi + c - 3*xi**2 + 1 )*lambda_1**2 + 4*(c-1)*xi*lambda_1 - 4) - 2*((c*xi**2 + xi**2 +c -2*xi**3 +1)*lambda_1**3 + (c*xi**2 + 2*c*xi +2*xi + c -5*xi**2 + 1)*lambda_1**2 +2*(c-2)*xi*lambda_1 - 2)"
   ]
  },
  {
   "cell_type": "code",
   "execution_count": 42,
   "id": "435df469-b1b1-4813-8426-66ee1ef481a8",
   "metadata": {
    "tags": []
   },
   "outputs": [
    {
     "data": {
      "text/latex": [
       "$\\displaystyle \\epsilon^{2} \\lambda^{2} \\left(- c \\epsilon \\lambda + 1\\right) - \\epsilon \\lambda \\left(\\lambda^{2} \\left(c \\xi^{2} + 2 c \\xi + c - 3 \\xi^{2} + 2 \\xi + 1\\right) + \\lambda \\xi \\left(4 c - 4\\right) - 4\\right) - 2 \\lambda^{3} \\left(c \\xi^{2} + c - 2 \\xi^{3} + \\xi^{2} + 1\\right) - 2 \\lambda^{2} \\left(c \\xi^{2} + 2 c \\xi + c - 5 \\xi^{2} + 2 \\xi + 1\\right) - 2 \\lambda \\xi \\left(2 c - 4\\right) + 4$"
      ],
      "text/plain": [
       "epsilon**2*lambda**2*(-c*epsilon*lambda + 1) - epsilon*lambda*(lambda**2*(c*xi**2 + 2*c*xi + c - 3*xi**2 + 2*xi + 1) + lambda*xi*(4*c - 4) - 4) - 2*lambda**3*(c*xi**2 + c - 2*xi**3 + xi**2 + 1) - 2*lambda**2*(c*xi**2 + 2*c*xi + c - 5*xi**2 + 2*xi + 1) - 2*lambda*xi*(2*c - 4) + 4"
      ]
     },
     "execution_count": 42,
     "metadata": {},
     "output_type": "execute_result"
    }
   ],
   "source": [
    "p_com"
   ]
  },
  {
   "cell_type": "markdown",
   "id": "ea7c1864-699f-477a-9649-1d0c0b9cc7f7",
   "metadata": {},
   "source": [
    "Lo expandimos:"
   ]
  },
  {
   "cell_type": "code",
   "execution_count": 43,
   "id": "88689dc9-d66e-48b1-8fcc-7531473006b3",
   "metadata": {
    "tags": []
   },
   "outputs": [
    {
     "data": {
      "text/latex": [
       "$\\displaystyle - c \\epsilon^{3} \\lambda^{3} - c \\epsilon \\lambda^{3} \\xi^{2} - 2 c \\epsilon \\lambda^{3} \\xi - c \\epsilon \\lambda^{3} - 4 c \\epsilon \\lambda^{2} \\xi - 2 c \\lambda^{3} \\xi^{2} - 2 c \\lambda^{3} - 2 c \\lambda^{2} \\xi^{2} - 4 c \\lambda^{2} \\xi - 2 c \\lambda^{2} - 4 c \\lambda \\xi + \\epsilon^{2} \\lambda^{2} + 3 \\epsilon \\lambda^{3} \\xi^{2} - 2 \\epsilon \\lambda^{3} \\xi - \\epsilon \\lambda^{3} + 4 \\epsilon \\lambda^{2} \\xi + 4 \\epsilon \\lambda + 4 \\lambda^{3} \\xi^{3} - 2 \\lambda^{3} \\xi^{2} - 2 \\lambda^{3} + 10 \\lambda^{2} \\xi^{2} - 4 \\lambda^{2} \\xi - 2 \\lambda^{2} + 8 \\lambda \\xi + 4$"
      ],
      "text/plain": [
       "-c*epsilon**3*lambda**3 - c*epsilon*lambda**3*xi**2 - 2*c*epsilon*lambda**3*xi - c*epsilon*lambda**3 - 4*c*epsilon*lambda**2*xi - 2*c*lambda**3*xi**2 - 2*c*lambda**3 - 2*c*lambda**2*xi**2 - 4*c*lambda**2*xi - 2*c*lambda**2 - 4*c*lambda*xi + epsilon**2*lambda**2 + 3*epsilon*lambda**3*xi**2 - 2*epsilon*lambda**3*xi - epsilon*lambda**3 + 4*epsilon*lambda**2*xi + 4*epsilon*lambda + 4*lambda**3*xi**3 - 2*lambda**3*xi**2 - 2*lambda**3 + 10*lambda**2*xi**2 - 4*lambda**2*xi - 2*lambda**2 + 8*lambda*xi + 4"
      ]
     },
     "execution_count": 43,
     "metadata": {},
     "output_type": "execute_result"
    }
   ],
   "source": [
    "P_com_expand = smp.expand(p_com)\n",
    "P_com_expand"
   ]
  },
  {
   "cell_type": "markdown",
   "id": "a2561a90-e25b-4b2f-903e-29a5a3e875ca",
   "metadata": {},
   "source": [
    "Restamos el polinomio del autor con el polinomio que hemos obtenido nosotros, podemos comprobar que difiere por un término, dicho termino es $tal$ que es cuando el autor se ha confundido. "
   ]
  },
  {
   "cell_type": "code",
   "execution_count": 44,
   "id": "cfd5306a-064a-4cd4-a63c-a40b99dbe21f",
   "metadata": {
    "tags": []
   },
   "outputs": [
    {
     "data": {
      "text/latex": [
       "$\\displaystyle c \\epsilon^{3} \\lambda^{3} - c \\epsilon^{2} \\xi + c \\epsilon \\lambda^{3} \\xi^{2} + 2 c \\epsilon \\lambda^{3} \\xi + c \\epsilon \\lambda^{3} + 4 c \\epsilon \\lambda^{2} \\xi - c \\epsilon \\xi^{2} - 6 c \\epsilon \\xi - c \\epsilon + 2 c \\lambda^{3} \\xi^{2} + 2 c \\lambda^{3} + 2 c \\lambda^{2} \\xi^{2} + 4 c \\lambda^{2} \\xi + 2 c \\lambda^{2} + 4 c \\lambda \\xi - 4 c \\xi^{2} - 8 c \\xi - 4 c - \\epsilon^{2} \\lambda^{2} + \\epsilon^{2} - 3 \\epsilon \\lambda^{3} \\xi^{2} + 2 \\epsilon \\lambda^{3} \\xi + \\epsilon \\lambda^{3} - 4 \\epsilon \\lambda^{2} \\xi - 4 \\epsilon \\lambda + 3 \\epsilon \\xi^{2} + 2 \\epsilon \\xi + 3 \\epsilon - 4 \\lambda^{3} \\xi^{3} + 2 \\lambda^{3} \\xi^{2} + 2 \\lambda^{3} - 10 \\lambda^{2} \\xi^{2} + 4 \\lambda^{2} \\xi + 2 \\lambda^{2} - 8 \\lambda \\xi + 4 \\xi^{3} + 8 \\xi^{2} + 4 \\xi - 4$"
      ],
      "text/plain": [
       "c*epsilon**3*lambda**3 - c*epsilon**2*xi + c*epsilon*lambda**3*xi**2 + 2*c*epsilon*lambda**3*xi + c*epsilon*lambda**3 + 4*c*epsilon*lambda**2*xi - c*epsilon*xi**2 - 6*c*epsilon*xi - c*epsilon + 2*c*lambda**3*xi**2 + 2*c*lambda**3 + 2*c*lambda**2*xi**2 + 4*c*lambda**2*xi + 2*c*lambda**2 + 4*c*lambda*xi - 4*c*xi**2 - 8*c*xi - 4*c - epsilon**2*lambda**2 + epsilon**2 - 3*epsilon*lambda**3*xi**2 + 2*epsilon*lambda**3*xi + epsilon*lambda**3 - 4*epsilon*lambda**2*xi - 4*epsilon*lambda + 3*epsilon*xi**2 + 2*epsilon*xi + 3*epsilon - 4*lambda**3*xi**3 + 2*lambda**3*xi**2 + 2*lambda**3 - 10*lambda**2*xi**2 + 4*lambda**2*xi + 2*lambda**2 - 8*lambda*xi + 4*xi**3 + 8*xi**2 + 4*xi - 4"
      ]
     },
     "execution_count": 44,
     "metadata": {},
     "output_type": "execute_result"
    }
   ],
   "source": [
    "#Demostración equivocación autor.\n",
    "-P_com_expand +P_eta_expand"
   ]
  },
  {
   "cell_type": "markdown",
   "id": "ebd8ac97-1344-4618-84d1-d09f94ab38e3",
   "metadata": {},
   "source": [
    "## Calculos\n",
    "En esta sección se presentan los cálculos realizado por el compañero Martin Montaño, los cuales son una solución númerica a los ángulos previamente mostrados en la grafica. La grafica nos permite visualizar y confirmar que ahí tenemos una solución, sin embargo, no nos da el valor explícito de esta solución"
   ]
  },
  {
   "cell_type": "code",
   "execution_count": null,
   "id": "5ae69598-70aa-4f94-a50f-48eca8f4a67b",
   "metadata": {},
   "outputs": [],
   "source": []
  },
  {
   "cell_type": "markdown",
   "id": "1b0b094e-feac-4e89-aaa5-85df6b92e1bb",
   "metadata": {},
   "source": [
    "# <center> Cálculo Fuerza de Fricción $f_f(\\xi)$\n",
    "## Indice\n",
    "1. [Solucion](#1.-Solucion)\n",
    "2. [Solución para $\\lambda = 1$](#2.-Series)\n",
    "3. [Solución para $\\lambda \\neq 1$](#3-Gráficos)\n",
    "4. [Error](#4.-Error)\n",
    "    "
   ]
  },
  {
   "cell_type": "code",
   "execution_count": 57,
   "id": "36955a80-24be-4b6f-99b7-435880d7cd71",
   "metadata": {
    "tags": []
   },
   "outputs": [
    {
     "data": {
      "text/latex": [
       "$\\displaystyle c \\left(\\epsilon^{2} \\lambda^{2} + 2 \\epsilon \\lambda^{2} + 3 \\epsilon \\lambda + 2 \\lambda + 2\\right) + 2 \\epsilon \\lambda^{2} - \\epsilon \\lambda - 4 \\lambda^{2} \\xi^{2} + \\lambda \\xi \\left(c \\left(\\epsilon \\lambda + 2 \\lambda + 2\\right) - 3 \\epsilon \\lambda + 2 \\lambda - 6\\right) + 2 \\lambda - 2$"
      ],
      "text/plain": [
       "c*(epsilon**2*lambda**2 + 2*epsilon*lambda**2 + 3*epsilon*lambda + 2*lambda + 2) + 2*epsilon*lambda**2 - epsilon*lambda - 4*lambda**2*xi**2 + lambda*xi*(c*(epsilon*lambda + 2*lambda + 2) - 3*epsilon*lambda + 2*lambda - 6) + 2*lambda - 2"
      ]
     },
     "execution_count": 57,
     "metadata": {},
     "output_type": "execute_result"
    }
   ],
   "source": [
    "#Ahora calcularemos el polinomio de la fricción.\n",
    "\n",
    "\n",
    "#Primero lo definiremos\n",
    "\n",
    "\n",
    "q =2*epsilon* lambda_1**2 +(2*lambda_1 -3 * epsilon*lambda_1 + c*(epsilon*lambda_1 + 2*lambda_1 +2) -6)*xi*lambda_1 +2*lambda_1 - epsilon*lambda_1 + c*(epsilon**2*lambda_1**2 + 2*epsilon*lambda_1**2 + 3*epsilon*lambda_1 + 2*lambda_1 +2) - 4*lambda_1**2 * xi**2 - 2\n",
    "q"
   ]
  },
  {
   "cell_type": "code",
   "execution_count": 46,
   "id": "9957530e-5d1b-4e4e-bfa9-790f1206b539",
   "metadata": {
    "tags": []
   },
   "outputs": [],
   "source": [
    "valor_lambda = 0.4\n",
    "q_1 = q.subs([(lambda_1, valor_lambda)])"
   ]
  },
  {
   "cell_type": "code",
   "execution_count": 47,
   "id": "48d9d885-847a-4c62-b14c-8de10617e652",
   "metadata": {},
   "outputs": [
    {
     "data": {
      "image/png": "[encoded data removed]",
      "text/plain": [
       "<Figure size 800x600 with 1 Axes>"
      ]
     },
     "metadata": {},
     "output_type": "display_data"
    }
   ],
   "source": [
    "#Grafica\n",
    "from sympy import lambdify\n",
    "\n",
    "g = smp.symbols('g')\n",
    "R = smp.symbols('R')\n",
    "epsilon = smp.symbols('epsilon')\n",
    "lambda_1 = smp.symbols('lambda')\n",
    "V_0 = smp.symbols('V_0')\n",
    "theta = smp.symbols('theta')\n",
    "c = smp.symbols('c')\n",
    "\n",
    "xi = smp.symbols('xi')\n",
    "\n",
    "\n",
    "\n",
    "valor_a = 9.8   # Fuerza de gravedad\n",
    "valor_b = 0.6   #Radio\n",
    "\n",
    "valor_c = 0.1     #Epsilon[0,1]\n",
    "\n",
    "\n",
    "\n",
    "velocidad = 15  #Velocidad inicial\n",
    "\n",
    "\n",
    "\n",
    "valor_d = (velocidad**2)/(4*valor_b*valor_a)\n",
    "\n",
    "\n",
    "\n",
    "\n",
    "q_2 = q_1.subs([ (epsilon, valor_c), (c, valor_d)])\n",
    "\n",
    "\n",
    "q_3 = lambdify(xi, q_2, modules='numpy')\n",
    "\n",
    "x_vals = np.linspace(-50, 50, 40000)  \n",
    "\n",
    "y_vals = q_3(x_vals)\n",
    "\n",
    "# Grafica el polinomio\n",
    "plt.figure(figsize=(8, 6))\n",
    "plt.plot(x_vals, y_vals)\n",
    "plt.xlabel('cos(x)')\n",
    "plt.ylabel('p(x)')\n",
    "plt.title('Fuerza normal en función del coseno del ángulo.')\n",
    "plt.grid(True)\n",
    "plt.savefig(\"Grafica_2.png\", dpi=500)\n",
    "plt.show()"
   ]
  },
  {
   "cell_type": "code",
   "execution_count": null,
   "id": "c1f45a07-b07a-4f60-a23b-b4e33bb24658",
   "metadata": {},
   "outputs": [],
   "source": []
  }
 ],
 "metadata": {
  "kernelspec": {
   "display_name": "Python 3 (ipykernel)",
   "language": "python",
   "name": "python3"
  },
  "language_info": {
   "codemirror_mode": {
    "name": "ipython",
    "version": 3
   },
   "file_extension": ".py",
   "mimetype": "text/x-python",
   "name": "python",
   "nbconvert_exporter": "python",
   "pygments_lexer": "ipython3",
   "version": "3.10.9"
  }
 },
 "nbformat": 4,
 "nbformat_minor": 5
}
