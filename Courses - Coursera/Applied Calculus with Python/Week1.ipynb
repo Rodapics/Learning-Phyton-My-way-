{
 "cells": [
  {
   "cell_type": "markdown",
   "id": "d69e25f5-b859-4c23-b672-ba8380f23836",
   "metadata": {},
   "source": [
    "# Tipos de datos en Python\n",
    "\n",
    "*  **Enteros (int):** Se utiliza para todos los números, positivos y negativos incluyendo el cero, 15\n",
    "\n",
    "*  **Números de Punto Flotante (float):** Se utilizan para los números positivos o negativos que contienen puntos decimales, 10.5\n",
    "\n",
    "*  **Strings (str):** Secuencia de caracteres contenidas entre comillas o comillas dobles, \"Esta es una secuencia\" 'Esta es otra secuencia'.\n",
    "\n",
    "*  **Booleanos:** Se utiliza para dar valores de verdad, True and False.\n",
    "\n",
    "A su vez, se puede realizar la conversión de un tipo de dato a otro:\n",
    "\n",
    "*  **int():** convierte un número float en entero.\n",
    "\n",
    "*  **float():** convierte un entero en un número float.\n",
    "\n",
    "*  **srt():** convierte un objeto en un string.\n",
    "\n",
    "*  **bool():** convierte un objetivo a un valor de verdad tipo Booleano. Valores diferentes a cero, o que no se encuentren vacios, darán como resultado True. Valores de verdad iguales a cero o empty strings darán False."
   ]
  },
  {
   "cell_type": "code",
   "execution_count": 1,
   "id": "cf48184f-bf5f-4961-b439-8b17f0a6f520",
   "metadata": {
    "tags": []
   },
   "outputs": [
    {
     "data": {
      "text/plain": [
       "12300.0"
      ]
     },
     "execution_count": 1,
     "metadata": {},
     "output_type": "execute_result"
    }
   ],
   "source": [
    "1.23e4"
   ]
  },
  {
   "cell_type": "markdown",
   "id": "344b7522-cc21-43d7-80c2-80840ad08a19",
   "metadata": {},
   "source": [
    "$1.23\\times 10^4 = 12300$"
   ]
  },
  {
   "cell_type": "code",
   "execution_count": 2,
   "id": "053a1772-4a0c-4212-ad1a-44c47880babd",
   "metadata": {
    "tags": []
   },
   "outputs": [
    {
     "name": "stdout",
     "output_type": "stream",
     "text": [
      "3.3000000000000003\n"
     ]
    }
   ],
   "source": [
    "print(1.1 + 2.2)\n",
    "# We would expect 3.3 for this sum"
   ]
  },
  {
   "cell_type": "markdown",
   "id": "c1f79d6d-ff5f-4bd5-bfdf-747ccaa1634f",
   "metadata": {},
   "source": [
    "## Proceso de asignación de varibles\n",
    "\n",
    "En python se utiliza el signo **=** para asignar el valor a una variable."
   ]
  },
  {
   "cell_type": "code",
   "execution_count": 3,
   "id": "6c1191b3-6c20-4fa0-933d-bb03d4a741aa",
   "metadata": {
    "tags": []
   },
   "outputs": [
    {
     "name": "stdout",
     "output_type": "stream",
     "text": [
      "17\n"
     ]
    }
   ],
   "source": [
    "# Assign the value 17 to the variable my_number\n",
    "my_number = 17\n",
    "# Print the value\n",
    "print(my_number)"
   ]
  },
  {
   "cell_type": "markdown",
   "id": "5e6153da-ecbe-4e67-8179-854eb39a8770",
   "metadata": {},
   "source": [
    "Igual, puedes re-asignar el valor de una variable"
   ]
  },
  {
   "cell_type": "code",
   "execution_count": 4,
   "id": "e2f69a6c-6557-4473-a90c-c5b5ddd19f37",
   "metadata": {
    "tags": []
   },
   "outputs": [
    {
     "name": "stdout",
     "output_type": "stream",
     "text": [
      "seventeen\n"
     ]
    }
   ],
   "source": [
    "my_number = 'seventeen'\n",
    "print(my_number)"
   ]
  },
  {
   "cell_type": "markdown",
   "id": "0f9f98c5-5fbd-4d2c-8307-d13c373f491c",
   "metadata": {},
   "source": [
    "La función **type()** te indica el tipo del objeto sobre el cal estás trabajando"
   ]
  },
  {
   "cell_type": "code",
   "execution_count": 5,
   "id": "200b2a4d-25d4-46b9-96a1-6a097b093ea7",
   "metadata": {
    "tags": []
   },
   "outputs": [
    {
     "data": {
      "text/plain": [
       "str"
      ]
     },
     "execution_count": 5,
     "metadata": {},
     "output_type": "execute_result"
    }
   ],
   "source": [
    "my_number = 'seventeen'\n",
    "type(my_number)"
   ]
  },
  {
   "cell_type": "markdown",
   "id": "dfa470bd-5802-44d3-8f80-1859e85a35f4",
   "metadata": {
    "tags": []
   },
   "source": [
    "# Operadores y expresiones en Python"
   ]
  },
  {
   "cell_type": "code",
   "execution_count": null,
   "id": "803ff2dd-342b-4657-aa05-c45891b900b0",
   "metadata": {},
   "outputs": [],
   "source": []
  },
  {
   "cell_type": "code",
   "execution_count": null,
   "id": "5ef72058-efe9-44cc-bb8f-add3b7617096",
   "metadata": {},
   "outputs": [],
   "source": []
  },
  {
   "cell_type": "code",
   "execution_count": null,
   "id": "9909c6c1-7c55-4865-a731-01ad77c4d4e8",
   "metadata": {},
   "outputs": [],
   "source": []
  },
  {
   "cell_type": "code",
   "execution_count": null,
   "id": "2272523d-0f29-4e46-9e7a-b4f1ed1271a5",
   "metadata": {},
   "outputs": [],
   "source": []
  },
  {
   "cell_type": "markdown",
   "id": "ab0ca2c0-2d62-4890-a4f8-3566e664941e",
   "metadata": {},
   "source": [
    "# Bases de Sympy\n",
    "Sympy es una libreria de python que permite trabajar expresiones matematicas de manera simbolica.\n"
   ]
  },
  {
   "cell_type": "code",
   "execution_count": 7,
   "id": "fb55234c-c023-47da-b4e5-ed025343e393",
   "metadata": {
    "tags": []
   },
   "outputs": [],
   "source": [
    "from sympy import *"
   ]
  },
  {
   "cell_type": "markdown",
   "id": "50ea323b-f70e-4b2a-a489-b9dff579c187",
   "metadata": {},
   "source": [
    "## Símbolos\n",
    "son la base de la libreria y se utiliza **symbol()** para definirmos."
   ]
  },
  {
   "cell_type": "code",
   "execution_count": 8,
   "id": "23f158d3-8d05-421f-80af-5ab601a9f3e1",
   "metadata": {
    "tags": []
   },
   "outputs": [],
   "source": [
    "# Defining a single symbol\n",
    "x = symbols('x')\n",
    "\n",
    "# Defining three symbols at once\n",
    "a, b, c = symbols('a, b, c')\n",
    "\n",
    "# Defining a multi-character symbol\n",
    "tau = symbols('tau')"
   ]
  },
  {
   "cell_type": "code",
   "execution_count": 9,
   "id": "78be60fd-361a-4505-a70d-4f12161f3792",
   "metadata": {
    "tags": []
   },
   "outputs": [
    {
     "data": {
      "text/latex": [
       "$\\displaystyle \\tau$"
      ],
      "text/plain": [
       "tau"
      ]
     },
     "execution_count": 9,
     "metadata": {},
     "output_type": "execute_result"
    }
   ],
   "source": [
    "tau"
   ]
  },
  {
   "cell_type": "code",
   "execution_count": 10,
   "id": "71ef9c0b-f452-4b08-b147-11aeee26ea79",
   "metadata": {
    "tags": []
   },
   "outputs": [
    {
     "data": {
      "text/latex": [
       "$\\displaystyle a$"
      ],
      "text/plain": [
       "a"
      ]
     },
     "execution_count": 10,
     "metadata": {},
     "output_type": "execute_result"
    }
   ],
   "source": [
    "a"
   ]
  },
  {
   "cell_type": "code",
   "execution_count": 11,
   "id": "235fec21-def3-4d5d-b6b1-5bcfcfc6cab6",
   "metadata": {
    "tags": []
   },
   "outputs": [
    {
     "data": {
      "text/latex": [
       "$\\displaystyle b$"
      ],
      "text/plain": [
       "b"
      ]
     },
     "execution_count": 11,
     "metadata": {},
     "output_type": "execute_result"
    }
   ],
   "source": [
    "b"
   ]
  },
  {
   "cell_type": "code",
   "execution_count": 12,
   "id": "bfc208bd-5b97-48a5-93a1-4160bf37b451",
   "metadata": {
    "tags": []
   },
   "outputs": [
    {
     "data": {
      "text/latex": [
       "$\\displaystyle x + 1$"
      ],
      "text/plain": [
       "x + 1"
      ]
     },
     "execution_count": 12,
     "metadata": {},
     "output_type": "execute_result"
    }
   ],
   "source": [
    "# Add the definition x = symbols('x') to resolve the error\n",
    "\n",
    "x + 1"
   ]
  },
  {
   "cell_type": "markdown",
   "id": "648ef303-e77a-40b1-9864-6744cc87acd9",
   "metadata": {},
   "source": [
    "## Reemplazar valores en Sympy.\n",
    "\n",
    "En la expresión anterior, vemos que tenemos de manera símbolica la variable $x$, sin embargo que sucede si queremos reemplazar está variable y otorgarle valores, por ejemplo, $x=5$.\n",
    "\n",
    "Para esto, utilizamos **subs(x,5)**"
   ]
  },
  {
   "cell_type": "code",
   "execution_count": 13,
   "id": "0ef9d27b-4b3e-46ab-b85a-214e79bbfc86",
   "metadata": {
    "tags": []
   },
   "outputs": [
    {
     "data": {
      "text/latex": [
       "$\\displaystyle 9$"
      ],
      "text/plain": [
       "9"
      ]
     },
     "execution_count": 13,
     "metadata": {},
     "output_type": "execute_result"
    }
   ],
   "source": [
    "# Define the symbol\n",
    "x = symbols('x')\n",
    "# Define an expression\n",
    "expression = 2*x - 1\n",
    "# Substitute 5 for x\n",
    "expression.subs(x, 5)"
   ]
  },
  {
   "cell_type": "code",
   "execution_count": null,
   "id": "386df0c0-f4e0-41f2-a603-16124395f277",
   "metadata": {},
   "outputs": [],
   "source": []
  },
  {
   "cell_type": "code",
   "execution_count": null,
   "id": "48804198-a3ed-49d0-979b-29fe37386990",
   "metadata": {},
   "outputs": [],
   "source": []
  },
  {
   "cell_type": "code",
   "execution_count": null,
   "id": "a2fd5a57-4543-4abd-8e1b-be0c869837a1",
   "metadata": {},
   "outputs": [],
   "source": []
  },
  {
   "cell_type": "code",
   "execution_count": null,
   "id": "ca3322f6-798c-468d-bdf5-2ac212d321a8",
   "metadata": {},
   "outputs": [],
   "source": []
  }
 ],
 "metadata": {
  "kernelspec": {
   "display_name": "Python 3 (ipykernel)",
   "language": "python",
   "name": "python3"
  },
  "language_info": {
   "codemirror_mode": {
    "name": "ipython",
    "version": 3
   },
   "file_extension": ".py",
   "mimetype": "text/x-python",
   "name": "python",
   "nbconvert_exporter": "python",
   "pygments_lexer": "ipython3",
   "version": "3.10.9"
  }
 },
 "nbformat": 4,
 "nbformat_minor": 5
}
