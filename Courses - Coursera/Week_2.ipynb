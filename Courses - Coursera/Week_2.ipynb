{
 "cells": [
  {
   "cell_type": "code",
   "execution_count": 5,
   "id": "d4b9b3a3-8d00-4fb8-8c60-8bb9db8534a5",
   "metadata": {
    "tags": []
   },
   "outputs": [],
   "source": [
    "import sympy as smp\n",
    "import numpy as np"
   ]
  },
  {
   "cell_type": "code",
   "execution_count": 2,
   "id": "1c70ded3-6c96-43bd-9ee5-f95e5d2c5e4c",
   "metadata": {
    "tags": []
   },
   "outputs": [],
   "source": [
    "from sympy import *"
   ]
  },
  {
   "cell_type": "code",
   "execution_count": 14,
   "id": "cda9b7c1-d2ca-40d4-b0ab-aeb1f4254481",
   "metadata": {
    "tags": []
   },
   "outputs": [],
   "source": [
    "x = smp.log(np.e**(2/5))"
   ]
  },
  {
   "cell_type": "code",
   "execution_count": 15,
   "id": "71952d12-04da-4446-be0b-d07afca023b5",
   "metadata": {
    "tags": []
   },
   "outputs": [
    {
     "data": {
      "text/latex": [
       "$\\displaystyle 0.2$"
      ],
      "text/plain": [
       "0.200000000000000"
      ]
     },
     "execution_count": 15,
     "metadata": {},
     "output_type": "execute_result"
    }
   ],
   "source": [
    "1/2*x"
   ]
  },
  {
   "cell_type": "code",
   "execution_count": 18,
   "id": "153215f4-ceec-479c-aea6-6d967728d4f7",
   "metadata": {
    "tags": []
   },
   "outputs": [
    {
     "data": {
      "text/latex": [
       "$\\displaystyle 2 \\log{\\left(x \\right)} + 3 \\log{\\left(z \\right)} - \\log{\\left(y + 1 \\right)}$"
      ],
      "text/plain": [
       "2*log(x) + 3*log(z) - log(y + 1)"
      ]
     },
     "execution_count": 18,
     "metadata": {},
     "output_type": "execute_result"
    }
   ],
   "source": [
    "x, y, z = symbols('x y z', positive=True)\n",
    "result = 2*smp.log(x) - smp.log(y+1) + 3*smp.log(z)\n",
    "expand_log(result)"
   ]
  },
  {
   "cell_type": "code",
   "execution_count": 19,
   "id": "3a2f04f5-513d-4110-ab26-584d16bb78a4",
   "metadata": {
    "tags": []
   },
   "outputs": [
    {
     "data": {
      "text/latex": [
       "$\\displaystyle \\log{\\left(\\frac{x^{2} z^{3}}{y + 1} \\right)}$"
      ],
      "text/plain": [
       "log(x**2*z**3/(y + 1))"
      ]
     },
     "execution_count": 19,
     "metadata": {},
     "output_type": "execute_result"
    }
   ],
   "source": [
    "logcombine(result)"
   ]
  },
  {
   "cell_type": "code",
   "execution_count": null,
   "id": "ab9f4c2b-7bf3-4dcf-bb24-f2e3e8933231",
   "metadata": {},
   "outputs": [],
   "source": []
  },
  {
   "cell_type": "code",
   "execution_count": 20,
   "id": "f0f54294-e1d0-48ed-b2fc-d1905744d8c1",
   "metadata": {
    "tags": []
   },
   "outputs": [],
   "source": [
    "x, y = symbols('x y', positive=True)"
   ]
  },
  {
   "cell_type": "code",
   "execution_count": 24,
   "id": "ae5a2e6c-c29e-4640-84f4-167a09e40f85",
   "metadata": {
    "tags": []
   },
   "outputs": [
    {
     "data": {
      "text/latex": [
       "$\\displaystyle 2.71828182845905^{2 \\log{\\left(x \\right)} - \\log{\\left(2 y \\right)}}$"
      ],
      "text/plain": [
       "2.71828182845905**(2*log(x) - log(2*y))"
      ]
     },
     "execution_count": 24,
     "metadata": {},
     "output_type": "execute_result"
    }
   ],
   "source": [
    "result = np.e**(2*smp.log(x)-smp.log(2*y))\n",
    "result"
   ]
  },
  {
   "cell_type": "code",
   "execution_count": 25,
   "id": "5a8926cd-6ba8-4258-a14b-7a78497794a6",
   "metadata": {
    "tags": []
   },
   "outputs": [
    {
     "data": {
      "text/latex": [
       "$\\displaystyle 2.71828182845905^{\\log{\\left(\\frac{x^{2}}{2 y} \\right)}}$"
      ],
      "text/plain": [
       "2.71828182845905**log(x**2/(2*y))"
      ]
     },
     "execution_count": 25,
     "metadata": {},
     "output_type": "execute_result"
    }
   ],
   "source": [
    "logcombine(result)"
   ]
  },
  {
   "cell_type": "code",
   "execution_count": 26,
   "id": "2d2039d4-2aa8-4f6d-b509-f747e6e84b37",
   "metadata": {
    "tags": []
   },
   "outputs": [],
   "source": [
    "q = symbols('q')"
   ]
  },
  {
   "cell_type": "code",
   "execution_count": 43,
   "id": "e22555cf-9302-48ec-b6ca-08ae8b4b90ca",
   "metadata": {
    "tags": []
   },
   "outputs": [
    {
     "data": {
      "text/latex": [
       "$\\displaystyle 2 q^{2} - 3 q - 2 = 0$"
      ],
      "text/plain": [
       "Eq(2*q**2 - 3*q - 2, 0)"
      ]
     },
     "execution_count": 43,
     "metadata": {},
     "output_type": "execute_result"
    }
   ],
   "source": [
    "sol_for = smp.Eq(2*q**2-3*q-2,0)\n",
    "sol_for"
   ]
  },
  {
   "cell_type": "code",
   "execution_count": 44,
   "id": "102aa820-2552-4fa5-bcf7-2d92d6c9f0e5",
   "metadata": {
    "tags": []
   },
   "outputs": [
    {
     "data": {
      "text/plain": [
       "[-1/2, 2]"
      ]
     },
     "execution_count": 44,
     "metadata": {},
     "output_type": "execute_result"
    }
   ],
   "source": [
    "sols = smp.solve(sol_for,q)\n",
    "sols"
   ]
  },
  {
   "cell_type": "code",
   "execution_count": 49,
   "id": "31c46117-088a-4429-bae8-ff0b0279a021",
   "metadata": {
    "tags": []
   },
   "outputs": [
    {
     "data": {
      "text/latex": [
       "$\\displaystyle 2 \\log{\\left(x \\right)} - \\log{\\left(2 x \\right)} = 0$"
      ],
      "text/plain": [
       "Eq(2*log(x) - log(2*x), 0)"
      ]
     },
     "execution_count": 49,
     "metadata": {},
     "output_type": "execute_result"
    }
   ],
   "source": [
    "ec_1 = smp.Eq(2*smp.log(x)-smp.log(2*x),0)\n",
    "ec_1"
   ]
  },
  {
   "cell_type": "code",
   "execution_count": 50,
   "id": "d58a4e04-aa5a-4e29-8c58-e788cce5f77e",
   "metadata": {
    "tags": []
   },
   "outputs": [
    {
     "data": {
      "text/plain": [
       "[2]"
      ]
     },
     "execution_count": 50,
     "metadata": {},
     "output_type": "execute_result"
    }
   ],
   "source": [
    "sol_1 = smp.solve(ec_1,x)\n",
    "sol_1"
   ]
  },
  {
   "cell_type": "code",
   "execution_count": 48,
   "id": "40bb1cc2-37f2-4d22-83aa-2bb7ffd39d3e",
   "metadata": {
    "tags": []
   },
   "outputs": [],
   "source": [
    "h = smp.log(8,2)"
   ]
  },
  {
   "cell_type": "code",
   "execution_count": 52,
   "id": "3786d055-8dd6-4f6a-bb96-8472bc144a7a",
   "metadata": {
    "tags": []
   },
   "outputs": [
    {
     "data": {
      "text/latex": [
       "$\\displaystyle - \\frac{1}{4}$"
      ],
      "text/plain": [
       "-1/4"
      ]
     },
     "execution_count": 52,
     "metadata": {},
     "output_type": "execute_result"
    }
   ],
   "source": [
    "k =- h/12\n",
    "k"
   ]
  },
  {
   "cell_type": "code",
   "execution_count": 55,
   "id": "4314fed7-a54a-40d9-8de3-2efa1e9e2e38",
   "metadata": {
    "tags": []
   },
   "outputs": [
    {
     "data": {
      "text/latex": [
       "$\\displaystyle 89873937.4569542$"
      ],
      "text/plain": [
       "89873937.4569542"
      ]
     },
     "execution_count": 55,
     "metadata": {},
     "output_type": "execute_result"
    }
   ],
   "source": [
    "P_t = 135120*smp.exp(0.325*20)\n",
    "P_t"
   ]
  },
  {
   "cell_type": "code",
   "execution_count": 56,
   "id": "28ce0398-3eb9-445d-80d9-cdd0a19fa901",
   "metadata": {
    "tags": []
   },
   "outputs": [
    {
     "data": {
      "text/latex": [
       "$\\displaystyle 89873937.4569542$"
      ],
      "text/plain": [
       "89873937.4569542"
      ]
     },
     "execution_count": 56,
     "metadata": {},
     "output_type": "execute_result"
    }
   ],
   "source": [
    "pop = 135120*exp(0.325*20)\n",
    "pop"
   ]
  },
  {
   "cell_type": "code",
   "execution_count": null,
   "id": "cbe2ef09-1a27-482f-a02a-6e0558bd857e",
   "metadata": {},
   "outputs": [],
   "source": []
  }
 ],
 "metadata": {
  "kernelspec": {
   "display_name": "Python 3 (ipykernel)",
   "language": "python",
   "name": "python3"
  },
  "language_info": {
   "codemirror_mode": {
    "name": "ipython",
    "version": 3
   },
   "file_extension": ".py",
   "mimetype": "text/x-python",
   "name": "python",
   "nbconvert_exporter": "python",
   "pygments_lexer": "ipython3",
   "version": "3.10.9"
  }
 },
 "nbformat": 4,
 "nbformat_minor": 5
}
