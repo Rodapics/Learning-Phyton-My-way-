{
 "cells": [
  {
   "cell_type": "markdown",
   "metadata": {
    "id": "_a1fNbb2DgEf"
   },
   "source": [
    "#Introducción a Mecánica Orbital con Python "
   ]
  },
  {
   "cell_type": "markdown",
   "metadata": {
    "id": "quD2rk0uEKjv"
   },
   "source": [
    "##Definición del problema de dos Cuerpos."
   ]
  },
  {
   "cell_type": "markdown",
   "metadata": {
    "id": "hZMvbV9tEXNv"
   },
   "source": [
    "Es bien sabido que para resolver este tipo de problemas se tiene que realizar ciertas asunciones, tales como:\n",
    "\n",
    "\n",
    "*   Se asume que todo lo que existen en el universo son dos cuerpos. Uno grande y uno pequeño.\n",
    "*   Asumimos que el cuerpo grande (es decir, la Tierra) es esférico, esto implica que su centro de masa se encuentra en su centro geometrico y que su masa se distribuye uniformemente en toda la esfera.\n",
    "*   El cuerpo grande influye al cuerpo pequeño, pero no viceversa.\n",
    "*   El mar de referencia invercial está centrado en el centro geométrico del cuerpo grande.\n",
    "\n"
   ]
  },
  {
   "cell_type": "markdown",
   "metadata": {
    "id": "CYdYNvZREXO0"
   },
   "source": [
    "$$F_{graverdad} =\\frac{Gm_{grande}m{pequeño}}{r^2}$$\n",
    "$$F_{gravedad} = m_{pequeño}a_{pequeño}$$\n",
    "Por lo tanto,\n",
    "$$ a_{pequeño}=\\frac{Gm_{grande}}{r^2}=\\frac{\\mu_{Tierra}}{r^2} $$ \n",
    "Para poder realizar ecuaciones tridimencionales, se necesitan definir estar operaciones utilizando vectores en el espacio 3d:\n",
    "$$\\vec{a}_{pequeño}=\\frac{-\\mu_{Tierra}}{|r|^3} \\vec{r} $$"
   ]
  },
  {
   "cell_type": "code",
   "execution_count": null,
   "metadata": {
    "id": "UgUgwbv_DevN"
   },
   "outputs": [],
   "source": []
  },
  {
   "cell_type": "code",
   "execution_count": null,
   "metadata": {
    "id": "XBTkk7X-IEdo"
   },
   "outputs": [],
   "source": []
  }
 ],
 "metadata": {
  "colab": {
   "authorship_tag": "ABX9TyNp59t+1n70fVLIjMbX7OJ9",
   "provenance": []
  },
  "kernelspec": {
   "display_name": "Python 3 (ipykernel)",
   "language": "python",
   "name": "python3"
  },
  "language_info": {
   "codemirror_mode": {
    "name": "ipython",
    "version": 3
   },
   "file_extension": ".py",
   "mimetype": "text/x-python",
   "name": "python",
   "nbconvert_exporter": "python",
   "pygments_lexer": "ipython3",
   "version": "3.10.9"
  }
 },
 "nbformat": 4,
 "nbformat_minor": 4
}
