{
 "cells": [
  {
   "cell_type": "markdown",
   "id": "c01a72c8-1325-41d7-9095-83c609cd6477",
   "metadata": {},
   "source": [
    "# <center> Sesión 1. Funciones, series y gráficos\n",
    "\n",
    "\n",
    "## Indice\n",
    "1. [Funciones](#1.-Funciones)\n",
    "2. [Series](#2.-Series)\n",
    "3. [Gráficos](#3-Gráficos)\n",
    "4. [Errores](#4.-Errores)    \n",
    "    "
   ]
  },
  {
   "cell_type": "code",
   "execution_count": 15,
   "id": "5fe9b613-357c-4334-8f47-e1e7aefaa656",
   "metadata": {
    "tags": []
   },
   "outputs": [],
   "source": [
    "#Librerias \n",
    "import numpy as np\n",
    "import matplotlib.pyplot as plt\n"
   ]
  },
  {
   "cell_type": "markdown",
   "id": "16ea3a67-d59d-4c98-bcd1-49434d1fd8d4",
   "metadata": {},
   "source": [
    "## 1. Funciones"
   ]
  },
  {
   "cell_type": "markdown",
   "id": "c3f7e82f-2bc3-47e9-8eaa-ee72533538b7",
   "metadata": {},
   "source": [
    "En el contexto de la programación, una función es una secuencia de declaraciones que realizan determinadas operaciones."
   ]
  },
  {
   "cell_type": "markdown",
   "id": "2994f655-2060-4200-915a-0afea2139f30",
   "metadata": {},
   "source": [
    "Syntax de una función:\n",
    "\n",
    "\n",
    ">     def mi_función(x1,x2,...,xn):  \n",
    "          operacion_1= x1+x4+x3*x2\n",
    "          operacion_2= x1+x4+x3*x2\n",
    "          operación_3= x1**2+x2+x3*x4\n",
    "       return(lo que quiero extraer)\n",
    "\n"
   ]
  },
  {
   "cell_type": "markdown",
   "id": "8c0f5530-97a1-4e34-9d98-6d4f1fa1f275",
   "metadata": {},
   "source": [
    "Una vez definida la función puedes llamarla, por ejemplo:"
   ]
  },
  {
   "cell_type": "code",
   "execution_count": 2,
   "id": "0ece2040-59d7-4cb5-9f0f-9ec4fcf8a41f",
   "metadata": {
    "tags": []
   },
   "outputs": [
    {
     "data": {
      "text/plain": [
       "int"
      ]
     },
     "execution_count": 2,
     "metadata": {},
     "output_type": "execute_result"
    }
   ],
   "source": [
    "type(32)   #Funciones interna que nos permite saber el tipo de variable"
   ]
  },
  {
   "cell_type": "code",
   "execution_count": 4,
   "id": "7c3e7062-353e-4a93-92ed-e3390c512d90",
   "metadata": {
    "tags": []
   },
   "outputs": [],
   "source": [
    "#factorial(5)  #Error en el código, no existe la función factorial. Hay que crearla"
   ]
  },
  {
   "cell_type": "markdown",
   "id": "ab484ea5-6cf7-40d4-9c19-90a8faf538af",
   "metadata": {},
   "source": [
    "### Función Factorial$$n!$$\n",
    "\n",
    "Factorial de un número entero positivo."
   ]
  },
  {
   "cell_type": "code",
   "execution_count": 5,
   "id": "d58ef8d0-3762-484c-82cc-69bb4004da2b",
   "metadata": {
    "tags": []
   },
   "outputs": [],
   "source": [
    "\n",
    "\n",
    "def factorial(n):\n",
    "    f=1\n",
    "    for i in range(2,n+1):\n",
    "        f*=i #o f=i*f   \n",
    "    return(f)"
   ]
  },
  {
   "cell_type": "code",
   "execution_count": 6,
   "id": "c961c6cc-a838-46e4-9c76-e19fb65ee4e7",
   "metadata": {
    "tags": []
   },
   "outputs": [
    {
     "data": {
      "text/plain": [
       "6"
      ]
     },
     "execution_count": 6,
     "metadata": {},
     "output_type": "execute_result"
    }
   ],
   "source": [
    "factorial(3)"
   ]
  },
  {
   "cell_type": "code",
   "execution_count": 7,
   "id": "0d27b3f5-b007-4de4-beba-28a17cd159b4",
   "metadata": {
    "tags": []
   },
   "outputs": [
    {
     "name": "stdout",
     "output_type": "stream",
     "text": [
      "n n!\n",
      "0 1\n",
      "1 1\n",
      "2 2\n",
      "3 6\n",
      "4 24\n",
      "5 120\n",
      "6 720\n",
      "7 5040\n",
      "8 40320\n",
      "9 362880\n"
     ]
    }
   ],
   "source": [
    "print('n','n!') #%10s, 10 espacios para caracteres tipo string\n",
    "for j in range(10):\n",
    "    print(j,factorial(j))"
   ]
  },
  {
   "cell_type": "code",
   "execution_count": 8,
   "id": "c6a149bf-8f57-446b-a950-3a1a1e808314",
   "metadata": {
    "tags": []
   },
   "outputs": [
    {
     "name": "stdout",
     "output_type": "stream",
     "text": [
      "         n         n!\n",
      "         0          1\n",
      "         1          1\n",
      "         2          2\n",
      "         3          6\n",
      "         4         24\n",
      "         5        120\n",
      "         6        720\n",
      "         7       5040\n",
      "         8      40320\n",
      "         9     362880\n"
     ]
    }
   ],
   "source": [
    "print('%10s %10s' %('n','n!')) #%10s, 10 espacios para caracteres tipo string\n",
    "for j in range(10):\n",
    "    print('%10d %10d' % (j,factorial(j))) # %10d, 10 espacios para cateres de tipo entero decimal"
   ]
  },
  {
   "cell_type": "markdown",
   "id": "e5bf808d-8984-4e61-a4e1-4d05d8629f9c",
   "metadata": {},
   "source": [
    "## 1.1 Funciones Matemáticas\n",
    "\n",
    "### 1.1.1 $$\\mathbb{R}^n\\rightarrow\\mathbb{R}$$"
   ]
  },
  {
   "cell_type": "markdown",
   "id": "820ddc2a-f708-4f16-b39c-af37d3d34af1",
   "metadata": {},
   "source": [
    "Por ejemplo:\n",
    "La ecuación de movimiento en el eje Y de una partícula libre:\n",
    "$$y(y_0,v_0,t)=y_0+v_0 t - \\frac{1}{2} g t^2$$"
   ]
  },
  {
   "cell_type": "code",
   "execution_count": 12,
   "id": "dc97d6da-8a60-4ada-91e4-b6d4139724ac",
   "metadata": {
    "tags": []
   },
   "outputs": [],
   "source": [
    "#Creamos la función que modele la posición en y:\n",
    "def y_pos(y0,v0,t):\n",
    "    g= 9.8 #m/s^2\n",
    "    return(y0+v0*t-0.5*g*t**2)"
   ]
  },
  {
   "cell_type": "code",
   "execution_count": 14,
   "id": "1b29fac1-94a2-4e5d-8381-3d25a6c553b7",
   "metadata": {
    "tags": []
   },
   "outputs": [],
   "source": [
    "#Creamos la variable temporal\n",
    "t= np.linspace(0,10,11)"
   ]
  },
  {
   "cell_type": "code",
   "execution_count": null,
   "id": "f2ffbd15-750b-438a-887d-e7cbe914af58",
   "metadata": {},
   "outputs": [],
   "source": []
  }
 ],
 "metadata": {
  "kernelspec": {
   "display_name": "Python 3 (ipykernel)",
   "language": "python",
   "name": "python3"
  },
  "language_info": {
   "codemirror_mode": {
    "name": "ipython",
    "version": 3
   },
   "file_extension": ".py",
   "mimetype": "text/x-python",
   "name": "python",
   "nbconvert_exporter": "python",
   "pygments_lexer": "ipython3",
   "version": "3.10.9"
  }
 },
 "nbformat": 4,
 "nbformat_minor": 5
}
