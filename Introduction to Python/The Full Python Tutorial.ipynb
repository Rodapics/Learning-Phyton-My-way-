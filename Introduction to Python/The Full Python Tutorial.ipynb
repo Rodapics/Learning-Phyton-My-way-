{
 "cells": [
  {
   "cell_type": "markdown",
   "metadata": {
    "id": "6rkaJZAL8Ra3"
   },
   "source": [
    "**Librerias**"
   ]
  },
  {
   "cell_type": "code",
   "execution_count": null,
   "metadata": {
    "id": "nBH7Wuor8RLv"
   },
   "outputs": [],
   "source": [
    "import numpy as np\n",
    "import matplotlib.pyplot as plt"
   ]
  },
  {
   "cell_type": "markdown",
   "metadata": {
    "id": "sHuj4JSjJ21W"
   },
   "source": [
    "#Basics of Phyton"
   ]
  },
  {
   "cell_type": "markdown",
   "metadata": {
    "id": "vV_Fatqc6Tt7"
   },
   "source": [
    "##Basics of Python: Part 1 - Introduction\n",
    "Menciona las cosas buenas de python, y algunos funcionamientos básicos.\n"
   ]
  },
  {
   "cell_type": "markdown",
   "metadata": {
    "id": "PamwkWb_6nTe"
   },
   "source": [
    "##Basics of Python: Part 2 - Lists, Tuples, Arrays\n",
    "\n",
    "\n",
    "\n"
   ]
  },
  {
   "cell_type": "markdown",
   "metadata": {
    "id": "9RfKtV6q63kp"
   },
   "source": [
    "###Cositas\n",
    "**Variables**\n",
    "```\n",
    "x=5\n",
    "x='ca()t'.format('s')\n",
    "\n",
    "b = 45625.5245654\n",
    "x = 'I am {:.2f} years old'.format(b)\n",
    "x\n",
    "```\n",
    "##List\n",
    "```\n",
    "x=[1,2,3,4,'cat',5,[6,5]]\n",
    "x\n",
    "x[4]\n",
    "```\n",
    "##Tuple\n",
    "```\n",
    "x= ('a',2,3,4,)\n",
    "x\n",
    "```\n",
    "##Dict\n",
    "```\n",
    "d= {'cat':'feline',56:88}\n",
    "\n",
    "```\n",
    "##Array\n",
    "```\n",
    "# Tiene formato de código\n",
    "```\n",
    "\n"
   ]
  },
  {
   "cell_type": "code",
   "execution_count": null,
   "metadata": {
    "colab": {
     "base_uri": "https://localhost:8080/"
    },
    "executionInfo": {
     "elapsed": 383,
     "status": "ok",
     "timestamp": 1682037874671,
     "user": {
      "displayName": "CARLOS ANDRES RODALLEGA MILLAN",
      "userId": "17846216848733149992"
     },
     "user_tz": 300
    },
    "id": "28gj4RmX6ogm",
    "outputId": "f8245475-aefd-48cd-9438-cb8aa6023793"
   },
   "outputs": [
    {
     "data": {
      "application/vnd.google.colaboratory.intrinsic+json": {
       "type": "string"
      },
      "text/plain": [
       "'I am 45625.52 years old'"
      ]
     },
     "execution_count": 3,
     "metadata": {},
     "output_type": "execute_result"
    }
   ],
   "source": [
    "#Variables\n",
    "x=5\n",
    "x='ca{}t'.format('s')\n",
    "b = 45625.5245654\n",
    "x = 'I am {:.2f} years old'.format(b)\n",
    "x"
   ]
  },
  {
   "cell_type": "code",
   "execution_count": null,
   "metadata": {
    "colab": {
     "base_uri": "https://localhost:8080/"
    },
    "executionInfo": {
     "elapsed": 15,
     "status": "ok",
     "timestamp": 1682037874672,
     "user": {
      "displayName": "CARLOS ANDRES RODALLEGA MILLAN",
      "userId": "17846216848733149992"
     },
     "user_tz": 300
    },
    "id": "k7siVGdC8ebk",
    "outputId": "bdeadac4-9c6d-4f15-bbe1-f1c91f33e72f"
   },
   "outputs": [
    {
     "data": {
      "application/vnd.google.colaboratory.intrinsic+json": {
       "type": "string"
      },
      "text/plain": [
       "'cat'"
      ]
     },
     "execution_count": 4,
     "metadata": {},
     "output_type": "execute_result"
    }
   ],
   "source": [
    "#Listas\n",
    "x=[1,2,3,4,'cat',5,[6,5]]\n",
    "x\n",
    "x[4]\n"
   ]
  },
  {
   "cell_type": "code",
   "execution_count": null,
   "metadata": {
    "colab": {
     "base_uri": "https://localhost:8080/"
    },
    "executionInfo": {
     "elapsed": 14,
     "status": "ok",
     "timestamp": 1682037874672,
     "user": {
      "displayName": "CARLOS ANDRES RODALLEGA MILLAN",
      "userId": "17846216848733149992"
     },
     "user_tz": 300
    },
    "id": "K25Yyn0f9iZ1",
    "outputId": "054edde8-5cb9-4a3f-b4ec-cf25c8a4bed3"
   },
   "outputs": [
    {
     "data": {
      "text/plain": [
       "('a', 2, 3, 4)"
      ]
     },
     "execution_count": 5,
     "metadata": {},
     "output_type": "execute_result"
    }
   ],
   "source": [
    "#Tuple\n",
    "\n",
    "x= ('a',2,3,4,)\n",
    "x"
   ]
  },
  {
   "cell_type": "code",
   "execution_count": null,
   "metadata": {
    "id": "0WJ_dXMj-CrK"
   },
   "outputs": [],
   "source": [
    "#Dictionaries\n",
    "d= {'cat':'feline',56:88}"
   ]
  },
  {
   "cell_type": "code",
   "execution_count": null,
   "metadata": {
    "colab": {
     "base_uri": "https://localhost:8080/"
    },
    "executionInfo": {
     "elapsed": 8,
     "status": "ok",
     "timestamp": 1682037874673,
     "user": {
      "displayName": "CARLOS ANDRES RODALLEGA MILLAN",
      "userId": "17846216848733149992"
     },
     "user_tz": 300
    },
    "id": "MzooK_Bu-bUl",
    "outputId": "b58ed495-2e76-4a7b-8129-88e9358ae26c"
   },
   "outputs": [
    {
     "data": {
      "text/plain": [
       "array([1, 5, 8, 6])"
      ]
     },
     "execution_count": 7,
     "metadata": {},
     "output_type": "execute_result"
    }
   ],
   "source": [
    "#Arrays\n",
    "\n",
    "x=np.array([1,5,8,6])\n",
    "x"
   ]
  },
  {
   "cell_type": "code",
   "execution_count": null,
   "metadata": {
    "id": "NI8ms8FV-55J"
   },
   "outputs": [],
   "source": [
    "x=np.linspace(0,20,1000)\n",
    "\n"
   ]
  },
  {
   "cell_type": "markdown",
   "metadata": {
    "id": "pBgzXYmr_IvH"
   },
   "source": [
    "### Plotting"
   ]
  },
  {
   "cell_type": "code",
   "execution_count": null,
   "metadata": {
    "id": "AKvlT74O_x_O"
   },
   "outputs": [],
   "source": [
    "import matplotlib.pyplot as plt"
   ]
  },
  {
   "cell_type": "code",
   "execution_count": null,
   "metadata": {
    "id": "ASES5GYV_5h6"
   },
   "outputs": [],
   "source": [
    "x = np.linspace(0,1,10)\n",
    "y = x**2"
   ]
  },
  {
   "cell_type": "code",
   "execution_count": null,
   "metadata": {
    "colab": {
     "base_uri": "https://localhost:8080/"
    },
    "executionInfo": {
     "elapsed": 541,
     "status": "ok",
     "timestamp": 1682037875207,
     "user": {
      "displayName": "CARLOS ANDRES RODALLEGA MILLAN",
      "userId": "17846216848733149992"
     },
     "user_tz": 300
    },
    "id": "w99qv91kAAcd",
    "outputId": "3c5795d2-6157-4fc5-dbaa-6ecb6540f636"
   },
   "outputs": [
    {
     "data": {
      "text/plain": [
       "Text(0, 0.5, 'y')"
      ]
     },
     "execution_count": 11,
     "metadata": {},
     "output_type": "execute_result"
    },
    {
     "data": {
      "image/png": "[encoded data removed]",
      "text/plain": [
       "<Figure size 640x480 with 1 Axes>"
      ]
     },
     "metadata": {},
     "output_type": "display_data"
    }
   ],
   "source": [
    "plt.plot(x,y,'ro--')\n",
    "plt.xlabel('x',fontsize=15)\n",
    "plt.ylabel('y',fontsize=15)"
   ]
  },
  {
   "cell_type": "markdown",
   "metadata": {
    "id": "TtqFxVU5BBIF"
   },
   "source": [
    "##Basics of Python: Part 3 - Loops, If Statements\n"
   ]
  },
  {
   "cell_type": "markdown",
   "metadata": {
    "id": "NhjSz4IUBEFr"
   },
   "source": [
    "###Loops"
   ]
  },
  {
   "cell_type": "markdown",
   "metadata": {
    "id": "uf6dCF_5tdeB"
   },
   "source": [
    "1.Regular Loop"
   ]
  },
  {
   "cell_type": "code",
   "execution_count": null,
   "metadata": {
    "colab": {
     "base_uri": "https://localhost:8080/"
    },
    "executionInfo": {
     "elapsed": 15,
     "status": "ok",
     "timestamp": 1682037875207,
     "user": {
      "displayName": "CARLOS ANDRES RODALLEGA MILLAN",
      "userId": "17846216848733149992"
     },
     "user_tz": 300
    },
    "id": "GEQLmlmVAA9l",
    "outputId": "0e502753-d41c-4db9-c076-78dc6b7a7150"
   },
   "outputs": [
    {
     "name": "stdout",
     "output_type": "stream",
     "text": [
      "0\n",
      "1\n",
      "2\n",
      "3\n",
      "4\n"
     ]
    }
   ],
   "source": [
    "for i in range(5):\n",
    "  print(i)"
   ]
  },
  {
   "cell_type": "code",
   "execution_count": null,
   "metadata": {
    "id": "UNDarU_WttCE"
   },
   "outputs": [],
   "source": [
    "lst = []\n",
    "for i in range(21):\n",
    "  lst.append(i**3)"
   ]
  },
  {
   "cell_type": "code",
   "execution_count": null,
   "metadata": {
    "colab": {
     "base_uri": "https://localhost:8080/"
    },
    "executionInfo": {
     "elapsed": 10,
     "status": "ok",
     "timestamp": 1682037875208,
     "user": {
      "displayName": "CARLOS ANDRES RODALLEGA MILLAN",
      "userId": "17846216848733149992"
     },
     "user_tz": 300
    },
    "id": "J8mqmMcFt1n3",
    "outputId": "485a76e4-0c0a-4938-bc8c-33723877e268"
   },
   "outputs": [
    {
     "data": {
      "text/plain": [
       "[0,\n",
       " 1,\n",
       " 8,\n",
       " 27,\n",
       " 64,\n",
       " 125,\n",
       " 216,\n",
       " 343,\n",
       " 512,\n",
       " 729,\n",
       " 1000,\n",
       " 1331,\n",
       " 1728,\n",
       " 2197,\n",
       " 2744,\n",
       " 3375,\n",
       " 4096,\n",
       " 4913,\n",
       " 5832,\n",
       " 6859,\n",
       " 8000]"
      ]
     },
     "execution_count": 14,
     "metadata": {},
     "output_type": "execute_result"
    }
   ],
   "source": [
    "lst"
   ]
  },
  {
   "cell_type": "markdown",
   "metadata": {
    "id": "xa_GLnCKtmjy"
   },
   "source": [
    "2.List loop"
   ]
  },
  {
   "cell_type": "code",
   "execution_count": null,
   "metadata": {
    "colab": {
     "base_uri": "https://localhost:8080/"
    },
    "executionInfo": {
     "elapsed": 10,
     "status": "ok",
     "timestamp": 1682037875208,
     "user": {
      "displayName": "CARLOS ANDRES RODALLEGA MILLAN",
      "userId": "17846216848733149992"
     },
     "user_tz": 300
    },
    "id": "CSiiaxkmtmo-",
    "outputId": "be1b6a5d-c764-4791-a215-9c3b7f9cc814"
   },
   "outputs": [
    {
     "name": "stdout",
     "output_type": "stream",
     "text": [
      "fog\n",
      "cat\n",
      "horse\n"
     ]
    }
   ],
   "source": [
    "lst = ['fog','cat','horse']\n",
    "for item in lst:\n",
    "  print(item)"
   ]
  },
  {
   "cell_type": "markdown",
   "metadata": {
    "id": "bOwky5VNtmuN"
   },
   "source": [
    "3.Enumeration loop"
   ]
  },
  {
   "cell_type": "code",
   "execution_count": null,
   "metadata": {
    "colab": {
     "base_uri": "https://localhost:8080/"
    },
    "executionInfo": {
     "elapsed": 9,
     "status": "ok",
     "timestamp": 1682037875208,
     "user": {
      "displayName": "CARLOS ANDRES RODALLEGA MILLAN",
      "userId": "17846216848733149992"
     },
     "user_tz": 300
    },
    "id": "utlO_UO2tmyj",
    "outputId": "b46f8113-1eb7-4341-9c36-a79d10392b8d"
   },
   "outputs": [
    {
     "name": "stdout",
     "output_type": "stream",
     "text": [
      "Index 0 contains fog\n",
      "Index 1 contains cat\n",
      "Index 2 contains horse\n"
     ]
    }
   ],
   "source": [
    "lst = ['fog','cat','horse']\n",
    "for i, item in enumerate(lst):\n",
    "  print('Index {} contains {}'.format(i,item))"
   ]
  },
  {
   "cell_type": "markdown",
   "metadata": {
    "id": "kbGvhWxTtm4H"
   },
   "source": [
    "4.List comprehension loop"
   ]
  },
  {
   "cell_type": "code",
   "execution_count": null,
   "metadata": {
    "id": "-Hp6wvV5tm8U"
   },
   "outputs": [],
   "source": [
    "lst = [i**3 for i in range(21)]"
   ]
  },
  {
   "cell_type": "markdown",
   "metadata": {
    "id": "3_S_u9f6uK8u"
   },
   "source": [
    "5. Double forloop"
   ]
  },
  {
   "cell_type": "code",
   "execution_count": null,
   "metadata": {
    "colab": {
     "base_uri": "https://localhost:8080/"
    },
    "executionInfo": {
     "elapsed": 8,
     "status": "ok",
     "timestamp": 1682037875208,
     "user": {
      "displayName": "CARLOS ANDRES RODALLEGA MILLAN",
      "userId": "17846216848733149992"
     },
     "user_tz": 300
    },
    "id": "EbZBBjKSuLFK",
    "outputId": "27bddd09-7e01-4ccf-f3f3-ee5ef1741a26"
   },
   "outputs": [
    {
     "name": "stdout",
     "output_type": "stream",
     "text": [
      "i=0, j=0\n",
      "i=0, j=1\n",
      "i=0, j=2\n",
      "i=0, j=3\n",
      "i=0, j=4\n",
      "i=1, j=0\n",
      "i=1, j=1\n",
      "i=1, j=2\n",
      "i=1, j=3\n",
      "i=1, j=4\n",
      "i=2, j=0\n",
      "i=2, j=1\n",
      "i=2, j=2\n",
      "i=2, j=3\n",
      "i=2, j=4\n",
      "i=3, j=0\n",
      "i=3, j=1\n",
      "i=3, j=2\n",
      "i=3, j=3\n",
      "i=3, j=4\n",
      "i=4, j=0\n",
      "i=4, j=1\n",
      "i=4, j=2\n",
      "i=4, j=3\n",
      "i=4, j=4\n"
     ]
    }
   ],
   "source": [
    "for i in range(5):\n",
    "  for j in range(5):\n",
    "    print('i={}, j={}'.format(i,j))"
   ]
  },
  {
   "cell_type": "markdown",
   "metadata": {
    "id": "bZhjJ7INuLnj"
   },
   "source": [
    "###Booleans and if statements"
   ]
  },
  {
   "cell_type": "code",
   "execution_count": null,
   "metadata": {
    "id": "FNeDxGDYuLtR"
   },
   "outputs": [],
   "source": [
    "a = True\n",
    "b =False\n"
   ]
  },
  {
   "cell_type": "code",
   "execution_count": null,
   "metadata": {
    "colab": {
     "base_uri": "https://localhost:8080/"
    },
    "executionInfo": {
     "elapsed": 8,
     "status": "ok",
     "timestamp": 1682037875209,
     "user": {
      "displayName": "CARLOS ANDRES RODALLEGA MILLAN",
      "userId": "17846216848733149992"
     },
     "user_tz": 300
    },
    "id": "YpGW35Fiv8iT",
    "outputId": "d6e2e1e5-038e-4f28-9bc7-6565e2e177eb"
   },
   "outputs": [
    {
     "data": {
      "text/plain": [
       "True"
      ]
     },
     "execution_count": 20,
     "metadata": {},
     "output_type": "execute_result"
    }
   ],
   "source": [
    "not(b)"
   ]
  },
  {
   "cell_type": "code",
   "execution_count": null,
   "metadata": {
    "colab": {
     "base_uri": "https://localhost:8080/"
    },
    "executionInfo": {
     "elapsed": 8,
     "status": "ok",
     "timestamp": 1682037875209,
     "user": {
      "displayName": "CARLOS ANDRES RODALLEGA MILLAN",
      "userId": "17846216848733149992"
     },
     "user_tz": 300
    },
    "id": "9vNfljQZv8kp",
    "outputId": "ae1e9f19-35b8-4414-947d-2a4f00d7a015"
   },
   "outputs": [
    {
     "data": {
      "text/plain": [
       "True"
      ]
     },
     "execution_count": 21,
     "metadata": {},
     "output_type": "execute_result"
    }
   ],
   "source": [
    "a and not(b)"
   ]
  },
  {
   "cell_type": "code",
   "execution_count": null,
   "metadata": {
    "colab": {
     "base_uri": "https://localhost:8080/"
    },
    "executionInfo": {
     "elapsed": 7,
     "status": "ok",
     "timestamp": 1682037875209,
     "user": {
      "displayName": "CARLOS ANDRES RODALLEGA MILLAN",
      "userId": "17846216848733149992"
     },
     "user_tz": 300
    },
    "id": "PfcRpnSMv8nw",
    "outputId": "a462b1a2-6ef2-45a9-e978-87975abcf34a"
   },
   "outputs": [
    {
     "data": {
      "text/plain": [
       "False"
      ]
     },
     "execution_count": 22,
     "metadata": {},
     "output_type": "execute_result"
    }
   ],
   "source": [
    "a and b"
   ]
  },
  {
   "cell_type": "code",
   "execution_count": null,
   "metadata": {
    "colab": {
     "base_uri": "https://localhost:8080/"
    },
    "executionInfo": {
     "elapsed": 374,
     "status": "ok",
     "timestamp": 1682037875577,
     "user": {
      "displayName": "CARLOS ANDRES RODALLEGA MILLAN",
      "userId": "17846216848733149992"
     },
     "user_tz": 300
    },
    "id": "rxsthDkqv8po",
    "outputId": "7e87f4c7-6c83-40a3-a9b8-d28b1b4de033"
   },
   "outputs": [
    {
     "name": "stdout",
     "output_type": "stream",
     "text": [
      "yes\n"
     ]
    }
   ],
   "source": [
    "if a:\n",
    "  print('yes')"
   ]
  },
  {
   "cell_type": "code",
   "execution_count": null,
   "metadata": {
    "id": "maUbnnD1v8q7"
   },
   "outputs": [],
   "source": [
    "if b:\n",
    "  print('yes')"
   ]
  },
  {
   "cell_type": "code",
   "execution_count": null,
   "metadata": {
    "colab": {
     "base_uri": "https://localhost:8080/"
    },
    "executionInfo": {
     "elapsed": 17,
     "status": "ok",
     "timestamp": 1682037875578,
     "user": {
      "displayName": "CARLOS ANDRES RODALLEGA MILLAN",
      "userId": "17846216848733149992"
     },
     "user_tz": 300
    },
    "id": "Slct6XZrwHX2",
    "outputId": "019f9a9a-f56b-4cd6-becc-406308e01553"
   },
   "outputs": [
    {
     "name": "stdout",
     "output_type": "stream",
     "text": [
      "yes\n"
     ]
    }
   ],
   "source": [
    "if a or b:\n",
    "  print('yes')"
   ]
  },
  {
   "cell_type": "code",
   "execution_count": null,
   "metadata": {
    "id": "oxkuj1RMwHLB"
   },
   "outputs": [],
   "source": [
    "if a and b:\n",
    "  print('yes')"
   ]
  },
  {
   "cell_type": "code",
   "execution_count": null,
   "metadata": {
    "id": "pAnepvqYwHTE"
   },
   "outputs": [],
   "source": [
    "i = 0"
   ]
  },
  {
   "cell_type": "code",
   "execution_count": null,
   "metadata": {
    "colab": {
     "base_uri": "https://localhost:8080/"
    },
    "executionInfo": {
     "elapsed": 16,
     "status": "ok",
     "timestamp": 1682037875579,
     "user": {
      "displayName": "CARLOS ANDRES RODALLEGA MILLAN",
      "userId": "17846216848733149992"
     },
     "user_tz": 300
    },
    "id": "ESh6kja1wHUd",
    "outputId": "9e555c81-922e-4cb0-8c60-917603849157"
   },
   "outputs": [
    {
     "data": {
      "text/plain": [
       "True"
      ]
     },
     "execution_count": 28,
     "metadata": {},
     "output_type": "execute_result"
    }
   ],
   "source": [
    "i == 0 "
   ]
  },
  {
   "cell_type": "code",
   "execution_count": null,
   "metadata": {
    "id": "EntIcb7EwTzQ"
   },
   "outputs": [],
   "source": [
    "a=i==0"
   ]
  },
  {
   "cell_type": "code",
   "execution_count": null,
   "metadata": {
    "colab": {
     "base_uri": "https://localhost:8080/"
    },
    "executionInfo": {
     "elapsed": 15,
     "status": "ok",
     "timestamp": 1682037875579,
     "user": {
      "displayName": "CARLOS ANDRES RODALLEGA MILLAN",
      "userId": "17846216848733149992"
     },
     "user_tz": 300
    },
    "id": "kIUQjKnewT0i",
    "outputId": "08924369-efaf-4076-d409-4dd440e911c7"
   },
   "outputs": [
    {
     "data": {
      "text/plain": [
       "True"
      ]
     },
     "execution_count": 30,
     "metadata": {},
     "output_type": "execute_result"
    }
   ],
   "source": [
    "a"
   ]
  },
  {
   "cell_type": "code",
   "execution_count": null,
   "metadata": {
    "id": "3La06DI4wT3O"
   },
   "outputs": [],
   "source": [
    "if a==0:\n",
    "  print('yes')\n"
   ]
  },
  {
   "cell_type": "code",
   "execution_count": null,
   "metadata": {
    "colab": {
     "base_uri": "https://localhost:8080/"
    },
    "executionInfo": {
     "elapsed": 15,
     "status": "ok",
     "timestamp": 1682037875580,
     "user": {
      "displayName": "CARLOS ANDRES RODALLEGA MILLAN",
      "userId": "17846216848733149992"
     },
     "user_tz": 300
    },
    "id": "-M4JDy7cwT78",
    "outputId": "38a2d350-179c-4209-e45b-4a4674f7b2fb"
   },
   "outputs": [
    {
     "name": "stdout",
     "output_type": "stream",
     "text": [
      "yes\n"
     ]
    }
   ],
   "source": [
    "if a!=0:\n",
    "  print('yes')\n"
   ]
  },
  {
   "cell_type": "code",
   "execution_count": null,
   "metadata": {
    "colab": {
     "base_uri": "https://localhost:8080/"
    },
    "executionInfo": {
     "elapsed": 14,
     "status": "ok",
     "timestamp": 1682037875580,
     "user": {
      "displayName": "CARLOS ANDRES RODALLEGA MILLAN",
      "userId": "17846216848733149992"
     },
     "user_tz": 300
    },
    "id": "p8HizJXewT9h",
    "outputId": "6031ade5-d9ce-42f4-a455-1cf109e1dd0f"
   },
   "outputs": [
    {
     "data": {
      "text/plain": [
       "True"
      ]
     },
     "execution_count": 33,
     "metadata": {},
     "output_type": "execute_result"
    }
   ],
   "source": [
    "a"
   ]
  },
  {
   "cell_type": "code",
   "execution_count": null,
   "metadata": {
    "id": "Xhk_XqSVwofM"
   },
   "outputs": [],
   "source": [
    "i=1\n",
    "j = 0"
   ]
  },
  {
   "cell_type": "code",
   "execution_count": null,
   "metadata": {
    "colab": {
     "base_uri": "https://localhost:8080/"
    },
    "executionInfo": {
     "elapsed": 13,
     "status": "ok",
     "timestamp": 1682037875580,
     "user": {
      "displayName": "CARLOS ANDRES RODALLEGA MILLAN",
      "userId": "17846216848733149992"
     },
     "user_tz": 300
    },
    "id": "ONGn-71xwpf1",
    "outputId": "5b3dd774-423c-42dd-9cf6-0074ac616901"
   },
   "outputs": [
    {
     "name": "stdout",
     "output_type": "stream",
     "text": [
      "yes\n"
     ]
    }
   ],
   "source": [
    "if i!=1 or j==0:\n",
    "  print('yes')"
   ]
  },
  {
   "cell_type": "code",
   "execution_count": null,
   "metadata": {
    "id": "rwHtghqdw0ds"
   },
   "outputs": [],
   "source": [
    "a = 'at' in 'cat'"
   ]
  },
  {
   "cell_type": "code",
   "execution_count": null,
   "metadata": {
    "colab": {
     "base_uri": "https://localhost:8080/"
    },
    "executionInfo": {
     "elapsed": 13,
     "status": "ok",
     "timestamp": 1682037875581,
     "user": {
      "displayName": "CARLOS ANDRES RODALLEGA MILLAN",
      "userId": "17846216848733149992"
     },
     "user_tz": 300
    },
    "id": "vmKqo1lAw0gW",
    "outputId": "bdbd84c6-9f46-4580-98fc-0d832addf5e6"
   },
   "outputs": [
    {
     "data": {
      "text/plain": [
       "True"
      ]
     },
     "execution_count": 37,
     "metadata": {},
     "output_type": "execute_result"
    }
   ],
   "source": [
    "a"
   ]
  },
  {
   "cell_type": "code",
   "execution_count": null,
   "metadata": {
    "colab": {
     "base_uri": "https://localhost:8080/"
    },
    "executionInfo": {
     "elapsed": 13,
     "status": "ok",
     "timestamp": 1682037875581,
     "user": {
      "displayName": "CARLOS ANDRES RODALLEGA MILLAN",
      "userId": "17846216848733149992"
     },
     "user_tz": 300
    },
    "id": "WCeGY19_w0jG",
    "outputId": "c3ecedcc-2bb5-49b9-ae21-e848b77a2f67"
   },
   "outputs": [
    {
     "name": "stdout",
     "output_type": "stream",
     "text": [
      "yes\n"
     ]
    }
   ],
   "source": [
    "if 'at' in 'cat':\n",
    "  print('yes')"
   ]
  },
  {
   "cell_type": "code",
   "execution_count": null,
   "metadata": {
    "colab": {
     "base_uri": "https://localhost:8080/"
    },
    "executionInfo": {
     "elapsed": 12,
     "status": "ok",
     "timestamp": 1682037875581,
     "user": {
      "displayName": "CARLOS ANDRES RODALLEGA MILLAN",
      "userId": "17846216848733149992"
     },
     "user_tz": 300
    },
    "id": "ldhdF4vJw0lL",
    "outputId": "bd1c4e04-bb1a-4a9a-8fdc-64c9ec9cea70"
   },
   "outputs": [
    {
     "name": "stdout",
     "output_type": "stream",
     "text": [
      "no\n"
     ]
    }
   ],
   "source": [
    "if 'dt' in 'cat':\n",
    "  print('yes')\n",
    "else:\n",
    "  print('no')"
   ]
  },
  {
   "cell_type": "code",
   "execution_count": null,
   "metadata": {
    "id": "dWlG7yn2xL1k"
   },
   "outputs": [],
   "source": [
    "i = 0"
   ]
  },
  {
   "cell_type": "code",
   "execution_count": null,
   "metadata": {
    "colab": {
     "base_uri": "https://localhost:8080/"
    },
    "executionInfo": {
     "elapsed": 11,
     "status": "ok",
     "timestamp": 1682037875581,
     "user": {
      "displayName": "CARLOS ANDRES RODALLEGA MILLAN",
      "userId": "17846216848733149992"
     },
     "user_tz": 300
    },
    "id": "xwOQ1w1hxMC3",
    "outputId": "1de22886-4bf0-4e14-85fd-633d44f9bdad"
   },
   "outputs": [
    {
     "name": "stdout",
     "output_type": "stream",
     "text": [
      "Only one condition is True\n"
     ]
    }
   ],
   "source": [
    "if 'at' in 'cat' and i==1:\n",
    "  print('yes')\n",
    "elif 'at' in 'cat':\n",
    "  print('Only one condition is True')\n",
    "else:\n",
    "  print('no')"
   ]
  },
  {
   "cell_type": "code",
   "execution_count": null,
   "metadata": {
    "id": "pcMqeUjxxMER"
   },
   "outputs": [],
   "source": [
    "if 0:\n",
    "  print('yes')"
   ]
  },
  {
   "cell_type": "code",
   "execution_count": null,
   "metadata": {
    "colab": {
     "base_uri": "https://localhost:8080/"
    },
    "executionInfo": {
     "elapsed": 11,
     "status": "ok",
     "timestamp": 1682037875582,
     "user": {
      "displayName": "CARLOS ANDRES RODALLEGA MILLAN",
      "userId": "17846216848733149992"
     },
     "user_tz": 300
    },
    "id": "ZkUydj6_x7Gz",
    "outputId": "5041351f-f4c3-449d-e14a-142d175f6f4b"
   },
   "outputs": [
    {
     "name": "stdout",
     "output_type": "stream",
     "text": [
      "yes\n"
     ]
    }
   ],
   "source": [
    "if 2:\n",
    "  print('yes')"
   ]
  },
  {
   "cell_type": "markdown",
   "metadata": {
    "id": "U-0XPhIryB1c"
   },
   "source": [
    "##Basics of Python: Part 4 - Sample Problems\n"
   ]
  },
  {
   "cell_type": "markdown",
   "metadata": {
    "id": "7_6TpKuDyEnv"
   },
   "source": [
    "###Problem 1:\n"
   ]
  },
  {
   "cell_type": "markdown",
   "metadata": {
    "id": "Sm853voHyOU7"
   },
   "source": [
    "Te equation for the height of a thrown ball is $y=-\\frac{1}{2}gt^2 \n",
    " v_0t$  donde:\n",
    "\n",
    "*   t is time\n",
    "*   y is the height of the ball\n",
    "*   $v_0$ is the initial upward speed of the vall\n",
    "*   g is gravity\n",
    "\n",
    "Jim throws his ball al 10m/s and Mark throws his at 15m/s upward. Plot the heigh of each of ther ball as a funtion of time from o to 2 seconds.\n",
    "\n"
   ]
  },
  {
   "cell_type": "code",
   "execution_count": null,
   "metadata": {
    "id": "ALSjRc8DyENa"
   },
   "outputs": [],
   "source": [
    "t = np.linspace(0,2,100)\n",
    "g = 9.81\n",
    "v0_j =10\n",
    "v0_m = 15"
   ]
  },
  {
   "cell_type": "code",
   "execution_count": null,
   "metadata": {
    "id": "lpQE0TZNzXmb"
   },
   "outputs": [],
   "source": [
    "y_j = -1/2 *g * t**2 + v0_j*t"
   ]
  },
  {
   "cell_type": "code",
   "execution_count": null,
   "metadata": {
    "id": "o30hwj20zXuY"
   },
   "outputs": [],
   "source": [
    "y_m = -1/2*g*t**2 +v0_m*t"
   ]
  },
  {
   "cell_type": "code",
   "execution_count": null,
   "metadata": {
    "colab": {
     "base_uri": "https://localhost:8080/"
    },
    "executionInfo": {
     "elapsed": 402,
     "status": "ok",
     "timestamp": 1682037875974,
     "user": {
      "displayName": "CARLOS ANDRES RODALLEGA MILLAN",
      "userId": "17846216848733149992"
     },
     "user_tz": 300
    },
    "id": "qUKIYvh_zXvt",
    "outputId": "4d7e3dc3-77b0-4487-e98e-61a50ce07bb2"
   },
   "outputs": [
    {
     "data": {
      "text/plain": [
       "<matplotlib.legend.Legend at 0x7f82e030d3d0>"
      ]
     },
     "execution_count": 47,
     "metadata": {},
     "output_type": "execute_result"
    },
    {
     "data": {
      "image/png": "[encoded data removed]",
      "text/plain": [
       "<Figure size 640x480 with 1 Axes>"
      ]
     },
     "metadata": {},
     "output_type": "display_data"
    }
   ],
   "source": [
    "plt.plot(t,y_j, label ='jim')\n",
    "plt.plot(t,y_m, label='Mark')\n",
    "plt.xlabel('Time')\n",
    "plt.ylabel('Height')\n",
    "plt.grid()\n",
    "plt.legend()"
   ]
  },
  {
   "cell_type": "markdown",
   "metadata": {
    "id": "sWzqzXP_0c8b"
   },
   "source": [
    "###Problem 2:"
   ]
  },
  {
   "cell_type": "markdown",
   "metadata": {
    "id": "2e-8MZsi0fjP"
   },
   "source": [
    "Add up every number from 1 to 999999, exept for those that can be divided by 4, and those that can be divided by 6."
   ]
  },
  {
   "cell_type": "code",
   "execution_count": null,
   "metadata": {
    "id": "gB3fjjLrzXxq"
   },
   "outputs": [],
   "source": [
    "sumation = 0 "
   ]
  },
  {
   "cell_type": "code",
   "execution_count": null,
   "metadata": {
    "id": "rGTYM5eczX0G"
   },
   "outputs": [],
   "source": [
    "for i in range(999999):\n",
    "  if not(i%4==0) and not(i%6==0):\n",
    "    sumation=sumation+i\n"
   ]
  },
  {
   "cell_type": "code",
   "execution_count": null,
   "metadata": {
    "colab": {
     "base_uri": "https://localhost:8080/"
    },
    "executionInfo": {
     "elapsed": 34,
     "status": "ok",
     "timestamp": 1682037875975,
     "user": {
      "displayName": "CARLOS ANDRES RODALLEGA MILLAN",
      "userId": "17846216848733149992"
     },
     "user_tz": 300
    },
    "id": "14nIuqFZ186J",
    "outputId": "aa08ec23-05ef-4413-f021-1e06b2c9e907"
   },
   "outputs": [
    {
     "data": {
      "text/plain": [
       "333332666667"
      ]
     },
     "execution_count": 50,
     "metadata": {},
     "output_type": "execute_result"
    }
   ],
   "source": [
    "sumation"
   ]
  },
  {
   "cell_type": "markdown",
   "metadata": {
    "id": "7ADaYJb5vOcC"
   },
   "source": [
    "#NumPy Tutorial (2022): For Physicists, Engineers, and Mathematicians\n",
    "\n"
   ]
  },
  {
   "cell_type": "code",
   "execution_count": null,
   "metadata": {
    "id": "vXvyLQ66Dfog"
   },
   "outputs": [],
   "source": [
    "import numpy as np\n",
    "import matplotlib.pyplot as plt\n"
   ]
  },
  {
   "cell_type": "markdown",
   "metadata": {
    "id": "jymDEsE_Dxk3"
   },
   "source": [
    "##Creating Arrays"
   ]
  },
  {
   "cell_type": "code",
   "execution_count": null,
   "metadata": {
    "id": "S7ueM4VvD7-i"
   },
   "outputs": [],
   "source": [
    "a1 = np. array([3,5,7,9])\n",
    "a2 = np.zeros(10)\n",
    "a3 =  np.ones(10)\n",
    "a4 = np.random.random(10)\n",
    "a5 = np.random.randn(10) #Números ramdon acorde a una distribución gaussiana\n",
    "a6 = np.linspace(0,10,100) # un arreglo de un número hasta otro espaciado igualmente, se especifica el número de elementos que se quiere tener en el array\n",
    "a7 = np.arange(0,10,0.02) #Aquí, se especifica el espaciado que se quiere tener, no el número de elementos.\n"
   ]
  },
  {
   "cell_type": "markdown",
   "metadata": {
    "id": "XJojHTrSD57H"
   },
   "source": [
    "##Array Operations"
   ]
  },
  {
   "cell_type": "code",
   "execution_count": null,
   "metadata": {
    "colab": {
     "base_uri": "https://localhost:8080/"
    },
    "executionInfo": {
     "elapsed": 29,
     "status": "ok",
     "timestamp": 1682037875976,
     "user": {
      "displayName": "CARLOS ANDRES RODALLEGA MILLAN",
      "userId": "17846216848733149992"
     },
     "user_tz": 300
    },
    "id": "RiU_1GmtE4yS",
    "outputId": "81dc708f-de62-4f75-e45a-416c1065d8e2"
   },
   "outputs": [
    {
     "data": {
      "text/plain": [
       "array([ 6, 10, 14, 18])"
      ]
     },
     "execution_count": 53,
     "metadata": {},
     "output_type": "execute_result"
    }
   ],
   "source": [
    "2*a1"
   ]
  },
  {
   "cell_type": "code",
   "execution_count": null,
   "metadata": {
    "colab": {
     "base_uri": "https://localhost:8080/"
    },
    "executionInfo": {
     "elapsed": 28,
     "status": "ok",
     "timestamp": 1682037875976,
     "user": {
      "displayName": "CARLOS ANDRES RODALLEGA MILLAN",
      "userId": "17846216848733149992"
     },
     "user_tz": 300
    },
    "id": "WPj9wJqME7Pp",
    "outputId": "45ecf633-16dc-416f-fabf-a6dc93b0f5f6"
   },
   "outputs": [
    {
     "data": {
      "text/plain": [
       "array([0.33333333, 0.2       , 0.14285714, 0.11111111])"
      ]
     },
     "execution_count": 54,
     "metadata": {},
     "output_type": "execute_result"
    }
   ],
   "source": [
    "1/a1 #Aplica las operaciones a todos los elementos de ese arreglo."
   ]
  },
  {
   "cell_type": "code",
   "execution_count": null,
   "metadata": {
    "colab": {
     "base_uri": "https://localhost:8080/"
    },
    "executionInfo": {
     "elapsed": 24,
     "status": "ok",
     "timestamp": 1682037875977,
     "user": {
      "displayName": "CARLOS ANDRES RODALLEGA MILLAN",
      "userId": "17846216848733149992"
     },
     "user_tz": 300
    },
    "id": "fTIT_OZME7SN",
    "outputId": "aa0578c6-f961-4e9f-fc58-2e49238f913e"
   },
   "outputs": [
    {
     "data": {
      "text/plain": [
       "array([3, 5, 7, 9])"
      ]
     },
     "execution_count": 55,
     "metadata": {},
     "output_type": "execute_result"
    }
   ],
   "source": [
    "a1"
   ]
  },
  {
   "cell_type": "code",
   "execution_count": null,
   "metadata": {
    "colab": {
     "base_uri": "https://localhost:8080/"
    },
    "executionInfo": {
     "elapsed": 19,
     "status": "ok",
     "timestamp": 1682037875977,
     "user": {
      "displayName": "CARLOS ANDRES RODALLEGA MILLAN",
      "userId": "17846216848733149992"
     },
     "user_tz": 300
    },
    "id": "4aNsrq4EE7VK",
    "outputId": "0b208325-9e99-4493-ca7e-67a8d3b62bd1"
   },
   "outputs": [
    {
     "data": {
      "text/plain": [
       "array([False,  True,  True,  True])"
      ]
     },
     "execution_count": 56,
     "metadata": {},
     "output_type": "execute_result"
    }
   ],
   "source": [
    "a1>4 #Obtenemos un rango de boleanos."
   ]
  },
  {
   "cell_type": "code",
   "execution_count": null,
   "metadata": {
    "colab": {
     "base_uri": "https://localhost:8080/"
    },
    "executionInfo": {
     "elapsed": 13,
     "status": "ok",
     "timestamp": 1682037875977,
     "user": {
      "displayName": "CARLOS ANDRES RODALLEGA MILLAN",
      "userId": "17846216848733149992"
     },
     "user_tz": 300
    },
    "id": "v29h-SZmE7Ym",
    "outputId": "55d453c7-c63c-484b-a7eb-3b7c920b86e8"
   },
   "outputs": [
    {
     "data": {
      "text/plain": [
       "array([ 5.33333333,  7.2       ,  9.14285714, 11.11111111])"
      ]
     },
     "execution_count": 57,
     "metadata": {},
     "output_type": "execute_result"
    }
   ],
   "source": [
    "1/a1+a1+2"
   ]
  },
  {
   "cell_type": "code",
   "execution_count": null,
   "metadata": {
    "colab": {
     "base_uri": "https://localhost:8080/",
     "height": 430
    },
    "executionInfo": {
     "elapsed": 8,
     "status": "ok",
     "timestamp": 1682037875977,
     "user": {
      "displayName": "CARLOS ANDRES RODALLEGA MILLAN",
      "userId": "17846216848733149992"
     },
     "user_tz": 300
    },
    "id": "kzKyLPd6FUOQ",
    "outputId": "2e47638c-c5ef-490c-c424-1b1603753077"
   },
   "outputs": [
    {
     "data": {
      "image/png": "[encoded data removed]",
      "text/plain": [
       "<Figure size 640x480 with 1 Axes>"
      ]
     },
     "metadata": {},
     "output_type": "display_data"
    }
   ],
   "source": [
    "x = np.linspace(0,1,100)\n",
    "y = x**2\n",
    "plt.plot(x,y)\n",
    "plt.show()"
   ]
  },
  {
   "cell_type": "code",
   "execution_count": null,
   "metadata": {
    "colab": {
     "base_uri": "https://localhost:8080/",
     "height": 430
    },
    "executionInfo": {
     "elapsed": 351,
     "status": "ok",
     "timestamp": 1682037876321,
     "user": {
      "displayName": "CARLOS ANDRES RODALLEGA MILLAN",
      "userId": "17846216848733149992"
     },
     "user_tz": 300
    },
    "id": "qKV29c-sFUQ5",
    "outputId": "e10e4206-fda5-4959-c0f2-38fbc7454a15"
   },
   "outputs": [
    {
     "data": {
      "image/png": "[encoded data removed]",
      "text/plain": [
       "<Figure size 640x480 with 1 Axes>"
      ]
     },
     "metadata": {},
     "output_type": "display_data"
    }
   ],
   "source": [
    "plt.hist(a5)\n",
    "plt.show()"
   ]
  },
  {
   "cell_type": "code",
   "execution_count": null,
   "metadata": {
    "colab": {
     "base_uri": "https://localhost:8080/",
     "height": 445
    },
    "executionInfo": {
     "elapsed": 328,
     "status": "ok",
     "timestamp": 1682037876639,
     "user": {
      "displayName": "CARLOS ANDRES RODALLEGA MILLAN",
      "userId": "17846216848733149992"
     },
     "user_tz": 300
    },
    "id": "JvP_jStOFUTZ",
    "outputId": "126ec5df-1c43-4b69-fe56-196cff9d2adc"
   },
   "outputs": [
    {
     "data": {
      "image/png": "[encoded data removed]",
      "text/plain": [
       "<Figure size 640x480 with 1 Axes>"
      ]
     },
     "metadata": {},
     "output_type": "display_data"
    }
   ],
   "source": [
    "def f(x):\n",
    "  return x**2*np.sin(x)/np.exp(-x)\n",
    "\n",
    "x = np.linspace(0,10,100)\n",
    "y = f(x)\n",
    "plt.plot(x,y)\n",
    "plt.show()"
   ]
  },
  {
   "cell_type": "markdown",
   "metadata": {
    "id": "h1qNAP85GKJL"
   },
   "source": [
    "## Array Idexing/Slicing"
   ]
  },
  {
   "cell_type": "code",
   "execution_count": null,
   "metadata": {
    "id": "UJXsU34UFUV4"
   },
   "outputs": [],
   "source": [
    "a1 = np.array([2,4,6,8,10]) #Crea el array acorde a las condiciones que nosotros le hemos entregado"
   ]
  },
  {
   "cell_type": "code",
   "execution_count": null,
   "metadata": {
    "colab": {
     "base_uri": "https://localhost:8080/"
    },
    "executionInfo": {
     "elapsed": 710,
     "status": "ok",
     "timestamp": 1682037877338,
     "user": {
      "displayName": "CARLOS ANDRES RODALLEGA MILLAN",
      "userId": "17846216848733149992"
     },
     "user_tz": 300
    },
    "id": "q1Qvx4giFUYf",
    "outputId": "3f8afd0c-324f-4025-e379-38387ba54134"
   },
   "outputs": [
    {
     "data": {
      "text/plain": [
       "2"
      ]
     },
     "execution_count": 62,
     "metadata": {},
     "output_type": "execute_result"
    }
   ],
   "source": [
    "a1[0] #Obtiene un valor en particular basado en la posición que lo queremos encontrar"
   ]
  },
  {
   "cell_type": "code",
   "execution_count": null,
   "metadata": {
    "colab": {
     "base_uri": "https://localhost:8080/"
    },
    "executionInfo": {
     "elapsed": 95,
     "status": "ok",
     "timestamp": 1682037877338,
     "user": {
      "displayName": "CARLOS ANDRES RODALLEGA MILLAN",
      "userId": "17846216848733149992"
     },
     "user_tz": 300
    },
    "id": "hA1TYR71FUbo",
    "outputId": "0a216ea7-1a9a-4693-a86a-eb8f31cd9acb"
   },
   "outputs": [
    {
     "data": {
      "text/plain": [
       "array([ 6,  8, 10])"
      ]
     },
     "execution_count": 63,
     "metadata": {},
     "output_type": "execute_result"
    }
   ],
   "source": [
    "a1[2:] #Recolecta los valores hacia adelante"
   ]
  },
  {
   "cell_type": "code",
   "execution_count": null,
   "metadata": {
    "colab": {
     "base_uri": "https://localhost:8080/"
    },
    "executionInfo": {
     "elapsed": 91,
     "status": "ok",
     "timestamp": 1682037877339,
     "user": {
      "displayName": "CARLOS ANDRES RODALLEGA MILLAN",
      "userId": "17846216848733149992"
     },
     "user_tz": 300
    },
    "id": "tLUuxKxrFUfH",
    "outputId": "b57973bc-0ca4-4f0f-a2fa-a210691ae0c4"
   },
   "outputs": [
    {
     "data": {
      "text/plain": [
       "array([2, 4, 6])"
      ]
     },
     "execution_count": 64,
     "metadata": {},
     "output_type": "execute_result"
    }
   ],
   "source": [
    "a1[:-2] #Recolectar los varoles hacia atras"
   ]
  },
  {
   "cell_type": "code",
   "execution_count": null,
   "metadata": {
    "colab": {
     "base_uri": "https://localhost:8080/"
    },
    "executionInfo": {
     "elapsed": 86,
     "status": "ok",
     "timestamp": 1682037877339,
     "user": {
      "displayName": "CARLOS ANDRES RODALLEGA MILLAN",
      "userId": "17846216848733149992"
     },
     "user_tz": 300
    },
    "id": "MxKBEaODGnk2",
    "outputId": "b655db8d-d9f8-42db-fb9c-e31d0b61a39a"
   },
   "outputs": [
    {
     "data": {
      "text/plain": [
       "array([4, 6])"
      ]
     },
     "execution_count": 65,
     "metadata": {},
     "output_type": "execute_result"
    }
   ],
   "source": [
    "a1[1:-2]"
   ]
  },
  {
   "cell_type": "code",
   "execution_count": null,
   "metadata": {
    "colab": {
     "base_uri": "https://localhost:8080/"
    },
    "executionInfo": {
     "elapsed": 81,
     "status": "ok",
     "timestamp": 1682037877339,
     "user": {
      "displayName": "CARLOS ANDRES RODALLEGA MILLAN",
      "userId": "17846216848733149992"
     },
     "user_tz": 300
    },
    "id": "hUVIZsFoGnnc",
    "outputId": "49391fa4-959c-457f-fa85-137be4c3d5fc"
   },
   "outputs": [
    {
     "data": {
      "text/plain": [
       "array([False,  True,  True,  True,  True])"
      ]
     },
     "execution_count": 66,
     "metadata": {},
     "output_type": "execute_result"
    }
   ],
   "source": [
    "a1>3 #Obtengo un array de booleanos."
   ]
  },
  {
   "cell_type": "code",
   "execution_count": null,
   "metadata": {
    "colab": {
     "base_uri": "https://localhost:8080/"
    },
    "executionInfo": {
     "elapsed": 76,
     "status": "ok",
     "timestamp": 1682037877339,
     "user": {
      "displayName": "CARLOS ANDRES RODALLEGA MILLAN",
      "userId": "17846216848733149992"
     },
     "user_tz": 300
    },
    "id": "d3U5SVOhGnqZ",
    "outputId": "37b906ac-0a56-4b7f-9c50-2204ac201d84"
   },
   "outputs": [
    {
     "data": {
      "text/plain": [
       "array([ 4,  6,  8, 10])"
      ]
     },
     "execution_count": 67,
     "metadata": {},
     "output_type": "execute_result"
    }
   ],
   "source": [
    "a1[a1>3] #Cuando es falso no retorna el elemento"
   ]
  },
  {
   "cell_type": "code",
   "execution_count": null,
   "metadata": {
    "id": "IJi-FIPfGnsp"
   },
   "outputs": [],
   "source": [
    "names = np.array(['Jim','Luk','Josh', 'Pete']) #Se crea un arreglo de nombres"
   ]
  },
  {
   "cell_type": "code",
   "execution_count": null,
   "metadata": {
    "colab": {
     "base_uri": "https://localhost:8080/"
    },
    "executionInfo": {
     "elapsed": 72,
     "status": "ok",
     "timestamp": 1682037877340,
     "user": {
      "displayName": "CARLOS ANDRES RODALLEGA MILLAN",
      "userId": "17846216848733149992"
     },
     "user_tz": 300
    },
    "id": "v-83kCyOHtxN",
    "outputId": "915e2228-2fa3-4677-f3a0-e308fdeb54fd"
   },
   "outputs": [
    {
     "data": {
      "text/plain": [
       "array(['Jim', 'Luk', 'Josh', 'Pete'], dtype='<U4')"
      ]
     },
     "execution_count": 69,
     "metadata": {},
     "output_type": "execute_result"
    }
   ],
   "source": [
    "names"
   ]
  },
  {
   "cell_type": "code",
   "execution_count": null,
   "metadata": {
    "id": "uFwlUqTsGnvQ"
   },
   "outputs": [],
   "source": [
    "fisrt_letter_j = np.vectorize(lambda s:s[0])(names)=='J'\n",
    "#Explicación del código anterior:\n",
    "#np. vectorize aplico esta función a cada elemnto de \"names\""
   ]
  },
  {
   "cell_type": "code",
   "execution_count": null,
   "metadata": {
    "id": "geZJ3MfVGnx8"
   },
   "outputs": [],
   "source": [
    "f = lambda s: s[0]\n",
    "#Esta función nos devuele la letra en el orden que la queramos]\n",
    "#La función lambda nos permite escoger el escalar que queramos.\n",
    "#Dame un sting y yo te devuelvo el primer caracter de ese string"
   ]
  },
  {
   "cell_type": "code",
   "execution_count": null,
   "metadata": {
    "colab": {
     "base_uri": "https://localhost:8080/",
     "height": 35
    },
    "executionInfo": {
     "elapsed": 66,
     "status": "ok",
     "timestamp": 1682037877340,
     "user": {
      "displayName": "CARLOS ANDRES RODALLEGA MILLAN",
      "userId": "17846216848733149992"
     },
     "user_tz": 300
    },
    "id": "eXWNmhUtGn1c",
    "outputId": "677a1c9b-4b51-4ba5-cdb7-2b3b96185adb"
   },
   "outputs": [
    {
     "data": {
      "application/vnd.google.colaboratory.intrinsic+json": {
       "type": "string"
      },
      "text/plain": [
       "'A'"
      ]
     },
     "execution_count": 72,
     "metadata": {},
     "output_type": "execute_result"
    }
   ],
   "source": [
    "f('Animal')"
   ]
  },
  {
   "cell_type": "code",
   "execution_count": null,
   "metadata": {
    "colab": {
     "base_uri": "https://localhost:8080/"
    },
    "executionInfo": {
     "elapsed": 67,
     "status": "ok",
     "timestamp": 1682037877341,
     "user": {
      "displayName": "CARLOS ANDRES RODALLEGA MILLAN",
      "userId": "17846216848733149992"
     },
     "user_tz": 300
    },
    "id": "hudXTEsnIPmU",
    "outputId": "6f48c2a1-ce55-4a8b-81cc-818ee75b00c7"
   },
   "outputs": [
    {
     "data": {
      "text/plain": [
       "array(['J', 'L', 'J', 'P'], dtype='<U1')"
      ]
     },
     "execution_count": 73,
     "metadata": {},
     "output_type": "execute_result"
    }
   ],
   "source": [
    "np.vectorize(lambda s: s[0])(names) #Obtengo un array de los primeros caracteres de los elementos de names"
   ]
  },
  {
   "cell_type": "code",
   "execution_count": null,
   "metadata": {
    "colab": {
     "base_uri": "https://localhost:8080/"
    },
    "executionInfo": {
     "elapsed": 61,
     "status": "ok",
     "timestamp": 1682037877341,
     "user": {
      "displayName": "CARLOS ANDRES RODALLEGA MILLAN",
      "userId": "17846216848733149992"
     },
     "user_tz": 300
    },
    "id": "_q3AzXTRIPox",
    "outputId": "84ca4422-77a7-4a02-cc9b-462e666195b1"
   },
   "outputs": [
    {
     "data": {
      "text/plain": [
       "array([ True, False,  True, False])"
      ]
     },
     "execution_count": 74,
     "metadata": {},
     "output_type": "execute_result"
    }
   ],
   "source": [
    "np.vectorize(lambda s: s[0])(names)=='J' #Convierto la lista anterior en booleanos al aplicar esa condición"
   ]
  },
  {
   "cell_type": "code",
   "execution_count": null,
   "metadata": {
    "colab": {
     "base_uri": "https://localhost:8080/"
    },
    "executionInfo": {
     "elapsed": 58,
     "status": "ok",
     "timestamp": 1682037877342,
     "user": {
      "displayName": "CARLOS ANDRES RODALLEGA MILLAN",
      "userId": "17846216848733149992"
     },
     "user_tz": 300
    },
    "id": "iTLZDp4aIPrZ",
    "outputId": "a7ac6c29-c2b2-4145-ed4d-c17617882780"
   },
   "outputs": [
    {
     "data": {
      "text/plain": [
       "array(['Jim', 'Josh'], dtype='<U4')"
      ]
     },
     "execution_count": 75,
     "metadata": {},
     "output_type": "execute_result"
    }
   ],
   "source": [
    "names[fisrt_letter_j] #Así, podemos obtener los nombres de los caracteres que empiezan por j"
   ]
  },
  {
   "cell_type": "code",
   "execution_count": null,
   "metadata": {
    "colab": {
     "base_uri": "https://localhost:8080/"
    },
    "executionInfo": {
     "elapsed": 52,
     "status": "ok",
     "timestamp": 1682037877342,
     "user": {
      "displayName": "CARLOS ANDRES RODALLEGA MILLAN",
      "userId": "17846216848733149992"
     },
     "user_tz": 300
    },
    "id": "r7wfbSgHIPt5",
    "outputId": "2a88301f-f2c0-4668-cc8e-e41f617ebab5"
   },
   "outputs": [
    {
     "data": {
      "text/plain": [
       "array([2, 0, 2, 0, 2])"
      ]
     },
     "execution_count": 76,
     "metadata": {},
     "output_type": "execute_result"
    }
   ],
   "source": [
    "a1%4"
   ]
  },
  {
   "cell_type": "code",
   "execution_count": null,
   "metadata": {
    "colab": {
     "base_uri": "https://localhost:8080/"
    },
    "executionInfo": {
     "elapsed": 47,
     "status": "ok",
     "timestamp": 1682037877342,
     "user": {
      "displayName": "CARLOS ANDRES RODALLEGA MILLAN",
      "userId": "17846216848733149992"
     },
     "user_tz": 300
    },
    "id": "2EM7hi1IIPwh",
    "outputId": "f0f56069-cee4-4197-e0a1-dcffeb95f673"
   },
   "outputs": [
    {
     "data": {
      "text/plain": [
       "array([ 2,  4,  6,  8, 10])"
      ]
     },
     "execution_count": 77,
     "metadata": {},
     "output_type": "execute_result"
    }
   ],
   "source": [
    "a1"
   ]
  },
  {
   "cell_type": "code",
   "execution_count": null,
   "metadata": {
    "colab": {
     "base_uri": "https://localhost:8080/"
    },
    "executionInfo": {
     "elapsed": 42,
     "status": "ok",
     "timestamp": 1682037877342,
     "user": {
      "displayName": "CARLOS ANDRES RODALLEGA MILLAN",
      "userId": "17846216848733149992"
     },
     "user_tz": 300
    },
    "id": "3G87cYQxIPzZ",
    "outputId": "678c0643-58eb-43aa-ec29-8b079d4b74bf"
   },
   "outputs": [
    {
     "data": {
      "text/plain": [
       "array([False,  True, False,  True, False])"
      ]
     },
     "execution_count": 78,
     "metadata": {},
     "output_type": "execute_result"
    }
   ],
   "source": [
    "a1%4==0"
   ]
  },
  {
   "cell_type": "code",
   "execution_count": null,
   "metadata": {
    "colab": {
     "base_uri": "https://localhost:8080/"
    },
    "executionInfo": {
     "elapsed": 36,
     "status": "ok",
     "timestamp": 1682037877342,
     "user": {
      "displayName": "CARLOS ANDRES RODALLEGA MILLAN",
      "userId": "17846216848733149992"
     },
     "user_tz": 300
    },
    "id": "7Z2Snlq9JixL",
    "outputId": "ed7e9461-85e1-46e2-ca02-ab074b6b7c64"
   },
   "outputs": [
    {
     "data": {
      "text/plain": [
       "array([4, 8])"
      ]
     },
     "execution_count": 79,
     "metadata": {},
     "output_type": "execute_result"
    }
   ],
   "source": [
    "a1[a1%4==0]"
   ]
  },
  {
   "cell_type": "markdown",
   "metadata": {
    "id": "kzJxLA2UGdCo"
   },
   "source": [
    "## Calculus/ Statistical Functions"
   ]
  },
  {
   "cell_type": "code",
   "execution_count": null,
   "metadata": {
    "id": "NKesPQ7GJs3Y"
   },
   "outputs": [],
   "source": [
    "a1 = 2*np.random.randn(10000) +10"
   ]
  },
  {
   "cell_type": "markdown",
   "metadata": {
    "id": "W5thJd27JvBf"
   },
   "source": [
    "Mean, Standard deviation, and percentiles of array:"
   ]
  },
  {
   "cell_type": "code",
   "execution_count": null,
   "metadata": {
    "colab": {
     "base_uri": "https://localhost:8080/"
    },
    "executionInfo": {
     "elapsed": 32,
     "status": "ok",
     "timestamp": 1682037877343,
     "user": {
      "displayName": "CARLOS ANDRES RODALLEGA MILLAN",
      "userId": "17846216848733149992"
     },
     "user_tz": 300
    },
    "id": "wLDol6PvKFgD",
    "outputId": "07b125cc-c27c-4e62-9311-0b11400ba6f8"
   },
   "outputs": [
    {
     "data": {
      "text/plain": [
       "9.984128413454247"
      ]
     },
     "execution_count": 81,
     "metadata": {},
     "output_type": "execute_result"
    }
   ],
   "source": [
    "np.mean(a1) #Media"
   ]
  },
  {
   "cell_type": "code",
   "execution_count": null,
   "metadata": {
    "colab": {
     "base_uri": "https://localhost:8080/"
    },
    "executionInfo": {
     "elapsed": 27,
     "status": "ok",
     "timestamp": 1682037877343,
     "user": {
      "displayName": "CARLOS ANDRES RODALLEGA MILLAN",
      "userId": "17846216848733149992"
     },
     "user_tz": 300
    },
    "id": "5tRn6jxKJs6J",
    "outputId": "f182cda5-8f6a-4359-c764-ae031ecb07ea"
   },
   "outputs": [
    {
     "data": {
      "text/plain": [
       "1.9979208755095292"
      ]
     },
     "execution_count": 82,
     "metadata": {},
     "output_type": "execute_result"
    }
   ],
   "source": [
    "np.std(a1) #Desviación estándar"
   ]
  },
  {
   "cell_type": "code",
   "execution_count": null,
   "metadata": {
    "colab": {
     "base_uri": "https://localhost:8080/"
    },
    "executionInfo": {
     "elapsed": 21,
     "status": "ok",
     "timestamp": 1682037877343,
     "user": {
      "displayName": "CARLOS ANDRES RODALLEGA MILLAN",
      "userId": "17846216848733149992"
     },
     "user_tz": 300
    },
    "id": "HKzCGS3iKbxe",
    "outputId": "0d4ad614-21f6-43ad-eb9b-8c42d4dfa041"
   },
   "outputs": [
    {
     "data": {
      "text/plain": [
       "11.684691999013259"
      ]
     },
     "execution_count": 83,
     "metadata": {},
     "output_type": "execute_result"
    }
   ],
   "source": [
    "np.percentile(a1,80) #Me dice el porcentaje de números son 80% menos que un número dado"
   ]
  },
  {
   "cell_type": "markdown",
   "metadata": {
    "id": "xnBYQ5qwJ1-k"
   },
   "source": [
    "Integrals and derivartives"
   ]
  },
  {
   "cell_type": "code",
   "execution_count": null,
   "metadata": {
    "colab": {
     "base_uri": "https://localhost:8080/",
     "height": 430
    },
    "executionInfo": {
     "elapsed": 308,
     "status": "ok",
     "timestamp": 1682037877636,
     "user": {
      "displayName": "CARLOS ANDRES RODALLEGA MILLAN",
      "userId": "17846216848733149992"
     },
     "user_tz": 300
    },
    "id": "LXWo6zRpJs9C",
    "outputId": "6ab55595-9ad9-43cd-cf9b-d0c3da3a2bd8"
   },
   "outputs": [
    {
     "data": {
      "image/png": "[encoded data removed]",
      "text/plain": [
       "<Figure size 640x480 with 1 Axes>"
      ]
     },
     "metadata": {},
     "output_type": "display_data"
    }
   ],
   "source": [
    "#Hacer derivadas con funciones conocidas\n",
    "\n",
    "x =np.linspace(1,10,100)\n",
    "y=1/x**2*np.sin(x)\n",
    "#Derivada\n",
    "dydx = np.gradient(y,x) # y es el valor sobre el cual se deriva, pero el x nos da el espaciado\n",
    "#Integral\n",
    "y_int =np.cumsum(y)*(x[1]-x[0]) #Se realiza como una suma, se realiza como una suma acumulada\n",
    "plt.plot(x,y)\n",
    "plt.plot(x,dydx)\n",
    "plt.plot(x,y_int)\n",
    "plt.show()"
   ]
  },
  {
   "cell_type": "code",
   "execution_count": null,
   "metadata": {
    "colab": {
     "base_uri": "https://localhost:8080/",
     "height": 1000
    },
    "executionInfo": {
     "elapsed": 6744,
     "status": "ok",
     "timestamp": 1682037884377,
     "user": {
      "displayName": "CARLOS ANDRES RODALLEGA MILLAN",
      "userId": "17846216848733149992"
     },
     "user_tz": 300
    },
    "id": "-jlexZB5OHd5",
    "outputId": "d21dfce9-1f1e-4326-e1b3-4cd6f5d11290"
   },
   "outputs": [
    {
     "data": {
      "image/png": "[encoded data removed]",
      "text/plain": [
       "<Figure size 1200x1200 with 6 Axes>"
      ]
     },
     "metadata": {},
     "output_type": "display_data"
    }
   ],
   "source": [
    "#Aquí realizar lo planeado\n",
    "\n",
    "from matplotlib.transforms import Transform\n",
    "import seaborn as sns    #Permite colocar temas bonitos en la graficación.\n",
    "sns.set_style(\"whitegrid\")  #Permite colocar un poco más bonita las graficas.\n",
    "\n",
    "\n",
    "fig, axes = plt.subplots(3,2,figsize=(12,12)) #Primero se colocan las filas, luego las columnas\n",
    "\n",
    "x1 = np.linspace(-10,10,10000)\n",
    "y1 = x1**2\n",
    "y2 = np.cos(x1)\n",
    "\n",
    "#Derivada\n",
    "#dydx = np.gradient(y,x) # y es el valor sobre el cual se deriva, pero el x nos da el espaciado\n",
    "\n",
    "#Integral\n",
    "#y_int =np.cumsum(y)*(x[1]-x[0]) #Se realiza como una suma, se realiza como una suma acumulada\n",
    "\n",
    "\n",
    "ax = axes[0][0]\n",
    "ax.plot(x1,y1, color ='purple')\n",
    "#ax.set_xlabel('Tiempo')\n",
    "#ax.set_ylabel('Voltaje')\n",
    "#ax.text(0.08,0.3,'text here',transform = ax.transAxes) #Inserta texto\n",
    "#ax.tick_params(axis='both',labelsize=10)  #Tamaño de la fuente de los ejes\n",
    "ax.set_title('Función Original: $x^2$')\n",
    "#plt.grid()\n",
    "\n",
    "\n",
    "ax = axes[0][1]\n",
    "ax.plot(x1,y2, color = 'purple')\n",
    "#ax.set_xlabel('Tiempo')\n",
    "#ax.set_ylabel('Voltaje')\n",
    "#ax.text(0.08,0.3,'text here',transform = ax.transAxes) #Inserta texto\n",
    "#ax.tick_params(axis='both',labelsize=10)  #Tamaño de la fuente de los ejes\n",
    "ax.set_title('Función Original: $Cos(x)$')\n",
    "plt.grid()\n",
    "\n",
    "#INTEGRALES\n",
    "ax = axes[1][0]\n",
    "y1_int = np.cumsum(y1)*(x1[1]-x1[0])\n",
    "ax.plot(x1,y1_int, color ='red')\n",
    "#ax.set_xlabel('Tiempo')\n",
    "#ax.set_ylabel('Voltaje')\n",
    "#ax.text(0.08,0.3,'text here',transform = ax.transAxes) #Inserta texto\n",
    "#ax.tick_params(axis='both',labelsize=10)  #Tamaño de la fuente de los ejes\n",
    "ax.set_title('Integral: $\\int x^2 dx = x^3/3 $')\n",
    "#plt.grid()\n",
    "\n",
    "\n",
    "ax = axes[1][1]\n",
    "y2_int = np.cumsum(y2)*(x1[1]-x1[0])\n",
    "ax.plot(x1,y2_int,color ='red')\n",
    "#ax.set_xlabel('Tiempo')\n",
    "#ax.set_ylabel('Voltaje')\n",
    "#ax.text(0.08,0.3,'text here',transform = ax.transAxes) #Inserta texto\n",
    "#ax.tick_params(axis='both',labelsize=10)  #Tamaño de la fuente de los ejes\n",
    "ax.set_title('Integral: $\\int Cos(x)dx = Sen(x)$')\n",
    "#plt.grid()\n",
    "\n",
    "\n",
    "\n",
    "#DERIVADAS\n",
    "ax = axes[2][0]\n",
    "dy1dx = np.gradient(y1,x1) # y es el valor sobre el cual se deriva, pero el x nos da el espaciado\n",
    "ax.plot(x1,dy1dx, color='green')\n",
    "#ax.set_xlabel('Tiempo')\n",
    "#ax.set_ylabel('Voltaje')\n",
    "#ax.text(0.08,0.3,'text here',transform = ax.transAxes) #Inserta texto\n",
    "#ax.tick_params(axis='both',labelsize=10)  #Tamaño de la fuente de los ejes\n",
    "ax.set_title('Derivada: $2x$')\n",
    "#plt.grid()\n",
    "\n",
    "\n",
    "ax = axes[2][1]\n",
    "dy2dx = np.gradient(y2,x1) # y es el valor sobre el cual se deriva, pero el x nos da el espaciado\n",
    "ax.plot(x1,dy2dx, color = 'green')\n",
    "#ax.set_xlabel('Tiempo')\n",
    "#ax.set_ylabel('Voltaje')\n",
    "#ax.text(0.08,0.3,'text here',transform = ax.transAxes) #Inserta texto\n",
    "#ax.tick_params(axis='both',labelsize=10)  #Tamaño de la fuente de los ejes\n",
    "ax.set_title('Derivada: $-Sen(x)$')\n",
    "\n",
    "plt.grid()\n",
    "plt.show()\n"
   ]
  },
  {
   "cell_type": "markdown",
   "metadata": {
    "id": "jbVKkOvbKsxP"
   },
   "source": [
    "##Examples"
   ]
  },
  {
   "cell_type": "markdown",
   "metadata": {
    "id": "3eUR7gPoMcoW"
   },
   "source": [
    "**Question 1**:\n",
    "Let $y=e^\\frac{-x}{10}sin(x)$. Consider 10000 x intervals in the range [0,10].\n",
    "\n",
    "1. Plot the function y vs x in the range [0,10]\n",
    "2. Compute the mean and standard deviation of y for x values in [4,7]\n",
    "3. For x in the range [4,7] find the valume $y_m$ such that 80% of y values are less than $y_m$\n",
    "4. Plot dy/dx vs x\n",
    "5. Finde the locations where dy/dx=0.\n"
   ]
  },
  {
   "cell_type": "code",
   "execution_count": null,
   "metadata": {
    "colab": {
     "base_uri": "https://localhost:8080/",
     "height": 430
    },
    "executionInfo": {
     "elapsed": 444,
     "status": "ok",
     "timestamp": 1682037884811,
     "user": {
      "displayName": "CARLOS ANDRES RODALLEGA MILLAN",
      "userId": "17846216848733149992"
     },
     "user_tz": 300
    },
    "id": "Y4p4fddHKuot",
    "outputId": "76b2a537-880d-4af2-ed5b-e85a8a44ed37"
   },
   "outputs": [
    {
     "data": {
      "image/png": "[encoded data removed]",
      "text/plain": [
       "<Figure size 640x480 with 1 Axes>"
      ]
     },
     "metadata": {},
     "output_type": "display_data"
    }
   ],
   "source": [
    "#Este ejemplo se hace mañana en la mañana, pero se hace tengalo por seguro. 21:51\n",
    "#1\n",
    "x = np.linspace(0,10,10000)\n",
    "y = np.e**(-x/10)*np.sin(x)\n",
    "plt.plot(x,y)\n",
    "plt.show()"
   ]
  },
  {
   "cell_type": "code",
   "execution_count": null,
   "metadata": {
    "id": "xE-i2ORmqOJd"
   },
   "outputs": [],
   "source": []
  },
  {
   "cell_type": "markdown",
   "metadata": {
    "id": "nK1SbyEaM8Ne"
   },
   "source": [
    "##Multi-Dimensional Arrays"
   ]
  },
  {
   "cell_type": "markdown",
   "metadata": {
    "id": "PNlyTzOLD9q6"
   },
   "source": [
    "Creating multi dimensional arrays"
   ]
  },
  {
   "cell_type": "code",
   "execution_count": null,
   "metadata": {
    "id": "wfUyC14eD9yg"
   },
   "outputs": [],
   "source": [
    "a1 = np.array([[4,6,4],[2,2,2],[6,8,7]])"
   ]
  },
  {
   "cell_type": "code",
   "execution_count": null,
   "metadata": {
    "colab": {
     "base_uri": "https://localhost:8080/"
    },
    "executionInfo": {
     "elapsed": 33,
     "status": "ok",
     "timestamp": 1682037884812,
     "user": {
      "displayName": "CARLOS ANDRES RODALLEGA MILLAN",
      "userId": "17846216848733149992"
     },
     "user_tz": 300
    },
    "id": "S1fq2FEUEKA2",
    "outputId": "d27bd465-855d-46eb-bebc-11056bc66669"
   },
   "outputs": [
    {
     "data": {
      "text/plain": [
       "array([[4, 6, 4],\n",
       "       [2, 2, 2],\n",
       "       [6, 8, 7]])"
      ]
     },
     "execution_count": 88,
     "metadata": {},
     "output_type": "execute_result"
    }
   ],
   "source": [
    "a1"
   ]
  },
  {
   "cell_type": "code",
   "execution_count": null,
   "metadata": {
    "colab": {
     "base_uri": "https://localhost:8080/"
    },
    "executionInfo": {
     "elapsed": 25,
     "status": "ok",
     "timestamp": 1682037884812,
     "user": {
      "displayName": "CARLOS ANDRES RODALLEGA MILLAN",
      "userId": "17846216848733149992"
     },
     "user_tz": 300
    },
    "id": "7lbnn4MMEnbQ",
    "outputId": "6780c098-dbb5-479d-c87f-a55f35ba09d0"
   },
   "outputs": [
    {
     "data": {
      "text/plain": [
       "array([[20, 30, 20],\n",
       "       [10, 10, 10],\n",
       "       [30, 40, 35]])"
      ]
     },
     "execution_count": 89,
     "metadata": {},
     "output_type": "execute_result"
    }
   ],
   "source": [
    "a1*5"
   ]
  },
  {
   "cell_type": "markdown",
   "metadata": {
    "id": "Ne6iCQv7D94T"
   },
   "source": [
    "Operations work in a similar way"
   ]
  },
  {
   "cell_type": "code",
   "execution_count": null,
   "metadata": {
    "colab": {
     "base_uri": "https://localhost:8080/"
    },
    "executionInfo": {
     "elapsed": 20,
     "status": "ok",
     "timestamp": 1682037884812,
     "user": {
      "displayName": "CARLOS ANDRES RODALLEGA MILLAN",
      "userId": "17846216848733149992"
     },
     "user_tz": 300
    },
    "id": "wnWWE4FTD9-2",
    "outputId": "ce4d99ba-8c63-48e8-d7c7-d83a43ee5e4f"
   },
   "outputs": [
    {
     "data": {
      "text/plain": [
       "array([[0.25      , 0.16666667, 0.25      ],\n",
       "       [0.5       , 0.5       , 0.5       ],\n",
       "       [0.16666667, 0.125     , 0.14285714]])"
      ]
     },
     "execution_count": 90,
     "metadata": {},
     "output_type": "execute_result"
    }
   ],
   "source": [
    "1/a1"
   ]
  },
  {
   "cell_type": "markdown",
   "metadata": {
    "id": "VE3uIkOiD-Eu"
   },
   "source": [
    "Se puede convertir un arreglo n-dimensional en uno 1-d usando el método **ravel()**"
   ]
  },
  {
   "cell_type": "code",
   "execution_count": null,
   "metadata": {
    "colab": {
     "base_uri": "https://localhost:8080/"
    },
    "executionInfo": {
     "elapsed": 14,
     "status": "ok",
     "timestamp": 1682037884812,
     "user": {
      "displayName": "CARLOS ANDRES RODALLEGA MILLAN",
      "userId": "17846216848733149992"
     },
     "user_tz": 300
    },
    "id": "DH5qTx5UNJrC",
    "outputId": "7c4d521b-1938-47ec-daf0-6f1a65ab2d6b"
   },
   "outputs": [
    {
     "data": {
      "text/plain": [
       "array([4, 6, 4, 2, 2, 2, 6, 8, 7])"
      ]
     },
     "execution_count": 91,
     "metadata": {},
     "output_type": "execute_result"
    }
   ],
   "source": [
    "a1.ravel() #Es como estirar algo, unravel something"
   ]
  },
  {
   "cell_type": "markdown",
   "metadata": {
    "id": "l4tsBGFME80k"
   },
   "source": [
    "Boolean indexing"
   ]
  },
  {
   "cell_type": "code",
   "execution_count": null,
   "metadata": {
    "colab": {
     "base_uri": "https://localhost:8080/"
    },
    "executionInfo": {
     "elapsed": 9,
     "status": "ok",
     "timestamp": 1682037884812,
     "user": {
      "displayName": "CARLOS ANDRES RODALLEGA MILLAN",
      "userId": "17846216848733149992"
     },
     "user_tz": 300
    },
    "id": "tBf-IdjiE9KC",
    "outputId": "42b67707-e293-45ba-f4c0-47083c3e52de"
   },
   "outputs": [
    {
     "data": {
      "text/plain": [
       "array([[False,  True, False],\n",
       "       [False, False, False],\n",
       "       [ True,  True,  True]])"
      ]
     },
     "execution_count": 92,
     "metadata": {},
     "output_type": "execute_result"
    }
   ],
   "source": [
    "a1>5"
   ]
  },
  {
   "cell_type": "code",
   "execution_count": null,
   "metadata": {
    "colab": {
     "base_uri": "https://localhost:8080/"
    },
    "executionInfo": {
     "elapsed": 476,
     "status": "ok",
     "timestamp": 1682037885284,
     "user": {
      "displayName": "CARLOS ANDRES RODALLEGA MILLAN",
      "userId": "17846216848733149992"
     },
     "user_tz": 300
    },
    "id": "R_MFbiD9E9Mo",
    "outputId": "d59656cc-f162-4c80-f5ab-62d084bec80f"
   },
   "outputs": [
    {
     "data": {
      "text/plain": [
       "array([6, 6, 8, 7])"
      ]
     },
     "execution_count": 93,
     "metadata": {},
     "output_type": "execute_result"
    }
   ],
   "source": [
    "a1[a1>5] #Entrega los elementos en forma de 1-d"
   ]
  },
  {
   "cell_type": "code",
   "execution_count": null,
   "metadata": {
    "id": "e6vhjBYKE9Ox"
   },
   "outputs": [],
   "source": [
    "a2 = np.random.randn(3,3)"
   ]
  },
  {
   "cell_type": "code",
   "execution_count": null,
   "metadata": {
    "colab": {
     "base_uri": "https://localhost:8080/"
    },
    "executionInfo": {
     "elapsed": 35,
     "status": "ok",
     "timestamp": 1682037885285,
     "user": {
      "displayName": "CARLOS ANDRES RODALLEGA MILLAN",
      "userId": "17846216848733149992"
     },
     "user_tz": 300
    },
    "id": "_CQX0Iu5FNZI",
    "outputId": "f7d135c0-84a4-4bc9-9635-53e933a73846"
   },
   "outputs": [
    {
     "data": {
      "text/plain": [
       "array([[ 0.86079154,  0.53693554,  0.25944548],\n",
       "       [ 0.56868542, -0.44845748, -0.96759491],\n",
       "       [ 0.33580729, -1.10976825,  0.98282797]])"
      ]
     },
     "execution_count": 95,
     "metadata": {},
     "output_type": "execute_result"
    }
   ],
   "source": [
    "a2"
   ]
  },
  {
   "cell_type": "code",
   "execution_count": null,
   "metadata": {
    "colab": {
     "base_uri": "https://localhost:8080/"
    },
    "executionInfo": {
     "elapsed": 30,
     "status": "ok",
     "timestamp": 1682037885285,
     "user": {
      "displayName": "CARLOS ANDRES RODALLEGA MILLAN",
      "userId": "17846216848733149992"
     },
     "user_tz": 300
    },
    "id": "cGIa2dwHFO9b",
    "outputId": "782d8fbb-b9c3-4022-8e08-81fb74637537"
   },
   "outputs": [
    {
     "data": {
      "text/plain": [
       "array([ 0.53693554,  0.33580729, -1.10976825,  0.98282797])"
      ]
     },
     "execution_count": 96,
     "metadata": {},
     "output_type": "execute_result"
    }
   ],
   "source": [
    "a2[a1>5]"
   ]
  },
  {
   "cell_type": "markdown",
   "metadata": {
    "id": "kgiXk4yvFXfT"
   },
   "source": [
    "Element indeing"
   ]
  },
  {
   "cell_type": "code",
   "execution_count": null,
   "metadata": {
    "colab": {
     "base_uri": "https://localhost:8080/"
    },
    "executionInfo": {
     "elapsed": 25,
     "status": "ok",
     "timestamp": 1682037885285,
     "user": {
      "displayName": "CARLOS ANDRES RODALLEGA MILLAN",
      "userId": "17846216848733149992"
     },
     "user_tz": 300
    },
    "id": "dp5xMAI6FZR3",
    "outputId": "85f6555f-4494-484e-852e-f0bd05f2ea2b"
   },
   "outputs": [
    {
     "data": {
      "text/plain": [
       "array([[4, 6, 4],\n",
       "       [2, 2, 2],\n",
       "       [6, 8, 7]])"
      ]
     },
     "execution_count": 97,
     "metadata": {},
     "output_type": "execute_result"
    }
   ],
   "source": [
    "a1"
   ]
  },
  {
   "cell_type": "code",
   "execution_count": null,
   "metadata": {
    "colab": {
     "base_uri": "https://localhost:8080/"
    },
    "executionInfo": {
     "elapsed": 20,
     "status": "ok",
     "timestamp": 1682037885286,
     "user": {
      "displayName": "CARLOS ANDRES RODALLEGA MILLAN",
      "userId": "17846216848733149992"
     },
     "user_tz": 300
    },
    "id": "V2x2nrGYFebE",
    "outputId": "95f9daee-4dc6-4ec3-aa4f-1c0aad0dc174"
   },
   "outputs": [
    {
     "data": {
      "text/plain": [
       "array([4, 6, 4])"
      ]
     },
     "execution_count": 98,
     "metadata": {},
     "output_type": "execute_result"
    }
   ],
   "source": [
    "a1[0]"
   ]
  },
  {
   "cell_type": "code",
   "execution_count": null,
   "metadata": {
    "colab": {
     "base_uri": "https://localhost:8080/"
    },
    "executionInfo": {
     "elapsed": 16,
     "status": "ok",
     "timestamp": 1682037885286,
     "user": {
      "displayName": "CARLOS ANDRES RODALLEGA MILLAN",
      "userId": "17846216848733149992"
     },
     "user_tz": 300
    },
    "id": "FvH3jAvMFeca",
    "outputId": "e232be56-f51c-4319-9f1a-99707ffa8cbc"
   },
   "outputs": [
    {
     "data": {
      "text/plain": [
       "array([4, 2, 6])"
      ]
     },
     "execution_count": 99,
     "metadata": {},
     "output_type": "execute_result"
    }
   ],
   "source": [
    "a1[:,0] #:Ve a través de todos los elementos de la primera fila y toma solo el primer elemento de la columna"
   ]
  },
  {
   "cell_type": "code",
   "execution_count": null,
   "metadata": {
    "colab": {
     "base_uri": "https://localhost:8080/"
    },
    "executionInfo": {
     "elapsed": 11,
     "status": "ok",
     "timestamp": 1682037885286,
     "user": {
      "displayName": "CARLOS ANDRES RODALLEGA MILLAN",
      "userId": "17846216848733149992"
     },
     "user_tz": 300
    },
    "id": "hRz1RfQAFjM9",
    "outputId": "c5cb5ae1-3c20-4e97-9ca2-29c4943566a2"
   },
   "outputs": [
    {
     "data": {
      "text/plain": [
       "array([2, 8])"
      ]
     },
     "execution_count": 100,
     "metadata": {},
     "output_type": "execute_result"
    }
   ],
   "source": [
    "a1[1:,1]"
   ]
  },
  {
   "cell_type": "code",
   "execution_count": null,
   "metadata": {
    "id": "aif-Otx3FjR1"
   },
   "outputs": [],
   "source": []
  },
  {
   "cell_type": "markdown",
   "metadata": {
    "id": "-eWs_CnuF70A"
   },
   "source": [
    "##Dealing with 2D funcstions"
   ]
  },
  {
   "cell_type": "markdown",
   "metadata": {
    "id": "zX3m_Cy3GAmP"
   },
   "source": [
    "Function in 2 dimentios. Try this..."
   ]
  },
  {
   "cell_type": "code",
   "execution_count": null,
   "metadata": {
    "id": "s9iuzPTfGA6N"
   },
   "outputs": [],
   "source": [
    "x = np.linspace(0,10,100)\n",
    "y = np.linspace(0,10,100)\n",
    "z = x**2 + y**2  #1-d array"
   ]
  },
  {
   "cell_type": "markdown",
   "metadata": {
    "id": "hXa_8wXfGBI3"
   },
   "source": [
    "Need to use meshgrids"
   ]
  },
  {
   "cell_type": "code",
   "execution_count": null,
   "metadata": {
    "id": "VfeAp2owGBVh"
   },
   "outputs": [],
   "source": [
    "#Mirarlo como un eje coordenado. Y vs X\n",
    "\n",
    "xv, yv = np.meshgrid(x,y)"
   ]
  },
  {
   "cell_type": "code",
   "execution_count": null,
   "metadata": {
    "id": "4gIRuoZRHDU8"
   },
   "outputs": [],
   "source": [
    "zv = xv**2+yv**2"
   ]
  },
  {
   "cell_type": "code",
   "execution_count": null,
   "metadata": {
    "colab": {
     "base_uri": "https://localhost:8080/",
     "height": 435
    },
    "executionInfo": {
     "elapsed": 1722,
     "status": "ok",
     "timestamp": 1682037887003,
     "user": {
      "displayName": "CARLOS ANDRES RODALLEGA MILLAN",
      "userId": "17846216848733149992"
     },
     "user_tz": 300
    },
    "id": "OPNm74OyHRAM",
    "outputId": "3cae89ca-38b1-4385-a5b1-c964f4a3faf2"
   },
   "outputs": [
    {
     "data": {
      "image/png": "[encoded data removed]",
      "text/plain": [
       "<Figure size 640x480 with 2 Axes>"
      ]
     },
     "metadata": {},
     "output_type": "display_data"
    }
   ],
   "source": [
    "plt.contourf(xv,yv,zv, levels=30)\n",
    "plt.colorbar(label='Holi')\n",
    "plt.show()"
   ]
  },
  {
   "cell_type": "markdown",
   "metadata": {
    "id": "ItsP7k3WHSXd"
   },
   "source": [
    "##Basic Linear Algebra"
   ]
  },
  {
   "cell_type": "markdown",
   "metadata": {
    "id": "B5v4uSXnH-Yc"
   },
   "source": [
    "**Matrix Operations**"
   ]
  },
  {
   "cell_type": "code",
   "execution_count": null,
   "metadata": {
    "id": "B4CyYZ4IH9H6"
   },
   "outputs": [],
   "source": [
    "A = np.array([[3,2,1],[5,-5,4],[6,0,1]])\n",
    "b1 = np.array([1,2,3])\n",
    "b2 = np.array([-1,2,-5])"
   ]
  },
  {
   "cell_type": "code",
   "execution_count": null,
   "metadata": {
    "colab": {
     "base_uri": "https://localhost:8080/"
    },
    "executionInfo": {
     "elapsed": 28,
     "status": "ok",
     "timestamp": 1682037887003,
     "user": {
      "displayName": "CARLOS ANDRES RODALLEGA MILLAN",
      "userId": "17846216848733149992"
     },
     "user_tz": 300
    },
    "id": "s4eNewfoH9QE",
    "outputId": "a111da80-a696-42a2-a875-f364e3855193"
   },
   "outputs": [
    {
     "data": {
      "text/plain": [
       "array([1, 2, 3])"
      ]
     },
     "execution_count": 106,
     "metadata": {},
     "output_type": "execute_result"
    }
   ],
   "source": [
    "b1"
   ]
  },
  {
   "cell_type": "code",
   "execution_count": null,
   "metadata": {
    "colab": {
     "base_uri": "https://localhost:8080/"
    },
    "executionInfo": {
     "elapsed": 25,
     "status": "ok",
     "timestamp": 1682037887003,
     "user": {
      "displayName": "CARLOS ANDRES RODALLEGA MILLAN",
      "userId": "17846216848733149992"
     },
     "user_tz": 300
    },
    "id": "HCI13KjuIX67",
    "outputId": "dc4445e8-89e0-483a-f03d-828982312024"
   },
   "outputs": [
    {
     "data": {
      "text/plain": [
       "array([[ 3,  2,  1],\n",
       "       [ 5, -5,  4],\n",
       "       [ 6,  0,  1]])"
      ]
     },
     "execution_count": 107,
     "metadata": {},
     "output_type": "execute_result"
    }
   ],
   "source": [
    "A"
   ]
  },
  {
   "cell_type": "code",
   "execution_count": null,
   "metadata": {
    "colab": {
     "base_uri": "https://localhost:8080/"
    },
    "executionInfo": {
     "elapsed": 20,
     "status": "ok",
     "timestamp": 1682037887004,
     "user": {
      "displayName": "CARLOS ANDRES RODALLEGA MILLAN",
      "userId": "17846216848733149992"
     },
     "user_tz": 300
    },
    "id": "CtkMxiL9H9To",
    "outputId": "d5ae5002-47df-492e-b57a-0ec56cae03f2"
   },
   "outputs": [
    {
     "data": {
      "text/plain": [
       "array([10,  7,  9])"
      ]
     },
     "execution_count": 108,
     "metadata": {},
     "output_type": "execute_result"
    }
   ],
   "source": [
    "A@b1 #El @ nos da el producto matricial de ambos elementos."
   ]
  },
  {
   "cell_type": "code",
   "execution_count": null,
   "metadata": {
    "colab": {
     "base_uri": "https://localhost:8080/"
    },
    "executionInfo": {
     "elapsed": 15,
     "status": "ok",
     "timestamp": 1682037887004,
     "user": {
      "displayName": "CARLOS ANDRES RODALLEGA MILLAN",
      "userId": "17846216848733149992"
     },
     "user_tz": 300
    },
    "id": "hYYo_wu9IUca",
    "outputId": "38fe83b0-9290-409d-b50f-49c6206e5b22"
   },
   "outputs": [
    {
     "data": {
      "text/plain": [
       "array([[ 3,  5,  6],\n",
       "       [ 2, -5,  0],\n",
       "       [ 1,  4,  1]])"
      ]
     },
     "execution_count": 109,
     "metadata": {},
     "output_type": "execute_result"
    }
   ],
   "source": [
    "A.T #Obteneos la transpuesta de la matrix que estamos tratando"
   ]
  },
  {
   "cell_type": "code",
   "execution_count": null,
   "metadata": {
    "colab": {
     "base_uri": "https://localhost:8080/"
    },
    "executionInfo": {
     "elapsed": 9,
     "status": "ok",
     "timestamp": 1682037887004,
     "user": {
      "displayName": "CARLOS ANDRES RODALLEGA MILLAN",
      "userId": "17846216848733149992"
     },
     "user_tz": 300
    },
    "id": "pWQahJgeIUnP",
    "outputId": "4475192f-47c1-467b-c0be-630b5ea33757"
   },
   "outputs": [
    {
     "data": {
      "text/plain": [
       "-12"
      ]
     },
     "execution_count": 110,
     "metadata": {},
     "output_type": "execute_result"
    }
   ],
   "source": [
    "np.dot(b1,b2) #Tenemos el producto punto de ambos elementos seleccionados"
   ]
  },
  {
   "cell_type": "code",
   "execution_count": null,
   "metadata": {
    "colab": {
     "base_uri": "https://localhost:8080/"
    },
    "executionInfo": {
     "elapsed": 509,
     "status": "ok",
     "timestamp": 1682037887509,
     "user": {
      "displayName": "CARLOS ANDRES RODALLEGA MILLAN",
      "userId": "17846216848733149992"
     },
     "user_tz": 300
    },
    "id": "HOjIDIk_IjaD",
    "outputId": "00df73fb-6f9a-438b-e2f9-dcef92e4fbed"
   },
   "outputs": [
    {
     "data": {
      "text/plain": [
       "array([-16,   2,   4])"
      ]
     },
     "execution_count": 111,
     "metadata": {},
     "output_type": "execute_result"
    }
   ],
   "source": [
    " np.cross(b1,b2) #Calcular el producto cruz, recordando que este es un vector."
   ]
  },
  {
   "cell_type": "markdown",
   "metadata": {
    "id": "7j1FBiw2I7YT"
   },
   "source": [
    "**Sistems of Equations**:"
   ]
  },
  {
   "cell_type": "markdown",
   "metadata": {
    "id": "u0adgG-4I-z6"
   },
   "source": [
    "$$ 3x+2y+z=4$$\n",
    "$$ 5x-5y+4z=3$$\n",
    "$$ 6x+z=0$$"
   ]
  },
  {
   "cell_type": "code",
   "execution_count": null,
   "metadata": {
    "id": "NOkkMjJkIjc6"
   },
   "outputs": [],
   "source": [
    "A = np.array([[3,2,1],[5,-5,4],[6,0,1]])\n",
    "b = np.array([4,3,0])"
   ]
  },
  {
   "cell_type": "code",
   "execution_count": null,
   "metadata": {
    "colab": {
     "base_uri": "https://localhost:8080/"
    },
    "executionInfo": {
     "elapsed": 30,
     "status": "ok",
     "timestamp": 1682037887509,
     "user": {
      "displayName": "CARLOS ANDRES RODALLEGA MILLAN",
      "userId": "17846216848733149992"
     },
     "user_tz": 300
    },
    "id": "8vNdnFz0IjgX",
    "outputId": "ce016e20-fc18-49c5-b75e-d94566e49169"
   },
   "outputs": [
    {
     "data": {
      "text/plain": [
       "array([-0.49056604,  1.26415094,  2.94339623])"
      ]
     },
     "execution_count": 113,
     "metadata": {},
     "output_type": "execute_result"
    }
   ],
   "source": [
    "np.linalg.solve(A,b) #Con esto podemos resolver sistemas de ecuaciones lineales de manera rápida."
   ]
  },
  {
   "cell_type": "markdown",
   "metadata": {
    "id": "IPGqACiXJhLK"
   },
   "source": [
    "**Finding Eigenvalues**:\n"
   ]
  },
  {
   "cell_type": "code",
   "execution_count": null,
   "metadata": {
    "id": "wgbZ_dC7JhZy"
   },
   "outputs": [],
   "source": [
    "A = np.array([[4,2,2],[2,4,2],[2,2,4]])"
   ]
  },
  {
   "cell_type": "code",
   "execution_count": null,
   "metadata": {
    "id": "WNQSN41yJkpH"
   },
   "outputs": [],
   "source": [
    "w, v = np.linalg.eig(A) #w son los valores propios, v son los vectores propios"
   ]
  },
  {
   "cell_type": "code",
   "execution_count": null,
   "metadata": {
    "colab": {
     "base_uri": "https://localhost:8080/"
    },
    "executionInfo": {
     "elapsed": 25,
     "status": "ok",
     "timestamp": 1682037887510,
     "user": {
      "displayName": "CARLOS ANDRES RODALLEGA MILLAN",
      "userId": "17846216848733149992"
     },
     "user_tz": 300
    },
    "id": "qo1iv3uZJ--i",
    "outputId": "3e3d35b5-b213-4ccd-99ee-0e8201ebdb94"
   },
   "outputs": [
    {
     "data": {
      "text/plain": [
       "array([2., 8., 2.])"
      ]
     },
     "execution_count": 116,
     "metadata": {},
     "output_type": "execute_result"
    }
   ],
   "source": [
    "w"
   ]
  },
  {
   "cell_type": "code",
   "execution_count": null,
   "metadata": {
    "id": "35pO3y0MJ_FK"
   },
   "outputs": [],
   "source": [
    "v1 =v[:,0] #Los vectores propios están compuestos por las columnas."
   ]
  },
  {
   "cell_type": "code",
   "execution_count": null,
   "metadata": {
    "colab": {
     "base_uri": "https://localhost:8080/"
    },
    "executionInfo": {
     "elapsed": 20,
     "status": "ok",
     "timestamp": 1682037887510,
     "user": {
      "displayName": "CARLOS ANDRES RODALLEGA MILLAN",
      "userId": "17846216848733149992"
     },
     "user_tz": 300
    },
    "id": "BydIKlS7KBjt",
    "outputId": "a1305c42-e921-49fc-fc04-0c5e22479902"
   },
   "outputs": [
    {
     "data": {
      "text/plain": [
       "array([-0.81649658,  0.40824829,  0.40824829])"
      ]
     },
     "execution_count": 118,
     "metadata": {},
     "output_type": "execute_result"
    }
   ],
   "source": [
    "v1"
   ]
  },
  {
   "cell_type": "code",
   "execution_count": null,
   "metadata": {
    "id": "5CFVe4v_KHuK"
   },
   "outputs": [],
   "source": [
    "#Veficando lo anterior:"
   ]
  },
  {
   "cell_type": "code",
   "execution_count": null,
   "metadata": {
    "colab": {
     "base_uri": "https://localhost:8080/"
    },
    "executionInfo": {
     "elapsed": 14,
     "status": "ok",
     "timestamp": 1682037887510,
     "user": {
      "displayName": "CARLOS ANDRES RODALLEGA MILLAN",
      "userId": "17846216848733149992"
     },
     "user_tz": 300
    },
    "id": "wOnEgZVzKSUl",
    "outputId": "941bdf92-ddf7-4561-98c1-198d15aec4d9"
   },
   "outputs": [
    {
     "data": {
      "text/plain": [
       "array([-1.63299316,  0.81649658,  0.81649658])"
      ]
     },
     "execution_count": 120,
     "metadata": {},
     "output_type": "execute_result"
    }
   ],
   "source": [
    "A@v1"
   ]
  },
  {
   "cell_type": "code",
   "execution_count": null,
   "metadata": {
    "colab": {
     "base_uri": "https://localhost:8080/"
    },
    "executionInfo": {
     "elapsed": 10,
     "status": "ok",
     "timestamp": 1682037887511,
     "user": {
      "displayName": "CARLOS ANDRES RODALLEGA MILLAN",
      "userId": "17846216848733149992"
     },
     "user_tz": 300
    },
    "id": "6S_Ll-yQKZc-",
    "outputId": "069b820a-9caa-45e8-843d-1e0a0fc65e9c"
   },
   "outputs": [
    {
     "data": {
      "text/plain": [
       "array([-1.63299316,  0.81649658,  0.81649658])"
      ]
     },
     "execution_count": 121,
     "metadata": {},
     "output_type": "execute_result"
    }
   ],
   "source": [
    "w[0]*v1"
   ]
  },
  {
   "cell_type": "markdown",
   "metadata": {
    "id": "aCB0rNGNKfah"
   },
   "source": [
    "##Ejemplos:"
   ]
  },
  {
   "cell_type": "markdown",
   "metadata": {
    "id": "ph2fW8xCKhJq"
   },
   "source": []
  },
  {
   "cell_type": "code",
   "execution_count": null,
   "metadata": {
    "id": "HW5Ec51lKhcW"
   },
   "outputs": [],
   "source": []
  },
  {
   "cell_type": "markdown",
   "metadata": {
    "id": "e9I4w5bRKhob"
   },
   "source": []
  },
  {
   "cell_type": "code",
   "execution_count": null,
   "metadata": {
    "id": "uYoiR9ykKh46"
   },
   "outputs": [],
   "source": []
  },
  {
   "cell_type": "markdown",
   "metadata": {
    "id": "ew5cpTCNKmtZ"
   },
   "source": [
    "##Read data en numpy - Baic Datasets"
   ]
  },
  {
   "cell_type": "code",
   "execution_count": null,
   "metadata": {
    "id": "Isa6sPbEKnAu"
   },
   "outputs": [],
   "source": [
    "# data = np.loadtext('adadasd.csv', dtype ='object')"
   ]
  },
  {
   "cell_type": "markdown",
   "metadata": {
    "id": "P11CCytIvOjt"
   },
   "source": [
    "#SciPy Tutorial (2022): For Physicists, Engineers, and Mathematicians\n"
   ]
  },
  {
   "cell_type": "code",
   "execution_count": null,
   "metadata": {
    "id": "qkc-0_6aDgOc"
   },
   "outputs": [],
   "source": [
    "import numpy as np\n",
    "import matplotlib.pyplot as plt\n",
    "import scipy as sp"
   ]
  },
  {
   "cell_type": "markdown",
   "metadata": {
    "id": "4216_sy4Lpz4"
   },
   "source": [
    "##**Optimization**:"
   ]
  },
  {
   "cell_type": "code",
   "execution_count": null,
   "metadata": {
    "id": "ZO3ZlZlbHPdE"
   },
   "outputs": [],
   "source": [
    "from scipy.optimize import minimize"
   ]
  },
  {
   "cell_type": "markdown",
   "metadata": {
    "id": "28wVyHsmL0iP"
   },
   "source": [
    "Minimize f(x) = (x-3)^2"
   ]
  },
  {
   "cell_type": "code",
   "execution_count": null,
   "metadata": {
    "id": "NhnRr3KcHPu4"
   },
   "outputs": [],
   "source": [
    "def f(x):\n",
    "  return (x-3)**2\n",
    "\n",
    "res = minimize(f,2) #Hay que darle la función a minimizar y un valor aproximado promedio"
   ]
  },
  {
   "cell_type": "code",
   "execution_count": null,
   "metadata": {
    "colab": {
     "base_uri": "https://localhost:8080/"
    },
    "executionInfo": {
     "elapsed": 17,
     "status": "ok",
     "timestamp": 1682037887779,
     "user": {
      "displayName": "CARLOS ANDRES RODALLEGA MILLAN",
      "userId": "17846216848733149992"
     },
     "user_tz": 300
    },
    "id": "q0BCht86MOCp",
    "outputId": "ff265715-8956-4a94-9dd8-cc18cbccbfa9"
   },
   "outputs": [
    {
     "data": {
      "text/plain": [
       "  message: Optimization terminated successfully.\n",
       "  success: True\n",
       "   status: 0\n",
       "      fun: 5.551437397369767e-17\n",
       "        x: [ 3.000e+00]\n",
       "      nit: 2\n",
       "      jac: [-4.325e-13]\n",
       " hess_inv: [[ 5.000e-01]]\n",
       "     nfev: 6\n",
       "     njev: 3"
      ]
     },
     "execution_count": 126,
     "metadata": {},
     "output_type": "execute_result"
    }
   ],
   "source": [
    "res"
   ]
  },
  {
   "cell_type": "code",
   "execution_count": null,
   "metadata": {
    "colab": {
     "base_uri": "https://localhost:8080/"
    },
    "executionInfo": {
     "elapsed": 9,
     "status": "ok",
     "timestamp": 1682037887779,
     "user": {
      "displayName": "CARLOS ANDRES RODALLEGA MILLAN",
      "userId": "17846216848733149992"
     },
     "user_tz": 300
    },
    "id": "_vV0YHoBMZsr",
    "outputId": "d9b335be-4ab2-444e-9214-bd153e7bb4f7"
   },
   "outputs": [
    {
     "data": {
      "text/plain": [
       "2.999999992549203"
      ]
     },
     "execution_count": 127,
     "metadata": {},
     "output_type": "execute_result"
    }
   ],
   "source": [
    "res.x[0]"
   ]
  },
  {
   "cell_type": "markdown",
   "metadata": {
    "id": "hRqmfAUFL5b9"
   },
   "source": [
    "Minimize $f(x),y=(x-1)^2+(y-2.5)^2$ sujeto a:\n",
    "\n",
    "$$x-2y+2>0 $$\n",
    "$$-x-2y+6>0 $$\n",
    "$$ -x+2y+2>0$$\n",
    "$$x>0 $$\n",
    "$$y>0 $$\n"
   ]
  },
  {
   "cell_type": "markdown",
   "metadata": {
    "id": "C-9x7FKIcTEV"
   },
   "source": [
    "![opt_reg.png](data:image/png;base64,iVBORw0KGgoAAAANSUhEUgAABZcAAASQCAYAAACAgnGQAAAAAXNSR0IArs4c6QAAAARnQU1BAACxjwv8YQUAAAAJcEhZcwAAGdYAABnWARjRyu0AAP+lSURBVHhe7N0FfNbl+sdxF4wBo+NPtwNJkTh0CwooqICAkgpIiKiEYICIGMChJEQ6JAQUJA/d3d0lGzFGbLCE63+u+9zjoAd1g8UTn/fr9bzU3/0MJk+M5/u7ft/7KQEAAAAAAAAAII4IlwEAAAAAAAAAcUa4DAAAAAAAAACIM8JlAAAAAAAAAECcES4DAAAAAAAAAOKMcBkAAAAAAAAAEGeEywAAAAAAAACAOCNcBgAAAAAAAADEGeEyAAAAAAAAACDOCJcBAAAAAAAAAHFGuAwAAAAAAAAAiDPCZQAAAAAAAABAnBEuAwAAAAAAAADijHAZAAAAAAAAABBnhMsAAAAAAAAAgDgjXAYAAAAAAAAAxBnhMgAAAAAAAAAgzgiXAQAAAAAAAABxRrgMAAAAAAAAAIgzwmUAAAAAAAAAQJwRLgMAAAAAAAAA4oxwGQAAAAAAAAAQZ4TLAAAAAAAAAIA4I1wGAAAAAAAAAMQZ4TIAAAAAAAAAIM4IlwEAAAAAAAAAcUa4DAAAAAAAAACIM8JlAAAAAAAAAECcES4DAAAAAAAAAOKMcBkAAAAAAAAAEGeEywAAAAAAAACAOCNcBgAAAAAAAADEGeEyAAAAAAAAACDOCJcBAAAAAAAAAHFGuAwAAAAAAAAAiDPCZQAAAAAAAABAnBEuAwAAAAAAAADijHAZAAAAAAAAABBnhMsAAAAAAAAAgDgjXAYAAAAAAAAAxBnhMgAAAAAAAAAgzgiXAQAAAAAAAABxRrgMAAAAAAAAAIgzwmUAAAAAAAAAQJwRLgMAAAAAAAAA4oxwGQAAAAAAAAAQZ4TLAAAAAAAAAIA4I1wGAAAAAAAAAMQZ4TIAAAAAAAAAIM4IlwEAAAAAAAAAcUa4DAAAAAAAAACIM8JlAAAAAAAAAECcES4DAAAAAAAAAOKMcBkAAAAAAAAAEGeEywAAAAAAAACAOCNcBh5y8+ZNCQoKsv8FAAAAAAAA4M8QLgMPWbVqlfz000/2vwAAAAAAAAD8GcJlwLp3756MHDlSOnfuLNeuXbNHAQAAAAAAADwK4TJgBQYGynvvvSd16tSRbdu22aMAAAAAAAAAHoVwGbB27twpDRo0kGeeeUZmzpxpjwIAAAAAAAB4FMJlwBo1apT4+PiIl5eX9OzZ0x4FAAAAAAAA8CiEy8C/ad/y4MGD5amnnjK3tm3b0rsMAAAAAAAA/AXCZeDfYvqWY8JlepcBAAAAAACAv0a4DPzbjh07TN9yTLhM7zIAAAAAAADw1wiXgX+bP3++FC5c+EG4nDp1ahkwYIBdBQAAAAAAAPBHhMtwe9q3PGLECPH19X0QLnt4eEi7du3oXQYAAAAAAAD+BOEy3N4f+5ZjbvQuAwAAAAAAAH+OcNmFhYeHy8WLF+Xw4cNy5coVe/SvhYSEyMmTJ+XMmTMSFhZmj7o27VuuX7/+/4TL9C4DAAAAAAAAf45w2cUEBATI3Llz5a233jIdwmnTppU0adJI+fLlZcGCBfZe/0tDZf26qlWrmq/JkiWLdO7cWU6dOmXv4br+2Lccc6N3GQAAAAAAAPhzhMsu4O7du7Jo0SJp2LCh5MmTR/7v//7PBMqenp4PglIvLy/p0KGDCZ//SI/17t1b0qVLZ+4X8zW5c+eWcePG2Xu5pkf1Lcfc6F0GAAAAAAAA/hzhsguIiIiQzZs3y7x58+TEiRMSHBwsq1evNp3BD4elFStWlBUrVtiv+o/r169L//79TbD88H31puHy999/b+/pmv6sbznmRu8yAAAAAAAA8GiEyy4iKipKIiMjzSSuio6Olu+++04yZcr0ICjVqgud0o1x+/ZtGTJkiBQtWlQ+/vhjOXDggEycOFEqVaokWbNmlW7dusnZs2ftvV3Tn/Utx9zoXQYAAAAAAAAejXDZha1cudIExTFBqdZkfPjhh2ajPp12Hj9+vBQvXtwEy1r9oMG0HtfQ+ebNm6ZuIyasdlV/1rccc6N3GQAAAAAAAHg0wmUXdvLkSWnZsuXvwtIWLVrI6dOnTfBcvXp16dixo/z2229y//59+1Xu46/6lmNu9C4DAAAAAAAAj0a47MJ0Qrlfv36/29ivZs2a8uOPP0qXLl2kVq1appvZHYNl9Xd9yzE3epcBAAAAAACA/0W47OImTZokOXLkeBCU+vv7m4nlUqVKyfDhw01Ps7v6u77lmBu9ywAAAAAAAMD/Ilx2catWrZIqVao8CEq9vLwkefLk0r59e1OHEV/uh9+SgKNbZemsH2TkkG9k8LDRMmnuv2TnyStyx0Frm/+ubznmRu8yAAAAAAAA8L8Il13csWPH5I033vhdWFq+fHlZunRpvNRhhF87LmunfCpv1iguuTOmEb9UKSVFihTmljKVn6TPVkiqtPhMpm86K7cdKGSOTd9yzI3eZQAAAAAAAOB/ES67uNDQUOnTp8/vwtKGDRvK/v377T0e0/1QObd5qvR5pZTkSOMrybw8xeOh3+PBzcNTvHxSSpYSjaTX5G0SEGG/PonFtm855kbvMgAAAAAAAPB7hMsuTqeTR48eLRkyZHgQlFasWFH+9a9/2Xs8huhgObpkqLxVObf4JfuTUPkPNw8vH8lY6nXp/9NBueUA+wfGtm855qa9yzNmzLBfDQAAAAAAAIBw2Q0sXLhQnn322QdBaf78+WXy5Ml2Na4iJWDLFOlVv4D4JU8t2YvVktafjJY5/9omB46dkGMHt8rymf+U7o0rSP50yX4X0Hp4p5NnX/9cfjocKkmdL8e2bznmpr3Ln3/+uf1qAAAAAAAAAITLLi4qKkrGjh0r//d///cgKE2ZMqUMHDjQ3iNuIi6uk/Hdakn+7EXkhW5jZNWxaxJ6N1wio6Ll3r37/75FS1RkuNwNPi0bJvSUBs+kE88HIa2HJM9TW7qO2yjXkrB/OS59yzE37V1u27YtvcsAAAAAAACARbjs4tauXSvVq1c34ejDQWmXLl3kxo0b9l6xdP+W7J3TX5pWKCev9J4q2wPDJOren80g35Po0DOyclQnqZb9vxPMHt55pHbXcbIpOOnS5bj2Lcfcnn/+eXqXAQAAAAAAAItw2YWdP39eOnXqJCVLlpRy5cr9blK3UaNGcuDAAXvP2IkO2CA/9Ggujdp+JQtPhEj033Zb3JPQo4vkm5bPSVoPG9J6pJCir34qsw9F2fskPu1bbtCgwYM/i9je6F0GAAAAAAAA/otw2UWFh4eb6odChQqZCoxJkyaZf48JSp977jn55Zdf7L1jJzLohGxZtVxWbjstobEdPA4/LouHtJLnUsdMTntL/rrvy8Ttd+wdEl9c+5ZjbvQuAwAAAAAAAP9FuOyili5dKhUrVpT27dvLhQsXZOvWrfLiiy8+CEozZ84sw4YNs/eOpfv3JCoqUqKi41BpcS9ItkzpKXVzetnfO5k8Xb+nTN0dYe+QuB6nbznmRu8yAAAAAAAA8F+Eyy7o0KFD0rx5cxMmb9682QSqly5dks6dO/8uKNXe4ZCQEPtV/xUREWFu8eL+ddk2rbe8mNuGy54ZpVzLb2TJuaTpXH7cvuWYG73LAAAAAAAAwH8QLruYK1euSO/evU3txfTp0yU6Otoc138OHjz4dxO7r776qgmiH3bixAnp27evjBs3zh55QlGnZdmIt6Rc2v/UYnime06af/GznEyaweXH7luOudG7DAAAAAAAAPwH4bILCQsLk1GjRknRokVNz/Ifp5LnzJnzu97lMmXKyKJFi+yqyNWrV6VPnz7Spk0bOXr0qD36ZKLOr5TRnSpJJk/9PZNJjqodZeTqS5JU2/k9bt9yzI3eZQAAAAAAAOA/CJed0OnTp2X8+PGmM3n37t1mKjkqKsqEx+XKlZP3339fLl++bO/9X1rn8HDvsgalAwYMkMjISLlz544MHz5cateuLXPnzjVVGk/s/h05svBrefPZNOL579/PO3NZefOrRXLyTtJUYjxJ33LMjd5lAAAAAAAA4D8Il53MxYsXpVu3buLn5ycpUqSQHDlySKNGjeTNN980U8kafJ46dUru379vv+K/NHB+9913fxeU6pTzp59+ao5rlcY///lPMwEdHyJ/Wy/j36slOXw85CmfrFKhzbey9PRdSZpo+cn7lmNu9C4DAAAAAAAAhMtOZ8uWLVK3bt0HQacGxMmSJRMfHx9p2LCh7Nq160+njvX4yJEjJU2aNA++3svLy0zyZsyYUXr16iXXr1+3935C0Zdl69SeUi9fCvHy9JOCdbvJ+E2XJCKpkuV/e9K+5ZgbvcsAAAAAAAAA4bLT0cnlDh06/E/gWaNGDVm9evWDDfz+zL59+8xGfg9/bdq0ac009Llz5x458Rx3EXJp00T5oG5eSeGVXLJVaCVf/3pcbkfFx6/9+J60bznmRu8yAAAAAAAAQLjsdHT6eP/+/dKjRw8pW7as/OMf/zC1FseOHTO9y39Hw+eNGzdKq1atpGTJklKvXj2ZNm2aBAcHx0/PstyXO6f+JSM7VpZsvskl87ON5dPZe+VaxL1/rySd+OhbjrnRuwwAAAAAAAAQLjslDYjv3r0rt27dMjftSI5LMKwhdGhoqPnakJAQiYiIiKeJ5X9/b9f2yJz+TaRY+hSSsVgj+WjaDrkcHp2kwbIKCAiIl77lmBu9ywAAAAAAAHB3hMuIN/dDT8m/Rr0jVXKmlkzFXpaeU7dJQFjSB8sqvvqWY270LgMAAAAAAMDdES4jfoRfkq2Te0sD/wySpdhL0nOK4wTLKr76lmNu9C4DAAAAAADA3REu48lFXZU9cz6XpiX+T/5PJ5Ynb5VLDhQsa2XI8OHD46VvOeZG7zIAAAAAAADcHeEynkx0sBz65WtpVTaHZCv+svRwsGBZad9yt27dHhkSP8mN3mUAAAAAAAC4M8JlPL77t+T48uHSvnIeye6gwbI6ePCgdOjQQfLly/eXt6xZs0ry5MnFy8tLMmTI8Mj7PHyrW7eu/Prrr/Z3AQAAAAAAANwL4TIez/1QObNmrLxbq6DkKuF4VRgPi46OltDQULl58+Zf3hYsWCBlypSRLFmyyKBBgx55n4dvt2/flsjISPu7AM7p/v375nkcHh5u/qmvFz0GAAAAAADwdwiXEXf3w+TipknSs/4zktfBg+W4+Ne//iX/+Mc/5P/+7//kn//8pz0KJB4Nd69cuSJHjx6VHTt2yJo1a2TRokXy448/yvjx482k/K1bt+y948fp06ela9eukj59ejOxH3PLnDmz5M6dW4oUKSLlypWTmjVryssvvywtWrSQ9u3by/vvvy+fffaZfPvttzJmzBiZNm2aOUGjr6MtW7bI2bNn7e8AAAAAAABcFeEy4ihSAnfOlE9eLSH5SzaUHpO3xCpYjgw4IBtWrZA1B67KPXvM0RAuI6FERUVJUFCQqWhZuXKlTJ8+XQYPHiwffvihCWs1uNUQV6tZ0qVLJ2nTppU0adJI6tSpxc/PT1KlSiUpU6aUV155RU6dOmV/1fhx/PhxadOmzSN7xXXjSk9PT1MV4+3tLcmSJTM3Hx8fUyGjm2SmSJHCfG/6Per3qt+zfv8dO3a0vwMAAAAAAHBVhMuIgygJ2j9fBrYoK/6lGsZ+Yjk6SHbNGiDdOveWHzZfd9gJZ8JlxJewsDAzxVunTh0pUaKEZM+e/UForOGrBrEaympAq2GtBrca4j4q4I256f0aNWpkpprj040bN8yE9OjRo2XkyJEyfPhw8/zXieT+/ftLjx495J133pGWLVuacFs3sqxQoYIUL17cdI/rhLP+v2gQ/fD3qj3nAAAAAADAtREuI5buyc2ji2VI20pS5LlG0iuWwXL0nQDZ89MX8mbVKtLogx9k6w1HnVsmXEb80XoLrYqICY0fDl71ppPAWkPxzDPPSI0aNaR58+amZkID3alTp8qSJUtkw4YNsmfPHjlx4oQEBATI9evXJSQkxHQixyftV9bJau1cfvimAbne7t69K3fu3DG95fr7a9e4VnNo77gG03rT703rPM6cOSMHDhyQbdu2me87vumv3atXL+nevbt89913snz5cjPJrd8vAAAAAABIfITLiIX7EnLqXzKqUzXJ7ZdWsvmXleebtJA3W7Y004yPvL3ZQpo2qiuVShaQbOlSStpnXpJeU3dJiAMXMxMuIz6tWrXKVF5069bNbBA5adIkWbp0qQmMf/vtNwkODn6wMaQGtxriapgbERFhwl4Nke/du2fCX2fZYE+/T/2eY773+KZ/fgUKFDAT31rFEVPBoZPh+tp94403zLT1zJkzZfv27XL16lU2JwQAAAAAIAERLuNv3Je759fLD+/XlQJpkonnU9rB6iXJfHxM7+qf37Sb1Vu8PD3Ew9NPir7yscw6cNdhKzEU4bL70WBXO4cvXrxoj8QfnV7W0Finfh8OjWMCY8SdBsZNmjQxE99aLRIzCa6T4ToNrnUc2gOta9pZnSlTJilatKiZDNepcO27DgwM5M8fAAAAAIB4QriMvxQesF2m92koz6T3Ec+HLuuPy80zbUl5/fP5ctzBr1wnXHZtGvTu27dPpkyZIu+9955Uq1ZNcuTIIU8//bQMGzbM3guOTMN5rebQKg4NiXUKfM6cOfLll19K27ZtpXLlymaKWYPmB+8/np7mhJdOOmvgnCVLFnn22WfNJobaL71p0yZzkgEAAAAAAMQd4TL+3P1bsmdOP3m1kK94efxvaBy7m6dkKPumfPXrWYm0v6yjIlx2HVoxcfjwYZkxY4bZkK527dqSO3duU6GgU61aq6ABpE686rRrly5dEqTGAQknpoJDJ8R1MlxPHmgXtPY/a/fz6tWrTe91p06dzAaEuqFizPvSw4FzzZo1ZcuWLfZXBQAAAAAAcUG4jL9wX6LC78jtG0ESFPT4t+CbIRIW6fjBHeGy89Lu4nXr1snAgQOlfv36ki9fPhMk+/n5mZoE3VgvZlM9DZYLFiwojRs3NhOvunmediDDdWjwHLNJYUzorJsibt682WwE+Pbbb0vp0qVNZ/OLL74oFy5csF8JAAAAAADignAZsAiXnYdWI2zbts306L700kuSJ08eExSmSJHid0GyTiXnzZtXGjZsaDZ6W7hwoZw8edKE0fpr6MSrhpB08Lo+fYx1o0ENnLUHWwNnPalw7tw5ptYBAAAAAHhMhMuARbjs+DQUHj16tJk81v5cDZM1QNYwWW8ZM2Y0FRh9+/aVn376SY4cOSLBwcGmU1erMrRCgSAZMfS5wPMBAAAAAIDHR7gMWITLjk/D4VGjRplAWSeTtfqiatWq8sknn8jy5cvNJOrDQTITqUgKOiGtzz8AAAAAAFwd4TJgES47h507d5o6DK240EoDrTfQMJl6CziKVatWScWKFeXVV1+VsWPHyokTJ3huAgAAAABcEuEyYBEuOwcNkbUrmYoLOCLtdP7hhx/Ey8vLTNinTJnSvKdUq1ZNvvrqK9m9ezdTzQAAAAAAl0G4DFiEywCelAbHe/fulT59+kj58uXF19fXVLho2Kwd4RkyZJDSpUtL7969Zd26dRIaGmq/EgAAAAAA50O4DFiEywDig3Yua1XLjRs35ODBgzJ8+HCpW7eu6QjXoNnT09OEzvrfhQsXlo4dO5qal6CgIPsrAAAAAADgHAiXAYtwOf4EBwebDfYWLFgg165ds0cB96ObSmpVhm40eerUKZkyZYo0bdpUsmXL9iBoTp48uaROnVry5s0rzZo1k6lTp8r58+ftrwAAAAAAgOMiXAYswuUnExISImvXrpVOnTpJoUKFTFimPbMrV6609wDcm3aER0REmNfKhQsX5JdffpEOHTpIwYIFxcPDw9y0pzlVqlSSI0cOefnll2XGjBly5coV+ysAAAAAAOBYCJcBi3A57rRfdv/+/dKvXz8pU6aMpEmTxkxh6jSm3p577jmZN2+evTeAGBo06+tHO5cvX75sTsz06tVLnn32WfH29v5d0FyqVCmZNm2a/UoAAAAAABwH4TJgES7HjoZiesn+mDFj5Pnnn5dMmTKZjcp0wzINlHPnzm06ZJcuXWpCM53UBPDn9DUVFRVlepq1d3nnzp3y+eefm5Mz+rrScFlrZgAAAAAAcDSEy4BFuPzXNPTSDuXmzZtLrly5zESlTlhqb2zGjBmlUaNG8uOPP5rL/XUaU8MyDc0AxI1uCBgWFiZXr16VdevWyezZs+XmzZt2FQAAAAAAx0G4DFiEy//rzp07smnTJnnvvfekSJEi4ufnJz4+PuaS/ZQpU0qlSpVkxIgRcuTIEdMjq1PKBMpA/NGgmdcVAAAAAMBRES4DFuHyf9y7d09OnDghX3/9tVSoUEHSpUv3oEdZJ5WfeeYZ6dOnj2zZssVMU4aHh5uvAQAAAAAAgHshXAYswmWRXbt2SZs2bUztRUyPsk4p58iRQ9q2bStLliyRK1eumG5YnagEAAAAAACA+yJcBizCZZGFCxea+gsNlNOmTSv16tWTKVOmyNmzZ+lRBgAAAAAAwO8QLgMW4bLIyZMnZcCAAdKzZ0/ZsWOH3L59m75XAAAAAAAAPBLhMmARLv+nb1krL3QjP2ovANd06dIlmTRpkowbN04CAwPtUQAAAAAA4o5wGbAIlwG4g3Xr1knRokUlVapU4u/vLz169JA9e/ZwhQIAAAAAIM4IlwGLcBmAq9OrE7Zs2SI1a9aUZMmSiaenp/j6+kq2bNnklVdeMb3reuUCAAAAAACxQbgMWITLANyBbswZFBQkq1evltatW0vGjBnNJp4aNqdPn16qVasmM2bMMJ3rAAAAAAD8FcJlwCJcBuBONGQOCQmRQ4cOmY08ixQpIk899ZR4e3tL2rRppUKFCjJx4kQJDg62XwEAAAAAwO8RLgMW4TIAdxSzkef58+dlwoQJ5n1QJ5m9vLwkderUUqZMGRk9erRcvXrVfgUAAAAAAP9BuAxYzhYu37p1Sw4fPixnz561RwDg8emGfhEREXLp0iVTi1GlShUTMOvNz89PSpYsKUOHDpWAgAD7FQAAAAAAd0e4DFjOEi7rJeqzZ8+W2rVrS968eeXrr782k4cAEB9iQubAwECZO3eu1KpVy1Rl6OZ/qVKlkmLFismXX35pJp0BAAAAAO6NcBmwHD1cvnbtmkyZMsVME+ql6hr26E035Lp48aK9FwDEDw2ZIyMjTR3GokWLpH79+pI8eXITMqdIkUL8/f3l008/lVOnTtmvAAAAAAC4G8JlwHLUcPnKlSvy/fffm+9NpwY1UE6WLJmULVvWHNdL1JlcBpBQYkLmoKAgWbFihbz66qsmXI6ZZH7jjTckNDTU3hsAAAAA4E4IlwHL0cLlGzduyMyZM6Vy5comwNHeUx8fH6lYsaJMnTrVXLIeHh5ugh8ASAxRUVGmmmft2rXSvHlzKV68uIwZM4b3IQAAAABwU4TLgOUo4fKdO3dk6dKlUq9ePUmTJo0JlX19faVatWry448/mklm7UMlzAGQVDRk1hNgWsmjE80AAAAAAPdEuAxYSR0u62XnmzdvNtOAGTNmNNUXWoFRrlw5mTZtmuk9JVQG4Ej0/Yj3JAAAAABwX4TLgJVU4bL2JR84cEA6d+4s2bNnN9UX2mVatGhRGTFihJkMJFQGAAAAAACAoyFcBqykCJfPnDkjn3zyiRQoUECSJ08uHh4ekjdvXunfv7+cOHGCTmUAAAAAAAA4LMJlwErMcDkgIMD8HiVKlJAUKVKYSWX9fbt27Sp79+6Vu3fvmolmAAAAAAAAwFERLgNWYoXLR48elXbt2knKlClNqJwuXTp54403ZOPGjRIaGirR0dH2ngAAAAAAAIDjIlwGrMQKlzVA/uqrryRDhgxSr149Wbp0qdy6dYtQGQAAAAAAAE6FcBmwEitc1g5l7VresWOHBAUFSWRkpF0BAAAAAAAAnAfhMmAlZuey9ikzqQwA/xUVFSWBgYFy+vRpewQAAAAA4OgIlwErMcNlAMDvHTlyRFq0aCElS5aUcePGSUhIiF0BAAAAADgqwmXAIlwGgKShV3IsWrRIMmfObDY6TZ8+vTRo0EDWrVtnqoQAAAAAAI6JcBmwCJcBIOnopPLixYulevXq4uHhIcmSJZM8efJIjx495Pz58/ZeAAAAAABHQrgMWITLAJC0dINTDZKHDBligmUNmVOkSCGlS5eWKVOmSFhYmL0nAAAAAMAREC4DFuEyACQ9rcG4e/eu7Nq1S9q0aWPCZS8vL8mYMaO89tprsnXrVntPAAAAAEBSI1wGLMJlAHAc2sMcFBQkCxYskIoVKz6oyihQoID069dPrl69au8JAAAAAEgqhMuARbgMAI5Fp5i1KuPMmTPy5ZdfSvbs2c2Gf35+fvL888/L6tWr7T0BAAAAAEmBcBmw/ipc1ku0r127Jnfu3LFHAACJ5d69e+b9d9u2bdKsWTMzwezt7S358+eX/v37y/Xr1+09AQAAAACJiXAZsP4sXD516pR88MEHUr16dZk1a5Y9CgBIbFqVERAQIGPGjJG8efOaKebUqVPLCy+8IOvXr7f3AgAAAAAkFsJlwPpjuBwWFia//PKLVKlSRXx9fc2k3FtvvSWXL1+2XwEASGxalaHvzzrF3LhxYzPBrO/PBQsWlEGDBsmNGzfsPQEAAAAACY1wGbAeDpe7desmvXv3lmzZspngIl26dNK+fXs5cuSIuTwbAJC0dIr5t99+kxEjRkiuXLnMFHPatGmlQYMGsmXLFnsvAAAAAEBCIlwGrJhwOUWKFJIhQwYzraxhRcmSJWXKlClmGo5gGQAch04xayf+5s2bpWHDhuY9O1OmTNKnTx+zBgAAAABIWITLgLVgwQJ55plnxMPDw9zSpEkjbdu2lX379klERIS9FwDA0egU88WLF2XYsGHSsmVLOXnypF0BAAAAACQkwmW4vcjISFm+fLnUqFFDvLy85KmnnpKiRYvKDz/8IMHBwSa0AAA4tpgu5pCQEK4yAQAAAIBEQrgMtxYYGChffvml5M6d23Qra7Cs/cr9+/eX8PBwey8AAAAAAAAAf0S4DLe1Z88eadGihfj5+ZkaDA2VM2bMaDb0++c//2nvBQAAAAAAAOBRCJfhdvSy6blz50rZsmXFx8fHbNz32muvmQnmMmXKEC4DAAAAAAAAsUC4DLeiNRgDBgyQHDlymH7lrFmzyscff2w2glq6dKn84x//IFwGAAAAAAAAYoFwGW5j9+7d0rx5c1OD4enpKaVKlZKZM2eazZ90I6h//etfhMsAAAAAAABALBEuw+U9qgajSZMmsn379t9t2ke4DAAAAAAAAMQe4TJc3u3bt2XQoEFmYllrMD755BNTgxEdHW3v8R+EywAAAAAAAEDsES7D5WnlxZEjR2To0KHy448/SmhoqDn2R4TLAAAAAAAAQOwRLsMt6JSy1mM8XIPxR4TLAAAAAAAAQOwRLgMW4TIAIIaekLx+/br9LwAAAADAoxAuAxbhMgBA3bx5U8aOHStVq1aVxYsX26MAAAAAgD8iXAYswmUAgNq6dauULFlSvL29pXDhwjJmzBiJioqyqwAAAACAGITLgEW4DABQISEhMmPGDMmbN694enpKjhw5pE+fPmaiGQAAAADwX4TLgEW4DABQ9+/fl7t378qKFSukfPny4uHhIenTp5fWrVvLuXPn7L0AAAAAAITLgEW4DAB4WGRkpOzevVsaN25sAuaUKVPKCy+8INu3b7f3AAAAAAD3RrgMWITLAIA/io6OllOnTsmHH34oyZMnl2TJkknp0qVl3rx5ZsIZAAAAANwZ4TJgES4DAB7l3r17cvnyZRk+fLhkzJhRvLy8pGDBgjJ06FAJDw+39wIAAAAA90O4DFiEywCAP6NTyrdu3ZI5c+aIv7+/2egva9as0r17dwkKCrL3AgAAAAD3QrgMWITLAIC/ogFzWFiYrF27VqpXr256mNOkSSOvv/66nDhxwt4LAAAAANwH4TIc2tmzZ2X//v1y584deyThEC4DAGIjKipKDhw4IC1btjQTzL6+vlKjRg3ZsGGDvQcAAAAAuAfCZTisgwcPmg/uxYoVkwkTJphNlRIS4TIAILb0Z5KeAP3kk08kZcqU4u3tbTb6W7hwob0HAAAAALg+wmU4pO3bt0ujRo3Ex8fHXHLcu3dvuXHjhl1NGITLAIC40I3+rl27JmPHjpUsWbKYjf70hOjUqVNNhQYAAAAAuDrCZTgU/TC+Zs0aqVWrliRLlkzSpUsnH374oVy6dCnBP6gTLgMA4ipmo7+ZM2dKnjx5TMBcsGBBGTFiRIJfcQMAAAAASY1wGQ5DP4QvWrRIypcvby4v1pC3X79+ZiosMSbACJcBAI9Df0bp3gBaiVGkSBHTw1y4cGEzwQwAAAAAroxwGQ4hIiJCZs2aJSVKlDBTX7lz55YhQ4bIzZs3EyVYVoTLAIAnER4eLqtWrZJq1apJ06ZNJTAw0K4AAAAAgGsiXEaS02mvH374QZ5++mkTLPv7+8u4ceMkNDTU3iNxEC4DAJ5UZGSkXL58WS5cuJBoJ0cBAAAAIKkQLiNJ6WTysGHDJFeuXOYy4pIlS8qPP/4oYWFh9h6Jh3AZABAfNFQmWAYAAADgDgiXkWSuXr0qAwYMMDvse3h4SIUKFeTXX381FRlJgXAZAAAAAAAAiD3CZSSJixcvSq9evSRdunRmYrl27dqydu1aczlxUiFcBgAAAAAAAGKPcBmJ7uTJk9KpUyfx8/MTb29vadSokezYsUOioqLsPZIG4TIAAAAAAAAQe4TLSFSHDx+WNm3aSIoUKSR58uTyxhtvyKFDhyQ6OtreI+kQLgMAAAAAAACxR7iMRKPBcqtWrUyonCpVKunYsaOcPn3aIYJlRbgMAAAAAAAAxB7hMhLFw8Fy6tSp5d133zW9y/fu3bP3SHqEywAAAAAAAEDsES4jwf1ZsHz//n17D8dAuAwAAAAAAADEHuEyEty+ffvktddeM8Fyt27dHDJYVoTLAAAAAAAAQOwRLiPBRUVFyfbt22XBggVy4cIFh6rCeBjhMgAAAAAAABB7hMtIFBowR0REOGywrAiXAQAAAAAAgNgjXAYswmUAAAAAAAAg9giXAYtwGQDgCPRqnzNnzsjGjRvtEQAAAABwTITLgEW4DABIahosb9iwwfw8Klu2rCxevNiuAAAAAIDjIVwGLMJlAEBSCw8Pl4ULF0rOnDnFy8tLSpcuTcAMAAAAwGERLgMW4TIAIKndv39fbt++LdOmTZNs2bKZgLlMmTKybNkyew8AAAAAcByEy4BFuAwAcAR/DJi9vb2lUqVKsmnTJnsPAAAAAHAMhMuARbgMAHAUGjDfunVLJk+eLBkzZpRkyZJJrVq1ZP/+/fYeAAAAAJD0CJcBi3AZAOBINGC+fv26jBo1Svz8/MTX11deeuklOXXqlL0HAAAAACQtwmXAIlwGADgaDZgvX74sgwYNkuTJk0uqVKnk9ddfl4CAAHsPAAAAAEg6hMuARbgMAHBEGjBfvHhR+vTpYzb4S5MmjbRr106Cg4PtPQAAAAAgaRAuAxbhMgDAUd27d09Onz4tXbp0EQ8PD9PD/N5770loaKi9BwAAAAAkPsJlwCJcBgA4Mg2Yjxw5Im+++aYJmLNmzSqffPKJREZG2nsAAAAAQOIiXEasaLejXpLrygiXAQCOLjo6Wvbs2WM29tOAOVeuXPLNN9+Y4BkAAAAAEhvhMv7Whg0bpEGDBtK4cWPZuXOnPep6CJcBAM4gKipKtm7dKlWrVhVPT08pWLCgjBs3zq4CAAAAQOIhXMZf2rVrl7z22muSLFkyyZcvn0yYMMFsLOSKCJcBAM5CqzDWrFkjpUqVMgFz0aJFZdasWXYVAAAAABIH4TL+1OHDh6VVq1bi4+MjmTJlkv79+8uNGzfsqushXAYAOJPw8HBZsmSJ+Pv7i5eXlzz33HPmvwEAAAAgsRAu45EuXLhgdqFPkSKFpEmTRnr27ClXrlxx2allRbgMAHA2d+7ckZ9++kly5swp3t7eUrlyZZeusAIAAADgWAiX8T9u3rwpX375pWTIkMGEy506dTJhsysHy4pwGQDgjG7fvi2TJ082P7eLFCkiixYtsisAAAAAkLAIl/E7ERERMn78eMmTJ4+5xLZp06amHsMddqEnXIYr0teuvq7DwsLMhGNISIgJovRyegCuQU/+Xrt2TZYuXSqrVq3i9Q0AAAAg0RAu4wH9cPrzzz/Ls88+azYHqlWrlqxbt06io6PtPVwb4TIckb4uQ0ND5cyZM7JlyxbzGv3+++/lm2++kU8//VTef/99ad++vbRo0UJefvllqVmzppQrV85ML+pJIn0+Z86c+Xe3/Pnzy8CBA+3vAMAV6HuFbvKnNwAAAABILITLeGDjxo1Sp04dM7FcsmRJmTNnjlt9SCVchiPatWuXvPrqq5IxY0ZJnz696UD38/OTVKlSScqUKU11TfLkyc3Gm8mSJTOdq/oa1hNEHh4e8tRTT/3PLV26dNK3b1/7O8QfDb9ff/11adCggbz99tvy8ccfy6hRo2TBggWyb98+l94QFAAAAAAAd0S4DOPIkSPSqlUrE07lypVLRo4caS6jdyeEy3BEGsq+8sorD4JhDYx9fX0lS5YsUqBAAXMiqGLFiubEkIbQ+jru3Lmz9OrVSwYMGCBDhgyRESNGmJB39OjRMnbsWNPNumPHDvs7xJ+FCxeaTcX0fUQDbw2/NQjXQFyD8axZs0rx4sWlUaNG0qNHDzOBrZfwnzt3zlR3AAAAAAAA50K4DAkICDBBj05C6kTjJ598IsHBwXbVfRAuwxHpa3HNmjXmSoL169fLsWPHJDAw0PSrBgUFyfXr181EsG7EeevWLdOnrL3KWqWhHct37941J4oevmkfa1RUlP0d4o8G4d27dzdheIUKFSRfvnwmXH54glonqjV81olrXdP3HJ3K1gqPqlWrSseOHWXMmDFmCtod34cAAAAAAHAmhMtuToOob7/91vSw6qRhhw4d5Pz586a70d0QLiOuNKQ9ceKEzJ0719RM6JSwnqyJTzE9qjrZq4GwI2+uqd+fBtsacmswrOH35cuXzZURixcvluHDh8u7774rL774ojz99NMmYH54IlsrPXQqW0NnnXTWKejmzZsnyJQ1AAAAAAB4coTLbkyDoClTpphL63WaUKcNdfLQkcOrhES4jL+jE8Jr166VL7/80lQ7+Pv7S4YMGUztgwalupnepk2b7L0RQ99TNCDXqWkNn3XKWieuL1y4IFu3bpUZM2ZI//79zaaEJUqUMFdRxATONWrUkL1799pfCQAAAAAAOBLCZTemk4TlypUzwXKVKlVMuBodHW1X3Q/hMv5IJ/s3b94s33zzjbz00kuSN29eU+OgXcJa7aCvHQ1BdeI2R44c8tZbbzFlGwc6la3vOToBrhUeOvGsofPZs2dl+fLl5s9dO6I1jAYAAAAAAI6HcNlNbdu2zYRlGooVKVJEpk2bZiYL3RnhMjTg3L17t9kAr0mTJmYyWesZdJJWw2SdpNWbdgTrlLJ2lU+fPt1M1l65csWEo+7+OooPMVUg2hetN3es6QEAAAAAwBkQLruhkydPyttvvy0+Pj6SLVs2GTx4sAnV3B3hsnu6evWq/PLLL9KpUycpXry4qbnQzl99fcRMJuu0cvXq1c1ml8uWLTO95FqRoRUPOnXrzhP/AAAAAADAfREuuxndZKtfv36SOnVqc+vVq5dcu3bNrro3wmX3ohvx6eRx/vz5TWeybiQXEybra6NChQrSs2dPWbhwoZw5c8aEyXoSRidqmaR1blqzoScImDIHAAAAAODJEC67GQ3HJkyYIIULF5bWrVvL6dOnCcoswmX3cvz4cWnbtq2pudB6GN3YskOHDjJnzhwTPOuJmNDQUImIiOA14kL0sVy0aJEULFjQvN4//vhj2bBhA1dvAAAAAADwGAiX3YwGK9pheuzYMTl16pTcu3fProBw2b1omLhgwQIzva+PfUBAgNnAT8NkXheuKygoSAYOHGim1L28vMzmjFqFUqJECTPJrhs4atUJAAAAAAD4e4TLbkrDMwK03yNcdi96okVDRJ1Oph7Bfej7nlZi6BUcr732mnm9axWKhs0pUqSQzJkzS6VKleTbb7+VI0eOMLUOAAAAAMBfIFwGLMJlwD1owBwWFma6l7VP+6effpKWLVuaDU41aNaalFSpUknOnDnlpZdekqlTp5rJdgAAAAAA8HuEy4BFuAy4H51M1iqUW7duycmTJ2XixIny4osvmk0dtY87WbJkZsNH7Whu166dLF261Ey7A66ISX0AAAAAcUW4DFiEy4B7i5lo1s0c9+7dK4MGDZKyZcuagFlrM5InT276mStUqCAjRoww9RqAs9NAWfdh0P75YcOG2aMAAAAAEDuEy4BFuOy4NPyIjo42NyAx6HNNN328fPmyrF27Vt577z0zvay1GboRoJ+fn/j7+0vXrl1l27ZtPDfhtC5cuCDdunUzneOlSpWSFStW2BUAAAAA+HuEy4BFuOx4dIp0y5Yt0qlTJ2nVqpVs3brVrgCJQ09sREVFSUhIiJw7d05mzJghderUEV9f3webAL7wwgtm0hlwRrqhqQbKefPmNVP6devWlbNnz9pVAAAAAPhrhMuARbjsOIKCgmTWrFlSv359yZw5swny9HH56quv7D2AxKdBc3h4uFy7dk3Wr18vHTt2lPz580v79u1NbzPgrHRzy7Fjx5qTJdoxrs/tu3fv2lUAAAAA+HOEy4BFuJz0AgMDZcyYMabTVgMOnaLTTdVy5swp7777ruzatcveE0haOs18+/ZtuXjxIt3LcHp64kSfx927dzfvublz56Z/GQAAAECsEC4DFuFy0tGATv/My5QpI6lTpxZvb2/x8fGR0qVLm4BDN5vSIE8DPcCRaCinGwECzk6fx3v27JHatWubyhftX165cqVdBQAAAIBHI1wGLMLlxKe9noMGDZKSJUuaDdJ0ozS9LLtGjRry448/SkBAgLk0m/AOABKe1rssXbpU8uTJY64cefHFF03XOAAAAAD8GcJlwCJcThw66Xny5En57LPPpEiRIpIqVSoTKmu4rBujzZ8/33Taaret3hcAkHi0f1nribTrPn369KYqg6tGAAAAAPwZwmXAIlxOWDGhct++fcXf319SpkxpLr3WbuVGjRrJr7/+ajbyY2M0AEg6+l6tV5V06tTJ9C8XKlTIXEkCAAAAAI9CuAxYhMsJ57fffpNvv/1WihUr9iBU1om4119/3fy537hxg1AZAByEVhFt2bJFnnvuOdOBr1VFp06dsqsAAAAA8F+Ey4BFuBz/dBJ50qRJUr58eVN/ERMqv/HGG7J27Vpz+XVkZKS9NwDAUdy5c0emTZtm3rvTpk0rXbp04f0aAAAAwP8gXAYswuX4pSHEhAkTJFOmTKZTWQOKBg0ayLJly0yoTIcn8L9CQkLkxIkTEhgYaI8ASUPrMc6fPy/dunUz9RhPP/20CZsBAAAA4GGEy05MNz3btm2b6bHFkyNcjn96WbUGylWqVJE5c+aYSWYm34A/t2nTJqlUqZKUK1dOfvjhB3MiBkgqWo+hf8/Q56OeJKxataocO3bMrgIAAAAA4bLT0g98U6ZMkcKFC0utWrVMMIonQ7gc/+7evWv6li9dukSnMvA3QkNDZfz48WbKX4M8rZCpXbu2LFy4kEl/JBmtx9AN/XTz1dSpU0uHDh0kPDzcrgIAAABwd4TLTmrz5s3ywgsvmA7bF198UXbs2GFX8LgIlxOGXlqtNwB/TV8nwcHBMm/ePKlevboJmJMlSybZs2eXt99+Ww4fPmzvCSQefV7qScIePXqYeoz8+fPLxIkT7SoAAAAAd0e47IQuX74sH374ofj6+kq+fPnMpBtVA0+OcBlAUtMgT6f8L1y4IN9//70UK1bMBHr6fq//PmzYMLlx44a9N5A49GqpnTt3msoWPelRuXJlOXTokF0FAAAA4M4Il51MdHS02SQtd+7cJmzo3r276V7GkyNcBuAoNGQOCwuTgwcPygcffGAqMjTUS5cundStW9dsjKmBH5BY9Pk4d+5c81z08/OTt956y1QfAQAAAHBvhMtOZsOGDfL888+bOgytxdCNdqgciB+EywAcjZ5Q1E399P2pXr16D6oycuXKJV27dpUTJ07YewIJLyAgQPr06WP+DlKhQgXZu3evXQEAAADgrgiXnYh+qHvvvffEx8dHChQoYDoP2eQp/hAuA3BUWn108eJFGTNmjPj7+5uqjBQpUsizzz4rY8eOlZCQEHtPIOHotPzRo0dl6NChsm/fPiq5AAAAABAuOwsNkbV/M0eOHCZQ0M7loKAgu4r4QLgMwJHFVGVoqNelSxdJkyaNmWTOlCmTNGvWjClSJAqdptc6DP0nAAAAABAuO4nNmzebnk29FLVBgwZmYx3qMOIX4TIAZ6ChXnBwsCxevFhq1qxpppiTJ08uJUqUMFPMd+7csfcEAAAAACBhES47AQ0R+vbtayaWqcNIOITLAJxJRESEnDp1Svr37y+ZM2c2U8z6z5YtW5qNAAEAAAAASGiEy07gp59+kqJFi5pNnPRS6CtXrtgVxCfC5f/Ur2hYdeTIEXsEgCPTDtxbt27JsmXLpEaNGg+mmLWLecqUKVzhAgAAAABIUITLDu748ePSqlUrM5FWqVIlWbFiBWFBAnH3cFlPWugmTYULF5bWrVvLuXPn7AoAR6cbq+nPi48//lgyZMgg+fPnNz39AAAAAAAkJMJlB6aXPI8YMcJs1qRhwaBBg8xmTkgY7hou6+Tj9u3bpUmTJpI6dWrT612mTBnT5wrAeehr+ebNm7J8+XL57rvv5MaNG3YFAAAAAICEQbjswNatW/fgMufGjRtTVZDA3DFcDgkJkenTp5tL6PVSel9fX7Nh5Nq1azmRATgpnWK+e/cuV7kAAAAAABIc4bKDunbtmvTo0cMEfoUKFZJp06ZJdHS0XUVCcLdw+fz58+YS+qxZs5ralVy5csnnn38uFy9eNOEUAAAAAAAA8FcIlx3UrFmzxN/fX3x8fKR79+4SFBRkV5BQ3CVc1kvnt2zZIq+88oqkTJnS1GDo//e8efMkNDSUaUcAAAAAAADECuGyAzp06JA0b97cTJNWr17dVBQQ+CU8dwiXtQZj6tSpUrJkSXPiIlWqVPLmm2/K3r17Tcc3AAAAAAAAEFuEyw5Ge24HDx4s6dOnl8yZM8uQIUMkPDzcriIhuXq4fO7cOenTp4/5/4upwRg4cKAEBgZSuQIAAAAAAIA4I1x2MNqD27lzZ9O13KJFCzl58qRdQUJz1XA5pgajUaNGpgZDg+Xy5cvLggUL5M6dO0zFAwAAAAAA4LEQLjsYnSANCAiQhQsXyoYNG5goTUSuGC7r1Lt2KZcpU8bUYPj5+UmrVq1k37591GAAAAAAAADgiRAuOyCdJNXgLzIy0h5BYnC1cPnGjRvy3XffSf78+cXb2/tBDcbly5c5aQEAAAAAAIAnRrgMWK4ULl+8eFH69u0rmTJlEk9PTylRooRMnz7dbOhHDQYAAAAAAADiA+EyYLlKuHzgwAFTfaEVGNqvXKtWLVm1apXZLBIAAAAAAACIL4TLgOUK4fLp06fNhpC+vr5m87433nhD9u/fT8UKgMeiG4JGRUXZ/wIej1Yx3b171/4XAAAAAFdCuAxYrhAuawg0e/ZsqVixovTo0UMuXLhAvzKAx3Lu3Dn5/PPPpVevXhIUFGSPArGnP5P0apoOHTpI06ZN5erVq3YFAAAAgKsgXAYsV6nFuH37tgmVg4OD6VcG8Fi0n338+PGSOnVqSZ8+vbRu3dqEzUBcaB3T3LlzzfMoZ86cMmLECLsCAAAAwFUQLgOWq4TLGigTKgN4EvoecvjwYWnRooXpbtcO91dffdUcA2Ir5nnUoEED8zyqVq0aJykAAAAAF0O4DFiuEi4DQHzQSp0TJ07I+++/Lz4+PqbL/YUXXpAdO3bYewB/T6eX58yZY/YByJIli6laAQAAAOA6CJcBi3AZAH5PN/Q7f/68fPbZZ5IqVSoTMletWlVWr15t7wH8vZMnT5oNZj09Pc3PWe1hBgAAAOAaCJcBi3AZAP6XBsyBgYEyZMgQ07+cLFkyKVu2rPz888/2HsBfi4yMlMWLF0vGjBklXbp0Zhqe+iYAAADANRAuAxbhMgA8mgaB169fl++//16yZs0q3t7eUrx4cZkyZQohIWJFN5rt0qWLeHh4SKlSpWTDhg12BQAAAIAzI1wGLMJlAPhzGiLfunVLZsyYIfny5TMbtPn7+8uIESMkKirK3gt4NO3wXrt2reTKlctUrLRt25bnDQAAAOACCJcBi3AZAP6aBsyhoaGmEqNYsWImYM6bN698/fXXEhERYe8FPNrly5fl448/NtPLRYoUkV9//dWuAAAAAHBWhMuARbgMALETFhYmK1askPLly5tN2vLkyUPAjL+l/d1btmwxwbKvr680adJE7ty5Y1cBAAAAOCPCZcAiXAaA2NMgec2aNVK5cmUCZsRacHCwDB48WJ566ikpUKCAqVkBAAAA4LwIlwGLcBkA4kaDZO3RJWBGbGm1yu7du6VChQqSLFkyqV+/vty8edOuAgAAAHA2hMuARbgMAHFHwIy4un37towbN848X/Lnzy/Tpk2zKwAAAACcDeFyItDd0PXSYd24Rj9QwTERLgPA4yFgRlzo9PLevXulUqVK4uPjIw0bNjQbRQIAAABwPoTLiWDPnj3SuHFjyZgxo3zyySdy48YNuwJHktThsm50pOHMxIkTJTAw0B4FAOfwx4C5ePHiMnv2bLsK/J5WYYwaNUo8PDzk6aeflrlz59oVAAAAAM6EcDmBRUdHy8iRIyVTpkySM2dOcxmohohwPEkZLusUl/7+GspkyZJFevXqJdevX7erAOAcYgLml156Sbp27Wo2bwMeRX/u7dq1S8qUKSPJkyc3J+HDwsLsKgAAAABnQbicwA4cOGA+MOlkTpMmTeTIkSN2BY4mKcPlDRs2SO3atcXb21vy5csnY8eONXUqAOBsIiMj5dq1a+amASLwZ/Tkw9ChQ+Wpp56SQoUKyc8//2xXAAAAADgLwuUEpB+qNSTUsDJr1qzm8k+dZIZjSqpweefOnfLKK6+YXfNz5colQ4YMkZCQELsKAM6JYBl/R58jO3bskBIlSkiKFCmkefPm5uQEAAAAAOdBuJyAdEpZPyhp96SGh/v377crcERJES4fOnRIWrVqZS4J1jqMfv36mR5KAADcQVBQkHz55Zdmell7unUDZAAAAADOg3A5AU2YMEFy5Mhh+pY1rKTmwLEldrh8+vRp6dKli/j6+kq6dOmkR48ecvXqVab9AABuQ3/m6cn3d999VxYtWkTvMgAAAOBkCJcTyIkTJ8xEqk4tN2jQwGxaA8eWmOHyb7/9Zjbt8/Pzk1SpUsk777xjjhEsAwDcjZ58v337ttkQEgAAAIBzIVxOIFOmTJE8efJI+vTp5dtvv6VD0AkkVris08kDBgwwzw2tw9CTEKdOnZJ79+7ZewAAAAAAAACOj3A5AZw5c0batWtnppZfeOEF2bZtm12BI0uMcFn7lHVnfO1X1g38XnvtNTl48CDBMgAAAAAAAJwO4XICmDFjhhQoUEDSpEljNqkJDw+3K3BkCR0u6/Ng0qRJZqLdy8tL6tWrJ9u3b5fo6Gh7DwAAAAAAAMB5EC7HswsXLkjHjh1NeFi7dm3ZuHGjXYGjS8hwWSeTdaOiZ5991ky0V6tWTVavXs0mjwAAAAAAAHBahMvxbM6cOfLMM8+YTdr69+8vd+/etStwdAkZLm/atEnq1Kkj3t7eUrJkSZk9ezY93AAAAAAAAHBqhMvx6Pr16/LBBx+YqWWdTF2zZo1dgTNIqHD5yJEj0rp1a/Hx8ZHcuXPLsGHDJCwszK4CAAAAAAAAzolwOR6tXLlSKlWqZKZTe/ToIbdu3bIrcAYJES5funRJevXqJSlTppT06dNLnz595MaNG3YVAAAAAAAAcF6Ey/EkIiLCbN6ndRjFixeXuXPnyv379+0qnEF8h8t6ckF/nUyZMomvr6+89dZbppOb5wUAAAAAAABcAeFyPNm9e7c0bNhQPDw8pG3btiZEhHOJz3BZ+5SnTZsm+fPnNzUp+tzYt2+f2dgPAAAAAAAAcAWEy/Hk+++/l2zZskmOHDlkzJgxhIhOKD7D5aCgILOhY+rUqaVy5crm146KirKrAIA/oyfnQkJCJDo62h4BAAAAADgqwuV4cPbsWVN54OnpKS+//LLs2bPHrsCZxGe4rCcXAgICZM6cObJw4UJTmwIA+GsaKv/444/y0ksvyaxZs+xRAAAAAICjIlyOB8uXL5fy5cuLn5+fDBw4kCDRScV357J2K4eHh/N8AIBY2rt3r9SpU0d8fHykZs2a5r8BAAAAAI6LcDkehIWFyc6dO2XKlCmya9cuexTOJr7DZQBA3Ny5c8f01WfMmNFskNuyZUtTMwQAAAAAcEyEy/FEuyE1ZKZX13kRLgNA0tIrPgIDA6Vfv35mM9SsWbOaf6d/GQAAAAAcE+EyYBEuA0DS0876gwcPStOmTc1eBkWLFqV/GQAAAAAcFOEyYBEuA4Bj0KuAVq9eLSVLlhRvb2+pUaOG7Nu3z64CAAAAABwF4TJgES4DgOMIDQ01exlkyJDB9C+3atVKrl+/blcBAAAAAI6AcBmwCJcBwHFo/3JAQIB89tlnD/qX+/fvT/+yGwsODpYNGzbIiRMn7BEAAAAASY1wGbAIlwHAsWj/8oEDB6RJkyamf7lEiRIyb948uwp3cujQIXn++eclf/78ZpNHAAAAAI6BcBmwCJcBwPFo//KqVaukePHikixZMqlXr56cOXPGrsJdnD17Vtq0aWNOMlSrVk2uXLliVwAAAAAkJcJlwCJcBgDHdPv2bfn+++9N97J2MPfo0cOEznAfYWFhMnv2bFORUqBAAZkzZ45dAQAAAJCUCJcBi3AZAByT9i+fPn1a3nnnHfHw8JCiRYuaoBHuQ58De/bskeeee078/PzkrbfesisAAAAAkhLhMmARLgOA49KN/NavX2/CRW9vb6lbt66cPHnSrsIdBAYGSq9evcwJhnLlysmxY8fsCgAAAICkQrgMWITLAODYQkJCZOLEiZI6dWpJly6dvPfeexIREWFX4eq0CmXp0qWSMmVKyZUrl4wePdquAAAAAEgqhMuARbgMAI5NqxF0Y7euXbua6dXChQvL9OnT7SrcweHDh6V27dqSPHlyee211+jeBgAAAJIY4TJgES4DgOPTeoyNGzeaWgStx9Cg8ejRo3YVru769evy7bffylNPPSUlSpSQrVu32hUAAAAASYFwGbD+LFy+d++e3LlzR+7evWuPAACSkr4nT5kyRdKkSSNp06Y1k8zh4eF2Fa5MfyavW7dOsmTJYm5ffPGFXQEAAACQFAiXAevPwuXdu3fL22+/bcILNg8CgKSn9Rjnz5+X7t27m3C5ffv2cuXKFbsKV6cbOTZt2lS8vLykTp06cvv2bbsCAAAAILERLgPWo8Jl/cD61Vdfmc2jnn76aZk0aZI5DgBIWjrBeubMGVm+fLkEBweb/4Z70I0dJ0yYYKoxtHdbN/kDAAAAkDQIlwHrUeGyfmAtXbq0mY5q1aqVXLhwwRwHACQ9DZQjIyPtf8Fd6OT6tm3bxN/fX9KlS2cm2AEAAAAkDcJlwPpjuHz27Fnp1KmT2TDqueeekwULFjAZBwCAA9CTvZ07dxYPDw+pXLmyXLp0ya4AAAAASEyEy7Gg1Qi3bt0ykzJwXQ+Hy7oT/cSJEyVbtmxmw6g+ffqYy3ABAEDS0w0c58+fL8mSJZP8+fPL9OnT7QoAAACAxES4HAuTJ0+W8uXLmw3dDh48aI/C1TwcLjdv3lzq168vnp6eUq9ePdmzZ4+9FwAAcAT79+83fz9LmTKlqa5iCAAAAABIfITLf0N3n9dQWasRXnnlFdm3b59dgauJCZczZcokefPmNR9W9Z9jx46VqKgoey8AAOAI9O9on376qanGKFOmjBw6dMiuAAAAAEgshMt/Y+3atVKtWjVz2WXfvn3lzp07dgWuJiZcTp48uaRIkcI85m+99ZYEBgbaewAAAEcRHR1tfnanTp1acubMKaNGjbIrAAAAABIL4fLf0KlVrUnQHclnzpzJJZcuLCZc1gkovem/L1myhE38AABwUIcPH5bnn39efH19pVmzZvw9DQAAAEhkhMt/ISgoSN577z3Tu/vyyy/Tu+vili9fLmXLlpWnnnpK0qVLJ5999pncvXvXrgIAAEdz9epV6d+/vzkprD/Djx8/blcAAAAAJAbC5b+wdetWqVu3rgmXe/bsKSEhIXYFrmj27NmSL18+Ey6ziR8AAI5P90RYunSp+Pn5mc391q9fb1cAAAAAJAbC5b8wefJkyZMnj7lNnDiRSy1dWEREhAwePFh8fHxM13KPHj3YxA8AACcQHBwsO3bsMBv8hYeH26MAAAAAEgPh8p/QKeWPPvpIvLy8TJff5s2b7Qpc0bZt2+TFF198UIkxaNAguwIAAByZnvzXzf0AAAAAJD7C5T+xd+9eadSokQkb3333Xbl+/bpdgasJDQ2Vr7/+WlKlSmUeb93A8Z///KddBQAAAAAAAPAohMt/Qvt3CxcubILG7777jkoMF7Z27VqpUqWK2QyIcBkAAAAAAACIHcLlR9D+Xd15XPt3NXRctWqVXYGr0Z7GTz/9VJInT27qMDJnzky4DAAAAAAAAMQC4fIjHD16VJo1a2amWNu3by+XLl2yK3A1S5YskVKlSplN/IoVKyYlS5YkXAYAAAAAAABigXD5EX755Rd59tlnzSTrkCFD5N69e3YFriQgIEDef/998fb2lrJly5pu7XLlyhEuAwAAAAAAALFAuPwHutt4zOZuGjguXrzYrsDVHD9+XDp06CCZMmWSHj16yPz58+Uf//gH4TJcTlRUlAQFBcmhQ4dk9erVMm/ePJk5c6ZMnTrVnEw7d+6cvScAAAAAAEDsES7/wdmzZ6Vt27Zmc7c333xTTp06ZVfgajRwu3btmuzZs8cEzStWrCBchlMKDw+XEydOmKB45MiR0rdvX3nrrbekQYMGUqZMGcmXL59kzZrVdIpnyJDBXJWht7Rp00qlSpXk119/tb8S4LouX74so0aNks6dO8uBAwfsUQAAAADAkyBc/gMNGCtUqCApUqSQgQMHmgASrk2n1fX2r3/9i3AZDi8yMtKcBNMg+fPPP5dXX31VihQpIlmyZJH06dNLmjRpzJUXvr6+ZlNSLy8vc7JMO+T/eNPj2jm+YMEC+6vHj/v378utW7fk6tWr9giQtPQ5qVP7efPmlWzZskm/fv3sCgAAAADgSRAu/8GIESPMZJ9u7vbTTz/Zo3AHhMtwdOvXr5datWqZ56gGyX5+fiZA9vT0NGGx/lPD5aeffloqV64sr732mnTp0kUGDBgg33//vSxcuFC2b99ursi4ePGi2axUA+CwsDD7O8SPGzdumNdQrly5pGLFivLOO+/IxIkTzRUCdNgjqZw8eVJatWplXifVq1eXY8eO2RUAAAAAwOMiXH6IXjKrQYxO8zVu3Nj0k8J9EC7D0Wm4rFdWaJCsE8n6XK1du7Z8+OGHMm3aNNm9e7fZqPLKlSumY1lDXp0gDg0Nlbt370pERISZ0tcpzoSk4XX79u3Ne6l+n3oliFZw5MiRQ2rWrClfffWV+V71+wESiz7ftFtfn4s6vTxo0CC7AgAAAAB4XITLD9m6dau88MILJgzp06ePCWPgPgiX4eh02njGjBkyYcIEM4GsQfL169fl9u3bZvpYg2NHcOfOHdmxY4cMGTJEWrZsKcWLFzcBs4bN3t7eZuJaX2flypWTjz76SNauXSshISH2q4GEo9PKzZo1M9PLehXAmTNn7AoAAAAA4HEQLj9k1qxZUqhQIcmZM6eMHz8+waf74FgIl+HoNDzWEFlPfDlKkPwo+t6pffU6Ma3T03pViE4q6+uqbt26ptIjZvpa+6EzZcokJUqUkPfee082btxoeqWBhKCbX86ePds873SSXk+AAAAAAAAeH+HyQ3T3eN0gq2fPnrJlyxZ7FO6CcBlIOBqG60Sz1nUcOXJEJk2aJE2bNpXs2bM/6ItOmTKl+e969eqZCW29LxDfDh8+bDbC1JMbderUMVcEAAAAAAAeD+HyQ3TSTi/N1kvMmZxzP4TLQOLQTf10Alunmk+fPi0LFiyQdu3aSe7cuU11RrJkySRdunRSqlQpc8JPw2iuJEF80cn/6dOni6+vr3nOjRw50q4AAAAAAOKKcBmwCJeBxKehsW60dvPmTRMiDx8+3HQx61Sp3rSfOX/+/GbTQiZMER/0OadXKjVo0MB0gOs/r127ZlcBAAAAAHFBuAxYhMuITzqVqxvuIfZ0olmrMzRE/uWXX6Rx48ZmglknmXVjQDb9Q3zRPvAffvjBnMDQvRZ0zwUAAAAAQNwRLgMW4TLiQ3BwsOkLrl69urRq1UrOnz9vVxBbMdPM169fl+3bt5tp5vnz51ONgXijzyV9bpUvX15SpEhhXqvUYQEAAABA3BEuAxbhMp6ETkIuWbJE6tev/2Da1t/fXyZPnmzvgcehXfg6zRweHm6PAPHj6tWrMmDAANPzXbp0aVm/fr1dAQAAAADEFuEyYBEu43HohO2mTZukRYsWkiVLFvHx8THBsj6XdNMwrccA4Hi0hmXVqlWSJ08eyZAhg/Tu3duuwFXcunXLnPQbNGiQqdoBAAAAEP8IlwGLcBlxoZfVHz16VN59913JmTOnJE+eXDw9PaVo0aIyYsQIU4cRFhZGlQPgwM6ePSsdOnQwr12tsjl58qRdgSs4fvy4NGzYUDJnzizt27e3RwEAAADEJ8JlwCJcRmzdvn1bfvzxRylXrpykTJnSXFafN29e6devnxw7dszUOBAqA45Pe5bnzZsnqVKlkty5c8vIkSPtClzBpUuX5P333zfv0VWqVDE97gAAAADiF+EyYBEuIzY0PO7ataupwPD29jYTce+8847s3r1bQkJCzKX2AJzHgQMHTFe6vp51yvXmzZt2Bc5OT/RpPdFTTz1lripZu3atXQEAAAAQXwiXAYtwGX9Fg+O5c+dKhQoVJEWKFOLl5WUml2fPnm3CqOjoaHtPAM5Er0QYPXq0mW4tUqSIzJ8/367A2ekVJNqJrycDs2fPLkOHDrUrAAAAAOIL4TJgES7jz2gPa/fu3c1zQ6cbM2bMKJ06dZLDhw9LeHi4vRcAZ6QB5JYtW6RUqVKmHuPtt9/mZJELOXLkiDz//POmwuiNN96wRwEAAADEF8JlwCJcxh/dvXtXfvnlF6lcubIJJnRauXTp0jJjxgy5ceMGFRiAiwgMDJSPP/7YTC/r1Ql79+61K3B2+tj27t3bPLYVK1aUy5cv2xUAAAAA8YFwGS5p8+bN0rNnTxk1apScPXvWHv1rhMt4WFBQkAwfPlzy5MljppUzZMggHTp0MP2sYWFh9l5wNnpCQKdS2XARD9PnxOLFiyVTpkxmgnnRokV2Bc5O36+1vkh7l5955hlZtWqVXQEAAAAQHwiX4XI0JPjuu+9MGKgTaLENCQiXEUNPSOjJCX0OeXp6SokSJWTy5MkSHBzM5fJOTjde1A0Zx40bJxEREfYoIHL16lVZv369nDt3jhNILiSmd1lPHOTMmdP8/QAAAABA/CFchss5deqUtGvXzlwC26RJEzlx4oRd+WuEy1ChoaEycuRISZ06tSRLlkzq1KljAifCJud38eJFc9JAK05y584tn376qTlhACidao+KimKq3QUdPHjQVGKkTZvWnFwCAAAAEH8Il+FydFK5ZMmS5kPkF198EetJU8JlKA2W9uzZI23atJFWrVqZzaAiIyPtKpyZPo4rV640VzToRLpuzKibt505c8beA4Ar0mn0tm3bmt78unXrcgUKAAAAEI8Il+FSdAO2QYMGiY+Pj5QrV06WLFliV/4e4TJi6PSidi7rZfKEEK5FqzC2bdsmjRs3NkFTqlSp5KWXXjLHALim69evyzfffGN6l8uUKSOnT5+2KwAAAACeFOEyXMr+/ftNaKSVGDp5Gpdd4QmX8UdcHu+a9OTBsWPHpHv37pIiRQpzMqp8+fIyf/58HnPABelVCz///LP5u0GhQoVk2bJldgUAAADAkyJchkv58ccfJV++fJItWzYZNmyY6dCMLcJlwH3oRPqlS5fk22+/lcyZM4u3t7c899xzMmvWLAJmwAVt2bLF/N0ge/bs5u8HAAAAAOIH4TJchm7M1adPH3Ope40aNWTDhg12JXYIlwH3oiHyzZs3ZcqUKVKgQAETMJcqVYqAGXBBhw4dkmrVqpnNWt955x17FAAAAMCTcttwefr06dKiRQuZMGGCBAQE2KNwZlu3bjUb9Wi4rLvB3759267EDuEy4H40RA4JCZGZM2dKwYIFCZgBF3X+/Hnp0KGD2cyzdu3abNQKAAAAxBO3DJd1Yxft2kyePLm0bt1aTpw4YVfgzKZOnWoud82fP7/88MMPcQ6GCJcB9xUaGkrADLgwvbpJf7brpn6lS5eW48eP2xUAAAAAT8Itw2W9NFI3fdMPGBoy62XRcG43btyQvn37momkOnXqyLZt2+xK7BEuA+6NgBlwXbqR5+LFi82mfv7+/rJo0SK7AgAAAOBJuGW4vGLFCqlYsaLp3dPNnAgOnN+uXbukYcOGJlzu3Lmz3Lp1y67EHuEyAAJmwHVt375dcuXKZTb207//AQAAAHhybhkuT548WfLmzStPP/20zJgxwx6FM5szZ47ZkCtHjhwyatSoxwqCCJcBqD8GzGXLlpWff/7ZrgJwVkeOHDF9y35+fvLWW2/ZowAAAACehNuFyxo6fvnll6ZvuXr16rJ27Vq7Amd1584d+eKLL0wIVLVq1cd+TAmXAcSICZj1pJW+t9SqVeux6nYAOI6LFy9Kly5dzFVONWvWlPDwcLsCAAAA4HG5Xbh89epV88FC+5ZbtGjBhi4uQDu0mzVrZh7Tdu3amcf4cRAuA3jY7du3zeagmTNnFl9fX2natKmcPXvWrgJwNnrSaM2aNaYSY926daaHGQAAAMCTcbtwef/+/fLKK6+YILJHjx4SEhJiV+CsfvnlFylevLhkypTJfGC8d++eXYkbwmUAD9MrXa5cuSIDBw404XLatGnNyUk2gQWck76mIyIiTMgcGRlpjwIAAAB4Em4XLi9fvlwqVKhgQoKhQ4eySZOT0w+HgwcPNsGPBsNLliyxK3FHuAzgj/RnxOnTp6Vr166mImP06NFMOwIAAAAAYLlduKwdmrqRn4YE06ZNs0fhrE6dOiVt27Y1k+hvvPGGnD9/3q7EHeGy69AeTZ1MA+JDdHS0XLhwQXbt2sXzCgAAAACAh7hduDxixAjJkCGDCRGXLl1qj8JZrVixQsqVKyepU6eWzz//3IRAj4tw2TXcunVLRo0aZepvVq1aZY8CT0brdp7k/QUAAAAAAFfkVuGyXsr82WefmV3C69WrJzt27LArcFbff/+9pE+f3nQuz5071x59PITLzk9f43PmzDFXJqRIkULefvvtx97gEQAAAAAAAH/NrcJlDZk6d+5sKhRatWplejThvDRIXLRokTz//PPSunVr2bt3r115PITLzm/79u1Sv359cwKpYsWKsnLlSqZNAQAAAAAAEohbhctHjhyR119/3YTL77//vrl8Hs5LN9oKCwuTa9euSXBw8BPv/E647NwCAwOlb9++ZnPHfPnymWqMiIgIuwoAj+/s2bPSv39/ad++/RNtHAsAAAAArsatwuWNGzdKrVq1xMfHRwYOHGjCSSAG4bLz0hMLullnrly5TB1Gx44dzUkHAIgPWqOl/f7Zs2eXfv362aMAAAAAALcKl3/++Wd59tlnJWvWrDJu3Dh7FPgPwmXntXXrVqlTp46pw6hZs6Zs27aNk0cA4s3x48elWbNm4u3tLa+99pqpZQIAAAAAuFm4PGHCBMmZM6cUK1ZM5s2bZ48C/0G47JwuXbokvXr1kuTJk5uN/MaOHfvEFSkA8LCgoCD56quvTK2W9rlrzRYAAAAAwM3C5a+//tpcMl+9enVZu3atPQr8B+Gy89FO5SlTpphL1VOlSiVdunSR69ev21UAiB+6Megvv/xiOt39/f1l9uzZdgUAAAAA3JvbhMshISHSs2dP8fDwMJe0Hjx40K4A/0G47Hy0R11rMLQO4/nnn5edO3dShwEgQWj9TsmSJSVjxozSp08fexQAAAAA3JvbhMvnz5+Xtm3bmktadbOvgIAAuwL8B+GycwkMDDQBj27QqZOEWntDHQaAhHLy5Elp2bKleHl5ScOGDSUsLMyuAAAAAID7cptweffu3fLyyy+byeW+ffuay+mBhxEuO5eFCxdKoUKFJGXKlKYO48aNG3YFAOJfcHCwDBkyxJykLl++vOzbt8+uAAAAAID7cptwWTfjWbp0qXzzzTeyZs0aexT4L8Jl53H27FkTKOsEYYUKFWTlypXUYQBIUPfu3ZNff/3V7N2gV0vMmjXLrgAAAACA+3KbcFk/FIaHh0toaChTy3gkwmXnoK9l3UwrV65ckjZtWvnoo4+4PB1AotiyZYsULVrU/Jz4/PPP7VEAAAAAcF9uEy4Df4dw2TkcPXpUWrVqZTbx0838tm3bZlcAIGEdPnzY9C0nT55c3nzzTXsUAAAAANwX4TJgES47Pt2wb9KkSZIpUybJkiWLDBw4kE38ACSaS5cuSc+ePc3+DbVq1ZJr167ZFQAAAABwT4TLgEW47Pj27Nkjr776qgl26tevb6YIAUdHH7jr0Gqt8ePHm039SpcuLVu3brUrAAAAAOCeCJcBi3DZsd29e1dGjRolqVOnlty5c8uIESMkKirKrgKO5datW/LTTz/Je++9ZzachGvQEwXLli0z70MFCxaUadOm2RUAAAAAcE+Ey4BFuOzYtFv5xRdfNF3LTZo0kXPnztkVwPFs3rxZKlSoYDadfOedd9hI1oXoe1HJkiUlc+bM8umnn9qjcEYBAQHmpOXIkSO5EgYAAAB4TITLgEW47NjOnj0rAwYMkHr16skPP/wg9+7dsyuA4wkMDJSPP/7YVLiUL19eNm7caFfg7HRT0caNG4uPj480a9aM2hMnprUm2bJlk2LFisns2bPtUQAAAABxQbgMWITLji06Olpu375tNtDS3lPAkenJj8WLF0uePHkkY8aM8sknn9gVODuddu3Tp4/pXa5Ro4Y5kQDntGPHDsmVK5fkyJHDTC8DAAAAiDvCZcAiXAYQn06ePClvvfWWqXKpU6eOnDhxwq7AmWn/+6RJk0y4XKpUKdmwYYNdgbPZt2+fPPvss6bi5LPPPrNHAQAAAMQF4TJgES4DiE/aszxz5kzx8/OTvHnzypgxY+wKnJnWYKxYsULSp08vBQoUkMmTJ9sVOJsjR45I7dq1JU2aNNK5c2d7FAAAAEBcEC4DFuEygPi2Z88esxGlt7e3NG3aVG7cuGFX4My0q7dEiRLm58UXX3xhj8LZnD592vRm+/r6yuuvv26PAgAAAIgLwmU4Db18deLEibJq1Sq5evWqPRp/CJcBxDftCR8+fLipxtAw8pdffrErcGYHDx40m4vqVHrHjh3tUTibixcvSpcuXczrUyeY2ZwRAAAAiDvCZTiNsWPHSpYsWcwU4Lp16+zR+EO4DCC+aVil71fazZsqVSoTZEVFRdlVOKubN2/Kpk2bzMlODSjhnPREdb9+/Ux/dsWKFbmyAAAAAHgMhMtwCnfu3DEfAD08PKRBgwayd+9euxJ/CJcBJISAgADp3bu3ef+qVKmSbNu2za7AWelJg8jISHNj2tV56UmCkSNHmnC5dOnScurUKbsCAAAAILYIl+EUdDJMN9vRD4CtWrWS3377za7EH8JlAAkhOjpaFi1aJNmzZ5ccOXLI4MGD7QqApHT37l358ccfzd8tihcvLtu3b7crAAAAAGKLcBlOYf/+/dK4cWMz+de9e3cJDw+3K/GHcBlAQjlw4IA0atTIbOzXvHlzE2oBSFr37t2TFStWmHC5UKFCsmTJErsCAAAAILYIl+EUtLO0WrVqkiZNGhk4cKA9Gr8IlwEklOvXr8ugQYNMiKXVGExIAo5Bu7NTp04tefPmlalTp9qjAAAAAGKLcBlOYcGCBVKkSBHJkyePfP/99/Zo/CJcBpBQdEJy4cKFkjlzZhNijR492q4ASEo7d+40r0mtreFnPwAAABB3hMtwChMmTDChTKlSpUzQnBAIlwEkpN27d0udOnUkefLk0q5dO4mKirIrAJKK1m7pZn4ZM2aUvn372qMAAAAAYotwGQ5PN8P69ttvxcvLS2rVqmUuYU0IhMsAElJgYKB8/PHHphqjRo0acujQIbsCIKkcOXJEateuLWnTppV3333XHgUAAAAQWy4fLp84ccJcirxmzRq5fPmyPQpncvPmTfnoo49MIPPaa6/J0aNH7Ur8IlwGkJD0RNncuXPFz89P/P39ZcqUKXYFQFLRvye+/PLL5nX51ltv2aMAAAAAYsvlw+VJkyZJ4cKFpWbNmmZHcDifixcvSufOnU243KZNGwkICLAr8YtwGUBC27p1q9nQL1WqVNK1a1e5f/++XQGQFE6fPi3NmjUTX19fad68uT0KAAAAILZcPlweOXKkZMiQQSpUqEC47KSOHTsmb775pgmXu3TpIqGhoXYlfhEuA0hoFy5ckO7du4uHh4fUrVtXzpw5Y1cAJIVz586ZDvRkyZJJw4YN7VEAAAAAseXy4fLgwYPNpY7Vq1eXtWvX2qNwJrt27TKXrHp7e5t6jISa9CNcBpDQIiMjZdq0aSbIKlmypCxatMiuAEgKenWUnrj29PSU559/3h4FAAAAEFsuHy5/+eWX5kO87tC/ZcsWexTOZN26debkQJo0aczjmVAIlwEkBj1hppUYQ4cONVdmAEg6WrXVs2dPc3VU1apVTTc6AAAAgNhz6XBZJ1z79etnPjC89NJL5gM9nM/ixYulVKlSkj17dhk1apQ9Gv8IlwEkBp1e1o1KteInKirKHgWQFK5evfrg74rah3779m27AgAAACA2XDpcDg8PNzUK+oHhtddek4MHD9oVOJPZs2dLgQIFxN/f31xOnlAIl5NeYGCgOQl0+fJlNjoDACS4GzduyIQJE8xJ7Pbt25v/BgAAABB7Lh0u37p1Sz744AMTLrdo0UKOHz9uV+BM9ENf5syZ5bnnnpNffvnFHo1/hMtJL+ZEgvZeLlu2zB4FACBh3Lt3z1xFoCc1g4ODzX8DAAAAiD2XDpevXbtmNmnRcLlNmzZmR3A4nxEjRoivr6/pQlyzZo09Gv8Il5OWfrj/5ptvxMPDQ2rWrCnbtm2zKwAAAAAAAHBELh0u//bbb+YSRw2XO3bsaDZtgXOJiIiQgQMHmsCxXr16CdqbTbictPTkT8zJoNdff91UZAAAAAAAAMBxuXS4fPr0aWnVqpUJq9599125fv26XYGz0EtUe/XqZR7DJk2ayIkTJ+xK/CNcTlo7d+6U+vXri4+Pj7z33ntcmgwAAAAAAODgXDpcPnr0qDRr1swEkz169JCQkBC7Ameh0+Z6YkAfw9atW8ulS5fsSvwjXE5aS5YskWLFikn27Nn58wcAAAAAAHACLh0u79u3T1555RUTTPbt21ciIyPtCpyFbrAzaNAgKVGihHzyySdmkjmhEC4nralTp0ratGmlZMmSMn/+fHsUAAAAAAAAjsqlw+UdO3aYy+y1r7d///5y//59uwJnER0dLbdv3zYh882bNxO0KoFwOeno4zxq1CjzWtWNGzdu3GhXAMCxaV3TZ599JkOHDjVXTAEAAACAO3HpcFkDqtq1a0vy5Mnlq6++skeBRyNcTjp6AuGLL74wVxnoxo0HDx60KwDg2PRnR7p06aR06dKyePFiexQAAAAA3INLh8urV682U5CpU6c2E0XAXyFcTjqBgYGmF13D5caNG8vFixftCgA4Nv3Z4efnJ/7+/jJ79mx7FAAAAADcg0uHyytXrpTKlSubiaJhw4bZo8CjES4nndOnT0v79u0fbNyok8wA4AzWrFkjWbJkkfz588vkyZPtUQAAAABwDy4dLq9YsUIqVqwo6dOnlxEjRtijwKMRLiedAwcOSJMmTcTT01M6d+5MPzoAp7FhwwbJkyePuY0ePdoeBQAAAAD34NLh8vLly6VChQqSIUMGGTlypD0KPBrhctLZunWr1KlTx1xa3qdPH3sUABzfli1bpHDhwpIjRw4ZMmSIPQoAAAAA7sGlw+Vly5ZJ+fLlJWPGjDJq1Ch7FHg0wuWko/3o+mevl5Z//fXX9igAOL7t27dLqVKlzM8O3ZgUAAAAANyJS4fLS5cuNYFVpkyZ5LvvvrNHgUcjXE46ixYtkkKFCkm+fPlk3Lhx9igAOL7du3dLpUqVzN81+vbta48CAAAAgHtw+cll7VzOmjWrjBkzxh4FHo1wOenMmjXLvE6LFi1q/h0AnMX+/fuldu3aZvPg999/3x4FAAAAAPfg0uFyWFiYXLlyRS5duiQhISH2KPBohMtJZ/LkyaZvuUyZMrJ48WJ7FAAc38GDB+WFF16QNGnSyLvvvmuPAgAAAIB7cOlwGYgLwuWkM2HCBPH19TV//itWrLBHAcDxabhcr149Ey536dLFHgUAAAAA90C4DFiEy0ln/Pjx4uPjIxUqVJBVq1bZowDg+A4dOiQNGjSQ1KlTS+fOne1ROJMjR46Yx7BcuXJsAA0AAADEEeEyYBEuJx3dxM/Ly8tsirVmzRp7FHBt9+/fN7VNv/76q6xbt06uXbtmV+BMDh8+LC+99JKp9nnnnXfsUTiTvXv3SokSJczP/y+++MIeBQAAABAbhMuARbicdMaOHSseHh5SpUoVE7IB7uDevXsyf/58yZQpk9SqVUs2bNhgV+BMNFxu2LChCZc7dOhgj8KZaLhcrFgx8/N/4MCB9igAAACA2CBcBizC5aQzZswYeeqpp6Rq1aoEbHAbOrk8e/Zsc2JFL8dnat85PRwud+zY0R6FM9mzZ48UKVLE/PwfNGiQPQoAAAAgNgiXAYtwOencvHlTTp48aSoCwsLC7FHAtenk8syZM82JlbJlyxIuOykNl19++WXCZSem4fIzzzwjWbNmla+++soeBQAAABAbhMuARbictHSKE3AnUVFRMm3aNBMu6+Ty+vXr7QqcCZ3Lzm/37t1SqFAhEy5/88039igAAACA2CBcBizCZQCJKTIyUqZMmWLCZX3v2bRpk12BMzl06JDUr19fUqdOLZ07d7ZH4Uw0XPb395ds2bLJt99+a48CAAAAiA3CZcAiXAaQmMLDw2XChAkmXK5QoYJs3brVrsCZHDx4UF588UVJkyaNdO3a1R6FM9m1a5cULFjQhMtDhgyxRwEAAADEBuEyYBEuA0hMd+7ckdGjR5twuXLlymZ6Es5Hw+UXXnjBhMvvvvuuPQpnsnPnTsmXL59kz56dn/8AAABAHBEuAxbhMoDEFBQUJAMHDjThcu3ateX06dN2Bc5k3759UqNGDUmfPr306NHDHoUz2bZtm5lazpUrl4wdO9YeBQAAABAbhMtwaDt27JBOnTrJq6++KvPmzbNHEwbhMoDEdPHiRfnwww9NuNygQQMJDg62K3AmWqlQvnx5yZw5s3z66af2KJzJ5s2bJW3atJI3b16ZOnWqPQoAAAAgNgiX4dA08K1YsaLkyJFDRo4caY8mDMJlAInp5MmT0q5dO/Hw8JCmTZvKvXv37Aqcyfbt26VkyZKSNWtWGTRokD0KZ7Jhwwbx8fGRAgUKyNy5c+1RAAAAALFBuAyHtmbNGqlSpYpkyJBBvvnmG3s0YRAuA0hMBw4ckEaNGkmKFCmkQ4cO9iicjU69+vv7S86cOWXYsGH2KJzF/fv3ZdWqVeYKAn0cFy9ebFcAAAAAxAbhMhzapk2bTBepn5+fDBgwwB5NGITLABKTTrxWq1bNdPX27t3bHoWzWb9+venq1UqFcePG2aNwFlFRUfLrr7+acLlIkSLmpDYAAACA2CNchkPTzuX69euby1U//vhjezRhEC4DSEzr1q2T4sWLS/bs2RP8ygwknNWrV0umTJmkYMGC9PU6obCwMJkzZ44Jl/X1qJv7AQAAAIg9wmU4NN2FXzfz005S3YVfL19NKITLABLTsmXLTJVC/vz5Zfz48fYonM2KFSskZcqUUqhQIfnpp5/sUTiL0NBQmTx5sgmXn332WVNXAwAAACD2CJfh0I4cOSLNmzc3H/ree+89CQ8Ptyvxj3AZQGL6+eefJVWqVFK0aFFCSSe2ZMkS8fT0NI8jfb3O59atWzJmzBjz94zSpUvLqVOn7AoAAACA2CBchkPTD3lt2rQxH/o6depkPgQmFMJlAIlFe16nTZtmrsooU6aMqVaA84mOjpYFCxaYn1ElS5bkcXRCwcHBMmTIEPMYlitXTgICAuwKAAAAgNggXIZDO3/+vHTs2NF86Hvrrbfk6tWrdiX+ES4DSCxBQUHy5Zdfmve2GjVqyNGjR+0KnIleTTNz5kzzOOrU65YtW+wKnMW1a9fMhsH6GFasWFFu3rxpVwAAAADEhsuHy6tWrZLu3bvLsGHD5OTJk/YonMXly5dNHYZ+6GvZsqVcvHjRrsQ/wmUAiUV/HrVr185MLr/22mty9+5duwJnon29P/zwg/kZpVOvuk8AnEtgYKB89NFH5jGsUqWKREZG2hUAAAAAseHy4bKGyrqL+wsvvCAbN260R+EstAajb9++5kOfbuynHcwJhXAZQGLZvn27VKtWTdKmTSsffPBBgm5WioRz/fp1+fbbbx8Ek2fPnrUrcBa//fabdOvWzZzoqVWrlj0KAAAAILZcPlwePny4pEuXTipVqiQrV660R+EstM/y66+/Nh/66tSpI9u2bbMr8Y9wGUBiWb58ueTKlUvy5s0r3333nT0KZ6P9vL179zbhcu3atRN0XwAkjJCQEFmzZo0MHjzYVJwAAAAAiBuXD5d1B3ANC8uWLcsu7k5Kgxc/Pz9zgkAD4IRCuAwgMcRs5ufl5SXPPfecLFu2zK7A2Zw5c0bat28vnp6e0rBhQybQnZA+ZhERESZkpp4GAAAAiDuXD5cnTpxopsNKlChhdnSH85kyZYpkz57d7MQ/b948ezT+ES4DSAy6gdjnn39upl31Mnz2A3BeuhGjVjalSJFC2rRpY48CAAAAgPtw+XB5+vTpUrBgQSlcuLDMmjXLHoUz0UBZH7/8+fObkwUJhXDZsTABCFel05Fa8dO/f39zZYZOTcI5aS3G6NGjpUOHDmZjPwAAAABwNy4fLv/0009SrFgxyZ07t0yaNMkehTPRblLdhT9Llixmg8aEQric9IKCgszrVLtLP/nkEwkLC7MrgOvQEyeRkZFy+/ZtCQ0NtUfhjHRfAH0Mb9y4wWMJAAAAwC25fLiswWT58uUlffr0MmLECHsUzmTjxo0mbEyVKpW5lDyhEC4nPa0L+PTTTyVZsmSmv/TEiRN2BQAAAAAAAI7G5cPlTZs2yfPPP2/CqoEDB9qjcCZ79+41nZYeHh7So0cPMymWEAiXk55udDZ27FhJnjy52ehs4cKFdgUAAAAAAACOxuXD5f3795tgUjdO6t27N5fZOyHd7Eo3StLH8J133pGbN2/alfhFuOwYli1bZjbgzJAhg3zxxRf2KAAAAAAAAByNy4fLZ8+eldatW5tgskuXLnL16lW7AmcRGBgo3bp1M4/hm2++KRcuXLAr8Ytw2TEcOXLEPM6enp7yxhtvyOXLl+0KAAAAAAAAHInLh8u6QVjXrl1NMNmqVSs5ffq0XYGz0E2StIdXH0Pt4T1w4IBdiV+Ey47hzp07MnjwYPHy8pIKFSrIqlWr7AoAAAAAAAAcicuHyxEREdKnTx8TTDZq1Ej27dtnV+As7t+/bzZm1L7luXPnJtj0OeGyY9DH++eff5aCBQtKtmzZZOjQoXYFAAAAAAAAjsTlw2UNqgYNGmQ2CKtVq5Zs3LjRrsCZaFe2di3fvXtX7t27Z4/GL8JlxxGziaNOL7dr105u3bplVwAAAAAAAOAoXD5cVqNGjZKMGTNKuXLlZOnSpfYo8HuEy45DTyQMGDBAPDw8pEaNGrJlyxa7AgAAAAAAAEfhFuHylClTJG/evFKkSBGZM2eOPQr8HuGy49ArDmbPni05cuQwr90xY8bYFQAAAAAAADgKtwiX58+fL8WLF5dcuXLJhAkT7FHg9wiXHcv27dvlxRdflGTJkkmnTp1MJQoAAAAAAAAch1uEyxoaVqxYUdKlSyfDhg2zR4HfI1x2LNeuXZO+ffuazTirVatGXzoAAAAAAICDcYtweevWrVK3bl2zOdgXX3xhjwK/R7jsWHTjxp9++kny5csnmTJlkoEDB5q6DAAAAAAAADgGtwiXDx06JI0bNzYTkL169ZI7d+7YFeC/CJcdz7Fjx6R169bi6ekpjRo1kuPHj9sVAAAAAAAAJDW3CJfPnz8vbdu2NeHyO++8I5cvX7YrwH8RLjueyMhIGT9+vKRNm1YKFCggP/zwg10BAAAAAABAUnOLcPnWrVvy3XffySuvvGLCqaCgILsC/BfhsmPatm2bvPDCC+Lt7W1OEl2/ft2uAAAAAAAAICm5RbisPa0hISFmgzD9p3a5An9EuOyY9OTQoEGDTLhcunRpWbRokV0BAAAAAABAUnKLcBmIDcJlx6Qnh5YvXy7PPfecpEqVSnr06CERERF2FQCAuNMTl2vXrpWlS5fKmTNn7FEAAAAAcUW4DFiEy47rt99+k/fff188PDykdu3apioDAIDHpRvEal1avnz5zGbPAAAAAB4P4TJgES47rujoaJk1a5bkzJnT3IYPH25XAMekk5CjR4+WadOmmUomAI5lz5498swzz0iWLFnkiy++sEcBAAAAxBXhMmARLjs2nTIbOnSofP/993L16lV7FHA8WtuiJ0OyZs0qhQsXllGjRtkVuAK9kmLevHmyd+9euXPnjj0KZ7Np0ybx8/OTvHnzypQpU+xRAAAAAHFFuAxYhMuOLSoqymzIqWGO9jADjurgwYPSuHFj8fT0lJo1a8qRI0fsCpydXkWxePFiyZw5s1SpUkVWrFhhV+BM9ATQzz//bKqWdHp5zZo1dgUAAABAXBEuAxbhMoAnpSc/fvjhBzMRqRUugwcPNidG4Bpu3Lghw4YNk6eeekrKly9vTiTA+dy8eVNGjBhhHsfSpUvLyZMn7QoAAACAuCJcBizCZQBPateuXfL888+Ll5eXNGjQQM6fP29X4ArOnTsnnTt3NhOvL7zwArUYTiogIEB69OhhwmWdQL97965dAQAAABBXhMuARbgM4EnoNKS+dyRPnlwKFChgJpjv3btnV+EK9u/fb04e6GR6x44dqehxUqdPn5amTZua12qTJk14HAEAAIAnQLgMWITLAJ7E5s2bpVy5cpIsWTITXF27ds2uwFWsX79e8uTJIzly5JAhQ4bYo3A2WmdSoUIFSZ8+vXz44Yf2KAAAAIDHQbgMWITLAB7X1atX5fPPPzfBcpEiRWTOnDlMQ7qYyMhI87h6e3tL0aJFZdGiRXYFzmb79u2mE11PEgwfPtweBQAAAPA4CJfhlI4fP24249EPhUeOHLFHnwzhMoDHodUXy5YtE39/f0mRIoW0a9dObt++bVfhKi5fviyfffbZg57eM2fO2BU4E329rlq1ypwkKFiwoCxYsMCuAAAAAHgchMtwSjNmzDCdprrL+9y5c+3RJ0O4DOBxHD58WJo1a2Y28dP3pJUrVzK17IL0cW7YsKHp6W3RooVER0fbFTgT3YRx2rRp5iRBiRIlZOfOnXYFAAAAwOMgXIZTWr58uek2TZs2rXz55Zf26JMhXAYQV9evX5fBgwdLypQpJVu2bPLFF19IeHi4XYUr2bBhg+TNm9c8zoMGDbJH4Wy0C33gwIEmXNaf+VeuXLErAAAAAB4H4TKcklZh6OSYh4eHtG/fPl42ziJcBhAXOrm6dOlSc2m9j4+PNGnSRC5dumRX4Ur0hMHMmTPNdHqxYsVkyZIldgXO5sKFC9KhQwfzWNatW9fUZAAAAAB4fITLcEohISGm+1LDZf1wqJvzPCnCZQBxcfDgQWncuLEJqcqUKWN6XAmqXFNAQID06dPHTLtWq1ZNLl68aFfgbI4dOyYvvvii+Pn5mX50AAAAAE+GcBlOSftMJ02aJFmzZpVnnnnGTJQ9KcJlALGlV0t89dVXZgO/HDlymH+PiIiwq3A1eiKhXr165vFu3bo1fctObM+ePVKkSBHJnDmz9O/f3x4FAAAA8LgIl+G0dEqwYsWKZvro888/t0cfH+EygNiIioqSRYsWSb58+czmbs2bN5fLly/bVbiidevWSc6cOc2JhCFDhtijcDZ6Ynrt2rXmJIH2Z0+fPt2uAAAAAHhchMtwWidOnDATZFqN0bZtWwkMDLQrj4dwGUBs7Nu3T1566SXx9PQ0G4uuX7/ehFZwTXfv3pUpU6aY+pMSJUqYnxVwTqGhoeaqJ603KV68uOzYscOuAAAAAHhchMtwWvqBf8CAASbgqVWrlmzevNmuPB7CZQB/59y5c9K9e3fx9fWVXLlymSlW6jBc22+//SYffvihCSRr1qwpV65csStwNnoSunfv3uaxrFSpkty8edOuAAAAAHhcbhku667vx48fN7UKJ0+etEfhbHRScNq0aeZS5YIFC8rkyZPtyuMhXAbwV4KDg2XYsGGSNm1aSZ06tbRv3950L8O16aS6nsBMlSqVvP3222za6MT0iqdGjRqZWgyts+GKAwAAAODJuWW4vHr1arNTuAaSY8eOtUfhjDZu3GgmyXx8fKRXr17mxMHjIlx2PRoCXbhwwZxMAp5UZGSkLFu2zLxPNGzY0ARVhFOuTd9D9DFPly6d5MmTR8aMGWNX4Ix2794thQsXNpv59evXzx4FAAAA8CTcMlzetWuXNGjQwNQpfPTRR6ZeAc5JL3Ht1q2bucRVp5EOHTpkV+KOcNm1hIWFybx588ymj2+88YYcO3bMrgCPT59Xp0+flqNHj0p0dLQ9ClcVFBQkX3/9ten2158Pe/bssStwRvpzoEmTJmYSfe7cufYoAAAAgCfhluFyQECAdOjQwQSSrVq1kjNnztgVOBudKtNJsvTp00uxYsVkzpw5diXuCJddi27cNGrUKPPc0BqDd999V65evWpXgcen7zsEy+7h8OHD5sSlXh3TtGnTJ7o6BklPrz7QKpvLly/LnTt37FEAAAAAT8Itw+WoqCjp37+/JEuWTGrXrm2qFeC8Vq5cKRUqVJCUKVPKZ5999tihD+Gya9G6Ap0w1VDZ29tbsmXLZjaAJFAAEFtr1qwx7x3Zs2eXb7/91h4FAAAAAMRwy3BZjR8/XnLkyCFFihR5omlXJL2zZ8+aTZb0suVmzZqZQPFxEC67Hj3RoJex62XQWoPj7+8v48aNY+oUQKxcuXJFJk6caE5I79y50x4FAAAAAMRw23B5yZIlUrZsWbNJD0Gic9PLXPUx1MnlMmXKyKJFi+xK3BAuuyZ9fuh0e9WqVcXLy8vUp0yaNImAGcDf0goUvdrh1q1bEhERYY8CAAAAAGK4bbi8d+9es9u/TjP27NlTQkJC7Aqc0a+//irPPvusOVnw1Vdf2aNxQ7jsunQTtvnz50uJEiVMRUbx4sUJmAEkOA2ntYrrcejX6oaCmzdvlilTpsigQYPMzzd979IrMhxtM2Ltude/W+lGeUOGDJGBAwfK6NGjZf369RIcHGzv9eT0fZuNmAEAAADH4bbhsl7q2rlzZ7Op3xtvvCEnT560K3BGR48eNY+jVmO0adNGLl26ZFdij3DZten0oYYeBMwAEoOe1NKrpDp27CgHDx60R/+ebhqoFRxdu3aVQoUKSdasWSVDhgxmY1K96b/nzJlTatSoIVOnTpXbt2/br0x8+v6pmyJr8K1XDmk/daZMmcz3mSZNGrOhqv5MLVWqlAmbL1y4YL/y8dy8edO8b7ds2TJJ/78BAAAA/Jfbhsv6gUg/6CRPntx8QFu3bp1dgTPSD/H64VY3aaxUqZKpQYgrwmXXR8AMIDHo1VA//vijCVw/+OADM9X7d3QTUj3RraGy7gmRKlUqc8JUT4I/6qY/73SjwXbt2pmAN7Fdu3ZNRowYYQJwDZO1duhR36fedE2vLNJNlJ/k71s6zb127Vrz56p7ZwAAAABIem4bLisNlfLkyWM+GOmHQDi3efPmmccyS5YsMnToUHs09giX3cOjAmbdsIuAGUB80InaadOmmfeWDh06SGBgoAmO/4p2w2/YsEGqVatmQuVHBbSPumn4nDp1amnevLlcvnzZ/moJ79SpUybU1sBY68Ue9b096ubj4yOVK1eWTZs22V8p7o4dO2ZqzWrVqvVYVykBAAAAiF9uHS4vX75cKlSoYD6YaT8gnJtedty0aVPJmDGjfP7557GaFHsY4bL7+GPArJv8ETADeFIxwXKBAgWkfv36cvbs2b8NlvV9Z8uWLVKxYkUzjawhrK+vr/j7+0vNmjXlxRdfND+b9GfbH8PamJuuffjhh6ZSI6HplPTbb79tNtHV31vfQ3WCWoNx/V71n3nz5v2f7zHmpleMvfzyy3L+/Hn7K8aN9lBr97QOB0yYMMEeBQAAAJBU3DpcPnDggLz22mtm8uf999+XGzdu2BU4I63G0IB5x44d5rHUy2fjgnDZvfwxYC5cuLCMGjXKHAeAuNJgWTuQc+fObTaY1Z8psfk5dOjQIWnQoIEJlrWvWPuEdZPa3377zewPobeAgADZtWuXfPrpp+YKnT8Gtvr3GD1J9vPPP9tfNWHoFPYnn3xipqv1puG3npjTSWadnNbvVf+p08Xjxo0zU8qPqsvQK4w+++wz+6vGjYbx+mer3dOvvPJKogTqAAAAAP6cW4fLujGMhsr6QUc/oOzfv9+uwFnph87H3ZmfcNn9xATMJUuWNAGIbpLVt29fE5AAQGzpyc0FCxZIvnz5zPvI119/HavQU6dwBw8ebCaVixQpIrNnzzbHHvW1+vPt1q1bpnO4atWq/xPY6gZ6ulFxQtHqDt2gUDcY1J+TGjJrkKzvo3+cztZQXY/rCV/9nv7YHa1VGrrfhf6/Po49e/aYAF//zB5njwUAAAAA8cetw2X9MKSb0ej0i35ISeiJHzg2wmX3dPfuXVm2bJlUr17dBB76ftC2bVs5evSovQcA/Dk9oamBr/49ws/PT1q0aGE2u/s7GsBqz7JeNaEhqe4boCH134mIiJBVq1ZJ6dKlfxfYaoBbpUoVOX36tL1n/Dp+/Lg0adJEsmXLZqaO9QT939FA/PDhw9KqVavffa96e/rpp00g/zh0UlprsHQjQd0AEQAAAEDScetwWS1atEiee+45synNsGHD7FG4I8Jl96VTgtu3bzehkF6arpd716tXT9atW2fvAVehQSCX0SO+6ElqnaKtXbu2qdcpU6aMeS/5u55lpVO/WnNRtGhRmTNnTqyC5Rg6wTxmzJj/mQjWwHbmzJn2XvFHXzPz5883Xcp6dUdsguUYGjDrdLH2Mj/8vaZPn14++OADe6+40atLdHJa///Lly9vgm8AAAAAScPtw2W9ZLNx48bmA0q3bt0e+xJNOD/CZfeml3xrQKGbYukmnylSpDCbVl29etXeA85Oe2u1rqB9+/ZmUzLgSemUsL5P6CZ1uqle7969zXtJbGgvcceOHaVHjx7mCoq40PBaNwHUnuWHA9tcuXKZK7Lim05if/vtt2YjPn0dxZX+Ob355pu/+171PVaPPQ6t3NB+a/11tIpk+vTpdgUAAABAYnP7cDkkJER69uxpwuWXXnpJdu/ebVfgbgiXoRN2GpwMHTpUXn31VVm6dKk5BucXE+TpVSq6aZpOX8Z100/gYTq9O3r0aFOFoSFnuXLlzBRzbGkIrSe0g4OD7ZG4OXv2rHTo0OF3gW2OHDlMh3N80/dB/f/VieHYTGX/kf5da/z48b/7XjWQ12qLx6Gv3eXLl5u/u+kEtJ4UBAAAAJA03D5c1g9J+uFQdy7XCaCffvrJrsDdEC5D6XuCXnKuIQr1Cc5PJxwXLlxoNkDTuhOdlmQDVzwpDVvXrFkjhQoVMkGpdrXrierYTi3Hh8DAQHOS5OHANnfu3ObvNI5G/1x0X4uHv1d9PbZp08beI+60r1o3MdTNWF944QXerwEAAIAk4vbhstLpRJ040kvhdeLncaZy4PwIlwHXopOdH330keTMmdN0aWsA2LlzZ3OJvnYvA49LJ+G1o12DTQ1Ky5YtKzt37rSriUOvstAajocD2xIlSpjQ29HoJoS6YeHD36t2MD/JlLV2W2slhv5aunfGgQMH7AoAAACAxES4/G9Hjx6VZs2amcsrNXjQiUW4H8JlwDVof62eNKxVq5Y5aagBoIZuEydONDUE1GHgSYSGhsrkyZPN5K0Gm1qLoT3eiTm1rE6cOGH+7hIT1urfYfQ5/7g1GwlJv6chQ4Y8+F71phsZrl271t4j7vbt22c2UNRfS0PmadOm2RUAAAAAiYlw+d/0sulRo0ZJkyZNZPbs2XLjxg27AndCuAw4v/Pnz8unn35q6gF8fHxMx3Lr1q1Nn76+1wNPSkPN559//kFI6u/vLz/++KNdTTw7duyQkiVLPvg+MmfOLJ999plDXn2lVxG0a9fuwfeqfctaT3P79m17j7g7dOiQVKtWzfx62qP+8ccf2xUAAAAAiYlw+d/0g5h+wNHd0DV8YKrNPREuA84rLCzMvIbr1q37oIdVJyO///57uXr1KjUYiBe6qd13331nwlENNXVauGbNmqb/ODHp31nGjh1r6l70+/D29pbatWubkyuORv9OpRPKWoMREy4XKVLEbMj3JEH4kSNHzP+z/no6Pf7222/bFQAAAACJiXAZsAiXAeejobFuztelSxfJlSuXmVbWcLl58+amk1UrDID4snfvXhMmx4Sk6dOnlw8//DDRT0rrc7569eoPvo+CBQvKzJkzHfLk+G+//SYffPCBeHp6mu9Vu8979OjxxBvwabgcM0Gu4frLL79sV/5Du9UHDBggS5Ys4Yo0AAAAIAERLgMW4TLgPHTi8dSpU+ZSeK0l0P5bDa8KFSpkJksvX77MtDLilYahWp2VIkWKB6HuM888Iz///LO9R+LQqWWdyI+Zntaw9v3333fIEykxU8u6qaZ+r/o916tXT86cOWPv8fi0FuPhgF0rMmKqb7R3XatK9ERT5cqVZdu2beY4AAAAgPhHuAxYhMuAc7h06ZIMHTpUSpUqZTbs01A5a9as0q1bN9OtzLQyYuvYsWPSp08fGTx4sJl0/SvaG9yxY8cHYWZMoKmTuYlFw9qNGzdK8eLFze+vdRBvvvlmotdyxJZuOvj666+b16hW1VSsWFF27doVLxPWBw8eNL9ezGNRrly5B7UgAQEBZjpaj1eqVMls5AkAAAAgYRAuAxbhMuDYNCCaPHmymUTUjfo0rNJagjfeeEPWrVtnLn2Pjo629wb+mk62//LLL5IxY0bTz63Prb+ioa7WT8SEmb6+vtKqVatEfc5pGK6bD2sNhE4BN2jQwEzwO+Imftp1/uWXX5pJb+2m1kBcf87G1xUFWg1SpkyZB4+Hbm6owbU6fPiwqS/RKxratGnjkHUhAAAAgKsgXAYswmUklJMnT8qGDRvMpdp4PBrgLViwQHLnzm02MdOJzfr168uvv/5qQufIyEh7TyB2zp07J127djXBp56w0OD2z+iGkdOnTzcnNGLCTN2g7ptvvrH3SHha9dK/f38T1mq4XLVqVdmzZ49DBqf6XvfTTz+Zn6f6Z6Wh/KxZsyQiIsLe48npVQpaSxLzeBQrVsy8z6pNmzaZkwY5cuSQESNGmGMAAAAAEgbhMmARLiMh6OXZn3zyiQmi6tSpIxMnTnTYS9gd3YEDB6RFixYmCJwxY4b5c3zSTcHgnnTSV6fd8+XL92BTvr+aqNUqlt69ez8IMmPCTN0sLjFol7B2CGfOnNlUTGgFxPr16x2yV1zDbu04fu6550xwnydPHhk7dmy8n1zTADlt2rQPHg+dPtd+55hOav1z0sdIJ84BAAAAJBzCZcAiXEZC2Lt3rzRq1MiEHzpxq5tvaVdw3759Zd++fVyuHQc69aghn/aqMgWOJ6GVDQMHDjSTyM8++6ysWbPGrjya9vvqRnQxQabedHL4woUL9h4JR6f2NUjW2gf9frUKQr/f+JwCjk96pUazZs3MdLVeaaAbbMZ3D7peqbBw4UITXsc8HkWKFJHVq1ebbuzWrVubP6vatWvTwQ4AAAAkMMJlwCJcRkLQyVrd1Gr06NFm4tbHx8eEHroRXYECBUxf8OLFi+XWrVv2K/BXdOLUEftl4VxiJmu1YqJly5am9uKv6JSsv7//gyBTTxRp93FC9y3ryaedO3dK9erVzXtH6dKlZeXKlQ4bLOuJny5dupg/11y5csnIkSMlJCTErsYffb8cM2bMg8dDbzGTy/rnpTUcWouh0+a8XwAAAAAJi3AZbkWDAJ1AW7RokZw+fdoe/Q/CZSQUDYh0ek6nHLUjWKsdMmXKZKbuNITJkiWLCbq0/1WfmzpVCSBhXL9+XYYMGWICYu3snT9/vl35c/rzIU2aNA+CTN1Qsnv37nY14ejPq5deeslsHqgTy/p9OGqwrBVAH3/8selD12B5+PDhCRIsK63E0as/Hg6XS5QoYSa6tT5Ep6b1ZIC+3wIAAABIWITLcCs6IVqhQgUTKIwbN84e/Q/CZSQ0naDTSeZr167J9u3bTRezPhc1ZNZp5lSpUpmgWSfwdJpSNxDTTceYvAPij062li9fXpInTy6vv/666ej9K9prPG/evN9VMOhGcRpQJ6Tjx4+bE1EpU6Z0+GBZ39O+/fZb04Gc0MGyOnPmjLRq1ep34XLZsmXNhn4Pb9Kom30CAAAASFiEy3ArurO+9t9qkKcf2k+dOmVXCJeRuDSwunnzpqnMmDt3rrz99tvy9NNPm02o9KYTzXpZtx7T5+yIESPMpfzBwcH2VwAQV/qa06oGrZjQyVadcv27kzd61YFuEPdwkFmoUCGZPXu2vUf80ytr2rdvb6aAHT1Y1vck7VXW96vECJbVoUOHpEaNGg8eDw2TtTpk69atpkNbQ26t56DTHgAAAEh4hMtwK9qrOWzYMPPBM1++fPLDDz/YFcJlJA0NtvR5qZfq6zTe0qVL5cMPPzQBiQZgGprohGX69OklW7ZsJmzWiWdHC5q0cuby5ctmQy19jbVt21b69etHGA6HoicYdSM+rcR49dVX5caNG3blz2kgrSd3Hg6XtcZm48aN9h7xS3uLtXJDe9kdPVjW7uMJEyaYn5uJFSyrHTt2mM76mMdDa0NeeeUV+eWXX8z7Zv78+c2JAwAAAAAJj3AZbkenP3XXf51e1stqtXZAES4jqWnQrCGSBl7az6yXeA8YMMCEYRo0aYiik4waPidFVUZkZKTpg9Ye2FWrVpnwRqsBOnbsaC5Bz5s3r3n9aB+tXspfu3ZtE+YBjkDrL8aOHWtO1mgwOXny5Fi9jvT1qD8TYoJMvVWpUkXOnj1r7xF/Ll26ZLqE9QSoowfLGiLPnDnTVITkzp070YJlvepDu5T1BEHM45EhQwbz87xPnz7mv8uVK2feQwEAAID/Z+9O4Gwu////f5F9Xz+2kH2nxF9JabMURSW0Ki0qlfpUtEqFtHy0UlqECkVUsvwUKVHJLiT7vmaJpMXr/35cc97jzMyZ/cxyzjzvt9v10cfMnDnOzHm/r+t1va7XSzKegsuS4/zxxx/2/PPPuyAdWaDvvfee+3sFlyW7IYhCZiDNq37++Wf79NNP3fFzArvhRnkOAm/87lM7dfDgwa4512233WaXX365q1VOKQCCSBUrVnTvE5oS+oFkGmgR1CHTmr+jpu0TTzzhHlckO1i6dKldfPHF7neVJnkprccbP7jM7zgblNRPDycy/5955hl3SiG7B5aPHj3q6lCzoVS1atVMCyyDn9uQIUNifx4MNgu4XhH0p3Z9z5493WkKERERERHJeAouS440b9682CADx/e3bdum4LJka9QOJZhF/ddwB7XwySefuGPtBIYZZE6SLU3gmExP3isE1YIDOmT/U2eVQBjvI943s2bNsl9//dV27NjhgnJkO4tkNd4377zzjiufQEkkaiinNPufDR42dfzfe94PNNwMJxrivfjii27DJrsHlinjQ3NcNmcJLFMyJLMCy6BXQo8ePeJci5o1a+Z+pgSW2QAbOXJk4LNFRERERCSjKbgsORKBBjIzaZpWr149d7RXwWXJyahVSp3ScuXKucxkAjR169Z15S6oTXvHHXfYk08+acOHD7dJkya5DZrVq1e7+rAEkskmJMBEMDkrSnaIJIVSLn45pA4dOrgs4ZTitMu7774bG8gkgEmzvXChLvnrr7/u7j1pCSyzifPDDz+492JG43mxgdSwYUOXtZzawDKBaa4bCxcuDPxN6v30009Wv3792J8H9/G2bdvawIED3QYY9bA56SEiIiIiIplDwWXJkQh+ff31167bvJ+9TFabgsuSU3HMfevWrS5ARa1S/puMfkpyUGeZABgZnH7mNCU7FESWSEDwk+atBCHZNHn11VfdSYCU4nf9o48+ig1mFitWzPr06RP4aPrwniJwXblyZWvevHmqA8uUfpg9e7bbAOKelpF4HagDT5ZwWgLLILBMqR3KaKQFz+GLL75wTfv8nwcnLu655x63eUBmeteuXd3niYiIiIhI5lBwWXIsFsXUbSQLjYxNFqQKLouIRBeaSp533nluI5EAJJn2qcEmCmUgcufO7YKZlI25//77Ax9NOzZqaIpJmQ4Cy2QEpyawzPNauXKlXXXVVa6G9MGDBwMfSYhg6/r1613ddl6P1ATXQRCbZrhnn322e75pCSyTLU4ddu6zCxYsCPxt6rDRxQkKP7BMpjL14N9//33X1I9TF7p/i4iIiIhkLgWXU4Bj3mTtpXYhJdkbC3MWuByR5qh0zZo1XcMyBZdFRKID926u52S60vSNLOHUBlZBE02ClwQ0abj33//+N/CRtKHUBnXOeU6nn356qgLLzEk2bNhgb7zxhguaE+xlozSxkwQEZKnnzPcqW7as+7Nv375JBqOD8XotWrTILrjgAve9XnjhhRTPh/ha6knzb7322mtd2Z2rr746zXXjKXdx0UUXxQaXqVF91113uZ8xgebGjRu7EiEiIiIiIpJ5FFxOBsdNu3Tp4gKQHMWU6EL9RzKwCBrQuKxIkSIKLouIRIn58+db06ZNXRM+TqdQnzgtCFgSBA5HcJnAKvMJ6v2TDc29h+Z4DRo0SHZQa5iNUMpocN/KmzevK1NBHeJQCDhTLoOMXr8hJ3/SiI+Ac3L4eupVX3rppS5Az6AMRajnFmqwYUspEoLalCXh+6a12R7Z05QNoSyJH1xu0qSJTZgwwbp16+ZeC54n93UREREREck8Ci4nY8aMGdayZUsrWrSoPfvss6rjF4WWLVvmgg4suBkKLouIRD6/DANBRwK5NKJMLLs3OdQKpvwEAc30lMUg65gsaALenJjxg6T+/Selw/86ArbXX3+9e9xQmLNMnjw5ztcwKBHSsWNHV2s9Kf6/m+C8/7Xxn0tyI/j7UsJi06ZNgUdPnd27d7ufp/+YBPn5OSxZssTatGnjsqJp6iciIiIiIplLweVkcPT0hhtucIuZHj162Jo1awIfkWjBovztt9+2SpUquQUrC9SUZHSJiEj2RdmHMWPGuBq/NG2lxnFabd++3fr16+fuEWQa33zzzYGPpByB3m+//dY9H4K7fsA1PYN+AaNGjQp8h4QIps+bN8814Iv/tdRPTirQu27dOjf/oUle/K9NyyhevLhrvEcGclqwEcxmP49FxjevI3Myv0wIzQYJhouIiIiISOZScDkZLAYJNJIhwxFPOsZL9Pn1119d8IFFK1nqTz31VOAjIiISiaj3S0B5y5YtbqQHNYbffPPN2MDm5ZdfnuosaOoFd+7c2WVS+wHX9Aw2vc8991zbunVr4DuEtn//fhs2bJi7twV//TnnnOOC5qGQ9U3jPALpwV+TnlG3bl37/PPPA98hdfg5EkSnLAePxWYw/yY/UM3PgiCzTpeJiIiIiGQ+BZdTgEY7rVq1couaRx99NNljpBJ5WJC+9tprrpYjgYM+ffqkK8tNRESyBwKPaS2H4ePrp02bFhtspalcaus3E8glQE1ph3CMp59+2jXKS65BIR+npAQb5X4WMvMZyl0k1kSQrG8CwaG+b1rHW2+9ZYcOHQp8h9RZtWqVXXzxxe65828gSE+jQBERERERyXoKLqcAizK6kZMlRI3CxBrnSGSjLiXNkli8ctxWDRxFRMS3aNEil+3LPYI/OfGSGmTZkgFNgDVcI6XN6wiOL1++3DW84/nXqFHDxo4dG/hoQgSk//jjj5DfM62DDdu0BPl5zchapu4z8zAaKy5YsCDdGwYiIiIiIhIeCi6nAIssso04hknX83feeSfwEYkmM2fOtBYtWriFN4vY3r17u6PBIiIifoNA7hHNmjVzAc5IQvZvp06dXFmOyy67LNWZ11mFciJkivO6V61a1UaOHJloA0MREREREcl8Ci6n0Pfff2/t27d33d1pSLNv377ARyRa/L//9/9cxjKZUZTGoFESx3hFRETIPOZES6lSpaxevXquJEWkIMN5woQJrn/EmWee6ZrfRULmL+U5KFnFhi/PnfkXmcwiIiIiIpJ9KLicQixm+vfv7zq8n3feeTZnzpzARyRa+MHlwoULW5kyZezCCy+0L7/8UkdvRUTEIYuWZn7ly5d3NY8jAVm+BJO5vzVq1MimTp2aaK3l7IReCF999ZXb6C1SpIhdd911tmPHjsBHRUREREQku1BwOYUIMH744YdWp04dl7X00ksvKegYZfzgctmyZe2hhx6y9evXp7iepYiIRD8yaV9++WXXEK9bt27JNtPLan/++afNmDHDmjdv7u5vU6ZMcX8XCVavXm2XXHKJ2/Clgd/GjRs17xIRERERyYYUXE6FlStXWteuXV3JhJtuusk2bdoU+IhEAz+4/J///Md11c/uQQMREclcBDc5uURDvNatW9u6desCH8l+9u/fbyNGjHD1ocn6XbZsWcRsmO7cudMeffRRK1asmLVt29YFmnVPFhERERHJnhRcTgWOkT7zzDNWqFAht1j77LPPAh+RaBAcXP7f//4X+FsREZGTyKCl4Wv9+vVt8uTJgb/NfrZs2WLDhg1zDfB2797takZHgqNHj9r48eNd6REC+IsWLYqY5y4iIiIikhMpuJxKn3/+uQssE2Cm3qI6lkcPBZdFRCQ51AKePn26NW3a1Pr16xf42+yH53no0CE7cuRI4G+yP0p2TJs2zRo2bGgXXHCBa6bMv0NERERERLIvBZdTafPmzdarVy/LlSuXXXXVVa5UhkQHBZdFRCQlaCz32GOP2cUXX+xKOEj6cTqMBn4tW7a0Hj16uFIY2sAXEREREcn+FFxOJY5mvvLKK1amTBmrXbu2ffDBB4GPSKRTcFlERFKCucAPP/zgMpeXLl0a+FtJDwLJP/74oys/tn37dtVYFhERERGJEAoup8HXX39tbdq0sbx589pDDz1khw8fDnxEIpmCyyIiklJk2v7222+ulIOkH80SeS0p5cF/i4iIiIhIZFBwOQ3owN63b19XGoMu5t99913gIxLJFFwWERERERERERFJOQWX04CjmqNHj7YaNWpY6dKlXTd2Hd+MfAoui4iIiIiIiIiIpJyCy2lEo5nu3btb7ty5XeOZNWvWBD4ikUrBZRERERERERERkZRTcDmNaDxDALJUqVJ29tlnu8CkRDYFl0VEJOIcO2Y2Z07MmD7dbMCAk6NnT7M2beKOEiXMChQw69zZbPLkwIOIiIiIiIikjYLL6fDzzz/blClTXKf4o0ePBv5WIpWCyyIi2RfN3hYsWGBjxoyxYwRUc6Jx48x6944JEpcv783ivGlcegfB5u7dzUaMMO8FDnwjERERERGRlPFWFZJWf//9t1vs/vPPP4G/kUim4LKISPa1ePFiu/jii61y5crWr18/d4Io6mVEMDklw89sHjYsJiP6wIHAE8p8hw4dcpv4v//+e+BvREREREQkO/FWECICBZdFRLKn7du328MPP2z58+e36tWr21tvvWUnTpwIfDSK7NxpNmRI+oPJfgkMBkHi4FIZjP79zapVC/21iQ0CzpTZWL068GQzHs2Sv/nmG6tTp461a9fO5hDoFhERERGRbMVbLYgIFFwWkehwwk6c+MedqiE4F+mOHDniSmGULVvWihQpYr169bKDBw8GPhoFKPHhB5RDBXXjj7p1Y4K8BIlHjYrJLE5rOQu+jsfhexM8DvX9EhsErZcsCTxQxti1a5c99thjrnlys2bNbOXKlYGPiIiIiIhIduGtDkQECi6LSOT7y/b9MtfmTXzDtm7dGvi7yEVw/Ouvv7amTZtanjx57Nxzz3UlEqLCxo0xQWJqHocK3vqDYDKZxgSBMziY654TwerUZk9nUKB50aJF1rBhQ7epcPPNN+eMUigiIiIiIhHGWxGICNIbXD5+/LirwS0ikmX+ja7gG41zu3btaqeccorVq1fPJkyY4PodRDQCuARjQwVp/eGXskgmI5l6xD/99JN7nTKs/wP1lgk4U/s5uUA4g0B4GBou8m8bMWKE+9nXrl3bNVAWEREREZHsx1sFiAjSE1zm6O7QoUPt9ttvdwt9ERFJn507d9oTTzxhBQsWtPLly9uAAQPs6NGjgY9GkBEjUlbfmMAtGcPJ1DSm1vSOHTvs9ddft/PPP98qVqxoVatWtTZt2rjXaO7cuRnb/M4vpZFcoDmd2cyrvdehQ4cOljdvXrvkkkvs8OHDgY+IiIiIiEh24s3+RQTpCS5PmjTJZdUVLVrU7r77bhdsFhGRtCGIPHbsWHc9LlSokF177bWRd10lqJySTF9KY0yfHpPRnARKQqxYscL69+9vjRs3tlKlSrnA6/95j8Egw7dYsWJWoUIFV0aEzc6PPvrItm3bFniEDEBGM5nKydVrJtBMs8IU4iQQmcqFCxe2ypUr2yuvvBKdDRxFRERERKKAN+MXEaQnuLx9+3a7//77LX/+/C6L7IUXXnCLYxERSR3qLJN9e/rpp8fWWV68eHHkBBcJFKckU5kyEykIuJKFzP3phhtu8B62mtvEpMEdgVeylZ977jl78cUXrXPnzi7Dm0Cz/3GaINaqVcu6dOniArTLli3LuLIikycnX6OZIDTB9GQC6Zs3b7bbbrvNcuXKZWeddZb7/yIiIiIikj15M30RQXqCywRDKIdxxRVXuEX9GWec4bKZRUQkdVatWmXdunWLrbM8bty4yKmzTBmIUFm8NOUj+EqmLyOZ4CqB9N27d9tbb71lF198sbsvUR6EYGuZMmXsxhtvtC+++MKVDqFcBAHoPXv22Jo1a1y2cu/evd1rx/2Ir2Hjs2TJklalShU755xz7NFHH7WvvvrK1TUOO/59KSmbwSDAHg/302+++cZt1JKd3a9fv4yrJy0iIiIiIunmzexFBOkJLoMjy5MnT3bZdhxVvvzyy1V/WUQkFQiWPvnkk64UBtfiiKqzHKq2MgFWgq0pRBCdADH/bu4lBFfz5cvnMrhr1qxpjz32mC1cuND27t0b8nQMQeljx47Z/v37bdOmTd63nuMei+xvMpmDy2eQ5dyoUSPr1auXffDBBxmTHcy/nQBy8GsSf4wbF/jkGATJBw4c6ALjPL/vvvsu8BEREREREcmOvFm9iCC9wWWQPfbyyy9buXLlrEiRInbHHXdkbL1LEZEowfVz1KhR7hpMcPmaa65xweZs7dixmCZ8TZsmDJr27Rv4pOQdOXLEBYIJ9FavXt0Ffwkok63cqlUrGzFihP3666928ODBFGfxEmhm05PsZBoALlmyxD3OVVdd5bKC/fIZvNZkQxO87tSpk7v/UYaErw0bXicCzZTEiP86BY/y5W2f9xw61arlntd1112nElMiIiIiItmcN5MXEYQjuAyCyX79ZepdkjWWIUePRUSiBIFMyjzUqVPHZdaed955tmjRouxbZ5nyF8OGmbVsmTBAyqA0RgoC4/v27bMxY8bYJZdc4jKJCahSxoKM5e7du7umdgSGCT6n97Wg3ASPQ2bwL7/8Yp988on16dPHZQfzmvN9yZIuUaKEnXrqqa7WMSUpZs6caQcOHAg8ShgQaKYJYKjXLd7Y1rp14ItERERERCS78mbvIoJwBZdZwC9fvtxl3ZEVRhba8OHDI6dmqIhIJiJoumDBAlcLmGzdxo0b22effRbezNlwGDXKrH37pGsJ8zECp0nUVCbzmCzkZ555xpo3b26lS5eOLX1Bw74HH3zQ5s+f70pf/Pnnn4GvCi9ecx77t99+c+UwqHH89NNP2wUXXOCypv3yGTQP5J7YsGFDV+d59OjRtmHDhvQH/QkwJxaYjz943UVEREREJNvyZu0ignAFl0Egefbs2XbRRRe5gEGzZs1s4sSJgY+KiIjv559/tquvvtoFWE877TR7/fXXXd3gbIMM5eSa0/FxymMkkeH7xx9/uPrBlEuiBEXx4sXd/aFAgQLWokULV1KJestkCWf2ZiTfjxM2lCFZtmyZayTYo0cP1wDQL59BiQ4C4WyYdujQwZ577jn78ccf01e2gsAxzf+8caxfP1veqpUdiP/ahhoEpnm9KbWRTHNEERERERHJWN4MXUQQzuAyyAr7+OOPXRYeDf7atWvnssNERCQGWbOUESJwSa36Rx55xA4fPhz4aBYj6JlclnLnzjHB5yRKYJAdPH78eO9TO7taxzTWowQF5SeuuOIKd5+gnBI1pzn5ktV4DjRRJHOaDGuyyO+7777YZrXB5TMqV67s7pv8DKdOnerKfKQVQW1KcVBSanzduqFf86RG9+4x5UpERERERCRTebNxEUG4g8sgWEBJDBbgZKdde+21tnr16sBHRURyLgKRXGvJ4KX8wk033WS7du0KfDQLjRiReFCZxn0Ek5MJYlL6YuPGjfb888+7gCkN8wiakgFMPeN7773XbTZS/zhbZWnHE1w+Y8uWLa5cx7PPPmtt27Z1wWWymsm+poEtmwP16tVz97l33nnH1q5dm+LyGWRN02yQoDWZ0ePIaE5p2YxQg6B/dm8GKSIiIiISJbwZuIggI4LLIHjw5JNPujqWjL59+2aPAIqISBYiM3bo0KGueV3Hjh1dk7l01/JNj+nTzapVSxioZJQvH1OCIRkEiikVcc8997jmhARgqV1M0JTM3xdeeMGVASFYG4l1+HnOZJZzD1uxYoWNGjXKrr/+elfOhIzm4PIZ/N3FF19sgwYNckHppILoPBZNHMmM5nfBNRBk8JrHHwT/CR4ntgEQPGisSJ1sstD5Wm3uioiIiIiEnTfzFhFkVHCZYAkNkO666y63cC5fvrxbbNO1X0QkpyK7lxq/X331lWvox//PMmQiE4iMH5ykPANByWQcPHjQPvnkE+vatas7qUImL4FWNhQvvfRS+/DDD13mb3YpfREOweUz1q1bZ9OnT3fNCM8880wXTCfYzD2PzPRKlSq5vyfoPmXKFNu9e3fgUWJO+JDpTGY3DQ357xRvMhCw5udDE8VQP7/Ehh90JgtdAWcRERERkXTxZtiSkcjyWbhwoQ0ZMsS++OKLwN9KdpRRwWUQNFm0aJELPBBwoJkT5TLS1QhJRCTCEUT866+/3MgSlE4gwBg/Y5ms2GSCygRXt27dai+99JKde+65VrZsWVf+iKAqtZVp3EfgnEAqzfyiGT9H7mdkHPOafP/99y5L+5JLLnFZzPHLZ9StW9c1cXzjjTdcUJ4MZzK86U2QnrrN7mfWu3fcn2VKBj9/vm7cONVtFhERERFJJW9GLRlp+fLldt1117nMHRaaNO2R7Ckjg8sgeDJr1ixr06aNW2Q3bNjQRo8eHTVZbCIiEYFs1yFDzLsYJwwyMvr2DXxiaARRlyxZYg888IA1aNDASpYs6TJ0GVzXBw8e7JrT7d+/P+uC5lmMDVW/fMaqVavs/fffdzW12Vgl+M4gEE9JFILNZC0ThH7ooYdcJnO6+RnN/Jxp9JeWBoH+IMu5Z8+YxxQRERERkQS8WbNkJEofDBw40AoVKuQWoR999FHgI5LdZHRwGTRGIkurWbNmLkurefPmNmnSpMBHRUQkw/hB5aQCjQQSE2kER9M5TiBdc801VqVKFdeEkJMoZOOSectm4aZNm1xQVZuGJ/FakLlNRjIlombOnGkPP/ywtWzZ0gWYyWr2M5sJ1FOb+s4777SJEyfajh07Ao8SJmQlE3SmBjN1m/l5B//8kxt8DdnNGzcGHlBERERERLyZsmQkjop++eWX1rp1a5fV1KdPHzVzy6YyI7gMalSOHTvWddUnU4tmf/ydiIhkEALLZLCGChgy+BgBx3hBQ+7hBDgpY3TBBRe4LFsa1pF5y3/36tXLBUu5rxNATXGt4BzKL59BjWpOclE2jLIil112mSsr4geZCxcu7P5/7dq17corr7TXXnvNNf3LkLrckyfHZKu3bBn6dyOpwe+NymiIiIiISA7nzYwlo5Ht9Nhjj7kMnaZNm7rMVcl+Miu4DI79ksXOopr6lMpyExHJIAsWhM5WLl8+JpM5RBYq5SwIZpJh26RJE1e+gQ1iTpxQL5hNQerok42r2vlpR7CY+yF1qVevXm3jx4+32267zerUqeOywoPLZ1StWtXVtn788cdtzpw54SmfEQq/L2Q3Mwg883sS/3cn1KBBoLKaRURERCQH8mbDktHI1JkxY4adddZZroN6375909ewRjJEZgaXQZYbi2MFlkVEwmz16phs1FB1lWnWR1D5wIHAJ5/ENZl7wY033mjVqlWLLX1BaavzzjvP3nrrLVu/fr3bNM6QLNocjLnSsWPHXK3qjRs32uzZs10g+ZxzznGvP1nNBPeLFStmFSpUcEF/AtEEpNmkzVAEmkeMSF3tZjKh+T3jaxMptSIiIiIiEg282a9kBjqo9+vXzwWXWRApezn7yezgsoiIhBEBPIJ5ZJAmVkuXgB+B5yAENcmcffvtt61du3buHuCXvqB0EU15p06d6spjUMJIpS8yHq8x2eOUz9i+fbstXrzYXn/9dbviiitcYJlAsx/0p3xGrVq17PLLL3engZYuXWp///134JEygN8ssH//1NVs5nP5/RQRERERiTLebFcyAwul6dOnu+xljtb27t3bLZgk+1BwWUQkQg0bFpORHCqoxyCwx+cEIQC5Zs0aV+KCJqsEktkApuZvzZo17ZFHHrEffvjB9u7d65qxStYJLp/Bz+zjjz+2O+64wzVK5ufFRkD+/PldQ0CaLbZq1cqVNJk1a5bLMs9Qqc1q5nexZ0+VzxARERGRqOHNciWzsMDhiCeZNmTZ0NRNsg8Fl0VEIsyoUWbVqiUM4Pmjd+8EdZXJPp47d67deuutVqNGDStevLgLUJKtzAYwGbK//PKLO3GUoRmwkibB5TM2bdpkX3/9tdsgoGxJkSJFvB/7yfIZ5cuXt0aNGtnNN99s77//vvv8DEX2vB9s7tw5+cxmP9AcL5teRERERCSSeDNbySwsiL755hu78MIL3cLnhhtusF9//TXwUclqCi6LiEQIGqcllqlMsG7AALMlSwKfHINeB2zqdurUySpWrGiFCxd2Ga9ku1599dWuXNW2bdtchqxKX0SG+OUzlng/8zfeeMP9PCtVquT9OsQtn0FGeseOHe3FF1+0n376yX1thiPgzCZIUpn1/giu06zMZhERERGJEN5MVjITTdyGDh3qrTFKWOXKlW3EiBFq6JZNKLgsIhIBCBqHCswRvCMoF4RyCuvWrbPBgwe76zsBRsonEHCsWrWqPfDAAzZv3jzbs2ePy4aVyMZ86siRI+7nSfb55MmT7e6777bGjRu7Tf3g8hmnnnqqy1R/8MEHXdmy3377LfAoGcSv1czmR6jf38QGGdBspijYLCIiIiLZlDdrlcy2aNEi13iGY7hXXnmlLVu2LPARyUoKLotIalHuiGzJSLBp81ZbvGZb4P9FIIJzZHXGL4NRvnxM8C0IG7nz58+3u+66y+rUqeM2dAkuElhs3ry5a/y2atUqF1BU6YvoRFYztbIpn7F582b79ttvbdCgQe70GCUz/PIZRYsWdeUzqN/MibL33nvP1q9fn7HZ636gmbItKcloDh58jYiIiIhINuLNUiWzHT9+3NV0ZDFTpkwZe+GFFzLnaKYkScFlEUmtrVu32uLFiwP/L3u75+n3bMXuCMzO9YPKoRqmUf4iCMHijz76yK644gpXFsEvfUFd5c6dO9uECRNsy5YtrvSFTg3lLGwisBm0Y8cOW758ub399tt2zTXXuAx2v3wGdbeZl1GLu3379u6kGU0dM7yho1+nuXv3lAWbp08PfKGIiIiISNbzZqiSFeh2zqKGxQwLmAULFgQ+IllFwWURSa1ICVD+efwvG/3DDvsrzE+XEgQE6zLkdaAMQN++MZnJoQJs/P3One5706iNjdpWrVrFKX1B+al77rnHNX3bvXu3Sl+Iw+8MjR0pn0Hvi88//9zuu+8+O+OMMyxv3rxuQyJfvnyxJcxatGjhPs7n7d27N/AoGcjPbCbgHGpTJXjQFJCgtMpmiIiIiEgW8WalkhXIoBk1apRVr17dHc986qmn3DFeyToKLotItCHj8vvl6+2HTQftyF/hPeZPE7W33nrLzj33XNdELWwBZhqgESwLFUhjEFQeMsSOb95sCxcudEG/evXqxZa+ICjYpEkTe+6552zFihWuLIJOB0li/PIZZL2T1U45FTKW27Vr536nyGqmjFmRIkXc/IDfNZIDyHymrnOmNH/kPdG/f+j3gz8IMrMZoyCziIiIiGQybzYqWYUagLfeeqvLrmJx/uWXXwY+IllBwWURiSaDXx5tD781y1btOmTH/glvAIzszWHDhlmFChVcljB9BMgeTheyNNu0SbwsAH8/ZIgd8u6dU6ZMsauvvto1ZSPox32U2rkdOnSwsWPHuudy+PDhiMksl+yDzX9+d3bu3Ok2J6jBTC1mkgHIaGZQPqN06dJ22mmn2UUXXeRqOX/33XcZmyRANjPvj1DvjfiDJoARUgteRERERCKfNwOVrEIXe2pDNmzY0C1UHnroITtw4EDgo5LZFFwWkWgxb+k6W7Rhtx04ctz+CfxduFAGY+DAga42LZnCZ599tn311Vfpyw4m4zJUkIxszJ497cS0abZzwQJ75ZVXrE2bNlauXDnvQwVcoI8A9+23326zZs2yXbt2uQBfpmSTStRjc4LfJzZT1q1bZ9OnT3dzNZpCkiHP7x9lNKjpTY3vZs2a2d13322TJ092ZVgyBGXUKJnhDzKaeZ+Eev8QZF69OvCFIiIiIiIZw5t5SlZi8dHXW1SzQKfW36effhr4iGQ2BZdFJBoc/eNPO3T0uIU5WdkhI/j+++935QIIrpG1SRkBGtWmCYGvli0TBsUYPXvaX1u22NKlS11Ar1GjRlayZEkXzGM0aNDAnnnmGVuyZIlKX0iGY8OC33OSAGjkSaO/F1980S699FK30RJcPoPNj7p167rsekrGrFq1KmOz6CmF4b1fEryH/NG7t8pliIiIiEiG8WackpVYbEydOtU1i2Ghftddd7mjmJL5Ii24TI1IGkHSqEpZeiKS0agv26tXL1d+gtM2l112mQv8piqoy/2NQFdiAWUyMPv3tyM//WTTpk2z6667zqpWreq+J6UvCNxdeOGF9u6779qGDRvs0KFD7hSQSGbj9+7333932fIEj99//327+eabrVatWrHlM8iuL1WqlFWrVs3OP/98e/LJJ+2bb75xjTAzhN8EM7HSMrzvBgyIyX4WEREREQkTb6YpWY2mSGRfderUyQWaCRpK5ouk4DI1ITl2y9Hclt5icfz48QqwiEiGYPOKIHLXrl2tcOHCLsBLQzOCzVyLUmzUqMSP7zPq1rV93j2QTM+LL77YXYsJYhOkIxP0pptucgFnNmCPHj2qTTXJNvhdpHzGvn373KYH84lHHnnEzjrrrNjfYb98RsWKFe3000+3O+64wz7++GPbvn174FHCiBJrBJmTer/xsfbtY4LNlNcQEREREUkjb3YpWY1FCccsyX45RsMWyRKRFFwmU5CAcp06ddyClePidK7XxoSIhBObVpyQaN++vQuSUQ6D+sY0pE3VMX+ai4UKcAXG7vvus8cee8yaNm3qMj05yUO5KK5xTzzxhC1cuNAF7tJcfkMyFfci6hTnxA0A/s3co5nXbdu2zf3uvvzyy9a5c2e3SUL5DLLw2agpW7as1a5d26644gp77bXXbPny5eHdKPbLZSQVZA4eagQoIiIiImngzSRFBJEUXGbxynHwMWPGuIaQBGE4isvzpsu9iEh6EcilSd4555xj+fPnd4GwBx54wGUOpyiwPHmyWbVqCQNYjN697fjQobbYu2Y9dPXVVr16dStWrJirWVuoUCE799xz7c0337Rff/3Vne7RyYzIwe8GdbhpvEh97o05vNavXz6DHhurV692G8Ns0NSrV88Fmclq5v3FpgolYFq3bu02WmiSGbb7OZnM48bFBJoTe08GDwWZRURERCQVvBmkiCDSai6Do+GTJk1yz5ugDMdt+/Xr57KlRETSiqDWhx9+6JrmcTqiUqVK9tRTT7ns4RRloxKYSiRb8vdHH7VRo0ZZhw4drHz58i6YTICtdOnSdu2119pnn33mSgVQlzYnZr5GOrLa77zzTvd7Q+kmGt9JDH6fOaHG+4ig++zZs11mPpspZDKT1cxmMRstFSpUsCZNmtitt95q48aNsy1btgQeJQxopDlsmFn37ikLNlPDmcA0QWoRERERkXi8GaOIIBKDy6DOI8+9bdu2LguqZMmSdsMNN9iyZcsCnyEiknJkWD733HMuoMymVc2aNe311193GcRJmj7drGnThIGpoPF7kSLWrkkTK1OmjCt9weOTtdy/f39XfoNSCirvE7kInFJHmPsQ47777lO5r0T45TN4X7GZsnjxYhs+fLhdddVVLrDsl89g84VTA5xOoonmsGHDbMmSJamrd54csssJNpcvH/J9GzsIRKsZoIiIiIjE480URQSRGlwGwZiffvrJBZU5XstitF27du7fpMw/EUmp9evXW58+fVxgkAxKMk+nTJnijvUnKYlM5W1du9oLHTvatZUqWe1A6YsC3ufSjJQ6s2vWrHH1acMaLJMssXLlSrvwwgvdz7hVq1au6aOkDOVEyNZnc4fXjVNJd911lyt9xevpl8/gvVmlShU7++yz3abMzJkzk9/4SSk2Aggyk6kc4r0cOwhC0zBQRERERMTjzRBFBJEcXAaBmXXr1rnFJrUbWYSeeeaZNnr0aDXBEpEkUReWxmM0HStSpIgL/l5yySX2/fffJ515unOn2ZAhiR6tP5I3rzUtX94d+Sc4RmCMzMyJEyfa1q1bXdA6VY0BJdui1MPQoUPdvYfg54gRI1QrO43YFGbTeP/+/bZp0yb75ptv7Omnn7bzzz/fihYt6r21Yspn8N+UliEA3bNnTxs7dmx4alxT/mLOnJOjZcuQ72+3oUS5DMpsiIiIiEiO5c0MRQSRHlwGQZpdu3a5zvSnnXaaW3zWqFHDhgwZYr/99lvgs0RETiJ4PG3aNDvrrLNcULlEiRLWq1cvW7t2rTu2nwDBq969zdq0SRhs8sbaBg3s7cqV7enCha1xvnzuaD+Nymju9u2337rMTJVKiC4EkefOnetKnBQsWNCuvvpql40u4cHmMU18d+zYYUuXLnXNLrt3726nnnqq95Y7WT6DcjPc89kYev75592GUcj3cFqkJKOZ64KIiIiI5DjeTFBEEA3BZZDxxCJ0woQJ7kg7i07+Tffee2+O79ovInERFJwxY4bVqVPHNWCjKeiAAQNs586doTOKR41KtPwF489cuVzpCza2yGBt1qyZu57+/PPPboNLpS+iE/cWNiQo30AWLY3qVJIpY/jlM/bs2eM2gD799FN3f2/atKl733FCgHrmnBIg+My85oEHHrAvvvgi/ZvMbBgkF2QeNy7wySIiIiKSU3izQBFBtASXfTT6mzNnjnXq1Mkt+Ok+36VLF5c5qEW/iIBrAXVyKVVRt25de/vtt1391pDXCOoqhwomeWNGwYI2OF8+q547txUvXtw1Hhs/frxt3rxZpS+i3NGjR+2DDz5w9xgyZynNpKaMmYP3Ka81QWPea999950NHjzYLr74Yvc+JKuZ+z/lM5jb1K9f366//np799137ddff037XICTB5TLIFM5fqCZEjkjRgQ+UURERERyAm8WKCKItuAyqLW8bNkyu+2229yRWY68U4eZABIBARERjs1Tr33+/PkuIzIBAknx6ir/fcopNqVCBXu+cGFrkj+/OyFRqVIl1wyQrFWVvsg5KNNwzjnnuCDmeeed55pCStbwy2dw8mDFihUuiHzdddd5b91q3ts2pnwGZUvYBKCESdu2bV3ZrAULFqRvQ4Dmfn5w2R9NmyrILCIiIpJDeLM/EUE0BpfBYnPLli327LPPuiOyHJvlzwcffNA1ChIRIbM4ZG1WgkN16yYIHA0sWNBdSzh+36RJE9fIbfny5a4BWdhqvEq2xybCwIED3e8Bdf4JZqqJX/bAe5pN5L1797rNI8piUB6DUjWUwPHLZ1BjvXLlyq6MFuU1KLPB16Ra+/YJrhNxBhnOAwbEbFaJiIiISFTxZnsigmgNLoNFJkfdJ02a5DLMyF7iyCwNgX766afAZ4mIBBBUJvMwRJBopzdqFili7du3tzFjxrh6u4cPH1bpixyGjctZs2ZZlSpV3MmYa6+91v0eSPZD+QtOMlE+g81mMpVp+NehQwcrVaqU97aOKZ9RxHtfMweiRA7zg5EjR9qaNWtSXj6DmuxBJxxCDrKcRURERCSqeLM8EUE0B5d9HFOnezyNl6jByOJRTf5EJFYyQeVB3nXjgeuuc9dLjt5T2z3NdVslopENS0CZzUqy1+fNmxf4iGR3ZJezEcB7mGabbBL17NnTatSo4TKaGZTPKF26tMtIv+CCC+ypp55yPRt4zyeJzGSCzIlcR9wgy5nmgCIiIiISFbwZnoggJwSX4ZfJmDp1qs2dO9f9fxHJ4SZPtn8vuyxhEMgbB7zxetmy9twjj9jixYtt3759LgtSci7q+r755psu07VcuXI2YMAA/U5EKE4cEDCmFAb1smfOnOmaMjIfyp8/vws0U0aD007UVT/jjDNcbXVOQu3atSvwKImg6R9j+vSEjf/Kl4/5exERERGJeN7sTkSQU4LLYDFJ8x519BfJ4YYNsxPFi8cN+gTGwVy57MOqVe1D73pIliqldVRPV/gdIEu5fv36LuhIUzg2LCXy+eUzDhw4YFu3brUffvjBzYc6derkmgCGKp/RtWtXGz58uMuATrI0zoIFMQHleNeZ2EHwuWdPM52mEhEREYk43mxORJCTgssikrOd8K5xiQWV/8yVy6Y2amSzxo61HTt2uKZgKn0hPrJbb7jhBtfQkeDi559/rnrbUcovn0GG8qpVq+zDDz+0W265xWrXrh1bPqNAgQKufEa1atWsTZs2Lov966+/tiNHjgQeJQilMLzPCXXdiR3e41nv3marVwe+SERERESyO28WJyJQcFlEot0/779v/xQtmjCg4429p5xiPzZrZss/+sgdkVeZA4mP7PXXX3/dChcubGXLlrVHHnnE1fKX6McGE+UzKIuzYcMG++qrr+yxxx6zVq1aufrMfvmMYsWKWYUKFVwd7ttvv90mTJhg27ZtCzxKwLBhCctkhBrUZh43TtnMIiIiItmcN3OTSEQ22SuvvGLvvvtu8s1VJEUUXBaRaEUW4Y8jRyYM3nhjf7589sXdd9vatWtV+kISxe8Fdfrr1Klj+bzfmUsuucSVTpCch0DzX3/95a4XBI4XLVpkr776qnXp0sXNoSifQaNHfxOiVq1a7mPMW5ctWxZzjSGLmcZ/AwbEDEpixLs2JRj9+8c0DBQRERGRbMWbqUmk4YjioEGDXP07gqGfffZZ4COSHgoui0i02bNnj73/9tv2Xt26tiVPnjiBmgMFCtj8J55wwSGCzyp9IUnZvHmz3Xnnna7mLvWWp0+frnIY4hAs/v333135jNWrV9tHH31kvXv3dr8nBJn98hmlSpWyqlWrWuvWre3RRx+1L7/80s1pY5GhTEkMSmMEXasSDGU0i4iIiGQr3gxNIg2LuU8//dR17CZ76Prrr7c1a9YEPipppeCyiEQSgsGhgnsEeshCfvbJJ+1/VarY2nhBZcaWm292gWc19ZSUokzK/PnzrVevXvak97ulchgSCtclfjcon7Fx40abM2eOq8N83nnnuUxmspqp1+2Xz2jcuLGr4/zBBx+4DQyHrOYRI8zq1k1w7Qo5yGgWERERkSzjzcgkEpHpMXjwYCtZsqRrpMJ/03RJ0k7BZRGJBASUyQ6k3u3AgQPd8XRQImnevHl2xx132ADvOrY8RFCZ8W+5cva3yhlIGhBgph73AYJ/IskILp+xfft2W7JkiQ0fPty6du1qFStW9C5HMeUzChUqFFs+47LLLnNzsMWLF9vff/8dUwZj8mSz8uVDXs9iB9nOnTvHlNrQxoeIiIhIpvJmYxKJmLD/8ssvLmuZI6qnn366ffLJJ4GPSloouCwi2R2BvREjRriTK2T+NWvWzEaPHm3jxo2zzp07W/8SJWxZ7twJAy/eOOFd204MHmy2c2fg0UREMg8bY5Tg2b17t5vDMm/t06ePy15mLkv5jPz587vEiSpVqtjZZ59t/fr1sxkzZsRsaMyZk7KMZpoFdu8eUzpDGyEiIiIiGc6bgUmkIqODesvNmzd3Hbp79OhhP//8c+CjkloKLotIdsUx89mzZ7sAMqdVCMQUKVLE1TRt0KCBPeD999JcuRIGWbxxonhxsyFDFGQRkWyDJAnK8uzfv982bdpk33zzjT399NN2wQUXWNGiRb1LV0z5DP67fPny7jrXs2dPt5m2YcOGmAcheJxcRjODGs1cAwlOi4iIiEjYeTMuiWQ0UBk6dKgLNpDp8dRTT7m/k9RTcDntOO5KFpI7wipRadfOnd7afKgd+l3ldzITAZh169bZQw89ZNWqVXNNsQi4ULu0YMGCru7+y4lkKrvsPWqRKlNZRLI55g+HDh2yHTt22LJly+ytt95ySROnnnqqdzk7WT6DZtY1atSwDh062HPPPWc/zZtnf8+aZTZggFnTpqGvhfEHWc1LlgS+s4iIiIiklzfDkkhH4IFsDjLZGjVq5Lp0S+opuJw2v/32mz377LPWsGFDd3z1119/DXxERNKDjL5Ro0a56xLZexwZ9weBlh7enwdDZSsrqCwiEYzyGfQRoekozUlpYt23b19XAo7NNa6BbKyRVEHwmWvk/fffb1OnTrUDBI2HDUt5oJk6zRs3Br6ziIiIiKSFN6uSSPfPP//YF198YWeddZYrj0GjlOXLlwc+Kiml4HLaLFy40Dp27OiCXdSA5feQhj0sCkUk9QiqcD264oorXJYewRQy9/xBYKVtuXIJgyQElcneU1BZRKKEXz6DjezNmzfbd999Z0OGDLG2bdt6l7wS7ppIcoVfPqNevXp27bXX2jvvvGObZsyIqTNPpnK1agmvmf6gGSDXTpUOEhEREUkTb0Yl0YAGKQREy5UrZ8WLF7eHH37YZb1Jyim4nDbUgl2wYIHddNNN7nePQBgBsYsvvtg1GeOYq4gk7/jx4/b999+791KlSpVcCYzgoPKVefLY9nz5EgZGGGTprV4deCQRkejkl8/YuXOnrVixwp3uoLn1aaed5l0KYzbfKBnEPKR69epuLjJ48GCbP3++/blmTcypDoLJ8a+hiY02bU7Wa1aGs4iIiEhI3qxJosVGb9J72223uexlJtkjR45UDdxUUHA57f766y+30Pv444/dQo7jqowKFSpYly5dbNq0aS4ILSIJcfqEZqwc++baTV3R4KAyGXkPnHlmwqCHP8i4ExHJYYLLZ1AijrnGgw8+GNvomkAzf5LhXLlyZTvTu47ec889NmXKFDswfbpZ796hr6nJjZYtY4LUPMaCBYFnIyIiIpJzeTMkiRYEKOi2zVFBjgi2bt3aZs6cGfioJEfB5fTh6CoBZDY53n77bfdaUiqD7MuqVavajTfeaPPmzXO/pyIS857ZsGGDPfHEE1a7du3Yusp+UJlrUa9eveznu++2f0OVwWCUL68yGCKS43E95fQH5TO2bNniToG88MILdumll1qpUqW8y2VM+YwiRYq4a2vdunWtW7duNvGxx+xoixahr6+pGWRD9+wZE3BWeQ0RERHJYbzZkEQT6tKNHTvWTZrz589v1113na3WUekUUXA5PFjgUaaF3zsWdvXr13cBM7IxCaCRNUQneD5PJKfhODebfs8995w9/vjj1qBBA1dOxg8ql86Tx64/9VT78qKLbH/btvZ3w4YJgxh9+8Yc0WYosCwikgAb2YcPH3anqjgZwtz45ptvtpo1a7rrLYPN79KlS7sTI9ecfbaNvukmW/7KK/bnjBkx19dRo2LqNVPPPv51OLnhB5t1jRYREZEcwJv9SLQ5cOCAPf30066LNkcBH3vsMZfJIUlTcDm8OK7Kwm7x4sX26KOPuuxlMpnJGmrYsKE98MADtnTpUvd5ItGMIAcZylxXzj//fNd0iuszQWXeE73/7/9srvfnvrx5EwYo4g8CFgpWiIikGJvZf/zxh+3du9fWr1/v5nv0JmnZsqULMBNopnwG12Tq3Z9++ul255132sSJE11w2qG0FwHnESNiymlQ5z7UNTrU4Lrdvr1qN4uIiEjU8mY8Em2YRFN7juPUNFejoclbb72l+svJUHA5YxBYY8ODDu8s1mg66Xd2p6v73XffbQsXLlS5DIk6v//+u82ZM8duv/12d5qEgDIBDDKUO3tjhDeWe++FBIGIUIPMOWp8KighIpJmzJHpE8G8ZOvWrW7+8dJLL9lll11mZcuW9S63/xe7Ec58pU6dOnbllVfa66+/7hoIJtgQ53QgAWOuz9Wqhb5+Jzao3ayAs4iIiEQBb2Yj0YhA3dy5c11zNQJ55557ruovJ0PB5YzF5gZZQ1999ZXb+GDR5i/gKJdBM0oC0NoEkUhG4IF6nwQiHjnjDNuS0uBx/FG3rlmbNjElMAg+KFtZRCTsmC+zEbhr1y5XzmvcuHF26623ug3B4PIZ1G2uVq2am09TJ3/27NmuBFgCS5bEBIvJbiZjOdT1PanB14mIiIhEGG8WI9GK+stjxoxR/eUUUnA5c9BwhyAzzSfJZK5YsaILMhcuXNhq1KjhSrpwfFUkkhw9etQ1rCQTn7Iv5xUvnjBokNQgM3nAgJhmUBy/FhGRTOWXz9i3b58rZcRmOLXxaZBdsGBB71L9f+5EIOUzmLs0adLEbYyPHz/etm3bFniUIH4pDa7tnTunvHYz9wERERGRCOLNYCSacezvqaeecsexGzVqZB9//HHgIxKfgsuZi2OpLODmz59v999/v1WpUsUqV65sw4YNU7M/iQj8nu7YscPefvttu/TSS12tzvqFCtkbuXLZgVABg3hjqfd5k+vWtT+eeIKLdeBRRUQkq/nlMw4ePOgCx/SPeO2111yJDOrm++Uz2BjnJFatWrWsc+fOrsTGkiVLEj+F5QecaRaYWMCZ8hqcXKFOM4FpPnfBgsADiIiIiGQ/3gxGohmTY+ovjxgxwiZMmOAarEloCi5nDRZgNJz88ccfbcqUKfbLL78EPiKSPR07dsz9vtKUsmnTplamTBmrnS+fjYsfIAiMYd5oE2/U9QbBCTLfPv3008Aji4hIdkTJI8pn7N6929asWeOSNTh91aBBAxdkpnwGpwQpn0ED41atWrmmgbNmzUp+7k3AmZrN3j0h2cHn6XSLiIiIZDPeLEWinV9PTqUGkqbgctYiyEzQTjWXJbsiqDB27FiXnXbqqae6ppRX5M5tG0MFAAJjpzfKe4NAcqjBY9xzzz0Jm0SJZKBNmza5+9wnn3yikyIiqcR7hvkKp682btzoepwMHDjQ2rRp4zKZubZTPqNYsWJWoUIFVyrp5ptvtvfff9+990IiYEy2sve1KRpkNU+eHPhiERERkazlzU5EBAoui0hiOBJ91VVXWdmyZV1zp87e4n5E/MV+YBzzBh8jQzmpwDKDbLfzzjvPHaMWyQycFHn55ZddhmWzZs1s4sSJgY+ISFqwKU75jO3bt9vSpUvtzTfftG7durlSSVznyWwuVKiQu3/UrFnTlVF68cUX7aeffnKlN+IYNy6mFAYZygSbW7YMeZ+JHTR/HTFCpZVEREQkS3mzEhGBgssiEgpZxQsWLLALL7zQ2nuLebKRQy7yvUEJjBLeiB9EDjXy5s1r9erVs8GDB9vWrVsD300k49Do97PPPnPH9vPly2edOnVyATERCQ/uF0eOHHEnXdauXevKfXE6hRJIefLkiS2fQS8UTsC0bNnSHnzwQZs2bZrrk5Io6jSXLx/yvuNGgQIxNZwVaBYREZEs4M1GRAQKLotIsD179tg777zjgsoE45p6i3eykuMv6vm7/t6o5o1QQeT4o0SJEtaxY0cbM2aMrV+/3mW8Ub5IJCPxO0YD1ebNm7sgF/XCOc6vkiwiGYPyGWzo7N+/35XDmDdvng0aNMguuugiVzKD+wHlMyiPRJPA+vXr2w033GCjRo1y94aQCDIPG5Z8oJnMZxEREZFM4s1ARAQKLosIdTS/++47u/XWW11WMc36iubN64LHm3LlirOAp9Yy5S/85nxJDYJ5HId+6KGH7JtvvrFdu3bZ0aNHVe9WMs3PP/9sl112mcuYr169ur377rt2/PjxwEdFJKNRPuPQoUO2Y8cOW7Fihdu8vPbaa93mJfcJymcULFjQ3Xd4j7Zv396effZZ++GHH0K/VymhkVzZjO7dzVavDnyBiIiISMbwZh0iAgWXow/BO2rZsjAje0gkFDI6yRJ77rnnXId/6mSe7y3wn/QW5nO8sSZeUJlBUDl+ADnUICOtbdu29vbbb7sj0tS7TVBjUySDkTV51113uXrh3OMGDBjgju6LSNbgxABzFE7I/PrrrzZ16lS7//777YwzznAbQJTPoHQNJ10qV65sLVq0sPvuu8+VtaGRYBwbN8ZkMyfWEJBM5t69FWQWERGRDOPNOEQECi5Hn+XLl9uNN95oVapUsfPPP991cycrVUEVIcD7yy+/2GuvveayOU877TRXA/PaPHlClr4IHn96i/6kGvWRfVatWjW799577auvvnJZaspSlqyyd+9el/3IRgdH8W+55Rb3dyKSPfjlM9h83LJli6vxP3ToUJe5THCZ+wqnX4oUKeLmqHXr1rVrrrnG3nrrLXcfi3NvoWyG9zXeF4UeBJrJZlYTWREREQkjb5YhIlBwOfp8+eWXrr4oCzMygYoXL+6yUvk5kyE0ffr0hBlAErUI8NKdn0Abi3aOIpcqVco1V+J3pGnwAjzUKF/efnvoIXv8+uu9/5swqFy4cGFr06aNDR8+3FavXu3qbCpLWbLS77//7mp7c1/j95wGfhs2bNBGh0g2xmmaw4cP286dO105m9GjR7uNckplcK8hq5nyGaVLl3Ybo9RwfuaZZ9zmOaWdvP+JCTJTd5lgsvc1iQ6aACrQLCIiIunkzSpEBAouR58//vjD1TUcMWKEt37q7BrmsDAjA8hvoENTKzL5xo8fb1u3blXQJcpQ33L27Nn28MMPW+vWrd3mAplgHDfmd6G3N6idHGex7Q8aJvXsaTZgQMyR4wMHXLCY3xU/m4xFPkeWe/fubTNmzLDt27e7zHg1SZOsRo3WmTNnWp06dVzTsLPPPtsWLlyo302RCMKchLkMpw3WrVvnNsWp3U+ZDO5j3IPYPOeexP2Nshp33323TZ482ZXccKUwuI8lF2RmEGjeuTPwnUVERERSzptJiAgUXI5OZACRvUcDNQLNY8eOdRlAZPuwKKOEARmn5cqVcw3cunTp4mrv0nTtwIEDgUcJHxaKPC41fslMkvAicLZq1Sp78skn7YorrrBmzZpZxYoVXTkAAmwEhBntvZFoUJnRt2/gEROijnfXrl3trLPOsmHDhrnyK2TAqzmaZBe8Dwgkn3POOW4zrX79+q5WqzLpRSIX8wfuM375DPpJvPjii9axY0eXxexvngeXz+jWrZu98cYb9ov3uSdmz05ZNjMfZ1NVREREJIW8GYSIQMHl6EfAhQwgsnmoUzhlyhSX4dOwYcPYBjo0vKL2LhlAjRs3tu7du9vLL7/sFnEEqdNr0aJF1qNHD1eSgeDk4MGDVQM6DCh58e2331qfPn1cII0SKPwsWWj7AWV/nFWwoB3PnTvhgtof1KtMInuL3yGy3BlsECgTVLIbrm9XX321y2zkWvP666/HHJcXkagRXD6DTdX333/fevXqZbVr13bzGUZw+Qx6T7DxOnfuXPtzxozkA83Tpwe+k4iIiEjSvJmDiEDB5ZyFDCAa6JBxSg1S6jMPGDDALrzwQitTpoy3roppzMbCjLq8lD44/fTTXV3DtDbDIihJAzkek8cnk5ajrCwGJfX4GVKGYuTIkXbJJZe4DQEytvi5BQeT/cHP9d0WLexouXJxF9CUv5g8OaZGJYPO+8nge4tkR2x6PPDAA1aoUCErW7as9e/fX6ckRKIc9yS/fAYno2bNmmWPPPKIK4fDRiv3wODeE8xn7rjjDvv4449t7+efm/XuHfe+GH9wn0ziRI+IiIjkbN5sQUSg4HLOxaKM4+KUqyBYSQOdTz75xB588EFXp9evr0sw+LbbbktzBiDfg+Opfr1ff7DgU/ZyyvH6//jjj/bf//7XmjRp4oLGflO++IPM5QY1ati4yy+3Ay1bJlwwa7EsUYQmki+99JK7ZrHRcv3117uSQCKSczCnoXwGcxo2m2hkywksek+w4cS9MbgkGJnOlJEaMWyY7WGzO/59MniQ6az7poiIiMTjzRJEBAoui48yBwQwqWu4bds2W7ZsmY0bN84ee+wx18wtrVmrfN3SpUtdDUQ/wMxx1ZtvvjlF9Z15XmRa59RgEf/uMWPGuAXyqaee6poyJpalzCiYK5eNPu00+9d7rb2/SDhYJKt5kUQJSsNMmDDBZSVyfWnXrp0rj5HW65WIRIfg3hOrV6928xg2yukz4ZfPILuZ+UidqlXt52LFQt8zg4dKZoiIiEgQb3YgkjQWpjlhcargsiTGr9VMADi9GcZkL+/YscPmz59vU6dOdbWcqQHN4i8lKOVBGQ8aDpKNxBHYSGkkx+t48OBBF6ynkz3vMwL2/Hdi+PcuXrzYHn74Ydecj6wr/4hvUqONNxJt2EdNZZoVpaD8hUgk4LpCaZ9GjRq5bP3mzZvbvHnzUnxdEZGcgfk8m+d+SbDZs2e7kmDnnnuuK6XD/ZNTWncULGgvFi1qI7w58fSmTe2497EE91IGm7Tdu2ujVkREJIfzZgUiiVu3bp0NGjTI3nrrrahvBqTgsmQWFnd///23CwoT/CFIzOKO3zsa8lArkQAsWUahAsd8PcEkRnba+OHfQgB+zZo1Lvg9ceJE10js0UcftWuuucbVfqxZs6bLOuZ9Ri1rjuRS3iI+guZkYXbt2tWqVatmxYoVC9mcL3iU98aT3pjjDe8vEg7vcdxxXgWVJYrwvmOzivcXQaE6deq4OqqRsukkIlmHeQSbvpzSYiOXe/ZVV11lFSpU8G6bJ8tnnFq2rL1RsmToeyuDIDObtgoyi4iI5EjebEAkNLIaCHiV9CaTDRo0sNGjR7uAWLRScFmyAsFh3lsEWhlk5rKoIwBLd/e6devaWWed5UpBcIyVTF9qJ1IeYtKkSTZjxgz79ttv3aKQI/AsEAnwsmAMN7K2CYQTAB8xYoQ99dRT1qdPH7v66qutTZs2LmuyevXqVqVKFXc0n/cSx2xpIEQTQwJffiCYQDEfI8PyhRdecFnNPOcVK1a4607Lli1d4JksZY7s+l8XfxTwRl9vJBpQ9sbCMmVs0/jxgX+FSHThJASZ/dRu5733yiuvuBIZIiKpwX3YL5/BfII5xl133eXu7a7BsXcvnuv9Geo+m2Aoo1lERCRH8e7+IqGRDcWx/RYtWrigEEfSyURk8hmNFFyWrEDZh48++sh1biewHByAZRBYJRBLwzqyhwjU+kFoflcJRBPIJRhNYIksXwK8ZApT3zmcNm/ebA899JAL+hIY9puGEQAmsBU/CMxilIxjMinbtm1rvXv3tqFDh7p/L+VA6GhPsyGC4WQq04iM586/Mf7rEGr09sYSb3j/J+Q45g0+hyA9wXCRaMSm76JFi9xGz9NPP22HDx8OfEREJG2Cy2ds3LjRnUZiQ/mCCy6w8wsWdKWnLvTmJv/z5iah7r+xo3x5syRKX4mIiEh08O76IomjzixZig0bNnTBo9atW9v0KG3ioeCyZAUWcGQKbdmyxdU//Pnnn10mMhlDBESffPJJu/POO90xVWoiEqglsMv7MVTA1R8XXnhh2IPLPMd7773XBbsJGhPIZvOpU6dO1qtXL5c9OWzYMPvggw9c/Ve+P6V1CEqTXcki9dChQ27BGr8WLEf433nnHZfhHPzvqOuNYd5Y7Q3vL9xY4I2kgsrjvNHfG9W8wfPk+UXrdUsEZP3z/kpJY1ARkdRiE4vyGdu3b3f39pEjR1r37t2tcuXK1tS7176XK5fb0A11T3ajffuYILOuUSIiIlHJu9uLJI3A15tvvmk1atRwHejbexPEuXPnBj4aPRRcluyAYDOLOAKwlKFgMUfQiGOqLOoI1JLxu3btWlu5cqXLAKYhz+eff+46wBOgpWwG2cE0CgwnAlj+cVmCxps2bXKZxzt37nSZxwS2yJpkU4rPTc0pB/6948aNc9nXflCZIHKCBWoi44A3CCjzdQS/yYDu27evffXVVy6wzXMSERGR9OHezvxk9+7dbi7y6aefuvtt60aNXDbz+bly2eikymdQMmPIkMCjiYiISDTw7vAiySNoRMCV4/ccgb/yyitd7dVoouCyRBoC0WQAE8ilvAYBVGqtsiHEn5FQwoZrCwtTPwOKjOwhoRajiQyCynw+zfwo0XH++ee7jO9Vq1bZ/v373WsjIiIi4cc8hPkH91s2nL/77jsbMmSIK4V1RaFCtjNwrw41TlBSQ0FmERGRqODd3UWSx+SRzETqOZYpU8YKeRPGG264wR3hjxYKLotkDq4nlNh49dVXXf3G8uXLu3IY9XLlsh9CZDuxOKU0xpPxBpnKFb3Pp940pUNmzpzpsrvJqIrW2vAiIiLZFSevKH/FiSEa9L7/2ms24fTTbesppyS4tweP/eeea3999FHgUURERCTSeHd0kZQhIETgpn///q6OadGiRe2OO+5wdWKjgYLLIhmLusrUauzXr591rlvXRhUokGRWE/UbCSAX8EZwHWYGG1ytWrVyJUBYwFI6hMcXERGRrMcmL6eoKNH166+/2qyxY218+/Z2OE+ekPd8xn5vfbHqhhvst8WLA48iIiIikcC7k4ukHBNFgsl0pSfTsGTJkvbAAw+4DIVIp+CySMYgi4mGejdfc409WLas/ZjEwtIfy3LndvWTgwPKuXLlsooVK7rmgVOnTnX1nikBoixlERGR7IsEFTaAf/vtN9uydq2te+wx+9NbR/j3/FBjaYUK9v/uvNPWrFnjvl5ERESyL+/uLZI61HhdvXq13XTTTa7BX7ly5WzAgAGu3lokU3BZJHxYCLLpREf5B84808Z7i8iDuXIlWDyGGttvuMHanXee958xQWXqvLdo0cKef/55W7JkiSvRQ41HERERiTysJQ7t3m37Jk603ffdZ7+XKRNyPsCgpMbo006zV//7X/v2229dA2ARERHJXry7tkjqUVNt8eLF1q1bNzvFm/TRiOu5556zw4cPBz4j8ii4LJIyNA4kyDt//vzA35zEtWHlypX2+OOP25PVqtnaJLKUT3jvNevb12zAgJgxbJjZ6tWuxMUzzzzj3ovXXXedTZ482TZv3uyuLyxIRUREJDqwGU35jEOjR9vvHTuGnC/4489cueyDcuXcCcpJkybZrl27Ao8iIiIiWcm7U4ukzV9//eW6Qnf0JoK5c+e20047zV566SXXTCsSKbgskjgWfzt37rT33nvPLr/8cqtSpYpde+21tm3bNvdxylN8+/HHNvHMM+37ggVtVxJZyifatTMbN859XSiUueB7UZ+ZWo3KUhIREYl+rnzG7t12dNAg+7ty5ZBzCAY9Gablz28DvDn7gPPOs+HDh7sm4yqfISIikjW8O7RI2lE/bdasWXbBBRdYnjx5rHr16q7BViQGmBVcFkmI8hOLFi1yjTybNWtmZcuWtfzego5yFfXr17eRTz1li7p2teWlS9uh3LkTLAD94bKUvcewjRsDj5w0FoiqpSwiIpJz/Ttpkv191VV2wpt3hJpbBA+ymj+tWNGV6pszZ47LhhYREZHM4d2NRdKH4BPNus4777zYAHMkZjAruCxyEhnDH374oV3lLeqqVatmxYoVc+9vvw5yb2/MzZ072TrK/zZunGSWsoiIiEiSDhywE96cxG1Uh5hrBI9rChWySpUqWZMmTax37942YcKEqGg8LiIikp15d2GR9OPY+rRp0yI6wKzgsuR0lLpZvny5PfHEE+69QLNOmunFNtbzRn9vLPFG8EIu/vjr0kvt38cfN1uwIPDIIiIiIulEmaw5c1yfBkpsJZXRTOmMj085xVqVLm21a9e2Ll262CuvvGLLli3TySgREZEw8+6+IuERP8DcvHlzmzJlSuCj2Z+Cy5JT7d+/3zXG6dGjh6udXrx4cdeo0w8ql/fGk95Y7Y3ghVvw+MNb5B1/+GH7d9GiwKOKiIiIZLCNG+1Ev34h5yYMgszMYarky2elSpWyqlWr2jnnnGOPPvqoffnll65nhIiIiKSPd9cVCR8/wHzllVe6SRtH6yOFgsuSk/z999+2atUqGzRokLVq1cr93hcsWNBy5crlrcVigsp1vTHCGwe8EbxQ8wd/z4LtjvPP99Z2KaulLCKhqRGViEgakdHcsmXIuUr8QbB5vDfXaVW4sFWsWNEaNWpkvXr1sg8++MC2bNkSeEARERFJDe8uKxJeBJipbbZ3796IWiwruCw5wcGDB23q1Kl24403Ws2aNa1EiRJxspRLeIN6ygu8EbwYCx47vUF5DD6Xr6lTp46NGTMm8B1EJDUoR/PNN99Y3759bcmSJYG/FRGRVDlwIKZkhj9oIuzNUZIak71xRu7cVqhQIVcKjHlRp06d3DqAZsZsxIuIiEjyvDuriEDBZYlW//zzj/3666/2/PPPu7I15cuXdwupDrly2ThvYZVYZnL8McobwUFlf+TPn99uueUWdWYXSSUCy19//bW1bNnSNc3k1I8aT4mIhMnq1WY9e5oVKBByXuOPeUWLWg9vTlTQG8xpKJ9RpUoVO+uss6xfv342Y8YMtzkvIiIioXl3VBGBgssSjfbt2+ca2JBdXLJkScubN69V8xZS0+MtrBIbBJ4pjcHXBAeU/ZE7d25Xv/Dpp592tZtFJGX8wDL3Hd6XBDJeffVVZcqJiISb3wgw0AwwqWDzcW9e87Z3TWYjnR4ybPxVqFDBGjRoYD179rTRo0erFJiIiEg83l1URKDgskSjTZs2WZ8+fVwtZcpdzPEG9QZDLaiCB8Hn7t4o4I1QQWUyn2mIQzBs5cqV9ttvv7kMaRFJXqjA8rBhw+zQoUOBzxARkQyzc2dM2YwSJULOgRj7Tj3Vnmjb1k71/mTewzyKuU/ZsmWtRo0a1qFDB3vuuefshx9+cNd0ERGRnMy7e4oIFFyWqELt1t697S9vARR/wRQ8yEwe4o02QYNGfvGDyf7CiuY3lMCgbvPWrVtdl/V///038E1FJDnBpTAUWBYRyULUaR4xwqxu3ZBzJMY/ZcvalgsvtHcvu8xOP/1016eC+VC+fPnciTCu4awf/vvf/7q5EZvtIiIiOY131xQRKLgsUYGjmp07J1gchRqUu4hfPznUKFCggLVo0cJeeOEF13CMZp1//vlnzPcTkRTjfTNr1iz3flJgWUQkGyGbefp0s6ZNQ86ZgseqJk3szrPPtuLFi3v/N6Z8RtGiRV35jPr169t1111n77zzjut3ISIikhN4d0gRgYLLErGoJThkiFmbNgkWQPEHJTFeLVLE7rrwQnv00Ue9Lxtid999t9WtW9f7cNygMu+F66+/3iZPnmxbtmyxw4cPK0tZJI3++OMP916ibieZb35gmfeViIhkE8ypqMucRMmM4LGtUSMbfu65dk7lyt7/jTnlVbBgQStTpoxVr17dLr74Yhs8eLDNnz9fG/MiIhK1vLuiiEDBZYk448a50heJHefckyePvZMvnw30FjqDvT/fqlHDJj7zjK1Zs8Z27dplBw4csD179tiIESNcZ3QWRXRJ59gnC6GffvrJfVyLIZH0IYA8duxYV6eTDDf+HDlypALLIiLZFZnMlMwg0JxE2Yz4Y2WtWnZTvXrudArzKv4sUaKEVa5c2Zo1a2b33HOP22jkFJiIiEi08O6CIgIFlyXbotQFgWQWOO3bpyhD+QVvMVMwVy4rV66c3XDDDfbZZ5+5GslHjhyxEydOBB7Y7Pvvv7eLLrrIfV63bt1swoQJrgv6wYMH1aBPJAyovzl8+HDXFIrAMpnL47z3M/XKRUQkQhBsnjMnphFggQIh517B49AZZ9iUnj3t0ksvjd3A98tnlC9f3p0Y6969u7355pu2evXqOHMzERGRSOPd/UQECi5LtkNA2VuAxF+wJDZ2585tj51yitXwFi+1a9d2ZS8WLFhgu3fvDpl9TPbymDFjXGkMPo//z9F9LXBEwoP33tChQ919hVIYZK198cUXdvTo0cBniIhIRCLQnEwzwOQGpco+yZ/fWlSpYhdccIE99dRT9s0339gxSnOIiIhEEO/OJiJQcFmyDRrKVKuWYBESaqzyFiXPFihgj+TObRUKFrRzzjnHZUmSBUPG5N9//x140IT4GBnKlMdI6vNEJPW2bdtmDz/8sMtY41g07825c+cqaCAiEm38rOZhw1KVFBA8CDR/e8op9r9ixeyVihXtpc6d7atBg9zGv4iISHbn3c1EBAouS7awZEmixy3/atbM1rVubR/Wrm1Dihe3+oUKucYxNI3haOUnn3ziGu9x3F6N90SyzoYNG+zOO++04t77lDrm7dq1s4ULF9rx48cDnyEiIlGJDcR0BJlDjb/y5LHN9evbHu++cmL2bLPVqwPfTEREJHvw7lgiAgWXJUuQpdy0aYKFROwoUcJ2eL+PgwYNsrPOOsvVRiZYlTt3bteF/MEHH7Rvv/3WZbYoI1Ika1FShlMD1157raurWahQIbviiits5cqVOh0gIpLT0DODjObEBk2ZQ839UjpIRqAXBz05eDwFnUVEJIt4dyWR7Id6lNSlnDJlSqZleim4LJkuiSxlxvarr7Z7b7/d6tWrZyVLlnQ1Wwt4n8/v6UsvvWQrVqyw/fv3219//RV4QBHJKpwWWLx4sXXq1MkFlYsVK2Y33nijrV+/Xs0xRUQkNBIDCAwTIO7Z0/4999yQc8JUDeaW3bvHzDNFREQygXf3EcleCJTRSb9Jkyauqz71Y48cORL4aMZRcFkyDbX56DaeRF3lI3nz2hkVK1qRIkVcljLB5S5dutiECRNs06ZNdvjwYZW+EMlG1q5dazfccIPbACpdurT16dPH1V3W+1RERFLt2DH7e9YsOzJxoh267z47eP75dti7t4SaMyY7WrY8md28YEHgG4iIiISPd7cRyV44Vjx9+nRr0aKF5cmTx0477TTXbZ/mZBlJwWXJUByNJKDcpk3IbOWj555r3118sb1bpYo9U6SINQmUvqhatarde++93npgju3cudP++OOPwAOKSHbCJujYsWPdxuijjz5qu3fvdvczERGR9GKjkp4alEHbPGGCzR040L5o3ty+LFrUNsabU6Z4dO5sNmpUTPa0iIhIOnh3FZHsh7IYn332mbVu3doF2MqXL28PPPCAy9jMKAouS4Zh4p5E+Yu/TznFOtWq5bKT8+bNa/ny5bMzzjjDnnvuOVu6dKlKX4hEAALJBw4csFWrVmX4ZqiIiORc3G/os7Fv3z7buHGjzZ071wYOHGi3Nm9u7fLntxHe3PJYvLlmkqNECVeSw8aNM+9GFvguIiIiKefdTUSyJyZNs2fPtksvvdTVmqXrPk2SFi1aFPiM8FJwWTIERxBDTeS98V2VKjbM+71uULiw20Thd5zf9/fff982bNhghw4d0pF6kQjCgl/vWRERyUw0jD148KArxURSwhtvvGHdu3e3K0uXtt7efHNKrly2yRuh5qIhB6fsqNlMKY3Jk1W7WUREkuXdPUSyL5r5LfEmNDfffLNrkMS4+OKLbdq0aWFfwCu4LGEzYkTIeson8ue35a1a2cjq1a152bJWsGBBy+VN9itVqmS9e/d2v4M7duxwpS90nF5EREREUoP1EWWaKJ9BL4DJkye78mqUbHLlBr1558V589pdhQvbnCRO1YUclNGgb4iIiEg83l1CJHtjN54sTmpYli1b1vLnz2+nn366vfPOO2GtP6vgsqRbIkFlf7xcoYJr9EXpC0bjxo1t0KBBLhufo41spoiIiIiIpBeJCn/++Wds+Yx58+bZ4MGD7aKLLrKiRYt6U9P/sxp58tj/vLXVFu/P+PPWRAdBaTKb1RxQREQCvLuDSPbHLvyePXvs1VdftVq1arkyGTT6e+aZZ9zfh4OCy5JmyQSVGbty5bKKuXO7yTzZ96NGjbJ169a5Y4z//PNP4IFERERERMLPL5+xfft2W7FihUvUoeRglSpVvKnq/7ms5hvz57fnChWy7wsWtCN584ac08YZLVuqKaCIiCi4LJGD3ffDhw/bxIkT7eyzz3Y1aslk7tOnj/3666+Bz0o7BZcl1aZPTzSovMublN9UsqRrrHK+N1lvXK6c9erVy5V0YVJP00qVvhARERGRzEbiDnPR3bt3u3XU559/bvfff781a9bMJfEQbKbBdPkSJexqbw47yRvx57pxBtnMwbWaaQ5I3xGV0RARyRG8O4FIZKEUBl2Ru3Tp4koLkAl65ZVX2vz58wOfkTYKLkuq0NwkRK26fd7v5A3FirkJOZPzevXqeXPsAfbDDz+4LHuVvhARERGR7MIvn7F//37bvHmzLViwwIYOHWodOnRwzaYJNFOvuXKRInZFqVI2snRpO+rNc+PPgZMcBJ3VGFBEJGp5V3qRyEOAjuNcd955pwsu0xjtvPPOc00rOPKVFgouS4qQgdG/f4KM5UO5c9vNhQq5yXfhwoWtTZs2NnLkSPvll1/swIEDaf69FBERERHJLJRrO3TokGsyvXLlSnvvvffsxhtvtOrVq3tT3v9zzahLemuvB4oUsXUpKZ0Rf1BKY8iQmMzmjRsD31VERCKZd3UXiUxMfLZs2WJPPfWUVahQwWWKNmzY0IYPH26///574LNSTsFlSRR15JgEc9wvxCT5rVNOcRPtcuXK2XXXXWeffvqpbd261XXrVukLEREREYlEzGMpn8HpO3qFTJ8+3fr16+fWTJwgJdjc0JsHP1mggL1VpIj9VLSo7S9WLOR8OcmhzGYRkYjmXclFIhf1wuiATIZo/fr1XdYoTSkee+wx27ZtW+CzUkbBZUnADyrXrZtwEhwYx7zRrmpVe+SRR1xpFmrXcbRQRERERCSacHr0t99+cwk+P/74o7344ovWsWNHK1WqlDct/j/XE6dIkSJWvnx5u6B6dXuyTRtb3K6dncifP+Q8OuRQZrOISMTxrt4ikY0ddTKVaURBKQICzCVLlrSePXu60hkppeCyxDFiRJJB5Y+837N3Tj3VRg8caKtWrXITbZW+EBEREZGcgFOkNFunfAZz4ffff981r65Vq5Y3VY4pn1GgQAErU6aMnXbaada3aVOb2rGj7Wvd2k4ULx5yfp3oILNZzQFFRLIt70otEh2OHTvmGlBce+21rg7zTTfdlKrsZQWXxSGo7E1+Q01sd3rjqUKF7K5LL7WJEye6pidsbJBBLyKRTSVsRERE0oZ7KE3XKZ+xfv16mzVrljvVd/bZZ1v+/Pm9afT/uTIaJUqUsMqVK3tT7aZ2z2232ZwBA+zI3XeHbJIdcvB5vXsr0Cwiks14V2iR6PHXX3/Zhg0bbMqUKTZv3jy3o55SCi7nUNOnJxpM9gdB5edKlbLHvcnvN998Y7t27XKbGSIS+ci6YrOof//+LvtKRERE0oc1GQ2tKZ/x008/2csvv2xdunSxsmXLelPrk+UzWHfVrl3brrjiCvvknnts++OP24nLLzcrUSLknDzOINDcs6fZ5MmB7yoiIlnFuyqLRBeySAn8URMsNRRczoFoHJJEpsTBXLnsrUqVbPjgwa7Eyv79+91kWUSiA6dbHvcWsmRR0RiWev06iSAiIhI+3FfZyN25c6etWbPGxo8fb71797Z69eq50hl++YzSpUtbtWrVrHXr1u5+PGf6dDtGEgiZyiHm6QkGc3rKZ6xeHfjOIiKSWbyrsIhAweUchKN0w4bZP7VqJZyYeuNPb5I7qXZtm/LGG7Zx40Y3IVbASSR6UB+dRkRXXnmlO6J7yimnWPPmzW3atGmBzxAREZFwo3wGSUB79+51p03nzJljAwYMsPPOO88KFizoTcP/z92TixcvbpUqVbLGjRvbrbfeahNGj7a9H38ck6kcNGcPOQgye4+p0hkiIpnHu/qKCBRcjnKUsfAmmie8yWuoiehkbwzzJrKfnX22LRg1ymVXUDtOdVhFogubRePGjbPTTz/dLWSp0X/11VfbokWL3HteREREModfPmPr1q22ZMkSGz58uHXt2tXKly/vTc9jymcULlzYypUr5xoFXnbZZfbq88/b2pEj7cQTTyTZfDt2EGzu3Nm8m7/Zxo2B7ywiIuHkXW1FBAouR7Fjx+zfq69OONkMjOPexPW1xx5zk9p9+/ap9IVIlGLxylHbihUruswosqIGDhzoymOQzSwiIiJZg1OCNMqmt8kvv/xikyZNsj59+lijRo1iy2fQHLBUqVJWtWpV1yyQfglfjx9vR7/4wqxv3yTL3cUZlM+gPJ6IiISFd2UVESi4HJ1+nzXLfq9cOeGk0htzK1a0ZV262Oa5c+3QoUOpagApIpGDwPEPP/zgmgkFl8GgkR8ZUzqhICIikn345TNI+qBEHQ21n376abvgggtcJrNfPqNYsWJuw7hBgwZ200032SfeGu73q64KOe9PdLRvr6xmEZF08q6mIgIFl6MAtdVo+lG+fMKJY2Acyp3bJns/52/GjLEdO3bY0aNHFVgSiWJsHH344YfWtGnT2DIY3bp1s8WLF6sMhoiISARgk/jgwYPupNGyZcts5MiR1qNHD9eQl0AzWc2FChVy5TNq1KhhXS++2MZ7a4I1b7xh/77+esrKZ/ijf/+YcnoiIpJi3tVTRKDgcoRbsMCsRImEE8Sgse3UU23Fxx+7JiLHjx8PfKGIRCM2jX799Vfr27evVahQwfLkyePKYDz11FMqgyEiIhKhKJ9x5MgRVz5j7dq1NmXKFHevp5cC93qCzfny5Ystn9GyZUt74IEH7IsvvrAjU6fGBI9TUj6DzxMRkRTxrpoiAgWXI9exIUPsX28SGXJi6I1/8ua1PY884jIeVPpCJPpRs3Hy5MnWunVrl6msMhgiIiLRh/v5n3/+GVs+Y968eTZ48GBr27atu/8TaCbg7JfPqF+/vl1//fX27rvv2jZvTmAjRiSd1UwQumdP8yYVge8oIiKheFdMEYGCy5Fn3/vv2+HSpRNMBCd7E8Fn27e3BUOG2N6PP7aj69crmCSSA/A+X++938lQIks5b968LnPp1ltvteXLl6sMhoiISBQLLp+xYsUKe+edd1wwmQzmUOUz2rVrZ0O89cKCBQvsH4LNSZTWc8MPNqs+s4hIHN4VUqINO7dLly51N8mVK1e6G2ykIDCwf/9+NyHI7CCAgsuRgUkjk8XXb73VjufOHWfC96c3Yfzskkvc7/6ePXtcJoOI5Awckf3ss8/svPPOcxlKZCs3adLE3nvvPXc90KkFERGRnIN1JXOD3bt3uzJZU6dOdZvPZ555ppsj+OUzSpYsaVWqVHEnnO677z77yfucf8uVi7PGCDkINPftq/rMESKz1oWHDx922fNPPPGEK8WSnfz111+2atUqd5LvzTffDPxt2nBKUGUmJZh3VZSsxBucoCbHd3mDphUBZRbVt99+u6s3xQ3y1FNPdbu0LVq0cDfK77//3tWoyi54Ltzs586da8OHD7c+ffrYhRdeaHXr1rU777zTZZ+lxebNm+3tt9+2Tz/9NPA3KRMquMzzYyJCh+Ls9NrlRLw/vvzyS+vXrZu9WaqUbY4XWD5arJhtGj/eHXlXLVWRnIPF46ZNm+zhhx929z2ylVko0jWepn0sLEVERCTnYq5AcJEkJuYMJKI8//zzdskll1iJEiW8pURM+QxKadCnoUmdOva0ty5d1KmTHa9ePc6aI8Fo00aZzNkYAdBnn33WzQszGuvV6667zs1Dy5Yt6xpKZxV+32l+OW7cOHvsscfsiiuusIYNG7r4EL/j559/fuAzU4+4CI/38ssvB/5GxLscBv6ULEBmLhlVvLGHDh2apuAywWkCbry5uUjQMbdDhw7uAsKO2Y033mjVvRsiN8ozzjjD3njjDdc5P7NxQydQO3v2bHvttdfsjjvu8O7Dbax27druOZcpU8aKFCniggIcV+Ljac24Jrg4cOBAd2Ffs2ZN4G+TFz+4TJbbBx98YA0aNHDZb/wdjeAkc9GsY9SoUdaxY0e7z7tRHwsxqTvcq5d7/2gDQCTn4aTLI488YsWLF3cLQybObDByz1G2soiIiMTH/IA18fbt2+3nn3+2MWPGuOAjpTL88hkFCxZ0AULW0l1bt7YxN99su7x1dvx1SJxBNnP37mZLlgS+k2Slo0eP2j333GOnnXaaS8TLSCQz3Oz9jlB2hd8hfn82bNgQ+GjGI97yww8/uGSLyy67zNUXJ5BMbIM5cgHvd5Pfa55b7ty5XTJfWvG9nnvuORfH4T0kAu8KKFmBC93IkSPdsZz//ve/Lts2tYEx3sjUiKpXr567eJGhPHbsWLfQJsBKcNbPvL3oootc4JYb5uuvv57pRxiOHTvmds2uuuoqN7p06eIyrLnIcYELHtzEX3jhhTQHCvk6JggcbfKDxCkRP7jsB/9r1qzpAhY8rx49etj8+fPdBVUyDj+z1atX29NPP+06PFMXrUUiDftOeD8v27kz8JUiktOQmcHpH79Jz08//aRsZREREUkR1nWszVk3r1u3zmbMmGH9+vVzaxDWz6xP/VNRnJBq2bSpveytZQ9UqxZybRJn9O+vshlZhJ9p7969XQIesYGMLLnJY3OCvHDhwt6PPWZzoqn3e5KZSQ78Hn/77bcujuEPki/8euPBg9gGc+f0oNQM5WWIZYnAu+JJZmPRS40bFsK9evVyb8zUBlIpGXHvvfda6dKl3c2uc+fO9t1337mLaHwEdidNmuQC2exSEYT+/PPPAx/NHFzsCHZv2bLFBb8JjPPvfvzxx91OWvDFjueZ3ufHUSeOORHIZjc6JeIHl3nO7GhPnz7dZc1Sk4udSILir7zyijtWJeHF7y9lUpgIsGnCMTVuWnULFLCVRYvGTtRO5M9v/952m9mQIQosi4j99ttv7ugfJx1UFkdERETSiiQs5hUkfy1cuNCGDRvmMkFZd7NWZT3NqeCq3prxvZIlTwaSkxrt25uNGqVAcyYh3kKwlw0B4g2hYiThQqzl7rvvdqew/XgG61fKkmY2gtx+kiFxDOIVxFX85+UPguDpjWXwPuFkPElgiosIvCtddCEgSB0lbgbZERe6ESNGWK1atVx94a+++irVO1ocryCw7Adl2VXlokGJjMRs3LjRBbL5fIKkXABpcJSV+FkR9KbsRPDFjoDwL7/8EvistKF8BQ0byNSmS3BKhKq5DLLieD5PPfWUq2XNzYLPIUOOOtb8OyR9+F2kJhWbJGQEcHNm4lbPmxDMDFXnjKCyiEgA1+HMzA4RERGR6MfcggZtO3bscKcqWa/ceuutVqdOHbduJUO1av78drm3Lu9RoYJ94K0V//bWignWLv4oUcKsd2/zHizwHSTciLfwM6K5M+VH2SjIKARY77//frfZEBzPIN5CglpWY35MXCz4ufE7S3nS9MYw+HpKsbJmp3+WiHeFix5kK02ZMsUFbdmpSm+AMtwIUhLopM4wpRYIMrPTlRoEzjl6wC4cFwfq3LCbmtxuHIFnmhb4NYDIXs4O3Uu5QVMDyb/YkYX94IMPutcqPcgEp/xHqVKl3O9CSgLpiQWXweOxC0iJkfbt27vnyWvZuHFjV5qEbGxJHV5TstepN37OOee4150yKdyg+J2YfN559neRIgknZRxBU7ZyiqX2VISIiIiIiMRFMI3MUNaVnCKm7xHBNdYx+fPnd2tZkpA4edmrdGnb560XE6xjEhsEnXv21BonnQj2PvTQQy5RqXz58q6xc0YhvkJ9Y4LY/Nz9eAaDGERW9LmKj99Zfk+Dnxtr7WeeeSbwGWnHY0+bNs09ZmaXAJHsybuSRQ8CrASqaA5HVi9B2OwS9CPA88knn1izZs3czhY7XNR1Sg0allE4ndq/vIm5iVGIPaVF1KmrQzCUryUwys0wtcHtcOLiT+dWdvb8i121atVcLepwICu6bt26KQ6kJxVc9hH0Ztd6wIABLsOWekUE+tu1a+e+X0bWcooW/M5Rt5rseRpvcfPlhszvMyVRJt16qx2vWDHhpIsGGUy6tNOfKmRaLF26NPD/REREREQkvQguknxE2cdFixbZq6++6prsUyaAdS1BvA4FC9o9xYrZEtYx8dc2iQ1/zbNxY+A7SUrw8yB5j2Av60rKkGZUqTS+F/EA4gBnn322XXrppd6P7mTwlvKc6c0MDgcCvgTA/efGYN3N6etwoBwd/15eb4LYkrN5V6/o4WdC3nLLLS4Dkgs7DcGyQw2Yr7/+2i6++GKX8UrNJhoOpfaCQ3C4SZMmsV0+/drJKc1M5CLSoUMH97U8xpVXXmkrV64MfDTzUd7DL9XhD46uUHM3HObNm+ey2KkpRCA9uWzolASXwevNRGLmzJnuNSRQzwWVYvlkSWfkDmkk4304ceJE69q1q9tEYJOFmxG7+7wnyGLnd8I16PN+F+IMjo9pJz9NeE1Hjx4d+H8iIiIiIhJOrA9JBNvprVc4Pf3RRx/ZHXfc4Xos+Wv3Jt568aWCBW1PnjwJ1zqJDQLNnTubjRihYHMSCKKSTEb8h+SvLl26uJ9HRiBgPWjQIJcgddZZZ9ny5csTnMR+8cUXA5+dtXiuJDf6z41RsWLFdJ8S9xFkr169uvsdv/baawN/KzmVd8WKLlxYlixZYldffbXblaFGLs3XqL2TVbjg8GYj4E0ZC8o1kLWbGjQq6tatm7tYcVHg30bd5dQEzgloE8TzLywc4cnKHSbqTfMc/OfDuOmmm9xNORzYaLjxxhvdxY5d5FWrVgU+ElpKg8s+fobUMGJXlGL2BEo5gsMFnK8P178jkrGBQnCT14PaThxPKuhNqviZkPl91113ud9BsmvJ+j5BTSzv9yB21K1Ld8bAo0lapCa4zO6ziIiIiIikDesfTmrSA4h5+Jw5c1yWK2sh1kGseZvlyWP9CxSwF4sWteHlytnX9erZPykpo8HaiKSbyZPVHDCAwP6aNWtcryVeWxLLOCWbEQjWEjimuSNrfuILC7y1anBZDJLOiP9kNX4PiVUEnxInXtGjR4/AZ6Qfrz09k3hsTtenNsYl0cW7QkUfdlC++eYbV6qAnat63sV6zJgx7u8zGwXkn3jiidjmewS9kwtyxke3T5rJ+Y/BaNSokX388cepyn6m223Hjh1jH4OSER988EHgo5nv7bffji3xweAIC/V/wlWvhxs6pVF4bMotfPbZZ4GPhJba4DJ4/dkV5SgU36tChQru5sINh9eazPJw7QxGEv7N/L7xmpBtz+vBxgg3N2oyUaea14yfkbsJMTmiSZ/3Me8HdnIcOBB4REmr1ASXNSEQEREREQkfApKcet26datLgqN0AzEB1o2sU0m6ISBapVw5u7ZSJfvy1FPjroeSGmQ15/CSgZRGvfzyy13glNgPSWUZsabh50jpE0qwEotZsWKFW/NyUt6PZ/CzrFWrVpbEneIj8Msa0H9uDF4feoCFC9/jnnvuiX3sH374IfARyYm8K1J04o3+6aefuqMKBPuaN2/umv2lJhibXrzZCN7STZYLDUcQXnvttVRfbMjsbN26tXsM3rhcOOmASrZnalAWg/o//sWFCyPNALMCQff+/fu7f4v/fKi/O2HChMBnpB87xgTleeyUBIzTElz2cbPZt2+fa/jXqVMnl6XOriXHRKgtzM0nJ2DiRBD/mmuucceD2DDgZ8yflGThBkdGORsmcTYRqCvm/ZziDCZLkm68D5RFLyIiIiKStYgPkJjEacG1a9e6nkysFemL5K+LWUNWKFnSunlr0rcrV7bNoXrRhBotW5q3wI7Jap4zJ0dkNhNX4ZS6nxFOuUpKY4Yba336QpEYR2yHTQLWssScqLnsxzMIsBKnyQ54zqzJ/efGINGLbOZwIbZGDy0em1jV888/H/iI5ETeVSh6ccyejOUGDRq4rMmLLrrIHUvJLOzcUIbCPyaRlhrH3HyefPJJd6H0LwqU+qAUAzen1KCWMTWN/cfh4keBdy48mY0LMrWQ/OfCICjL34cLFzuC51xE+bdy406qPEp6gss+bjBkirKryY4mF1lqC7dq1crV3opGvM40sqDcC+8xduH90hdsqHCDnT59ums8yc5ynA0eNjfojuz9/OOM8uXVuC9MeL1Te60QEREREZGMwxydJBASlDZu3GjffvutO8XLeopMZn+9TpLOad766vaqVW1m/fp20PvvBGunpEb37iy+A981erC+ofwEZRf914rYS7izlgkiv/fee66eM4ljP/74o/s7fn783NgM8OMZxB3CmSyXHsTC/NeGwdqcE8ThOiUOXoOxY8fGPj6NDSXn8q420e3w4cNuN4sGYmSTXnXVVa72cEY7dOiQCwpTg5c3G2UBXnjhhVRnLdMIkPpM/kWBwQ0nLTtyFLmnPETwY3GMIaOK3SeFXVqC/v7zYKeW4G+4n8tbb73lXnu+B/WAkgruhyO4DC6y/N6xucC/iR1OMuhpABhN+F1mM4AMdGpOkwnPDZXNFLLQyRrn5rtnz64qYScAALSUSURBVJ6EN/lx40IHlfk7ymOoHIZIVGNiy30yOzTcFREREclqJHxxunPbtm0uaMo6lsxTejaxliV4R8IZQc7zqla1CdWr258FCyZcTyU1qNncpo3ZgAExay4S7xgReMqRwPx1113nXhdeH5KbJk2aFPhoeDBfpek88QH6BRGD8RPz+Ni7777rvrc/iP2w9s1qxCO+++67OKfE+e/7778/8Bnhwfehj5b/PWhySLKd5EzeFSb6sXgl0EWQjwvyLbfc4rq4ZiQCiQQU/Tfaueeea7Nnzw58NGXI8mT30g9QM7h40gQtLQvy8ePHW+3atWMfi3HnnXe6UgaZiQsygXb/+AqDbNeXX37ZXaDC6f3333eZ3nwPSqNQtiIx4Qou+/h3cnMhqE9JlqwI4mcEAkIzZsxwzRJr1qzpaoGzU8zv6YUXXuhqafP+4vcq5M4oDfq8n0eCQb1lZSuLRDWu8dQcpO46J2moUxfu676IiIhIJGNuxIlbymdQUpCyg/fdd5+dfvrpbt3F2pakHoJ5V5crZ89Wq2bzmzSxQ9Wrh15npWZQXqNv35PB56xqrs73pkwiwXDKfQRhjUmPLT/DmxgJDf3Cud7me0ycONHFKRjEcoITBUmeInHRj2cQvCXmkx1OjPLcBw4cGPvcGPzesIYPJ35P6bMU/D1+/vnnwEclp/GuHtGPX3p2ANmpoUQBR0v69Olj69evD3xGeHG05cEHH3SZ0rzJ/Kzc1AaE/dIR/m4cg6MNlFxIy0WLoF/w0QjGHXfc4eofZybq/Nx+++1x/l0tvZsYpRPCbdy4ca72L9+D4vocaUlMuIPLPnbvOJYS6ShrQa2p9u3bW6VKldxGDT9DXi8CzTQvJGjERChksIgdcSYp7Jh7P4/Ywf/PxHI1IpI12GyjpBO16UqWLOnKVZ133nm2bNmywGeIiIiISHysJ4kxbNq0yebPn+/q3LImI67BOpegHv9NELRevXp215VX2hcPPmgHevc2K1Ag7torrYPH8b6nK2uYkWU2RoyICSjHf95B35O1NSUY/FgCc0qC7+FCcJb+Xax5yRQnThH/JC6JVAT3/efA6V0CutkBQXDKcvrPjUFCGKerw4k1/9KlS2O/B3GvadOmBT4qOY33Ls0ZCMay63fbbbe5oFiJEiXcBSicBc19BNmaNWsW+yYjc5agXGoDwmQaUzDefxwGjf1o8JcWBEyDs4UZBNnJRM1MoUp99OjRw9UqDjdqHrGLyfcgsP7SSy8FPpJQRgWXIxnZ15QSeeKJJ6xFixYu+9+vYV23bl177LHH3ARn9+7dSR+BGTUqdBkMjmSJSFTjiOfHH39sbdu2ddcQJt8sgChVxHWXY40iIiIikjwCn8ytSPxhnTbKW2fdcMMNrgwoa16Sf4h3MOeiRvDFF19s7/XubesffND+8dZuLnDLiL8uS+3w1tYuszhcwWaCypxkTex7BU5b+1nLfiIfg38vZSDCgccnmEwZDMprEmSOv84lrsPnBCfLUXs5XM8hvXbs2BHn9eF5shkRMgEsHUIFl0kkkZzJe6fmHFwoVq9ebTfddJN7s7HT9NBDD7ms5nChlMWAAQPivJlZUBOASw0uYJTyIJDnPw6jV69e7mKRWgSQqY0bfAFkkM2dZFAwA3ADZFfVfw68Vo8++miq61GnBDWS/Bstx2aog50YBZdP4kgR9ZMoIcMGB5sxBIS4cXPcZ4R381+1apXLevfrTiWKyYb3M/Z+CHEHfxeB9b1EJGW4H86aNcsdGWRzj/sZG5xsLnKqhHtZZt9/RERERKIFwT3mWyT6rFu3zmWNcoKapCDWbqyBmX9xYoxgKQlw9FyaPHmyy4R2KEvo114mIYgSFKEyh5Mbfu+clGKNSGCa75dYUJlBMlJQGU/mjpy+9mMJxDfq168fljklQWPWwMQPWP+SHBEqCYK4xb333hvnOVAbOzskTPBvIEnRf24MEsMoSxpu/P4Fl8XgdSD5THIm792asxBgXrFihSv+zoWWJmQENqlnFA68uTp27BjnzUxJjNTWNSYITjZv8ONwU3j++efdvyG1yNqmdEHw41Ejd9CgQWHfwUoKRzG44HCB858HdXuTKleRHnQvDW6CQLZ6YsFQBZfNvQ9Gjx5tnTp1cq8bAXleN3a++X2kESPZ/gSfk83E5+bKBMO7OXs/gJOjZ8+YScLGjYFPFJFowrFBGpqyGcpChoAy91sWNGQzcA2JhlJBEj1YJNKAdvDgwWoyKSIiEYs5GPcx5lrMxQgoEpsgjsB6mMxSyoSS6EUCUbdu3dzcjNhDSKznCDpTvpL1G5nKoU6jBo+kHou1YUqypvkeBJ3jPRZxC9arlKrwYwmUxKAnVXqxtiUjmmxvXiPiCInNVwkiB/eyIrbRvXv3wEezFrGOm2++Ofa5MdhoyIgydPw8aHLofx/iBj1Z60uO5L1zcx7ecIsXL3YXUy5GXJyoj7N3797AZ6Qd5S8qVqwY+wYjO5pAZbKBuHg4fkHBfv9xGGeccYb7+7TgiAYZ1MGP55fryEwE9q+++uo4z+Oiiy7KsCMkBK2Ds6TJxE1s4ZhTg8t+Rj/NI6mFyvuBYz1MPgj8k93PjZYbeYp3YznWFD+ozFAZDJGoxbWEEw3//e9/3bWDzSkm20y+hw4d6hp9sjGVmRuaIslhTrhgwQLXhJn7P42OVapFREQiHfMyTi9zUoz5GcFSNv79kpEEAkkAIImIHkUXXHCBi4nMnTs3+SxgmvwRKKYGc3CGM+Ur4p9MJaGINWD8vjuhhh9UTuR0K/ds1vc8d399zyloTsSlB7EaTprTo4n561tvveUywkPhc4kl+ZnhDGJK77zzTuAzshY/O+I8/nNj8PPNiFPizOnJ9Pa/Dz8XYjuSM3nv4JzJz1K54oor3IWBACQZK+lpbsfXsqgOzspt2rSpy/ZMreHDh7saP/7jMCha/9NPPwU+I3V4Do0aNYrzeASvORKTmQiON2nSJM7zuPXWW8MS2A+FJobBryMZ6zSdCyWnBZe5YRI05lgRR4nY0ea9wA2aBosvv/yy2wwgGJ+qmxGNI7zXOsEINdkQkYjHxJIGM08//bS7z1BPmc0pspYpx0QtNmoDKqgs2Q0Lb+ZVNJZkYcjvLBlc+l0VEZFown2NtR/NldevX+/WvY888ojbWOX+xzqZPykFwelV4gRkA1MWgpIbyaLEBRnO/snUlGYpE5jmc/yTrcmsFdn8vf76670vPRlLIBi8ZcuWwGekHsFiTp/TT4hg+6uvvuoa1CeGADdJE8HPga9jLpzV+DkvWrQoTjyKOTllYTMC32/SpEmx34vgMnEEyZm8d3TORcCMHarLLrvMvQEJ3hJwTisW0F26dIl9czF4bHa2UoMLFvWWgy8KDC4KiQVGk/Paa6+5m0Xw41HcP7W1oNODCzcN9SjH4T8HApp0u01tZndK8JgEif0bJoPSDold+HNKcJlJBbu7bKywq8nPg5sOWfZXXnmlffTRR968YKMrYZLqn0vfvgknDexAM7lQYFkkqjChZDLPkUtq+3E951pCBsztt9/uTqSw6ZqWUk4iGY372/Lly92pLsq2kGTAfCSzmxyLiIhkNuIgzNGYx7HJyhqdRst+UhbzOdaI9Mwgm5f+GcQTaCCYYAOWQDKnVikLwbov/low/iDhiLUh2c+pRNC3atWq3sPErO15no0bN07zXJO5wJIlS6xBgwYuwYo5LWvgpJAZTP+Q4OdA6bfsMN/lOTz33HOxz41BTIk+VBmB34Xg70dwmdP2kjN57+6cjbpEHP2g0RtZvOmpAxmqlAX1llObDU0WL4X2gx+Hi1a/fv3c800tivXTuI/HCH5MSkSEq9Z0StDRlh3Q4GMsac3sTgky5diRDf43UwqF3dpQIiW4zO8oNbxTk03MjZMmD1z8W7du7f6N3ED5naBhQd++fW3OnDm2c+dO9/gJJg1JYUJBM4b4O9NMLsiMV21lkajC9WTDhg2uZv+ZZ57pNqY49VC8eHHr2rWrzZw5021isVEqkh1xj+OIMAkAlIHinkgz5tT2xxAREYl0zOsIqFI+Y82aNa4ZHEkCZPKyfmbtzrqRwDPrRpq7P/744/bNZ5/Z8aFDY4LFwWvAUIMMZbKTCSqn8V7L86RucHACHklkPNe04PE4pUtwmn8fJ/CS22Bm/kCyH5nK/nNgDvzAAw8EPiNrMfe+8MILY58bg38ba/yMwGvIKfTg78cpdcmZvHe6sPvEgiK9DYbYzaNBoP/G4mgwwTzedKnBRf2aa66J8yblYp7WgCe7kSyggh+PYEBamwOmFcXeqcET/DzI9GYHNCOQfRv/YkehfYIioURKcHn27Nku65hi+QSEk6qJxdEhakmyWcFxdX7u3ITJ0iIoxO4sGfdsQKSq9AW4STFBCNXdl8Ayx6NEJKpwr6SmHBNHMpWZ4NP0hJM/EydOdJPXtGyCimQmmhyz2cyCi3kbvQXSUxZNREQkGhA8JSZCkgBrZurpPvHEEy6gzD2zmrfOG5o7t/3ijQTrv1DDP8EahmQjAqcffPCB97An1/ZsEFPOKrX4dxJzIcuWfxcJaSSmJYfYCbWr4z8HEiuyA9b0lAnxnxsbA8Q3UhuPSikel9Jiwd+PGIPkTN47XsKBNxa7XcGF3ek0SsH51ArVfI+dw7QeZ6BWUr169eI8XvPmzW3q1KmBz8gcXIiDi8sTlCCjOr1B/cRQjoTjPcH/7muvvTbRmkyREFymGdYQ7wbNbik3DorzsxHBDS34daROMhnhNE9kh5ngD1nKlEbp1KmTuzGTwc3ubIo3GKijFSqQHH94N2j3uSISdbjOjBo1yk3EuZ5QSmfKlCnuZEpGXctFwomNZzZnCxUq5DZI+vTpk2F9H0RERCIZyUckFuzw1tUHzz8/9NovMFblz29j6te3SXffbevefttOzJ4d1hOsJC/QIyt4bc+9nFPoqUFgmU1m4iHMZznBm9INZp5D/CRAysElV0ojMxCPYk4e/NxY/z/66KOBzwg/4ggVK1aM/X4El9mIkJzJuxJIOBCko5lf8Js5rQHcL774wn1t8GPxJmXnMLXY4SN7OvjoBoMga2IZvBmBBgJ0nw0OvtMsgMaFXOAzAq/XOeecE+fffdtttyV67DUSgsvcNDjKy+5qzZo13QWcmyq1p6iFxetJzUi6/VI/kp87n0OTIhr38W8kCMTPI1Wv++rVcTsBhxr+zrRqK4tELa4bP//8szv5wv2NI5SckBCJBGwu33nnna6OJGVcKA+WUUdFRUREIhqB4f79zerWDb32C4zp3mjjDdbarD0pe0lT/XAnHTDfpARG8Nqe+zlz0dTgcTp06OBO83J6iRIf1JxOyeDUb7ly5WK/P+tsErnifx4n2pNqCpgRCPRSgjT49SH2wknnjEJQPrhMCa/HddddF/io5DTeFUHCgQULi5TgN3P79u3t+++/D3xGyrHjxJHj4McicMiCPrXYlbvhhhvcG91/LEpsEHDOzHqYq1evdgHt4H8Tgd8vv/wy8BnhxxHtOnXqxH4/biDUrU7sWEiklMXg58aFnHInBOzJSufn6x/v9UtfMPg9oi4qHXDJzEr1cfVx48x69zbvrplgIhE7OndOUXdfEYkOZLGwoZpUSR6R7Gbbtm123333uZM8LEZZ/FA3MaM2uEVERCISQWWa84Va9wXGxpYtbXiVKtbIW2/6a23WomQWs+5nrZrYmjutSI7iBK7//Vj/VqpUKVVlPv2sZUpZ8BgEX4mNpHSwzo7fx4o1d/zPIwaRmucVDszPab4Y/NzIquZ1ywi8lsQYgr8frw29zCRn8q4OEg5r165NEDzl/9NELbUIitKxNPixyLSh1EFqURqBWrvBj0XJjfnz5wc+I3NMmzbN1d8Jfh7XX399oiUqwuGtt95yNwD/+xF4JdsuMZESXPZRU+n99993QfrgjHAGN9saNWq4Ui2Uv0jxzY0MRLKP4zfnCx5+MJnPI6NZREQkG2OuQe8BemFw2odyLpTHUGBZRERyvBEjkk4kChprzjrLOjVv7rJ3CaoSTGzYsKHL1iWoTN3ijLq3EiQNblZHxiyN6lODJC1qNAevm8M9eE04RZyZeM3pYxUcE+B5UCI0o/A9x4wZk+DfntZSrhL5vKuEhAMX0x49esR5c7GQSUlh+PjiB5d5k1IGIbW7fxzFoPu5vzPHIGOHv8vM2phceF5//XV3BNV/HtQL5nlkVPY0/3Z2zXjt/O/JTl5SNbAjJbhMptUIbxLAJgE1jlgoE0zmJs/zp1wGN1ua9vFvOf/8890NP8kyKH5zvmSOPbluwMpQFhGRCEHGMv0d/MAyDXFJCAh3RpWIiEhE4YQqZQ1DrfmCxp9duti8jh3tqoYNXSYsAUzWmiSOEahljcmJtoxGcDm4eRzB7Ztvvjnw0ZShJEb8nkzhHrw+NArOTMxpXnnllTjPg58R5TkyCt+TspvB35PYy9KlSwOfITmNd8WQcCC43L1799g3FoE9ShakZfFCWQxqFfmPRXD4qaeeCnw05SibEHx0hMHuXlpqN6fHrl27XKH84NIcNCgk6zajsHC88cYb4/zbCbJ+8803gc9IKDsHlznmsmzZMleQnxs5N3Z+x7h5sRFBIH3BggW2efNmt2tJ8Pmss86KLY/B8Rx+p/g5kLX+1/LlMeUuCBZ7r02SgyZ+fqayAssiIhJB2OSnHwH3dprcchxWgWUREcnRliwJve4LGkeuv95e6t/fGjdu7NaSBCtZe9ILiozVTZs2uWbzmSV+cJkYCb2GUoP7P6UciIekdkyfPt01s/a/P69H165dXUwjeJC5u2bNmsB3zBwk7F166aWxz41BDICYSEbhZDRZ68Hfkz5PqS7DKVHDu3JIOMQvi0EWaVp3ighynn322bGPRbZxWi6c7CTS1M1/HC6GBCEz8yYA6k5fcsklsc+DQT3qH3/8MfAZ4Td79mwXSA/+njfddJPt2bMn8BkJZcfgMp1nZ86c6Trb165d22V/cyMj85tg+ciRI93GBk0K/Sxwfvb8jPmdHD16tLVr187Vl+Tr+F16sGxZ+8v7b+9FSXwQdCaYHMYOvyIiIpmNeyJN++jxQHaVAssiIpIjUf6QhKFQyUWcXp082U54a+gdH35oL/Tp4/r6lCxZ0mWjEqhk/f7xxx+7UlMZVcc3KXxP1rX+2p4azx988EHgoynHmpnErdQMAqaLFy9262n/+xPcnuy9ZpwIjz8y6nR2YthIDz4lTlIfyXwZ+TxopMjvRfD3JLlPci7vSiLhwM4dxzL8N1eVKlVcl9S0YKcruMQGgcQhBPpSYfny5S5Dxy8LwZudGoNktWZ2jcFx48a5+r/+v4fnwhEKAqIZhd1UCvz735PayzQYSGpRmZ2Cy1ys33nnHReUr1y5svsd4HVj04Ja1Z9++qm7sRNETuzfxM+ZmzBlNOaOHm0fnX22zShYMOFkInj07BkTVM7An42IiEhm4j7JwlCBZRERyZEWLEi8/OGAAe7+SMISZaQoJUmgkrUnAdQuXbrY1KlTXZkpykpkFYK2ZAr76/uC3rr2s88+C3w0YxGkffXVV2O/N4PXKC09scKNn92MGTPcz8t/bsSAiLdkFOIMBNaDXw++54QJEwKfITmRdzWRcKD0Q3DNGYKpBDjTggvnE088EVuQPbVlMdhd4+JH6QT/+XCcZfz48e5jmenPP/+0QYMGxdnV4nm98MILGbbI4/V75pln4uwsNmvWzAVkk5LVwWVuWgT/yS5v2bKlCyTzs+ffQcdZ6m7PmzfP/a6l6sY+apRZgQIJJxLeeKdYMfvMm0TYnDnKUo5S1EBLaS20zN54kozFNYXNyi+++CLJUxsiIiIiEqWGDUt0LUgW84pZs1wco3r16q4/AUFKehRwKptTPyQ9sabPaqx/e/Xq5T3tmPU9weVZ3nPPDPz7L7/88tjvTSCVEh3ZYe1EeQo2BfznxiCORKnVjEIch3Kbwd+TZL7sEGyXrONdUSQcyMK97777Yt9cHENIa6dMLlIEpk877TT3WFzgefNSIiElqCN02WWXxWYtUw6DYHVKMoXJdOVYRbiOUFDbkJIO/uvCaNGihQt2ZBSCKWT3+t+P14+sco7FJiWrgss0H6SMx2233eaOH/Hz4obADfOcc85x5VUIOv/2228p/7n4DfratEk4iQiM73v3dv9OstxFwMaMRD5ONFAbjmsKG1NsVrG5KCIiIiI5xPTpZtWqJVwHtm9v/0ydaitefdXuufpqq1q1qiuhyJqZ4PItt9xi3377rUtoyuzEtKQQ4A0OohIA53lmBuIjBE/9703iHPGV1CIQzLqfk90bw5TYxc+oUaNGsc+NQVZ1Rp4SJyZBhrv//fjdufPOO5WolMN5VxcJB45bPvbYY7FvMIKE6VnM//DDD9ahQ4fYx+vYsaMtWrQo8NHE7d6922W4cmPg67hR8Ebn4pXUm52bx+uvv+4K9NevX9/Vy6HxW3pRL5jGcv6/g3HNNde4TMqM8vnnn8dpiMguLLWJk8uUzuzgMq/52LFj3S4oxe/5WbEhUKZMGevWrZtNnDjRlVthUyHZLG9uHnT8paxFYkeeGN5kgqNPJ7zXn0Ai2azZadIgWSsrj7pJ+jDJW7dunesUzb2Dcjr+QoESQc8//3zgM0VEREQkqtGwL0S28r8vvujWvJTPZP1JgJa5Ig377rnnHtcTidNu4Uo0CyfiLcxn/TU+z51TvRmNdThJG7xO/vfmdDFB4tQgUYwEQOboxBtIABnFCeN0IL5DMl/wKXHiCZTWzKhAL4/7008/xZ6yZ+TLl89WrFgR+AzJqbyrjIQDb7Jhw4bFFlJPb3CZwN9LL73kLjw8Hs3c6D6aFDJgCSxwweLiR+YrR0d++eWXJIOT3Dzeeustq1atmrtI8LVcrLt37+4K16fHG2+84W5W/oWHC1///v0zLKDJ477o3TR5/v73vOKKK1wNqeRkRnCZ3Uoyq6n/3KpVK/e9aEbATYBSKg888IDNnTvXZVmnKNBHhjKNGUqUSDB5iDOYXLB7LSJRg/sOG4rca6677jo3SWVzyi+nw8Ya15RvvvnG9u3bF/gqEREREYlKrB85vRovY/mEt+acO3SoderUySUdECdgzU/z/379+tnSpUvdXJG1anbFc5s2bZr3z4lZ42dWcJn4wqOPPhr7fRnMtzkpmFLEW4hRMEf3H4PXnwA/sZq0IsZDvCX4ubEGGDhwYOAzwo/vGZxUyb+DRMjsuCEhmcu72kg4kGFKnV+/cV16g8sgu5dyDlwg2A269dZbbfPmzYGPxsVFjzIcDRo0cIFKbhhkH1NOIbmbBDeS//73v7FlNPzBjWf48OGBz0o9GsmRNR38uOXLl7eXX3458Bnh55fE4CLH9+OGSaA4JcHsjAwus1nAze+uu+5yPyOO1RDIJ7DMkXU2JpYtW+Z+FikKvBNU7ts38fpZ/ujcOSb4rHrKIlGD0wxkUNx77712+umnu+uqn3lStGhRu/DCC2PL6VD7LEXXFBERERGJTKwN+/cPeYJ1TYcOdvHFF7t1McFN1uYklRGA/Pnnn91cMdlTstkASRU0tPdjC8x9SaDIaCR8ESPw4xl8/9RmBjMX7927d+xj+IN4QHpOFxI7oORo/MfkBHRGIYO8Zs2asd+P36nMCPJL9uddcSS9CCxT/6dKlSqx5SjIGHvvvfcCn5E2BIW5YLZr184FDQhIPvTQQ7Z9+/bAZ8TgIvv000+7ujdcTKjVTKCb55WSHSQynoMbCPqDoDZZb2kp4L93716XnetnXvuD/09GdmouxqnxySefuMA+34vXjPISa9euDXw0aRkRXOZ1oGvqlVde6epZEfjhhlSyZEnXeZd6S+vXr3flKZK9qRMgHjEiJmCcWFCZCQVBZ3asU5CtLSKRgeswG1Bc69u0aeNOqPjXEyZ1NG0li+Drr792G3spKqcjIiIiIpGHdWHv3mYtW4ZeEwbG/nz5rFHZsi5RjTkjp9wIZpItS03ejFqTZxTmt35fKpLpJk2aFPhIxvAD2iSE+fEMTmIPHTo08BkpQ1yHEhj+Y/iDeAvJhKlFgJfTzpTX5Gcb/zEpk5oReD1oosj34HsRb+GkPM9HxLvqSHpRH5ndKy7YfsZsWe8iTomK9CKgwE5Q165d3e4cZTfOPvtsF8x+4YUXXG0kMl8JVvJxam1Sc5ibRUoDC1wkqBlEwCL4wsSgSWFywWV24ijjQAkNdsnIgqbOMsFw//XwBwHsM844w4YMGeIK8FMjiEAIAe70oo4RwRX/AkuQmcaIKT2iEa7gMq8nAWN+PnSRJavQL33BLjE/M7/zLhnNSd7UKWVBsDipOsoMai1TW0tEogYTUU6rvPnmm9a5c2c3meZaz6SWSR0bVrfffrvrBs1JF66BylIWERERiWIkESVzenWfN1d8pkgRq+ytvZkz0o+IU21+UlOS689sjLUzpT1Y65NcEY54S1KYi3M6PDiewbqe2tSpxTydxLfgx+JnQ0ZzcojrfPTRRy6G0qdPHzvzzDNdoklw0Dt4EIchW52kFPpqUQKVUnrpxevBmsT/PsS86PkiAu/qI+nFRY76P8HBWQKcTz31VOAz0oedIAIM77zzjgtiV6xY0WVIc9FgNGnSxAWBv/jiC7ezlpamXHzN1KlTrXXr1rH/BnYDOS6T3M2HZoFkI1Pzk+YAl156qZ1//vmuOWCowZFtdtlo7EfpDnbWvv/++8CjpR3BYb95IBdaSlDQkCCl0htcJgjPv6Nv374ui5CfDUEgfheaNWtmzz33nAvAk82c5O5eSkteMAgqZ6OSF9Se4veQyQs74tyARCR1mHx++umndtNNN7kGq0zcuKaxWUcNe049vPvuu7Zq1Sp3jVMjRhEREZEoxwnWZPrszChZ0p4uXNhK58njkrpYGzNn9JvERzrW0I8//rj3T42Jt9DLKSOxluVUIKfC/cGaPi0nu4mpkFTHiWY/3kKsgMBvcgguc+KZQDFxF06IBz+nUIPsaj6fmswjR45Md3CZ5z9//nyX0MhzJ3GO56KTkuLzrkISDizuqYHZtm3b2IsFgVMCr+HAm5nsXkpiEFBYsGCBy2im+D4Za9TbSctFLhhB8hHeTYvC8jx/MqKnp6AJHBd5AqZcLNMyyHo+evRo4NHShmAMNxp/946fA69Rai52aQ0u873JHKQBIpmF/lF1sswJtJM9TYb2wYMHkw62HjgQc7zJe/5JDo4/sWOdjYLKPo7t9+jRwzU5oAklxf1pXkBQPb2/nyI5Be8jGpEW9hYHBJT585xzznGTWTIlOPXA/SBSs05EREREJIXmzEnQoM8Nb937+3XX2Yz27e0mbw3atEQJtwYlqEwyF8FIEs/CcUI4u2BtTwyE9T7/TpLbMhoxEk6F+4PM77Ri7r5ixQr3/JnjU0qVmtcpweZA8PNIzUg2DpECfD0JLv5z57/T81pI9PGuShIuBM9Gjx5tdevWdW86ji+TUcxOYThxUeLNzQj3ThFBUrJuCdJS3oILUSQIzlqmYR4B3dTW/klNcJmfAT9XjuJw86ZBgt91lyMqHG+ZOXOmbdu2zQXOEw0CESAeNSomAzmxnejy5WM+7k0QvLtD4AuzpyVLlrjgcpEiRdxrwXElMi0Jul9wwQWutjf1oaJh51wko7AQePDBB13WMnX2qW3G3zGBS+/EUEREREQiBD10Qpxm/adsWXv9+utdDeUSgaAymbyUjGA9TwIXQdFoRLCUeAUlJTgtHUmICdAPyg+OU0Yz0ThBNsJz/O6772KzlgmKqxyGxOddnSScyMKlHIO/o0OAmf9P5mp2xw2I4xNk3F500UWuJnIkXOzImqa0BgFxApkEMNMSFE9JcJmANVm4/fr1c7Wj+X4cZ+HmwE2OIyhkFiZZ+oIj7AMGhN6BDh4RWEeZDH6y6/ndefbZZ12tJ94DvB94nZj8kBlPVjzlQ6gPnprSJSI5AXWTd+3a5SZtZDOkdqNMRERERCIcZTBIMgpaH/5TtKi9csUVVqNGDbdmJ95AghOlKWfMmOHWYdF+WpR5MbWE+bfTzyiSyjIwx7/zzjvdZgDlMQiURwLW+O3atXNrek5UUk5V5TAkPu8qJeHEm4zayFWqVHG7aQwu/HTR/PnnnwOflf3wvKmVS3CVhoGfffZZRNyYaNb3/vvvW82aNV227B133OEyitMSFE8quEywmtfn+uuvd9+Lmtf8bCmBQQCVWlbUGE72yAnHmuJNEhKM7t2zZcmL1ODnwmtB5vbChQtduZWrrrrK1QtnIuC/dvz/008/3XXJ/eCDD9L8sxOJNnofiMTg9A99J1LanFdERCQiEWik704ia8Wv69WzOlWrujUU6yn+7Nmzp6sJTIJbTklGYI68evVql6nNa8B/RwJiBMSJSLYifkB2eSQgTkQjQRL5SBZ7++231e9FQvKuVBJuBNOoNUtDN7I02d3hwkdNIMoGZDcs2Gge1apVKzfoRBopx2jIkKW+Mq/xDTfcYGvWrEnzLlqo4DIX/TfffNPt1BEI5SgIN/Py3k2fZlvs2vE5ydY/JaicVD1l6ijTkCDCMpVTghspjf6Y9CxfvtxtBhBMJkjPri2Dnx+vO2UACEJTboT3EV8nIiI5Ez0NaERDzfHhw4dr00VERKITiUVNm4ZeJ3pjXd68Vj2wDuVUKNmv9BeiSRvZsDkNa29iAAQ8U9IQL6sRb+FULzGEzp07u9OJkTCn4TkSbyGuRXIYvZSiqYa3hJd3tZJw4w332GOPuUDktdde67JpyXQlgMbxB24E2QU1PMm6JVuZWrnUw01vc73MQrPEPn36uMB9165dXXPD9NQj9YPL5cqVs1tvvdX9DJs3b25ly5Z1O6NcUAl+UnbDv5knmt1NkJhaygSUE8tUbtPGbPLkmDIZOQSBfzYueO3I9GZTg/IYTZo0ca8xEyYmCTQEJPv/zDPPdDullBkRyY74nVYdZJHwozQMpabYeKR+f4cOHdxxXxERkagybFjIusqMPd76c1DevFbSWyOxRqUn0qJFi9zaKCfPPwmoE8OgNOWNN94Y+Nvsh+As697bbrvNqlat6kqQ0pg7UjbL+T3jlDHJYMRG1MBPkuJdtSTcuFhMnDjRGjVqZNdcc43Nnj3bNWVix4eAM1nNBHGzAzJvu3fv7nbS2EGLlOM0BPBffvll10iP1/P7779P95FZP7js1wamnAkBZX5mbdq0cdlTq1atcrWREv1eNN1LrDGfP5g8EHjO4XifEJzft2+fbdiwwb788ksbMGCAnXvuue619xsd0BwxWhtSSORhIk+Ai40Rar3TOIUNJxEJH0ok3XPPPW7exD2ZU1XMm3JidpaIiEQpgsoh1o3LS5e2K73RNl8+K5Q7tzsJ/fjjj7sToKyb0npKN5qwjiRIy2tD/ens+pr4wWVO7RITSktfqKzCmueWW25x8zCSJTlNJpIU7womGYESAHfffbe1bt3apk2b5mrPEoBgx5Gi+zTMmzlzZpbvWhEopZYhf0bKjYrF5YQJE6xp06Yuk4k6U+EIivvBZYKaDH5WZJ5PnjzZvUaUaEjyNSIjPWhikGDUrRvTyM/73ZCE+Lnye0iZEZomjh071h5++GEbN25clr9PJOfiPU/TSZqkPPnkk3bppZda7dq13cYWmyBkVBJgZoIrIunD+41NXE5SceKL+dIll1zi7glqbCkiIlEhiWSkVwoXtmL58rlMUUoIDh482NUUJrAXKWv1zMK8YNiwYa7v0vz58wN/m/0QpCU2FEkb5Pyuse7hhDgxLZ0ilpTwrmKSEXhD0hSPYu3PP/+8y3TliCc3iEqVKrmAxFlnnWUff/yxFkypwOv4ySefuKA9NaypyxuuxoN+cJmfDWU2Vr7wgv3t3dRP/Oc/MfWQE0ONLDKRqZscf5IQxbWUMxLvH8qzMJFS3eXMo9c6ZqJKyR2u3xzJ79Kli9WrV89dtznR4JdvIaue0i3UCOdYnnbzRdKH+/uPP/7oehxwYogFDRu8a9euTffJJBERkWwhkWSk3blz2zne3JJTsw0bNrSXXnrJfv31V5fpqiSb0HhdiK9QxvK+++4L/K2kF+vwF154wdWHpg+VAsuSUt7VTDIKWZgcYWG3h2xMLoC8OXmTVqtWzQUpGjRo4JrUHD58OPBVkhR2/QjQU2+Kmr3h3AH0g8vUWKZMSIJaydOnBz7T4/1sXRay93OM8zn+SCoYLZJN5bQAKQErrs1kJbMJSM22li1bWvXq1V0DTxqmUAOcYDKTff7usssus0GDBrmTJ0z6uSZx/VY2iUjasUlMaSTef2zwli5d2pXF4P2p95aIiEQ01o2sDem3E2/tuNabX17oDZIW6DVDI3mSHBQbSBnm8lOmTLG77ror8DeSXsy7Ro4c6U6Kq8aypIZ3VZOM4u+mURLDD4LydwSdR40aZY0bN3YBC2oFEazQrlDyuIHwOnFMPdxNDPzgMs2D2AAIvvG7OsmUs2D07Zt0XWX/cyVb4ob53XffuaxUSp6QFReu7PdIlxOCy0zYX331Vde085xzznF12shK9mvic02mLA5/smPfvn17Vwuc+vRsaFH+giwSnTgRCQ96KNCngs126vqxicP1mfu8srVERCSikZyUyLpxYOAk3HnnnWdjxoyJLcMoqUNvHmIuEj6sddTzSFLLu7JJRmJhFGpxxGKKYMX5558fmymrN3DWSjK4zMSA0heJdPJ1g91ospkpkyHZFgFUNnPISqVuLlmqHKfi+DXvQ8ohUNssJ07uckJwmfd5/fr1rXDhwm5CTyCZunZlypRx5XZoWPH666/bnDlzXGYyzfvYEGQDQoEukfDivUWWFqe52NDhesz/5+9FREQimreeSGzteMAbPc4/35XI5JQO5QBFRCKZd3WTrHLs2DFbsGCBO8pBNp0CF1kryeDynDmhd527d49bLkOyPcoYDBkyxCpXrhwnS5WsVbJXyZoj0EEWHZs/dPd9+umn7f3333cZz2SuRmv9z5wQXOZnSDYyx+/pgPzyyy/brFmzbM2aNW5yz8kINhZU41UkY9E9nTJX3HO5Bjdq1MgmTZqkrC0REYls3lrj30GD7K9KleKsGyd745lTTrGx3hrj6zfecKebiQeIiEQD70onWYlyGdxUwl3iQVIv2eBy8M5z587KUI5QBA3379/vymF8++23LkuOuugEkimDQH1dAs78yRFtMlzJcub3ghI2dG5u1qyZ9yvQ2TWPeOWVV+zzzz+39evXR/wGEUegoh0nRJjMb9myxR27p6Yd12Ft7olkHo7+9u3b123ocZ09++yz7auvvtIJLhERiVzemv7fhx6yf/Pli7uO9MYg715HM3r6C5CoopJ8IhJtvKudiCDZ4DIBZf6bRn/aZY4KBJrJkiNblaxVauoScB47dqw99dRTdtNNN1mbNm2sSpUqrgEnQWe/jAKN3ooVK+bKKRB0fuSRRyI+QJmZjbN4rQgkEeT96aefbNq0afbee+/Zc889Zw888IDdcMMN9uKLLyqDWCSK8L7nlAALbK6fXEc7dOjgrgGqYy4iIpHqn3nz7I+qVeOuHwPjUKFC9sOnn7q6wOFsRi8ikp14VzwRQbLBZfCnakFGLQIfBDOpe0bNT45tE3QmK3np0qWuTjrN4O6//37r0qWLNW3a1GXekdn8+OOPBx4lfAj2RtKpBp4v9eR53TZs2GBLliyxmTNnupIivKf69+/vyox07NjRvdfq1q3raqwSvKccSbly5dzrSdCJMiVXXHGFy+4QkcjHtWzhwoV2ySWXuBMhRYsWtWuuucYFm7WJJCIiEcWb49qQIfbvZZfZ/saN464bA+OH+vVt61132b6VK3WfE5Go5135RAQpCi5LjkXglCNslFHYt2+fa/RGrXSa/5F1t27dusBnhg+1gCnXQRC7VatW1rZtWxfUJuvv9ttvd0Fugto0IiTo/c4779j48eNdU8Lp06e7wC6P8cMPP9jixYtdwJcs7XBnKPOa8L1plFenTh2rVauW1ahRw9WuprY176nSpUtb8eLFXVApf/78sfWugwd/T5CZfy//VrLHeZ1FJLKRlTx79mxX/oJsZTaR+vTp404uZOaJCRERkXQZNizmFCvrw0TGZm8uu3ryZDfnVulLEckpvCugiEDBZUkLsp2ZOGbE5PGjjz6ysmXLuvrPBGMpzUFghqzeIkWKuAzfEiVKuEAN5TnI/KVuNAHaSpUquUFw1x+U72jXrp0LPIcTpUV4z8QPFvuDmqo8t4YNG9oFF1xg3bt3t3vuuceeeeYZGzlypGtqSqO9n3/+2X799VcXtCdjnNrYyvQQiWxcG3l/N27c2F0LKlSoYAMHDnQ1zyO9lJCIiOQQI0aYVasWd30Yb/x9yim2s18/N3/VxqmI5DTelVBEoOCyZDcEW6lBTDkJmg5SUqJbt27WqVMnF6Tl95WA7WmnneaCt2QFh8oIDh5kBU+ePDnwHcKD+nHz58+3AQMG2NChQ+21115z9ZM/+eQTmzt3rq1YscI1UPSDxjt37nTZHJQeoYwGGeEEoBRoEok+fp3lq666yl2rhg8fbr/99lvgoyIiItkYa8BEgsrHvPGNN/f+7uKLbe9//2uHli3TXFZEcizvyigiUHBZshuCtgcPHnQZEARjqWVMYJZSEQRpN2/e7EpdUJKD4C0BnJUrV9qiRYvs+++/dwHfefPm2TfffGNff/2192s8x3788UeXMRhOTKQJEBMw4vlSJoO61ceOHXOZx5poi+RslMXg+sR9luuDiIhIdndi1So7kT9/3DWhN3Z6477TTnPJFMzBDx06pLmuiOR43hVSRKDgskQLjuL5pToYBHiDh47qiUhm41rEJpSIiEh2duKPP+zwI4/YwZIl46wHD3jj8Vq1XJ+RTZs2abNURCSId6UUESi4LCIiIiIikvP8u327HejXz/aWKRN3HeiNiaeeah9++KE7NUhJNxERicu7WooIgoPLbz/2WNxJhYLLIiIiIiIi0ePYMft30CA72qJF3LVf0DhWooTtWLzY/vjjj8AXiYhIfN4VU0SQZHB59erAZ4mIiIiIiEhEorF1Ik36gsefJUvaoYcftj83bQp8oYiIJMa7cko0oEHXL7/8YgcOHAj8jaRWcHB57H//G3eCsXFj4LNEREREREQk4nAaNXiNF2LsbN/e1Vw+vnt34ItERCQ53hVUIt2xY8fsjTfesDPPPNPuvfdeF2SW1AsOLn90551xJxoKLouIiIiIiESWESPM6taNu7aLN/7In98233GH7fvpJ/vrr78CXygiIinlXU0l0tGttnfv3pYvXz4rVqyYdezY0QVK6cwuKZdkcHnnzsBniYiIiIiISLY2alSS5S9GFi5sw6++2n55803bv2iR/f3334EvFBGR1PKurBLpjh8/bsuWLbM77rjDihcvbgUKFLCmTZva8OHD7eDBg4HPkuQkGVwWERERERGR7G369GRrKh/z1surZs+2ffv2KSFLRCQMvKurRAN2Wrdt22bDhg2zWrVq2SmnnGKVKlWy++67z9auXRv4LElKcHD5k9tuizsJERERERERkexryRKzAgXiruO8ccAbr5QqZd9eeKHt9tbHh374wf7999/AF4mISHopahZFTpw44TKVP/vsM7vQu3ESYCaTuVOnTvbll19qVzYZwcHlmT16xJ2UiIiIiIiISPaSRKbyRm88eOqp9tJLL7mEK9bKrJlFRCS8FDWLQjT4W7x4sd1+++2xZTJOP/101/RPZTISl2hwuUSJwGeIiIjkHCzA2ZhWdpeIiGRHJ7w1b3AwOXiMK1/e3nzzTduwYYMdOnRIQWURkQzkXXklGlEmY+vWrfbCCy9YzZo1Y8tk3H///fbrr78GPkuCJRpcZidcREQkB/nzzz9tzpw5bqP6o48+CvytiIhI1vt3+3Y72L+/HSxZ8uSaLWj8Uby4bV240H7//ffAV4iISEbyrr4SrfwyGZ9++qldcMEFlidPHitWrJhddtll9tVXXykTKZ7g4PK3l156coKi4LKIiOQge/bscT0cateubUWKFHGlttasWRP4qIiISBY4dsz+ffFF+8NbrwUHkv0x2VuzzRkwwHZPmGB/bNgQ+CIREckM3pVYot0ff/xhixYtsltvvdUFlymTccYZZ7hjQhwRkhjBweUF7dqdnKwouCwiIjkAJTCWLl1q1113nZUpU8ZtSlevXt1ef/11V3JLREQk0+3caf8OGmTH6tY9uT6LN/4sWdJ2Llni1r0iIpL5vKux5AR+mYznn3/eLRQpk1G5cmV74IEHbP369YHPytkSDS63bBn4DBERkejEZvOHH35ozZo1s8KFC1vBggWtnXcvpDSGNqJFRCTT0KCvadOTa7Ekxva2be3wI4/Y8c2bA18sIiJZwbsqS07hl8mYPHmytWnTxmUk0fCvc+fObvGY08tkBAeXf7zwwpMTF++1EhERiUbMDWh2dN9991mFChXc5nP58uXtEW+xzt8fP3488JkiIiIZbMkSswIFTq7DQoyj+fLZxttvt70LF+oeJSKSTXhXaMlpONr6008/2S233GJFixZ1ZTLIVHrrrbfs8OHDgc/KeYKDyyubNz85iVFwWUREohDHh2fOnOn6MlA2K2/evNbcu/9NnDjR9u/fr876IiKSOSi9NGSInaha9eQaLN5YXqOGbfPWr3tXrHCnckVEJPvwrtSSE3FD3rJliw0dOtROO+00l6nUokULmzJlSuAzcp5Eg8vt2wc+Q0REJDrs2rXLnn32WVcqK1++fFaiRAm7+eabbfny5apZKSIimWPjRrPeve1E8eIn116BMSVXLnuxaFGb0aaNrZ482fbu3et6A4iISPbjXbklp/LLZHzyySfWvn17u+eee2z79u2Bj+Y8iQaXe/YMfIaIiEhkY3N54cKF1rVrVytVqpQrkVW7dm0bMWKE7d69Wwt3ERHJeASVu3c/ud6KNw7lzm3/e+ghW7lypTtJk9PLN4qIZHfe1VtyOjKUNm3a5ALLOfnGreCyiIhEswMHDtioUaOscePGrmEfjfs6depk3377bY4uiyUiIhmMJn39+8eUG0yiWd/hPHnsm0susfVffeXuWSrPJCISGbyruEhMFnNOv3kHB5e31qx5cqKj4LKIiEQwNo7Xrl1rd955p7vHka1cqVIlGzhwoNtc/uuvvwKfKSIiEkbjxiXboO+YNz4uU8Ym33uvbfr6a3eyVkFlEZHI4l3RRQQKLouISLQ5evSoTZ061c4991zXxJf6yq1atbLPPvvMfvvtNy3gRUQkYyxYcHI9lcgYX6GCjX31Vdu4caNO0IiIRDDvqi4iSDS4zBEuERGRCEO5K7KTq1WrZnnz5rXSpUvbHXfcYatWrbJjdOYXEREJpxEjzOrWPbmOChq7c+e293Llsqfz5LERderYZ6+8Yps3b7YjR44EvlhERCKVd6UXESQaXB4wIPAZIiIikYHg8aRJk2LLYDRo0MDeeecd17RPjZFERCSsqKlcrdrJ9VO8MTBXLitQoICr808z+a1bt7q+PyIiEh28q72IIDi4vKdSpZMTIgWXRUQkwlDuYvXq1XbbbbfZVVddZd9//739/vvvgY+KiIiEyZIlSdZVPpgrl/Xu3NmmT5/uTtTo5IyISPTxrvgiguDg8qFSpU5OihRcFhGRCESjPjKVyRD7+++/A38rIiISBgSJhwyxE1Wrnlw3eWNXrlz2pPfnkPz57eNmzeyH0aNt586ddvz48cAXiohItFFwWSQg0eCyN2kSERERERHJ8caNM+vd207UqXNyvRQYw7xBff+77rrLvvvuO9u1a5fb6BQRkejm3QVEBIkGl0eNCnyGiIiIiIhIDhLIULY2bU6uj0IMGvY92bu3LVy40Pbs2aMTMyIiOYh3JxARKLgsIiIiIiLi8YPKdeueXBeFGHvy5LH/d8EFtvLLL23fvn32zz//BB5ARERyCu+OIBJeixYtssmTJ9u2bdsCfxMZFFwWEREREZEcbefOmJ4zSQSVl+bKZa+WLm1z2rWzNd9/b7/99pv9+++/gQcQEZGcxrs7iIQPTYPuv/9+q1SpknXp0sVmzZoVMXW2FFwWEREREZEca9gwsxIlTq6DgsZObzySO7e1q1PHXnrpJVu7dq0dOHDATpw4EfhiERHJqbw7hUj4rFu3znr37m2FChWyggULWh1v8vHggw/a6tWrA5+RfQUHl/8+5ZSTkykFl0VEREREJFpNn55opjJB5Ufz5LELmzWzN954w9avX2+HDh1SUFlERGJ5dwyR8Dl+/Lht2LDBXnzxRRdYzp07txUvXtxatWplb775pqvDlV0FB5fjTKoUXBYRERERkWizcaNZ+/Zx1z6BMSVXLhdUvtRbx40ZM8Y2bdpkv//+e+ALRURETvLuHCLhRb2tgwcP2rfffmu33HKLlSpVyvLmzeuCtldddZUL4hKEzm4UXBYRERERkah34IBZ375mBQrEXfd4Y4k3Wntrtw4dOthHH31kW7ZssaNHjwa+UEREJCHvDiKSMai1vHPnTjcpueiiiyxfvnyuVEatWrVcXeZVq1YFPjN7UHBZRESy2p9//ukaI4mIiISd36wvRF3lA954yFuvXXnllfb555+7Xjp//PFH4AtFREQS591JRDIWk5JffvnFnn/+eatbt64rlVGsWDE766yzbPjw4bZnz57AZ2atRIPL48YFPkNERCRj/PPPP27TtU+fPtatWzdX01JERCTdjh0zGzLErE2buGucoPF6vnx229VXu/XQ9u3b3UaniIhISnl3E5GM55fKmDdvnt1+++1WpkwZO+WUU6xcuXLWpUsXmzFjRpZPYhINLs+ZE/gMERGR8Nu7d6+NGDHCzjzzTCtatKiVL1/ennnmmcBHRURE0oAsZYLKiTTqY0zNm9eeuPpq++abb9yJ0+xYulBERLI/764iknkolbFr1y6bOHGitW3b1vLnz28FChSwmjVrWt++fW3FihWBz8x8fnC5drlycSdeCi5LBGNj58iRI66Z5oEDB+zw4cMhBycM+FwRyTy89z799FNX17Js2bKWJ08e9+e9995rv/76a+CzREREUigFWcqMad4a7LlrrrEFCxbY7t277e+//w48gIiISOp5dxeRzEcga+3atfa///3PGjRoEFsqg+DuK6+84iY5mc0PLp9ZpkzcCZiCyyIiEkac1GFBf+ONN1qlSpXcRis9CS644AL75JNPXLkoymSIiIikyMaNZj17hqyl7I+d3hhSvLj977bbbPHixe7UjO41IiISDt6dRiRrkCV56NAht8C+6667XIkMSmWQtXX55Zfb1KlT7Ri775kk0eDykiWBzxAREUk7FvH0IHjwwQfdiZ3ChQu7+17jxo3ttddes02bNmXqfU9ERCIcpS+6d4+7dok33suVy54rVcqGPvywLV++3Pbv36/TaiIiElbeHUcka3EMi0zlyZMnu6PBfqmM888/36ZPnx74rIyXaHCZTAAREZF0oJYlp3XOOOMMK168uDuxU6VKFXv88cdt5cqVrkSGiIhIiowYEVP6IpFM5QPeeMS7z1xUs6Zrqr569Wr77bffFFQWEZEM4d19RLIHsrXWrVtnL7/8sp1++ul2yy232LZt2wIfzXh+cPnC0qXjTtAUXBYRkTSime348eNdyQua2VJXubR3n+Ee991332mxLyIiKUOW8rBhZi1bxl2rBMafuXLZ6Ny5reMpp1jHhg3t1VdfdfX7uQ+dOHEi8CAiIiLh592JRLIPv1QGu+sbNmzI1DpgfnC5S8mScSdrCi6LiEgq0Vvg66+/tm7dulmFChUsX758VqRIEbv00kvt888/VwMlERFJXgob9BFUPjVvXmvVqpW98847bh2lEzEiIpJZvLuRSPZDkDmzM7kSDS4fOBD4DBERkaQRMF6xYoXdfffdVq1aNdeoj8By8+bN3YJ/69atqqssIiJJI0uZoHLdunHXJUHjYK5c9qw3Gnv3mIsuusg+/PBD27x5sx05ciTwICIiIpnDuzOJCBINLouIiCSDI8dbtmyxZ555xho1amRFixZ1JTBq1KhhgwcPdo38fv/998Bni4iIBFA/uVq1uOuPJMakfPlsYK5cVq1AAbvsssvsk08+cfefo0ePBh5QREQkc3l3KBGBH1y+vXjxuJM4ERGRZNAz4LbbbrNSpUq5Zn3lypVz2csLFy60AwcOqN6liIjENW5cog354o89efLYkwUK2Gm5crkSS927d3eNz+lPo9MwIiKS1by7lYjADy7fU6xY3AmdiIhIMmiY9Morr7jg8lVXXeXuKXv37s3U3gEiIhIhFiyIu95IZHxcpIgNyJ/fSubKZcWLF7ebbrrJZs+ebTt27LDjx48HHkxERCRreXctEUHI4HL58oGPioiIJI4+Adu3b7c5c+Zo0S8iIgl59wdr2vTkOiN41K1rf330kS3+3//smYsusm7/+Y/VL1TIcuXKZWXKlLG77rrL5s2bZ7t27bK//vor8IAiIiLZg3cnExGEDC5T/0xERCQFCDBr0S8iIgmsXm1WoMDJNUbQ+PvRR23q1Kl25ZVX2qmnnmqFChVy5ZUqVKhgDzzwgP3444+2Z88e1zBWREQkO/LuaCICP7j8TJEiJyd8Ci6LiIiIiEhqbdxo1revy0oODiYHj78KF7brLrrIKlWqZAULFnRB5Wre+uOJJ56wpUuX2r59+1ReSUREsj3vriYS/TZ6k7vvv//eTdAS4weXn/cmebGTPgWXRUREREQkNZJo1vf3RRfZ0s6d7a0aNax12bKWP39+y5Mnj9WuXduGDBliq1atst9++82dhhEREYkE3h1OJLrRQfm1116zWrVq2SWXXGITJkxwjZfiCxlcbtky8FEREREREZFEeGsOGzLErE2bk2uJeOOfvHntqjPPtP/85z+W1/vvU045xRo3bmzDhg2zX375xQ4cOGAnTpwIPKCIiEhk8O5yItFty5Yt1rdvX5cVwODY2RVXXGGfffaZHTlyJPBZiQSXmRyKiIiIiIiEsnOnWf/+iTbr++PGG21+27b2+qmn2tmlSrmAMoHlFi1a2Jtvvmnr1q2zQ4cOKagsIiIRy7vjiUQ3mitRFmPEiBEueMyErkCBAla1alXr0aOHzZgxw44ePargsoiIiIiIpAyZygSVE2nUdyJ/fvvwhhusadOmVrp0aVf6gkSXNt76YvTo0bZp0yb7/fffAw8mIiISubw7n0j0o2bZ4cOHbeXKlfbiiy+642c0zKAbM00z6M589913u8nfm97fxU4MFVwWEREREZFgCxbE9GYJCib745+yZW3m+edbm7p1rVSpUm7NQWJLhw4dXHm+zZs3xzk9KSIiEum8O6BIzkGQmWNnS5YssWeeecbqepO+XLlyuQlfiRIl3J8f5s9/coKo4LKISNShFv+8efNs0KBBNn369MDfioiIJGPEiERrKh/s0MFmnnWWnVOzpltXEFQuXLhwbDm+rVu32h9//BF4IBERkejh3QlFcp5//vnHNcwgyPzCCy9Ys2bNXLmM//Mmhu/lyhU7Sfzj//v/Al8hIiKRjkU9QeVevXrZaaedZuXKlbObbrpJi30REUkaQeVEaiofadTIBvboYTVr1rRixYq5xBX+vP76613Zve3bt9uff/4ZeCAREZHo490RRXIugsxkMq9evdoGDBjgAg2jgiaL33kTw4cfftiWLl3qPldERCIPNS2//PJLF0gmqFykSBGXUcZ/P/vss6p5KSIicU2enGgwOXhM8T6HEnvcVwgqUwbjtttus7lz59quXbvs+PHjgQcUERGJXt5dUUQolzF16lQ744wzbOwpp8ROGMli5lhbgwYN7I477rBvv/1WmQciIhGArvt79uyxMWPG2OWXX26nnnqqO55MUJlAABuHP/30k+3fv9/dA0RERBwCy0EB5Pjj7yJFbEq9enZBxYqx95X//Oc/du+999qCBQts9+7d9vfffwceTEREJPp5d0gRAcfW/r//7/+zcUEdn7+tWdNNFpk0Fi1a1B13u/32223x4sWBrxIRkeyEUybr1q2zIUOGWKtWrax8+fKunj5d+mvUqGGPPvpobFBZJ1JERCQWpS9KlIhdB8Qf/+TNa5Nq17YzKla0ggULuvUBG5dsVi5atMj27t2r+4qIiORI3p1SROAHl8d7k0V/EvlHt2729ddfW9++fV2mG8fd6PS8cOHCwFeJiEh2QJO+77//3mWONWzY0EqXLu1q6RNYbtGihQ0bNsxWrFihoLKIiMQ1blyiQeXjd95py///9u4DOqpqC+O4CSWhl9B7JyC9CShVBAQFREFERUBBQETgCSIiRVBQUWxIkWKhqSBFiorSkSJdei+B0EMntOx39+FOmIkDZJJJ///W2sv3Mi0JSebc7+67T/PmMqFYMamVPbvLycr33ntPtmzZwhUwAIAkz3rXBKAc4fLKlCnvLCrbtpXr16+bToQ1a9aY2ZzffPONXL582X4UACAu6easv/zyi7Rq1crMUNZNlLSbTEcaNWvWTKZMmSL79+838/U5+AcAuNi4UcTpqkVH3cqWTVa88ILUqVNHcubMKSmt4wM9Yamj8j7++GOzX8vZs2d5XwEAwGK9ewJQdwuXHXR22rlz50xAAQCIO3owf+TIEfnyyy/l0UcflVxOlyjnyZNHXnvtNVm4cKEEBQVxMhAA4GrAAJEcOe6s951KQ+UZr78u1atXN6PxUqRIYapixYry1VdfyZ49e8zxgM71BwAAt1nvogDU/cJlAEDc0lB59+7d0rdvX7MBa9asWU03mVbp0qVlyJAhZp6ybuTHDv0AABf3GH+htap2balUqZJ5b9EuZX1v0dn948ePN1fAXLhwwX4iAADgzHonBaDchsvdu9u3AgDimnaK6Rz8YsWKmZmXadOmlXr16sm4ceNk165dZkQG85QBAP+xatWd9b2bOpU8uZTIlMm8t+hcZX1vmTx5shw8eFAuXbpkPwkAAHDHejcFoNyGy3rZHAAg3tDO5R49eshLL70kc+bMkcOHD8vFixe5RBkA4N6oUSIFCtxZ31t1rVAh+b55c3kpf355Ml06yeXrK6lTp5YmTZqYOf763sJYJQAAIodwGbARLgNA/KebrOrYi+DgYAkNDbU/CgBABNb7hBlx5xQqa82vUsVcAaMbv/r4+Ei6dOnMprDz5883s/qvXr1qPwEAAIgM6x0WgHKEy/8mT35nARoL4bJ227HTNAAAAOAFBw64DZW1Qn18pGi6dCZU1nC5ffv28tdff8mxY8c4YQkAQBRZ77IAlCNcPpws2Z1FaCyEy3pZ9wsvvGB2oN63b5/9UQAAAACRooGybtjXqpWIv/+dtbxdGip/kjKlFLT+qxv2vfbaa7JixQo5fvy4uSIGAABEnfVuC0DFRbisC9revXubGW+60C1Xrpx07txZFi5caGaIAgAAALiLBQtEcuS4s3Z3Uz9Za/uSvr6SK1cuefPNN2Xt2rVmvNKNGzfsJwEAANFhveMCUHERLp8/f15+/vlnsyN12rRpxdda+Orct3z58kn9+vXls88+kz179rBRFQAAAOBs40a3XcqO+iZ5csltresLFCgg/fv3t+6+UU6dOiU3b960nwAAAHiD9c4LQMVFuKyzlrVD+dChQ/L777/LG2+8IUWKFDEhc8qUKU03c5kyZaRjx47y22+/mTAaABIK/fumO+5zyTEAwGt0w70RI0QKFLizZrdL1/FfWFXYquLFi8sHH3wgW7dulTNnzrDHCQAAMcR6Fwag4mrmssO1a9fMJXqbN2+WsWPHSoMGDSR9+vQmaNau5rx580rt2rVN58XKlSvl0qVL9iMBIP7QIHnHjh3y0UcfmasymjVrJv/88499KwAAUaDjL8qVu7NGj1BjUqc2jRkpUqSQsmXLmqv/du7cKSEhIVwBCABADLPejQGouA6XHRzdzNrtp7OXe/bsaTovNGTWBXOmTJnM5X116tSRgQMHyt9//y2XL1+2Hw0AsU8P3E+cOCFTpkyR1q1bS7FixSQgIMAc6OfJk0c+/fRT+54AAHjoPuMvgq3Ka62RdR0/ZswY2bt3r7naj1AZAIDYYb0jA1DxJVx2pt3MOhvu33//lW+//VZatmxpNiN5wPrcnIPmunXryqBBg2TVqlUEzQBihR6062XG8+bNk+7du0ulSpUkZ86cZoNSHx8fyZgxozRu3FjGjx8vR44csR8FAICHmjW7szZ3qqtW9UueXJpXry7fffedHDhwgA2xAQCIA9Y7MwAVH8NlB+1m1tD42LFjsmHDBhk3bpy0aNHCBDnOQXPBggWlR48eEhQUZD8SALxH/xYdP35cZsyYIZ07dzaBsnYm6wifZNbfTn9/fylfvrz1p3OALF++3ITKeqDPnEsAgMdWrZKwsmXvrMut+tNa8w7y8ZF3rf92rFlTfvrpJ7N3Cc0VAADEHcJlwOY2XJ440b41/tCQRuctHz161ATN33zzjTz99NOSI0cOcwl6t27d5KpudAIAXqC76uuYnkmTJkm7du3MJqN6BUW6dOnMuJ7kyZObE1u68egvv/wi+/btk7Nnz8qNGzfsZwAAIJJ0DTt0qITVqnVnPW5XiFUlU6c26945c+aYE5hXrlyxHwgAAOKK9U4NQCWUcNmZc9C8fv16072h3YLMmAMQHRoMa0isJ6+ee+45KVmypDmBlSZNGhMo64mswMBA6dKli/z8889m0yTtaObEFgAgShyhcvHid9bhTrXFWp8Pevxxs17XdW9oaKj9QAAAENesd2sAKiGGy840aNbuDRbbAKJKu5RXr15tusJ0I9Hs2bNLqlSpzAxlHXmhO/D/73//Mx1je/bskZMnT5pAmRNaAIAoCQ4W6d5dwqz3G+cw2VGh1vvPL1WqyNKlS627Bpv9SAAAQPxivWsDUAk9XAaA6NKQeOHChWbMhQbK2qlctWpV6devn/z++++yf/9+s8koJ7EAANG2eLGEZchwZ93tVCd8feXXhx+WdXPnyokTJ+T69ev2gwAAQHxjvXsDUITLSIw0LGT2LTyxa9cuGThwoAwZMkSWLFlidt8/c+YM3WIAgOhbtcqsr2+88MKd9bZTnff1ld9q15ZN1vuPnszUK2oAAED8Zr2LA1CEy+7p7tu6mZde/g4g8dPuMA2TQ0JC6BQDAETfggUiOXLcWV+7qV/TppXv2rWTHdZ9T58+bca9AQCAhMF6NwegCJfd27Bhg7z00ktSrlw5ad26tYwcOVI2btzI7twAAAC4N2vNKP7+d9bWEUpnKs994QXZsWOHnD17llAZAIAEyHpXB6AIl92bOXOmFClSRHx9fSV16tSSNWtWKVSokNSoUUN69Ogh06dPN53NbOgFAAAAh7Cvv5abefPeWVc71ZY0aWR9/fpycMkSOXfuHOtIAAASMOvdHYByhMvaQRG++CVcNvPu5s2bJ2+99ZY88sgjkiFDButb84AkT55c0qdPL7ly5ZIHH3xQmjZtKsOGDZPly5ebgwQAMUfH1axfv15mz54tO3futD8KAEAcO3BAwl56SW5Za8Tw9bRdY5Mlk9dLl5bx48ebDWIvXLhgPwgAACRk1js9AOUIl10WwoTLppMkNDTUzL87ePCgrFmzRsaOHWtGZRQvXlxSpEghPj4+4ufnJwEBAZI/f36pUqWKdOjQQb799lvZvn27XL161X42AFGhm+npRnvfffeddOnSRapXr26uIKhYsaKMGTPGvhcAAHFEQ+WmTV3X0U51zddXfv34Y7OWvHjxov0gAACQGFjv9gAU4XLk6K7delAQHBxswi79vg0ePFgaNmwo2bJls75tD0iyZMkkbdq0kiNHDilcuLBUq1ZN2rVrJ5999pksWrRIjh8/zuWPwD3cuHHDjJuZMWOG9OrVSx599FEznkZ/p9KlS2d+x/R3Tf+//v4BABDrtHlg6FAJq1XLdf3sVGf9/GR7y5ZydOVKc9UNAABIfKx3fQCKcDlqrl+/bjZg0SBMN/qbMmWKdO3aVSpUqGBmNDvC5jRp0ph5zfny5ZPXXntNgoKC7GcAkjbdvOjMmTOyYsUKGT16tPn9qVu3rrkyIHfu3GYUjV4hoL9LqVKlkjJlykjHjh1lwoQJsm7dOjlx4oT9TAAAxJKrV+WW9V7ksm52qiUFC8ra996To/v2cQUbAACJnPXuD0ARLkefhmRXrlyRkydPyj7rYELDMr1kXy/j13nNOjZDg2YNxvR+QFKknf96Iub777+X3r17S+PGjaVUqVJSoEAB0/2vncmOMFn/q93/rVu3li+++MLMNNffLe3+v3TpErvqAwBi3fVlyyQ0Z07XNbNdiwMDZdlPP8nRo0fNWDUAAJD4WasAAIpw2fscIzS0s1Jn7G3evFkWLFhg5jYzFgNJjXb4f/PNN6arX+cl60gL7UpOmTKlmVuuYbIGy3q7zjQfPny4+bu0e/duOXbsmJw/f96MywAAIFbt2CEyYoTcbNFCzpYt67pWtuqc9R42u1o1+efnn83YNL2qDQAAJB3WigCAIlyOeRoo68ZkWkBSo53GX331lfj6+lp/Xh4Qf39/CQwMlGeeeUYGDRpk5itrR7PuoK8H5+fOneMAHQAQd3QdXKCA69o4Qh3KlUs2//ijaSTgBCgAAEmTtSoAoAiXE7adO3fK5MmTzYaBhw4dIsBGvKMjLP755x9555135IcffjAd/Hv27DGXDmtXs86kpKMfABDnFiy4b6isFfzqq3Lq1ClzpRoAAEi6rJUBAEW4nHBpaPftt9+azc90w8BixYpJ5cqV5emnn5ZevXqZTdIWLlxoOkLZVAZxSedP6uZ9umM+B+MAgPgmbMMGCfPzc10PW3XVqjWpU8sGa618sksXObd6NXP/AQCAYa0WACjC5YRLxw18/vnnZl6tjhvQ0tEDOnZAZ9pmz57dhM5FixaVihUrStOmTaVnz54ycuRIMwNau0fZYDDp0i537XZfsmSJ9Ss/Ufr37y/dunWTadOm2fcAACBxC7PWQZf69ZMLAQEua+GDPj7yVv78MmLECHOVWEhICFfZAAAAF9aqAYAiXE64tHPm9OnTsmnTJvntt99MaKzhcbNmzaR06dKSPn1665/zTujs5+dnQuds2bJJ3rx5pUiRIlK+fHl58skn5Y033pAvvvhCfv31V9m1axczbxMJPRDWzSW3bdsmc+fONf/GPXr0MD8jlSpVMt3u+a2DZ91kL1OmTJI1a1ZzOwAAidmto0flgrVmOmOtiVzWwFZNy5nTXP2lJ+F1U1lCZQAA4I61ckg69HJ4LonH3RAuJ3yODQMvXLhgZgAGBQXJ3r17ZcuWLWYsxpgxY6R3795mXEa5cuVMiOgInX18fEzorEG0Bot58uSRrl27mhEGiN/05IJufqcdVcuWLTMb43399dcycOBA6dKli9kwr2bNmuZEQ+HChc2/rf4b67+1drc7NtjTSpUqlTnZ0LBhQxk1ahQH0kASp39f9MoW5vgjUQkOlrC33pKrVau6rnud6kqGDHJ47VqzpgIAALgXa/WQNOjC6NNPP5W2bdvK0qVLmRGG/yBcTrw0INQOZO1c1Q5nDZ337dsn//77r9kAcNy4cfL2229Ly5YtzdiMgIAAEzjq3wudkYv47fDhw9KvXz8TCmv3sc7e1q70zJkzm1EpGiAnT57cnEBwdK/rbRUqVDAnGt58803T7T5//nzT/a4dWvqceukvgKRLQ2X9u/Dss8/KhAkT7I8CCZQ22IwYIWG1armudSPU1YwZJeStt+SytU4CAACIDGsVkTTMmzfPBIdp0qQxl0B/8803ptMNcCBcTno0dL5x44aZ2ayh89GjR82mfzo6YeXKlabj2dudq9u3bzcdtS+//LJ0797dhKJDhw6VL7/80oQXP/30kwkz9CTY+vXrTTeuhuEadCbEER2Orj/tJD948KCZbayb2XmTfn/+97//Wb+yt7uPkyVLJhmtg+PixYtLjRo1pHnz5tK5c2d577335LvvvjPfW/130BMM+lj93PQEpHYm0qkMQJ04cUKGDRsmBQsWNFc01K5d21wJAyRIeiVO2bKua9wIFWS9X57r00euBgfbDwIAAIgcazWRNOhBwkcffWQOErSDTees6kxWnakKKMJlOLt586YJnr1NO6WrVatmTnTpWAYdzaGd0jqmQef95sqVy/x90g5c/Xul3bg6D7hEiRJSqlQp01mtIx4ef/xxadGihemufuedd0xg6m3avTtr1iyZPn26/Pzzz/Ljjz/K1KlTZdKkSabbWzdRfP/9983ra1D+yiuvSOvWrc2GiY8++qhUrVpVyloHsyVLlpTAwECzoaJ2h69bt85+Be/QsHrt2rXy/fffm5nb+vwaHmsHsgbaGiDre8DZs2fNfWPi3xVA4qB/+zdv3izPPfec+dusJ6v076/+feFKFiQ49wmVVxUoIHtfeEGOL1nC6EAAABBl1soiadDuOQ0WdBZnrVq1TMCsG3o98cQT8vvvvxM2gHAZsULHLnTr1k0ee+wxE75qYKwhsobLqVOndpn/6650tIP+/UqZMqUZ96Ah9YMPPihjx461X8F79O+lY8yEht6Oypkzp2TPnt18zhq+aJewBuVp06Y1HX46uzpFihQmlHGMonCU/o799ddf9it4h3Yba9exBsf6X8YeAYgKHZ2kJ9MqV65s/h5r6TpRr2TR24AEY9QouVWmjOua1q5z1vvyTOu9ePW0aRIcHMw8cQAAEG3WKiNp0cuztautY8eOJhDRcKaMtfjSDjy9LB5Jl4bLjSpUcF2ET51q3wp4h3a+HT9+3IyHOHDggLnMevfu3Wb8hY7j0PD577//NhsQzpw503QJ607tn3zyiQwaNEh69eplNqlr06aNmRfcoEEDadWqlcyePdt+BVf6ejru4350NIT+fXSmr60hsXM4rGGxfkxnGWuntW6Qp39DtRu7Xr16pmtZu5c7dOhgupm1q/mDDz4wf2O121k7i/XrB4D4RP9O6pgi3fBTT+Dp3Pa+ffuav9MJcSQRkiDtPB469K6h8nlfX/mzcmX559dfzdU8/FwDAABvsVYbSY92KR85ckRGjBhhZnJqd5124nXq1Mls8IWkScPl73Llcl2MWweVQGzSLly9LFsP+jQY1m5c7ZjTGfF69YWGwHpQqN1GOu5BR1fof+/WVae33y14dvbLL7/8Z0yQvp6G3Vo6f1r/Pmpt3brVjJ3QQFyDcZ1drAGMBub6t/XYsWMmQD558qScOXPGzIs+f/68mW2tl93SWQwgvtC/tWvWrDEnxnRMkQbL5cqVk2nTppmmA+awI97TterUqXKzRg3XNaxdGiovqVZNNv/+u1lDcLUmAADwNmvVkTTpwYKGNbrRX8OGDc0l5tqJp3NC9VLwiB18SPw0XD6YKtWdBXmrVvYtQMKlGxRGZgyFzhN1d3JN/1YSrgBIjPTEl26kqldf6JVsOtpHZ9nrFW7e3ngU8Dq9ui5Hjjvr1gilofLKmjVlm7UG0BMleuIaAAAgJlirj6RNu+i0I08v386SJYuZFaobaOml3BrKIOn4c+5c14X5qFH2LUDCpR3F2jV8P3cLlwEgsdGQTa++0E1IdbyPXsGm4zB0g1K9+oIQDvGahsoZM7quWZ3qgvXzvKxRI9m1Zo25AomrhQAAQEyzViHQgwi9xPybb76R8uXLm4MMvTSycePGMn/+fDa6SCJWaZjsvEBftcq+BUi4IrsJFeEygKTgwoULMnXqVKlSpYrpVNamgkceeUTmzJljgjggPgtbtMh1repUx6yf5U116si+lSvN1ZlcdQQAAGKLtRqB0gWYHnCsWLHCbJSVPn16c4lkiRIlZPDgwaaTBYnblr59XRfqISH2LUDiR7gMIDHT7k3dQPX111+XXLlymdnKesVaz549zfx4vZINiJeCgyXs1VflWsRNp6067uMjfUuWNBvm6v4HeixDqAwAAGKbtTKBM93YRTfA+uKLL6SktVjz9fWVgIAAefrpp83cUjbBSLx2t28fvli/lC6d/VEgaSBcBpBY6Wais2bNkho1apjmgRQpUkilSpXkxx9/NBucMTYA8dWt8ePllvUz6xwoO+qHwoVl8uTJcvDgwUhfpQQAABATrNUJItIz/jqjVMPkli1bSpo0aSRVqlRmw5fhw4ebERpIfI7Wrx++YD9SpIj9USBp0PmjzJkHkNho08Cff/4pBQoUMKFy5syZpVOnTuZkGpv2Ib7SZpZ9M2bIjeTJw9emznU1Y0Y5un49P8MAACBesFYouBudtayXmH344YdStGhRM4tZu15+++03+x5ITE5Xrhy+aN+q/xsAACRo2jCwY8cOeeaZZ6R06dLy7bffyokTJ+hWRrykxx4bNmyQH+vUkaAUKcLXpVpLCxWS7R07yqmff5bQgwftRwAAAMQ9wuX70IOPkJAQWbBggTz//PMyaNAgOX36tH0rEpMLhQuHL+DXPvqo/VEAAJCQOZoFNLTTERlAfBMaGiorV66ULu3by2Q3YzD2t2kjx44dM/cDAACIbwiXI0kXc7qo02CZjTISpyvZs4cv4pc0a2Z/FAAAJHTaLHDz5k37/wHxw5UrV8zYlhdeeEFez5pVzvn4hK9FHRXm5yfXDx+2HwEAABD/EC4DDk4L+Xkvvmh/EAAAAPAe7aCfM2eOGdeSL18+qerv77IO1QrLkEFuvfuuyIED9qMAAADiJ2v1AsBwWtD/1KWL/UEAAAAg+i5cuCA//vijPPnkk/Ji1qxy0E2nslZYrVoiO3bYjwIAAIjfrBUMAAkJcVnUEy4DAAAgunSc3tmzZ2XixIlSv359yZ07t1RJmdJl3elSQ4fajwQAAEgYrBUMAHPJodPCnnAZAAAAUaWh8smTJ+Xrr7+WWrVqSc6cOeWF5MlljK+vHL1buJwjh0hwsP0MAAAACYO1igEQMVz+4X//s28AAAAAIkc3jzx69Kh88sknUrVqVemVLp0s8fGR43cZgSGdOoksXny7CJYBAEACZK1oAEQMl8f162ffAAAAANzbzZs3reXkARk8eLBUrFhR3kybVjbdLVB2lG7kx2xlAACQwFmrGgCyapXLYp9wGQAAAPdz48YN2blzpwzv2lV+yJJFVqRI4bKm/E8FBoq0bSsyYMDt5gYAAIAEzlrhADCXIjot/AmXAQAAcDfXr1+XzZs3S8+ePWVo9uwSeq8u5YwZRfr0Edm40X40AABA4mGtdhAXtMtBF6WIJyKEy1989JF9AwAAiE26RtqyZYuMHDlSDh8+bH8UiB9CQ0NlzZo10qVLFxmQPbucu1+orB3KzFIGAACJmLXqQVyYN2+edOrUSSZPniznz5+3P4o4EyFc/vTTT+0bAABAbDl16pR88cUXUq5cOSlYsKD069dPwsLC7FuBuHP16lVZunSptGvXTgYHBLgNlcP8/ORWx44iQ4feXlsy9gIAACQB1koIsU03+3j11VclXbp0ki9fPunQoYOsW7fO7C6NODJxosvBAeEyAACxR4O7JUuWyFNPPSXZsmWTZMmSSa5cueSDDz6Qa9eu2fcCYt/ly5dlwYIF0qpVKxmRIcNdO5XDihdn7AUAAEiSrNUQYpsuUqdPny7VqlWT5MmTm5C5cuXK8vnnn8vx48fteyFWES4jCbtw4YLs3bvX/G0CgNikXcmHDh0yHcqFCxcWf39/SZUqldSvX99c5aWdzHQuIy5cvHhRZsyYYU54vJ0p093HX+TIcbtLGQAAIImyVkSIbXqQpAvWjRs3Su/evSV37twmZNZOnaefflr++OMPunRim1O4fDhZMsJlJFr690evktC6efOmmW3qKAIcALFJT2zpyfZatWpJpkyZTLdyoUKF5KOPPpL9+/eb2bZAbDt37pxMmjRJGjVqJM8HBMjBu4XKgYGEygAAABZrZYS4osGOduTMnj1bGjduHN6tU6JECdPBo52EiCWEywAAxAo9mbV161YzIixPnjySIkUKyZAhgzz//POycuVKCQkJ4WQXYpX+vJ0+fVrGjh0rdevWlZw5c0qVlCnlqnOY7KgCBQiVAQAAnFgrJMQ1nTO4e/du+fjjjyUwMFB8fX1NB0+9evVk2rRppssZMUw3XrEPGgiXAQCIGXpSfeTIkVK+fHkzFkyDZf3fEydOlGPHjpngGYgtehVPcHCwGU33yCOPSPbs2SWv9TP5jrUWPObndydQ1mL8BQAAgFuEy/GELm61U0c3s2nTpo3p4PGzFrX58+c3nT3//POP6XRGDBkwIPzggXAZAADvunLliixatMiM/3Js2Kf/7dGjh2zZskUuXbpk3xOIebru1lnfw4YNM/ue5MmSRfr6+spSq1wCZUd1724/EgAAABFZqyXEJzpr+ciRIzJhwgR56KGHwjf8K1eunAwaNEj27dtn3xNe5RQu77G+54TLAABEn3Yib9u2Tbp16yYFCxY047+09OqsX3/9VU6ePGmCPiA2aKOGjp0bYK37dG39Stq0MtrHR3bdLVTW8vcXCQ62nwEAAAARWSsmxDeODf/Wr18vvXr1MvMItcMnc+bMUrt2bRk3bpyZCwcvcgqXV6ZMSbgMAEA06Frm6NGj8uGHH0rZsmUlffr0Zi1TuHBh8zHdsE/HggGx4fr162bOd9+ePWVE9uyyPHnyO+Hx3apZs9vrwwMH7GcBAACAO9bKCfGVdvvobMLffvtNnnvuOTMqI2XKlGaTEb2sdP78+eYyU3gB4TIAAF5x7tw5mTJlitSpU0eyZMli9pLImjWrvPbaa7J27Vo27EOs0SsCtVnj/RdflIVp08qWZMnuhMfuSucq6z4cO3bYzwAAAID7sVZRiO9CQ0Pl8OHDMmnSJNO5rAGzXlKq3T9dunSRjRs32vdElLVtG35gQbgMAEDUaJinJ7/z5s1rNutLmzatNG3a1HzsxIkT7B+BWKFd8StXrpQOHTrIE3ny3AmP3VW5crebDDRUDgmxnwEAAACRZa2okBBoh49udrNjxw4ZPny4lCpVynQCVa1aVebNm2ffC1FGuAwAQLTpekU36NNAuUqVKjJx4kSzl4SeKAdiml7R9+eff8qLL74olfPmlf7Wmu6Ac5BsV1j27LfDZEZeAAAARJu1wkJCopve6OWmq1evlj59+phdrrUTCNHkFC7P9/MjXAYAIIo04Nu9e7fs3LnTnBgHYpruVTJ79mx55plnpG/mzLIsWTIJcQqTHRXWoIHIiBF0KAMAAHiRtdJCQuSYx3zmzBl2WfcGp3B5WqpUhMsAAESRdi/r2oS5yohp58+fl2nTpsmTTz4pLwcEyE/3mqns7y8SHGw/EgAAAN5irbQASKtW4QcfhMsAAADxk5600OaKCRMmyAuPPCI/pk4tV51D5IjVrNntmcrsUQIAABAjrBUXAKldO/wghHAZAAAgftFQWUfBjRw5Up596CGzXnMJkZ0rY0aRPn1EduywHw0AAICYYq2+ABAuAwAAxD86YiUoKEhGDRgg3+fObTZedgmSnStHDpFOnQiVAQAAYpG1CgNAuAwAABB/3Lx5Uw7s2CF/PfaYrEuX7k6A7K5074xVq+xHAgAAIDZZqzEAhMsAAABxTzet3vvnn7KkWjXZ7+d3J0B2V9qlzCZ9AAAAccpalQEgXAYAAIg7169fl6B+/WRv3rwS6uNzJ0COUDdbtBAZOlTkwAH7kQAAAIhL1ioNgHO4/C3hMgAgCbl06ZLs379fLly4YH8EiD2hoaGyv3dvOZIlS/haLGLdzJpVbgweTKAMAAAQD1krNuC2jRs3yrfffisbNmwwc+6SFKdw+eM0aQiXAQCJ3pUrV2T58uXy0ksvSa1atWTKlCn2LUDMu/bdd3K0SRM5lDlz+BosYl1u00ZuDhkiEhJiPwoAAADxjbVyA253LQ0bNkzy5MkjZcuWlT59+sjWrVslLCzMvkciR7gMAEgitFN0zZo10rFjRylUqJCksd73UqdOLW3atDGjCYAYExIi1/v2ldBMmcLXXRHrRtq0cun11+XGv//aDwIAAEB8Zq3iAJHTp0/Lhx9+KLly5ZJkyZJJJmvRX6lSJRk4cKDs2rXLvlciRrgMAEjkNDjetGmTdOvWTYoWLSrp0qUz7/kFCxaU/v37y7Zt25LOSWXErpAQufb223LdWmM5B8nOddP6ebxs/WzeOHLEfhAAAAASAms1B9zemfvkyZPyxx9/SPv27SVbtmzmgDNz5sxStWpVGTp0qJnHmGgRLgMAEil9j9++fbv06tVLSpQoIenTpxdfX19ztZJ+bO3ateYk861bt+xHAF6yY4eEtmsn11KnDl9nOdepLFnkhLXuvNK7t9wMCrIfBAAAgITEWtkBd1y7dk2OHTsm8+bNk9atW5twOXny5JLFWvzXqFFDRowYIUcSY0cJ4TIAIJHR/RP27Nkj7777rpQpU0YyZsxoQuUcOXKY7uW///7bnFhOcvssIGZdvSphEybIjUqVwtdWEWtPqVKyb/JkOXv2LCc1AAAAEjhrhQf8l85jDAoKklmzZsnTTz9tupxSpEhhOprr1Kkjo0ePluDgYPveiUC5cuEHPITLAICETMO6gwcPyvvvvy8VKlQwo640VNYTxR06dJAlS5bIiRMnTEcz4E1hU6bILWvN6BwkO9f2hx6S/fPny7lz5xjBAgAAkEhYKz3g7q5evSqHDh2Sn376SZ544gmz6U/KlCkle/bsUr9+fRk/frwcP37cvncCVqBA+IEP4TIAICHSUPnw4cPy8ccfS5UqVSQgICB8H4UXX3zRjL7S92w27YO36c/e8VmzwtdSznUxeXLZUbu2HFyyRM6fP0+oDAAAkMhYqz7g/i5fvmxmLk+aNEkee+wxSZUqlfj5+ZlLa+vWrStffvmlCaETLMJlAEACpR3Iu3fvlkGDBpnNeLVDWUPlDBkySIsWLWTu3Llm5JWOvgK8SX/2dPTKr40by9GUKcPXUlrbrZ+/vzt2lIM7d8rFixftRwAAACCxIVxGpGmnyaVLl8xBxIQJE6R27dri7+8fPi7j4Ycflg8++MAc4Ca4rhTCZQBAAqNh8ebNm82mfKVLlzb7JGiorKOsmjZtKr/88osZcaWjrgBv0u73nUuWyPyaNWWHtRZ0DpW1/n3+edN0oM0JAAAASNwIl+ExDY61A0VD5O+//14aNmwoadOmNRv/6SW42jU1ZMgQ0+mcYBAuAwASGA2W9Woix0Z9Ov6iVatWMnv2bLP5ro62ArxJT2gcevtt2ZMnj1xIlix87eRcYX5+cvXAAfsRAAAASOysVSAQNY5O5gPWAcTPP/9sNv7TA1vtmtLLcLdu3WrfMwEgXAYAJDDaGdq1a1dz9ZBu1KczlY8ePUqoDK8LPXhQDrdvL4cDAsLXSxFLN/K72auXWAtD+1EAAABICqzVIBB9V65cMV1SOtdRD3S//vrrhHVw6xQuD0mblnAZABDv6WgCPcG7fPlyCQ4OZqYyvMtax11/7z05W7Zs+BrJXV1t2FBu9usn1g+h/UAAAAAkJdaqEPAenet44sQJCQkJsT+SQDiFy93SpydcBgAkCLdu3TKbqgFec/WqXBs0SC7myRO+NopYN9Olk0tvvik3E9JVagAAAIgR1goRAOEyAABI0q5elasDBsj5XLnC10QR62yDBnKpXz+5GRRkPwgAAABJnbVSBEC4DAAAkiKzh8bw4XIuZ87wtZBzXUqXToLfeEPOrV5tOuUBAAAAZ9aqEQDhMgAASErCjh2Ti++8I8cLFgxfAznXZWs9dKJHDzl38CChMgAAAO7KWj0CIFwGAACJ3tSpEvbqqxJarZqEpkoVvvZxLg2VT/3vf3L+0CHT1QwAAADci7WKBCAZM4YfVBEuAwCARCE4WGTECJHatUVy5Ahf67ira6lTy9lu3eTikSP2gwEAAID7s1aTQPymXTNHrAOd/fv3x1wHjdPBFeEyAMCbrl+/Llu3bpUPP/xQPv/8c/ujQAzRQHno0NuBstP65m4VVLmynOveXS5v22Y/AQAAABB51qoSiN8OHTokvXv3looVK0p36+Bn5cqVcvXqVftWL3E6yCJcBgB4w4ULF2TBggXSvn17CQwMlCxZskjdunVl586d9j0AL9FAecCASAXKu3x9ZXGBArKzVSsJXrxYrly5Yj8JAAAA4DlrlQnEbwsXLpTq1atLsmTJJEOGDFKkSBFp0aKFTJ06VU6ePGnfK5qcDroIlwEAUaUbn+nVNl9//bU8/vjjki9fPkmbNq34+PhIQECAvPrqq7Jr1y773kA0aKDcp0+kAuVp1s/fh6lSyXuNGslvv/0mQUFB3j9RDwAAgCTJWnEC8dv58+flzz//lE6dOpmDdD1AT2UdIOXOnVtq1aolQ4cOle3bt0dvJ3OnAzDCZQCAp0JDQ2XdunXy1ltvmSttsmfPLn5+fpI8eXIpVqyYvP3227J8+XI5evSoXLt2zX4U4CEPRl5MSpFC3rbWTBUDAswaatGiRXLs2DF+/gAAAOBV1uoTiP/0oP348eOyZs0aGTZsmFSuXFlSpkwpKawDJ73MuGzZstK5c2dz4HT58mX7UR5wOhgjXAYARFZISIjMmDFDnn/+eXNlTcaMGcXX11fSpEkjderUMR3MOm/59OnTcuPGDftRgAe0wziSgfIc6+euv7U+KmT9DOpJ+B49ephxYrqG0tnfAAAAgLdZK1Eg4bh586Y5kNd5lZMmTZJmzZpJpkyZzIF8unTppFChQtK0aVOZOHGi6Q6LNKcDM8JlAMC96HuRbjL7ySefmBnKefLkkdSpU5sra3LkyGFmLM+ePVsOHDhg5i7H2Ga0SNwcXcrlyrmsUyLWcuvnb0SGDFLO39+MECtYsKD07dtX1q5da8aHcVIDAAAAMclalQIJjx6oa4fy4cOHzUxm3ehPO8b0wN7fOrjKmTOnPPzww9KvXz9zcKWdz/fkdJBGuAwAcEeDYn3Pef3116VMmTKSNWtWcwWNXklTunRpGTRokKxevdqMHmCeLaJk6lSRTp1udylnzOiyPnGuvTVqyMTixaVqjhxm3aPjV4pb/3/w4MGyceNG0ymvJ0EAAACAmGatUIGETWcHamfO+vXr5bPPPjOhsuNAS7uaixYtarqZR48eLfv27XPfQeZ0wEa4DABw0PeYbdu2mZFM9erVk/z580t6631Cr5jR/zZq1EgmTJhgrqg5c+YMgR48N3OmSNu2IjlyuKxHIlZYhgyytnlzed5a5+TKlcvM9NYTGzoabPjw4Wb8ytmzZ6O3BwUAAADgIWu1CiQOekB/7tw52bNnj/z888/ywgsvmA5mRzezbq5Urlw56datm9l0yYXTwRvhMgDAQefV6gZ9Ot9fgzwdO1CgQAHp2rWr/Pbbb3Lo0CG5ePEioy8QNdqp7LQGcVdXGzaU1VY1feghs5bRbnkNlqtUqSJfffWVObGhI8P4GQQAAEBcsFatQOKiB1dXrlwxM5f18mSdiVmrVi1Jmzat6TSrUaOG/PHHH/a9bU4HcYTLAACHTZs2yaOPPmquhGnSpImMHTtWtmzZIidOnDBdzYDHQkJEFi8WGTFCJDDQZQ1iyvpY2Ftvybnu3WVsz57y0EMPmREsekVWqlSppGbNmjJ+/HjZu3evnD9/nlAZAAAAccpawQKJl6ObWTde0g6zntZBms4jDAoKsu9hczqoI1wGADhoeLdmzRpZvny5mfNPlzKiTMdf3Gv0RcOGcnPdOtm9e7cMGDBAypcvLwEBAaZbPk2aNNKgQQOzmbFuFKk/hwAAAEB8YK1kgaTBMZv51KlT/52J6XRwR7gMAHDQIPn69ety48YN+yNAFGzc6LLW+E/5+8uOxYuld+/eZnPIzJkzm6ut0qVLJ0899ZRMnz5dDh48aDYzBgAAAOITazULwPkAj3AZAABEi3YpFyjgsr5wV7fq15egrl1lYNu2UqJECcmYMaMJlfW/rVu3ll9//dV0zOu4LwAAACA+sla2AJwP9AiXAQBAlOk8Zad1xX+qe3cJ3bRJVqxYIR06dJCiRYtKemvtoaGybhz58ssvm70hdIRXaGio/aQAAABA/GStcAE4H/QRLgMAAI8FB5vg+F5zlcOyZ5cl06bJiy++KAULFgzfbDhnzpzStWtXWbp0qfU0wWwWCQAAgATDWukCcD7w8zRc1nmct27dsv8fACAu6Exk3bxVN99jwz3EKg2VO3VyWUuEl4bNixfL5XnzZOX770vHJk0kf/78ZoM+3ahP/3evXr1k1apVcuLECTPfGwAAAEhIrFUvAOcDQU/D5UOHDskHH3wg7du3lylTppjZiAQbABDzNIjbu3evjBkzRlq1aiUlS5aUp59+Wvbt22ffA4ghGiiPGCFSu7ZIxowu64jwsj5+ftcumTp1qjRp0kTy5s0rqVKlMqFykSJFZMCAAbJu3Tr3Gw0DAAAACYS18gXgfDDoabj8559/yiOPPGIubc2dO7eUL19e2rVrJ5MnTyZoBgAv00B59+7dMnr0aGnZsqXZBC1HjhwmtPPx8ZFSpUrJnDlz7HsDXnLgwO3u5KpVXdYMbqtZM7n87rsy4/33pUGDBmZt4O/vLylSpDAnQIYOHSqbN2+WM2fOcOUTAAAAEjxrBQzA+aDQ03B5586dMnDgQBMq+/n5mdmJermrI2h+6aWXZNKkSabDmaAZADznCJS//vpradGihUug/ID1d1tP7ulJvkGDBsmyZcskJCTEfiTgBdqh7O/vslZwW82aycm1a2XkyJFSu3ZtM0c5ZcqUpipUqGA9zQjZtm2bnD17llAZAAAAiYa1EgbgfHDoabism+7oJa27du2SuXPnmtmJehCpXUqOoDlXrlxSrlw5EzT/8MMPcvDgQYJmALgHDZT176oGys8884wEBgZK9uzZXQLlmjVrynvvvSeLFi0y85a1E5SZtfCaqVPvPvLCUa1aSVj//hK8YIEMHz5cqlevbn5OtUtZ1wEPP/yw6bLXkyPnzp3jvR8AAACJjrUqBuB8oOhpuOwsNDRUTp48aQ4i582bJ71795aKFSu6DZrbtGkj33//vRw4cICDTQCw6Mk6DZS189NdoJwuXTqpVauWDBkyRBYvXkygjJhxt1BZu5d1NIZ2Mls/fzf37jXzvQcPHiyVK1eWrFmzSvLkySV16tTy6KOPyrfffmtuv3Dhgv3EAAAAQOJjrZQBOB88RidcdqZBs3Y0a9A8f/586dOnj1SqVOk/QXOZMmXMZd56uew///wjly5dsp8BABI3PbGm3ZxLliwxAV3jxo2lePHiJlDWv5WOQFlHDLz//vvmfhoo61gBAmXEiMWLXdYE4ZUjh8jGjeYuN27ckO3bt0vfvn2lbNmyEhAQYDbp0276J554QqZNm2ZOHPN+DgAAgKTAWi0DcD6A9Fa47MwxOkOD5gULFsjbb79tupwcG1BpiJItWzYpXLiw6cr75ptvTDgNAImZzkYeNWqUFChQwAR0OrfeESjXqVNHPvjgA1m6dGl4oKyhHhAjgoNFhg4V64fRZU1gQmXrfVvpe/nGjRulZ8+e8uCDD0qmTJnMyeIMGTKYzSVnzpxp9le4fPmyuT8AAACQFFirZgDOB5KvWgeJ3g6XnTkHzb///rvZDFAvn82cObP18g9IxowZzQxRNvsBkNhp97F2eeoYAd2gr2nTpmZurW7Kp52fBMqIFRMnuh+DMWCAufnq1auyatUq6dy5s+ms1zBZQ2U9IaJ7KehJ4yNHjpj7AQAAAEmNtXIG4Hww+VSmTDEaLjvToFnnhWqIsmbNGhk3bpz079/fhM4AkBQEBQWZzVA3b94shw8fNmMyCJQRa3TUhc5SdloHmLI+dmX/fjPbu127dlKkSBFJnz69CZV1bIsGzX/99ZccO3bMvJcDAAAASZW1egbgfEAZm+Gys5s3b8rFixfl9OnTzGkEkGTo3z4dA8TGpogTzZq5rAGkbVu59vbbsmjCBHnuueekYMGCZpayhsp58uQxIzFWrFghwcHBzP0GAAAALNYqGoDzgWVchcsAACCWTJ16e56y0/t/aJ8+Mn36dGnevLnkz5/fjGvRjfoKFSpkNu/TK4xOnjxJZz0AAADghHAZUE4Hl4TLAPBfGqhduXKFefBI+NyMwriWOrW8UK+e6U7WzXaTJ08ugYGBMnjwYLOJn+6VoF32AAAAAFwRLgPK6QAzMYbLOsd07NixMmTIELPx0NGjR7kEHcA96SX/Og9+xowZpmuzUaNG0rZtW9m7d699DyCBGDVKpEABl/d659qeIYM8kSWL+Pn5ScqUKaVs2bLy8ccfy7///mv2ReCECgAAAHB31qoagPNBZmIMl5ctWyYNGjQwO9vrpb5lypSRJk2ayIABA+TXX3814TMHz0DSppuSaXD8448/Su/evc3fDO3c1E7OTNbfRQ3dSpcuLbNnz7YfAcRzI0aIZMzo8h4fsYanTSspUqQQf39/eeihh+Srr76SHTt2SEhICCdhAQAAgEiwVtYAnA80E2O4vG7dOrPbvYZEuimRj4+P6dDKnDmz5MuXT0qVKmW6Et955x2ZOXOm6Vbk8l8gcdNN9Hbu3CmTJk0ym5Q9+uijUrx4ccmdO7dkzJjRhMkPWH8T9b+FCxeWli1bypdffknnMuK/iRPvGyprBVtVwN9fatWqJePGjZM9e/bI+fPnCZUBAAAAD1irawDOB5uJMVzWOalBQUHmEt+5c+eaGZLNmjUzXcy6WZGGzRogaXdi3rx5pWTJkqZr8a233pKffvrJhEnsig8kbPp3YOvWrfLdd99Jt27dpHbt2lKsWDHJlSuXZMiQwXRvapisJ570461bt5ZPPvlEFi5caELoI0eOyLlz59jMDPHXggV3HX9xMW1a6VmokDS1ftbr+vrK46lSyXN16piTK3pC9eLFi/aTAAAAAPCEteIG4HwAmpg39NNuLL30/ezZs2YUhgZNOoN56NCh8swzz5gd8XUTI0fYrN2L2u1cokQJ09X4+uuvy+jRo2X58uVmx3y6u4D468KFC7JixQoZMWKEvPLKK1KjRg0pWrSoCZPTp09vftc1TNZxAHpC6cUXX5TPP/9cFi1aJLt27TInpDRM5sQSEgQ3m/RpXUiTRtpb7216pY5euaM/+0899ZRMnz5dDh48KJcvX7afAAAAAEBUWCtvAM4Hook5XI7IETbrbEntSty+fbv88ccfZiOjZ5991nQvOi6N165GPSjPkSOHFCxY0GzstXnzZvuZAMQ3GhB36NBBsmXLJmnTpg0Pk1OnTm3mruuonJEjR8rSpUtl9+7dZqNPHQlAZzISHDcb9p23fs675sljTpJqqKxX5mg3vu4zoO932skPAAAAIPoIlwHldECalMJld7RLUcNm7VrUTY3++usv0/nYpk0bqVChgrl8XgOqp59+2lxKDCB+0qsTdJaybuT58MMPy6uvvipjxowx3cwaJh87dsx0NxMmI0Hr1MnlPVxrYsaM5mSohspZs2Y1nft64lRPoOiscQAAAADeY63CATgflCb1cDkiDZv10ng9KNfNjtavXy+//PKLCZ05SAfiL70qQTs0t2zZIvv27ZPg4GATJrNZJxKFu2zad87HR3L5+krOnDnNKCftzNefff19AAAAAOB91kocgPOBKeHyvd26dUuuXr1qCoB36Iga/d3yNn1eZqMjUZk69a6hcl9fX6mbK5f07t1bVq1aJSdOnGBmOAAAABDDrBU5AOcDVMLluKMznAcNGiT9+vWTCRMmyJIlS+TQoUN0nEXD6dOn7f+F+EBPyugVAHqJvm6OqSGYbqaps2B1c00A96Cb9jm9XzvqoI+PNMmXTwYMGCDr1q2TU6dO0aEPAAAAxBJrVQ7A+SCVcDnuzJo1S0qUKGE2XtJLmnXjwMDAQKlataoJ4DSI00BOg7m9e/eyIVMk6FxdxC7tFL548aJs27ZN5s6dK1988YV0795dmjRpIhUrVpTixYtL/vz5JXv27GazMX9/fylQoIB8/vnn9jMAcBZm/a2/NGSIXMySxeX9WkPlbvnyybBhw8zJyTNnzsTIFQAAAACJjW7krSP0AG8gXAaU08Eq4XLc0dmYzZs3N+FbmjRprH+OB0zppkwawGkQlyNHDhPM6X0qVaokTZs2NcGdBnga5G3fvt0Ee7iNcDnmaIil88g3bdpk5pAPHz5cunTpIo8//riUK1dOihYtKvny5ZNs2bKZjTD9/PzEx8cn/GdaP1amTBlp1qyZvPPOO7J8+XL7mQEoPVFzYs0a2V2xosv7tNaYnDnls88+M3/zdRNaQmUAAIDI0TXW6tWrTWNXgwYNzLHIzJkzCZsRZdYKHYDzASvhcty5dOmSGYOxa9cus3Ggo+uzR48eJkQuXbq0CeScQ2cN7PRjGuBpkFesWDEpX7681KtXT9q0aWPCB93MLKmKTLisoxo0ID158qT9EdzL/v37zfiW2rVrm5/JIkWKSN68eSVr1qySLl06SZkyZXiInCxZMgkICDAnQlq2bCl9+vSRsWPHmu577bTUERmHDx82l/HTiQ/cpkFx0NatsqlaNZf3Z0ddTp9e9q1caU7uMFMcAADAM7p+Wrx4sbWsesAcu+iVw3o8Q9iMqLJW6QCcD1oJl+MHfcPTWct6uY6GnhrA7d6924SgGsyNGTNG3nrrLWnRooUZNaABniPQ0/+mSJHCdD8/8cQTZgZnUnXw4EEZMWKECULdlXaE6/fssccek3///dd+FO5Fx120atVKkidPbr53Wvq/tau+WrVq8vzzz8u7774rEydONIu2rVu3mjEuujjTEFk769lkDPgvnZOsvyuTX3xRLiRL5vLerHUtdWo506uXXNyzh1AZAAAgipzD5YhF2IyosFbrAKy/ouFFuBy/6RuhBnMXLlwwQZ2+wWn355YtW2TRokVmI8D+/ftL+/btpWHDhqbr2dudyxqAhIaGJoiAULtsO3fuHL5YuFslpnBZf0b03+f48eOmc9vb/076nKNGjZKOHTvK4MGDZdKkSbJs2TITOmswFhQUZDZS1E78Gzdu2I8CcC/6+/rhhx9Ks8BACfXxcXlfvpkihVx85hm5smGDfW8AAABE1b3C5YjlHDaXLFnSHGMTNiMiwmVAWX80HRWn4fKBA2L9lY98jRolMmBAzNaCBe5f21H6OccTGuRpoKfBngaA2rWr/9UOaG86YH3N+oaq4zdq1KhhNmp76aWXzOzngQMHmo3Zvv/+e/n111/NHF3tXD169Khcvnw51rvtEkO4rJfI68kE7V7XURJLliwxixntDNbfVe0S7tq1q+kYbty4sTz88MNStmxZefDBB81JBv0eeJP+nJ09e1aCg4PNBmL676onHABEjf59HPDWW9IxfXpZZf09sv4ohdelFi3kSiTG+wAAACByPAmXIxZhM9yxVu4ArL+S4RWtcPnq1duBqwayjnC2VSuR2rVvV2Cgy2sl+qpa9fbX3aePyNSpIjt22N+ohE27pJ955hkzfkNn6urcZx3BobOfdTxH9uzZJVeuXGYGdKFChcwcaH3j1cCzqvU90UuLdKyChr5vv/226dYbPXq0/P333/YreE9CCZc1nNXgeOjQodK7d2/p0KGDGXmis7MrV65sZhvrZVm6SV7BggXNYka/xzprO3PmzJI+fXpJnTq1Wezov4nj66pVq5aZ3w0gftJgecaTT/6nW1nrhnWgAgAAAO+KTrgcsSKO0SBsTpqs1TsA669ieN01XA4JuR0cT5x4OzTu3j3phsbRqYwZb3/P9Ps3dOjt7+mqVfY3OWE4ceKEzJgx4z8ds9WrVzdvqDp7N1WqVNaX+983X92EUOdB6+26+Zu+EetGcBqY6iZx3rZy5UoTsLr7XJxLN6V744035P3335chQ4bIe++9Zz4f7cTWMSP6tfbr10/69u1rfj82OF2erosGfZxuWhfV0rnZxYsXlyxZslg/Ihklbdq05nuk3yvHLG3n0u+jBvp58uSRUqVKuXSQ69fh6CDXTSG1k91BA3QdZ+Huc4hqaTCvm/R524oVK6R+/fpuXzOqpYG9ziz3Jt0Q8pdffnH7etGpl19+2Yy88Sb93dWfX3evF53q1q2b169K0K9d/764e72oVp06dcwMdm/TE0N6IOHuNe9V+nv/dOHCbt8rTqROLX98/739CgAAAPAWb4bLEUuP3wibkx5rBQ/A+iuYeEqDbkfoHZkqV8798yTk0q9JvzY9CaBBigbYWnqCwAu0y9YxfkPnhOqMXR3BofN2d+3aZWbv6saD2ok8f/58mTx5sowcOdKEtv/73//MqIannnrK+hRrW59qORMsFy5cOEbC5dmzZ5s3dndv/M7lWARouKvd147SrmBH6e1aGgjpnGEH/bo1sNUQODoV8XPSrm99Xu1k1o5mnXP8448/yu+//y6rV682HeTbt28333Odq33o0CHTBakBoo6r0M0gr1y5YsZqOOjjNGx39/pRLe2e1jDb2+bNm2ee291rRrW0g37atGn2K3iHjgXRcN3d60WndLyJ/ht7ky5odQ67u9eLTjVq1Mjr4bKeCNGTC+5eL6qlv8f6N8jb9CRWzpw53b7m/Wqi9btu/cKH1wGrRlhVJV8+M/oGAAAA3hWT4XLEImxOGqyVPADx93c5uPVKOTp0tTp1ujMmwznsvFfFdzriwt3n7Sgdg6Ffb7Nm8TfALlDgzr9RxNLP2/Fv5q503rW7r9upbm3bZuY9a/imQacGnidPnjRzoHV+sI6s2L17t/Wt3GFKg2pvW7BggekIdvdG71zaJaxjPHSEh94/MDDQBJE6t1g7g8uUKWPGemgY/uSTT5rObQcNl3WMhbvnjU5pAK9zjfV7pjOOde6yhsW6QZ9zYOyJVatWSc2aNd2+XlRLO89jKlzW53b3mlEtXdDFRLg8ZswYt68XnYqpcFlno7t7vejU448/HmPhsrvXi2rpwr5nz572K3iPhst6xYa717xX1bbK+h/hNdAqx20FrL/PukErAAAAvCs2w+WIRdicOFmreSBmaOCg3Ztz5syJ9xWss4GtP3SRrYt58sjp0qXN43Y995ypra+8Iivff1+WfPaZ29eg5sjyjz+WzZ07y74mTcz3z933lrp3hVpvxPpzp99H/Xlz9312Lu0o1bEdFSpUuGdpOKZv6h9b/0aOGj58eHh98skn4fXFF1/IDz/8EP4aGix6OwTT0g5j56/FG6Vflwbm7l4vqqXznnWGtrvXi07pOBKd4+3uNaNauojr1auX29eLav3888/y2muvuX296JQuNvVnzd1rRrU0rNTxKe5eLzql3fyzZs1y+5pRrS+//NKczHH3elEtHTfTtGlTt68XndK58TrOxt1rOiqHVRomN7NKQ+RRVgVbZd1o6qpVeh/H/bVrX8eNuHs9iqIoiqIoKuqlV7fqWEPntVpcVcSwWY8rW7ZsKVOnTiVsTkCsFT0QM7QzU0MM7YZMCNXMOjB+zPrDVtfXV56wDsBbWge2Eau6vUkb5b0qlSeP2+91VKtv5swyIkMGWeXvLxv8/MKDi8RcuhHWYuvrHWS9KdfJmdPl+6sziXW8hc4nvldpMJQ7d26Xx0a2dGM9Da3cLRaiU/p5uXu96JRutqgbMLp7vaiWzn/WENjd60WntGtZn9vda0a1dPGmo0/cvV5USxeCOm7B3etFp/TfSUctuHvNqJb+jOusc3evF51ydP57s/Rr97d+r929XlRLf57063f3etEp/b3SjTTLWa+hAbKGxzraYrFVOubCevH7Vh+rnD/X5MmTm58rd69HURRFURRFRa/0RL7z2iu+lB6v6Npa1+0aNutm+LrvjzZyhIaG2mkT4htrRQ/EDL3kX2fLuvuDQVGxXYFWaeih1dYqDT/clSMQuVtFNiiJy9LPUbsCW1lVwCp33w+KoqjolHYZd7dK/y46dyBHpSJ2LVMURVEURVGUhsuaKX3//fdmf52ojkZEzLNW9UDM0LNKGjDrBloJoT7//HNzubx2SulMTnf3oaj71caZM2X7119HuvYMHixBr7ziUYVUrSq3Uqb8T0ATE3W5WDE5X6GC23J8Ptv1sqXixf8T1HeyyhHoe1q6mNCz1O6+x9GpcePGeX3UgHZ9v2J9H9y9XnTq008/ve+oAU9L59gOtn7m3L1eVGvJkiXSp08ft68XndI537pxpLvXjGrpZYA6wsTd60WnqlWrZuZ5u3vNqJZuBFqlShW3rxfV0q7l5557zu3rRab079WJ5s3N77/1hFEuDaM1lNbN/PRvhbuTYNq53a9fP7efB0VRFEVRFBX10nXr19axaMT1V1yWXmGnYfKLL75ospnly5ebjdt1w3bdv0g31Uf8Za3ygZijg+L17FJCqN9++80cyOvlvTpX1t19KCpe1b59ErZokYT17y9hTZvGzMaUlNvaaJWGY1Ot+ih1alnQoMHtfwurbq1c6f7fy8OaO3dujGzop/PL3L1eVOvSpUsyevRot68XnapevbqZ2+/uNaNa2vEQUxv66YLX3WtGtTZv3iyPPfaY29eLaunJih49erh9PXcVNmWKhL36qoTVquX29+BupZ3Ijt8PDY/1ahE9aaRXkLj7vNyVnggZP36828+LoiiKoiiKinrpunWRddzibg0WW0WYnLhYRwEA1B9//CEPPfSQCZe1YxBIkGbOFOneXaRcuf8EPlQcVcaMIrVr36mGDUUGDLhTo0aJLF58p0JCzD/lvHnzYiRcnjZtmnl+b9HNW3VTR3evF516+OGHZcuWLfareIduChJT4bKeTPWmf//91+sbZepmKT179rRfIQL92dOfx7Ztb/+cWvePVLVqJYfbt5dO1s+5Bsj+Vrl7bU9Lw2XdgBEAAADepevWxdbaz90aLKaKMDlxs44KACjCZSRKzqGlJzV1qmsA6lzNmrmEpdeqV5egokVlS0CAqbNJZCPF2KjryZKFf18dNdn6XjtXn6pVw+t/Dz8sjRs3vmt16tRJli1bZv9weIeOQFqwYIHb14tOvfnmm3LgwAH7Vbzj1KlT8s0337h9vejUAOv3wtvh8sGDB+Xdd991+3qRrddr1DA/F4MrVjQ/Kz8/+KDscPrdNVWggNufvbuWnrjSvwNDh4r1D2Q+1+3bt8sLL7zg9nOIarVr104WLlxonh8AAADeExvhMmFy0mIdJQBQhMtA1Ny4cUPOnDljwrCo1tG//pLj06a51LlZs9wH39Go69bv+dlffvnPa3lSp778Us517y4Xnn9erlatKteiOX82piu0fHnzeWqFVqsmN2vUuB0q9unz3xMHzjVihNvvYcTSUSAXT51y++8anTp+/Lhcv37d/ilzop3dbj6P8NLufXdfj1U6QubqW2+Zfz/nuvjMM+Hfo6iUnmBxCWwdFRjo9t8kQZWbMDkiPcGgXeHu/h2jWkFBQXLx4kX7FQAAAOAtMREuEyYnbdZRAwBFuAwg2iIGnxMnugacnTolvvCRSjyVI8ftn8v7hMkAAABIuLwRLkcMk1esWEGYnIRZRxIAFOEygDi3atWdYDriaJLu3V2D6apV/xsOUtTdyhEca+loG+efLe1S37jR/iEEAABAYhaVcJkwGfdiHW0AUITLABK0iF3Td5ub7RxQuyvdgNBaQCaK0pEO7r7G+1WrVu6/dzFVkRxBEqW6etX+AQEAAAAiFy4TJsMT1pEXAEW4DAAeiBhi3q9GjXIfrN6vdIayu+djZAMAAADgMXfhMmEyooNwGbARLgMAAAAAgMRMw+Vly5ZJyZIlpU2bNvLFF18QJiNaCJcBG+EyAAAAAABI7C5dukSYDK8hXAZshMsAAAAAAABA5BEuAzbCZQAAAAAAACDyCJcBG+EyAAAAAAAAEHmEy4CNcBkAAAAAAACIPMJlwEa4DAAAAAAAAEQe4TJgI1wGAAAAAAAAIo9wGbARLgMAAAAAAACRR7gM2AiXAQAAAAAAgMgjXAZshMsAAAAAAABA5BEuAzbCZQAAAAAAACDyCJcBG+EyAAAAAAAAEHmEy4CNcBkAAAAAAACIPMJlwEa4DAAAAAAAAEQe4TJgI1wGAAAAAAAAIo9wGbARLgMAAAAAAACRR7gM2AiXAQAAAAAAgMgjXAZshMsAAAAAAABA5BEuAzbCZQAAAAAAACDyCJcBG+EykJiF2f8FAAAAAADeQrgM2AiXAQAAAAAAgMgjXAZshMsAAAAAAABA5BEuAzbCZQAAAAAAACDyCJcBG+EyAAB3XL9+XQ4fPiyLFy+WKVOmyOTJk8175ZEjRyQsLH7PMT9//rwsW7ZMpk2bZj73P//8U06ePGnfGj3x/WsHAAAAYhPhMmAjXAYAJBY3b96U9evXy6BBg2Tr1q32R+/v1q1bJlD+/PPPpX79+lKyZEkpVKiQ5MmTx1SBAgWkbNmy0rp1a5k3b56Ehobaj4x7V65ckdWrV0ufPn3kkUcecfm8CxYsKJUrV5YePXrIpk2b7Ed45vLlyzJ79mzp1q2bXLx40f4oAABA3NAT3gcPHpRJkybJwIEDzRrlq6++Muu5e7lx44ZMnz5devXqJX379pXt27fbtwBRQ7gM2AiXAQCJwbVr10y3ccOGDeWll16S48eP27fcm3b2aqisIay+F6ZIkUIeeOCB/5SPj4+kTp1aAgMD5c0335Rjx47ZzxA39MBKu6kHDBggxYsXlxw5cpivoX///qZrefz48dKxY0fJly+fZMiQwQTPP/74o8cdyBrYL126VKpWrSrfffed/VEAAIDYo8GxNhAMHz5cmjZtahoBcufOLQEBAWadkytXLrP2cUfXPps3b5ann35a8ubNKxkzZpRMmTJJmTJlTHMBEFWEy4CNcBkAkNBpsKwjIGrVqiXNmjUzBxAait6LHmjs2LFD2rZta94DfX193YbKEUvvlyVLFunQoYOcOnXKfrbYdfXqVVm0aJE0atTIHFRlzZrVdO38+++/cvr0adNtrF3GQUFBZkSGBuIamuv7/fz58+1nibxdu3ZJ8+bNpUGDBnEeqgMAgKRFO47ff/99Eyp3795d3nnnHXn22Wdd1m7aBKAnwiNyrPcqVKgg/v7+Lmu65MmTmyvSgKgiXAZshMsAgITMESzrAYV25/7999/mIOR+NDDVMRfp0qUzBxjJkiUzXSzaBaydLDoKI1WqVC4HIY7SAxjtFH733XfNjObYpMGyHgiVK1dO/Pz8TKfO0KFDTad2xMtB9YBK5zBrJ49+fXr/xx9/XPbt22ffI3LOnDkjH374oeTPn18mTJhgfxQAACDm6Xrm0KFDsnPnTnPiXK8607EYLVu2dFmfpUmTxmUsmj5OO5Nr1KghhQsXNuu+YsWKhd9f1327d++27w14jnAZsBEuAwASKg2WFy5caMZB6MHCN998Yz52P3pA0rVrV0mbNq0JkKtXr27eA//55x/T3aLBsx6czJ07V15++WUTJDsfvGhpt4zOYZ4zZ479rDFPg+UFCxaY19WwOH369NKuXTvTrXw3emClX1eJEiXM561htF5S6gntAtcAXzuk9ZLS+DRzGgAAJD26vtE1oPPaTNdGY8aMse8h5gozHZemV3CtXLnSjBPT9d3HH39srvjSPSViu0kAiQvhMmAjXAYAJETanbxixQqpVq2aCT1fe+01OXfunH3r3V26dMlsAKPdKjqrb8iQIbJ3717zWOfOXz1o0RD16NGjMnPmTKlUqZLLAYyWhrtdunSxHxGzNDT/66+/pHz58uYyTq2aNWuaURj3o2G6htD6OevjdNNCT0d66KgR/R48+OCD5vMAAACIS3p1lo4qc6zL9MR/+/btzW26TtTRZ7r3hO7J4biqTdd3ISEh5oovPWkPRAfhMmAjXAYAJDR6YLBlyxZp3Lix2WSvXr165lLJyNCQtE6dOpInTx4ZNmyYGflwPzrDeNasWSZYdRzAOA5idBTH/v377XvGHO200ZnHGg7raxcpUsTMU47MCBCdv6xd3Y7Pu1ChQmbTP0/o16iXk+omONrtAwAAEJd0DaRrQcf6RseW6dVd2iygayTd6G/06NGRuqoNiArCZcBGuAwASGh0ZvArr7xiRlrojOTp06ffdwM/pd3JX331lZm7p3OKIxMsO2iXy+eff24OXBwHMVr6XNoJHZOCg4OlX79+4TOg9b+6kc2FCxfse9ybHmQ5XzqqB1s6FsQT2un83nvvmUBd51szoxAAAMQlXft99NFH4esbLW062L59uxmF0aRJE9PdDMQUwmXARrgMAEhI9DLGwYMHm5EUunHLSy+9ZDpzI2PPnj3SsWNHee655zweC6Hd0qtWrfpP93LOnDlNB3RMuXLlignPnec+a6CtHTmeWLJkSfjjtfu5UaNG5muKLL10VF9TH6+bHX7//ff2LQAAALFP1zFr1qwJX99oaROAjg3TPSYiMzoMiA7CZcBGuAwASCg04Pzll1/MrGQ9gChZsqTZdC+ydIaydj1HtetWdyrv1KmTy0FMtmzZZODAgfY9vE8PjGrXrh3eMZ0yZUp58skn5ezZs/Y97k8PvhYtWuTyeeus6hMnTtj3uD99Dp1ZqMG0jsZ444037FsAAADihjYYBAQEuKxx/P39zZVqkbmqDYgOwmXARrgMAEgINNzcuHFjeNCqXctt2rSJdNeygz6P88Z9njh58qQZDeF8AKMdxTpiIyboGI+RI0eagyTH6+nGNGPHjjVfR2Tp16vv986fd5kyZWTt2rX2PSJn9erVZuMc3Y1d51yzEQ4AAIhLOndZ1ySO9Y2uEXVkWmQ2eQaii3AZsBEuAwASgqCgIOnVq1d40FqiRAmZM2eOfWvs0FEaQ4YMCT+A0SpatKgZWxETtGu5Vq1aLq+n79mHDx+27xE52rGtn6Pz8+hojZ9//tm+R+Rs2LDBHLDp4zWc1rAfAAAgrmh38rvvvuuyxtGRGEBsIFwGbITLAID47vr16zJv3jwz31gPGnQ0xFNPPRXpDe28RcdidO7c2eUARt9D9+/fb9/De/RrGzduXPgmflpp06aVl19+2ePLPPW5xowZ4/J5awe0Pr8ntm7dKo888oh5fP78+WXixIn2LQAAALFPr87SNaLzGsfPz0+OHDli3wOIOYTLgI1wGQAQ3+mcZN24zzF3OE+ePPLZZ5/Zt8Ye7SSuW7du+MFLunTpzAaBekmmt+lO5w0aNAh/LS0NdMePH2/fI/JOnz4t77//vstz6ffw66+/tu8ROTt37pSGDRuax2fKlEnefPNN+xYAAIDYp2PCtm3b5rLG0fFdnuzJAUQV4TJgI1wGAMRnOtdXxzdkzpw5/KChSpUqpos2NjlGS2igrJ+DBt0VK1Y0u5R7m4bV2oWjncqOr1lLXy8qmxEePXpUevTo4fJcUQmX9bV1M0F9vHZUt27d2r4FAAAg9umaqUOHDi5rHF9fX7NHBhDTCJcBG+EyACA+27NnjwkxHV3LqVOnNl3M165ds+8RO/bu3evyeeiIjmHDhsXI56EbBw4aNMjlQEnD3Oeee86MCPGUdn7rY52fz7ExoCf036Jp06bm8doV9Nhjj3m0sSAAAIC36EiMn376STJkyCABAQHhaxxdq+l6JXZck7MHNsmyeT/KpL/2iWeDy5DQES4DNr1UdtWqVbJo0SI5cOCA/VEAAOKezhbWk6DZsmULP2AoUKCAmR8cm7Rr+ZdffjGjIPRz0IC7RYsWpiM4JuhIjPr164d/zVraafzFF1/Y9/DMli1bzIlk5+crVKiQTJs2zb5H5OzatUsaN24c/hzVqlVjN3YAABDr9OS27nkRGBhormj75JNPXNY5OXLkiNIJ+Xu7LuePbJWVC36UcZ8Okv91fE6eqF1Fyj5YXAoXLCgP9Vkmsdv6gLhGuAzY9I+yXkqif3j1zB8AAPHF8ePHpX///ubyRsfBQuXKlU1YGpt0BIfOP9ZOGN1M8NFHH5VNmzbFSNeuvhfrCV9HkO2ocuXKyYYNG+x7eUZPImfJksXl+R588EFZvny5fY/I2bFjh+lWdjxH+fLlTTczAABAbNIrx1q1amVC5L///ttcYea8XtT12saNG+17R0eYhF3fIz/1aS1N6laTSuXKSGDhfJIrW4BkTJdKUia7fUWbT7JM0mT8MeveSEoIlwEAAOI5DVOrV68efqCQPHlyadKkiZnDHFuCgoLMxnXarayjILQ7ZunSpTGyiZ8KCQmRESNGhI/fcHzdjz/+uOmg9pQefM2cOdPlgEtLQ/rDhw/b94oc7aiuXbt2+HNoQL1y5Ur7VgAAgJinJ+JHjRolGTNmNCO+tFFO14bFihULX6Pomu3LL7+0HxFNYRfl6M7NsnnTRtlorU3/WTxZetfKKr72az3wgI/4pqktn+71dqc04jvCZQAAgHhMR2L8+uuvJtR1HCjopn69e/e27xHzzp8/L+PGjTNdvxr2apg6a9asKIW8kaWBb6dOncK/Zq306dNL586d7Xt45uzZs/+5VFSD5nr16nl8uei///5rwnXH8xQvXlx+//13+1YAAICYpVeN6Ylt3Tvi5ZdfNms1pSf927Vr57LWadmypbnNmT5e1y7btm2zPxIZYRJ2yyrH/7t+UfZ/9pj4+zjWVr7iV3mgbIq55SHiKcJlAACAeOzMmTPy0UcfhR8kaBUuXFh++OEH+x4xS4PXv/76S0qWLGmC5SJFish3330nly9ftu8RM3T0RKNGjVy+bt088OOPP7bv4ZmDBw+6HGxppUmTRtq3b2/fI/L++ecfczDneB7tEJo3b559KwAAQMzRYFivKNMT3RUrVnS5Aku7mb/99luX9U7u3LlNs4KDPn7t2rVm1JjuIxFlYdfk38GVJaXjtXxSSsmey+UyMzGSHMJlAACAeExn+b7wwgsuBwk6ymHz5s32PWKOHnzonOUnnnjCjKTQUHv8+PFy4cIF+x4xZ/369VKqVCmXr7to0aJmQ8Go0HmDZcqUcXk+3Rxw5MiR9j0iR78nixcvNjMMnT+vOXPm2PcAAADwDj3JH/EKqytXrsizzz5rNnfWOcu6NnHQ/71v377/zF3WdZXDkSNHpGrVqtKrV69oXYUWduOQjGmUIXwshk+KAtJh3nnmLSdBhMsAAADx2Lp161xGMGj3cP369WO8c1jppjBt27Y1IzkKFSpk5vk5LruMabrJXoYMGcK/bi3dOE83EPSUHpRpZ7G/v7/L85UtW9bj59MDuilTprg8j4bLc+fOte8BAAAQPdqBrGMrKlWqZNaB77zzjuzcuVNOnz5tRoTlypXLjChzN9pL5y4HBgaGr1M0aG7Tpo0ZmaEdz82aNZM6depIcHCw/YioCJObJ6ZIy2yOENtHkmV/VqacIlpOigiXAQAA4rFly5aZDlvHAYIGvRr4OnepxIRDhw7JG2+8YeYcO4Llc+fO2bfGLD1Q0gOmiJvv1ahRI0rh9qlTp+SDDz5weS7t4tGDK087dnRMyYcffujyXDpz+Y8//rDvAQAAED26EbFecaVNBVqZMmUygbF+LGvWrGZdpie83dERGF26dHFZq+h6TpsT9Oo33TtDr+iKlrBbcm5Oe8mT3H4Nn2SSodEYOXLLvh1JCuEyAABAPKUB8m+//ebScaub6vXr18++R8w4duyYvPvuu+ZAJraDZXXx4kWzgaDja9by8/MzG9JEJVTfvXu3PPXUUy7Plz17dhM4e0o7fl5//XWX59IDvWgfpAEAANg0XM6RI4fLekNLx5QNGDDgniPKdK20cOHC/5ykT5EihQQEBMiCBQtcZjBHRdity/LXG0XD5y37+KaRmh/vFs+2SEZiQbgMAAAQT+mBxdSpU03HiuPAIH/+/DJ69Gj7Ht534sQJGTp0qAmx4yJYVtqd/NVXX4V/zVqZM2eWt956y75H5OllpTojWbt8nJ9PR2xEZW61zsDWjmfn59LLVbU7GgAAwBs0/H3//fddAmI96d+/f/9IrTn0RH3Xrl3DH6trydKlS5tgOTpzlm8Lk7DQtfJOOX/xsZ/f16+ivLshus+LhIpwGQAAIJ7SucoTJkwIPzDQKlmyZIzN99U5fp999pnplImrYFmFhITIiBEjXL7ufPnymc/HU46RGM4HZxkzZjTdxxree0oD6QoVKoQ/V7JkyaRBgwbR7gACAABwpusynbv80UcfmfWZjkrz5GS2XommTQraNPD999/L9u3bo7T2+a8wub7tQ3k4jaP5wUdSlughiy8zbzmpIlwGAACIpy5dumQCVUeQqaWz8qKyqd39aKA7ZswYM9+5cOHCcRYsK/1c9CDK+esuVqyYmcPsqa1bt0rNmjVdnktnDeoBmqe0C3rJkiWSLl268OdKmzatvPLKK/Y9AAAAvEf3odB1ka7JdEM+T+lc5rNnz5o1pdf26wi7IQdG1pf0vvbayie55H/5VwkhW06yCJcBAADiKb2kMWK4XLt2bdPJ4k06t087WgoUKBDnwbLSsRijRo1y+bq1Y1vnB3pCL/ucOXOm2QTR8TwaBrdr187spO4p/T7p98Z5TEnu3Lnlyy+/tO8BAACQuIXdCJbvmgeIr70W8kmWTVpMOilky0kX4TIAAEA8FXEsho5gaNKkiVdHMGgny08//SRFixaVIkWKxHmwrDQU1s/JOcQtVaqULF++3L5H5Bw8eFDat28f/hz6fLr53ooVK+x7eEY383OeX6il8wv/+ecf+x4AAACJWZjcOvuLvJgrmb0W8hHfDA1l1OFb9u1IigiXAQAA4imdizdt2rTwIDNlypTy7LPP2rdGn14qOWfOHDMmIirBsobfe/fuNZsAepNetrly5UozZ9nxtWu4vHTpUvse96cBtX5tujGh4zly5swpw4YNi/JGNtu2bZMaNWqEP5/u2N6wYUPzfQQAAEj0wm7JpT9ek0Ipbq+FHvDxldSPDJOd1+3bkSQRLgMAAMRTOuP3119/De/gTZUqlbRp08a+NXo0YNVNYsqXL2+6lj0NljUA3rhxo7z88ssxssHg7t27pVmzZuFBbokSJeS3336zb72/ffv2yXPPPefyvWvevLkcP37cvodn9OvVzmndqd3xOWXNmlUGDBhg3wMAACBxCwu7KivfKiV+9lroAd+UUu6df8TzYWNITAiXAQAA4rE//vhD/P39zQI+TZo0Xtk8TjeHWbx4sTz00ENmo7yojMI4cuSI9OjRQ+rUqWPGT9yNhrK6Ec26devkwIED9kfvT+dKa5exI8jNmzevfP311/at96adxNrxnSFDBvNYX19fE6LrZnxR3cxG50CPHDnSPJfjc9KRGOvXr7fvAQAAkLiFhW6SIQ+lEh97LeSTsph0W3SJectJHOEyAABAPKaBaPbs2c0CXjej69ixo31L1OhO43///bcZ71C8eHEZM2ZMpINlDWY1ZNWO57Zt25rN/9544427zoDWDfCmT59uAmjtjq5SpYoMGTLEzHm+H/08NVgPCAgwX7sG6y+99NJ9w2H9XFatWmWCc3PQ4+Njup5nzJgRpU38HPbv3286ofU5tdKlS2eC/qiO2AAAAEhYwuT67s+kblrHnhg+kjzPSzIrhGg5qSNcBgAAiMe041dDWV3ERzdc1uBVN5+rV6+emd+cMWNGqVu3rjz11FP3LR1R8fjjj5vQtmDBgiZc1dB23rx59rP/l3b1VqhQQVKkSGE+f92QUEPmr776yr7HvR09elTefPNN81gNiatVq2ZC3rvR4HnHjh3m89WvTx+ns6QnTZoUqUD7bvR5V69eLXny5DHPqaUd3zExDgQAACBeCrshQeOflEy+t9dCD/gkkyzNv5MTZMtJHuEyAABAPKazhx0ds9EJl3V+8+bNm+WJJ54IH7OhIx78/PzM/79f6f00sHWMhdDN7Bo3bnzXrmcNZP/888/wYNlR+v/1c4hs97KGuo888oh5rM447tevn9tuYX09nbPcqVMn0+Wsn6d2Zk+YMMF0UEeHfo1ffvmlCcf189Dnf/755+XixYv2PQAAABK3sFun5KfW2cXXXtP5+KaX+l8dlFv27Ui6CJcBAADiMd2ATgNVXcRrwNuqVSv7lsjT4HX79u3SokULs7GdPld0K2fOnPLhhx+a574bHb/h3O3rqMqVK8uuXbvse93b5cuXZdasWfLggw+acLdQoUIydOhQOXPmjH0PMUG1dhHXr1/fdGNr+NukSRMzUkTHeESXBvz6fI7Pv2TJkua5AQAAkoYwuXVhnnTMn9xeD/mIb6pq8sG26/btSMoIlwEAAOIxDVcnTpxoFvI6GqJhw4ZmQz5P6IZ7Xbt2NaGrIyCNblWsWFE2btxov4J7J0+elMGDB/8n0PYkXNbwWjuEFyxYII899pjpntYO5urVq0uHDh2kc+fO5uMFChQwnd06quODDz4w4zOuXbtmP0vU6XNocK2htX7umTNnll69ekVrfjMAAECCEnZLriztKYEpHes5H0lZpo+sZjkEC+EyAESRN7rhAOB+NFzVDfR0xrEu5mvWrCknTpywb42cI0eOyLBhw8yGeN6o9u3by2effXbfzex0xvOhQ4dkwIAB4TOQdVzFo48+KiEhIfa9IkfDXO2+HjdunOnADgwMlLx585pO5nLlypnPafLkybJt2zaXrubo0mBeNy/UYF87p3VEx86dO+1bAQAAEr+wW1dl3YAKksrHDpd9UkiRLgvlAvOWYSFcBoAo2rBhg/2/ACBmaYewY+6wbu6nAaontNNZu4iDgoK8UrrRXmQDXJ31vGnTJmnUqJH5/B3jNPTjntLHaBfz4cOHTdCsM6S3bNliwl79nLTL25scXcvarayfe+HCheWnn34ys6ABAACShjC5dW27DK+ZRnw0WLbKJ3kueWH6WesWgHAZAKJszZo19v8CgJilc5f79+9vFvNly5ZNcPN+daM93QBPu5Zr1KhhRlYkBAcOHDCd2tq1rKM43nnnHTbxAwAAScwtuX5wtDTKcHtTZx2JkSxzU5kQzFZ+uI1wGQCiSC8z9wa9NFznqbZr187MJtVOPG/MCQWQeGin7Pz58yUgIECKFi0q06ZNs2+J//Rz/+uvvyR//vym83fSpElmXEZ8d+XKFZk+fbrpWtaZ0c2bNzdd2wAAAElK2A05MbmFZPV1jMTwlbR1P5N9XMgFG+EyAERRdC+L1sdrN9/YsWNl+PDhMnPmTDPb09ONugAkDToGokmTJpItWzYZOHCg/dH4TedF6+f99NNPS8GCBeWrr76SCxcu2LfGXzp+Q0eR6KaBfn5+UrduXTPaQ78eAACApCTs1lmZ3S63JLdHYjzgm0qqDv5XaIeCA+EyAESDBg26oZWGJdrl5ukMUQ2Y9bHavaybVRFcALibc+fOyeeff242xnvmmWfiffevfn4a0D711FPy4IMPyqeffurxJn5xRWc6d+rUSdKkSSPVqlWTlStXRvuEIgAAQMITJrcu/SndiqawR2I8IL4py0qfNVfs2wHCZQAAgARBT17prGUdLaEdtbt377ZviX90Yz0d49GwYUOpX7++zJ49W86ePWvfGr9piD969GgzgqR8+fKycOFCRhUBAICkKeyWXFn1tpT1t7uWH/CRFEW6yMILNEXhDsJlAACABEI3mOvYsaMUL15cZsyYYX80/tGZ9EOHDjUb4G3ZssVcmZEQ6FiiRYsWSWBgoJQsWVJmzZqVYD53AAAAbwu7cULmdSkpqXzscNnHV9I0HiunyJbhhHAZAAAggdAO2rlz50rp0qWld+/e9kfjH/08jx07JidOnPB4XFBc0TEe69evl3r16kmZMmXkxx9/NB3YAAAASU5YqJza8ZdM7NtcSmVOIT72SIwHfHzEr3RXWXCUq7pwB+EyAABAAhIUFCS9evWSxx57TIKDg+2PIjo0AN+8ebM0bdrUbN73xx9/yKVLl+xbAQAAEr+wsKuy7ptu0q71U9KwVhUpW7KQ5M6cSpI5gmW7fPwDpHD5WvLksy9K21c6SdeP/5CTCaOXADGEcBkAACAB0Y3lli1bJu3btzcbzSH6dBzG33//LV26dJF//vnHbNQKAACQtNySC8f2yM7tW2XzxvWyft06WXeXWr9+k/y7bYfs3LVb9hw+K9ftZ0DSRLgMAACQwFy5ckUOHz4sFy5csD+C6AgLCzOdytoVruE9AAAAgMghXAYAAAAAAAAAeIxwGQAAAAAAAADgMcJlAAAAAAAAAIDHCJcBAAAAAAAAAB4jXAYAAAAAAAAAeIxwGQAAAAAAAADgMcJlAAAAAAAAAIDHCJcBAAAAAAAAAB4jXAYAAAAAAAAAeIxwGQAAAAAAAADgMcJlAAAAAAAAAIDHCJcBAAAAAAAAAB4jXAYAAAAAAAAAeIxwGQAAAAAAAADgMcJlAAAAAAAAAIDHCJcBAAAAAAAAAB4jXAYAAAAAAAAAeIxwGQAAAAAAAADgMcJlAAAAAAAAAIDHCJcBAAAAAAAAAB4jXAYAAAAAAAAAeIxwGQAAAAAAAADgMcJlAAAAAAAAAIDHCJcBAAAAAAAAAB4jXAYAAAAAAAAAeIxwGQAAAAAAAADgMcJlAAAAAAAAAIDHCJcBAAAAAAAAAB4jXAYAAAAAAAAAeIxwGQAAAAAAAADgMcJlAAAAAAAAAIDHCJcBAAAAAAAAAB4jXAYAAAAAAAAAeIxwGQAAAAAAAADgMcJlAAAAAAAAAIDHCJcBAAAAAAAAAB4jXAYAAAAAAAAAeIxwGQAAAAAAAADgMcJlAAAAAAAAAIDHCJcBAAAAAAAAAB4jXAYAAAAAAAAAeIxwGQAAAAAAAADgMcJlAAAAAAAAAIDHCJcBAAAAAAAAAB4jXAYAAAAAAAAAeIxwGQAAAAAAAADgMcJlAAAAAAAAAIDHCJcBAAAAAAAAAB4jXAYAAAAAAAAAeIxwGQAAAAAAAADgMcJlAAAAAAAAAIDHCJcBAAAAAAAAAB4jXAYAAAAAAAAAeIxwGQAAAAAAAADgMcJlAAAAAAAAAIDHCJcBAAAAAAAAAB4jXAYAAAAAAAAAeIxwGQAAAAAAAADgMcJlAAAAAAAAAIDHCJcBAAAAAAAAAB4jXAYAAAAAAAAAeIxwGQAAAAAAAADgMcJlAAAAAAAAAIDHCJcBAAAAAAAAAB4jXAYAAAAAAAAAeIxwGQAAAAAAAADgMcJlAAAAAAAAAIDHCJcBAAAAAAAAAB4jXAYAAAAAAAAAeIxwGQAAAAAAAADgMcJlAAAAAAAAAIDHCJcBAAAAAAAAAB4jXAYAAAAAAAAAeIxwGQAAAAAAAADgMcJlAAAAAAAAAIDHCJcBAAAAAAAAAB4jXAYAAAAAAAAAeIxwGQAAAAAAAADgMcJlAAAAAAAAAIDHCJcBAAAAAAAAAB4jXAYAAAAAAAAAeIxwGQAAAAAAAADgMcJlAAAAAAAAAIDHCJcBAAAAAAAAAB4jXAYAAAAAAAAAeIxwGQAAAAAAAADgMcJlAAAAAAAAAIDHCJcBAAAAAAAAAB4jXAYAAAAAAAAAeIxwGQAAAAAAAADgMcJlAAAAAAAAAIDHCJcBAAAAAAAAAB4jXAYAAAAAAAAAeIxwGQAAAAAAAADgMcJlAAAAAAAAAIDHCJcBAAAAAAAAAB4jXAYAAAAAAAAAeIxwGQAAAAAAAADgMcJlAAAAAAAAAIDHCJcBAAAAAAAAAB4jXAYAAAAAAAAAeIxwGQAAAAAAAADgMcJlAAAAAAAAAIDHCJcBAAAAAAAAAB4jXAYAAAAAAAAAeIxwGQAAAAAAAADgMcJlAAAAAAAAAIDHCJcBAAAAAAAAAB4jXAYAAAAAAAAAeIxwGQAAAAAAAADgMcJlAAAAAAAAAIDHCJcBAAAAAAAAAB4jXAYAAAAAAAAAeIxwGQAAAAAAAADgMcJlAAAAAAAAAIDHCJcBAAAAAAAAAB4jXAYAAAAAAAAAeIxwGQAAAAAAAADgIZH/A9imzPLm+nJNAAAAAElFTkSuQmCC)"
   ]
  },
  {
   "cell_type": "markdown",
   "metadata": {
    "id": "oM2vh_9DcYKr"
   },
   "source": []
  },
  {
   "cell_type": "code",
   "execution_count": null,
   "metadata": {
    "id": "fBYfFg2kL5q8"
   },
   "outputs": [],
   "source": [
    "#Construir la función.\n",
    "f = lambda x: (x[0]-1)**2+(x[1]-2.5)**2"
   ]
  },
  {
   "cell_type": "code",
   "execution_count": null,
   "metadata": {
    "colab": {
     "base_uri": "https://localhost:8080/"
    },
    "executionInfo": {
     "elapsed": 4,
     "status": "ok",
     "timestamp": 1682037888036,
     "user": {
      "displayName": "CARLOS ANDRES RODALLEGA MILLAN",
      "userId": "17846216848733149992"
     },
     "user_tz": 300
    },
    "id": "BIOFCupsL5tu",
    "outputId": "5bfcbf38-7d89-454e-ecbc-67657342fd24"
   },
   "outputs": [
    {
     "data": {
      "text/plain": [
       "0.25"
      ]
     },
     "execution_count": 129,
     "metadata": {},
     "output_type": "execute_result"
    }
   ],
   "source": [
    "f([1,2])"
   ]
  },
  {
   "cell_type": "code",
   "execution_count": null,
   "metadata": {
    "id": "zUr_G8rvL5xL"
   },
   "outputs": [],
   "source": [
    "#Definir las constrains. Como tuplas de diccionarios.\n",
    "cons = ({'type':'ineq','fun': lambda x:x[0]-2*x[1]+2},\n",
    "        {'type':'ineq','fun': lambda x:-x[0]-2*x[1]+6},\n",
    "        {'type':'ineq','fun': lambda x:-x[0]+2*x[1]+2},)\n",
    "\n",
    "bnds = ((0,None),(0,None)) #Aquí creamos los bordes de los diccionarios anteriormente definidos. #None = Unbounded x mayor a ceor, y mayor a ceor\n",
    "\n",
    "res = minimize(f,(2,0),bounds=bnds, constraints=cons) #(la funcion a minimar, algún guess del valor, bounds, constrains)"
   ]
  },
  {
   "cell_type": "code",
   "execution_count": null,
   "metadata": {
    "colab": {
     "base_uri": "https://localhost:8080/"
    },
    "executionInfo": {
     "elapsed": 279,
     "status": "ok",
     "timestamp": 1682037888312,
     "user": {
      "displayName": "CARLOS ANDRES RODALLEGA MILLAN",
      "userId": "17846216848733149992"
     },
     "user_tz": 300
    },
    "id": "875bjx53Nw9U",
    "outputId": "3e78e7d7-f68f-4f57-a2bb-2c3e904df421"
   },
   "outputs": [
    {
     "data": {
      "text/plain": [
       " message: Optimization terminated successfully\n",
       " success: True\n",
       "  status: 0\n",
       "     fun: 0.8000000011920985\n",
       "       x: [ 1.400e+00  1.700e+00]\n",
       "     nit: 3\n",
       "     jac: [ 8.000e-01 -1.600e+00]\n",
       "    nfev: 10\n",
       "    njev: 3"
      ]
     },
     "execution_count": 131,
     "metadata": {},
     "output_type": "execute_result"
    }
   ],
   "source": [
    "res"
   ]
  },
  {
   "cell_type": "code",
   "execution_count": null,
   "metadata": {
    "colab": {
     "base_uri": "https://localhost:8080/"
    },
    "executionInfo": {
     "elapsed": 7,
     "status": "ok",
     "timestamp": 1682037888312,
     "user": {
      "displayName": "CARLOS ANDRES RODALLEGA MILLAN",
      "userId": "17846216848733149992"
     },
     "user_tz": 300
    },
    "id": "l5QeNeSpNxAa",
    "outputId": "a94806c2-5eeb-4a29-ef31-dfe30dc22bec"
   },
   "outputs": [
    {
     "data": {
      "text/plain": [
       "array([1.4, 1.7])"
      ]
     },
     "execution_count": 132,
     "metadata": {},
     "output_type": "execute_result"
    }
   ],
   "source": [
    "res.x"
   ]
  },
  {
   "cell_type": "markdown",
   "metadata": {
    "id": "l5LO_z38P9uw"
   },
   "source": [
    "##Interpolation"
   ]
  },
  {
   "cell_type": "markdown",
   "metadata": {
    "id": "t7jRH2W2QBGu"
   },
   "source": [
    "Suponga que tiene los siguientes datos (estos son generados, pero pueden salir de un experimento)"
   ]
  },
  {
   "cell_type": "code",
   "execution_count": null,
   "metadata": {
    "colab": {
     "base_uri": "https://localhost:8080/",
     "height": 430
    },
    "executionInfo": {
     "elapsed": 259,
     "status": "ok",
     "timestamp": 1682037888570,
     "user": {
      "displayName": "CARLOS ANDRES RODALLEGA MILLAN",
      "userId": "17846216848733149992"
     },
     "user_tz": 300
    },
    "id": "ZPrqDalsP_uL",
    "outputId": "ced6a437-e8ee-4799-ae9c-258c1c0211c4"
   },
   "outputs": [
    {
     "data": {
      "image/png": "[encoded data removed]",
      "text/plain": [
       "<Figure size 640x480 with 1 Axes>"
      ]
     },
     "metadata": {},
     "output_type": "display_data"
    }
   ],
   "source": [
    "x = np.linspace(0,10,10)\n",
    "y = x**2 * np.sin(x)\n",
    "plt.scatter(x,y)\n",
    "plt.show()"
   ]
  },
  {
   "cell_type": "markdown",
   "metadata": {
    "id": "ogeh3p7qQV2v"
   },
   "source": [
    "Queremos saber los valores entre los puntos.\n",
    "Hay que entender que hay varias formas de interpolar una función"
   ]
  },
  {
   "cell_type": "code",
   "execution_count": null,
   "metadata": {
    "id": "9eQD3N6JP_xH"
   },
   "outputs": [],
   "source": [
    "from scipy.interpolate import interp1d"
   ]
  },
  {
   "cell_type": "code",
   "execution_count": null,
   "metadata": {
    "id": "XlQZoCuOQc4B"
   },
   "outputs": [],
   "source": [
    "f = interp1d(x,y, kind='linear')  #Se le puede entregar cualquier valores que queramos"
   ]
  },
  {
   "cell_type": "code",
   "execution_count": null,
   "metadata": {
    "id": "f8Jv-U39Qc7B"
   },
   "outputs": [],
   "source": [
    "x_dense = np.linspace(0,10,100)\n",
    "y_dense = f(x_dense)"
   ]
  },
  {
   "cell_type": "code",
   "execution_count": null,
   "metadata": {
    "colab": {
     "base_uri": "https://localhost:8080/",
     "height": 430
    },
    "executionInfo": {
     "elapsed": 1435,
     "status": "ok",
     "timestamp": 1682037890002,
     "user": {
      "displayName": "CARLOS ANDRES RODALLEGA MILLAN",
      "userId": "17846216848733149992"
     },
     "user_tz": 300
    },
    "id": "tWX0xnssQc-f",
    "outputId": "7160b47f-2d74-4ce7-f023-aff9f7bd2dfa"
   },
   "outputs": [
    {
     "data": {
      "image/png": "[encoded data removed]",
      "text/plain": [
       "<Figure size 640x480 with 1 Axes>"
      ]
     },
     "metadata": {},
     "output_type": "display_data"
    }
   ],
   "source": [
    "plt.plot(x_dense,y_dense)\n",
    "plt.show() #Interpolación Linea."
   ]
  },
  {
   "cell_type": "code",
   "execution_count": null,
   "metadata": {
    "colab": {
     "base_uri": "https://localhost:8080/",
     "height": 430
    },
    "executionInfo": {
     "elapsed": 1576,
     "status": "ok",
     "timestamp": 1682037891576,
     "user": {
      "displayName": "CARLOS ANDRES RODALLEGA MILLAN",
      "userId": "17846216848733149992"
     },
     "user_tz": 300
    },
    "id": "DQ8KuZPHQ6Ug",
    "outputId": "15da57f5-a125-4810-81cf-54af967899b4"
   },
   "outputs": [
    {
     "data": {
      "image/png": "[encoded data removed]",
      "text/plain": [
       "<Figure size 640x480 with 1 Axes>"
      ]
     },
     "metadata": {},
     "output_type": "display_data"
    }
   ],
   "source": [
    "#Interpolación cúbica.\n",
    "f = interp1d(x,y, kind='cubic')  #Se le puede entregar cualquier valores que queramos\n",
    "x_dense = np.linspace(0,10,100)\n",
    "y_dense = f(x_dense)\n",
    "plt.plot(x_dense,y_dense)\n",
    "plt.show() #Interpolación Linea."
   ]
  },
  {
   "cell_type": "code",
   "execution_count": null,
   "metadata": {
    "id": "LNO0QYpYQ6Xf"
   },
   "outputs": [],
   "source": []
  },
  {
   "cell_type": "markdown",
   "metadata": {
    "id": "Fx_CwesQRCRd"
   },
   "source": [
    "##Curve Fitting:"
   ]
  },
  {
   "cell_type": "markdown",
   "metadata": {
    "id": "0JV02ZwdRHzr"
   },
   "source": [
    "Cuando sabemos que una serie de datos puede tomar una forma muy particular y conocemos la forma particular con antelación, a continuación se realiza un ejemplo algo trivial."
   ]
  },
  {
   "cell_type": "code",
   "execution_count": null,
   "metadata": {
    "colab": {
     "base_uri": "https://localhost:8080/",
     "height": 430
    },
    "executionInfo": {
     "elapsed": 374,
     "status": "ok",
     "timestamp": 1682037891948,
     "user": {
      "displayName": "CARLOS ANDRES RODALLEGA MILLAN",
      "userId": "17846216848733149992"
     },
     "user_tz": 300
    },
    "id": "BSnBbT3QQ6bC",
    "outputId": "3172342e-327b-430e-eba8-cfaff6691a53"
   },
   "outputs": [
    {
     "data": {
      "image/png": "[encoded data removed]",
      "text/plain": [
       "<Figure size 640x480 with 1 Axes>"
      ]
     },
     "metadata": {},
     "output_type": "display_data"
    }
   ],
   "source": [
    "x_data = np.linspace(0,10,10)\n",
    "y_data = 3*x_data**2+2\n",
    "plt.scatter(x_data,y_data)\n",
    "plt.show()"
   ]
  },
  {
   "cell_type": "markdown",
   "metadata": {
    "id": "tlBOhqaYRhoe"
   },
   "source": [
    "Queremos ajustar los datos a la curva $y =ax^2+b $. El objetivo principar es obtener el valor de a y b."
   ]
  },
  {
   "cell_type": "code",
   "execution_count": null,
   "metadata": {
    "id": "HLMrMspARgQf"
   },
   "outputs": [],
   "source": [
    "from scipy.optimize import curve_fit"
   ]
  },
  {
   "cell_type": "code",
   "execution_count": null,
   "metadata": {
    "id": "NsBW5EsTRgTm"
   },
   "outputs": [],
   "source": [
    "#Definimos la función\n",
    "def func(x,a,b):\n",
    "  return a*x**2+b\n",
    " \n",
    "popt, pcov = curve_fit(func, x_data,y_data, p0=(1,1)) #(la función a ajustar, datos x, datos y, un valor inicial aproximado)"
   ]
  },
  {
   "cell_type": "code",
   "execution_count": null,
   "metadata": {
    "colab": {
     "base_uri": "https://localhost:8080/"
    },
    "executionInfo": {
     "elapsed": 12,
     "status": "ok",
     "timestamp": 1682037891949,
     "user": {
      "displayName": "CARLOS ANDRES RODALLEGA MILLAN",
      "userId": "17846216848733149992"
     },
     "user_tz": 300
    },
    "id": "15KKUhthRgWR",
    "outputId": "06f67765-2cc2-4686-d890-bfc4e5826e16"
   },
   "outputs": [
    {
     "data": {
      "text/plain": [
       "array([3., 2.])"
      ]
     },
     "execution_count": 142,
     "metadata": {},
     "output_type": "execute_result"
    }
   ],
   "source": [
    "popt #Nos entrega los valores de a,b"
   ]
  },
  {
   "cell_type": "code",
   "execution_count": null,
   "metadata": {
    "colab": {
     "base_uri": "https://localhost:8080/"
    },
    "executionInfo": {
     "elapsed": 3,
     "status": "ok",
     "timestamp": 1682037892201,
     "user": {
      "displayName": "CARLOS ANDRES RODALLEGA MILLAN",
      "userId": "17846216848733149992"
     },
     "user_tz": 300
    },
    "id": "9TI96Yu3RgY-",
    "outputId": "90853075-0273-4932-df4f-43ed342be892"
   },
   "outputs": [
    {
     "data": {
      "text/plain": [
       "array([[ 4.13297331e-34, -1.45419433e-32],\n",
       "       [-1.45419433e-32,  9.65872308e-31]])"
      ]
     },
     "execution_count": 143,
     "metadata": {},
     "output_type": "execute_result"
    }
   ],
   "source": [
    "pcov #Nos entrega que tan alejados estos valores estuvieron de los datos o un estimado de los errores de los parametros."
   ]
  },
  {
   "cell_type": "code",
   "execution_count": null,
   "metadata": {
    "id": "HQ4IAv0eRgcd"
   },
   "outputs": [],
   "source": []
  },
  {
   "cell_type": "markdown",
   "metadata": {
    "id": "ws3TrFpxSvkF"
   },
   "source": [
    "La ecuación para el movimiento de un resorte es $y(t)=Acos(ωt+Φ) $. \n",
    "\n",
    "Se equiere encontrar la frecuencia natural ($ω$) para el resorte."
   ]
  },
  {
   "cell_type": "code",
   "execution_count": null,
   "metadata": {
    "id": "5uhilYvjTBu5"
   },
   "outputs": [],
   "source": [
    "#Datos recolectados.\n",
    "t_data = np.array([ 0.   ,  0.34482759,  0.68965517,  1.03448276,  1.37931034,\n",
    "        1.72413793,  2.06896552,  2.4137931 ,  2.75862069,  3.10344828,\n",
    "        3.44827586,  3.79310345,  4.13793103,  4.48275862,  4.82758621,\n",
    "        5.17241379,  5.51724138,  5.86206897,  6.20689655,  6.55172414,\n",
    "        6.89655172,  7.24137931,  7.5862069 ,  7.93103448,  8.27586207,\n",
    "        8.62068966,  8.96551724,  9.31034483,  9.65517241, 10.        ])\n",
    "y_data = np.array([ 4.3303953 ,  1.61137995, -2.15418696, -3.90137249, -1.67259042,\n",
    "        2.16884383,  3.86635998,  1.85194506, -1.8489224 , -3.96560495,\n",
    "       -2.13385255,  1.59425817,  4.06145238,  1.89300594, -1.76870297,\n",
    "       -4.26791226, -2.46874133,  1.37019912,  4.24945607,  2.27038039,\n",
    "       -1.50299303, -3.46774049, -2.50845488,  1.20022052,  3.81633703,\n",
    "        2.91511556, -1.24569189, -3.72716214, -2.54549857,  0.87262548])"
   ]
  },
  {
   "cell_type": "code",
   "execution_count": null,
   "metadata": {
    "colab": {
     "base_uri": "https://localhost:8080/",
     "height": 430
    },
    "executionInfo": {
     "elapsed": 654,
     "status": "ok",
     "timestamp": 1682037892853,
     "user": {
      "displayName": "CARLOS ANDRES RODALLEGA MILLAN",
      "userId": "17846216848733149992"
     },
     "user_tz": 300
    },
    "id": "zZkM-AgpTBxy",
    "outputId": "aab684eb-4727-46ae-f4f8-336757150df6"
   },
   "outputs": [
    {
     "data": {
      "image/png": "[encoded data removed]",
      "text/plain": [
       "<Figure size 640x480 with 1 Axes>"
      ]
     },
     "metadata": {},
     "output_type": "display_data"
    }
   ],
   "source": [
    "plt.plot(t_data,y_data,'o--')\n",
    "plt.show()"
   ]
  },
  {
   "cell_type": "markdown",
   "metadata": {
    "id": "YT-s10aATiuv"
   },
   "source": [
    "$ω=2πf $ , $f=\\frac{1}{T} $, and $T≈2$ seconds. Así, una aproximación inicial es:\n",
    "\n",
    "*  ω=2π(1/2)=π\n",
    "*  A=4\n",
    "*  Φ=0\n"
   ]
  },
  {
   "cell_type": "code",
   "execution_count": null,
   "metadata": {
    "id": "RrEPi5i0Thdu"
   },
   "outputs": [],
   "source": [
    "def func(t,A,w,phi):\n",
    "  return A*np.cos(w*t+phi)\n",
    "popt, pcov = curve_fit(func, t_data,y_data,p0=(4,np.pi,0))"
   ]
  },
  {
   "cell_type": "code",
   "execution_count": null,
   "metadata": {
    "colab": {
     "base_uri": "https://localhost:8080/"
    },
    "executionInfo": {
     "elapsed": 17,
     "status": "ok",
     "timestamp": 1682037892853,
     "user": {
      "displayName": "CARLOS ANDRES RODALLEGA MILLAN",
      "userId": "17846216848733149992"
     },
     "user_tz": 300
    },
    "id": "pwRe45EPThgu",
    "outputId": "70eba5f1-fdef-4a62-dba9-fc7ced06c717"
   },
   "outputs": [
    {
     "data": {
      "text/plain": [
       "array([3.94836219, 2.9989952 , 0.10411352])"
      ]
     },
     "execution_count": 147,
     "metadata": {},
     "output_type": "execute_result"
    }
   ],
   "source": [
    "popt"
   ]
  },
  {
   "cell_type": "code",
   "execution_count": null,
   "metadata": {
    "id": "KJIIbAzaU-2k"
   },
   "outputs": [],
   "source": [
    "A,w,phi = popt"
   ]
  },
  {
   "cell_type": "code",
   "execution_count": null,
   "metadata": {
    "colab": {
     "base_uri": "https://localhost:8080/"
    },
    "executionInfo": {
     "elapsed": 9,
     "status": "ok",
     "timestamp": 1682037892854,
     "user": {
      "displayName": "CARLOS ANDRES RODALLEGA MILLAN",
      "userId": "17846216848733149992"
     },
     "user_tz": 300
    },
    "id": "xDxFYSYnThjo",
    "outputId": "63e1e8ee-a16a-4801-eaee-2f9a1b89d5d6"
   },
   "outputs": [
    {
     "data": {
      "text/plain": [
       "array([[ 2.61882716e-03, -4.94132477e-06,  3.47405232e-05],\n",
       "       [-4.94132477e-06,  1.85637431e-05, -9.60755703e-05],\n",
       "       [ 3.47405232e-05, -9.60755703e-05,  6.63424255e-04]])"
      ]
     },
     "execution_count": 149,
     "metadata": {},
     "output_type": "execute_result"
    }
   ],
   "source": [
    "pcov"
   ]
  },
  {
   "cell_type": "code",
   "execution_count": null,
   "metadata": {
    "colab": {
     "base_uri": "https://localhost:8080/",
     "height": 430
    },
    "executionInfo": {
     "elapsed": 886,
     "status": "ok",
     "timestamp": 1682037893736,
     "user": {
      "displayName": "CARLOS ANDRES RODALLEGA MILLAN",
      "userId": "17846216848733149992"
     },
     "user_tz": 300
    },
    "id": "AE871zz1Thmw",
    "outputId": "48a97f04-7b77-41df-d72d-95130d67bf50"
   },
   "outputs": [
    {
     "data": {
      "image/png": "[encoded data removed]",
      "text/plain": [
       "<Figure size 640x480 with 1 Axes>"
      ]
     },
     "metadata": {},
     "output_type": "display_data"
    }
   ],
   "source": [
    "#Graficación\n",
    "t = np.linspace(0,10,100)\n",
    "y = func(t,A,w,phi)\n",
    "plt.scatter(t_data,y_data)\n",
    "plt.plot(t,y)\n",
    "plt.show()"
   ]
  },
  {
   "cell_type": "code",
   "execution_count": null,
   "metadata": {
    "id": "tZWhVtgWThqO"
   },
   "outputs": [],
   "source": [
    "#Error en omega "
   ]
  },
  {
   "cell_type": "code",
   "execution_count": null,
   "metadata": {
    "colab": {
     "base_uri": "https://localhost:8080/"
    },
    "executionInfo": {
     "elapsed": 11,
     "status": "ok",
     "timestamp": 1682037893736,
     "user": {
      "displayName": "CARLOS ANDRES RODALLEGA MILLAN",
      "userId": "17846216848733149992"
     },
     "user_tz": 300
    },
    "id": "0DzvYimLTB1R",
    "outputId": "e6364421-bcc2-47da-dca4-dc7907e62825"
   },
   "outputs": [
    {
     "data": {
      "text/plain": [
       "array([[ 2.61882716e-03, -4.94132477e-06,  3.47405232e-05],\n",
       "       [-4.94132477e-06,  1.85637431e-05, -9.60755703e-05],\n",
       "       [ 3.47405232e-05, -9.60755703e-05,  6.63424255e-04]])"
      ]
     },
     "execution_count": 152,
     "metadata": {},
     "output_type": "execute_result"
    }
   ],
   "source": [
    "pcov  #La diagonal da el error de cada parametro, es una matrix de covariancia."
   ]
  },
  {
   "cell_type": "code",
   "execution_count": null,
   "metadata": {
    "id": "Jx_R-hq2VW20"
   },
   "outputs": [],
   "source": [
    "#Min 23"
   ]
  },
  {
   "cell_type": "code",
   "execution_count": null,
   "metadata": {
    "id": "-GmjS97nVW8J"
   },
   "outputs": [],
   "source": []
  },
  {
   "cell_type": "markdown",
   "metadata": {
    "id": "wbGFX-nEv0eV"
   },
   "source": [
    "#Matplotlib Tutorial (2022): For Physicists, Engineers, and Mathematicians\n"
   ]
  },
  {
   "cell_type": "markdown",
   "metadata": {
    "id": "U7s-EKUiv4db"
   },
   "source": [
    "##Quick Plotting"
   ]
  },
  {
   "cell_type": "code",
   "execution_count": 1,
   "metadata": {
    "colab": {
     "base_uri": "https://localhost:8080/",
     "height": 183
    },
    "executionInfo": {
     "elapsed": 22,
     "status": "error",
     "timestamp": 1682045150204,
     "user": {
      "displayName": "CARLOS ANDRES RODALLEGA MILLAN",
      "userId": "17846216848733149992"
     },
     "user_tz": 300
    },
    "id": "BlUrBFFfv3uc",
    "outputId": "24ad1519-7c50-400f-b74a-b889955129de"
   },
   "outputs": [
    {
     "ename": "NameError",
     "evalue": "ignored",
     "output_type": "error",
     "traceback": [
      "\u001b[0;31m---------------------------------------------------------------------------\u001b[0m",
      "\u001b[0;31mNameError\u001b[0m                                 Traceback (most recent call last)",
      "\u001b[0;32m<ipython-input-1-cd7ba9fe27c3>\u001b[0m in \u001b[0;36m<cell line: 1>\u001b[0;34m()\u001b[0m\n\u001b[0;32m----> 1\u001b[0;31m \u001b[0mx\u001b[0m \u001b[0;34m=\u001b[0m \u001b[0mnp\u001b[0m\u001b[0;34m.\u001b[0m\u001b[0mlinspace\u001b[0m\u001b[0;34m(\u001b[0m\u001b[0;36m0\u001b[0m\u001b[0;34m,\u001b[0m\u001b[0;36m15\u001b[0m\u001b[0;34m,\u001b[0m\u001b[0;36m30\u001b[0m\u001b[0;34m)\u001b[0m\u001b[0;34m\u001b[0m\u001b[0;34m\u001b[0m\u001b[0m\n\u001b[0m\u001b[1;32m      2\u001b[0m \u001b[0my\u001b[0m \u001b[0;34m=\u001b[0m \u001b[0mnp\u001b[0m\u001b[0;34m.\u001b[0m\u001b[0msin\u001b[0m\u001b[0;34m(\u001b[0m\u001b[0mx\u001b[0m\u001b[0;34m)\u001b[0m\u001b[0;34m+\u001b[0m\u001b[0;36m0.1\u001b[0m\u001b[0;34m*\u001b[0m\u001b[0mnp\u001b[0m\u001b[0;34m.\u001b[0m\u001b[0mrandom\u001b[0m\u001b[0;34m.\u001b[0m\u001b[0mrandn\u001b[0m\u001b[0;34m(\u001b[0m\u001b[0mlen\u001b[0m\u001b[0;34m(\u001b[0m\u001b[0mx\u001b[0m\u001b[0;34m)\u001b[0m\u001b[0;34m)\u001b[0m \u001b[0;31m#Es la función seno junto a un poco de ruído\u001b[0m\u001b[0;34m\u001b[0m\u001b[0;34m\u001b[0m\u001b[0m\n",
      "\u001b[0;31mNameError\u001b[0m: name 'np' is not defined"
     ]
    }
   ],
   "source": [
    "x = np.linspace(0,15,30)\n",
    "y = np.sin(x)+0.1*np.random.randn(len(x)) #Es la función seno junto a un poco de ruído"
   ]
  },
  {
   "cell_type": "code",
   "execution_count": null,
   "metadata": {
    "executionInfo": {
     "elapsed": 21,
     "status": "aborted",
     "timestamp": 1682045150205,
     "user": {
      "displayName": "CARLOS ANDRES RODALLEGA MILLAN",
      "userId": "17846216848733149992"
     },
     "user_tz": 300
    },
    "id": "SZBdbOHVwNTC"
   },
   "outputs": [],
   "source": [
    "#lw? Line width, m= market size, los puntos.\n",
    "plt.plot(x,y,'o--',color='purple',lw=1,ms=5)\n",
    "plt.grid()"
   ]
  },
  {
   "cell_type": "code",
   "execution_count": null,
   "metadata": {
    "executionInfo": {
     "elapsed": 22,
     "status": "aborted",
     "timestamp": 1682045150206,
     "user": {
      "displayName": "CARLOS ANDRES RODALLEGA MILLAN",
      "userId": "17846216848733149992"
     },
     "user_tz": 300
    },
    "id": "PX9EGB-4wXhX"
   },
   "outputs": [],
   "source": [
    "plt.figure(figsize=(8,3)) #Cambiar el tamaño de la figura. Horizontal, Vertical.\n",
    "plt.plot(x,y,'o--',color='purple',lw=1,ms=5)\n",
    "plt.xlabel('Time')\n",
    "plt.ylabel('Voltaje')\n",
    "plt.grid()"
   ]
  },
  {
   "cell_type": "code",
   "execution_count": null,
   "metadata": {
    "executionInfo": {
     "elapsed": 21,
     "status": "aborted",
     "timestamp": 1682045150206,
     "user": {
      "displayName": "CARLOS ANDRES RODALLEGA MILLAN",
      "userId": "17846216848733149992"
     },
     "user_tz": 300
    },
    "id": "K8Sl3HesxfI5"
   },
   "outputs": [],
   "source": [
    "plt.figure(figsize=(3,8)) #Invierte la realcón\n",
    "plt.plot(x,y,'o--',color='purple',lw=1,ms=5)\n",
    "plt.xlabel('Time')\n",
    "plt.ylabel('Voltaje')\n",
    "plt.grid()"
   ]
  },
  {
   "cell_type": "code",
   "execution_count": null,
   "metadata": {
    "executionInfo": {
     "elapsed": 22,
     "status": "aborted",
     "timestamp": 1682045150207,
     "user": {
      "displayName": "CARLOS ANDRES RODALLEGA MILLAN",
      "userId": "17846216848733149992"
     },
     "user_tz": 300
    },
    "id": "fV3V1fKFxiKj"
   },
   "outputs": [],
   "source": [
    "plt.plot(x,y,'o--',color='purple',lw=1,ms=5, label='Holi')\n",
    "plt.xlabel('Time')\n",
    "plt.ylabel('Trayectoria')\n",
    "plt.grid()\n",
    "plt.legend(loc='upper right', fontsize=20)\n",
    "plt.show()"
   ]
  },
  {
   "cell_type": "code",
   "execution_count": null,
   "metadata": {
    "executionInfo": {
     "elapsed": 22,
     "status": "aborted",
     "timestamp": 1682045150207,
     "user": {
      "displayName": "CARLOS ANDRES RODALLEGA MILLAN",
      "userId": "17846216848733149992"
     },
     "user_tz": 300
    },
    "id": "kc5KbypKxtDs"
   },
   "outputs": [],
   "source": [
    "x2=np.linspace(0,15,100)\n",
    "y2=np.sin(x2)"
   ]
  },
  {
   "cell_type": "code",
   "execution_count": null,
   "metadata": {
    "executionInfo": {
     "elapsed": 21,
     "status": "aborted",
     "timestamp": 1682045150207,
     "user": {
      "displayName": "CARLOS ANDRES RODALLEGA MILLAN",
      "userId": "17846216848733149992"
     },
     "user_tz": 300
    },
    "id": "2D-hZspYySHD"
   },
   "outputs": [],
   "source": [
    "plt.figure(figsize=(8,4))\n",
    "plt.plot(x,y,'o--',color='purple',lw=1,ms=5, label='Component 1') #Labels\n",
    "plt.plot(x2,y2,'-',color='green',lw=1,ms=5, label='Component 2')\n",
    "plt.xlabel('Time')\n",
    "plt.ylabel('Trayectoria')\n",
    "plt.grid()\n",
    "plt.legend(loc='upper right', fontsize=10)  #Colocación de la legend y el tamaño de la fuente usada en este\n",
    "plt.show()"
   ]
  },
  {
   "cell_type": "code",
   "execution_count": null,
   "metadata": {
    "executionInfo": {
     "elapsed": 22,
     "status": "aborted",
     "timestamp": 1682045150208,
     "user": {
      "displayName": "CARLOS ANDRES RODALLEGA MILLAN",
      "userId": "17846216848733149992"
     },
     "user_tz": 300
    },
    "id": "FUzYSOEFyl5y"
   },
   "outputs": [],
   "source": [
    "plt.figure(figsize=(8,3))\n",
    "plt.plot(x,y,'o--',color='purple',lw=1,ms=5, label='Component 1')\n",
    "plt.plot(x2,y2,'-',color='green',lw=1,ms=5, label='Component 2')\n",
    "plt.xlabel('Time')\n",
    "plt.ylabel('Trayectoria')\n",
    "plt.ylim(top=2.5)  #Ajusta para el top\n",
    "plt.grid()\n",
    "plt.legend(loc='upper right', fontsize=10)\n",
    "plt.show()"
   ]
  },
  {
   "cell_type": "code",
   "execution_count": null,
   "metadata": {
    "executionInfo": {
     "elapsed": 22,
     "status": "aborted",
     "timestamp": 1682045150208,
     "user": {
      "displayName": "CARLOS ANDRES RODALLEGA MILLAN",
      "userId": "17846216848733149992"
     },
     "user_tz": 300
    },
    "id": "IyK-OlaJy1UB"
   },
   "outputs": [],
   "source": [
    "plt.figure(figsize=(8,3))\n",
    "plt.plot(x,y,'o--',color='purple',lw=1,ms=5, label='Data 1')\n",
    "plt.plot(x2,y2,'-',color='green',lw=1,ms=5, label='Teoría 2')\n",
    "plt.xlabel('Time')\n",
    "plt.ylabel('Trayectoria')\n",
    "plt.ylim(top=1.5)\n",
    "plt.grid()\n",
    "plt.legend(loc='upper right', fontsize=10, ncol=2) #Cambia el númeor de columbas de la legend\n",
    "plt.show()"
   ]
  },
  {
   "cell_type": "markdown",
   "metadata": {
    "id": "cykJmeQ8zK7x"
   },
   "source": [
    "##Histogramas"
   ]
  },
  {
   "cell_type": "code",
   "execution_count": null,
   "metadata": {
    "executionInfo": {
     "elapsed": 22,
     "status": "aborted",
     "timestamp": 1682045150208,
     "user": {
      "displayName": "CARLOS ANDRES RODALLEGA MILLAN",
      "userId": "17846216848733149992"
     },
     "user_tz": 300
    },
    "id": "BuaD2iE9y-M3"
   },
   "outputs": [],
   "source": [
    "res=np.random.randn(1000)*0.2+0.4"
   ]
  },
  {
   "cell_type": "code",
   "execution_count": null,
   "metadata": {
    "executionInfo": {
     "elapsed": 23,
     "status": "aborted",
     "timestamp": 1682045150209,
     "user": {
      "displayName": "CARLOS ANDRES RODALLEGA MILLAN",
      "userId": "17846216848733149992"
     },
     "user_tz": 300
    },
    "id": "Ak_p65m4zUYd"
   },
   "outputs": [],
   "source": [
    "plt.figure(figsize=(8,3))\n",
    "a=plt.hist(res,bins=30,density=True) #bins, la separación de cada historagrama #Desnsity, nromaliza las cosas\n",
    "plt.show()"
   ]
  },
  {
   "cell_type": "code",
   "execution_count": null,
   "metadata": {
    "executionInfo": {
     "elapsed": 23,
     "status": "aborted",
     "timestamp": 1682045150209,
     "user": {
      "displayName": "CARLOS ANDRES RODALLEGA MILLAN",
      "userId": "17846216848733149992"
     },
     "user_tz": 300
    },
    "id": "ECq76QoBzVET"
   },
   "outputs": [],
   "source": [
    "res2=np.random.randn(1000)*0.2+0.4"
   ]
  },
  {
   "cell_type": "code",
   "execution_count": null,
   "metadata": {
    "executionInfo": {
     "elapsed": 24,
     "status": "aborted",
     "timestamp": 1682045150210,
     "user": {
      "displayName": "CARLOS ANDRES RODALLEGA MILLAN",
      "userId": "17846216848733149992"
     },
     "user_tz": 300
    },
    "id": "5IMsnVvH0lG0"
   },
   "outputs": [],
   "source": [
    "plt.figure(figsize=(8,3))\n",
    "plt.hist(res,bins=30,density=True,histtype='step') #Histtype permite comparar los histagramas\n",
    "plt.hist(res2,bins=30,density=True,histtype='step')\n",
    "plt.show()"
   ]
  },
  {
   "cell_type": "code",
   "execution_count": null,
   "metadata": {
    "executionInfo": {
     "elapsed": 24,
     "status": "aborted",
     "timestamp": 1682045150210,
     "user": {
      "displayName": "CARLOS ANDRES RODALLEGA MILLAN",
      "userId": "17846216848733149992"
     },
     "user_tz": 300
    },
    "id": "O-DKIOiz0rti"
   },
   "outputs": [],
   "source": []
  },
  {
   "cell_type": "markdown",
   "metadata": {
    "id": "AZZdiT4Z01PS"
   },
   "source": [
    "##Single Axes in one Figure"
   ]
  },
  {
   "cell_type": "code",
   "execution_count": null,
   "metadata": {
    "executionInfo": {
     "elapsed": 24,
     "status": "aborted",
     "timestamp": 1682045150210,
     "user": {
      "displayName": "CARLOS ANDRES RODALLEGA MILLAN",
      "userId": "17846216848733149992"
     },
     "user_tz": 300
    },
    "id": "fqhNzbt60-z4"
   },
   "outputs": [],
   "source": [
    "fig, ax = plt.subplots(1,1,figsize=(12,4))  #Se crea un arreglo de figuras\n",
    "ax.plot(x,y,'o--')\n",
    "ax.set_xlabel('asd') #Set para cambiar los nombres de los ejes en el arreglo que estemos y dependiendo de la figura que nos encontremos.\n",
    "ax.set_ylabel('asd')\n",
    "plt.show()"
   ]
  },
  {
   "cell_type": "markdown",
   "metadata": {
    "id": "fIJQ1x7r1nbV"
   },
   "source": [
    "##Multiple axes in 1 figure"
   ]
  },
  {
   "cell_type": "code",
   "execution_count": null,
   "metadata": {
    "executionInfo": {
     "elapsed": 23,
     "status": "aborted",
     "timestamp": 1682045150210,
     "user": {
      "displayName": "CARLOS ANDRES RODALLEGA MILLAN",
      "userId": "17846216848733149992"
     },
     "user_tz": 300
    },
    "id": "_5Jyeopu1I3i"
   },
   "outputs": [],
   "source": [
    "from matplotlib.transforms import Transform\n",
    "import seaborn as sns    #Permite colocar temas bonitos en la graficación.\n",
    "\n",
    "sns.set_style(\"whitegrid\")\n",
    "fig, axes = plt.subplots(3,2,figsize=(12,12)) #Primero se colocan las filas, luego las columnas\n",
    "ax = axes[0][0]\n",
    "ax.plot(x,y,'o--')\n",
    "ax.set_xlabel('Tiempo')\n",
    "ax.set_ylabel('Voltaje')\n",
    "ax.text(0.08,0.3,'text here',transform = ax.transAxes) #Inserta texto\n",
    "ax.tick_params(axis='both',labelsize=10)  #Tamaño de la fuente de los ejes\n",
    "ax = axes[1][1]\n",
    "ax.hist(res,bins=30,density=True,histtype='step', label='comp1')\n",
    "ax.set_xlabel('asd')\n",
    "ax.set_ylabel('asd')\n",
    "ax.legend()\n",
    "ax.set_title('Histagram 2')\n",
    "plt.show()"
   ]
  },
  {
   "cell_type": "code",
   "execution_count": null,
   "metadata": {
    "executionInfo": {
     "elapsed": 24,
     "status": "aborted",
     "timestamp": 1682045150211,
     "user": {
      "displayName": "CARLOS ANDRES RODALLEGA MILLAN",
      "userId": "17846216848733149992"
     },
     "user_tz": 300
    },
    "id": "JW7-pzYm1q4k"
   },
   "outputs": [],
   "source": []
  },
  {
   "cell_type": "markdown",
   "metadata": {
    "id": "GwUNLwnO3hQk"
   },
   "source": [
    "##Ejemplo Pro"
   ]
  },
  {
   "cell_type": "code",
   "execution_count": 2,
   "metadata": {
    "colab": {
     "base_uri": "https://localhost:8080/",
     "height": 235
    },
    "executionInfo": {
     "elapsed": 24,
     "status": "error",
     "timestamp": 1682045150211,
     "user": {
      "displayName": "CARLOS ANDRES RODALLEGA MILLAN",
      "userId": "17846216848733149992"
     },
     "user_tz": 300
    },
    "id": "YRx2rLfK3id-",
    "outputId": "bb337eff-4495-43ae-dad6-325f04e7a9c7"
   },
   "outputs": [
    {
     "ename": "NameError",
     "evalue": "ignored",
     "output_type": "error",
     "traceback": [
      "\u001b[0;31m---------------------------------------------------------------------------\u001b[0m",
      "\u001b[0;31mNameError\u001b[0m                                 Traceback (most recent call last)",
      "\u001b[0;32m<ipython-input-2-6935ec43c089>\u001b[0m in \u001b[0;36m<cell line: 2>\u001b[0;34m()\u001b[0m\n\u001b[1;32m      1\u001b[0m \u001b[0;31m#Recolenta los datos.\u001b[0m\u001b[0;34m\u001b[0m\u001b[0;34m\u001b[0m\u001b[0m\n\u001b[0;32m----> 2\u001b[0;31m \u001b[0mres_a1\u001b[0m \u001b[0;34m=\u001b[0m \u001b[0;36m0.2\u001b[0m\u001b[0;34m*\u001b[0m\u001b[0mnp\u001b[0m\u001b[0;34m.\u001b[0m\u001b[0mrandom\u001b[0m\u001b[0;34m.\u001b[0m\u001b[0mrandn\u001b[0m\u001b[0;34m(\u001b[0m\u001b[0;36m1000\u001b[0m\u001b[0;34m)\u001b[0m\u001b[0;34m+\u001b[0m\u001b[0;36m0.4\u001b[0m\u001b[0;34m\u001b[0m\u001b[0;34m\u001b[0m\u001b[0m\n\u001b[0m\u001b[1;32m      3\u001b[0m \u001b[0mres_b1\u001b[0m \u001b[0;34m=\u001b[0m \u001b[0;36m0.2\u001b[0m\u001b[0;34m*\u001b[0m\u001b[0mnp\u001b[0m\u001b[0;34m.\u001b[0m\u001b[0mrandom\u001b[0m\u001b[0;34m.\u001b[0m\u001b[0mrandn\u001b[0m\u001b[0;34m(\u001b[0m\u001b[0;36m1000\u001b[0m\u001b[0;34m)\u001b[0m\u001b[0;34m+\u001b[0m\u001b[0;36m0.4\u001b[0m\u001b[0;34m\u001b[0m\u001b[0;34m\u001b[0m\u001b[0m\n\u001b[1;32m      4\u001b[0m \u001b[0mres_a2\u001b[0m \u001b[0;34m=\u001b[0m \u001b[0;36m0.2\u001b[0m\u001b[0;34m*\u001b[0m\u001b[0mnp\u001b[0m\u001b[0;34m.\u001b[0m\u001b[0mrandom\u001b[0m\u001b[0;34m.\u001b[0m\u001b[0mrandn\u001b[0m\u001b[0;34m(\u001b[0m\u001b[0;36m1000\u001b[0m\u001b[0;34m)\u001b[0m\u001b[0;34m+\u001b[0m\u001b[0;36m0.4\u001b[0m\u001b[0;34m\u001b[0m\u001b[0;34m\u001b[0m\u001b[0m\n\u001b[1;32m      5\u001b[0m \u001b[0mres_b2\u001b[0m \u001b[0;34m=\u001b[0m \u001b[0;36m0.2\u001b[0m\u001b[0;34m*\u001b[0m\u001b[0mnp\u001b[0m\u001b[0;34m.\u001b[0m\u001b[0mrandom\u001b[0m\u001b[0;34m.\u001b[0m\u001b[0mrandn\u001b[0m\u001b[0;34m(\u001b[0m\u001b[0;36m1000\u001b[0m\u001b[0;34m)\u001b[0m\u001b[0;34m+\u001b[0m\u001b[0;36m0.4\u001b[0m\u001b[0;34m\u001b[0m\u001b[0;34m\u001b[0m\u001b[0m\n",
      "\u001b[0;31mNameError\u001b[0m: name 'np' is not defined"
     ]
    }
   ],
   "source": [
    "#Recolenta los datos.\n",
    "res_a1 = 0.2*np.random.randn(1000)+0.4\n",
    "res_b1 = 0.2*np.random.randn(1000)+0.4\n",
    "res_a2 = 0.2*np.random.randn(1000)+0.4\n",
    "res_b2 = 0.2*np.random.randn(1000)+0.4"
   ]
  },
  {
   "cell_type": "code",
   "execution_count": null,
   "metadata": {
    "executionInfo": {
     "elapsed": 23,
     "status": "aborted",
     "timestamp": 1682045150211,
     "user": {
      "displayName": "CARLOS ANDRES RODALLEGA MILLAN",
      "userId": "17846216848733149992"
     },
     "user_tz": 300
    },
    "id": "ZEY56Ndh4B6X"
   },
   "outputs": [],
   "source": [
    "#Desviación estándar. Calcula la desviación estandar de esos datos y le asigna el respectivo símbolo.\n",
    "textstr1 = '\\n'.join((\n",
    "    r'$\\sigma_a=%.4f$' % (np.std(res_a1)),\n",
    "    r'$\\sigma_b=%.4f$' % (np.std(res_b1))))\n",
    "\n",
    "textstr2 = '\\n'.join((\n",
    "    r'$\\sigma_a=%.4f$' % (np.std(res_a2)),\n",
    "    r'$\\sigma_b=%.4f$' % (np.std(res_b2))))"
   ]
  },
  {
   "cell_type": "code",
   "execution_count": null,
   "metadata": {
    "executionInfo": {
     "elapsed": 24,
     "status": "aborted",
     "timestamp": 1682045150212,
     "user": {
      "displayName": "CARLOS ANDRES RODALLEGA MILLAN",
      "userId": "17846216848733149992"
     },
     "user_tz": 300
    },
    "id": "Q2cUZNKj3tZ1"
   },
   "outputs": [],
   "source": [
    "plt.hist(res_a1,bins=100)\n",
    "plt.hist(res_b2,bins=100)\n",
    "plt.show()"
   ]
  },
  {
   "cell_type": "code",
   "execution_count": null,
   "metadata": {
    "executionInfo": {
     "elapsed": 24,
     "status": "aborted",
     "timestamp": 1682045150212,
     "user": {
      "displayName": "CARLOS ANDRES RODALLEGA MILLAN",
      "userId": "17846216848733149992"
     },
     "user_tz": 300
    },
    "id": "MfjNFgyS43S5"
   },
   "outputs": [],
   "source": [
    "fig, axes = plt.subplots(1, 2, figsize=(10,3.5))\n",
    "ax = axes[0]\n",
    "ax.hist(res_a1, bins=30, density=True, histtype='step', label='Proceso 1', color='blue')\n",
    "ax.hist(res_b1, bins=30, density=True, histtype='step', label='Proceso 2', color ='red')\n",
    "ax.legend(loc='upper right', fancybox = False, edgecolor='black')\n",
    "ax.text(0.05, 0.81, textstr1, transform=ax.transAxes, bbox=dict(facecolor='white', edgecolor='black'))\n",
    "ax.set_ylabel('Desnity')\n",
    "ax.set_title('Intento 1')\n",
    "ax = axes[1]\n",
    "ax.hist(res_a2, bins=30, density=True, histtype='step', label='Proceso 1', color='purple')\n",
    "ax.hist(res_b2, bins=30, density=True, histtype='step', label='Proceso 2', color='green')\n",
    "ax.text(0.05, 0.81, textstr2, transform=ax.transAxes, bbox=dict(facecolor='white', edgecolor='black'))\n",
    "ax.set_title('Intento 2')\n",
    "fig.text(0.5,-0.04,'$\\Delta E$ [Joules]',ha='center', fontsize=20) #Texto de la figura, horizontal aline\n",
    "plt.savefig('plot123.png',dpi=1000)\n",
    "plt.show()"
   ]
  },
  {
   "cell_type": "markdown",
   "metadata": {
    "id": "2pJSf0rl8FSj"
   },
   "source": [
    "##2D Plots"
   ]
  },
  {
   "cell_type": "code",
   "execution_count": 3,
   "metadata": {
    "colab": {
     "base_uri": "https://localhost:8080/",
     "height": 200
    },
    "executionInfo": {
     "elapsed": 25,
     "status": "error",
     "timestamp": 1682045150213,
     "user": {
      "displayName": "CARLOS ANDRES RODALLEGA MILLAN",
      "userId": "17846216848733149992"
     },
     "user_tz": 300
    },
    "id": "HJML6Vrm8H7y",
    "outputId": "159202b6-907b-45ab-a917-79f2154c3752"
   },
   "outputs": [
    {
     "ename": "NameError",
     "evalue": "ignored",
     "output_type": "error",
     "traceback": [
      "\u001b[0;31m---------------------------------------------------------------------------\u001b[0m",
      "\u001b[0;31mNameError\u001b[0m                                 Traceback (most recent call last)",
      "\u001b[0;32m<ipython-input-3-1282266c8020>\u001b[0m in \u001b[0;36m<cell line: 1>\u001b[0;34m()\u001b[0m\n\u001b[0;32m----> 1\u001b[0;31m \u001b[0m_\u001b[0m\u001b[0;34m=\u001b[0m\u001b[0mnp\u001b[0m\u001b[0;34m.\u001b[0m\u001b[0mlinspace\u001b[0m\u001b[0;34m(\u001b[0m\u001b[0;34m-\u001b[0m\u001b[0;36m1\u001b[0m\u001b[0;34m,\u001b[0m\u001b[0;36m1\u001b[0m\u001b[0;34m,\u001b[0m\u001b[0;36m100\u001b[0m\u001b[0;34m)\u001b[0m\u001b[0;34m\u001b[0m\u001b[0;34m\u001b[0m\u001b[0m\n\u001b[0m\u001b[1;32m      2\u001b[0m \u001b[0mx\u001b[0m\u001b[0;34m,\u001b[0m\u001b[0my\u001b[0m \u001b[0;34m=\u001b[0m \u001b[0mnp\u001b[0m\u001b[0;34m.\u001b[0m\u001b[0mmeshgrid\u001b[0m\u001b[0;34m(\u001b[0m\u001b[0m_\u001b[0m\u001b[0;34m,\u001b[0m\u001b[0m_\u001b[0m\u001b[0;34m)\u001b[0m\u001b[0;34m\u001b[0m\u001b[0;34m\u001b[0m\u001b[0m\n\u001b[1;32m      3\u001b[0m \u001b[0mz\u001b[0m \u001b[0;34m=\u001b[0m \u001b[0mx\u001b[0m\u001b[0;34m**\u001b[0m\u001b[0;36m2\u001b[0m\u001b[0;34m+\u001b[0m\u001b[0mx\u001b[0m\u001b[0;34m*\u001b[0m\u001b[0my\u001b[0m\u001b[0;34m\u001b[0m\u001b[0;34m\u001b[0m\u001b[0m\n",
      "\u001b[0;31mNameError\u001b[0m: name 'np' is not defined"
     ]
    }
   ],
   "source": [
    "_=np.linspace(-1,1,100)\n",
    "x,y = np.meshgrid(_,_)\n",
    "z = x**2+x*y"
   ]
  },
  {
   "cell_type": "markdown",
   "metadata": {
    "id": "WqE1exXO8hxK"
   },
   "source": [
    "Filled-in contour plots"
   ]
  },
  {
   "cell_type": "code",
   "execution_count": null,
   "metadata": {
    "executionInfo": {
     "elapsed": 23,
     "status": "aborted",
     "timestamp": 1682045150213,
     "user": {
      "displayName": "CARLOS ANDRES RODALLEGA MILLAN",
      "userId": "17846216848733149992"
     },
     "user_tz": 300
    },
    "id": "ZcHPmtWD8Rti"
   },
   "outputs": [],
   "source": [
    "plt.contourf(x,y,z, levels=30)\n",
    "plt.colorbar(label='Nombre de la esacala')\n",
    "plt.show()"
   ]
  },
  {
   "cell_type": "code",
   "execution_count": null,
   "metadata": {
    "executionInfo": {
     "elapsed": 24,
     "status": "aborted",
     "timestamp": 1682045150214,
     "user": {
      "displayName": "CARLOS ANDRES RODALLEGA MILLAN",
      "userId": "17846216848733149992"
     },
     "user_tz": 300
    },
    "id": "UuhWfazU9FrP"
   },
   "outputs": [],
   "source": [
    "plt.contourf(x,y,z, levels=30, vmax=0.7) #Vmax permite cambiar el minimo de algo o mínimo de algo\n",
    "plt.colorbar(label='asdas')\n",
    "plt.show()"
   ]
  },
  {
   "cell_type": "code",
   "execution_count": null,
   "metadata": {
    "executionInfo": {
     "elapsed": 24,
     "status": "aborted",
     "timestamp": 1682045150214,
     "user": {
      "displayName": "CARLOS ANDRES RODALLEGA MILLAN",
      "userId": "17846216848733149992"
     },
     "user_tz": 300
    },
    "id": "j_Gts-bd9Lz8"
   },
   "outputs": [],
   "source": [
    "plt.contourf(x,y,z, levels=30, cmap='plasma') #Cmap permite cambiar el diseño de estas graficas\n",
    "plt.colorbar(label='asdas')"
   ]
  },
  {
   "cell_type": "markdown",
   "metadata": {
    "id": "YNfE31fs9dXV"
   },
   "source": [
    "##Contour plot"
   ]
  },
  {
   "cell_type": "code",
   "execution_count": null,
   "metadata": {
    "executionInfo": {
     "elapsed": 24,
     "status": "aborted",
     "timestamp": 1682045150214,
     "user": {
      "displayName": "CARLOS ANDRES RODALLEGA MILLAN",
      "userId": "17846216848733149992"
     },
     "user_tz": 300
    },
    "id": "ztd1_MDd9fQp"
   },
   "outputs": [],
   "source": [
    "cs = plt.contour(x,y,z)\n",
    "plt.clabel(cs, fontsize=8) #Clabel permite tener también los valores"
   ]
  },
  {
   "cell_type": "code",
   "execution_count": null,
   "metadata": {
    "executionInfo": {
     "elapsed": 25,
     "status": "aborted",
     "timestamp": 1682045150215,
     "user": {
      "displayName": "CARLOS ANDRES RODALLEGA MILLAN",
      "userId": "17846216848733149992"
     },
     "user_tz": 300
    },
    "id": "IwdMzATW9icT"
   },
   "outputs": [],
   "source": [
    "cs = plt.contour(x,y,z, levels=20) #Losniveles es como añadir lineas.\n",
    "plt.clabel(cs, fontsize=8)"
   ]
  },
  {
   "cell_type": "markdown",
   "metadata": {
    "id": "JCzjsR_A95Vx"
   },
   "source": [
    "##3D Surface Plots\n"
   ]
  },
  {
   "cell_type": "code",
   "execution_count": null,
   "metadata": {
    "executionInfo": {
     "elapsed": 25,
     "status": "aborted",
     "timestamp": 1682045150215,
     "user": {
      "displayName": "CARLOS ANDRES RODALLEGA MILLAN",
      "userId": "17846216848733149992"
     },
     "user_tz": 300
    },
    "id": "kGf7f7U59zna"
   },
   "outputs": [],
   "source": [
    "fig, ax = plt.subplots(subplot_kw={'projection':'3d'}) #Aquí se crea el cuadrado\n",
    "ax.plot_surface(x,y,z, cmap='coolwarm')\n",
    "plt.show()"
   ]
  },
  {
   "cell_type": "markdown",
   "metadata": {
    "id": "07MEwpLu_JlD"
   },
   "source": [
    "##StreamPlots\n",
    "For plotting vector Fields"
   ]
  },
  {
   "cell_type": "code",
   "execution_count": null,
   "metadata": {
    "executionInfo": {
     "elapsed": 26,
     "status": "aborted",
     "timestamp": 1682045150216,
     "user": {
      "displayName": "CARLOS ANDRES RODALLEGA MILLAN",
      "userId": "17846216848733149992"
     },
     "user_tz": 300
    },
    "id": "pmaRJnej_LWH"
   },
   "outputs": [],
   "source": [
    "#Permite ver los vectores en el plano\n",
    "w = 3\n",
    "_ = np.linspace(-3,3,100)\n",
    "X, Y = np.meshgrid(_,_)\n",
    "U = -1-X**2+Y\n",
    "V = 1+X-Y**2\n",
    "speed = np.sqrt(U**2+V**2)"
   ]
  },
  {
   "cell_type": "code",
   "execution_count": null,
   "metadata": {
    "executionInfo": {
     "elapsed": 26,
     "status": "aborted",
     "timestamp": 1682045150216,
     "user": {
      "displayName": "CARLOS ANDRES RODALLEGA MILLAN",
      "userId": "17846216848733149992"
     },
     "user_tz": 300
    },
    "id": "tbvplD0kA8pI"
   },
   "outputs": [],
   "source": [
    "fig, axes = plt.subplots(2,2, figsize=(7,7))\n",
    "ax = axes[0][0]\n",
    "ax.streamplot(X,Y,U,V) #Nos permite ver la representación vectorial de los datos\n",
    "\n",
    "ax = axes[0][1]\n",
    "ax.streamplot(X,Y,U,V, color=speed) #El color nos da la magnitud\n",
    "\n",
    "ax = axes[1][0]\n",
    "lw= 5*speed/speed.max()\n",
    "ax.streamplot(X,Y,U,V,linewidth=lw) #Colocar la magnitud de lso vectores en el grosor\n",
    "\n",
    "ax = axes[1][1]\n",
    "lw= 5*speed/speed.max()\n",
    "seedpoints=np.array([[0,1],[1,2]]) #El punto de inicio\n",
    "ax.streamplot(X,Y,U,V,start_points=seedpoints) #Este es usado para obtener solo un camino\n",
    "plt.show()"
   ]
  },
  {
   "cell_type": "markdown",
   "metadata": {
    "id": "__jhrmXBCWmy"
   },
   "source": [
    "##Imagen reading"
   ]
  },
  {
   "cell_type": "code",
   "execution_count": null,
   "metadata": {
    "executionInfo": {
     "elapsed": 26,
     "status": "aborted",
     "timestamp": 1682045150216,
     "user": {
      "displayName": "CARLOS ANDRES RODALLEGA MILLAN",
      "userId": "17846216848733149992"
     },
     "user_tz": 300
    },
    "id": "cWpaMwdZBRp-"
   },
   "outputs": [],
   "source": [
    "#im = plt.imread('Halo_infinite_vertical.webp')\n",
    "#plt.figure(figsize=(15,15))\n",
    "#plt.imshow(im)\n",
    "#plt.grid()"
   ]
  },
  {
   "cell_type": "markdown",
   "metadata": {
    "id": "VJjhZlaRG9yT"
   },
   "source": [
    "##Animations"
   ]
  },
  {
   "cell_type": "code",
   "execution_count": null,
   "metadata": {
    "executionInfo": {
     "elapsed": 27,
     "status": "aborted",
     "timestamp": 1682045150217,
     "user": {
      "displayName": "CARLOS ANDRES RODALLEGA MILLAN",
      "userId": "17846216848733149992"
     },
     "user_tz": 300
    },
    "id": "8sfut7BLCxjz"
   },
   "outputs": [],
   "source": [
    "def f(x,t): #Permite definir una función de dos variables.\n",
    "  return np.sin(x-3*t)\n",
    "\n",
    "x = np.linspace(0,10*np.pi,1000)"
   ]
  },
  {
   "cell_type": "code",
   "execution_count": null,
   "metadata": {
    "executionInfo": {
     "elapsed": 26,
     "status": "aborted",
     "timestamp": 1682045150217,
     "user": {
      "displayName": "CARLOS ANDRES RODALLEGA MILLAN",
      "userId": "17846216848733149992"
     },
     "user_tz": 300
    },
    "id": "cGpFbbMAHdSw"
   },
   "outputs": [],
   "source": [
    "#Graficas corridas, lo que se hace en una animación es correr la gráfica.\n",
    "#Es la animación de una función sinosoildal en el tiempo.\n",
    "plt.plot(x,f(x,0))\n",
    "plt.plot(x,f(x,0.3))\n",
    "plt.show()"
   ]
  },
  {
   "cell_type": "code",
   "execution_count": null,
   "metadata": {
    "executionInfo": {
     "elapsed": 27,
     "status": "aborted",
     "timestamp": 1682045150218,
     "user": {
      "displayName": "CARLOS ANDRES RODALLEGA MILLAN",
      "userId": "17846216848733149992"
     },
     "user_tz": 300
    },
    "id": "pdwmg_qHHMOg"
   },
   "outputs": [],
   "source": [
    "#Create the animation\n",
    "import matplotlib.pyplot as plt\n",
    "import numpy as np\n",
    "\n",
    "from matplotlib import animation\n",
    "from matplotlib.animation import PillowWriter"
   ]
  },
  {
   "cell_type": "code",
   "execution_count": null,
   "metadata": {
    "executionInfo": {
     "elapsed": 27,
     "status": "aborted",
     "timestamp": 1682045150218,
     "user": {
      "displayName": "CARLOS ANDRES RODALLEGA MILLAN",
      "userId": "17846216848733149992"
     },
     "user_tz": 300
    },
    "id": "75noIq_NHRBr"
   },
   "outputs": [],
   "source": [
    "fig, ax =plt.subplots(1,1,figsize=(10,6))\n",
    "ln1, = plt.plot([],[]) #Se coloca grafica vacía\n",
    "time_text = ax.text(0.65,0.95, '', fontsize=15, transform=ax.transAxes, bbox=dict(facecolor='white', edgecolor='black')) #Se crea la caja de tiempo vacía\n",
    "ax.set_xlim(0,10*np.pi)\n",
    "ax.set_ylim(-1.5,1.5) #Límites\n",
    "\n",
    "\n",
    "#Creamos la función de animación. Frame number i.\n",
    "def animate(i):\n",
    "  ln1.set_data(x,f(x,1/50*i)) #Se le agregan los datos\n",
    "  time_text.set_text('t={:2f}'.format(i/50)) #Se crea la variable de tiempo que se va a mostrar\n",
    "\n",
    "ani = animation.FuncAnimation(fig, animate, frames=240,interval=50) #Parametros de la animación\n",
    "ani.save('image.gif', writer='pillow',fps=50,dpi=1000) #Para guardar"
   ]
  },
  {
   "cell_type": "markdown",
   "metadata": {
    "id": "m4GQeCFuW2WC"
   },
   "source": []
  },
  {
   "cell_type": "markdown",
   "metadata": {
    "id": "GsXHdDYAJSpn"
   },
   "source": [
    "Animaciones en 3D\n"
   ]
  },
  {
   "cell_type": "code",
   "execution_count": null,
   "metadata": {
    "executionInfo": {
     "elapsed": 27,
     "status": "aborted",
     "timestamp": 1682045150218,
     "user": {
      "displayName": "CARLOS ANDRES RODALLEGA MILLAN",
      "userId": "17846216848733149992"
     },
     "user_tz": 300
    },
    "id": "vMrGCLt0H1j1"
   },
   "outputs": [],
   "source": [
    "_=np.linspace(-1,1,100)\n",
    "x,y = np.meshgrid(_,_)\n",
    "z = x**2+x*y"
   ]
  },
  {
   "cell_type": "code",
   "execution_count": null,
   "metadata": {
    "executionInfo": {
     "elapsed": 28,
     "status": "aborted",
     "timestamp": 1682045150219,
     "user": {
      "displayName": "CARLOS ANDRES RODALLEGA MILLAN",
      "userId": "17846216848733149992"
     },
     "user_tz": 300
    },
    "id": "c3ns0GFRJUkW"
   },
   "outputs": [],
   "source": [
    "plt.style.use(['default'])\n",
    "fig, ax =plt.subplots(subplot_kw={'projection':'3d'})\n",
    "ax.plot_surface(x,y,z,cmap='coolwarm', linewidth=0,antialiased=False)\n",
    "ax.view_init(elev=10,azim=0) #Para verla\n",
    "\n",
    "def animate(i): #En cada fotograma se mueve 3 grados. azim=3*i\n",
    "  ax.view_init(elev=10, azim=3*i)\n",
    "\n",
    "ani = animation.FuncAnimation(fig, animate, frames=120,interval=50)\n",
    "ani.save('image2.gif', writer='pillow',fps=30,dpi=100)"
   ]
  },
  {
   "cell_type": "markdown",
   "metadata": {
    "id": "qn9zL-Ku7fbI"
   },
   "source": [
    "## Más sobre graficación con Matplotlib."
   ]
  },
  {
   "cell_type": "code",
   "execution_count": null,
   "metadata": {
    "executionInfo": {
     "elapsed": 28,
     "status": "aborted",
     "timestamp": 1682045150219,
     "user": {
      "displayName": "CARLOS ANDRES RODALLEGA MILLAN",
      "userId": "17846216848733149992"
     },
     "user_tz": 300
    },
    "id": "bZ369Y467lZC"
   },
   "outputs": [],
   "source": [
    "import numpy as np\n",
    "import matplotlib.pyplot as plt\n",
    "from matplotlib.pyplot import plot, show, xlim, ylim \n",
    "import sympy as sp\n"
   ]
  },
  {
   "cell_type": "markdown",
   "metadata": {
    "id": "uD4Ejh9oXgKR"
   },
   "source": [
    "###Ejemplo 11.1 -\n",
    "Grafica de una lista"
   ]
  },
  {
   "cell_type": "code",
   "execution_count": null,
   "metadata": {
    "executionInfo": {
     "elapsed": 28,
     "status": "aborted",
     "timestamp": 1682045150219,
     "user": {
      "displayName": "CARLOS ANDRES RODALLEGA MILLAN",
      "userId": "17846216848733149992"
     },
     "user_tz": 300
    },
    "id": "b2cg5Y3mXafw"
   },
   "outputs": [],
   "source": [
    "#arreglo de datos y=[1, 2, 5, 3]\n",
    "plot([1, 2, 5, 3], )\n",
    "#plt.savefig(\"Grafica_Ejemplo_11_1.png\")\n",
    "show()"
   ]
  },
  {
   "cell_type": "markdown",
   "metadata": {
    "id": "M9geCHD1Xhds"
   },
   "source": [
    "###Ejemplo 11.2 - Grafica de una lista (x,y)"
   ]
  },
  {
   "cell_type": "code",
   "execution_count": null,
   "metadata": {
    "executionInfo": {
     "elapsed": 28,
     "status": "aborted",
     "timestamp": 1682045150219,
     "user": {
      "displayName": "CARLOS ANDRES RODALLEGA MILLAN",
      "userId": "17846216848733149992"
     },
     "user_tz": 300
    },
    "id": "52x49BUPXhst"
   },
   "outputs": [],
   "source": [
    "plot([5,6,7,8],[1,2,5,3])\n",
    "#plt.savefig(\"Grafica_Ejemplo_11_2.png\")\n",
    "show()"
   ]
  },
  {
   "cell_type": "markdown",
   "metadata": {
    "id": "VxkoUuyGXiJV"
   },
   "source": [
    "###Ejemplo 11.3 - Grafica con límites"
   ]
  },
  {
   "cell_type": "code",
   "execution_count": null,
   "metadata": {
    "executionInfo": {
     "elapsed": 29,
     "status": "aborted",
     "timestamp": 1682045150220,
     "user": {
      "displayName": "CARLOS ANDRES RODALLEGA MILLAN",
      "userId": "17846216848733149992"
     },
     "user_tz": 300
    },
    "id": "4YftrSYHXiTn"
   },
   "outputs": [],
   "source": [
    "plot([5,6,7,8],[1,2,5,3])\n",
    "xlim(-1, 12)\n",
    "ylim(0, 8)\n",
    "#plt.savefig(\"Grafica_Ejemplo_11_3.png\")\n",
    "show()"
   ]
  },
  {
   "cell_type": "markdown",
   "metadata": {
    "id": "TrS03LHmXicO"
   },
   "source": [
    "###Ejemplo 11.4 - Grafica del sen(x) usando linspace"
   ]
  },
  {
   "cell_type": "code",
   "execution_count": null,
   "metadata": {
    "executionInfo": {
     "elapsed": 29,
     "status": "aborted",
     "timestamp": 1682045150220,
     "user": {
      "displayName": "CARLOS ANDRES RODALLEGA MILLAN",
      "userId": "17846216848733149992"
     },
     "user_tz": 300
    },
    "id": "XjE5JteaXij8"
   },
   "outputs": [],
   "source": [
    "x=np.linspace(-np.pi,np.pi,256)\n",
    "y=np.sin(x)\n",
    "plot(x,y)\n",
    "plt.xticks([-np.pi,-np.pi/2,0,np.pi/2,np.pi],[r'$-\\pi$',r'$-\\pi/2$',r'$0$',r'$\\pi/2$',r'$\\pi$']) #Colcar los nombres de los Pi's.\n",
    "plt.xlabel(\"Dominio\")\n",
    "plt.ylabel(\"Rango\")\n",
    "#plt.savefig(\"Grafica_Ejemplo_11_4.png\")\n",
    "show()"
   ]
  },
  {
   "cell_type": "markdown",
   "metadata": {
    "id": "U6OVC2wIYMJ0"
   },
   "source": [
    "###Ejemplo 11.5 - Gráfica de sen(x) y cos (x) con label y legend."
   ]
  },
  {
   "cell_type": "code",
   "execution_count": null,
   "metadata": {
    "executionInfo": {
     "elapsed": 28,
     "status": "aborted",
     "timestamp": 1682045150220,
     "user": {
      "displayName": "CARLOS ANDRES RODALLEGA MILLAN",
      "userId": "17846216848733149992"
     },
     "user_tz": 300
    },
    "id": "rwjT1lVBYMgU"
   },
   "outputs": [],
   "source": [
    "x=np.linspace(-np.pi,np.pi,256)\n",
    "y=np.sin(x)\n",
    "z=np.cos(x)\n",
    "plot(x, y, label=\"seno\")\n",
    "plot(x, z, label=\"coseno\")\n",
    "plt.legend(loc='upper left')\n",
    "plt.xticks([-np.pi,-np.pi/2,0,np.pi/2,np.pi],[r'$-\\pi$',r'$-\\pi/2$',r'$0$',r'$\\pi/2$',r'$\\pi$']) #Colcar los nombres de los Pi's.\n",
    "plt.ylim(-2,2)\n",
    "#plt.savefig(\"Grafica_Ejemplo_11_5.png\")\n",
    "show()"
   ]
  },
  {
   "cell_type": "markdown",
   "metadata": {
    "id": "Hdkj-2FNYM1O"
   },
   "source": [
    "###Ejemplo 11.6- Ejemplo con dos figuras"
   ]
  },
  {
   "cell_type": "code",
   "execution_count": null,
   "metadata": {
    "executionInfo": {
     "elapsed": 28,
     "status": "aborted",
     "timestamp": 1682045150220,
     "user": {
      "displayName": "CARLOS ANDRES RODALLEGA MILLAN",
      "userId": "17846216848733149992"
     },
     "user_tz": 300
    },
    "id": "PsBGhep1YNED"
   },
   "outputs": [],
   "source": [
    "#Dividir la grafica en dos\n",
    "x=np.linspace(-np.pi,np.pi,256)\n",
    "y=np.sin(x)\n",
    "z=np.cos(x)\n",
    "a=plt.figure(2)\n",
    "plot(x, y, label=\"seno\")\n",
    "plt.legend(loc =\"upper left\")\n",
    "plt.savefig(\"Grafica_Ejemplo_11_6.png\")\n",
    "\n",
    "b=plt.figure(20)\n",
    "plot(x, z, label=\"coseno\")\n",
    "plt.legend(loc =\"upper left\")\n",
    "plt.xticks([-np.pi,-np.pi/2,0,np.pi/2,np.pi],[r'$-\\pi$',r'$-\\pi/2$',r'$0$',r'$\\pi/2$',r'$\\pi$']) #Colcar los nombres de los Pi's.\n",
    "plt.ylim(-2,2)\n",
    "#plt.savefig(\"Grafica_Ejemplo_11_7.png\")"
   ]
  },
  {
   "cell_type": "markdown",
   "metadata": {
    "id": "i0b27cglYdtK"
   },
   "source": [
    "###**SUBGRÁFICAS**- EJEMPLO 11.7 - Ejemplo con dos figuras"
   ]
  },
  {
   "cell_type": "code",
   "execution_count": null,
   "metadata": {
    "executionInfo": {
     "elapsed": 29,
     "status": "aborted",
     "timestamp": 1682045150221,
     "user": {
      "displayName": "CARLOS ANDRES RODALLEGA MILLAN",
      "userId": "17846216848733149992"
     },
     "user_tz": 300
    },
    "id": "Jestf-HtYeCh"
   },
   "outputs": [],
   "source": [
    "#Hacer dos graficas en una figura\n",
    "x=np.linspace(-np.pi,np.pi,256)\n",
    "y=np.sin(x)\n",
    "z=np.cos(x)\n",
    "plt.subplot(2,1,1) #n = 2 renglones\n",
    "# m = k = 1, grafica en el primer renglon\n",
    "plot(x, y, label=\"seno\")\n",
    "plt.legend(loc =\"upper right\")\n",
    "plt.subplot(2,1,2) # m=1, k=2 una grafica en el segundo renglón.\n",
    "plot(x, z, label=\"coseno\")\n",
    "plt.legend(loc =\"upper left\")\n",
    "plt.xticks([-np.pi,-np.pi/2,0,np.pi/2,np.pi],[r'$-\\pi$',r'$-\\pi/2$',r'$0$',r'$\\pi/2$',r'$\\pi$']) #Colcar los nombres de los Pi's.\n",
    "plt.ylim(-2,2)\n",
    "#plt.savefig(\"Grafica_Ejemplo_11_8.png\")\n",
    "show()"
   ]
  },
  {
   "cell_type": "markdown",
   "metadata": {
    "id": "7WYS9625YeSA"
   },
   "source": [
    "Dos graficas ubicadas verticalmente."
   ]
  },
  {
   "cell_type": "code",
   "execution_count": null,
   "metadata": {
    "executionInfo": {
     "elapsed": 29,
     "status": "aborted",
     "timestamp": 1682045150221,
     "user": {
      "displayName": "CARLOS ANDRES RODALLEGA MILLAN",
      "userId": "17846216848733149992"
     },
     "user_tz": 300
    },
    "id": "wjjctzgHYebJ"
   },
   "outputs": [],
   "source": [
    "#Hacer dos graficas en una figura\n",
    "x=np.linspace(-np.pi,np.pi,256)\n",
    "y=np.sin(x)\n",
    "z=np.cos(x)\n",
    "plt.subplot(1,2,1) #n = 2 renglones\n",
    "# m = k = 1, grafica en el primer renglon\n",
    "plot(x, y, label=\"seno\")\n",
    "plt.legend(loc =\"upper right\")\n",
    "plt.subplot(1,2,2) # m=1, k=2 una grafica en el segundo renglón.\n",
    "plot(x, z, label=\"coseno\")\n",
    "plt.legend(loc =\"upper left\")\n",
    "plt.xticks([-np.pi,-np.pi/2,0,np.pi/2,np.pi],[r'$-\\pi$',r'$-\\pi/2$',r'$0$',r'$\\pi/2$',r'$\\pi$']) #Colcar los nombres de los Pi's.\n",
    "plt.ylim(-2,2)\n",
    "#plt.savefig(\"Grafica_Ejemplo_11_9.png\")\n",
    "show()"
   ]
  },
  {
   "cell_type": "markdown",
   "metadata": {
    "id": "Cx0F16xFYejh"
   },
   "source": [
    "###*Ejemplo* 11.8 - Gráfica polar"
   ]
  },
  {
   "cell_type": "code",
   "execution_count": null,
   "metadata": {
    "executionInfo": {
     "elapsed": 29,
     "status": "aborted",
     "timestamp": 1682045150221,
     "user": {
      "displayName": "CARLOS ANDRES RODALLEGA MILLAN",
      "userId": "17846216848733149992"
     },
     "user_tz": 300
    },
    "id": "Q4kQKDroYern"
   },
   "outputs": [],
   "source": [
    "teta=np.arange(0,3,0.01)  #Generar los valores de theta.\n",
    "r=2*np.pi*teta #calcular r para cada valor de teta.\n",
    "plt.subplot(111, polar=True) #Se crea la subgrafica polar\n",
    "plt.plot(r, teta, color='r', linewidth=1)  #Se crea la grafica\n",
    "plt.grid(True) #Se añade la reticula\n",
    "plt. title(\"grafica polar de r=2$\\pi\\\\theta$\")\n",
    "#plt.savefig(\"Grafica_Ejemplo_11_10.png\")\n",
    "show()"
   ]
  },
  {
   "cell_type": "markdown",
   "metadata": {
    "id": "5AACnYjoZmwi"
   },
   "source": [
    "###Ejemplo 11.9 - Graficas de pie (pastel/porcentajes)"
   ]
  },
  {
   "cell_type": "code",
   "execution_count": null,
   "metadata": {
    "executionInfo": {
     "elapsed": 29,
     "status": "aborted",
     "timestamp": 1682045150221,
     "user": {
      "displayName": "CARLOS ANDRES RODALLEGA MILLAN",
      "userId": "17846216848733149992"
     },
     "user_tz": 300
    },
    "id": "iOJ_tU27Zm6_"
   },
   "outputs": [],
   "source": [
    "#Hacer una figura cuadrada\n",
    "plt.figure(1, figsize=(6,6)) #Hacer figura cuadrada\n",
    "fracs = [15,30,40,5,10]\n",
    "plt.pie(fracs, autopct=\"%2.1i%%\")  #Escribir los porcentajes en la grafica\n",
    "plt.title(\"Gráfica de porcentajes\")\n",
    "#plt.savefig(\"Grafica_Ejemplo_11_11.png\")\n",
    "show()"
   ]
  },
  {
   "cell_type": "markdown",
   "metadata": {
    "id": "FPcvI5a3ZnEc"
   },
   "source": [
    "###Ejemplo 11.10 - Gráfica de histograma"
   ]
  },
  {
   "cell_type": "code",
   "execution_count": null,
   "metadata": {
    "executionInfo": {
     "elapsed": 29,
     "status": "aborted",
     "timestamp": 1682045150221,
     "user": {
      "displayName": "CARLOS ANDRES RODALLEGA MILLAN",
      "userId": "17846216848733149992"
     },
     "user_tz": 300
    },
    "id": "WbK5SBRvZnOT"
   },
   "outputs": [],
   "source": [
    "from numpy.random import normal\n",
    "numeros_gaussianos=normal(size=1000)\n",
    "plt.hist(numeros_gaussianos)\n",
    "plt.title(\"Gráfica de histograma\")\n",
    "#plt.savefig(\"Grafica_Ejemplo_11_12.png\")\n",
    "show()"
   ]
  },
  {
   "cell_type": "markdown",
   "metadata": {
    "id": "4blUHRzKZnWW"
   },
   "source": [
    "###Ejemplo 11.11 - Gráfica de stem\n"
   ]
  },
  {
   "cell_type": "markdown",
   "metadata": {
    "id": "MCHnYOM5ZzzK"
   },
   "source": [
    "Stem es una gráfica de puntos unidos al eje horizontal por medio de una línea recta."
   ]
  },
  {
   "cell_type": "code",
   "execution_count": null,
   "metadata": {
    "executionInfo": {
     "elapsed": 30,
     "status": "aborted",
     "timestamp": 1682045150222,
     "user": {
      "displayName": "CARLOS ANDRES RODALLEGA MILLAN",
      "userId": "17846216848733149992"
     },
     "user_tz": 300
    },
    "id": "bPpENV9kZnfW"
   },
   "outputs": [],
   "source": [
    "plt.stem(np.arange(-np.pi,np.pi))\n",
    "#plt.savefig(\"Grafica_Ejemplo_11_13.png\")\n",
    "plt.show()"
   ]
  },
  {
   "cell_type": "markdown",
   "metadata": {
    "id": "cnENXX0vZ4oH"
   },
   "source": [
    "###Ejemplo 11.12 - Gráfica de una curva paramétrica."
   ]
  },
  {
   "cell_type": "code",
   "execution_count": null,
   "metadata": {
    "executionInfo": {
     "elapsed": 30,
     "status": "aborted",
     "timestamp": 1682045150222,
     "user": {
      "displayName": "CARLOS ANDRES RODALLEGA MILLAN",
      "userId": "17846216848733149992"
     },
     "user_tz": 300
    },
    "id": "HxHlt2hEZ4xI"
   },
   "outputs": [],
   "source": [
    "from mpl_toolkits.mplot3d import Axes3D #Paquete necesario para la realización de lo querido\n",
    "a = plt.figure( figsize=(10,8))\n",
    "a.gca(projection = \"3d\")\n",
    "teta = np.linspace(-4*np.pi,4*np.pi,100)\n",
    "r = np.linspace(0,np.pi, 100)\n",
    "z=r\n",
    "x=r*np.sin(teta)\n",
    "y=r*np.cos(teta)\n",
    "plot(x,y,z, label=\"Curva paramétrica\")\n",
    "plt.savefig(\"Grafica_Ejemplo_11_14.png\",dpi=1000)\n",
    "#plt.legend()\n",
    "show()"
   ]
  },
  {
   "cell_type": "markdown",
   "metadata": {
    "id": "oSr1wucMZ45A"
   },
   "source": [
    "###Ejemplo 11.13 - Grafica de una superficie"
   ]
  },
  {
   "cell_type": "code",
   "execution_count": null,
   "metadata": {
    "executionInfo": {
     "elapsed": 30,
     "status": "aborted",
     "timestamp": 1682045150222,
     "user": {
      "displayName": "CARLOS ANDRES RODALLEGA MILLAN",
      "userId": "17846216848733149992"
     },
     "user_tz": 300
    },
    "id": "H3FU-67tZ5CZ"
   },
   "outputs": [],
   "source": [
    "fig = plt.figure( figsize=(10,8))\n",
    "ax=fig.gca(projection = \"3d\")\n",
    "\n",
    "X=np.arange(-5,5,0.25)\n",
    "Y=np.arange(-5,5,0.25)\n",
    "X, Y =np.meshgrid(X, Y)\n",
    "Z=np.sin(np.sqrt(X**2+Y**2))\n",
    "A = ax.plot_surface(X, Y, Z, rstride=1, cstride=1, cmap=plt.cm.coolwarm)\n",
    "plt.title(\"Gráfica de superficie\")\n",
    "#plt.savefig(\"Grafica_Ejemplo_11_15.png\")\n",
    "plt.show()"
   ]
  },
  {
   "cell_type": "markdown",
   "metadata": {
    "id": "rtaeEKxRaGFt"
   },
   "source": [
    "Misma gráfica 3D pero a modo de grilla"
   ]
  },
  {
   "cell_type": "code",
   "execution_count": null,
   "metadata": {
    "executionInfo": {
     "elapsed": 30,
     "status": "aborted",
     "timestamp": 1682045150222,
     "user": {
      "displayName": "CARLOS ANDRES RODALLEGA MILLAN",
      "userId": "17846216848733149992"
     },
     "user_tz": 300
    },
    "id": "A9igaHdwaG7z"
   },
   "outputs": [],
   "source": [
    "fig = plt.figure( figsize=(10,8))\n",
    "ax=fig.gca(projection = \"3d\")\n",
    "X=np.arange(-5,5,0.25)\n",
    "Y=np.arange(-5,5,0.25)\n",
    "X, Y =np.meshgrid(X, Y)\n",
    "Z=np.sin(np.sqrt(X**2+Y**2))\n",
    "A = ax.plot_surface(X, Y, Z, rstride=2, cstride=2, cmap=plt.cm.coolwarm, linewidth=1)\n",
    "plt.title(\"Gráfica de superficie\")\n",
    "#plt.savefig(\"Grafica_Ejemplo_11_16.png\")\n",
    "plt.show()"
   ]
  },
  {
   "cell_type": "markdown",
   "metadata": {
    "id": "N5m7B9LFaHFY"
   },
   "source": [
    "Grafico con barras de colores"
   ]
  },
  {
   "cell_type": "code",
   "execution_count": null,
   "metadata": {
    "executionInfo": {
     "elapsed": 30,
     "status": "aborted",
     "timestamp": 1682045150222,
     "user": {
      "displayName": "CARLOS ANDRES RODALLEGA MILLAN",
      "userId": "17846216848733149992"
     },
     "user_tz": 300
    },
    "id": "UITIFzE3aHOj"
   },
   "outputs": [],
   "source": [
    "fig = plt.figure( figsize=(10,8))\n",
    "ax=fig.gca(projection = \"3d\")\n",
    "\n",
    "X=np.arange(-5,5,0.25)\n",
    "Y=np.arange(-5,5,0.25)\n",
    "X, Y =np.meshgrid(X, Y)\n",
    "Z=np.sin(np.sqrt(X**2+Y**2))\n",
    "A = ax.plot_surface(X, Y, Z, rstride=1, cstride=1, cmap=plt.cm.coolwarm)\n",
    "fig.colorbar(A, shrink=0.5, aspect=5)\n",
    "plt.title(\"Gráfica de superficie\")\n",
    "#plt.savefig(\"Grafica_Ejemplo_11_17.png\")\n",
    "plt.show()"
   ]
  },
  {
   "cell_type": "markdown",
   "metadata": {
    "id": "UzLRTHJZaHaP"
   },
   "source": [
    "###Ejemplo 14.14-Grafica de superficie de alambre"
   ]
  },
  {
   "cell_type": "markdown",
   "metadata": {
    "id": "xLdr-EgmasHn"
   },
   "source": [
    "Cambiamos la palabra surface por wireframe"
   ]
  },
  {
   "cell_type": "code",
   "execution_count": null,
   "metadata": {
    "executionInfo": {
     "elapsed": 30,
     "status": "aborted",
     "timestamp": 1682045150223,
     "user": {
      "displayName": "CARLOS ANDRES RODALLEGA MILLAN",
      "userId": "17846216848733149992"
     },
     "user_tz": 300
    },
    "id": "hYxSn6NqaHhZ"
   },
   "outputs": [],
   "source": [
    "fig = plt.figure(figsize=(10,8))\n",
    "ax=fig.gca(projection = \"3d\")\n",
    "\n",
    "X=np.arange(-5,5,0.50)\n",
    "Y=np.arange(-5,5,0.50)\n",
    "X, Y =np.meshgrid(X, Y)\n",
    "Z=np.sin(np.sqrt(X**2+Y**2))\n",
    "A = ax.plot_wireframe(X, Y, Z)\n",
    "plt.title(\"Gráfica de superficie\")\n",
    "#plt.savefig(\"Grafica_Ejemplo_11_18.png\")\n",
    "plt.show()"
   ]
  },
  {
   "cell_type": "markdown",
   "metadata": {
    "id": "V1HXA12KauJ9"
   },
   "source": [
    "###Ejemplo 11.15 - Gráfica del campo manético de un alambre usando quiver."
   ]
  },
  {
   "cell_type": "code",
   "execution_count": null,
   "metadata": {
    "executionInfo": {
     "elapsed": 30,
     "status": "aborted",
     "timestamp": 1682045150223,
     "user": {
      "displayName": "CARLOS ANDRES RODALLEGA MILLAN",
      "userId": "17846216848733149992"
     },
     "user_tz": 300
    },
    "id": "pLHUFRVkauTM"
   },
   "outputs": [],
   "source": [
    "#Pre trabajo\n",
    "from pylab import*\n",
    "xmax = 2.0\n",
    "xmin = -xmax\n",
    "NX = 5\n",
    "ymax = 2.0\n",
    "ymin = -ymax\n",
    "NY = 5\n",
    "#Componentes vectoriales y puntos.\n",
    "x = np.linspace(xmin, xmax, NX)\n",
    "x = np.linspace(ymin, ymax, NY)\n",
    "x, y = meshgrid(x, y)\n",
    "S2 = X**2 + Y**2  #Este es el radio al cuadrado\n",
    "#Campo magnético. El valor de 0.001 es para evitar división entre cero.\n",
    "Bx = -Y/(S2+0.001)\n",
    "By = +X/(S2+0.001)\n",
    "#GRAFICACIÓN\n",
    "fig = plt.figure(figsize=(10,8))\n",
    "QP = plt.quiver(X, Y, Bx, By)\n",
    "quiverkey(QP,0.85,0.85,1.0,\"Campo magnético\")\n",
    "#Límites de los ejes\n",
    "dx = (xmax-xmin)/(NX-1.)\n",
    "dy = (ymax-ymin)/(NY-1.)\n",
    "plt.axis([xmin-dx,xmax+dx,ymin-dy,ymax+dy])\n",
    "plt.title(\"Campo magnético de un alambre de con corriente\")\n",
    "plt.xlabel(\"x (cm)\")\n",
    "plt.ylabel(\"y (cm)\")\n",
    "#plt.savefig(\"Grafica_Ejemplo_11_19.png\",dpi=300)\n",
    "plt.show()"
   ]
  },
  {
   "cell_type": "markdown",
   "metadata": {
    "id": "SdTH2dRAaucx"
   },
   "source": [
    "###Ejemplo 11.16- Gráfica de superficie con proyección sobre el plano x,y."
   ]
  },
  {
   "cell_type": "code",
   "execution_count": null,
   "metadata": {
    "executionInfo": {
     "elapsed": 30,
     "status": "aborted",
     "timestamp": 1682045150223,
     "user": {
      "displayName": "CARLOS ANDRES RODALLEGA MILLAN",
      "userId": "17846216848733149992"
     },
     "user_tz": 300
    },
    "id": "kqpxBsGHbJWb"
   },
   "outputs": [],
   "source": [
    "from mpl_toolkits.mplot3d import Axes3D\n",
    "fig=plt.figure(figsize=(10,8))\n",
    "ax = Axes3D(fig)\n",
    "X = np.arange(-4,4, 0.25)\n",
    "Y = np.arange(-4,4, 0.25)\n",
    "X,Y = np.meshgrid(X, Y)\n",
    "R = np.sqrt(abs(X**3)+Y**2)\n",
    "Z = np.sin(R)\n",
    "\n",
    "A = ax.plot_surface(X, Y, Z, rstride=1, cstride=1, cmap='viridis') \n",
    "ax.contourf(X, Y, Z, zdir=\"z\", offset=-2, cmap='viridis')\n",
    "ax.set_zlim(-2,2)\n",
    "fig.colorbar(A, shrink=0.5, aspect=5)\n",
    "plt.title(\"Pinche grafica fea\")\n",
    "#plt.savefig(\"Grafica_Ejemplo_11_20.png\", dpi=300)\n",
    "plt.show()"
   ]
  },
  {
   "cell_type": "markdown",
   "metadata": {
    "id": "QLYShrEzveAf"
   },
   "source": [
    "#SymPy Tutorial (2022): For Physicists, Engineers, and Mathematicians\n"
   ]
  },
  {
   "cell_type": "code",
   "execution_count": null,
   "metadata": {
    "id": "cMEJSfD1Cavb"
   },
   "outputs": [],
   "source": [
    "import sympy as smp\n",
    "import numpy as np\n",
    "import matplotlib.pyplot as plt"
   ]
  },
  {
   "cell_type": "markdown",
   "metadata": {
    "id": "7RXlrzt-Canr"
   },
   "source": [
    "##Introduction\n",
    "\n",
    "Es un paquete de símbolos, los símbolos se pueden definir de la siguiente manera:"
   ]
  },
  {
   "cell_type": "code",
   "execution_count": null,
   "metadata": {
    "id": "fPskWJPlCtEk"
   },
   "outputs": [],
   "source": [
    "x = smp.symbols('x')"
   ]
  },
  {
   "cell_type": "code",
   "execution_count": null,
   "metadata": {
    "id": "eReWQhmxC2Ye"
   },
   "outputs": [],
   "source": [
    "x"
   ]
  },
  {
   "cell_type": "markdown",
   "metadata": {
    "id": "fwMQQRIVC5Xp"
   },
   "source": [
    "Cuando tenemos los símbolos definidos, podemos usar operadores matematicos sobre ellos"
   ]
  },
  {
   "cell_type": "code",
   "execution_count": null,
   "metadata": {
    "id": "cOnObA6YC4bh"
   },
   "outputs": [],
   "source": [
    "x**2"
   ]
  },
  {
   "cell_type": "code",
   "execution_count": null,
   "metadata": {
    "id": "YmYPbh1eDAF9"
   },
   "outputs": [],
   "source": [
    "y = smp.sin(x)"
   ]
  },
  {
   "cell_type": "code",
   "execution_count": null,
   "metadata": {
    "id": "uj_3h2K7DoMD"
   },
   "outputs": [],
   "source": [
    "-x**2 + y"
   ]
  },
  {
   "cell_type": "markdown",
   "metadata": {
    "id": "W_8oPF46DD58"
   },
   "source": [
    "Las funciones que se pueden escribir en sympy son demasias"
   ]
  },
  {
   "cell_type": "code",
   "execution_count": null,
   "metadata": {
    "id": "qSjwtKMSDDBQ"
   },
   "outputs": [],
   "source": [
    "#Escribir smp. y presionar tabulador para ver las opciones."
   ]
  },
  {
   "cell_type": "markdown",
   "metadata": {
    "id": "rW15ts34DgfR"
   },
   "source": [
    "Podemos guardar expresiones, símbolos, en nuevas varibales"
   ]
  },
  {
   "cell_type": "code",
   "execution_count": null,
   "metadata": {
    "id": "QkNSAMrgDTSR"
   },
   "outputs": [],
   "source": [
    "y = x**2 +4*x+3"
   ]
  },
  {
   "cell_type": "code",
   "execution_count": null,
   "metadata": {
    "id": "USxcGLZTD99h"
   },
   "outputs": [],
   "source": [
    "y"
   ]
  },
  {
   "cell_type": "markdown",
   "metadata": {
    "id": "SuTchaIWECvS"
   },
   "source": [
    "Se pueden realizar operaciones en las nuevas variables:"
   ]
  },
  {
   "cell_type": "code",
   "execution_count": null,
   "metadata": {
    "id": "wEVrLQ-ID-Sa"
   },
   "outputs": [],
   "source": [
    "z = y**2\n",
    "z"
   ]
  },
  {
   "cell_type": "markdown",
   "metadata": {
    "id": "x-xkU4ELEg6x"
   },
   "source": [
    "Podmos realizar la factorización del polinomio que tenemos:"
   ]
  },
  {
   "cell_type": "code",
   "execution_count": null,
   "metadata": {
    "id": "K2j8AGyPELpH"
   },
   "outputs": [],
   "source": [
    "z.factor()"
   ]
  },
  {
   "cell_type": "code",
   "execution_count": null,
   "metadata": {
    "id": "s3Eiq2KUEnQ6"
   },
   "outputs": [],
   "source": [
    "z.expand()"
   ]
  },
  {
   "cell_type": "markdown",
   "metadata": {
    "id": "TE2o0U0YEuHm"
   },
   "source": [
    "La notación\n",
    "```\n",
    "smp.solve(f,x)\n",
    "```\n",
    "En sympy encuentra el valor de x tal que $f(x)=0$.\n",
    "\n",
    "\n",
    "\n"
   ]
  },
  {
   "cell_type": "code",
   "execution_count": null,
   "metadata": {
    "id": "ABll6lQjEsbW"
   },
   "outputs": [],
   "source": [
    "smp.solve(z,x)"
   ]
  },
  {
   "cell_type": "markdown",
   "metadata": {
    "id": "UgCPHVhnMUG1"
   },
   "source": [
    "Ejemplo con una función específica"
   ]
  },
  {
   "cell_type": "code",
   "execution_count": null,
   "metadata": {
    "id": "L9zM3ZQhE_PQ"
   },
   "outputs": [],
   "source": [
    "smp.solve(smp.sin(x),x)"
   ]
  },
  {
   "cell_type": "markdown",
   "metadata": {
    "id": "CqYlvEJXFXDr"
   },
   "source": [
    "**Buena práctica:**\n",
    "\n",
    "Si se sabe que la variable x es real (y en algunos casos es no-negativa) es bastante bueno definir esto cuando se definen las variables para prevenir complicaciones al resolver problemas. (Especialmente integrales.)"
   ]
  },
  {
   "cell_type": "code",
   "execution_count": null,
   "metadata": {
    "id": "bHzx4jlrFMJb"
   },
   "outputs": [],
   "source": [
    "x = smp.symbols('x')\n",
    "smp.solve(x**2+1,x)"
   ]
  },
  {
   "cell_type": "code",
   "execution_count": null,
   "metadata": {
    "id": "tBxN5lPBGI49"
   },
   "outputs": [],
   "source": [
    "x = smp.symbols('x', real = True)   #Estamos indicando a Phyton que la variable con la que estamos tratando es una variable real.\n",
    "smp.solve(x**2+1,x)"
   ]
  },
  {
   "cell_type": "code",
   "execution_count": null,
   "metadata": {
    "id": "P0Q5QEIDMjrt"
   },
   "outputs": [],
   "source": [
    "x = smp.symbols('x', real = True, positive=True)   #Estamos indicando a Phyton que la variable con la que estamos tratando es una variable real.\n",
    "smp.solve(x+4,x)"
   ]
  },
  {
   "cell_type": "code",
   "execution_count": null,
   "metadata": {
    "id": "0ElS_Q4uM0h4"
   },
   "outputs": [],
   "source": [
    "x = smp.symbols('x', real = True)   #Estamos indicando a Phyton que la variable con la que estamos tratando es una variable real.\n",
    "smp.solve(x+4,x)"
   ]
  },
  {
   "cell_type": "markdown",
   "metadata": {
    "id": "Zhbbq-GyGQwa"
   },
   "source": [
    "Se pueden definir muchas variables a la vez"
   ]
  },
  {
   "cell_type": "code",
   "execution_count": null,
   "metadata": {
    "id": "YRNIsyhsGOid"
   },
   "outputs": [],
   "source": [
    "x, y, z = smp.symbols('x y z') #Se están definiendo tres variables a la vez\n",
    "\n",
    "F = x**2+smp.sin(z)*y\n",
    "F"
   ]
  },
  {
   "cell_type": "markdown",
   "metadata": {
    "id": "9ARa70KfGjKX"
   },
   "source": [
    "Con el mismo razonamiento, se pueden resolver expresiones multivariables, especificando para cual variable queremos resolver. En cada caso se resulve $ F = 0$"
   ]
  },
  {
   "cell_type": "code",
   "execution_count": null,
   "metadata": {
    "id": "JVH4rkgvGf0U"
   },
   "outputs": [],
   "source": [
    "x_sols = smp.solve(F,x)\n",
    "x_sols"
   ]
  },
  {
   "cell_type": "code",
   "execution_count": null,
   "metadata": {
    "id": "XDbNnHUGG1JK"
   },
   "outputs": [],
   "source": [
    "y_sols = smp.solve(F,y)\n",
    "y_sols"
   ]
  },
  {
   "cell_type": "code",
   "execution_count": null,
   "metadata": {
    "id": "9GkjTcQvG8NU"
   },
   "outputs": [],
   "source": [
    "z_sols = smp.solve(F,z)\n",
    "z_sols"
   ]
  },
  {
   "cell_type": "markdown",
   "metadata": {
    "id": "LOLJEHjKHC8h"
   },
   "source": [
    "Para finalizar, se pueden convertir expresiones que son símbolicas en funciones númericas que permiten graficarlas."
   ]
  },
  {
   "cell_type": "code",
   "execution_count": null,
   "metadata": {
    "id": "mIayRUEqHBFn"
   },
   "outputs": [],
   "source": [
    "expr = z_sols[0]\n",
    "expr"
   ]
  },
  {
   "cell_type": "code",
   "execution_count": null,
   "metadata": {
    "id": "Vc1DemZyI0Uc"
   },
   "outputs": [],
   "source": [
    "expr_f = smp.lambdify([x,y],expr) #Permite crear funciones númericas.\n",
    "expr_f(1,2)  #Evaluamos esta expresión obtenida en un punto valor arbitrario"
   ]
  },
  {
   "cell_type": "code",
   "execution_count": null,
   "metadata": {
    "id": "oQGKTqf_JC8f"
   },
   "outputs": [],
   "source": [
    "x_num = np.linspace(0,1,100)\n",
    "y_num = 2\n",
    "#Mantenemos un valor fijo de y, como es una función de varias variables debemos parametrizar la misma función.\n",
    "plt.plot(x_num,expr_f(x_num,y_num))\n",
    "plt.show()"
   ]
  },
  {
   "cell_type": "code",
   "execution_count": null,
   "metadata": {
    "id": "qTt98uuJJcso"
   },
   "outputs": [],
   "source": [
    "F"
   ]
  },
  {
   "cell_type": "code",
   "execution_count": null,
   "metadata": {
    "id": "UMHOIhViNsAD"
   },
   "outputs": [],
   "source": [
    "F.subs([(y,3),(z,smp.pi/2)])"
   ]
  },
  {
   "cell_type": "code",
   "execution_count": null,
   "metadata": {
    "id": "kiLxomFnOBWF"
   },
   "outputs": [],
   "source": [
    "F.subs([(y,smp.cos(z)),(z,y)]) #Sustituciones de izquierda a derecha."
   ]
  },
  {
   "cell_type": "markdown",
   "metadata": {
    "id": "0_41y3aIQMR5"
   },
   "source": [
    "##Ejemplos"
   ]
  },
  {
   "cell_type": "markdown",
   "metadata": {
    "id": "kwlWp3ISQLPP"
   },
   "source": [
    "A falling object encounters a moving platform accelerating upwards:\n",
    "\n",
    "1. Object $$h_o(t) = h_0 - v_o t - \\frac{1}{2}gt^2$$\n",
    "2. Platform $$h_p(t) = v_p t + \\frac{1}{2}qt^2$$\n",
    "\n",
    "**Find the initial velocity $v_0$ such that when the object and platform collide, they are moving at the same speed.**\n",
    "\n",
    "We need to solve for $v_0$ and $t$ in the two equations\n",
    "\n",
    "1. $$h_0(t) = h_p(t)$$\n",
    "\n",
    "2. $$ \\frac{dh_0}{dt} (t) = - \\frac{dh_p}{dt}(t) $$\n",
    "\n",
    "In sympy, need to construct our system of equations as $EQ_1=0$, $EQ_2=0$, ... In our case, we rewrite them as\n",
    "\n",
    "1. $$h_0(t) - h_p(t) = 0$$\n",
    "\n",
    "2. $$\\frac{dh_0}{dt} + \\frac{dh_p}{dt} = 0$$"
   ]
  },
  {
   "cell_type": "code",
   "execution_count": null,
   "metadata": {
    "id": "KH3sj0pbQY1x"
   },
   "outputs": [],
   "source": [
    "t, h0, v0, g, vp, q = smp.symbols('t h_0 v_0 g v_p q', real=True, positive=True)"
   ]
  },
  {
   "cell_type": "code",
   "execution_count": null,
   "metadata": {
    "id": "n5FkpaA3RGo6"
   },
   "outputs": [],
   "source": []
  },
  {
   "cell_type": "markdown",
   "metadata": {
    "id": "XfE8xNVmRIDt"
   },
   "source": [
    "Define expressions"
   ]
  },
  {
   "cell_type": "code",
   "execution_count": null,
   "metadata": {
    "id": "AUaMTsEgRIg6"
   },
   "outputs": [],
   "source": [
    "h0t = h0 - v0*t - smp.Rational(1,2)*g*t**2  #Rational is for fractions\n",
    "dh0dt = g*t - v0\n",
    "hpt = vp*t + smp.Rational(1,2)*q*t**2\n",
    "dhpdt = vp + q*t"
   ]
  },
  {
   "cell_type": "code",
   "execution_count": null,
   "metadata": {
    "id": "zX8MGDTJRKLD"
   },
   "outputs": [],
   "source": [
    "h0t"
   ]
  },
  {
   "cell_type": "code",
   "execution_count": null,
   "metadata": {
    "id": "97xWxwRlRLQO"
   },
   "outputs": [],
   "source": [
    "dh0dt"
   ]
  },
  {
   "cell_type": "code",
   "execution_count": null,
   "metadata": {
    "id": "i98o7X8tRO3r"
   },
   "outputs": [],
   "source": [
    "hpt"
   ]
  },
  {
   "cell_type": "code",
   "execution_count": null,
   "metadata": {
    "id": "mi1QtstkRP2k"
   },
   "outputs": [],
   "source": [
    "dhpdt"
   ]
  },
  {
   "cell_type": "markdown",
   "metadata": {
    "id": "QDuTqimoSBEk"
   },
   "source": [
    "Define equations"
   ]
  },
  {
   "cell_type": "code",
   "execution_count": null,
   "metadata": {
    "id": "L8bkwk6HRQ4M"
   },
   "outputs": [],
   "source": [
    "eq1 = h0t - hpt\n",
    "eq2 = dh0dt + dhpdt"
   ]
  },
  {
   "cell_type": "code",
   "execution_count": null,
   "metadata": {
    "id": "N2wkZqneSDJ7"
   },
   "outputs": [],
   "source": [
    "eq1"
   ]
  },
  {
   "cell_type": "code",
   "execution_count": null,
   "metadata": {
    "id": "_oGxRbYdSDyb"
   },
   "outputs": [],
   "source": [
    "eq2"
   ]
  },
  {
   "cell_type": "markdown",
   "metadata": {
    "id": "1ZH3doLiSEu3"
   },
   "source": [
    "Solve the equations"
   ]
  },
  {
   "cell_type": "code",
   "execution_count": null,
   "metadata": {
    "id": "937vgX3hSEIH"
   },
   "outputs": [],
   "source": [
    "smp.solve([eq1, eq2], [t, v0])[0] #Forma simple de resolver, obtengo esta vaina loca, están en pares, entre corchetes están los pares de soluciones"
   ]
  },
  {
   "cell_type": "code",
   "execution_count": null,
   "metadata": {
    "id": "NpSmn2FcSJgD"
   },
   "outputs": [],
   "source": [
    "t_collide, v_initfall = smp.solve([eq1, eq2], [t, v0])[0]  #Aquí estamos resolviendo para datos expecíficos del problema."
   ]
  },
  {
   "cell_type": "code",
   "execution_count": null,
   "metadata": {
    "id": "3uFhXQ4sSbaK"
   },
   "outputs": [],
   "source": [
    "t_collide"
   ]
  },
  {
   "cell_type": "code",
   "execution_count": null,
   "metadata": {
    "id": "87-67sY2ScoQ"
   },
   "outputs": [],
   "source": [
    "v_initfall"
   ]
  },
  {
   "cell_type": "markdown",
   "metadata": {
    "id": "1Oht3uJ0SxCf"
   },
   "source": [
    "**What is the velocity when they collide?**"
   ]
  },
  {
   "cell_type": "code",
   "execution_count": null,
   "metadata": {
    "id": "JJjuOBfTSdkb"
   },
   "outputs": [],
   "source": [
    "dh0dt.subs([(t,t_collide),(v0,v_initfall)]).simplify() #Permite simplificar todo lo que le colocamos"
   ]
  },
  {
   "cell_type": "code",
   "execution_count": null,
   "metadata": {
    "id": "tywX3yVXS2CE"
   },
   "outputs": [],
   "source": [
    "dhpdt.subs([(t,t_collide),(v0,v_initfall)]).simplify()"
   ]
  },
  {
   "cell_type": "markdown",
   "metadata": {
    "id": "Y0IwZuqkTF4k"
   },
   "source": [
    "##Cálculo I y II"
   ]
  },
  {
   "cell_type": "code",
   "execution_count": null,
   "metadata": {
    "id": "fH7SJIhCTS59"
   },
   "outputs": [],
   "source": [
    "x = smp.symbols('x')"
   ]
  },
  {
   "cell_type": "markdown",
   "metadata": {
    "id": "qY5-1xBzTNKm"
   },
   "source": [
    "###**Límites**"
   ]
  },
  {
   "cell_type": "code",
   "execution_count": null,
   "metadata": {
    "id": "f0MvkgxFS3RY"
   },
   "outputs": [],
   "source": [
    "smp.limit(smp.sin(x/2 + smp.sin(x)), x, smp.pi)"
   ]
  },
  {
   "cell_type": "markdown",
   "metadata": {
    "id": "dKdDX2r5TUSc"
   },
   "source": [
    "###**Derivadas**"
   ]
  },
  {
   "cell_type": "code",
   "execution_count": null,
   "metadata": {
    "id": "Vj-rHI3kTVU5"
   },
   "outputs": [],
   "source": [
    "smp.diff(((1 + smp.sin(x)) / (1 - smp.cos(x)))**2, x)"
   ]
  },
  {
   "cell_type": "markdown",
   "metadata": {
    "id": "riq5GJsmTbVw"
   },
   "source": [
    "$$\\frac{d}{dx} f(x+g(x)) $$"
   ]
  },
  {
   "cell_type": "code",
   "execution_count": null,
   "metadata": {
    "id": "5NabmA0aTbsP"
   },
   "outputs": [],
   "source": [
    "f, g = smp.symbols('f g', cls=smp.Function) #Este parámetro adiccional permite indicar que estoy trabajando con funciones como si fueran variables"
   ]
  },
  {
   "cell_type": "code",
   "execution_count": null,
   "metadata": {
    "id": "Q_CfqJZYTdXy"
   },
   "outputs": [],
   "source": [
    "f, g = smp.symbols('f g', cls=smp.Function)\n",
    "g = g(x)\n",
    "f = f(x+g)"
   ]
  },
  {
   "cell_type": "code",
   "execution_count": null,
   "metadata": {
    "id": "iJkmaRBJTecZ"
   },
   "outputs": [],
   "source": [
    "f"
   ]
  },
  {
   "cell_type": "code",
   "execution_count": null,
   "metadata": {
    "id": "ZMktpO6oTgNU"
   },
   "outputs": [],
   "source": [
    "dfdx = smp.diff(f,x) #Realiza la regla de la cadena\n",
    "dfdx"
   ]
  },
  {
   "cell_type": "code",
   "execution_count": null,
   "metadata": {
    "id": "OJ8TELKiThbb"
   },
   "outputs": [],
   "source": [
    "dfdx.subs([(g, smp.sin(x))]).doit() # need to call doit"
   ]
  },
  {
   "cell_type": "markdown",
   "metadata": {
    "id": "dlGDurkmUmQL"
   },
   "source": [
    "###**Antiderivadas Básicas**"
   ]
  },
  {
   "cell_type": "markdown",
   "metadata": {
    "id": "gu-IP18FVUs8"
   },
   "source": [
    "$$ \\int \\csc(x) \\cot (x)  dx $$"
   ]
  },
  {
   "cell_type": "code",
   "execution_count": null,
   "metadata": {
    "id": "Tx5hZwviUouq"
   },
   "outputs": [],
   "source": [
    "smp.integrate(smp.csc(x)*smp.cot(x), x)"
   ]
  },
  {
   "cell_type": "markdown",
   "metadata": {
    "id": "_sm1y8iTVMM9"
   },
   "source": [
    "###  **Integrales Definidas**"
   ]
  },
  {
   "cell_type": "markdown",
   "metadata": {
    "id": "nLlEdGYVVcK3"
   },
   "source": [
    "$$\\int_{0}^{\\ln(4)}\\frac{e^x dt}{\\sqrt{e^{2x}+9}} $$\n"
   ]
  },
  {
   "cell_type": "code",
   "execution_count": null,
   "metadata": {
    "id": "naqUuN4-VSZK"
   },
   "outputs": [],
   "source": [
    "smp.integrate(smp.exp(x) / smp.sqrt(smp.exp(2*x) + 9), (x, 0, smp.log(4)))"
   ]
  },
  {
   "cell_type": "markdown",
   "metadata": {
    "id": "Nt3SI7kVVg5v"
   },
   "source": [
    "$$\\int_1^t x^{10} e^x dx $$"
   ]
  },
  {
   "cell_type": "code",
   "execution_count": null,
   "metadata": {
    "id": "mu71nvoUVebj"
   },
   "outputs": [],
   "source": [
    "t= smp.symbols('t')"
   ]
  },
  {
   "cell_type": "code",
   "execution_count": null,
   "metadata": {
    "id": "aAuRXrYNViXb"
   },
   "outputs": [],
   "source": [
    "smp.integrate(x**10*smp.exp(x), (x, 1, t))"
   ]
  },
  {
   "cell_type": "markdown",
   "metadata": {
    "id": "e4TvoC4lV0xP"
   },
   "source": [
    "### **Examples**"
   ]
  },
  {
   "cell_type": "markdown",
   "metadata": {
    "id": "yhAuGzcuV5eo"
   },
   "source": [
    "The hydrogen wave function is given by\n",
    "\n",
    "$$\\psi_{nlm} = R_{nl}(r)Y_l^m(\\theta, \\phi) $$\n",
    "\n",
    "$$R_{nl}(r) =  \\sqrt{\\left(\\frac{2}{na}\\right)^3 \\frac{(n-l-1)!}{2n[(n+1)!]}} e^{-r/na} \\left(\\frac{2r}{na}\\right)^l \\left[L_{n-l-1}^{2l+1}(2r/na)\\right]$$\n",
    "\n",
    "With $$L_{n-l-1}^{2l+1} $$\n",
    "The laguerre asociated polinomial.\n",
    "$$ $$\n",
    "\n",
    "The mean distance from the nucleus of the electron:\n",
    "\n",
    "$$\\left<r\\right> = \\int R_{nl}^2 r^3 dr$$\n",
    "\n",
    "The standard deviation in the distance from the nucleus of the electron:\n",
    "\n",
    "$$\\sigma = \\sqrt{\\left<r^2\\right> - \\left<r\\right>^2} =  \\sqrt{\\left(\\int_{0}^{\\infty}R_{nl}^2 r^4 dr\\right) - \\left(\\int_{0}^{\\infty} R_{nl}^2 r^3 dr\\right)^2}$$"
   ]
  },
  {
   "cell_type": "code",
   "execution_count": null,
   "metadata": {
    "id": "80tYYmVgVjUj"
   },
   "outputs": [],
   "source": [
    "from sympy import assoc_laguerre"
   ]
  },
  {
   "cell_type": "markdown",
   "metadata": {
    "id": "76Ikm7lsV-gl"
   },
   "source": [
    "Define variables, be sure to specify their attributes"
   ]
  },
  {
   "cell_type": "code",
   "execution_count": null,
   "metadata": {
    "id": "azl_9FTAV9w9"
   },
   "outputs": [],
   "source": [
    "r, a = smp.symbols('r a', real=True, positive=True)\n",
    "n, l = smp.symbols('n l', integer=True, positive=True) #Definiendo que nuestras variables son enteras y positivas"
   ]
  },
  {
   "cell_type": "markdown",
   "metadata": {
    "id": "ccnRP0oQWB4a"
   },
   "source": [
    "Define $R_{nl}(r)$"
   ]
  },
  {
   "cell_type": "code",
   "execution_count": null,
   "metadata": {
    "id": "Z7VFmxqOWBpn"
   },
   "outputs": [],
   "source": [
    "R = smp.sqrt((2/(n*a))**3 * smp.factorial(n-l-1)/(2*n*(smp.factorial(n+l)))) \\\n",
    "     *smp.exp(-r/(n*a)) * (2*r/(n*a))**l * assoc_laguerre(n-l-1,2*l+1,(2*r/(n*a)))\n",
    "R"
   ]
  },
  {
   "cell_type": "markdown",
   "metadata": {
    "id": "E6bgBjVTW-Xo"
   },
   "source": [
    "We can check to make sure this corresponds to the radial wavefunctions we expect. Lets see $R_{10}(r)$"
   ]
  },
  {
   "cell_type": "code",
   "execution_count": null,
   "metadata": {
    "id": "Y5I33wzJW5bJ"
   },
   "outputs": [],
   "source": [
    "R_10 = R.subs([(n,1),(l,0)])\n",
    "R_10"
   ]
  },
  {
   "cell_type": "markdown",
   "metadata": {
    "id": "PHpDMFNqXFh8"
   },
   "source": [
    "Function to compute $\\int_{0}^{\\infty} R_{nl}^2 r^k dr$ for particular values of $n$, $l$ and $k$"
   ]
  },
  {
   "cell_type": "code",
   "execution_count": null,
   "metadata": {
    "id": "TEVjB76kXDP3"
   },
   "outputs": [],
   "source": [
    "#Se define de esta manera para no estar trabajando constantemente con el problemas de los exponentes en el factor r.\n",
    "def compute_int(n_val, l_val, k):\n",
    "    R_nl = R.subs([(n,n_val),(l,l_val)])\n",
    "    return smp.integrate(R_nl**2 * r**k, (r,0,smp.oo))"
   ]
  },
  {
   "cell_type": "markdown",
   "metadata": {
    "id": "o82XrbCFXIb_"
   },
   "source": [
    "Compute the mean radial distance of an electron in the state $\\psi_{100}$"
   ]
  },
  {
   "cell_type": "code",
   "execution_count": null,
   "metadata": {
    "id": "Kiqf7O8FXIPR"
   },
   "outputs": [],
   "source": [
    "compute_int(n_val=1,l_val=0,k=3)"
   ]
  },
  {
   "cell_type": "markdown",
   "metadata": {
    "id": "M7Wr990rXOTO"
   },
   "source": [
    "Compute the spread $\\sigma$ in distances of the electron in state $\\psi_{100}$"
   ]
  },
  {
   "cell_type": "code",
   "execution_count": null,
   "metadata": {
    "id": "B3fkc_qIXOaq"
   },
   "outputs": [],
   "source": [
    "smp.sqrt(compute_int(n_val=1,l_val=0,k=4) - compute_int(n_val=1,l_val=0,k=3)**2)"
   ]
  },
  {
   "cell_type": "markdown",
   "metadata": {
    "id": "mrWO46-wXZCH"
   },
   "source": [
    "Compute the mean radial distance of an electron in the state $\\psi_{420}$"
   ]
  },
  {
   "cell_type": "code",
   "execution_count": null,
   "metadata": {
    "id": "bWLuTPdOXaqT"
   },
   "outputs": [],
   "source": [
    "compute_int(n_val=4,l_val=2,k=3)"
   ]
  },
  {
   "cell_type": "code",
   "execution_count": null,
   "metadata": {
    "id": "kQErUd2qXcOs"
   },
   "outputs": [],
   "source": [
    "def compute_mean_distance(n_val, l_val=0):\n",
    "    expr = compute_int(n_val,l_val,k=3)\n",
    "    expr_f = smp.lambdify([a], expr)\n",
    "    return expr_f(1)"
   ]
  },
  {
   "cell_type": "code",
   "execution_count": null,
   "metadata": {
    "id": "XRJPUtKVXfV6"
   },
   "outputs": [],
   "source": [
    "ns = np.arange(1,10)\n",
    "ds =[compute_mean_distance(ni) for ni in ns]"
   ]
  },
  {
   "cell_type": "code",
   "execution_count": null,
   "metadata": {
    "id": "ErFHWXEpXgs_"
   },
   "outputs": [],
   "source": [
    "plt.scatter(ns, ds)\n",
    "plt.show()"
   ]
  },
  {
   "cell_type": "markdown",
   "metadata": {
    "id": "d_sSGyGcZbdD"
   },
   "source": [
    "## **Cálculo de Varias Variables**"
   ]
  },
  {
   "cell_type": "code",
   "execution_count": null,
   "metadata": {
    "id": "6y7KDojCZf63"
   },
   "outputs": [],
   "source": [
    "x, y, z, u1, u2, u3, v1, v2, v3, t = smp.symbols('x y z u_1 u_2 u_3 v_1 v_2 v_3 t')"
   ]
  },
  {
   "cell_type": "markdown",
   "metadata": {
    "id": "DicGkQpPZrXk"
   },
   "source": [
    "### Vectores y algo de Geometría."
   ]
  },
  {
   "cell_type": "code",
   "execution_count": null,
   "metadata": {
    "id": "81XurNmgZorJ"
   },
   "outputs": [],
   "source": [
    "u = smp.Matrix([u1,u2,u3])\n",
    "v = smp.Matrix([v1,v2,v3])"
   ]
  },
  {
   "cell_type": "code",
   "execution_count": null,
   "metadata": {
    "id": "lG14Lko1aIjX"
   },
   "outputs": [],
   "source": [
    "v"
   ]
  },
  {
   "cell_type": "markdown",
   "metadata": {
    "id": "rryLa0LwZvSX"
   },
   "source": [
    "### Suma"
   ]
  },
  {
   "cell_type": "code",
   "execution_count": null,
   "metadata": {
    "id": "-daP3iLDZutw"
   },
   "outputs": [],
   "source": [
    "2*u+v"
   ]
  },
  {
   "cell_type": "markdown",
   "metadata": {
    "id": "TGlYvuLKZyoB",
    "tags": []
   },
   "source": [
    "### Producto Punto"
   ]
  },
  {
   "cell_type": "code",
   "execution_count": null,
   "metadata": {
    "id": "Vv2puuc3ZyL0"
   },
   "outputs": [],
   "source": [
    "u.dot(v)"
   ]
  },
  {
   "cell_type": "markdown",
   "metadata": {
    "id": "O4HUs8eYZ3Vo"
   },
   "source": [
    "### Producto Cruz"
   ]
  },
  {
   "cell_type": "code",
   "execution_count": null,
   "metadata": {
    "id": "Io7h-GcBZ26j"
   },
   "outputs": [],
   "source": [
    "u.cross(v)"
   ]
  },
  {
   "cell_type": "markdown",
   "metadata": {
    "id": "VpaoLhhnZ7xF"
   },
   "source": [
    "### Norma"
   ]
  },
  {
   "cell_type": "code",
   "execution_count": null,
   "metadata": {
    "id": "eTiq6O6OZ6xC"
   },
   "outputs": [],
   "source": [
    "u.norm()"
   ]
  },
  {
   "cell_type": "markdown",
   "metadata": {
    "id": "P8BEGmMeZ_ZN"
   },
   "source": [
    "### Proyección"
   ]
  },
  {
   "cell_type": "markdown",
   "metadata": {
    "id": "7rCoGUfsaFWA"
   },
   "source": [
    "$\\text{proj}_v(u) = \\frac{u \\cdot v}{|v|^2} v$"
   ]
  },
  {
   "cell_type": "code",
   "execution_count": null,
   "metadata": {
    "id": "JHrjaUu7aDO2"
   },
   "outputs": [],
   "source": [
    "proj_v_u = u.dot(v)/v.norm()**2 * v\n",
    "proj_v_u"
   ]
  },
  {
   "cell_type": "markdown",
   "metadata": {
    "id": "IdGKfDF0Wfwj"
   },
   "source": [
    "Lines: $\\vec{r}(t) = \\vec{r}_0 + t\\vec{v}$"
   ]
  },
  {
   "cell_type": "code",
   "execution_count": null,
   "metadata": {
    "id": "eQ-rojPJaHMw"
   },
   "outputs": [],
   "source": [
    "r0 = smp.Matrix([1,1,1])\n",
    "v = smp.Matrix([1,3,-1])\n",
    "r = r0 + t*v\n",
    "r"
   ]
  },
  {
   "cell_type": "markdown",
   "metadata": {
    "id": "RUz4Jg9eWlNp"
   },
   "source": [
    "Planes: $\\vec{n} \\cdot (P_0-\\left<x,y,z\\right>) = 0$"
   ]
  },
  {
   "cell_type": "code",
   "execution_count": null,
   "metadata": {
    "id": "jNMh8uNrWkmd"
   },
   "outputs": [],
   "source": [
    "P0 = smp.Matrix([4,4,8])\n",
    "r = smp.Matrix([x,y,z])\n",
    "n = smp.Matrix([1,1,1])\n",
    "n.dot(P0-r)"
   ]
  },
  {
   "cell_type": "markdown",
   "metadata": {
    "id": "zKzAVFUHWpkd"
   },
   "source": [
    "## Cálculo Vectorial"
   ]
  },
  {
   "cell_type": "markdown",
   "metadata": {
    "id": "b10PoLDSWyGA"
   },
   "source": [
    "### Derivadas Vectoriales"
   ]
  },
  {
   "cell_type": "code",
   "execution_count": null,
   "metadata": {
    "id": "AIXrlE7NWos9"
   },
   "outputs": [],
   "source": [
    "r = smp.Matrix([3*t, smp.sin(t), t**2])\n",
    "r"
   ]
  },
  {
   "cell_type": "code",
   "execution_count": null,
   "metadata": {
    "id": "E0vSbJ4jW1Y3"
   },
   "outputs": [],
   "source": [
    "smp.diff(r,t)"
   ]
  },
  {
   "cell_type": "markdown",
   "metadata": {
    "id": "-LNLtT6rW4TK"
   },
   "source": [
    "#### **Ejemplo:** \n",
    "Find the angle between the velocity and acceleration as a function of time $\\theta(t)$"
   ]
  },
  {
   "cell_type": "code",
   "execution_count": null,
   "metadata": {
    "id": "DUzV2B0MW2m_"
   },
   "outputs": [],
   "source": [
    "v = smp.diff(r,t)\n",
    "a = smp.diff(v,t)\n",
    "theta = smp.acos(v.dot(a)/(v.norm()*a.norm())).simplify()\n",
    "theta"
   ]
  },
  {
   "cell_type": "markdown",
   "metadata": {
    "id": "X5MWRiZ2XBGE"
   },
   "source": [
    "Find theta at $t=6$"
   ]
  },
  {
   "cell_type": "code",
   "execution_count": null,
   "metadata": {
    "id": "KHV3RRs0XCVx"
   },
   "outputs": [],
   "source": [
    "theta.subs(t,6).evalf()"
   ]
  },
  {
   "cell_type": "markdown",
   "metadata": {
    "id": "8AkS9UYXXJ-U"
   },
   "source": [
    "### Integrales Vectoriales."
   ]
  },
  {
   "cell_type": "code",
   "execution_count": null,
   "metadata": {
    "id": "-UtKPV0JXL_7"
   },
   "outputs": [],
   "source": [
    "r = smp.Matrix([smp.exp(t)*smp.cos(t), t**4, 1/(1+t**2)])\n",
    "r"
   ]
  },
  {
   "cell_type": "code",
   "execution_count": null,
   "metadata": {
    "id": "G4DE1QGGXNvd"
   },
   "outputs": [],
   "source": [
    "smp.Integral(r,t).doit()"
   ]
  },
  {
   "cell_type": "markdown",
   "metadata": {
    "id": "KM2CdWhSXPj8"
   },
   "source": [
    "Some cases integrals can't be solved analytically - > see Second Year in Calculus video"
   ]
  },
  {
   "cell_type": "code",
   "execution_count": null,
   "metadata": {
    "id": "dDelKEKOXO_i"
   },
   "outputs": [],
   "source": [
    "from scipy.integrate import quad_vec"
   ]
  },
  {
   "cell_type": "code",
   "execution_count": null,
   "metadata": {
    "id": "-woPBzn9XUgt"
   },
   "outputs": [],
   "source": [
    "r = smp.Matrix([smp.exp(t**2)*smp.cos(t)**3, smp.exp(-t**4), 1/(3+t**2)])\n",
    "r"
   ]
  },
  {
   "cell_type": "code",
   "execution_count": null,
   "metadata": {
    "id": "-N1c38NfXWd2"
   },
   "outputs": [],
   "source": [
    "r_f = smp.lambdify([t], r)"
   ]
  },
  {
   "cell_type": "code",
   "execution_count": null,
   "metadata": {
    "id": "1dA3sx98XYCE"
   },
   "outputs": [],
   "source": [
    "from scipy.integrate import quad_vec\n",
    "r = smp.Matrix([smp.exp(t**2)*smp.cos(t)**3, smp.exp(-t**4), 1/(3+t**2)])\n",
    "r_f = smp.lambdify([t], r)\n",
    "quad_vec(r_f, 0, 1)[0]"
   ]
  },
  {
   "cell_type": "markdown",
   "metadata": {
    "id": "dJ4YYbn_Xax2"
   },
   "source": [
    "## Longitud de Arco"
   ]
  },
  {
   "cell_type": "markdown",
   "metadata": {
    "id": "UV21QL6HXfk7"
   },
   "source": [
    "$$L = \\int_a^b \\sqrt{dx^2 + dy^2 + dz^2} = \\int_a^b \\sqrt{(dx/dt)^2 + (dy/dt)^2 + (dz/dt)^2 } dt $$"
   ]
  },
  {
   "cell_type": "markdown",
   "metadata": {
    "id": "XE1W5pWfXh_s"
   },
   "source": [
    "Rare Cases can be done symbolically. Find arclength of $\\left< 0, t, t^2 \\right>$ from $t=0$ to $t=1$"
   ]
  },
  {
   "cell_type": "code",
   "execution_count": null,
   "metadata": {
    "id": "qsyBUNAiXZrh"
   },
   "outputs": [],
   "source": [
    "r = smp.Matrix([0, t, t**2])\n",
    "r"
   ]
  },
  {
   "cell_type": "code",
   "execution_count": null,
   "metadata": {
    "id": "_wXDLOOHXlrC"
   },
   "outputs": [],
   "source": [
    "r = smp.Matrix([0, t, t**2])\n",
    "smp.integrate(smp.diff(r,t).norm(), (t,0,1))"
   ]
  },
  {
   "cell_type": "markdown",
   "metadata": {
    "id": "cW0-IENQXqvK"
   },
   "source": [
    "## **Ejemplo**"
   ]
  },
  {
   "cell_type": "markdown",
   "metadata": {
    "id": "rMO055N9X3SH"
   },
   "source": [
    "\n",
    "The magnetic field at a point $\\vec{r}$ of a current configuration is \n",
    "\n",
    "$$\\vec{B}(\\vec{r}) = \\frac{\\mu_0}{4\\pi}\\int_t \\frac{I \\frac{d\\vec{\\ell}}{dt} \\times (\\vec{r}-\\vec{\\ell})}{|\\vec{r}-\\vec{\\ell}|^3} dt $$\n",
    "\n",
    "where $\\vec{r} = (x,y,z)$ and $\\vec{l} = (f(t), g(t), h(t))$ is a 1D curve in space that gives the location of the wire.\n",
    "\n",
    "**Part 1: Use Sympy to find the integrand as a single 3-vector**"
   ]
  },
  {
   "cell_type": "code",
   "execution_count": null,
   "metadata": {
    "id": "RXpR0VJJXm98"
   },
   "outputs": [],
   "source": [
    "x, y, z, t, I, mu0 = smp.symbols('x y z t I \\mu_0', real=True)\n",
    "f, g, h = smp.symbols('f g h', cls=smp.Function)\n",
    "f=f(t)\n",
    "g=g(t)\n",
    "h=h(t)"
   ]
  },
  {
   "cell_type": "markdown",
   "metadata": {
    "id": "Sm7XbmlmX9N5"
   },
   "source": [
    "Define $\\vec{r}$, $\\vec{\\ell}$ and $\\vec{d\\ell/dt}$"
   ]
  },
  {
   "cell_type": "code",
   "execution_count": null,
   "metadata": {
    "id": "Ybr0GbkqX9Xv"
   },
   "outputs": [],
   "source": [
    "r = smp.Matrix([x,y,z])\n",
    "l = smp.Matrix([f,g,h])\n",
    "dldt = smp.diff(l)"
   ]
  },
  {
   "cell_type": "markdown",
   "metadata": {
    "id": "IDuhwO2VYBHt"
   },
   "source": [
    "Define integrand"
   ]
  },
  {
   "cell_type": "code",
   "execution_count": null,
   "metadata": {
    "id": "ySVuGqTUYEJK"
   },
   "outputs": [],
   "source": [
    "dBdt = I * dldt.cross(r-l) / (r-l).norm()**3"
   ]
  },
  {
   "cell_type": "code",
   "execution_count": null,
   "metadata": {
    "id": "YqECV-NWYFYO"
   },
   "outputs": [],
   "source": [
    "dBdt"
   ]
  },
  {
   "cell_type": "markdown",
   "metadata": {
    "id": "7TyMiabSYHbu"
   },
   "source": [
    "**Part 2**: Find the magnetic field a distance $H$ above a ring of radius $R$ flowing clockwise"
   ]
  },
  {
   "cell_type": "code",
   "execution_count": null,
   "metadata": {
    "id": "hvdiGl44YGpF"
   },
   "outputs": [],
   "source": [
    "R, H = smp.symbols('R, H', real=True)"
   ]
  },
  {
   "cell_type": "code",
   "execution_count": null,
   "metadata": {
    "id": "_4v1mZKxYKLp"
   },
   "outputs": [],
   "source": [
    "dBdt = dBdt.subs([(f, R*smp.cos(t)),\n",
    "                  (g, R*smp.sin(t)),\n",
    "                  (h, 0),\n",
    "                  (x,0), (y,0), (z,H)]).doit()\n",
    "dBdt.simplify()\n",
    "dBdt"
   ]
  },
  {
   "cell_type": "markdown",
   "metadata": {
    "id": "8gsb2EGaYNLu"
   },
   "source": [
    "Find magnetic field"
   ]
  },
  {
   "cell_type": "code",
   "execution_count": null,
   "metadata": {
    "id": "aCS8fiVdYLLg"
   },
   "outputs": [],
   "source": [
    "mu0/(4*smp.pi) * smp.integrate(dBdt, [t,0,2*smp.pi])"
   ]
  },
  {
   "cell_type": "markdown",
   "metadata": {
    "id": "BnKwnxP2YaMP"
   },
   "source": [
    "## Derivadas Direccionales/ Parciales"
   ]
  },
  {
   "cell_type": "code",
   "execution_count": null,
   "metadata": {
    "id": "Z1zjz7gDYdva"
   },
   "outputs": [],
   "source": [
    "x, y, z = smp.symbols('x y z')"
   ]
  },
  {
   "cell_type": "markdown",
   "metadata": {
    "id": "bXM-ryhqYhZh"
   },
   "source": [
    "###Derivadas Parciales\n",
    "$\\partial f / \\partial x$ and $\\partial f / \\partial y$ of $f(x,y)=y^2\\sin(x+y)$"
   ]
  },
  {
   "cell_type": "code",
   "execution_count": null,
   "metadata": {
    "id": "swb7B51DYg0y"
   },
   "outputs": [],
   "source": [
    "f = y**2 * smp.sin(x+y)\n",
    "smp.diff(f,x)"
   ]
  },
  {
   "cell_type": "code",
   "execution_count": null,
   "metadata": {
    "id": "nqXjussvYoqd"
   },
   "outputs": [],
   "source": [
    "smp.diff(f,y)"
   ]
  },
  {
   "cell_type": "markdown",
   "metadata": {
    "id": "wBy4-LWRYqoz"
   },
   "source": [
    "Or more complicated things like $\\frac{\\partial^3 f}{\\partial xy^2}$"
   ]
  },
  {
   "cell_type": "code",
   "execution_count": null,
   "metadata": {
    "id": "6UICrO9AYth-"
   },
   "outputs": [],
   "source": [
    "smp.diff(f,y,y,x)"
   ]
  },
  {
   "cell_type": "markdown",
   "metadata": {
    "id": "HlNiGZG6YwpK"
   },
   "source": [
    "## Regla de la cadena"
   ]
  },
  {
   "cell_type": "code",
   "execution_count": null,
   "metadata": {
    "id": "RZj31SOAYuxF"
   },
   "outputs": [],
   "source": [
    "t = smp.symbols('t')\n",
    "x, y, z, w, v =smp.symbols('x, y, z w v', cls=smp.Function)"
   ]
  },
  {
   "cell_type": "markdown",
   "metadata": {
    "id": "9mBMsPdjYzqa"
   },
   "source": [
    "* Suppose $x$, $y$, and $z$ are functions of $t$ \n",
    "* $w$ is a function of $x$, $y$, and $z$. i.e $w=w(x,y,z)$\n",
    "\n",
    "Find $dw/dt$"
   ]
  },
  {
   "cell_type": "code",
   "execution_count": null,
   "metadata": {
    "id": "6OdyQcJ3Y190"
   },
   "outputs": [],
   "source": [
    "x = x(t)\n",
    "y = y(t)\n",
    "z = z(t)\n",
    "w = w(x, y, z)"
   ]
  },
  {
   "cell_type": "code",
   "execution_count": null,
   "metadata": {
    "id": "MgePWTb8Y4L0"
   },
   "outputs": [],
   "source": [
    "w"
   ]
  },
  {
   "cell_type": "markdown",
   "metadata": {
    "id": "b4Qiqo-sY745"
   },
   "source": [
    "Can keep things in a more functional form:"
   ]
  },
  {
   "cell_type": "code",
   "execution_count": null,
   "metadata": {
    "id": "cH87eu5HY4e9"
   },
   "outputs": [],
   "source": [
    "smp.diff(w,t)"
   ]
  },
  {
   "cell_type": "markdown",
   "metadata": {
    "id": "vNTELEvtY__n"
   },
   "source": [
    "Or put in specific functions:"
   ]
  },
  {
   "cell_type": "code",
   "execution_count": null,
   "metadata": {
    "id": "vjo2GVtNY-K1"
   },
   "outputs": [],
   "source": [
    "w1 = x**2+smp.exp(y)*smp.sin(z)"
   ]
  },
  {
   "cell_type": "code",
   "execution_count": null,
   "metadata": {
    "id": "Mz8UvIdlZGfx"
   },
   "outputs": [],
   "source": [
    "w1"
   ]
  },
  {
   "cell_type": "code",
   "execution_count": null,
   "metadata": {
    "id": "d9Qql54hZClp"
   },
   "outputs": [],
   "source": [
    "smp.diff(w1,t)"
   ]
  },
  {
   "cell_type": "code",
   "execution_count": null,
   "metadata": {
    "id": "1FNtWpV0ZDiY"
   },
   "outputs": [],
   "source": [
    "w1 = x**2+smp.exp(y)*smp.sin(z)\n",
    "smp.diff(w1,t).subs([(x, smp.sin(t)),\n",
    "                    (y, smp.cos(t)),\n",
    "                    (z, t**2)]).doit()"
   ]
  },
  {
   "cell_type": "markdown",
   "metadata": {
    "id": "R5Yu6w68ZKYV"
   },
   "source": [
    "## Integrales Multiples"
   ]
  },
  {
   "cell_type": "markdown",
   "metadata": {
    "id": "uRvpQtBqZMsy"
   },
   "source": [
    "In rare cases these can be done symbolically:\n",
    "\n",
    "$$\\int_0^1 \\int_0^{1-x^2} \\int_3^{4-x^2-y^2} xdzdydx$$"
   ]
  },
  {
   "cell_type": "code",
   "execution_count": null,
   "metadata": {
    "id": "KvvNXdRDZFR6"
   },
   "outputs": [],
   "source": [
    "x, y, z = smp.symbols('x, y, z')\n",
    "f = x\n",
    "smp.integrate(f, (z, 3, 4-x**2-y**2), (y, 0, 1-x**2), (x, 0, 1))"
   ]
  },
  {
   "cell_type": "markdown",
   "metadata": {
    "id": "nyiIfks9ZR9Y"
   },
   "source": [
    "### Mecánica Lagrangiana."
   ]
  },
  {
   "cell_type": "markdown",
   "metadata": {
    "id": "Xe2o3fULZVWF"
   },
   "source": [
    "The (simplified) idea of Lagrangian mechanics is the that kinetic energy and potential energy of a system can be expressed in terms of generalized coordinates and velocity\n",
    "\n",
    "$$T = T(q,\\dot{q}) \\hspace{20mm} V=V(q,\\dot{q})$$\n",
    "\n",
    "where $q$ could be xyz of a point particle, or some angle $\\theta$ (pendulum), or whatever makes the problem easiest to solve. The defining $L=T-V$, the following equation gives the equations of motion $q(t)$\n",
    "\n",
    "$$\\frac{dL}{dq} - \\frac{d}{dt}\\frac{dL}{d\\dot{q}} = 0 $$\n",
    "\n",
    "for all the different $q$'s of the system. The equation above gives a second order differential equation for all the different $q(t)$s."
   ]
  },
  {
   "cell_type": "markdown",
   "metadata": {
    "id": "azSVY0elZaim"
   },
   "source": [
    "**Example**: Find the equations of motion (in the form of differential equations)"
   ]
  },
  {
   "cell_type": "markdown",
   "metadata": {
    "id": "hsH9nXdjaIe5"
   },
   "source": [
    "![symp_tut_p1.PNG](data:image/png;base64,iVBORw0KGgoAAAANSUhEUgAABZgAAAQ/CAYAAACZw4kmAAAAAXNSR0IArs4c6QAAAARnQU1BAACxjwv8YQUAAAAJcEhZcwAAGdYAABnWARjRyu0AAP+lSURBVHhe7N0J3FRj/8dxCqW0Ka3KXpElWyJxZ8tejyURiVCyL39lLYlHm6zZUvZ9LVvEHbIVsocoFW0qUUrh+f39LnPdzn26ZubMzJmZc58+79fr96J7zjr3PHNc367nd60jAAAAAAAAAABkgYAZAAAAAAAAAJAVAmYAAAAAAAAAQFYImAEAAAAAAAAAWSFgBgAAAAAAAABkhYAZAAAAAAAAAJAVAmYAAAAAAAAAQFYImAEAAAAAAAAAWSFgBgAAAAAAAABkhYAZAAAAAAAAAJAVAmYAAAAAAAAAQFYImAEAAAAAAAAAWSFgBgAAAAAAAABkhYAZAAAAAAAAAJAVAmYAAAAAAAAAQFYImAEAAAAAAAAAWSFgBgAAAAAAAABkhYAZAAAAAAAAAJAVAmYAAAAAAAAAQFYImAEAAAAAAAAAWSFgBgAAAAAAAABkhYAZAAAAAAAAAJAVAmYAAAAAAAAAQFYImAEAAAAAAAAAWSFgBgAAAAAAAABkhYAZAAAAAAAAAJAVAmYAyNH//vc/U7lyHcf+zFsuS5YskXfeeUdGjRol5557rhxyyCHSpk0badWqlTRr1kw22mgjWXfddWX99deXevXqmZ/rNuedd57Z5/PPP08cKbh01+R9PdV2fgsXLpTbbrtNdtllF6lZs6b558knnyx9+vRJbAEAAAAAAKKCgBkAcpRJeJqK6zj2Z/7666+/ymrp0qUmIH7uuedk6NChcuqpp8p+++0nrVu3lhYtWkiTJk2kevXqZQHzxhtvLM2bN5cOHTpIz549zT4TJkyQOXPmyG+//SarV68250jHez0u3tdTbWf98ccf8uuvv5p7ufbaa00IrgHz7rvvbq5Tg3MAAAAAABAtBMwAkKMg4WkQruMkO/aKFSvkm2++kbFjx8pNN90kV1xxhfTu3VuOOuoo2WuvvUyw3LRpU2nQoIHUrl1bqlSpYgLmypUrm7BZf67btGvXTv7zn//ImWeeaULdp556SqZNmybLli1Le0/22pJt53091XbWL7/8IhMnTpRhw4ZJp06dpH79+uZa27Zta67vkksuSWwJAAAAAACigoAZAHIUJDwNwnUc1890pq/ONn700UflhBNOMEFxw4YNTWiss5Nr1KghG264oQmVdcayhsqVKlUyAbP+U/+8wQYbmG10hnCtWrVMC41NN91Uunbtao777bffmtnMqdhr81+f5X091XbWzJkzTcitAXmdOnVknXXWMQGzzrTu27evXHfddYktAQAAAABAVBAwA0COgoSnQaQ6zp9//mkC3x9//FE+/vhjefrpp+WCCy4w4bIGsUFKA2Yt12u2ttlmG3Pcxx9/3LSq0JYVydjrTXbN3tdTbadWrlwpr7/+upx44olmxrW9Hg3Mu3TpIiNHjpTHHnsssTUAAAAAAIgKAmYAyJErSPWXS7LXXdtr+4hPP/3UBMv9+/c3rTC23357M/PYGxCnqiABc9WqVWW77bYzM5nvvvtu+eqrr0yw7bpGb+Vi/vz5MmnSJNMLeu+995b11luv7Ho222wz6devn7z//vsya9asxB4AAAAAACAqCJgBIEf+sDVZeaV73Utf037LjzzyiFx88cWyxx57mPYX3mBYywbI3nK95t0nWdWrV88sFvjss8/K9OnT15jJHPTa0/n999/lvffek+HDh5tQe8sttyy7Rm3hoe0yNOhONZMaAAAAAAAUDwEzAOTIH7YmK690r1sawM6ePdsEvdq6Yt999zVtI/yBsDdA9pbrde9+3tf9P9t5553l7LPPlgceeMAE3C6prj2IuXPnyoMPPijdunWTbbfd1vSG1nNrX2gNl/WetXUGAAAAAACIJgJmAMiRNyROVV7pXlfal3jGjBny0ksvyWWXXSZt2rQxwas/CNbyBsjecr3u3S9V6QKBTZs2NX2RX375ZRN2+yW79iC07ceUKVPkiiuukFatWpU7d+vWreWqq64y9/7999/LX3/9ldgLAAAAAABECQEzAOTIGxKnKq90r6t58+aZYPfaa6+VQw45JGm4bMsbIruC5GQ/95d/G51ZPGTIEPnss8/k559/llWrViWuMDsaFi9YsMCEy/fcc4/85z//kWrVqpWdT//9mGOOMbO29T3QYJuAGQAAAACAaCJgBoACCxIur169Wj788EO55pprZP/995dNN920XOirFTQwdpXd1+7v/af9d1u1a9eWjh07msUFdUbxwoULE1eZnSVLlsgbb7xhgvPOnTtLs2bNys5VvXp12XXXXc2s5qlTp8qff/5p9nG9RwAAAAAAoPgImAEgC8mC4VTsPq6ydKauzhDW3sRPPPGEHHHEEeVm9/rLFQinK7tPsvJvX7lyZXMN2223nfTt29cE3xqAZ2Pp0qXy8ccfy4033ijt27eXqlWrlp2nRo0apg1Ir1695KGHHpI5c+Yk9gIAAAAAAFFFwAwAWXCFw+l49/GX9ccff8jMmTPL+i5rewpv2BuktHfyhhtuaGYDazCs/66L52lQ7No+VXkDZz2uzmS+7bbb5O233za9kbWPcrr2FRpG66xlXSjwtddek9tvv930dd5kk03KnatFixbSs2dPGTVqlHzwwQeyfPnyxBEAAAAAAEBUETADQBZc4XA63n1saTir/7Q0YB4/frycd9550q5dO9l4443LhbDpSgNh3WezzTaTrbbaSrbYYguzUF+9evVM0OzaJ1X5ZzQ3adJE9ttvPznnnHPkgQcekE8++cSEzKloH2VtiXHXXXfJ2WefbfbffPPNywXeen0aXmv4PG3aNFm2bBl9lwEAAAAAqAAImAEgCzYgzoTdx1XW4sWL5eabb5bddtvNzECuVKlSuYDXXxoAa1CrM5S1xYSGybrvgQceKIceeqgcfPDBJtDdfffdzQzhhg0bmlnNNjjW43vLHyjrn+3P7D/XW289ad68ufTu3Vsefvhh0/JCW1946T1pWP7TTz/Jm2++KSNGjJDu3btLq1atzP72+Dorun79+qY1xvnnny9vvfVW4ggAAAAAAKAiIGAGgCz4g+Gg7H7+fTWM1ZD2vffeM0Fr48aNy0JYf+lMZF30b6eddjILAB599NGm5cRpp50mF1xwgQwcOFCGDx8uN910kwl2hw4dan7Wr18/Offcc812uv1xxx1n9j3kkEPMbOkddtjBzHyuU6eOCaxd57ZVpUoVEwqfeuqpMmDAADPzWPsmP/744/LYY4/JI488YmY4azsNPa+eZ5dddpFatWqVO46eZ4899pCLL77Y9Jz2913O9n0GAAAAAACFQcAMADnKJgT1b79gwQJ55513ZOTIkdK5c+c1glhvaZuKAw44wLSpuPPOO+Xll182wbS2q/jqq6/k22+/lRkzZphezlrfffedTJ8+3bz25Zdfyueffy4fffSROZ+243jwwQflv//9r5mRrLOet99+e9OywnVub+mMab2Wrbfe2iwA2Lp1a2nbtq1ZvE8Da51JrcfSVh2NGjUy9+SdvWyP0aNHD3nllVfMe6ALHHrZ9zab9xgAAAAAAOQfATMA5Cib8NO/vfYd1h7FOrtYg1rvDGLbAqN27dqmNcXhhx8ul1xyiZkh/Omnn5p+xdnShfQ0gH799dflnnvukSuvvFJOOukkMzNaZzRryw1djK9u3bqmt7OGxBtttJGZwewNijMtbcehx9l1111l2LBhMnfu3MQVrRkqewsAAAAAAEQLATMA5CjT8NO1vc4mPvPMM02P4po1a5YLYzXM1fYSOsNYW19oKwqd8aszkZcsWZI4QvY0oJ49e7ZMnTpVSktL5emnn5bRo0fLjTfeKNdcc41pX6HB9zHHHGN6O2s/Z52V7L/OTEpnSGtrDm2voeH2b7/9lrgaAmYAAAAAACoSAmYAyFGm4adr+3Hjxsm+++67RhCrC+vpLOJevXrJxIkT5eeff5aVK1eaQFbbSfz5559ZB6+6319//WWOsXr1avn999/NsVesWCG//vqrCa9//PFH03rjxRdfNDOsr776ahN0H3HEEbLzzjubXtEaNFetWtXMtPZfv70Hu0CgLd1Xe0NPmTJFFi5caHpQW/b9cRUAAAAAAIgWAmYAyFGu4aeGxqNGjTJ9jL0hrLaj0IX8unXrJvfee68JYsOQ6fVq8Pz999/L+++/b4Jwnd18/fXXm8UItZ3GscceK0cddZQcdthhpv/yjjvuKM2aNTMtMLz3o6WzsbfYYguzOOBLL71k7t3PXp+rAAAAAABAtBAwA0AWwgg8dQbyTz/9ZGbxDhw40PRX9oax+uf/+7//M0GsLtbnXwDPxRvGBqkgdDudMb1o0SKZM2eOfP3112ZW87vvvmtmVb/xxhvy1ltvmbYd999/v7mXrl27yjbbbFPufrTvsvZcPuuss8x2ehydPQ0AAAAAACouAmYAyEImAW0y2vv4iy++kCeeeEL69Okjm2++eVkYqzN9DzroIHnqqafMDGI/1/ntz8KqTGmbC12s8NFHHzWzm3WRQG/A3KRJE+nZs6c89thjpn/0L7/8ktjzH9mcEwAAAAAAFBcBMwBkIdsQ1kt7HOsM4GHDhsmRRx4pNWrUMEGs9jPebbfd5KKLLpLJkycnti7PdX77s7AqU9q3WWdb66zrDh06SO3atc39bLDBBmbxwhNOOMH0cf7ss89k6dKla8xezuacAAAAAACguAiYASAL2YawXtoeQ3sa9+vXT/bee++yRfK0F/O5554rDz30kHz77beJrf9lz+0/v/fnYVRQuu3ixYtNmwwNl1u2bFk2a9nez3nnnScPPvigfPzxx2vMXFaZnhMAAAAAAEQDATMAZMEGormEojqDecKECTJkyBCzUN5WW20lm222melfPGbMGPnggw9McOuX7Nzen4dRQaxevVpmzZpl7mPo0KGy3377lQuXGzVqJMcdd5w88MADSdtiZHpOAAAAAAAQHQTMAJCFTILRZK+vWLHChLPvvPOOjB492rTE0JnLd999t1lETxfVcy3sF/S8Lt5901U6Gi7PnTtXnn/+ebngggukXbt2stFGG5WFy7rIn4blN998s3z00UcmXPYfN9257OvptgMAAAAAAMVBwAwAWfAHn8nCz2Sve/+si+Np0FxaWmp6GOtMXw2fk0l2zKC8+6eqVDT41nB50qRJMmDAgDUW9GvcuLF069ZNbr/9dnn33XfNbG0r6Hn826XaFgAAAAAAFAcBMwBkIWj46Xrdtb0Gtj/88IPMmDHDLICXiuuYmfDun66S0XBZw/BrrrlGDjzwQLOQnw2XGzRoIAcffLAMHz7czM6eP3++/PXXX4k91zx/Mv7tUm0LAAAAAACKg4AZALIQNPxM9rrrzzprefny5ab1RCrJjhmUd/905aLXOXnyZLM4YevWraVq1apl4XKTJk2kU6dOMmjQIHnjjTdMD2lvuKyCnEP5t0u1LQAAAAAAKA4CZgDIQtDwM9nr3p/7X0sn2/0s7/6pyk+Dbw2MP/vsMxk1atQaC/rVqVNHOnbsaMJlnd2ss5y9XOfQSiaTbQEAAAAAQHEQMANAlnIJQIPsl+q1MLiOneyc2if6xx9/lPHjx8vAgQPlyCOPlHr16pWFy3Xr1pX27dvLFVdcIa+88orpKf37778n9v6HPbY9vus8Xt7tbQEAAAAAgGghYAaAHLmCUFvJpNvW9botL9fPvNK97ufaXmcuL1iwQN5++2258sorZaeddpL11luvXLhcUlIiF154oTz77LOm57Jfpteh7D7eAgAAAAAA0ULADAA5cgWhtpJxbRu0vJL93Er1WhAaLuts5FdffVWGDRsmBx10kFSqVKksXK5Zs6bsueeectFFF8nDDz8s06ZNS+z5Dz239mDO5jrsPt4CAAAAAADRQsAMADlyBaG2knFtG7S8kv3cSvVaOn/++aeZuaxtMS6++GLZa6+9pFatWmXhcvXq1WXXXXeVs846S55++mn57rvv5Lfffkvs/Q/v9WV6Hf59M90fAAAAAADkHwEzAOTIFYTaSsa1bdDySvZzK9VrqejM5Xnz5sm7774rgwcPlt13370sWNaqUaOGCZdPPfVUGT16tMycOTOx5z+81+WtTOS6PwAAAAAAyD8CZgDIkSsItZWMa9ug5eX6meXdx7VNsp+vWLHCzEZ+/vnnzYJ+hx12mAmUbbi88cYbS9u2bc3MZQ2XP/jgA7OPl/e83spUrvsDAAAAAID8ImAGgBylCz+9AWmq7ax02yZ73fvzTMpr1apVZjbyCy+8IBdccIHsvPPOUq1atbJwuU6dOrLvvvua15566imz7cqVKxN7/8t1Hq1k0r0OAAAAAACiiYAZAHIUNDz1Vjqptkt2HO/Pg5SfzkL+9ttvTbh8zTXXSLt27cqCZa3atWubn2m4/OCDD8r06dMTe7oFOaeV7nUAAAAAABBNBMwAkKOg4am30km1XbLjeH+eqv7666/EHv/66aefTKuLe++9V84++2zZZ599yrXFaNSokRx44IFy6aWXyjPPPCPTpk2T5cuXJ/Z2c507mXSvAwAAAACAaCJgBoAcBQ1PvZVKuu2Sve79ebry0qB48uTJcuedd8opp5wiLVq0kEqVKpWFy3Xr1jV9mK+++mp56aWXZO7cuYk9U0t3Xq90rwMAAAAAgGgiYAYQCzYMLYZ0Aar39VTbWem2S/a69+fJymv16tWycOFCee+992TkyJHSs2dP2WmnncreS60GDRrI/vvvL/3795dx48bJjBkzEnv/y3Vs5T1vsm1UutcBAAAAAEB0ETADiIWoBMz+8kr2c7902yV73ftz/+v+P6vZs2fLc889Z/otH3XUUdKyZUvZYIMNyt7LZs2ayTHHHCPXXXedvPrqqzJnzhz5/fffE3v/y3s+byXj2jZoAQAAAACAaCFgBhALBMzu6/Dy/lkX9Hvttdfk8ssvl44dO0rTpk3L3kOtOnXqyBFHHCE33HCDlJaWyvz58xN7uvnP6z2Xl2u7TAoAAAAAAEQLATOAWCBgdl+H3x9//CEzZ86U8ePHm57KBx988Brh8lZbbSWdOnWSwYMHy8SJE83MZd0vlSDnVq7tMikAAAAAABAtBMwAYoGA2X0dfvPmzZOHH35Yzj77bNl3332lSZMm5cLlzTffXE477TS5++67TW9m7dH8559/JvZOLsi5lWu7TAoAAAAAAEQLATOAWCBgXvM6LP13DYkXLVokr7zyilxwwQXStm1bqVu3brlwuX79+mbm8h133CEfffSRLF68OHGEf/iP62Vf85aLa7tMCgAAAAAARAsBM4BYIGBO/nNdmG/KlCkmOO7du7fstddesskmm5QLl3fccUczc/n222+XyZMnmzDaP3PZdWzLe+5Mt8ukAAAAAABAtBAwA0COXEGoLa9kP/dLt12y170/8772/fffyy233CIHHXSQaYFRs2ZNWXfddcvC5UaNGpng+dlnn5WvvvpKli5dmtiz/LlsueSyXSYFAAAAAACihYAZAHLkCkJteSX7uUuq7YIeZ8mSJfLxxx/LfffdJyeeeKI0a9as3KzlqlWrSvPmzaVLly4yevRo+eabb2TFihWJvf/lPV+yc/q3Sbadcm0btAAAAAAAQLQQMANAjlxBqC2vZD9PxbtPqnJ5//33pX///nLIIYfI1ltvLdWqVSsLl3UGs/Zhvvzyy+Wpp56SL774QpYtW5bY81+uc9nycr3uqkzkuj8AAAAAAMg/AmYAyJErCLXlleznqXj3SVVe+ucff/xR7r77bikpKZGNNtqo3MzlypUry5Zbbilnn322TJgwQRYsWCCrV69O7P0v/zn85eV63VWZyHV/AAAAAACQfwTMAJAjVxBqyyvZz1Px7uMqv19//VXeffddGTlypJxwwgnStGnTcuFynTp1ZN9995ULL7xQnnjiCdOf2b+Yn+U6n7e8XK+7KhO57g8AAAAAAPKPgBlALOhMXa1icAWhtryS/TwV7z7+cvn6669l0KBB0r59e7N4n/ZZ9gbMu+66qwwZMkQmT54s8+bNk99++y2x55pc5/SWl+t1V2Ui1/0BAAAAAED+ETADiAUboBaDKwi15ZXs56l490m2r7a3WLp0qQmX77//fjnyyCOlZs2aZe/JeuutJ7Vr15YddthBzjrrLHnttdeci/m5uM5vy8v1uqsykev+AAAAAAAg/wiYAcRCMQNmK5NANMh2/m2Sbffzzz/L+PHj5bLLLpODDz5YNt1007L3Q2uTTTaRzp07yw033GDCZe3P7DpWsp/5y8v1urdyEfbxAAAAAABA+AiYAcRCRQ+Y/du6Xtfy0j+vXLlSPvvsM+nfv7+0bNlS1l133bL3Qv9dF/jbc8895cYbbzT9lu0xvP/0l1eq15T/dW/lKh/HBAAAAAAA4SJgBhALcQ+YXebOnSuvv/66DB8+XDp27CgbbLBB2fuw/vrry5ZbbimHHnqoXHnllfLmm2/KX3/9ldjzX/7z+M+VyWv+ylU+jgkAAAAAAMJFwAwgFta2gPn333+XN954Q8477zzZbbfdpE6dOmXvgVbDhg3l2GOPlTFjxsinn34qixcvTnsOW16ZvOavXOXjmAAAAAAAIFwEzABiYW0JmLUlxpIlS0xbDG17sfvuu5cLlrUlxuabby4HHHCADBkyRL755pvEnuX5j+8tr1SvKf/r3spVPo4JAAAAAADCRcAMIBZKS0tNFVPQQNS1nZbl/7P1559/ypw5c+T55583PZd1Qb/atWuXhcvVq1eXnXbaSc444wy5++67ZfLkybJs2bLE3sl5ryHZucMS9Nj+67EFAAAAAACihYAZAEKSLhB1ve4ty/9n9ccff8iiRYtk4sSJcsEFF8h2220nVatWLQuXq1WrJs2bN5fu3bvLs88+a2Y5Z8J7Ha7zZ8N1TK0gXPtpAQAAAACAaCFgBoCQpAtEXa97Kxlti/Hdd9/JSy+9JIMGDZK9995bKlWqVBYub7zxxrLLLruYcHnkyJFmW690x1fe6wiyfRCpjqmBuc6u1t7Q8+bNkx9++EEWLlwoK1asSGzxj2T7AwAAAACAaCBgBoCQ+MNQfyDqet1bySxYsECefPJJOeWUU2THHXc0rTBsuKyL+2kfZp3V/Nxzz8n06dPNAoBe6Y6vvNcRZPsgUh3vl19+kWnTpslbb70lY8eOlSeeeEJeffVVmT17dmKLf6Q6BgAAAAAAKD4CZgAIiT8M9Qeirte95adBsc7qfeedd6Rv377StGnTsmBZq169eiZc7tmzpwmgly5dmtjzX8mO7ee9jqD7pJPqeBokjxs3Tm666Sbp16+fnH/++XLDDTfI1KlTE1v8I9UxAAAAAABA8REwA4iFAQMGmCq2dIGo/3VbfsuXL5evvvrKzOy97LLLpF27duXCZW2LoT+78MIL5cEHH5Svv/46see/Uh3fz7tt0H3SSXY8XaxQFyAcOHCgHHXUUbLHHntImzZtTFA+YcKExFb/SHYMAAAAAAAQDQTMAGLBBq+F4g8+Mw0/U+2rfYhnzpxpwmXtq7zFFluU67lcq1Yt2W233eTcc8+Vl19+2bTQ0NDWL9nxXbzbBt3Hy7W/Lcv+u7bHeOqpp+SII44wLT70nipXriz77LOP+blXsmMBAAAAAIBoIGAGEAsVNWD204XvdOay9lO+5JJLpEWLFmX3pqVtMdq2bSunn3663HffffLjjz8m9nQLem12O29lwrW/LUsX9vv111/lyy+/lOHDh0urVq3K3dvOO+8sjzzySGLrfyQ7FgAAAAAAiAYCZgCxYEPKQvEHn5mGn67tV65cKd98843ce++9cuqpp5rAdf311y+7N525rO0kLr74YnnmmWdMEL1q1arE3m5Br81u561MuPa3ZenMbA2XH3vsMTnzzDPX6Cm97777MoMZAAAAAIAKhoAZQCzYkLJQ/MFnpuGnf/vffvvNtMV4/vnnzezkRo0alQtftZXELrvsIqeddpo8++yzzgX9XIJem93OW5lw7W/LWrJkibzwwgty6aWXyoEHHiibbLKJubd1111XmjRpIl27djUtP7ySHQsAAAAAAEQDATOAWLBBbKH4g89cwk+dhayL9GnP5b59+8quu+5adj9aNWvWNIvg9enTR0aPHm1mOXslO7/32lyv+2W6vZd/X29ZP/zwg4wcOdL0Xta+0htssIHpLa1Bsy5YqDOz33777cTW/0h2LAAAAAAAEA0EzABiodABsxUk/PRu49pu8eLFpudyjx49TM9lDV7t/WiLDP1Zr169ZNy4cTJr1iz5/fffE3v+w3/8VJWpdPv7X/eWfd2aNm2a9OvXT7bccsty97fDDjuYliB33HGHfP7554mtAQAAAABARUDADCAWBgwYYKoYvIGqi33dv53OXP7pp59kypQpMnDgwDUW9NOZy/qzzp07y5133inz589P7Jk62E1XmUi1r/81b1n676tXrzb3qe0vjjvuuHJ9patVq2baZQwePFheffVVM8sZAAAAAABUHATMAJAjf6jqZV9zvb5w4UIZP368XH311XLQQQfJhhtuWBa86r/vtNNOph/z3XffLR999JH89ddfiT3/Oa7+2Xv8oJWJVPu7XrPX5KWzrnXxPm2BoX2k7T1qaYh+0kknmd7Tut3y5cvX2B8AAAAAAEQXATMA5MiGqy7JXtMg9pNPPpHLL79cWrduLdWrVy8LXbVFhraROOGEE+TJJ5+UBQsWrHEMe9xsKhOp9vW/pqX35Q3CVWlpqWmBsd1220mtWrXMon72XuvXry+XXHJJub7SehwAAAAAAFAxEDADQI5suJqM9zVtF7Fo0SL59NNPzYJ9Bx98cLmey3Xq1DEzl7WVxM033ywzZsxI7BmcvZ5klYlU+yb7ufXnn3+a67/xxhvNwoWVK1cuu0+tqlWrmnB9xIgRsnTp0sRe6d9PAAAAAAAQHQTMAJCFbEPQX3/91czo7d+/vxx66KGy6aablgWu9erVkz333NPM6H3xxRdz7kdsr9FfQaTaLsixVqxYIa+//rpcd911csQRR0jDhg3Lhcs6k3nHHXeU7t27y+OPP25aY3gFvU4AAAAAAFBcBMwAYkFDW61CSRew+um2uqiftoIYOnSomdHrXeyuRo0a0rJlSzn22GPloYcekl9++SWxZ27sdXornXTbBTmO3udVV10lbdq0kU022aTcLG2tLbbYwrQA0dnLb7/99hoBMwAAAAAAqBgImAHEgg0uC8WGrOmCVmvZsmVmob577rnHtL/YeOONywWutWvXNj2KO3XqJIMHD5bXXntNpkyZYmYB6wJ4L730kvnZm2++aQLZyZMnmx7OX3/9tcyZM0d+/vln034jDJncl5eGxHPnzpUPPvhAbr/9djnssMPWuE9bGjwPGjTI/KXA7NmzTfgOAAAAAAAqHgJmALFgg8tCSRcw+3+uIeoNN9xg2mLoAn5VqlQpF7jWrFlTttpqK9l9993lgAMOMEHzkUceKfvvv7/su+++0rFjRzO7uUePHtKnTx/TRuP66683gfULL7xgejovWbIkcbbcpLqvZP744w/59ttvzexrvb6SkhJp2rTpGjOXtTbccEPTNuOZZ54xwTgAAAAAAKi4CJgBxIINLwsl0xB24sSJcuKJJ0rdunXNda677rpl16xVvXp1ady4sWy22WZSv359E8J6X69UqZJZALBZs2ay7bbbyh577GFC2l69esk111xjgt133nnHhLwLFy40M6ZXrlxpeiH//vvvZoawLrr3119/Ja4oO3rPGibrbGk9ps5aXrBggUybNk2effZZOeuss6R58+YmQPffoy7yp/epr5933nny8ccfJ44KAAAAAAAqKgJmALFgQ8xCCRouz5s3z4TL1157rQmFNSj2hq7e0gBWy/Wat3RWsAbVOhNaezkfdNBBpp/xueeea/oeDxs2TO6++2554oknZMKECfLhhx/K999/L0uXLs14ZrKf7v/TTz/JF198YVp2aLB94403ypVXXmlmV+sM7I022sh53dpzWhf20+3GjBljWnt45XptAAAAAACg8AiYAcSCDTGjRGcOa8B76aWXmhYXTZo0KRe4piqd/athdLJAWl/XoLlatWqmvYbObq5Xr55pS6G9nPfee2/p2rWr9OvXT+644w555ZVX5KuvvjIhcy508UHtJf3www9L3759zSzqXXbZRTbffHPTb7lq1apJQ/JatWqZa7r33nvNMfzXQsAMAAAAAEDFQ8AMIBZsiBkV2opi+vTpctNNN5lwWVtb+NteaGlArLORtT2GhrQtW7Y0gW27du1M72XtZdy+fXuzKN72229fFuTqbGD/sbxVo0YN04riwAMPlJ49e5o2Gjpr+MUXX5T33ntPPv/8cxM46yKBep0zZ86UWbNmmV7R+k+d8fzdd9/JN998Y7bRFhg6E1r7Pd92221ywQUXmF7Ryfos+2u99daTHXbYQQYMGGAWL9R+0d5FCTVcJmAGAAAAAKDiIWAGEAsaxGpFgfYl1vBWW1ScdtppZvG+ZIGwBrR63SeddJKZbTx8+HAZNWqUmSH85JNPylNPPSWPPvqo3H///SbY1dnQhxxyiOnV7F8o0Fs681lnNm+66aZmRvOee+5pgu6jjz5aTj75ZLMQ30UXXSRXXHGFXHfddSYIv/POO82577rrLhk5cqRZlFCDaZ2pfOaZZ0q3bt3MwoMdOnSQ1q1bm2NrQO46v7c07G7VqpXpQa33Mn/+/MQ79S8CZgAAAAAAKiYCZgAImc781XBZg1mdieyauaxVu3ZtEy5feOGFcs8998jbb79tZhDrAn26IJ+lwau229Dex7qQnwbCGjJvvfXWZtE817FdpW01NOjWfXTWtIbUOqtY22kcdthh0qVLF9PLWdtYHHXUUaa3s/aN1vNoewv/sbx/TlYadLdo0cIcVwNrnb2siwT6ETADAAAAAFAxETADQIh+/vln03dZw2Wd6duwYcNygau2k9CZvxo866xlXfxPw+gPPvhAFixYYFprpLJw4UIpLS2VESNGSPfu3c3M4CCziF2lbSt0lnOjRo1MiKwtOHbaaSezEN+2225r2nFssskmpq+ya/90pb2Y9dg661lnSL/55ptrzF62wTIBMwAAAAAAFRMBMwBkwR+Iaj9hXbROexvffPPNpn+ytobwh646c7hTp05y6623ysSJE+XLL7+UH374weyrs5TThaw6+/e3334zPZK1jcZxxx1nguBks6RTlc4u1hnNGiBvtNFGJmzWmcpaeu0601nbcCRbtM9b/hnNGl5ruK6zo/v37y+TJ082M7P992ffR1sAAAAAAKBiIWAGgCz4A1Htu6xhsc5G7tWrl5m56w1fNcBt0qSJWbBv0KBB8sknn8iqVasSe5cXNHDVxfcGDx4sRxxxhFnQT8/hPaf9Z9B2Fukq6LF0mwYNGsg+++wj55xzjukjrTO7Lb0vnantvU9bAAAAAACgYiFgBoAs+FtZLFmyxASpZ599trRp06ZcWwn9d20/0aNHD7nlllvkrbfeksWLFyf2dAsSuGqorT2NdWE+Pbb2Ona1swgrZA56HJ0BrYsK6gKCL7zwgsyYMWONntIEzAAAAAAAxAMBM4BYsOFmofjDUG1ZcfXVV5sext6ZxNqComnTpmYBvccee0x+/PFHM3M51UJ33gpi7ty5ZpFAncnsapfhD4btn7Mt77H9pW02tC/06aefLuPHj5cVK1YkrvJfrvu0BQAAAAAAKhYCZgCxYAPOQtJAVGfm6uxlDVO7desmderUKbsWXdBPZxUfc8wxcsMNN5gWGi7+kNVbLq6f6yKB119/vRx77LFmgT7tn2yvw1+u0DhoJTuenk/Dbe09fcYZZ5hZ1Rq6eyWbtewtAAAAAABQsRAwA4gFG3YWkgam3333nYwdO1auvPJK2WuvvUyobK9FZ/N27dpVHnroIbP436+//prYc02pglb/a/7XlR77iy++kPvvv1+OP/54E/bqAn32Wmz5A2Nv+bf1VqrXbQsQDbe1J/Srr75q2mLoooVeya7de1/pCgAAAAAARAsBM4BYsGFnIa1cuVJef/11ueyyy6Rjx46y6aablgtit9tuOxO4zpkzJ7FHaq4Q1RuuJnvdS4PdYcOGmevZYostpFq1amXXY8sbKtvyb5Os/NtXqlRJtt56aznuuONk6NCh8s4776wRLAfhv8dkBQAAAAAAooWAGUAs2MCzkBYuXCj33XefHHnkkdKkSZOya6hRo4ZZ5O7cc8+Vl19+OXDg6gpRveGq/3X9d/9ig9rz+O2335Ybb7xRTjjhBNOiwzWTOZdab731pG7dutKyZUvZf//9pU+fPnL77bfLxIkTZf78+Ykr+Zf3mpPx3l+qAgAAAAAA0ULADCAWbPhZKMuWLZNvvvlGrrvuOhO0egPY1q1by8CBA+W1116T2bNny+rVqxN7pQ5bXSGq/Zm3vFw/00UEtf/xmDFjpHPnzmZmdeXKlctdYy6lfaZ33nlns5DfbbfdZlpiTJ8+XX755RfTkzob3vtLVQAAAAAAIFoImAHEgg0/C2Xu3LlmYb0LL7zQzOa1569du7ZpFzFu3DhZtGiRCVy9wWiqoNT1mv2Zt7zsz3Qms38289SpU03QfcQRR8gOO+wgDRs2lI022kg23HBD0ytaZyJr8KxtLmzpn9dff30z61m30+21l7Tel+6vYXpJSYkJl++++26ZMmWKmcntuq5M2PtIVwAAAAAAIFoImAEgC19++aWZodyrVy8TwGq43LhxYzn88MNND2Rd1M8f+KpUQanrNfszb3nZn+m5/K9pwK09kR944AEZNGiQnHHGGXLIIYfIjjvuaK5VQ2MNkHWRPhso673Ur1/fLBKoPaTbtGkjBx54oAnNzz77bHOce+65R1588UX57LPPTLjsnaGdLXsf6QoAAAAAAEQLATMAZOH999+XsWPHSo8ePaRWrVomnN1vv/3MjGENX729iIMGpa7XvPtk8rr9pwbPS5YsMbOZH3/8cenfv7906tRJtt9+e9M3Wmdfa89oDZr1PnSWcvPmzU2wrAsFnnjiidK3b1/TY1nvS4NzPZ6dme0KtrNhrz1dAQAAAACAaCFgBoAs6EJ6zzzzjJx00klm1q8GtNqK4uabb5ZJkybJ0qVLE1v+I0hQ6nrNu0/Q112hr7b0KC0tlREjRsjxxx9veig3a9ZMNtlkExMsa8isvZU1dG7VqpXsvffepn+zztC+9tprTTitLUF0VnQ++O8hWQEAAAAAgGghYAYAAAAAAAAAZIWAGQAAAAAAAACQFQJmALFQUlJiCgAAAAAAAIVDwAwgFtZZZx1TAAAAAAAAKBzSGACxQMAMAAAAAABQeKQxAGKBgBkAAAAAAKDwSGMAxAIBMwAAAAAAQOGRxgCIBQJmAAAAAACAwiONARALBMwAAAAAAACFRxoDIBZKS0tNAQAAAAAAoHAImAEAAAAAAAAAWSFgBgAAAAAAAABkhYAZAAAAAAAAAJAVAmYAAAAAAAAAQFYImAHEwoABA0wBAAAAAACgcAiYAcTCOuusYwoAAAAAAACFQxoDIBYImAEAAAAAAAqPNAZALBAwAwAAAAAAFB5pDIBYIGAGAAAAAAAoPNIYALFAwAwAAAAAAFB4pDEAYoGAGQAAAAAAoPBIYwDEwoABA0wBXueff76MGTMm8ScAAAAAABA2AmYAQGyVlJSYme2tW7cmaAYAAAAAIA8ImAEAsWUDZlsEzQAAAAAAhIuAGQAQW/6AmaAZAAAAAIBwETADAGIrWcBsi6AZAAAAAIDcEDADiIXS0lJTgFe6gNkWQTMAAAAAANkhYAYQCzYoBLyCBsy2CJoBAAAAAMgMaQyAWLABIeCVacBsi6AZAAAAAIBgSGMAxIINBgGvbANmWwTNAAAAAACkRhoDIBZsIAh45Row2yJoBgAAAADAjTQGQCzYIBDwCitgtkXQDAAAAABAeaQxAGLBFQZSVL6KoBkAAAAAgH8QMAOIBZ2puvnmmzvDQIrKVxE0AwAAAADWdgTMAGJjwIABzhCQovJdBM0AAAAAgLUVATOA2CBgpopdBM0AAAAAgLUNATOA2CBgpqJSBM0AAAAAgLUFATOA2CBgpqJWnTt3lp9//jnxCQUAAAAAIH4ImAHEBgEzFZXSBSdHjBhBuAwAAAAAiD0CZgCx4Ar5KKrQRbAMAAAAAFjbEDADiAVX2EdRhSqCZQAAAADA2oqAGUAsuEI/isp3ESwDAAAAANZ2BMwAYsEV/lFUvopgGQAAAACAfxAwA4gFG/wBXiUlJeWC4VyLYBkAAAAAgPJIYwDEgg0AAa+wAmaCZQAAAAAA3EhjAMSCDQIBr1wDZoJlAAAAAABSI40BAMRWtgEzwTIAAAAAAMEQMAMAYivTgJlgGQAAAACAzBAwAwBiK2jATLAMAAAAAEB2CJgBALGVLmAmWAYAAAAAIDcEzACA2EoWMBMsAwAAAAAQDgJmALGgQaIW4OUPmAmWAQAAAAAIFwEzgFiwASLgZQNmgmUAAAAAAPKDNAZALBAww6VHjx4EywAAAAAA5BFpDIBYIGAGAAAAAAAoPNIYALFAwAwAAAAAAFB4pDEAYoGAGQAAAAAAoPBIYwDEAgEzAAAAAABA4ZHGAIiF0tJSUwAAAAAAACgcAmYAAAAAAAAAQFYImAEAAAAAAAAAWSFgBgAAAAAAAABkhYAZAAAAAAAAAJAVAmYAsTBgwABTAAAAAAAAKBwCZgCxsM4665gCAAAAAABA4ZDGAIgFAmYAAAAAAIDCI40BEAsEzAAAAAAAAIVHGgMgFgiYAQAAAAAACo80BkAsEDADAAAAAAAUHmkMgFggYAYAAAAAACg80hgAsTBgwABTAAAAAAAAKBwCZgAAAAAAAABAVgiYAQAAAAAAAABZIWAGAAAAAAAAAGSFgBkAAAAAAAAAkBUCZgCxUFpaagoAAAAAAACFQ8AMIBbWWWcdUwAAAAAAACgc0hgAsUDADAAAAAAAUHikMQBigYAZAAAAAACg8EhjAMQCATMAAAAAAEDhkcYAiAUCZgAAAAAAgMIjjQEQCwTMAAAAAAAAhUcaAyAWSkpKTAEAAAAAAKBwCJgBAAAAAAAAAFkhYAYAAAAAAAAAZIWAGQAAAAAAAACQFQJmAAAAAAAAAEBWCJgBAAAAAAAAAFkhYAYQC+uss44pAAAAAAAAFA5pDIBYIGAGAAAAAAAoPNIYALFAwAwAAAAAAFB4pDEAYoGAGQAAAAAAoPBIYwDEAgEzAAAAAABA4ZHGAIgFAmYAAAAAAIDCI40BEAsEzAAAAAAAAIVHGgMAAAAAAAAAyAoBMwAAAAAAAAAgKwTMAAAAAAAAAICsEDADAAAAAAAAALJCwAwAAAAAAAAAyAoBM4BYKCkpMQUAAAAAAIDCIWAGEAvrrLOOKQAAAAAAABQOaQyAWCBgBgAAAAAAKDzSGACxQMAMAAAAAABQeKQxAGKBgBkAAAAAAKDwSGMAxAIBMwAAAAAAQOGRxgCIBQJmAAAAAACAwiONARALpaWlpgAAAAAAAFA4BMwAAAAAAAAAgKwQMAMAEBKdRT9gwACKoiiKoopc/D/bAAAoHAJmAABCogNa2w+coiiKoqjilT6TAQBAYRAwAwAQEgJmiqIoiopGETADAFA4BMwAYkEHEQwkUGwEzBRFURQVjeK/CwEAKBwCZgCxYAcTQDERMFMURVFUNIqAGQCAwiGNARALdjABFBMBM0VRFEVFowiYAQAoHNIYALFgBxNAMREwUxRFUVQ0ioAZAIDCIY0BEAt2MAEUEwEzRVEURUWjCJgBACgc0hgAsWAHE0AxETBTFEVRVDSKgBkAgMIhjQEQC3YwARQTATNFURRFRaMImAEAKBzSGACxoIMIBhIotqABc0lJSdlnlqIoiqKo4KXPUNez1V+6LQAAKAwCZgAAQqKDWdcg118MegEAyA7PWgAAooeAGQCAkDDoBQAgv3jWAgAQPQTMAACEhEEvAAD5xbMWAIDoIWAGACAkDHoBAMgvnrUAAEQPATOAWCgtLTUFFBODXgAA8otnLQAA0UPADCAW7GACKCYGvQAA5BfPWgAAooc0BkAs2MEEUEwMegEAyC+etQAARA9pDIBYsIMJoJgY9AIAkF88awEAiB7SGACxYAcTQDEx6AUAIL941gIAED2kMQBiwQ4mgGJi0AsAQH7xrAUAIHpIYwDEgh1MAMXEoBcAgPziWQsAQPSQxgCIhZKSElNAMTHoBQAgv3jWAgAQPQTMAACEhEEvAAD5xbMWAIDoIWAGACAkDHoBAMgvnrUAAEQPATMAACFh0AsAQH7xrAUAIHoImAEACAmDXgAA8otnLQAA0UPADABASBj0AgCQXzxrAQCIHgJmALFgBxNAMTHoBQAgv3jWAgAQPaQxAGLBDiaAYmLQCwBAfvGsBQAgekhjAMSCHUwAxcSgFwCA/OJZCwBA9JDGAIgFO5gAiolBLwAA+cWzFgCA6CGNARALdjABFBODXgAA8otnLQAA0UMaAyAW7GACKCYGvQAA5BfPWgAAooc0BkAs2MEEUEwMegEAyC+etQAARA9pDAAAIWHQCwBAfvGsBQAgegiYAQAICYNeAADyi2ctAADRQ8AMAEBIGPQCAJBfPGsBAIgeAmYAAELCoBcAgPziWQsAQPQQMAMAEBIGvQAA5BfPWgAAooeAGUAslJSUmAKKiUEvAAD5xbMWAIDoIWAGEAt2MAEUE4NeAADyi2ctAADRQxoDIBbsYAIoJga9AADkF89aAACihzQGQCzYwQRQTAx6AQDIL561AABED2kMgFiwgwmgmBj0AgCQXzxrAQCIHtIYALFgBxNAMTHoBQAgv3jWAgAQPaQxAGLBDiaAYmLQCwBAfvGsBQAgekhjAMRCaWmpKaCYGPQCAJBfPGsBAIgeAmYAAELCoBcAgPziWQsAQPQQMAMAEBIGvQAA5BfPWgAAooeAGQCAkDDoBQAgv3jWAgAQPQTMAACEhEEvAAD5xbMWAIDoIWAGEAs6iGAggWJj0AsAQH7xrAUAIHoImAHEgh1MAMXEoBcAgPziWQsAQPSQxgCIBTuYAIqJQS8AAPnFsxYAgOghjQEQC3YwARQTg14AAPKLZy0AANFDGgMgFuxgAigmBr0AAOQXz1oAAKKHNAZALNjBBFBMDHoBAMgvnrUAAEQPaQyAWLCDCaCYGPQCAJBfPGsBAIge0hgAsaCDCAYSKDYGvQAA5BfPWgAAooeAGQCAkDDoBQAgv3jWAgAQPQTMAACEhEEvAAD5xbMWAIDoIWAGACAkDHoBAMgvnrUAAEQPATMAACFh0AsAQH7xrAUAIHoImAHEQmlpqSmgmBj0AgCQXzxrAQCIHgJmALFgBxNAMTHoBQAgv3jWAgAQPaQxAGLBDiaAYmLQCwBAfvGsBQAgekhjAMSCHUwAxcSgFwCA/OJZCwBA9JDGAIgFO5gAiolBLwAA+cWzFgCA6CGNARALdjABFBODXgAA8otnLQAA0UMaAyAW7GACKCYGvQAA5BfPWgAAooc0BkAslJSUmAKKiUEvAAD5xbMWAIDoIWAGACAkDHoBAMgvnrUAAEQPATMAACFh0AsAQH7xrAUAIHoImAEACAmDXgAA8otnLQAA0UPADABASBj0AgCQXzxrAQCIHgJmAABCwqAXAID84lkLAED0EDADiAU7mACKiUEvAAD5xbMWAIDoIY0BEAt2MAEUE4NeAADyi2ctAADRQxoDIBbsYAIoJga9AADkF89aAACihzQGQCzYwQRQTAx6AQDIL561AABED2kMgFiwgwmgmBj0AgCQXzxrAQCIHtIYALFgBxNAMTHoBQAgv3jWAgAQPaQxAGLBDiaAYmLQCwBAfvGsBQAgekhjAAAICYNeAADyi2ctAADRQ8AMAEBIGPQCAJBfPGsBAIgeAmYAAELCoBcAgPziWQsAQPQQMAMAEBIGvQAA5BfPWgAAooeAGQCAkDDoBQAgv3jWAgAQPQTMAGKhpKTEFFBMDHoBAMgvnrUAAEQPATOAWLCDCaCYGPQCAJBfPGsBAIge0hgAsWAHE0AxMegFACC/eNYCABA9pDEAYsEOJoBiYtALAEB+8awFACB6SGMAxIIdTADFxKAXAID84lkLAED0kMYAiAU7mACKiUEvAAD5xbMWAIDoIY0BEAt2MAEUE4NeAADyi2ctAADRQxoDIBZKS0tNAcXEoBcAgPziWQsAQPQQMAMAEBIGvQAA5BfPWgAAooeAGQCAkDDoBQAgv3jWAgAQPQTMAACEhEEvXP73v/85y8v/56+//lqefPJJ6du3rxx88MHSsmVLqVu3rmy00UZSu3Ztady4sWy//fZSUlIixx13nFx22WXy7LPPyowZM2T16tWJo/zDf2w/7zW5KpmFCxfKpEmT5P777zef6VNOOUU6duwoO++8s2y22WZSp04d2WCDDcp99qtWrSqNGjWSHXfcUQ466CA59dRTZeDAgfLII4/IF198IX/99Vfi6P/Sn7muK5tK5oMPPpBRo0bJoEGD5JxzzpHDDjtMtt12W3Ot9erVk+rVq8u6665r7mHDDTc0vwv9HWyzzTbSrl076dKli1x88cUycuRImThxoixZsiRx5PRc1xm0gnDt569kXNuGWUG49vMX1i48awEAiB4CZgAAQsKgFy6uQMyW34oVK0xI/MILL8jgwYPlpJNOkrZt25rAtlatWiagrVatmmy88cay5ZZbyq677loW1A4fPlyef/55+eSTT2TevHmycuXKxFFTc12Xlp8eb9GiRTJ79mz57LPP5NVXX5V77rlHrr76ajn99NPl8MMPlz322EO23npr2WSTTcx1rr/++lKpUqWyz37lypVN8LzVVluZ++rUqZOceeaZ8t///leeeOIJE/R+//33snjxYvn999/LXYf/+oKW36pVq+Tnn3+WBQsWyI8//igff/yxPPDAA3LllVeaa9GweK+99pJmzZqZa9VQ3xuU6z3pz/R3sOmmm5qw/MADD5Tu3buboP+uu+4yawLoXxLoOZYvX+4Mzi3XNQetIFz7+SsZ17ZhVhCu/fyFtQvPWgAAooeAGUAs6CCCgQSKjUEvXFyBmC2v3377zQSTQ4cOla5du8pOO+0kDRo0MKGyN6S1pWFtzZo1zSzb5s2bm7BZZxD36tVLRowYIZMnT04c+R/+81n+a0q2nc4w1tnK/fr1k2OPPVY6dOhgAmWd6dukSRMTgGv46r9O/yxmLRs0a4i73Xbbye677y7t27eXI4880sza1tnbGtB6aUibzWxmv/nz55sgfsiQIdK7d28TjGvYrfeh16PhuL7n/mtOVho26+9AZzPr72zPPfeUAw44wIT+t99+u7z77rvy66+/Js7+D+91+a83kwrCtZ+/knFtG2YF4drPX1i78KwFACB6CJgBxIIdTADFxKAXLq5ATMtPZwVfc801sv/++5vZsfbzojOBNfRs2rSpacugLTK0ZUOVKlVMUOv9bGnVr1/fBJw333yzzJ07N3H05FzXpf/8888/zazlZcuWyfTp02X06NFy4oknmjDbez5tHaHBsp1drdem/6xRo4aZea2hq+6j96Q/19Jr9x7DWxrU9unTx7TNmDVrlrkeL//1Jiu7rYbSOmtZZ4druPzyyy+bdhba2kKvxXtufT81ENc2GHofGh7b2coaouuMZduqRPdNFv5r6f5HHHGE3HDDDWZmdrIZ5f7rzqSCcO3nr2Rc24ZZQbj28xfWLjxrAQCIHtIYALFgBxNAMTHohYsrENOytF+v9jLWGbUaLmvPX/2caNipM2vPPvtsue666+SWW26RO+64wwTHl1xyiRx66KEmuPXPttXAV2fU6szcYcOGydtvv20CVst1LXZmsJeG02+88YbcdNNN0rNnT9lnn31MyO09V8OGDc0sZp1xfd5555kWEdoyQ69Xz609iTWYvvvuu81xtMfxBRdcYIJXDc29x7Kl99OqVSs55phjTOD+0ksvletp7L1eV+lrXr/88ot8+umn8tBDD5lgWd8Xna3sDbntObXVhYboei9XXXWVad2hvxedEX7rrbfKbbfdZn4P119/vVx00UVmJrc/cPeWhtL77befnH/++XLvvffKV199lbiqf7iu31XZyHY/L/91JKtUXNv7yyXZzwGetQAARA9pDIBYsIMJoJgY9MLFH6bZsqZOnWo+Exoua9sI/Yxo4KmL5WnA+tFHH5mAVWcUW99++61pv6DBrrZ1sJ8tuxCdls66bdOmjTm29jW2XNdiy9IeyK+99prZd5dddil3fA2+dQavtrbQEFgX6dOWE19++aXpaaz9jbV/sg16vcfVVhGff/65CZw1eLUhr71u7/Vr+w9dyPCss86SDz/8MHGEzAJLXfBQw2U933/+8x8zq9ge35bei7bn0MX9NBAfP368aQeiixjqrGPv+25pYK8tPB599FHTJ1tbmeixXPehs7s1mNe/ENCQO13Y76pkXNv6Kxeu4/krCNd+QQvw41kLAED0kMYAiAU7mACKiUEvXFyBmf5Tg0tdBO7BBx+Ugw8+uKwthobLGkba2cf+/r1K99dAV2fVaohsP1veYFNLQ1qdLfzYY4+ZkFnbRFh6DP/MZe0DPWXKFBkzZowJdnV2sj2WtoLQdhdHHXWUmQmsrR80MNVZztrKIuiigrqdLqyns4G7desmW2yxRdk5/Nev74X2NNYZxLrP0qVLE0dZ8331z1zWgPjNN980M5B1MUE7M1xLA9+SkhITDuusa50ZriG5hvk//PBDufcpGQ2vNWTW91ZnZevCgHq93uv3lv5FgL6nujiizg73Btf+e/FXMq5t/ZUL1/H8FYRrv6AF+PGsBQAgekhjAMSCHUwAxcSgFy6uwEz/OW/ePLOon7Za0N7K9vOhrRq0rYSdteyaQWtpIKozc/0zZ71B7dZbby2nn366CbJnz56d2LP8dVnTpk0zn0+dTa1tNuwxtDRsvvzyy00PYw1vNWDVIFYDY/13b9uKdHSG86JFi2TChAkm/LXn0Ov2h8zaSkMDd227obO9Le/1+8+rs4Q1yNXwWHsta09lezx9r3v06CH33HOPCen1HvR67D//+OMP8557j5eM3rf2qNbWF9oaxNv2w38fOpNZZ4PrTOmxY8fK8uXLE0dJH8Am49rWX7lwHc9fQbj2C1qAH89aAACihzQGQCzYwQRQTAx64ZIsLNOF36699lozk9YuFKezeU877TQzi9hP99cQ1ztTVwPjM844wyw8511szhtuari6ww47yLnnnlsuoPXSsFNnCGufZG1docfTffWYW221lQmBtX+yto/QhfLSSXbPftpSQ2dD22DW3oP3+vVnGgrrNTz33HNlgbvrHPrazJkzZdy4cea4e++9t5nFrcfRRQc1bNaA94EHHjCtOsKks7n1fbbX7Sq9lt122828l962Jcp7P/5KxrWtv3LhOp6/gnDtF7QAP561AABED2kMgFjQQQQDCRQbg164JAvLHn/8cTNT2AagGqKeeeaZ8sQTT5g2DV7eY3iPo2Fqv379TLBpj6Plnz2rpWGrBsQukydPNjOpdVHBWrVqme1tH2jtsayLEGogqi0qUs2oTnadyWi/Zl00T0N2XTBQ+zvruV3Xv+WWW5pt7YJ/9vje8/z000+mbYiG0bq97fGsvZe1X/RTTz1lZhtra5J0LT2C3oOlixEeeeSRZua3dwFBf+lrJ5xwgnlPdfazzpi27Dn9lYxrW3/lwnU8fwXh2i9oAX48awEAiB4CZgAAQsKgFy7eoMz+U0NS7Q2svYDt52LXXXeVUaNGyYwZM8qFn3Z/b1k6g/n666+XDh06lC00p6UBrS37Mw1ctS2ELuBn6Xm0TYRei86s1QXvdFvtB62hr7aY0D7Q2grCz3VdrkpF21LorGQN1rW/83rrrbfGPdg/a0h8/vnny3vvvWfaa3hncmvorW07tPXEsccea94L3VePp7PCtW+03rtr9rXrmm1lQmek9+3b18ySrl27dtl123vx/lkXFdQ+19qSRPteW9lcg2sfb+XKdUxvBeHaL2gBfjxrAQCIHgJmAABCwqAX6WgQquGohrZ9+vQpm3WsM3e1z7AumOeXKnTTFhMjR440fZg322yzss+YDWe9waaG2dpDWc9tjzFx4kRzHdobWMNlbUehi+HptWjPZp0h7e0V7OW/pkzK0p7H2g7k5ptvlo4dO5o+xd57sP+upa0+DjnkEBk+fLjZxzuTWoN2fR+6dOli7lPvQ2dgaz9rvef333/fzG72zhYOm75XDz/8sOl33aRJk3L34f9d6HXpwoDPPvusua58cr3/QSsI136ZFJApnrUAAEQPATMAACFh0It0dCaw9jq+8847TYhrA1UNRXv37i3ffPNNYst/uAI5LWvu3Lly1113mWBVZ+raz5gr1NQWHD179jT9h7Xdhc7mHTx4sOmxbLfTmb8a9A4dOtSE1+m4ri1IWboYnwazzzzzjBx//PGywQYblLsH++9a2lpiu+22k+7du5seyzZg1tBYFx48+uijTXsKDZc1jG7durWcddZZ8uabb5rt8k1nhr/77rtmsT99T7334fpdHHTQQeZ9njNnTuII+eF6/4NWEK79ghaQDZ61AABEDwEzAAAhYdCLdDRQ1TYO2hJi2223NaGjtqPQsHnEiBFrhI2uUE7L0l7NOvv3iCOOKNduwxVqao9jDXE1VNaZtqNHjzYzn22/YF3YT3sX62vfffddyl7LluvagpSl4bAG3a+//rqccsop5XoXe69dS9td6DXus88+8thjj5n9NbAvLS2VSy+9VJo3b142c1nbbWjvaO0t/euvv5pt8037KWu7kRtuuMFci/c+/L8Lvc9NN93UzB6fPn164gj54Xr/g1YQrv2CFpANnrUAAEQPATOAWNCAQQsoJga9SEfDzttuu8304K1Ro4b5POisXA1IdZE4bZ/h5QrltCxtDaGzYA844AAze9d+xlyhpoazOjv5jDPOMAG3hs0tW7Y0oayG3Pvtt58Juf3XkIrr2oKUpSH2L7/8Ylpe6DWlCpj1z9pKRMPbO+64w7TX0EC3f//+pl90tWrVTAit7Sf0WNoWo5C0n7XODNdWHfq+eq/b+7vw3pcG/J999lniCPnhev+DVhCu/YIWkA2etQAARA8BM4BYsIMJoJgY9CIdbTuhYbI3DNYZuY8//rgJizU09XKFclrWrFmz5L///a/su+++aRf50wBWF/rT2b077LCDbLPNNlKrVi3Te1lnUOuMZg1svbzncvFfV9CydKE+/bMubHjxxReb2cfee7D/7i0Nw7WvsrYaue+++0y4bBfV0z7U+v5qL2sNrr28580HnY29YMEC8z7qXxrY6/X+LmzZ1zTw13A9n7zve6YVhGu/oAVkg2ctAADRQxoDIBbsYAIoJga9SEbDNG2PMXXqVDn55JPLhYxHHXWUfPLJJ4kty/MHcrYsnTGrM3jbtGljgld7TH+g6S/dRmcD6yKDGjgPGTJEfv7558RRg3NdW9Cy+6uFCxea0DhIwKx9q7t27Wp6T+tsbLtQYvXq1U2Lj3feecccs9A0LNc+zPfff7+ZRW2v1//ee+9r//33l7feeitxhPzwv++ZVBCu/YIWkA2etQAARA9pDIBYsIMJoJgY9CIZnZmsi9k99dRTcsghh5R9FnTmrS5Ep7OXXVyhnJb17bffyrnnniubb775GuFsslDTW7oQ3mWXXbbGQnjec6Tjvza7r+vn3rLbqHnz5pmZx0ECZv35jjvuKJ07dy6bKayzs7XdhC6eqLOILe+58i2bGcw6e/2VV14xf/mQL/Y9yLaCSLWf6zVbQDZ41gIAED2kMQBiwQ4mgGJi0ItktF3DxIkTZdCgQbLbbruZz4H2G9Z/v/baa81Cdy6uUE7LmjZtmumlbINZG176g0xX6eu9evWSDz/80CxQ5z2ul//c3goi1X4661f7MOtCdxdeeGGggFlrgw02MKGy/fPuu+8ujz76qAmqvWGt91wu/uvKpiztwax/iaA9mFu0aFF2bfZ34S37mvbiHjdunOnN7V1U0XX8bHmPlY8KwrWfFpANnrUAAEQPaQyAWLCDCaCYGPQimZ9++sm0TjjxxBNNn2D9HGgfZm2PMWrUKFmyZEliy/JcoZyW9emnn8qRRx5Z9tlKFmR6S3+ufZc1lL399ttNuJmK6/y2gki1n4aqGm5/9NFH0qdPn5SL/CX7WcOGDU2rDP9ief5zuXivKduy9C8R9Bp00cWtt9667Prs78Jb9jWdwfzCCy/I8uXLTdhuJTtHNvzHCruAQuNZCwBA9JDGAIgFO5gAiolBL5LRxf109rKGuhtuuKH5HGy//fZy/vnny9ixY9dYkM5yBXpali4Qd/DBB5d9tpIFmd7S82vv32uuucb0K9bWDqm4zm8riFT7rV692szefv311+WUU05JGzD7a4sttpBu3bqZthRz585NHLX8OVPxbpdtWdpHWvspX3XVVea67DX6fyfe++rQoYOUlpaWC5dVsnNkw3+ssAsoNJ61AABED2kMgFgoKSkxBRQTg14koz2WzznnHKlfv37Z50C/s2655RYTEv/222+JLdfkCvP031esWCEvv/yy7LvvvmXHdIWY/tKZ09qOQlt2ePsVJ+M9v7+CSLWftrOYMWOGPP3002bhPm19Ya8z1T1o6esalN9xxx3y8ccfl3sPXedy8W6XbVk//PCDmY18wQUXSLNmzcpdp7/sa3r9rkUJXcfPlvdY+aggtH2IzpTXRRB1tr7+Oei+gB/PWgAAooeAGQCAkDDoRTKzZs2Sk046qdznoEuXLvLqq6+akFdn8lpBwjttqfD111/L3XffbWZFe4+bqtZbbz3ZZZdd5J577pGlS5cmjvYv77mDVK508cPPP/9cxowZI506dZL111/fed2uqlGjhmmNoW1CvP2LVZjXGJT2X37kkUfk9NNPlyZNmjiv2V8HHHCA6YGdjvd+vBWEaz9/JePa1l9+/p/p7GwN3/UvAXS2ti4oqf97sDPn7fbeY2ZaWLvwrAUAIHoImAEACAmDXiSjIaoGqPYzUKlSJendu7d89dVXa4RkQYIz7en82muvmXYM2223XbnPV7LS1hjbbLONdO/e3YR8lvd8mVaudCbre++9J8OHDzdhqwbgrmv3ls4Arl69umkxMnjwYBO2W/m4xqA08L/zzjvNoovaF9p17f469NBD1+gd7eK6L60gXPv5KxnXtv5KRWfZf/PNN/Lcc8/JbbfdJldffbUMGTLEfHa1NYr+BYM9hv+4mRTWLjxrAQCIHgJmAABCwqAXLtp/WVtZHHjggWWfAZ2pq20q/C0qggZnOgNUFw3s2bNnuX6/qapBgwZy2mmnyaOPPmr2t/znzKRypW0txo8fL3379pU99tgjUMCs4byG6nov2lpDQ2orH9cYlF3g74gjjpBNNtnEee3e0s+AzmL/8ssvE0dIznVfWkG49vNXMq5t/ZWM9hXX3toaKB999NGy6667yrbbbmtaumjQrK/pzGbbf9p17KCFtQvPWgAAooeAGQCAkDDohYsu/KYtKfbaa6+yz4AGkPo5yHb2rc58vu6666Rjx44mOPZ+vpKVhns6w3bOnDlm5qjlOm/QytWyZctM4K3tQ1q2bCmVK1d2Xru3NJg9/PDDTXuQTz75JDIB8wcffCCXX365CVDr1KnjvHZbep/aj1tDcv1dpuO6L60gXPv5KxXX9ra8NCi2bS/086W9pfUzrn2mN9poo7J719nnxx57rPnfxBdffFFugUPXOYIU1i48awEAiB4CZgAAQsKgFy4PPvigDBw4UFq1amV+/1WqVJG2bdvKyJEjTQsBK5PgbOrUqdKnTx8TGnvDu2SlM4M7dOggL774YrkZo/af2VautA+0LnTYvn17E7rr7GTX9XtLW32cddZZpqevBvTe/sv5uMag9C8StP+ytu5I9zupVq2abLXVVnLeeefJ9OnTE0dIznVfWkG49vNXGBYtWmR+J0899ZT5y48ePXqYv1Rp3LhxuXvXhRz1Lwj0967bp/v9BSmsXXjWAgAQPQTMAGLBDiaAYmLQC5ebb75ZLr74YtP/WH//zZs3N0Gk9qXNdvbt22+/LZ07d5ZatWqlnfWrgbYuOtetWzd5//33E0fIPszzVq6WLFki/fv3l80228yE4Npf2XUP3tIZ29dff33gWdiFom1QjjzySNN/Wd9z17Xb0hnO2jLiiiuuMIsDpuO6L60gXPv5K5V0r2tArD3B3333Xbn99tvlmGOOMe+B/j71s6m/U+/vtWbNmuZ9uummm+Sjjz4iYEbGeNYCABA9pDEAYsEOJoBiYtALlzFjxpgZzBoo6izdo446SkaNGiWffvqprF69OrHVmuFaKrpIms76dX2+/FW7dm3Zfffd5ZJLLjEtCSz/+TKtMPz8889y0UUXlc34TRUwa1ipgfqee+4p9913X+II/3Bdn61CeeKJJ8z7bENV1z3YatSokWlvMmzYMJk9e3biCMm57stWEK79bKWjAbD2yl68eLHpmayL9k2ePFleeuklefjhh+WOO+6Qa6+91swq15nJW265pfOebWnArH2qb7zxRgJmZIVnLQAA0UMaAyAW7GACKCYGvXCZMGGC3HvvvWZmZ7t27UwYpwvC6SJo3v6zmRg7dqy0bt267DNlZ4l6y76ms5c11NYZo99++23iCP+EebnyB33+SkdnMGswGeQ+qlatKjvuuKOZ/f3CCy9k9N65ri3XssdV+hcF+pcGzZo1K7veVLX11lubvtP6lw/z5s0zx0jFf+5MKherVq0yC1FqG48pU6aYWdq6uKR+hx133HFmYUadfa7Bv/ZW1vYlrpno3j8zgxm54lkLAED0kMYAiAU7mACKiUEvXHQRN13w7NZbb5VBgwbJK6+8YnoPZxOMaaiq7Qh0gbQWLVqUfaa8gawt+5q25jj33HPlySeflB9//DFxpH/D0Vx4Q75klcrXX38t3bt3D3QfOsv5oIMOMv1933vvvcgEzLqwnS6cqG076tWrV3a9qUr/cqBfv36mJ7bODE7Hf+5MKh0N+fUvPN544w1zPc8++6z5Cwz9p/YP17YXQ4cOlauuusr0jNZWKyUlJdK0adM12rPoAowaMNs/u36PBMzIFc9aAACihzQGQCzYwQRQTAx64aLtBXS28ty5c007BG0LoaFkNsGYhoE6k/Saa64p14rAG+T5A72ddtpJBg8ebHrk6v5WGMGcN+RzVTI641dnxuqM2E6dOgW6D50le8IJJ5jQU0P7KATMeg16HxrOXnDBBVK3bt2y601V++yzjwludbHGZcuWmWOl4jp/0Ernk08+MaG9zrDfbbfdzOxq7RPesmVL809djFBnKetM+Pr165v+0Tqb3H9POntbP2u6nV2s0fV7JGBGrnjWAgAQPaQxAGLBDiaAYmLQi3ybNWuWPPXUU3LmmWfKpptuWvaZ8gZ5/kCvbdu2pleu9s/1L4yXK3/Q569kli9fLh9//LHceeed0qFDh0D3sfHGG8v5558vb731lixcuDDl8f3815VrWRowa9itbSN0Zq/2u7bXm6oOO+wwM1tYw2lvH+5kXNcQtNLR9/OUU06RzTff3Hmt/tpggw1MSKyLLWoYrX2ntZ90jx49pGfPnubPrlnM9s8EzMgVz1oAAKKHNAZALNjBBFBMDHqRb59//rmMGDFC/vOf/5gFA+1nyhvI+gM9DXDffvvtxBH+FUYw5w/6XOWis7jHjx8vl19+uVn8MMh96OxgnWmrbT6iMHtZ6XVouw5tfXLggQeWLVaYrrp27SrTpk1LHCU91zUErXTefPNNOfnkk1P2j9bfg84g32KLLaRNmzZmkb7evXubtiDPPfec+XxpPfroo9KlSxcTQnv39f4eCZiRK561AABED2kMAAAhYdALF1cgppUNbXNx4YUXmlnJGvjZz5QN8bxlX9MwT2fZWrleg5f3WK5KRmfu3nfffWahO+0RHeQ+tPWCtpUIMuPXz3VtuZSlAbO2+dCFB7U9hKt1hL/0njSc1VnYQbmuIWiloyGv9lc+5JBDTF9vbYOhs5N1hry2Ydl+++1lzz33NK/r7+viiy82f8mhPb11FroNiPW90GPpvVWpUqXc/Xp/jwTMyBXPWgAAooeAGQCAkDDoRaZcYZm3/HSBwKOPPtossBYkzKxRo4aZnTp9+vTEEcILW3Oh7Tp09qv2ItZA03Xt/tKewNqKIkyu+wpSlv67zto94IADTCjrbQ3hLw1ZdRE8bUVx5ZVXBlrcLwz+a7dladA9efJkef75500rlTFjxpjSvwDQftd6f9qWRV9/7bXXzIxtXRTw+++/N4tVWqtWrZIPP/xQevXqldEM5nSz0V3X7i+sXXjWAgAQPQTMAACEhEEvMuUKy7zlp0GfzibVGaJ2IbVkVb16dTMj9aKLLpLvvvsucYTsQ1VXZWvmzJlmJrbOkE0XlOt96r3svffe5v6tXK9Bee8lk7J0NrXOqt52221NuOwNUv2lrzVs2FD2228/ueWWW4oeMNsKgy5aqQtIvvPOO3LaaaeZIN1/7/bfvQGzLnJIwIxM8awFACB6CJgBAAgJg15kyhWWecvvgQcekObNmzs/V/7SMFNn1g4dOlTmzJmTOEL2oaqrsqWBd/fu3QPNwtZtNIjWvsU6g9vK9RqU916Clt1PaS9p7QsdZBa2BuUaROtieDor2Dv7N5/8129Lg139ZxgImFFIPGsBAIgeAmYAAELCoBeZcoVl3vJauXKljBw5Uho3blz2WUo1Y1aD6J49e5o2B9rz2HKdJ9vKli5wpyGj67r9pb2m27dvL3379jXtGaxcr0F57yVIWRqKaqiqrUe0J3G1atWc1+6typUrS7t27aR///7y+uuvy/LlyxNHyy/XffgrFdf2tiwCZhQSz1oAAKKHgBlALJSUlJgCiolBLzLlCsu8ZbfR/rY66/eaa66RevXqlX2WUgXMu+22m/msad9cnWlr+c+RS2VLFys88MADndftr0022USOPfZYue222+SLL75IHOHf+8iF916ClKWB6ty5c82Mau1x7e05nKz0d3XYYYfJ6NGjTQ9j/QuDQnDdh7+ScW3rLYuAGYXEsxYAgOghYAYQC3YwARQTg15kyhWW2bL03zXMfPXVV+Xss8+WjTfeuOyzlCpg1l6/GmZqKOudLes/Ty6VKQ0iFy1aJM8++6zsu+++zuv2V5MmTeTcc8+VcePGyezZsxNH+vc+cuG9lyBl/f777zJlyhQTkh588MGBAmZtkXHiiSeawF9nlGv/5kJw3Ye/knFt6y2LgBmFxLMWAIDoIY0BEAt2MAEUE4NeZMoVltmyNIDTkHjUqFHSpUsX0zLCfpZSBcydO3c2rRh09rIGgJbrXNlWpn799Vcze1dbfey+++7O6/bXFltsIddff718+umn8ssvvySO9M995Mp/P+nK+u233+Tpp582LUi23357s8Cf69q9pQsVnn/++fLVV1+Z30e6YDUsrvvwVzKubb1lZRMw33jjjfLRRx8RMCNjPGsBAIge0hgAsWAHE0AxMehFplxhmS3rzz//lLfeekuuvPJK0wpIg0rv50nDO1ven+siejNnzkwcJXuua7MVhHc7nbn70ksvSb9+/WS77bYrd73JqkWLFnL//febcDpb/uu2FYRr+2XLlskNN9wgO++8swlMdXay69q17O9l0003lf/+97/lQvJC8F5/2GWlC5i9VaNGDTniiCPKAmb9fFuucwQprF141gIAED2kMQBiwQ4mgGJi0ItMucIyW5YGcGPHjpWTTjpJtt12W6lSpUq5z5M3YLZhps6o1XYaGvrlynVttoLwbqeBt87E1lYRm222Wbn7SFa77LKLPP/884kjZM5/zd4KwrX9woULzaKD3nYlyUp/F7Vr15a2bdvKPffcU7CZy5b3+sMui4AZhcSzFgCA6CGNARALdjABFBODXmTKFZbZsjSAu++++6R9+/Ym0KxcuXK5z5M3WNaZtPq6zpa9/PLLIxcwT5s2Ta6++mozE1sX7/Peh6v0fjp06GBafeTCf922gnBt++2330qvXr0CtcaoWrWqtGrVyiwGqH9R4A1UC8F7v2GXRcCMQuJZCwBA9JDGAIgFO5gAiolBLzLlCstsWboY3M033yxbb711uTDZlj9g1hB6jz32kOHDh0cuYNZA8YwzzjD3Uq1atXL34S8Nb+vWrStHH320CS6z5b9mbwXh3U6DVO1p/cYbb8ixxx7rvG5/aUsTXQhwyJAh8v7775tjFJL/nsMsyx8wp1r0kIAZueJZCwBA9JDGAIiF0tJSU0AxMehFPuiCctddd13SdgzewFlnL2t4q+Gnznr2L4qXTeXCf4x3333XhK1BF8Vr3ry5CaQ/+OCDxBHW5L3WTCtTy5cvN9dyyy23yL777lvuem3Q7w38tTRQ7d27t0yYMEHmzp0bSqCqFZRrX3/lSu9Jg3f9/foDZv/7oT2rvQEzi/whUzxrAQCIHgJmAABCwqAX+TB//ny59NJL1+i9bMsb3mlw26ZNG/m///s/s5ieLkZnuYK5IJUr7zE0ZNWeyt7rT1YaqGtbkCuuuEI+//zzxBHW5L/eTCpTixYtkkceeUROP/30cosU2hDVW/Y1nYU9aNAg+eGHH0yYagNV1/VkWkG49vNXrrwBs7436QLmI488Um666SaZOnUqATMyxrMWAIDoIWAGACAkDHoRJg3edAby5MmTTb/fZH1tveGdbtOxY0e59dZbzUzbFStWJI6WfaAZllWrVskTTzxh+hF7rz9ZaR/p4447Tm6//Xb57rvvEkdZk+uag1amFixYIIMHD5a99967XA9pG6L6w1QtXcxw5MiR8vvvv5tj2PP6ryWbCsK1n79y5Q+YvX8Z4n9PCJiRK561AABEDwEzAAAhYdCLMGnv5enTp8tjjz0mxxxzTNK+tt7wTrc5/vjjZdy4cfL999+bUNdyBXNBKgwadOv1aNC67bbblrv+ZLXNNtvIRRddZO5l3rx5iSOtyXXNQStTs2bNknPOOUcaN25swnz73tsQ1fu70H7Y+vvYdddd5eGHH04cIZxg2VYQrv38lStmMKOQeNYCABA9BMwAAISEQS/CpDNep0yZYoK4gw46KNAMZm2RcdZZZ8kXX3xh9veGd65gLkiFYeHChfLWW2/JVVddJVtuuWW5609WO+20k+nT+/HHH5frJe3nuuaglSkNRHVWtf1d2Pfehqje34UuYqg9pLt16yavvvpq4giZX28yqV7z8h/PVbkiYEYh8awFACB6CJgBxIIOIhhIoNgY9CJMOutXexZfdtllsueeeyZdGM8b3mnweeWVV5rF6CxXIJdJhWHGjBny0EMPmQXgmjRpUu76k1Xbtm3lySefNH2P//jjj8SR1uS65qAVlJ5/yZIl8sILL8iBBx5Ydo02PPWWfU17L+tidsOGDTMhueW6jlSVTKrXvPzHc1WuCJhRSDxrAQCIHgJmALFgBxNAMTHoRZg0JNb2GCeddJK0bNlSKleu7Pw8eatevXoyZMiQxBH+4QrkMqkwfPbZZzJ8+HDp1KlTud7FqapDhw5SWlqaOEJyrmsOWkH9+uuv8umnn5oWH7vvvnvZNXqDZX+Q2qhRIznvvPPkxRdflDlz5iSOFPx6LW2Voos16jE0kNX3cvHixeW2ScV/XFflKpuAWWenf/TRRwTMyBjPWgAAooc0BkAs2MEEUEwMehEmDTV1sb727dubUFZ7+ro+T1oaPletWlW23357E4J6Z/y6ArlMKgy6UGG/fv3MvdSuXdt5D/467LDD5MMPP0wcIfl9pOPax1ZQ8+fPl2effVYuuOACE/bba/SHp95q1qyZCdW//fbbcostZkrbg3z99dfmLxv0/NpmRBdw1FA3CNd9+ytX6QJm7/tSo0YNM7PbBsze+3BdW5DC2oVnLQAA0UMaAyAW7GACKCYGvQiTzlLVz8oWW2xRbkE5V+nr2nri4IMPNq0oohYwT5w4Ubp3724W7tPexK578JaGkDpze9q0aYkjZB8wK9d+WkF99913MnjwYOnYsaM0bNiw7DpTBcwa9uvvIpdwWem5H330UdNbW/tSH3LIIfLcc8+ZWc1B7sF/z67KFQEzColnLQAA0UMaAyAW7GACKCYGvQjTjz/+KOecc45suOGGzs+Rt3Sb1q1bS69eveSll16KXMD8/PPPyz777GOuM9VMbC0NIDWcveSSS0y4armuTSsI135aQX3yyScmINdwOVX7B/szvc/9999fxo8fnzhC9rQPtw3nq1SpYkLmu+66S2bPnm0WckzHdd/+yhUBMwqJZy0AANFDGgMgFuxgAigmBr0Ik87e1WDR9Rny10YbbSQHHXSQXHfddfLee++FEtrZCoPO5G3RooXz2v2lM7EPP/xwE0BqiGq5rk0rCNd+WkG9+eabUlJSUnaNNli25b1+DZe33HJL6dGjh7z//vuJI2Tvvvvuk1atWpUdf+utt5bbbrtNvv/+e1m5cmViq+Rc9+2vXBEwo5B41gIAED2kMQBiwQ4mgGJi0IswaOCmfXffeOMNOfroo52fIX/VqlVLunXrJg8//LB888035RZOcwVymVSutNXHzTffLE2bNnVeu7+0x/GZZ55peg4vWLAgcZTiBcyrVq0y/Zd32223smtMFTDrQos6e3ngwIHy5ZdfJo6Snd9++828d7pgoD1+8+bNzXuj1xWE6779lSt/wKwzre31EjAjbDxrAQCIHtIYALGggwgGEig2Br0Ig85K1YXhHnnkEdNv1/UZ8tfGG28s559/vrz11luycOHCcqGbP4zLtHKhCxV++umnZmG6+vXrO6/dX7vvvruZia0Bu4aWluvatIJw7aeVjvZP1jYdunCidxZxqoBZe2ZrQK59k+fMmZM4Umb02lavXi0zZsyQ/v37S506dcqO36ZNGyktLU1smZ7/nl2VK2Ywo5B41gIAED0EzAAAhIRBL8KgoeykSZNkyJAhstdeezk/Q/7SgPnqq682gaTObLWhmz+Iy7ayoftpi4sXXnhBevfuba7RXq8rmLWls391JraG7LkukKf89+KtdLQP9tixY014v9lmm5VdY6rr32GHHUwLC529rAvxZUNnoGsLDF3M7+STTy5bGLF69epmVvuUKVMSW6bnum9/5cobMJ922mnlAmZ/+QNm72x7IAietQAARA8BMwAAIWHQCxdXoKeVzKJFi+TJJ5+Us846yyx25/oM+UtnB2tg5w80XecNs1LR13X2ss7+Peqoo6R27dpl12sDWldI27lzZ9PzePny5eVmtybjv6ZMKh29/muvvVY6duxoWl/4r9VV7dq1k1dffXWN4NR1fi0XXaRRZ6Prd0X79u1NYKu9nXV296WXXipffPFFYsv0XOf0VzKubb1l6fUuWbJE3nnnHRMwr7/++s73RouAGbniWQsAQPQQMAMAEBIGvXBxBXO2XObNmye33HKLCeGC9i3WtgyjRo1a45j+84VdqejrGhT369dP9t57b7MQob3eVAGz9pLOpHex/5oyqXT0+k888USzaJ8GvP5rdZUuUPjhhx8mjhA8pPXS0FX/kqFLly5lnwH9Z69evUz/5R9++CGxZXquc/orGde23rIImFFIPGsBAIgeAmYAAELCoBcurmBOK5lZs2bJFVdcITvttJNZvM/1GfJW5cqVZZdddjE9f/1c5w2zUtHXtb3E8ccfbxamq1q1atk1JwuYNZg844wzMupd7L+mTCqd559/Xtq2bSuVKlUqd52u0mtv0KCBnHrqqeVmGLvO6y0Xnbl9++23y84771x2/F133VXuvvtus4ijLv4XlOuc/krGta23LAJmFBLPWgAAooeAGUAs6IJHmSx6BOQDg164uII5Wy4zZ840M1W1JUO6YNOGmocddpgJQ/1c5wyz0rnvvvtMQFuzZk1Zb731yq7bHy7rv2tQ3qRJEzPj+aeffkocIT3XdQWtdB566CHZZpttyq4zVenvS2dqDxw40PwOLdd5veWiCzXq4n4NGzYsO/6hhx4qr7/+uvz+++9J93Pxn89Vybi29ZZlA2Z6MKMQeNYCABA9BMwAYsEOJoBiYtALF1cw5ypLF7c79thjyz4vNoi1oaw3mNW2EzrLtU+fPqadg5/rPP5Kx7VPqvLSEFEDcHu9yUqDdO0jrf2GR4wYYcLKsLiu0VYqumidziJ2Le7n+l20bNnS9M1+/PHHZcGCBYmjBA9plc5c/uWXX2Ty5MkmqLVtOTS81j+7ei+7jumtIFz7BSnLu8jf6aefXi5g9r5HWgTMyBXPWgAAooc0BkAs2MEEUEwMeuHiCub85fXBBx+YReXs58UfaHoDu7p165qZrddff71MnTo1cYR/uc7lrSBc+yUrL23jcPXVV0uVKlXKrjdZ6ezlFi1ayEknnWRmDS9dujRxlHC4rlUrGZ0lrLOQhwwZYmZV2+tM9bvYa6+95LbbbjOh6a+//po4Uma/g1WrVsknn3wid955p+y///7muBrW6uJ+11xzTbney65juSoI135ByvIHzN7fufc90iJgRq541gIAED2kMQBiwQ4mgGJi0AsXVzDnLWv16tWmNcQzzzxjZvLaz4s/0PQGdtpCoWfPnvLwww/Ld999lzjSv/zn8lcQrv2SldLAUANHvZ6LL764XO/lZKXtM7SVhvaefvXVV2X58uXmWGFxXatWMhpwa/h51VVXSaNGjcquM9XvQtuUvPbaayZc1pYRluu83vLSUP7+++83M9gbN25sjqsLOOrsZe2xvWjRosSWwX8vQbj2C1IWATMKiWctAADRQxoDIBbsYAIoJga9cHEFc96ybKh50003mQXd7OfFH2h6A7tmzZrJ5ZdfLpMmTXL2LXadz1tBuPZzlaXhqvYQ1pYdGjbaNg+pSgPmQw45RO666y75+OOPZeXKlYmjhcN1vVrJ6PXre3rJJZeU64Oc6nfRtWtX+eqrrxJH+IfrnP7ymjt3rlx22WWy5ZZblh1X+zrfeuutZmb7smXLEltm/ntJxbVfkLJokYFC4lkLAED0kMYAiAU7mACKiUEvXFzBnLes+fPny7hx4+T//u//ZNttty37vPgDTW9gt9VWW8nIkSPlxx9/NDOg/Vzn81YQrv1cZWmbhy+//NLMxD3qqKMCtcjQgLlbt25m9rK+D94ZwGFwXa9WMtpD+Y033jAzsIMGzD169JBZs2YljhDsfbP03/V9mzJlimkT4p31rbOZNbjV2c0a5Fr+YyWrIFz7BSmLGcwoJJ61AABED2kMgFiwgwmgmBj0wsUVzHnL+v77703v3eOPP97MTLafF3+g6Q3stttuO3niiSfKHcfLfy5/BeHaz1WWzj5+6623ZNCgQVJSUlJuNmuy0m10gbxp06aZcNl7vDD4r9VWMtqK4p133pF+/folDZjtn/WfOku7d+/eGfdItlasWGFmP993333mPbPnq127tvkLh8WLFye2DP77sBWEa78gZTGDGYXEsxYAgOghjQEQCzog1wKKiUEvXFzBnC0vDVevvPJK0xKhXr16ZZ8Xf6jprT322ENeeumlxBHyw3XdrrJ0pu3zzz8v55xzjuyyyy6y/vrrr3Hd/tKAtm/fvqY1RT64rteWi/ZR/uyzz8wihcl6MNs/V6pUyYTQF110kcybNy9xhH/OmYz/3BrO6oxvncVtA23959FHH20WPdRFBy27b9DKhet43rK8AbP2i071lwoEzMgVz1oAAKKHgBkAgJAw6IWLK5iz5TV16lQTzumibtWqVSv7vPhDTS0NNatXry4HH3ywTJw4MXGE7LiuK5uydIE+DUW7dOkiW2+9tWl/kexe7D81UL/mmmvW6L3sOo+/gnDt5yq7rbYb0dnIN9xwg2y66aZJr9/+HrSlSf/+/U1rjWx8++23Zga0DZcrV65sFg0cM2aMfP7555EPmHXW+ZIlS8ys70wD5mzafvgLaxeetQAARA8BMwAAIWHQCxdXIGbLa/LkySZ48y+K5w81tTSA1v7Lp5xyitkvF67ryqYsnf2rCxW2adNG6tSpY8JS/73YP+trer877LCDWcjO33vZdR5/BeHaz1V2W6VB+d133y2bbbbZGtdv70ED5k022UTatWsnw4YNcy60mIqGq3PmzJEHH3xQ2rdvX3YeDZq1NcYnn3xiFvbLJYTNleuYtix/wJxq1joBM3LFsxYAgOghYAYAICQMeuHiCsRseU2aNEn22muvss+JN8z0hppaOuNX2wLprFmd4ZoL13VlU9bSpUvliiuukPr165fdh/9+7H3oTNfNN99cOnXqJI888sgaCxW6zuOvIFz7pSrrscceS7rgov5ZA2btl62zjW+//fZyvZKD0MUZR48eLSeeeKI0adLEHFMDWG2TMmrUKBNye7muNV3lwnU8b1kEzCgknrUAAEQPATMAACFh0AsXVyCm5ffiiy9K69atyz4n3jDTG2pqaaip/XrvuusumTFjRuII2XFdWzZl6QJ5559/flnImOo+qlatKrvttpvp1/zyyy8XfQazLWvChAly+OGHS926dddo9aH/1IBZW2hoq5KRI0eakDUofZ/GjRtnZqG3bNnSHF/fDw2XtRe39jP20l7FrmtNV7lwHc9bFgEzColnLQAA0UPADABASBj0wsUViGlZGrBp2KiLvG2//fZlnxN/KGtDTa0WLVqYRfE0lJ4/f37iSJlzXVc25TV37lzp06dP2bW67sX+3PaRHjp0qGn14Q0bletc/krHtU+6srRFhfaGPvDAA027D+/96D81YN54441NO5AhQ4YEDpi1V/NTTz0lZ599tgmXbRsRnc09cOBAMys9jNnLWrlwHc9bFgEzColnLQAA0UPADCAW7GACKCYGvXBxBWJalvYs/uyzz2T48OEmOLafE38oa0NNrZ122kluvvlm+fTTT83+uXBdWyZl6QxbDQv1mrp37152ra57sT/faKONpEePHvLMM8/IzJkzMw6Yg3Ltm6osDcvHjx8v/fr1k+bNm5e7Jy0NmKtUqWIWZtTAX/spJ6PtPzQ01m30fs866yzZddddzTH0WBoua6uMV199NbHHv1zXGLRy4TqetywCZhQSz1oAAKKHNAZALNjBBFBMDHrh4grEtCwNMbU9hC7qpiGj6zPjD2Y1mHz66afll19+SRrQFdrvv/9uQmKdmasBouv6tWygqqUzmC+77DL55ptvzP7e6y7GPfhpaK49pfW93n///U3PaP996T81ZD7ppJPk448/Tuy5Jp21rC0x9H4PPfRQs0ijnbmsCwVqiP3WW2+VWygw3e/Svp6vCiqXgFnfYyATPGsBAIge0hgAsWAHE0AxMeiFiyu407JmzZplQlmd0ar9fF2fGX9pWwkN8/ySnaMQVqxYYWYv6+J0BxxwQLnr9QbM3p/rwna33nqrrFy50hzDXnMxrj+Vr7/+Wi666CLZcccdpXbt2mvch9a+++5r2px88cUX5i8NNJjWvwDQYFn3f+mll0xv6u22284E6zZo11ncukhgaWlp4mz/Svc+2NfzVUERMKOQeNYCABA9pDEAYsEOJoBiYtALF1dwp2XNmzfPtGHQALNRo0bOz4wtnSmrAeXFF19sQkvLdXytQtIZyN9995089thjpmex97pdgaz2LtbtNFy3inn9qWgbkkmTJsn1118v7du3N4vx+e+nQYMG5n605cd5551nfkf6zzPOOMPMbtYQecsttyzbvn79+rLPPvuY1hraMsPfSzvI++DdJh8VFAEzColnLQAA0UMaAyAW7GACKCYGvXBxBXda1s8//2yCtsGDBzv7/HpLF4TTwPLhhx8uF0i6jq9VSBoyLl682MzEPe6448pCZTtz2Rsy6yzgkpISufzyy+W9995LHCG6AbP15ZdfmuC4VatWUqtWrbJZyN5705/pDGWdmWxbYHhLt9WZ6joLXQNrPab/XoO+D/7twq6gCJhRSDxrAQCIHtIYALFgBxNAMTHohYsruNOydPG3hQsXynPPPSddunQx4aM/mNTAUmcun3766fLkk0+ansXaksJyHV+rkPR8GjROnz5d/vvf/8qee+4pderUKXcfGr5qv+EOHTqYbd58803TQsIq5vUH8dtvv8nrr79uFmTs06ePmZXcunVradiwYbne0q6qW7euabFx5JFHmpB69OjRMnny5HK/R+V/D1K9D65tw6ygCJhRSDxrAQCIHtIYALFgBxNAMTHohYsruPOWpcHsTTfdJMccc4xppWBD5mrVqpkQU2cuP/roo85F4JJVMdgQ9qqrrjKzlGvWrGnuQ++ncePGst9++8kVV1whH374YWKP5PcRVdpb+YMPPpAxY8aYNhgamOvvTMNT7//WtfT+dcZzp06dzHuif0Hw2WefmbYbynXf/krGtW2YFRQBMwqJZy0AANFDGgMAQEgY9MLFFdx5y9LQUgM6ndl66aWXyqmnnmp69/bu3VsGDRokjz/+uGmn4OU6nrcKxXsu/ffvv/9eJkyYYEJEXbywe/fu0rNnT9NnWkN07TmtrUEs3UeDRnvdtqJs2bJl8vnnn5uZ53qf+jvTe9UezN26dZMTTjhBTj75ZPOz/v37y1133WXeE+1TbRc1tPz37a9UXNuHVUHZgPndd981AfMGG2zg/O7TImBGrnjWAgAQPQTMAACEhEEvMuEP8f78809Zvny56WM8d+5cmT17tqkffvjBtJFYunTpGsGk8gaCxS57PatWrTIzdHW2tV7/nDlzTOl96c/0Nb1fy3+coBWUa9+glYwGo/r70L8Y0HvSxRp//PFHc5/2d2d/f/raokWLzH3rYojee1eu83or31zn1ApK70f/wkADZm3j4g2Yvf2ptQiYkSuetQAARA8BMwAAIWHQi0zZIC/TkM0b/tljRKGyuY9cKx3XPplUvrjOlazyzXVOraD8AXOVKlXKvu8ImBE2nrUAAEQPATMAACFh0ItMZRPm+XmPEZXKhGv/TCoI135BK19c50pW+eY6p1ZQzGBGIfGsBQAgegiYAQAICYNeZMoV6nkrCNd+UakgXPtlUkG49gtauXAdL9MqBNd5tYIiYEYh8awFACB6CJgBxEJJSYkpoJgY9CJTrlAv08o31zmDVhCu/cKsXLmO6a1ic11TocpKFzB7Q+aaNWvKkUceScCMrPGsBQAgegiYAcSCHUwAxcSgF5lyhXaZVr65zhm0gnDtF2blynVMbxWT63oKWVY2AfNNN90kU6dOJWBGxnjWAgAQPaQxAGLBDiaAYmLQi0y5QrtMK99c5wxaQbj2C7Ny5Tqmv4rFdS2FLIuAGYXEsxYAgOghjQEQC3YwARQTg15kyhXaZVr55jpn0ArCtV+YlSvXMb1VTK7rKWRZBMwoJJ61AABED2kMgFiwgwmgmBj0IlOu0C7TyjfXOTOpdFz7hFm5ch3TW8Xkup5ClkXAjELiWQsAQPSQxgCIBTuYAIqJQS8y5QrtMq18c50zaAXh2i/MypXrmN4qJtf1FLIsAmYUEs9aAACihzQGQCzYwQRQTAx6kSlXaJdp5ZvrnEErCNd+YVYuXMfzV7G5rqlQZWnAvHTpUnnvvfcyCpg/+ugjAmZkjGctAADRQxoDIBZKS0tNAcXEoBeZcoV23grCtV/QCsK1n60wuI6bSeXCdbxMKxXX9v6KMtf1esvyB8xVqlQp+75LFzDrvpbrHEEKaxeetQAARA8BMwAAIWHQi0y5wjJvBeHaL2gF4drPVhhcx82kcuE6XqaVimt7f0Wd65ptWRoSL168WCZNmiQ9e/ZMO4O5U6dOcvPNN5sWGQTMyBTPWgAAooeAGQCAkDDoRaZcYZm3gnDtF7SCcO1nKwyu42ZSuXAdL9NKxbW9v6LMdb3esv744w+ZN2+eTJgwQbp37542YO7cubPccsstBMzICs9aAACih4AZAICQMOhFplxhmbeCcO0XtIJw7WcrDK7jZlK5cB0v00rFtb2/osx1vba8NCSeNWuWjB07Vrp27Zo2YD788MNl+PDh8uGHH65xLP95ghTWLjxrAQCIHgJmAABCwqAXmXKFZd4KwrVf0ArCtZ+tMLiOm0nlwnW8TCsV1/b+irJMrve7776TRx99VI466qiUAfNGG20k++23nwwcOFCmTJmS2HtNrnMnK6xdeNYCABA9BMwAYkEHEQwkUGwMepEpV1jmrSBc+wWtIFz72QqD67iZVC5cx8umknFt66+Kxl63zlr+66+/zM90gb8333xThgwZYsLj9ddfv+z7zh8wb7jhhrLzzjtLr169ZNy4cbJ8+XJzDHu8ivq+oHB41gIAED0EzABiwQ4mgGJi0AsXG5h5gzP/z5JVLlzHS1bJtg/CtV/QKjbXNWVb9niW//VUZbley3dla+XKlbJgwQL55ptvZPz48XLVVVdJx44dpVmzZlKpUiXnd5/WeuutJ3Xq1DEh88UXXywvvviifP3117Jo0SJZvXp14uhAcjxrAQCIHtIYALFgBxNAMTHohYsr1AtauXIdM9NKxbV9plVMrutZG8vy/1xnFHtnFa9atUp++eUX+fHHH+XLL7+UiRMnygMPPCCXXXaZ7L333lKjRg3nd56rNGjeY4895MILL5QxY8bIpEmTZPr06TJ//nxZtmyZCZu91+IqrJ141gIAED2kMQBiwQ4mgGJi0AsXVzAWtHLlOmamlYpr+0yrmFzXs7aUZWciaz/k0aNHy/XXX29aXegifFrDhg0r+3f9+aBBg8xsZZ19fMYZZ8jRRx8t7dq1k4YNGzq/71JV/fr1pU2bNvKf//xHzjzzTOnbt6/0799frrvuunLX4C39+dChQ+W+++4zbTmmTp2auBOsLXjWAgAQPaQxAGLBDiaAYmLQCxdXuBe0cuU6ZqaVimv7TKuYXNeztpSl/ZM/+eQTGTFihOyyyy5SuXJlqVq1qtSqVUtq1qxZrnSGspYu1Fe9enWpVq2a2VYX9dP9XN93qUpbaei+egw9lh5Xy57HnlevxVaVKlXMtnvuuacJuu+8887EnWBtwbMWAIDoIY0BEAt2MAEUE4NeuLjCvaCVK9cxM61UXNtnWsXkup61pawlS5aY2cv6vdSgQQPnd1bY5V30L9vSXs9nn322mc2MtQvPWgAAooc0BkAs2MEEUEwMeuHiCveCVq5cx8y0UnFtn2kVk+t61payfv75Z/noo49Ma4ytt97a+Z0VxWrVqpX83//9n9x0002JO8HagmctAADRQxoDIBZ0EMFAAsXGoBcurnAvaOXKdcxMKxXX9plWMbmuZ20pywbMgwcPlhYtWpR9T4UxyziM0uvwlv35jjvuKJdcconccsstiTvB2oJnLQAA0UPADABASBj0AgCQXzxrAQCIHgJmAABCwqAXAID84lkLAED0EDADABASBr0AAOQXz1oAAKKHgBkAgJAw6AUAIL941gIAED0EzABiobS01BRQTAx6AQDIL561AABEDwEzgFiwgwmgmBj0AgCQXzxrAQCIHtIYALFgBxNAMTHoBQAgv3jWAgAQPaQxAGLBDiaAYmLQCwBAfvGsBQAgekhjAMSCHUwAxcSgFwCA/OJZCwBA9JDGAIgFO5gAiolBLwAA+cWzFgCA6CGNARALdjABFBODXgAA8otnLQAA0UMaAyAWSkpKTAHFxKAXAID84lkLAED0EDADABASBr0AAOQXz1oAAKKHgBkAgJAw6AUAIL941gIAED0EzAAAhIRBLwAA+cWzFgCA6CFgBgAgJAx6AQDIL561AABEDwEzAAAhYdALAEB+8awFACB6CJgBxIIdTADFxKAXAID84lkLAED0kMYAiAU7mACKiUEvAAD5xbMWAIDoIY0BEAt2MAEUE4NeAADyi2ctAADRQxoDIBbsYAIoJga9AADkF89aAACihzQGQCzYwQRQTAx6AQDIL561AABED2kMgFiwgwmgmBj0AgCQXzxrAQCIHtIYALFgBxNAMTHoBQAgv3jWAgAQPaQxAACEhEEvAAD5xbMWAIDoIWAGACAkDHoBAMgvnrUAAEQPATMAACFh0AsAQH7xrAUAIHoImAEACAmDXgAA8otnLQAA0UPADABASBj0AgCQXzxrAQCIHgJmALFQUlJiCigmBr0AAOQXz1oAAKKHgBlALNjBBFBMDHoBAMgvnrUAAEQPaQyAWLCDCaCYGPQCAJBfPGsBAIge0hgAsWAHE0AxMegFACC/eNYCABA9pDEAYsEOJoBiYtALAEB+8awFACB6SGMAxIIdTADFxKAXAID84lkLAED0kMYAiAU7mACKiUEvAAD5xbMWAIDoIY0BEAulpaWmgGJi0AsAQH7xrAUAIHoImAEACAmDXgAA8otnLQAA0UPADABASBj0AgCQXzxrAQCIHgJmAABCwqAXAID84lkLAED0EDADABASBr0AAOQXz1oAAKKHgBlALOgggoEEio1BLwAA+cWzFgCA6CFgBhALdjABFBODXgAA8otnLQAA0UMaAyAW7GACKCYGvQAA5BfPWgAAooc0BkAs2MEEUEwMegEAyC+etQAARA9pDIBYsIMJoJgY9AIAkF88awEAiB7SGACxYAcTQDHFZdD7v//9T7766isZN26cPPzww3LnnXfKsGHDzHXrP/XPDz30kHldt9PtAQAVQ0X/jo/LsxYAgDghjQEQC3YwARRTRR30Lly4UMaMGSPHHnustGzZUipVquS87mSl2+t+ur8eR48HAIiGuH3HEzADABA9pDEAYkEHEQwkUGwVadD75ZdfmplqHTp0cF5jrqXH1ePreQAAhRXn7/iK9KwFAGBtQcAMAEBIoj7onTdvnvTt21d22GEH53Xlq/R8el49PwAgP9aW73gCZgAAooeAGQCAkER10Lty5Urp37+/VKlSxXk9hSo9v16HXg8AIBxr23c8ATMAANFDwAwAQEiiOOgdMWKENGjQwHkdxSq9Hr0uAEBu1sbveAJmAACih4AZAICQRGnQqwsxtWjRwnn+qJRen14nACAza/N3PAEzAADRQ8AMIBZKS0tNAcUUhUHvokWL5LDDDnOeN6ql1/vTTz8l7gAAkAzf8QTMAABEEQEzgFiwgwmgmIo96H333XelefPmznNGvfS69foBAG58x/+DgBkAgOghjQEQC3YwARRTMQe9999/v6y77rrO81WU0uvX+wAAlMd3/L8ImAEAiB7SGACxYAcTQDEVa9B75ZVXOs9TUUvvBwDwD77jyyNgBgAgekhjAMSCHUwAxVSMQe/xxx/vPEdFr65duybuEADWXnzHr4mAGQCA6CGNARALdjABFFOhB70nnnii8/hxKb0/AFhb8R3vRsAMAED0kMYAiAU7mACKqZCD3iuuuMJ57LiV3icArG34jk+OgBkAgOghjQEQCyUlJaaAYirUoHfUqFHO48a19H4BYG3Bd3xqBMwAAEQPATMAACEpxKB3woQJzmPGvfS+ASDu+I5Pj4AZAIDoIWAGACAk+R70fvvtt9KwYUPnMeNeet96/wAQV3zHB/uOJ2AGACB6CJgBAAhJvge9bdu2dR5vbSm9fwCIK77jg33HEzADABA9BMwAAIQkn4Pe2267zXmsta30fQCAuOE7/p8K8h1PwAwAQPQQMAMAEJJ8DXpXrVoljRs3dh5rbSt9H/T9AIC44Dv+3wryHU/ADABA9BAwA4gFO5gAiilfg96rrrrKeZy1tfT9AIC44Du+fKX7jidgBgAgekhjAMSCHUwAxZSPQe+cOXOkcuXKzuOsraXvh74vAFDR8R2/ZqX7jidgBgAgekhjAMSCHUwAxZSPQW/v3r2dx1jbS98XAKjo+I53V6rveAJmAACihzQGQCzYwQRQTGEPej/88EPn/tQ/pe8PAFRUfMenrmTf8QTMAABED2kMgFiwgwmgmMIe9Pbp08e5P/VP6fsDABUV3/GpK9l3PAEzAADRQxoDIBbsYAIoprAHvU2bNnXuT/1T+v4AQEXFd3zqSvYdT8AMAED0kMYAiAU7mACKKcxB76RJk5z7UuVL3ycAqGj4jg9Wru94AmYAAKKHNAYAgJCEOejt27evc1+qfOn7BAAVDd/xwcr1HU/ADABA9BAwAwAQkjAHva1atXLuS5UvfZ8AoKLhOz5Yub7jCZgBAIgeAmYAAEIS1qD3k08+ce5HuUvfLwCoKPiOz6z83/EEzAAARA8BMwAAIQlr0Hvttdc696Pcpe8XAFQUfMdnVv7veAJmAACih4AZAICQhDXo7dChg3M/yl36fgFARcF3fGbl/44nYAYAIHoImAHEQklJiSmgmMIa9DZu3Ni5H+Uufb8AoKLgOz6z8n/HEzADABA9BMwAYsEOJoBiCjro1b8M0W1d1a9fP+c+VOrS9831flIURUWp+I7Prrzf8foMdW3jL90WAAAUBmkMgFiwgwmgmHQw6x3cUhRFURRVnCJgBgCgcEhjAMSCHUwAxUTATFEURVHRKAJmAAAKhzQGQCzYwQRQTATMFEVRFBWNImAGAKBwSGMAxIIdTADFRMBMURRFUdEoAmYAAAqHNAZALNjBBFBMBMwURVEUFY0iYAYAoHBIYwDEQmlpqSmgmAiYKYqiKCoaRcAMAEDhEDADABASAmaKoiiKikYRMAMAUDgEzAAAhISAmaIoiqKiUQTMAAAUDgEzAAAhIWCmKIqiqGgUATMAAIVDwAwAQEi0D7gOaHOp0047zTlQplKXvm+u95OiglanTp2cn62gpfu7jktR3uI7PrvK5juetTkAACgcAmYAsWAHE0BF9/PPPzsH11Tq0vcNyJXrs5VJXXnllYkjAW58x2dXfMcDABBtBMwAYsEOQIA4aNy4cbmBNZW69P0CwvL9999L+/btnZ+1IHXSSScljgS48R2fWfEdv3bTv1zIV82cOTMvNXXq1LyUzsoPu5555pm81JgxY/JSI0aMyEt5/98PYdX555+ft+rRo0fo1blz57xUSUlJXqp169Z5q8033zz0ql27duil1xolpDEAYsEOQoA46NChQ7nBNZW69P0CwqZBsevzFqTatm0rn3zyiTPQSFWuoCLXcoUUYZQrqAijXEFFGOUKKnItV0gRpLbeemvn54ZyV7169ZyhRTblCinCKH84EVa5QoowyhVUhFGu3x9FURSVn9Lv8yghjQEQC/ZLdm3jCijCKFdIEUa5QoowyhVS5FqugCKscgUV3jr66KPL/ccDlbr22muvvM7o0HIFFbmWK6QIo1whRVjlDynCKFdIEUa5PisURVFUxSrX93tY5XomhVGu52cY5Xrm51qu/z4Jo1z/LRVGeWfxhlmuGci5lusvGMMq1/gh13KNWcIo1zgrjHKNCcMq1zg213KNucOoKKlwaYzrF5VLuT5MYZTrfwC5lut/rGGU68sljHJ9EYZRri/vXMv1kAmrXA/GXMv1EA+jXP/REUa5/gMprLL/IWf/I9T7H3fZlus/QMMo738sUxRFUWtHVatWzflMcJXrmZRruZ6dYZTreR9Guf77JIxy/fdUruX6774gdeKJJzo/K5S79L//XWOYbMo1xgqjXOPBMMo1fg2jXCFFGAUAWHtVuIDZ9R8dFEVRa2u5AoowyhVShFGukCKMcoUUuZYroAirXEGFv/T34PqdU+WrYcOG5f4S0vUXnmGUK6jItVwhRRjlCinCKldQEUa5gopcK0z6vm666abOz2CQYvE/+LVq1cr5WaHKl75PAAAg+ipcwKxBgiu0yLb8IUVY5Qorci1XSBFGuYKNMMo1YyOMcs1AzrW84UTY5Qoqci1XUBFG+UOKsMoVUoRVNpywAxFvYJFtuYKKMArIRN++fcsNsil36fsEhMX+N5cLi/8hTHzHByu+4wEAqBjowQwgFuxfFgBxMWnSJOdgmypf+j4BYbGfq1RyWfxv7733Nn+RCfAdH6z4jgcAoGIgYAYAIKKaNm3qHHBT/5S+P0CY7GcrnauuuqrcZzGT0lYb+v/uAfiOT118xwMAUHEQMAMAEFF9+vRxDrqpf0rfHyBM9rMVhLas8n4eM63Ro0cnjoS1Fd/xqYvveAAAKg4CZgAAIurDDz90Drqpf0rfHyBM9rMVlM5EZvE/ZIvv+NTFdzwAABUHATMAABHWu3dv58B7bS99X4Cw2c9XJlj8D7ngO95dfMcDAFCxEDADiAWdRUZPS8TRnDlzpHLlys4B+Npa+n7o+wKEzX7GssHif8gG3/FrFt/xAABUPATMAGLBDkqAOMplQbE4lr4fQD7k+peVufxvtUmTJvxF6VqK7/jyxXc8AAAVD2kMgFjo3LmzKSCOVq1aJY0aNXIOxNe20vdB3w8gqlj8D5niO/7f4jseAICKiYAZAIAK4LbbbnMOxte20vcBiDqdiczif8gE3/H/FN/xAABUTATMAABUEG3btnUOyNeW0vsHKgoW/0Om+I7nOx4AgIqKgBkAgAri22+/lYYNGzoH5nEvvW+9f6Ci6d69u/MzHaRY/G/twnc83/EAAFRUBMwAAFQgEyZMcA7O415630C+DRgwwFTYcl387/XXX08cCXHHdzwAAKiICJgBAKhgRo0a5Rygx7X0foFCsJ+5fGDxPwTFdzwAAKhoCJgBAKiArrjiCudAPW6l9wkUiv3c5QuL/yEovuMBAEBFQsAMAEAFdeKJJzoH7HEpvT+gkOxnL59Y/A9B8R0PAAAqCgJmAAAqsK5duzoH7hW9jj/++MQdAoVjP3+FwOJ/CILveAAAUBEQMAMAUMHp/23eNYCvqEUbABSL/QwWCov/IQi+4wEAQNQRMAMAEAP333+/rLvuus7BfEUpvX69D6BY7GexkFj8D0HwHQ8AAKKMgBkAgJh49913pXnz5s6BfdRLr1uvHyimAQMGmCo0Fv9DEHzHAwCAqCJgBgAgRn766Sc57LDDnAP8qJZe76JFixJ3AKydcl38jwXT1g58xwMAgCgiYAYAIIb0/3bfokUL52A/KqXXp9cJ4F8s/ocg+I4HAABRQsAMAECMjRgxQho0aOAc/Ber9Hr0ugC4sfgfguI7HgAARAEBMwAAMbdy5Urp37+/VKlSxRkGFKr0/Hodej0AUmPxPwTFdzwAACg2AmYAANYS8+bNk759+8oOO+zgDAfyVXo+Pa+eH4gyXWxPKyomTpwoTZs2df7vKkix+N/ahe94AABQLATMAACshb788ksZNmyYdOjQwRkY5FolJSUydOhQcx6gorCf3yhh8T9kg+94AABQSATMAACs5RYuXGj+7/jHHHOMWZRp3XXXdQYKyUq31/10fz2OHg+oiOxnOopY/A/Z4jseAADkGwEzAAAo53//+5989dVXMnbsWHnooYfkjjvuMDPhBgwYYP6pf9af6+u6nW4PxIEN1KKKxf8QBr7jAQBA2AiYAQAAgL/ZMDbKWPwPAAAAUUPADAAAAPzNhrBRx+J/AAAAiBICZgAAAOBvNoCtCFj8DwAAAFFBwAwAAAD8raSkxFRFwuJ/AAAAKDYCZgAAAKAC69+/vzNADlIs/gcAAIBcETADAAAAFVyui//dc889iSMBAAAAmSFgBgAAAGKAxf8AAABQDATMAAAAQEyw+B8AAAAKjYAZAAAAiBkW/wMAAEChEDADAAAAf7MBa1yw+B8AAAAKgYAZAAAA+JsNV+OExf8AAACQbwTMAAAAwN9sqBo3LP4HAACAfCJgBgAAAP5mA9U4YvE/AAAA5AsBMwAAAPA3G6bGGYv/AQAAIGwEzAAAAMDfbJAadyz+BwAAgDARMAMAAAB/syHq2oDF/wAAABAWAmYAAABgLcTifwAAAAgDATMAAACwlpo1a5bss88+zgA5SLH4HwAAAAiYAQAAgLVcLov/tWvXTmbMmJE4EgAAANY2BMwAAAAAWPwPAAAAWSFgBgAAAGCw+B8AAAAyRcAMAAAA/K2kpMTU2o7F/wAAAJAJAmYAAADgbzYgBYv/AQAAIDj+CxoAAAD4mw1H8S8W/wMAAEA6/Bc0AAAA8DcbjKI8Fv9D1Pzvf/8rq0wtXbpUBg4cKG3btpV69erJeuutZz6r66677hrl/Sy7Xi9E6bk32GADqVOnjmld07JlS9l5551lv/32k5NOOkkGDx4sY8eOlc8++0xWrlyZuMvy0r1P3vfTVQAApMN/QQMAAAB/s0ES1sTif4iSXMLPn376ybRw0cBWg1vX59VVrvA3XbmOk03psapWrSq1a9eWBg0ayKabbirNmzeXNm3aSKdOneSMM86QSy+9VIYOHSqjR4+WcePGyQcffCALFixI3HVq3vfTVQAApMN/QQMAAAB/s2EO3Fj8D1GRS/g5b9482WOPPcxnslKlSknLHxB7g+NMynXsTEqP4b2OdKX77LrrrnLuuefK008/LTNnzkz7PnnfT1cBAJAO/wUNAAAA/M0GNEiOxf8QBbmEnz///LNp+3LwwQfLgQceaD7PGjjvtNNO0qJFC9l8882lcePGstFGG63x+bWBb7qy2+sM6a222kpatWol22+/vSkNf/faay9Te+65pyn9d23ZseOOO5ZtpzOUmzVrJptssonUqFFD1l9//XLXkqqqVatm7kOPedhhh8nZZ58tL7zwgixevDjxLvzL+14mKwAA0uG/oAEAAIC/lZaWmkJ6LP6HYsol/Pz999/lvffek8cee0zuuusuufHGG+X66683ofMll1xiZv5qy4kuXbqY8HfLLbeUunXrlrXTcAXK3tJtqlevbnold+7cWS644AK57LLL5IorrpDLL79cBg0aJMOGDTPtLGzpn7WX8lVXXWW20br44oulT58+0qNHD+natasceeSR5n87O+ywgzn2FltsIQ0bNjRBeOXKlcv9b8xfGk5rv+aHHnpIPv/8cxOy//nnn4l3hBnMAIDcETADAAAAyBiL/6FYXCFokLL7asi8bNkys+Cfhq1Lliwxs3sXLVpkejQvXLjQlP752WefleOOO04aNWpU7jPsCpe19DUNgidNmmSOpaXHsaXn0fNp6bm9Za9By16H9lGeP3++ae2h/5w+fbq89tprcuedd8p5550ne++9t2y88cblrs1VOqtZZ0QfcMABJlj39mf2v0cAAGSKgBkAAABAVu69915nmBW0WPwP2fAGoplWpnS2vfYP15YV3s+uK1jWmcTaXkOD35UrVyaOED49tvZWfuutt+T++++Xq6++2sx0bt26tVSpUqXcdfpLg+b27dvLgAEDzEKA3uvM5v0BAEARMAMAAADIWq6L/2nrACAT/tA4aPmles368ssv5dprr5Xtttuu3OfWFTBrGw1ti6GtKFasWGH2957DVV7pXk/mr7/+ku+//9602tAez9qz2XutrtI2HpdeeqlMmTJFVq1aZY4T9HwAAPgRMAMAAADICYv/oZD8IWzQ8kv1mjV58mTp3bu3aS/h/cy6AuaqVaua/smffvqprF692uzvPYervNK9nsoff/xh2mhMmDBBTjjhBGnQoEG563WVzrY++eSTzT7asgMAgGwRMAMAAAB/0//LuBayx+J/KARXEBuk/FK9Zr388suy7777Ss2aNct9Xl0Bs84cHjNmjJm9rLOKlfccrvJK97pfsm3Gjh1rQuZatWqVu2Zb9nq16tWrJ7169ZI333wzsTcAAJkjYAYAAAD+ZgMX5IbF/xCGVCGr9zVvBeHaz1XWww8/bEJY/2fVHy5r6azh8ePHJ/b8l+u4lve1dOWX6jVtXbPHHnuU68nsumYtbe2h/7vVRQT//PPPxBEAAAiO/4IGAAAA/mbDFuSOxf+Qq1Thqfc1bwXh2s9fXrfeeqtUqlRpjc+oP6jdcMMNZc8995T3338/see/kh1beV9LV36pXvvpp59k+PDhsttuuyW9Zu+/axh944030ioDAJAV/gsaAAAA+JsNWhAOFv9DLlKFp97XvBWEaz9/Ke1pvHDhQtM2x/X59Ie1W2yxhZx++unyxRdfmP29/Mf28r6WrvxSvaY9oLU3ep8+fZJes7/atGlj+kcDAJAp/gsaAAAA+JsNWRAeFv9DtlKFp97XvJWOax9Xqd9++00mTZokp512mvOz6Q9rdQbwiBEjZPbs2WZ/L/+xvbyvpSu/VK9ZN9xwgzRs2FAqV65cdt32mv2lLWruu+8+E6wDAJAJ/gsaAAAA+JsNWRC+k08+uVyQlUmx+N/aKVV46n3NW0G49vOX0lYR2qqlY8eOzs+lP2A+9NBD5fnnn5fFixeb/b1cx7f8r6Uqv2Svef/84IMPys477yzVqlUru257zf7SRQo1UNc+0q7zAQCQDP8FDQAAAPzNhizIj1wW/2vcuDGL/yEtb+BqK1u64F2/fv1k++23L/sc2lDZFdJ269bNtJdYsWKF2d91LdlUUMn2e+qpp+SAAw6QWrVqrXHNtuz9rL/++rLlllvKwIED5a+//kocAQCA9PgvaAAAAOBv2mtVC/nD4n/IJ3/I6g1aMzVnzhzp3LmzmdVrA9hUAbP2Ol6+fHli7+gEzKWlpWZWsrbJ8F+zLf/9nHHGGYm9AQAIhoAZAAAAQMGw+B/yxR+yeoPWTH311VfSunVr85nzBsu2Un0uXdeRbQWVbL8PP/xQrrzyStlss83WuGZb/nvq0qWLWSQQAICgCJgBAMD/t3cn8FZO+x/HX7eSolEUV4ZUUpmbTN0GlYokpUIo0d9QyJwhkZkrShGuoSJEmW4qlwwlY5OZkqFQGpQGDaz//q2eta29znqePZxz9hn25/16/V5qP89az9p7r+21z7fnrAUAWcXmfygMbshqB63pmj17tqpfv76eb3aw7Iax5cuXV3Xr1lVjxowJWhavgHnu3LlpB8xdu3ZVS5cuDXoAACA5AmYAAAAARYLN/1CQ3JDVDlrT8euvv6qnnnoqfqe9HSy7YWy1atVUly5d1JQpU4LWxStgfvfdd9Ull1yi9txzz/iY3XKfU4cOHdRHH30UX08aAIBkCJgBAAAAFJn8bv73+uuvBz0h17khqx20pkOWlRg6dKiqWbOmnmd2sOyGsXvssYe6/PLL1XvvvRe0Ll4B8/Tp09Wpp56qdtttt/iY3XKfU6tWrXS71atXB70AABCNgBkAAACIkc2wpJB9bP4Hly8sNZI9HlapeuGFF1SvXr303ckyv9wA1q569erp+SfLvhiZXtdt52vrO8dXxiuvvKK6deumatSo4R2/r9q3b6/ef/99tWHDhqAXAACiETADAAAAMSZcQdFg8z/YfGGpEXbMftxXUezjo0aN0hv8VaxYUc+tsHBZ6sADD1RvvfWW+uOPP4LWeceRKred29Z3PKyMZ555RrVs2VJVqVJFjzfquZiSNZh/+OGHoAcAAJLjGzQAAAAQY8IVFB02/4PhC0uNsGP2476KYh+/8sorVYUKFeJhbFQoK0H0d999F7TcLp3r2tx2blvf8bAyRowYoe/ETuW5mOrZs2dCYA4AQDJ8gwYAAABiTLiCosfmf/CFpUbYMftxX6VCNrY7++yz4/NJAtmoULZz585q1apVQevkIXGUZG19x31lkzv7zViTPRdTffv2DVoDAJAavkEDAAAAMSZcQfHA5n+5LSwwFWHH7Md9lcy2bdv0P0706NEjPpfCQtkyZcqoOnXqqMGDBydshpfJdY1kbX3HfSXkufz8889q4MCB8TEnC5jlOclSGpdddpn6888/dT8AAKSCb9AAAABAjAlZUHyw+R8MX5DqViqi2q1cuVJvitemTZs8c8mEsyagLVeunDr22GPVmDFj1Lp164IeUg+BpVLha2cqiozpnXfe0ZsVus/B/N2tnXbaSbVt21Z/bpL1DwCAjW/QAAAAQIwJWVC8yAZqbP6X29xgNaxSEdVu0aJF6p577lGHHXZYnnnkBsw77LCDXspl6tSpelkNw9d/VCXjayOVzLJly9R9992nl4xxn4P5u1vVq1dXN954o5o/f35K1wAAwOAbNAAAABDTunVrXSh+2Pwvt7nhalilIqrdggUL9JIX9erVyzOH3IC5fPny6oorrlDz5s1TmzdvDnrIXsAsFeWzzz5T3bp1U7vttlue52D+7latWrXU7Nmzgx4AAEgdATMAAACAEoHN/3KTL1z1VTK+NlLG22+/rTp16qRq1KiRZ/64AbMskXH//fer33//PaEPt+9klYyvjVQy06dPV/vvv7/3OdiPmapQoYJ+7vKPOQAApIuAGQAAAECJweZ/uccXsPoqFVHtXnrpJb1xny+ENeGsOVaxYkX14osvBi3/5us/qpLxtTHlI5vzyeZ+o0aNUpUrV84zdjN+t+S3NyQwX7FiRdATAACpI2AGAAAAUKKw+V9u8YWrpvLD7ePJJ5/UG92ZeRIWysrf69evr1577bWg5d/ssbn9C99xU8n42pgyJGB+9dVXVd++ffVdye7zMGU/H1l7+ZZbbtHh8rZt24KeAABIHQEzAAAAUAR84ZAIe9xln2eXLdkx1x9//KHefPNNddddd6nTTjtNHXnkkWqfffaJB1U777yzvgv4kEMOUaeeeqoaOXJk0mUn3DH4rpsJ2fxv7733TgjK0ik2/ys5fHPIVH6Y9hLKbtiwQY0YMSI+P6IC2V122UUvJ/Huu+/q9jZ3fOYaNt85Usn42pgyZMmOYcOGqcaNG+uNCJM9l5o1a+rP+nvvvRf08PfrAgBAqgiYAQAAgCLgC4dE2OMu+zy7bFHHjPXr16slS5bozb3kDk4JpyRwatGihQ5wK1WqlBBISdi8xx57qCOOOEKdffbZ+tfqJeyVPqQvm3t9UwUlv5v/nX766QU6HhQOd/7YlR+m/aZNm9THH3+sLrnkElWmTBk9N6JC2QYNGqjLL79cb6TncsdnrmHznSOVjK+NlG3RokWqQ4cO3udgyn4uHTt2VF999VWefgAASAcBMwAAABBjApdsCQuIwh532efZZYs6ZsybN0/dfffd6phjjlG77rqrqlq1qtpxxx0Tgij5swneTMnfJXyWX68/9NBD1R133KEWLFigtmzZEvSc2hgLApv/lW6+OWQqP0z7devWqaefflqdfPLJKQXMRx11lF5mZenSpbq9zR2fuYbNd45UMr42cve1sXjxYv3bB7KOtBlr2POQTQpPPPFENXHixKA1AACZI2AGAAAAYkzwki12SGQLe9xln2eXLexxCaU+//xzNWHCBHXppZfqu4DNr9NLlS9fXv+KvQRQ559/vj7nsssuUwMHDlR9+vRR7dq1U7vvvnv8fClZTkOWnZgzZ44O7Ax7DL6xFBS589oeTzrF5n/Fm28OmcoP037lypXq5ptvVk2bNk0pYJbPhSyPYc9zwx2fuYbNd45UMsnajB8/XjVp0kQvZRP2HOS/ZcuWVYcffriaMWNGQkANAECmCJgBAACAGBMeZUtYSBT2uMs+zy6b7/GtW7eq7777Tt14442qUaNGeZbAkLuX5W5m2fRr7ty5QavtfYlffvlF/fe//1W9e/dOaCdVu3Ztdc011+jlNjZv3qzPt8dgqrCw+V/pFDV/3GNuuXzHf/75Z3XGGWfoO/jtgNmdH6ZkaRh3ORjD7d8tl++cdErIEh+vvPKK/kya9dJNuc9D7lyW8ctn1A3Iff1LAQCQDAEzAAAAEGMCmGwJC2/sYMd3XLjn+M7zPb5mzRr10ksvqXPPPVcddNBB+k5lO3w67LDD1LXXXquee+45NX/+fLVx48agZaJff/1V/2p9z5491Z577pnQR8OGDdWVV16p13WVMNs3tsLE5n+lj5nLvrlkH/OVLey4/INL69at9ftv3+lrzwu7rrjiCt1OmD4Mt3+3XL5zUilDgu433nhDLxMTNe/lsy5LZ8gyIHLnss3Xv10AACRDwAwAAADEmCAmW3zhjR3qpFuG7zEhobAEUbLEhR08SVWsWFHtv//+6qqrrlLLly8PWmwX1t+KFSvUyy+/rI4//vg8/R188MH6bmLZ+M9tlw1s/le62HPQfV/cY2657MfNfz/55BP9Dy7y3kuwbMqdF3L3r9ylL+uNG+41TP9h5fKdk0oZ8hk888wz9VroZvzuuKVkyZshQ4boTQDlH35svv7tAgAgGQJmAAAAIMYEMdniC2/sUCfdMuTP9rqq8vdvvvlGPfLII6pz586qZs2aCcGTLAlwyCGHqBEjRuigzV2T1XcNQ8JoWZtZNga0+5TAWjbPk5C5KLH5X+lgz0F3HrrH3HK5j//222/qxRdfVHXr1tXve1TALMvJtGnTRo0bNy5ovb0/m+k/rFy+c8LKJv/AI2uon3LKKQm/ReCOe7/99tOfg7Fjx+pNOH1817ILAIBkCJgBAACAGBPIZIsvvLFDnXTLsP8s5Nf/JVzu0qVL/DmaEMps5ichsS9MDbuG7aGHHlLNmjVTlStXjvdv6sILL/RuhJZNbP5X8kXNQ/eYWy73cflHldtvv13fmSzveVTALGs0n3feefo3AQz3Gqb/sHL5zjHlknXNN2zYoH7//Xf11FNPqVatWqmddtopzzhlw075PO61115q0KBBekNCsya6j+/adgEAkAwBMwAAAFAEfOGNHeqkW3Z7Q+5cfvjhh1XLli0TgigTnlWrVk3ddttt+tfmwwIo9xqumTNnqksuuUSv72r6N3XCCSeo6dOn6+U5ihKb/5VsUXPQPuYrl/u4zM9+/frp8Fje66iAWQLbe++9V68vbrjXMP2Hlct3jpTP559/rkaOHKnXUW7QoEGeDTpNHXroofofjaZOnaoWL14cuiGh4bu+XQAAJEPADAAAABSBsPDGDnbSKddPP/2k71zu2rWrqlChQp4QSpa1aN++vZo9e3bQYju7P7t/85hNHvv666/1XcwSarnXkA3/Bg8erN5///2gRdFh87+SK2oeusfcsvkef/TRR9WRRx6pdt55Z/0+RwXMsoyGrHmc7K58+zpupUPuVF66dKle2kKue8011+h/LJJlbexxlS1bVi+TIZt0duvWTd111136rmX3emFjMI+HFQAAyRAwAwAAAEXADW98QU6mAc8vv/yiXnjhBdWuXTsdPpkgyg7NOnXqpJ544gkdYBnmem5FkbuTJfySkM70bUqCsH333TdhzdqixOZ/JZM7H+2y+Y6HlXHzzTfru5fN58QOmO2SY7KczPz584OWqfNdNxlZY3nOnDnqscce0xtzytrpsqSNGy5LyWdM7sKePHmyWrVqldqyZYteSz3V69rn+QoAgGQImAEAAIAi4IY3viAnk4Bn48aN6vnnn9dhaI0aNfKEURKkyZ28w4cP1+su20tjmOu5FUWOS+jWtm3b+DVMIGdK1rh1Nw8sSmz+V7K489Eum+94WBlyh739/vqCZfNfueN/zZo1QcvMyWdO7k6WTTJlGZtPP/1UffDBB+rVV1/Vm/FdeeWVqm/fvnrd9COOOCLP57h69er6cQmV77jjDvXss8/q30SQ/lzu8/WxXxdfAQCQDAEzAAAAUATc8MYX5KQb8Pzxxx/qs88+iwxQ5W7HM888U/3vf/8LWm1nruWrZORuy+OPPz5+DRPImbr88svzhNlFjc3/Sg7fnDRl8x33lbFy5Uod5Jr31Q6WTZnHd9xxRx0wv/fee/qufZnPqZasg2z+PHfuXP3Ze+WVV9STTz6p7rvvPv0PMEOGDNGfy8MPPzzPXcqy1rLMOdmI8KCDDlI9evRQd955p5o1a5b3MxX1nH1859sFAEAyBMwAAABATOvWrXVlixve+IKcdAMeWetY7siUtWJNOOWGVRIEy+ZfEq7ZzLV8lYzc1Skbj9nXsat37946UCvqzf5c+d38T9a4RuHzzUlTNt9xt4zffvtNvfnmm3ojSvN+uuGyWxL01q9fXx144IGqUaNG8ZK1xk3Zj/uOHXDAAboP+YzKP/ZIaCzh8e6776522WUXVbFixfh4dthhB32tAQMGqAkTJuhwWzbkXLJkib5becOGDcGz+ZvvOUtF8Z1vFwAAyRAwAwAAADEm1MkWN7zxBTnpBDybNm3Sm3tVqVIl/lwkFDN/lpLN/uzN6tzrh1Uysu7rqaeemnAtu+TX+WVJDtkQsLhh87/izzcnTbl859hlyHrcY8aM0XPTvJduoGyXb+3jwi5Zc3m//fZTZ5xxhnrmmWd0KO7je55uhfGd6xYAAMkQMAMAAAAxJtTJFje88QU5qQY8skSF/Lq9rNlqnocbisndkV27dtXrMxvu9cMqmdWrV+v1YCXA9gVxe+yxh+revbteZ7Y4+uGHH9j8rxhz56NdyYSd+8knn6iBAwcm3O3vlnyGzH9r1aoVv/NYSoJfU+Yx93H7uPwjhqydLEttmD7dsq9tl9zh3LNnTzVlyhT9mwdmPXP7uRVUAQCQCQJmAAAAIMaEOdniBjq+cCfV0GfOnDk6gNpzzz3jz8MNrWRtV9lAzL6L2L1+WCUjS2Scd955qlq1anoTQXNNu2Tt2OK+bjGb/xVPvjlpKpmwc2VTPFkSx77j3y3783PBBReol19+Wb344ou6JOyVeuGFF3TJY+bP5ph9zuTJk/VdyPIPQePHj1dPPfWUvoP6iiuu0MvLNG7cOOHadslSGfLZbtasmf6cyWaA8o86hgTO9vPMTwEAkAkCZgAAACDGhDklybZt23TQ9J///EffKWmHUqYkJJM7i2UJiy+//DJouV1YsGQ/bpfLPCa/un/JJZfodWTLlSuX5/ryX7mLedq0afr84ozN/4ofdx7alUzYuRLSpro0yk477aSefvrpoGXB+vzzz9WkSZPU1VdfrY466ih9p7R8Xn3jkJJjZ599tv5NhJ9++kn/P8Cwn2umBQBAJgiYAQAAgBgT4JQka9eu1ZvnyfIUcpejHUSZknCsadOmen3mLVu2BC3zhlEu93jYOULGcfnll+sNy+xx2HdRV61aVT333HP6/OKOzf+KF3ce2pVM2LlyN7F8Nnzvn12yDrJszicbYxaGzZs3q99//10vcyN3wD/wwAP6tw2iQmbZbLBJkyb67ufFixcHPRXMncwAAGSCgBkAAACIMeFNcWeHQD/++KPq1auXXprC/nV+u+Su4uuvv169//77auvWrUHLvKGdyz0edo6QgPmyyy5LGjA/+OCD+q7LkoDN/4oPdx7alYx7roSwsinliBEj4nfbh312pGrWrKm6deum3n33Xd1e2H2afg33mFvJLF26VH9OjjvuuDzLd9jrm8uYJfi+44479F3Qpm/f9dzHwgoAgEwRMAMAAAAxM2fO1FVSrFu3Tt8RXK9evYTQyfzZlIRQsj7s+vXrE0KkZOGSezzsHGECZlkn1r2T2oypcuXK6qabbkoI6oo72fyvVatWCc8nnWLzv4Jhz8Go8nGP//HHH3oOXnTRRfruZHmfogLmAw44QF177bXqs88+0+2F3afp13CPucddYeeOGzdOtW3bVu28887xscg4TZnHGjZsqIYMGaJD8yjudewCACC/CJgBAACAEkZCMlkTtnfv3qpGjRoJAZT9ZykJqT755JOg5d+ShUzu8bBzRCoBswRlEupNnDhRtylJ8rP5n6yry+Z/+ePOw7DycY/LP7TIJnsnnnhiSncwy/s3YcIEtWzZMt1e2H2afg33mHvcFXaurGsu/4Dkbv5nPtf2Y8ccc4xe+1uW2gjjXscuAADyi4AZAAAAKGHk1+gHDRqUEOi6wZOEZ7KW69ChQ9XPP/8ctPxbVMBkHws7R5jHJQyTNZj32muvyID53HPPVWPHjtVtSho2/ys67lwMKx/3uMzVG264QR188MGqbNmy+v1xA1u7TjjhBDVv3jy1ceNG3V7YfZp+DfeYe9zlO19KyF3J8o8bskyHGY/5nNtj3nXXXdXgwYPVe++9p9v5+K5hCgCA/CJgBgAAAIqQG/L4gh/zZ/mv3C0sYaXctRgVOslGYBI6vfPOO947G33XcCsZc46EdnIHswTM9rID9ngkYJbNCEeOHKnblERs/lc03HkZVj7u8ZUrV6rTTjtNr29s1jS256lbEvCazTHtvuyyJTvu8p0vJeRzJXdPS8htxmM+V+6Yq1evrjfyDOO7hikAAPKLgBkAAAAoQm7I4wt+7D+/+uqrqm/fvqpWrVrxcEmCMjdwkrtmH3vsMb0kgGxs5vJdw61kzDlr1qzRd1TLnZZhd1TvtNNOOti7/fbbdZuSis3/ss+dl2Hl4x6XpS7atGmj3wszP93Pjil5/NJLL9XthN2XXbZkx12+86XEpk2b9PI2F198ccKYTNljlTrvvPNC12L2XcMUAAD5RcAMAAAAxMgSCFLZ5oY8vuDH/Hnr1q3q+uuv13df2sGSGzhVrFhRHX300fruZcPuT/iu4VYy5pzVq1fr5S9kIz/7rlB7TBIwd+/eXY+/pGPzv+yy52RU+biPf/rpp+qwww7T74OZo/Y8NSX/ULLffvsl/IOIez1TtmTHXb7zpYT8w5D89sFtt90WH1fUmE866ST1xhtv6DufXb5rmAIAIL8ImAEAAIAYE9JkmxvwhAU/8mv6X3/9dZ4N53yBU5MmTfSdsnK+EXYdw/zdrmTMOXLX5JlnnhnfNM0el/m7hN5dunTRazWXFvnd/G/x4sVBT4gSNS/dY27Zfv31V71xXoMGDfR74PvsmJIlZjp16qSefPLJoPXfoq7hHktWqXjggQfi47LH7I5dPvcSRi9ZsiRo6Rc1BveYexwAAB8CZgAAACDGhDTZ5oY4YcHOd999p8aPH69at24dH6uUL2iSO2SnT5+u15s13P7ca5i/25WMOUcC5p49e+YZl/33ChUqqA4dOqgLLrhAtykt2Pyv8EXNSfuYr2wLFixQw4cPjy9x4vvsmKpRo4a65JJL1Ntvvx20ThR2DfvxVCoVsva3+ccbe8zu2PfZZx/Vv39/fZd2MmFjsB/3HQcAwIeAGQAAAIgxIU22pBLk2I+99tprqlu3bmqPPfaIjzUsaBoyZIhasWJFwtrLya4VJqyN/ZiswSy/nm+Py/zZ1I477qiXlZD1o0ubJ554Is/zTafY/C+aPQfNnDPcY27Zpk2bpvr06aN23XVX/br7PjumJPwfPXp06N3AYdewH0+lUiH/sFS1atX42Oxx22OXNdBPPvlkNXfu3KBluLAx2I/7jgMA4EPADAAAAMSYkCZb0glyZO1lCbtq164dH6eUL2SS9ZlHjRoVtAwPvFKRrI157KefftLLCdjjMn82JQHzEUccoU455RTdprRh87/CEzUP3WNu2WTTy8MPP1yvBy6vue/zY0rey5kzZ+bpwwi7hv14KpWKcePG6d8AMGOzx22PXZ6XLL0yZ86coKVf1BjcY+5xAAB8CJgBAACAGBPSZEuqQc6GDRvUZ599pn9d37fGsR0wySZ7zZs3V88++2zQOjzwSkWyNuZxWXrg2GOPTRib+bOp8uXL683VOnfuHLQufdj8r3CYeWbK5h5zyybrE8udwGZ++j5Dpho1ahS5RnbYNezHU6lUjB07Nj4ue8zu2MuWLasOOuighM09w4SNwX7cdxwAAB8CZgAAACDGhDTZkmqQs3TpUr2EwnHHHRcfo5QvYNp///31GsezZ88OWocHXqlI1kYeW7dunb7Ts2XLlgljM382JQFz06ZNVdeuXYPWpReb/+WfO/fsytSVV17pfc2lzJyV/8pclfXCZd1zkc413bEma+s7X0ps27ZNrV69Wq8bbY/TlHnMlGyk2aJFC/Xuu+/q9gAAZAsBMwAAABAjm7VJZUtYqOT66KOP1Gmnnab22muvhDDJFzTJXcQTJkyIB2PCdx2pVCRrI4/J8hjPP/+8DrbssZk/m5IlMo455hj9XHIBm//ljzv37EqXrEW+bNkydfbZZ3tfbykzZ+W/++67rzrvvPP0P+6IdK7pjjVZW9/5UmLTpk36twMuuuiihHGaMo+Z2mWXXfRSNfL/DAAAsomAGQAAACgCYaGSa8qUKerAAw/MEyj5gqZTTz1Vff3112rLli1B6+gAK5lkbeSxb775Rt9hLctf2GMzfzZlAmZZBiJXsPlf5ty5Z1e6ZBNK2eDvhBNO8L7OUvaclbvxR4wYoX799VfdPp1rumNN1tZ3vpSQ3w545ZVXVO/evRPG6X7uTck/Qp155plq4cKFuj0AANlCwAwAAAAUgbBQydi8ebNasmSJuv322/Xaym6Y5AuaZJ1mw9e/XalI1kYemzt3rl7bVtastcdm/mwqFwNmkd/N/6699tqgp9zizj270iVrY0tgbN9l75Y9Z+Ufav773//qgFekc013rMna+s6XEhJwy7jlc2OP0/3cm6pXr55eIufzzz/X7QEAyBYCZgAAAKCI2aGSIeHSww8/rI4//ni1ww47RIZLsmZsnTp11L///e+gtb/PZEybsLa+Y1OnTlX9+/f3LuFh/10C5rZt2+pzcw2b/6XPnmtupUs2yRwwYID+jPheXyl7vspazYsWLdL/yCPSuaY71mRtfedLCVmiQ5bq2GeffRLG6ft/gFTDhg3V5Zdfrr766ivdHgCAbCFgBgAAAIoBEyoZEnCdccYZqlatWqps2bKR4ZKcc/LJJ6tJkybF+3H7S8YEW3a5fMcee+wxHZ5Wq1YtYUzuOCtUqKDD8sGDBwctc0/fvn0TXqN0Kpc3/7PnnT33UjVnzhx19NFHq5122sn72krZc3XUqFFBy+3ye/2otlHHZC31Nm3aqDJlysTHZz5X9nhNHXTQQeq6667Ty9YYqVzXLgAAMkHADAAAAMTMnDlTV1Fxwx3Z3OuII45ICJDCwqUGDRqom266SX3wwQfxftINi0zAZJfLd0zumpZfzZc7lO0xueOsWLGiXnpAltPIZWz+lz573tlzL1UzZsxQtWvX9r6mblWpUkU99dRTQUv/50IqHVHtoo7J/wPM0jP2Z9/9bJlq3ry5/jz6Nvm02dd0CwCATBAwAwAAADEmpCkqJtyR/27atEm99NJLar/99ouPKypcatasmXruuefUTz/9lNBPOuR8t1y+YzfccEPkGtHm73L3qCyPMWbMmKBl7mLzv/TY886ee6mSO/t33nln72tpl/wjiGxWKZ89w722qXREtQs7Jht1vvbaa/FlPezPvvvZMiVL0IwbN079/PPPQS9/9++yr2sXAACZIGAGAAAAYkxIU1RMuCPrvsqv9Muvuu+xxx4JAVJYwNS6dWu1cOFC3d70k25YZAImu1y+Y7Lmqz1GU+4YJeCT9WQfffTRoGVuY/O/1PnmXSr+/PNPtXLlSnX//ffrJVp8r6Nd8nmTu+xnzZoV9OD/XEilI6pd2DEJieUfIsyd1/bn3v1smTrhhBPUq6++qlavXq37COtb2MfsAgAgEwTMAAAAQIwJaYqCHe5s3LhRh7ASFoWta+yGSz169IjftWj6STcsMmNwy+b+XcK7c845J2EsptxxVqpUSV166aVq8uTJQWuw+V9q7PmYzvOVu4Dnzp2rrrrqqpQCZtkkb/jw4erzzz8Pekjtc5FMVLuwY/PmzVM33nijXl9dxmZ/9t3PlqlevXqpDz/8UK1fv173Eda3sI/ZBQBAJgiYAQAAgBgT0mRLWLCzbt06dc0116i6deuq8uXL6zGFBUo77LCDDqAuuugitWbNmqCHv7l9+64Xxj7XLkOu9/bbb6uTTjopz7jsMuOWtW0lMLPvDsV2bP4XzTcPk5WQf6yR5TFOOeWUPJ8lu8xreeSRR+qlZnxLTLhl8x23y+U7R8omy3Scdtpp8X9kihq3qX79+qklS5boYF34riHl8p1jFwAAyRAwAwAAADEmpMmWsABn2bJl+s7UcuXKxccUFijJXcGysdddd90Vv2vR5vYfdk0f+1y7DNlIbMKECXrdV3dcdplxV61aVd1zzz3qyy+/DHqAjc3/wvnmYbIS8pm4/fbbVZMmTeKfJ/NZssu8jp06ddLzc+vWrbq98PUtZfMdt8vlO0fKNnr0aHX44YfrdaGTjdvUwIED1YYNG4IeUruO8J1jFwAAyRAwAwAAADEmpMkWX4AjwdZHH32k2rRpkxAchQVKNWrU0GvGPv300/puTZfbv++aYexz7TI++eQTdccdd+gNBt1x2WXGXb16dfXwww/rZTXgx+Z/fr55mKzEb7/9pgYMGKB23XVXVaZMGf0amc+SXeb1k8+SrNssfH3aZfMdt8vlO0fKJr/FIP8ok8q4TV155ZVB6+gxuXzn2AUAQDIEzAAAAECMbJQnlS2+AOf7779X48ePV4cddlhCcBQWKO255546iJo9e7beHNDl9u+7Zhj7XLuMd999Vy/NccABB+QZl11m3LvvvrtefgDR2PwvL988TFZClrro2LFjwutjPkv2Z0pCXFmjWeaz4evTLpvvuF0u3zlStgsvvDBy3GbsdhVEwGwCdgAA0kHADAAAABQBO9QxZs6cqQYPHqz222+/hOAoLFCS8+SuVdksbtu2bUEvf3P7910zjH2uXcarr76qunbtqoNjd1x2mXHvv//+6rXXXgtaIwqb/yVy52BU2eQu+6ZNm8ZfF/M5skse33HHHfUGf7Kchvkc+fq2y+Y7bpfLd46UIb/JYK/L7Ru3lDlu6uqrrw56iB6Ty338jz/+UCtWrNDrwdvLhQAAEIaAGQAAACgCvrDnoYce0msqy4Z4bngk5QZL9evXV2+++aZuGxUcRVUY33H773KntYTG9lrRdplxyn8rV66s7w5/5513gtZIBZv/bWfmYiplrFq1Sr388svq4IMPjr8m5vNjlzwu81P+sWTixIkpLZHh8p1jl8t3jpSxdOlS1atXr8hxS5njpoYOHRr0kNn4jUWLFunlbOTzunz58uBRAADCETADAAAARcANerZs2aKXN5CN+9zgyJQbLEkY/cUXXwQ95O3TBEdRFcZ3zH7s/vvvVzvttFPC+Owy45T/yp3W/fr1U3Pnzg1aI1X52fxvjz32UP/73/+Cnkq2sPnolvH555+rf//736pu3boJr4n5DJmSx3bZZRd1+eWX66VmTB9uv24ZvmNuuaKOyVrqH3/8sTrhhBNCx2zKHJeSz+Itt9wS9JLIvp7vmuYxuVv5l19+0b8Vceyxx6ohQ4aoyZMn62MAAEQhYAYAAACKgBv0yJ2C//d//5cQKtkBkv1Y2bJl4xv8yd2GhtunCZSiKkzUMXH33XfrcbhjNGXGKv89+uij1W233aa++eaboDXSweZ/4cLmsyw3c8455yRdwkWqZs2aauzYsfrOYZvbd6blijq2evVqvZRMu3bt4uOTz1BYyXH5HO62227qrrvuCnrJK+qa5rHff/9dTZkyRZ100km6X/mtA/uuaAAAwhAwAwAAAEXADnrWrl2r757s1q1bQqhk/uw+JmvGSmgra8b++uuvQS/ZI2uzJruz1oxV/iuB1VNPPaWWLVsW9IB0vf3222z+52EHp/ZnSpa7kGVCon4jwJTc6S2bK7rcvjMtV9QxWdpj2rRp+g5iMz75DIWVHN9hhx303LjvvvuCXvKKuqZ5TP5fIpsLSlgt/fbp00c9++yz+hgAAFEImAEAAIAYE+Zkix30fPXVV2rUqFE6EDPjMOGRXeaxnXfeWfXv319vtFcUm3DJshwXXXSRd4ymzDH5ryyPIWtFy92ZyByb/+VlQlNThoStEpSWKVPG+1rY1ahRI/Xll18GLf/m9p1puaKOyT/eyNrHHTt2jI9PPkNhJccrVKigDjjgAPXAAw8EveQVdU3z2Ndff62OOeaY+HVvuOEG9e233+pjAABEIWAGAAAAYkyoki120PPee++pwYMH66DLjMOER3bZgZL8Cv1VV12lxowZo8aNG6cee+yxeD3++OPxPz/66KORZbezyz0mfcp1Ro8erddmbdmypXeMpuxjl112md5w7o8//gieMfKDzf/+5gtO5c9yx7bv+bsl/1jTqVMnHa667L7zU66oY/IPRjKWk08+OT5G+SyFlRyX9ZebNGmiP7Nhoq4pNmzYoKZPn64aNGig+6xYsWJkfwAA2AiYAQAAgBgT5mSLHfTImqu9evVSe+21V3wcJjyyy4RKclem/Fp8+fLlddhslwRDptxjvrLP97VzH5flOeS65cqV847RlH1MNh8jXC5YbP63nRucbt68WW8mKXdrm+drPjf2a2CqXr16auDAgfru8FTZ1zTXLUiyZI6sr27GaMYf9hwkJG/RooVeqzsd9tjlNwwGDBigKleurP/f0r59e/XGG28ERwEAiEbADAAAAMSYsCZb7HBn8uTJ+s7SqlWrxscRFSgVl0pljPKc7r///uCZJj5v5E9p3vwv0/B2yZIl6o477lDNmzePP8+oeXrYYYfpsP7nn38OekiNGV8qY0z1XPu4hL1mjMk+Z3IHc9OmTfVvGhj2NX3XtR+X/9588816s0Pp76CDDtKf2dJ0pzsAoHARMAMAAAAxJqzJFjv0kaCwTp06edaLDQuW5DE5t2zZsvFy/+4rOcdU2OPuMbvkmD0eMz7fGKXkTsj69evrpTUMX9iFzJXWzf8ymSeyzMOkSZPUkUcembC5X9QcrVu3rrr44ovVb7/9FvSSGhmfqWRSPdc+LusfyxrS8psCMs6w8UvJbxXI8jpjx44NWide072u/Xf5zYL58+cn3DHdtWtXtXTp0uAMAACSI2AGAAAAYky4ki12yDNy5Ej9a+5mDKZ8wZiEtnJX8L777qtDJamGDRvqTb7kv1El55jyPeYeM2WuIeuz7r777jpstscXFn5Vr15d/etf/1JTpkwJnmni80bBKK2b/23atEktW7ZMff/99/rO5G+++UZviPn555+rhQsXqnnz5qmPPvpIh+wvvviiXo/8jDPOiIfL9vwMm6O77LKLatu2rV5jXPqSsHXBggW6PvvsM73536JFi/T1f/zxR7VixQodZBupvG5yjqko9vGXXnpJh77uc3HHLyWfR1n25N577w1aJ14z6rryHGVNdfkHLulrn332UbfddltwlM8rACA1BMwAAABAjAlrsk3CquHDh8evb5cvVKpVq5b+9X8JBeXOy0GDBqkLL7wwXrKerK/sc+xzfY9L2W0vuugidf755+vwTu4OlTWY7fGFBV8SWsmGdDNnzgyeLYFVYSptm/9JsCvLPowaNUrdfffd6sYbb1RXX321nvfnnHOO/gzIZniypINZH1zK3GnvlvuczeMynyVolmUmZI7L6yglc//KK6/US2jIshsPPPCAvkNaAm4jlflsQt5k55rj8l/5/8LLL78cX5fdN3675B+ebrrpJt1e2Nc0/drkMVmvWpZJqVKliu5D/kFo6NCheg1r08bXFgAAFwEzAAAAUETkDs2vv/5aDR48OE9gJOULxo455hgdJL3++uv6jk65w1ICL7kTUUr+HFbmHPtc9zFTdjsZo4ROzz//vF4b1txtbcYXFn5JGC13VUofBoFV4Sotm//NmjVLh8otW7bUwa/UwQcfrO+kl2VX5E7bPffcU68bbO6ot8uem2Fz1H1MgubatWvrUFdKls+Q60mA3aRJE72RnszpO++8U61atSoY6XZR81qO2eUKaysBu9zFLOG3PWbfc5GS/4/I/1OMqGvK3dj33HOPOuKII3RbCeU7duyo3nrrLb1shmkTNjYAAGwEzAAAAEARWblypZo2bZq+EzMsAHMf79Onjw4B7V/Tz4atW7fqO5HlTuZUA+aTTjpJL1+wZs2aoBcCq2woDZv/SbjcpUsX7/iKuk477TS9dIcdwprysY9HlWvt2rXqySefVN27d1eVK1f2jsWubt26qTfffDPh82aTz7Ack3+UkjvDJaiXdnL3d7t27fTGfiY4jxoXAAAuAmYAAACgiHz77bfqvvvu02vA+kJaX3h72WWX6XYSFmXTL7/8opcJkDtKZRmCqDGakrudf//996CHv0MrFL6SvvmfLEdx4oknesdWlCVLUciaxX/++Wcw0sILmOUx+fzIP0LJkiC77rqrd0ymZFNAec3kvfeRdatvvvlm1blzZ32ntrSR53PsscfqIFs2OjTjiBoXAAAuAmYAAACgiHz66afq0ksv1b/6n0rALL/Gfuutt+pfYXfZgZAbDLl/z4Ssz3vWWWfpZRTsJQnCAmbZnEyWazB840Lhyu/mf3KnblG9X++8844aPXq06tWrl15nuWfPnvrPvrKP9e7dO7TMueZ8+3FzzPzZfaxHjx76twcuueQSHfjaks1t+3hU2ey/S/A7ffp0vRa6LBUi67DL/wt875lsAPp///d/+g7l5557Tm9+KOtGy13pMnZZ7sOcK4G0PK///Oc/+o5sQ8LzsHEBAOBDwAwAAAAUkQ8//FCvsSrrvYYFzPbfJbSV0M3HDoTcYMj9eyZkHWVfWOkLmKtVq6bPffTRR+PXNWPI7ziQvpK4+Z/MEwk6t23bpu/WT6Xk3GQVdr79uK/MeTIm++5lkWxu28ejysc8Ltf+6aef1AsvvKADb3MHcljJbxnI2s0SIst/5e/2Z1WWuZHAWtZcludnuGMy1wcAIAoBMwAAABDTunVrXdkk4Y5s2rfTTjvlCWml7MckIDrwwAPVxIkTg9aJooIh9++ZeP/999UhhxySMD4pO7QyJZujXXHFFfpX9c11zRjyOw5k5sYbb0x4j9Kp4rT5X3GUbG7bx6PKx338119/1Rsgjhs3Tg0fPlz1799fderUSW9AKJ+76tWrq3LlyiW8f7J5oQTN8v+P448/Xl155ZVqwoQJeuNOuTvacMdjCgCAZAiYAQAAgBgTxmST/Kr9fvvtp6+bLGDec8899a+zy6/K+0QFQ+7f0yHtNm7cqF5++WW1//77J4xPyhcwN2vWTP9afjoboaHwldTN/+y5E1WpCDvfftxXUZKdZx+PKp+o4z///LOaMmWKXoqmX79+6l//+pf+/0nNmjXjG3HKcjaydnPz5s3VGWecoe6880711VdfBT3kZV8v7LoAALgImAEAAIAYE6Jl0+TJk3UYJNc1Qa1bZlyNGjVSgwcPVu+9917QensYZP4bFgbZx+yyRR3bsmWLXiv6rrvu0kt5mPHY5Y5Vlsf47LPPdHvTX1j/yC65q3yfffZJeP/SqaLe/A8AABQ/BMwAAABAjAnQskXWVH3qqaf0esVyXTtUtsuM68gjj1T33nuv+uKLL4IeooNh4R63y/AdkzI2bdqk75KUOyTlTkgznqjq3r17/Ffvo/pG0SiIzf/cdYgBAEDuImAGAAAAYkx4li2///67evzxx1MOmGXt1KlTp6oVK1YEPWQnYF6/fr0aOXKkXp+6cuXK8fH4qmLFiqphw4bqhhtu0O1EVN8oWiVx8z8AAFD8EDADAAAAMSY4y5alS5eqMWPGpBww9+nTR6+dunXr1qCH5OGt77gpw3dMyli3bp3esG/vvffWm4WZ8fiqRo0aepzPPvusXrdZRPWNosfmfwAAIL8ImAEAAIAYE5ply/z589Udd9yhqlSpoq/rC5elzLjOP/98vVyFLVl46ztuyvAdkzIkYO7Vq1d8HFElGxHefPPNau7cuXrtZhHVN4qHkrr5HwAAKB4ImAEAAICYmTNn6sqWGTNm6A3TzLITvnBZyoR4chexzRfcStl8x00ZUcfEt99+q4499tj4OKJKNiJ87rnn1Jo1a+Jr9CbrH8UDm/8BAIBMETADAAAARUA2+Bs0aJDaeeeddUAXFizLn6tXr66XMrD5glspm++4KSPq2KpVq/S6z7LBoBmPr8yY27ZtqxYuXBi03i6qfxQvP/74I5v/AQCAtBEwAwAAAEVANvi74IILkgbMsnGe3Bl83333BS23SzW49Z1nygh7/KOPPtJLXhxwwAHx8fiqXLlyenO/yy67TP30009B6/Bro3hj8z8AAJAOAmYAAACgCIwbN05deOGFqlKlSjqYCwuYZeO89u3bq/HjxwcttwsLa31Brv2YW4b7mPxX7rI+4YQT1G677RYfj11mnBKS9+vXT7344ot6eQyX3bfpH8Ubm/8BAIBUETADAAAAReDhhx9WAwYMSBow77XXXurss8/WS1XYwsJaX5BrP+aW4XvstttuU7vvvrsqW7ZsfDx2mXHKEh6jRo1SK1asUNu2bQtaJ/L1j+Itv5v/yRwHAAClHwEzAAAAEDNs2DBd2XLvvfeqs846K+kSGfvvv7+67rrr1Jw5c4KW24WFtb4g137MLcN9bOvWrWrgwIHxcdhjch9r0KCBev3113U7H7tv0z9KBjb/AwAAyRAwAwAAADEmEMuW4cOHq549e6qddtpJX9cOl+0w96CDDtJh9Keffhq03C4srPUFufZjbhn2nzdu3Kjmz5+vx2fGYY/Jrvr16+s7sd3x2cKuiZKBzf8AAEAUAmYAAAAgxoRh2XLDDTeoHj16JA2YDzvsMPXoo4/m2TgtLKz1Bbn2Y24Z9p8XLVqkHnroIfWvf/0rPg5fwFymTBnVvXt3NWnSJPXLL78Erf1810TJwuZ/AADAh4AZAAAAiDFBWLbcfffdqk+fPvGAOayaNGminnzySfX999/Hw1k7pI0KbN1A1/zdfVzYf3/rrbd0mFinTp34OHwBc7ly5fSd2GvXrg1abufrH6UDm/8BAAAXATMAAAAQY0KwbBk5cqTq169ffA3msGrRooV68cUX1fLly+OhrR3eRoW57jHz97DzDQm0DznkEFWxYsX4ONyAuXz58qphw4bq2WefDVopvQyCfY1k10HJxOZ/AADARsAMAAAAxJjwK1vcTf7CSpapmDVrll4X2QS2dnAbFeS6x8zfw84Xv//+u7rtttsSwmUpN2CWcPnSSy9V77//ftAysf9k10HJxuZ/AADAIGAGAAAAYkzwlS1jxoxR/fv3Txowt2/fXn355Ze6jQls7eA2Ksh1j5m/h53/22+/6TBb7qy2xyDhsil7XC+//HLC2st2/2HXQOkhm/+1bt06Ya6kU2z+BwBA6UDADAAAAMQMGzZMV7bIMgMXXHCBqlSpkjd8M3X88cerFStW6Da+8DYqzA07N+x8CbJl88HmzZsnhMm+gFnWaJZlO2x2/2HXQOnD5n8AAOQ2AmYAAACgCMjaxZdccomqXLmyN3gz1aVLF7V69WrdxhfeRoW5YeeGnS+b+7Vp00ZVqVIlT8Bs/iybEsrGg3IHtn33qd23XcgNbP4HAEDuImAGAAAAisDUqVPV1VdfHQ+Y7RDXLgmYV61apdv4gtuwv9tl+B6zyeZ+1apV09d171g2deCBB6q77rpLzZ8/P96P3W8qhdJp3LhxeeZLOsXmfwAAlEwEzAAAAEARkM3xbrnlFlW1alUdrhVlwLxhwwb1ySefqOuuu05VqFBBX9cXMMvfu3btqj766CO1efPmoDUBM/7G5n8AAOQeAmYAAACgCHz77bdq5MiRCXcMu2GbVDYCZlnj+aGHHlInnHBCaMAsjzds2FAvhbBx40bdzu4vnULpxuZ/AADkFgJmAAAAIGbmzJm6suX3339Xjz/+eMIdzL6QubACZvvxpUuX6lCvRo0aqkyZMt7xyLGbb75ZLVy4MB7+uf2lWsgN+dn878gjj1SLFi0KegIAAMUZATMAAAAQY4KtbHr++edVrVq19HV94bJUNu5gfvPNN9VBBx2UcF13PMccc4yaM2dO0GI7u790CrmDzf8AACj9CJgBAACAGBNqZdP06dNV48aN9XWjAubVq1fr830hbdjf7TLcx7Zu3arXzL3yyit1mGeuad+9XK5cOR0u33777fpOZ5vdXzqF3MLmfwAAlG4EzAAAAECMCbOyadasWapt27aqSpUqoQHz8ccfr5YvX67P94W0YX+3y3Afk+BaNho8/PDDVcWKFROua8Yja0QPGTJEb+y3adMm3U7YfaVbyD1s/gcAQOlFwAwAAADEmCArmz7++GN15plnqn333Tc0YO7YsaNasmRJ0OJvblibSnhrjpv/fv755zrAtq/njqNBgwbqpZde0ucb5lpR13OPp9IGpRub/wEAUDoRMAMAAAAxJsTKpi+//FINHTpUNW/ePDRgbt++vQ6CXWEBbhT7+DfffKPGjh2rDjjggPi1ZIM/s8mfVKNGjdQVV1yhzzUk4DPXirqeeyyVNsgNbP4HAEDpQsAMAAAAxJgAK5uWLVumJkyYoLp27RoaMLdp00YvTyHrJdvcsDaV8NY+PnHiRH338q677hq/lozBHsfAgQPVZ599pjZs2BC0SgyKo67nHk+lDXIHm/8BAFB6EDADAAAAMfKr+1LZtHHjRn138qBBg7xBmpSMac6cOeqPP/4IWm0XFuCmQoLtq666StWsWTN+x7IdLNeqVUv16NFDvfjiiwnXNdewK4x7PJU2yC1s/gcAQOlAwAwAAAAUIQlc77rrLlWuXDlviHb00Uer6dOnqzVr1gQttnPD2lTD259++kkHx8cdd5z3elJdunRRL7/8svrll1+CVokBsV1h3OOptEHuYfM/AABKPgJmAAAAoAjYQesTTzyh6tWr5w2ZDz74YDV69Gj1xRdfxNv4wlr7MfeYberUqapz586qRo0aea5VoUIFvR70Pffco5YvXx608Iu6hi2Vc5Db2PwPAICSjYAZAAAAKAJ28Praa6+pnj17qj333DNPeLbvvvuqiy66SL3++uvxNibctfuwH3OPiW3btukgb8iQIaF3S0uYfcMNN6gPPvggaBUdEEcdM1I5BxBs/gcAQMlEwAwAAAAUATt4Xbx4sV5PVpbDcIMz2YSvU6dO6sknn4y3kf+aMuzH7DIkfBs8eLA68MAD81yjbNmyqnHjxurKK6/Um/pt2bIlaBUdEEcdM1I5BzDY/A8AgJKHgBkAAAAoAnbwumnTJrVw4UJ9B6fZdM9U+fLlVd26dfWyFYa0NWXYj9mPi99//12NHz9eNWzYMKFvKbmbWR6/9NJL9V3SNl9ftqhjRirnADY2/wMAoGQhYAYAAABiTDiVLW7wunHjRnXnnXeq/fffX+24444JgZnUVVddFZyZGCYb9mP2erTr16/Xgd3JJ5+sKleunKffRo0a6Tub58+fn2cdW/carqhjRirnAK78bv53zTXXBD0BAIDCRsAMAAAAxJhgKlt84e2bb76pBg4cqH/V3w7LpGQjM3eNWbu9L8j96aef1HPPPadOOeUUVbt27YT+KlWqpJo2barXZJY7l7du3Rq0+rsv3xht+T0ORGHzPwAASgYCZgAAACDGhFJFRYJYuYv5nXfe0RuW2UGZlDw2cuRI9fXXXwctErlBrgTGDzzwgGrXrp2qXr16nv5atmyp/v3vf6uvvvoqaJHIhMNRAbF9TlQB+cHmfwAAFG8EzAAAAECMCaSKigliV65cqYNkuXPTXo9ZNvtr06aNuu+++yJD5h9++EHfCT1ixAh13HHH5QmX99xzT9W9e3cdPn/yySfeO5eFCYftx1z2OVEF5Beb/wEAUHwRMAMAAAAxJowqKiaIlV/pX7VqlXrmmWdU/fr1E4IyqbZt26r7779fffvtt/p8mzz29NNPq1NPPVXtvvvuegM/0+4f//iH2nnnndXpp5+u3njjDX2NKKkExPY5UQUUBDb/AwCgeCJgBgAAAGJMCFUUfEHsd999p0aNGqVOOOEEVaVKlfj4ZO3kJk2a6HWVL774YjV06FB17bXXqvPPP1/17NlTL32x2267xc+XatCggerTp48aPXq0evfdd5OGyyKVgNg+J6qAgiJLyLD5HwAAxQsBMwAAABBjAqii4oax8mdZLkPuSJZ1lP/5z3+qypUrq7JlyyYEZrvssouqWrVqwmPly5fX51asWFHtv//+6oILLlCvvvpq0HNqzHjsMbnsc6IKKEhs/gcAQPFCwAwAAAAUA74wdtu2bWr58uXq/fffV4888ogaOHCgDpvljuRatWrpu5llGQwpCZRlWYzGjRurLl26qMsuu0yNGTNG/fe//1ULFizQYXU6UgmI7XOiCigM/fr18wbIqRSb/wEAUHAImAEAAIBiIFkQu2zZMr0GrYTMsg7zIYccojfsk40A5Y7lfffdVx1++OGqc+fO6uqrr1aTJ09WP/30U9D6b6kGvqkExPY5UQUUlvxs/if/IMPmfwAA5B8BMwAAAACgxGLzPwAAihYBMwAAAACgRGPzPwAAig4BMwAAAACgxGPzPwAAigYBMwAAABAjwZQUgJKNzf8AAMguAmYAAAAgxgRMAEq+/G7+99prrwU9AQCAZPgGDQAAAMSYcAlA6cDmfwAAZAffoAEAAIAYEyoBKD3Y/A8AgMLHN2gAAAAgxgRKAEoXNv8DAKBw8Q0aAAAAiDFhEoDSic3/AAAoHHyDBgAAAGJMkASg9GLzPwAACh7foAEAAICYmTNn6gJQurH5HwAABYuAGQAAAACQU9j8DwCAgkPADAAAAADIOWz+BwBAwSBgBgAAAADkLDb/AwAgfwiYAQAAAAA57aabbvIGyKkUm/8BAHIdATMAAAAQM2zYMF0AchOb/wEAkBkCZgAAACDGhEQAcpds/rfvvvsmBMfpFJv/AQByEd+gAQAAgBgTEAHIbUuXLs3X5n+nnnqq2rZtW9AbAAClH9+gAQAAgBgTDgGAYPM/AABSwzdoAAAAIMYEQwBgsPkfAADJ8Q0aAAAAiDGhEADY2PwPAIBofIMGAAAAYkwYBAAuNv8DACAc36ABAACAmGHDhukCAB82/wMAwI+AGQAAAACAFLH5HwAAiQiYAQAAAABIA5v/AQDwNwJmAAAAAADSxOZ/AABsR8AMAAAAAEAG2PwPAAACZgAAAECbOXOmLgBIB5v/AQByHQEzAAAAEGPCHgDIBJv/AQByFd+gAQAAgBgT9ABAptj8DwCQi/gGDQAAAMSYkAcA8mP8+PEJwXG69dBDDwU9AQBQMvANGgAAAIgx4Q4A5Beb/wEAcgnfoAEAAIAYE+wAQEFg8z8AQK7gGzQAAAAQY0IdAChIbP4HACjt+AYNAAAAxMidhlIAUNDY/A8AUJoRMAMAAAAAUMjY/A8AUFoRMAMAAAAAkAVs/gcAKI0ImAEAAAAAyBI2/wMAlDYEzAAAAAAAZFl+Nv874ogj2PwPAFBsEDADAAAAAFAE2PwPAFAaEDADAAAAMSa0AYBsYvM/AEBJxzdoAAAAIMaENQCQbWz+BwAoyfgGDQAAAMSYoAYAioJs/temTZuE4DidYvM/AEBR4Rs0AAAAEGNCGgAoSvnd/O+bb74JegIAIDv4Bg0AAADEmIAGAIoam/8BAEoSvkEDAAAAMSacAYDigM3/AAAlBd+gAQAAgBgTygBAccHmfwCAkoBv0AAAAAAAFFNs/gcAKO4ImAEAAAAAKObY/A8AUFwRMAMAAAAAUAKw+R8AoDgiYAYAAAAAoIRg8z8AQHFDwAwAAAAAQAkya9asfG3+N2TIkKAnAADyj4AZAAAAiGndurUuACgJ2PwPAFBcEDADAAAAMSZ0AYCShM3/AABFjW/QAAAAQIwJXACgpGHzPwBAUeIbNAAAABBjwhYAKInY/A8AUFT4Bg0AAADEmJAFAEoqNv8DABQFvkEDAAAAMSZgAYCSjM3/AADZxjdoAAAAIMaEKwBQGpx99tkJwXE6xeZ/AIB08A0aAAAAiJk5c6YuACgt2PwPAJANBMwAAAAAAJRSbP4HAChsBMwAAAAAAJRibP4HAChMBMwAAAAAAJRybP4HACgsBMwAAAAAAOQINv8DABQ0AmYAAAAgZtiwYboAoLTLz+Z/tWrVUjNmzAh6AgCAgBkAAADQTHgCALmAzf8AAAWFb9AAAABAjAlNACBXsPkfAKAg8A0aAAAAiDGBCQDkkmXLlrH5HwAgX/gGDQAAAMSYsAQAchGb/wEAMsU3aAAAACDGBCUAkKvY/A8AkAm+QQMAAAAxJiQBgFzG5n8AgHTxDRoAAACIGTZsmC4AyHVs/gcASAcBMwAAAAAASMDmfwCAVBEwAwAAAAAALzb/AwAkQ8AMAAAAAABCDR8+3Bsgp1Js/gcApR8BMwAAAAAAiMTmfwCAMATMAAAAQMzMmTN1AQD82PwPAOBDwAwAAADEmAAEABAuv5v/9e7dm83/AKCU4Rs0AAAAEGPCDwBAcmz+BwAw+AYNAAAAxJjgAwCQGjb/AwAIvkEDAAAAMSb0AACkjs3/AAB8gwYAAABiTNgBAEgPm/8BQG7jGzQAAAAQY4IOAED6CmLzv61btwa9AQBKEr5BAwAAADGtW7fWBQDIHJv/AUDuIWAGAAAAAAAFhs3/ACC3EDADAAAAAIACxeZ/AJA7CJgBAAAAAECBk83/6tSp4w2QUyk2/wOAkoGAGQAAAAAAFAo2/wOA0o+AGQAAAAAAFCo2/wOA0ouAGQAAAIgxQQYAoHCw+R8AlE58gwYAAABiTIgBACg8+d38b+zYsUFPAIDigm/QAAAAQIwJLwAAhYvN/wCgdOEbNAAAABBjggsAQOFj8z8AKD34Bg0AAADEmNACAJA9bP4HACUf36ABAACAGBNYAACyKz+b/1WuXFldcsklauLEieqVV15Rb731lpo7d65atGiRWr58udq4cWNwFQBAYeEbNAAAABBjwgoAQHb88MMPasaMGWrUqFGqffv2CcFxQVa5cuVU7dq11bHHHqsuvPBCNXLkSH3d77//PhgJACA/+AYNAAAAAAAKzcqVK9WkSZP0ncp9+vRRTZs21Xce+8LgbJeMQ8Yj45LxyThlvACA1BEwAwAAAACAArN582Y1bdo0ddVVV6lmzZp5g93iXs2bN9fjl+chzwcAEI6AGQAAAAAA5Mvs2bPVzTffrJehKFOmjDe0Laklz0eelzw/eZ4AgEQEzAAAAAAAIG3PP/+86t69u6pWrZo3mC2tJc9Xnrc8fwAAATMAAAAAAEjRhx9+qAYPHqx23313b/iaayWvg7we8roAQK4iYAYAAABiWrdurQsAkGj58uVqxIgRel1iX8hKbS95feR1ktcLAHIJATMAAAAQYwICAMB2sgREjx49EkJUKrWS140lNADkCr5BAwAAADEmFACAXPfwww+rRo0aJQSmVGYlr6O8ngBQmvENGgAAAIgxYQAA5KoHH3xQNWjQICEgLaqqWLGiqlmzpqpbt6469NBDVcuWLdXxxx+vevfurc4991x16aWXqlatWun/yt/lcTku58n50k7aSz++/rNd8rrK6wsApRHfoAEAAIAYEwIAQK4ZPXq0qlevXkIgmo0qU6aMvsO3W7du6uqrr1aPP/64mjNnjlq9enUwsoIh/Um/0r9cR64n15Xr+8ZVmCWvs7zeAFCa8A0aAAAAiDE//ANArhg5cqSqU6dOQgBaWFWuXDnVvn17deutt6opU6aoL774Qv3111/BSIqGXF/GIeORccn4ZJy+8Rd0yesurz8AlAZ8gwYAAABizA/9AFDajR07Vu29994JgWdhVIsWLfQdw9OnT1dbtmwJrl68yThlvDJuGb/veRVkyfsg7wcAlGR8gwYAAABiZs6cqQsASqu5c+eq4447zht0FkTJshMXXniheu6559SqVauCq5Zs8jzk+cjzKsyND+V9kfcHAEoiAmYAAAAAAEq56667zhts5rcqVaqkBgwYoN58883gSqWbPE95vvK8fa9HfkveJwAoaQiYAQAAAAAopV566SXVuHFjb5iZn+rYsaMaN26c2rp1a3Cl3CLP+4knntCvg+/1yU/J+yXvGwCUFATMAAAAAACUMj///LPq27evN8DMtGSJiOHDh6vFixcHV4GQ10Nel4JeQkPeP3kfAaC4I2AGAAAAAKAUGT16tKpatao3tMykWrVqpV544YWgd0SR10leL9/rmEnJ+yjvJwAUZwTMAAAAQMywYcN0AUBJtXnzZnXWWWd5g8pMqm3bturll18Oekc65HWT18/3umZS8r7K+wsAxREBMwAAABBjfogHgJLogw8+UIceemhCKJlptWvXTk2dOjXoGfkhr6O8nr7XOd2S91feZwAobvgGDQAAAMSYH+ABoKR55JFHEoLITOu4445T06ZNC3pFQZLXVV5f3+uebj388MNBrwBQPPANGgAAAIgxP7gDQEkycODAhPAxk5LN6V588cWgRxQmeZ0LYjNAed8BoLjgGzQAAAAQY35oB4CS4Msvv1QtW7ZMCB0zqeuuuy7oEdkkr7vv/Uin5P2XeQAARY1v0AAAAECM+YEdAIq7Z555RlWpUiUhbEy3OnTooObOnRv0iKIgr7+8D773J9WSeSDzAQCKEt+gAQAAgBjzwzoAFGejRo1KCBjTrerVq6sHH3ww6A3Fgbwf8r743q9US+YFABQVvkEDAAAAMcOGDdMFAMXVrbfe6g0XU63+/furFStWBL2hOJH3Rd4f3/uWasn8AICiQMAMAAAAAEAxN2TIEG+omErtuOOOavz48UFPKM7kfZL3y/c+plIyTwAg2wiYAQAAAAAoxgYNGuQNE1OpFi1aqIULFwY9oSSQ90veN9/7mUoNHDgw6AkAsoOAGQAAAACAYqpv377eEDGVGjBgQNALSiJ5/3zvayol8wYAsoWAGQAAAACAYqh79+7e8DCVGj16dNALSjJ5H33vbyol8wcAsoGAGQAAAIiZOXOmLgAoaps2bVIdOnTwhobJqmHDhmrWrFlBTygN5P2U99X3ficrmUcynwCgMBEwAwAAADHmh3EAKGonnnhiQkiYavXo0UOtX78+6AWlibyv8v763vdkJfMJAAoT36ABAACAGPODOAAUpf79+yeEg6lWv379gh5QmmW6JrfMKwAoLHyDBgAAAGLMD+EAUFSGDBmSEAqmWoMGDQp6QC6Q99s3D5KVzC8AKAx8gwYAAABizA/gAFAURowYkRAGplrXXHNN0ANyibzvvvmQrGSeAUBB4xs0AAAAEGN++AaAbJswYUJCCJhq3XbbbUEPyEXy/vvmRbKS+QYABYlv0AAAAECM+cEbALJpxowZCeFfqnX//fcHPSCXyTzwzY9kJfMOAAoK36ABAACAmNatW+sCgGyZP3++ql69ujcAjKrHH3886AFQej745klUybyT+QcABYGAGQAAAACALFu/fr1q0KCBN/yLqtGjRwc9AH+TeeGbL1El80/mIQDkFwEzAAAAAABZduaZZ3pDv6gaNmxY0BrIS+aHb95ElcxDAMgvAmYAAAAAALJozJgx3rAvqi644IKgNRBO5olv/kSVzEcAyA8CZgAAAAAAsmTu3LnekC+qevToEbQGkpP54ptHUfXxxx8HrQEgfQTMAAAAAABkSYsWLbwBX1i1atVK/fXXX0FrIDmZLzJvfPMprGReAkCmCJgBAACAGPNDNgAUlosvvjgh1EtWDRs2VL/88kvQGkidzBuZP755FVYyPwEgE3yDBgAAAGLMD9gAUBgmTpyYEOYlq8qVK6uFCxcGrYH0yfyReeSbX2El8xQA0sU3aAAAACDG/HANAAVtyZIlqlq1aglBXrIaP3580BrInMwj3/wKK5mnMl8BIB18gwYAAABizA/XAFDQOnbsmBDiJauBAwcGLYH8k/nkm2dhJfMVANLBN2gAAAAgxvxgDQAF6dFHH00I75JV06ZNg5ZAwZF55ZtvYSXzFgBSxTdoAAAAIMb8UA0ABWXTpk2qdu3aCcFdsvrggw+C1kDBkXnlm29hJfNW5i8ApIJv0AAAAECM+aEaAArKFVdckRDaJauRI0cGLYGCJ/PLN+/CSuYvAKSCb9AAAAAAABSwefPmeUO7sDr99NODlkDhkXnmm39hJfMYAJIhYAYAAAAAoIB16dLFG9j5qm7dumrt2rVBS6DwyDyT+eabh76SeQwAyRAwAwAAAABQgJ566ilvWBdWkydPDloChU/mm28ehpXMZwCIQsAMAAAAAEABqlevnjeo89Upp5wStAKyR+adbz76SuYzAEQhYAYAAAAAoIAMHTrUG9KF1RdffBG0BLJH5p1vPoaVzGsACEPADAAAAMS0bt1aFwBk6vvvv/eGc2F1/fXXBy2B7JP555uXYSXzGwB8CJgBAACAGPMDNABk6oorrkgI5KKKZQdQHKSznIvMbwDw4Rs0AAAAEGN+gAaATKxZs0ZVrFgxIZCLKjZOQ3GQzoaUMr9lngOAi2/QAAAAQIz5ARoAMjF8+PCEMC6qTjjhhKAVUPRkPvrmqa9kngOAi2/QAAAAQIz54RkA0vXXX3+pWrVqJQRxUTVv3rygJVD0ZD765qmvZJ7LfAcAG9+gAQAAgBjzwzMApOu+++5LCOGi6txzzw1aAcWHzEvffPWVzHcAsPENGgAAAIgxPzgDQLrq16+fEMBF1YIFC4JWQPGxcOFC73z1lcx3ALDxDRoAAACImTlzpi4ASMdjjz3mDeF81atXr6AVUPzI/PTNW1/JvAcAg4AZAAAAAIAMNWnSxBvA+eqdd94JWgHFz6xZs7zz1lcy7wHAIGAGAAAAACADzz//vDd881WnTp2CVkDxJfPUN399JfMfAAQBMwAAAAAAGUhnSYGpU6cGrYDiS+apb/76iiVfABgEzAAAAAAApGnt2rXqH//4hzd4c+voo48OWgHFn8xX3zx2S+a/fA4AgIAZAAAAiBk2bJguAEjFI4884g3dfPX0008HrYDiT+arbx77Sj4HAEDADAAAAMSYH5YBIBUdOnRICNrCqkGDBkELoOSQeeubz27J5wAA+AYNAAAAxJgflgEgme+++y4hZIuq66+/PmgFlBwyb33z2VfyeQCQ2/gGDQAAAMSYH5QBIJm77rorIWCLqk8++SRoBZQcMm9989lX8nkAkNv4Bg0AAADEmB+UASCZZs2aJQRsYXXEEUcELYCSR+avb167JZ8HALmNb9AAAABAjPlBGQCizJs3LyFci6p77rknaAWUPDJ/ffPaV/K5AJC7+AYNAAAAxJgfkgEgyjXXXJMQrEXV0qVLg1ZAySPz1zevfSWfCwC5i2/QAAAAQMywYcN0AUCU+vXrewM2tzp16hS0AEoumce++e2WfC4A5C4CZgAAAAAAUvDtt996wzVfPfbYY0EroOSSeeyb376SzweA3ETADAAAAABACh5//HFvsObWDjvsoDZs2BC0Akoumccyn33z3C35fADITQTMAAAAAACk4Oyzz/YGa2517949aAGUfDKfffPcLfl8AMhNBMwAAAAAAKSgXr163mDNrfvuuy9oAZR8Mp9989wt+XwAyE0EzAAAAEDMzJkzdQGAz+LFi72hmq/mzZsXtAJKPpnPvnnuK/mcAMg9BMwAAABAjPnhGAB8Ut3srGbNmkELoPSQee2b726xuSWQm/gGDQAAAMSYH44BwKdfv34JQVpY9ejRI2gBlB4yr33z3S35nADIPXyDBgAAAGLMD8cA4FO3bt2EIC2sRo4cGbQASg+Z17757pZ8TgDkHr5BAwAAADHmh2MAcC1atCghRIuq+fPnB62KxubNm9XLL7+szjzzTL3pWqVKlVSNGjXUwQcfrE466SR17733qiVLlgRnZ2bp0qXqmWeeUYMHD1bt27fXoaJcx7wGVapUUYcccog69dRT1T333KM+++yzoOV2f/31V/CnaO55q1evVmPHjlWXXXaZOuaYY9Tuu++uryXX3GmnnVStWrXUgQceqHr27KnuuuuupO+F9O+rbEtnDOmcW5DktTTvb7KSzwuA3MI3aAAAACDG/GAMAK5HH300IUALKwk4i5IExzfffLNq2rSpDl7/8Y9/xMdWrlw5vY5uw4YNVceOHdUtt9yifv31V90u1ZDyhRdeUP/3f/+nWrZsqRo3bqx23XVX3a+5xo477hj/c9myZdU///lPfd6RRx6pzjvvvISNVNMJRiUwv/jii1Xr1q3V/vvvr59HmTJl4teyS667xx57qEaNGqkjjjhC9e/fX7322mtBT4nXNQGtW9mWzhjSObegyfz2veZuyecFQG7hGzQAAAAQY34wBgDXVVddlRCghdUpp5wStMi+H374Qd10002qdu3aeiwtWrTQ4eoll1yi+vbtq+8oLl++fHyse+21l7rjjjvUjz/+GPTgD303bdqkPvjgA3XnnXfqu4ZN+z333FMde+yx+jmfccYZOni+9tpr1cCBA1WvXr3UYYcdFj9XSoLo7t276zuff/vtt6D3cHLdjz/+WN8BLcGy6UdCawmsTz75ZHXWWWepc889V4fPF1xwgb5zWe7Utq8rdeKJJ6onn3xSrVy5UvdtP087qPU9/2xwxxA1jnTOLWjyXruvra/k8wIgt/ANGgAAAIiRAEMKAFwSZvqCNLdGjRoVtMguWRZj6NCheskIGUerVq3Um2++GRzdbuLEierwww9PGG/16tV1u61bt3oDyw0bNqipU6eqrl276vPl7uC9995bde7cWf373/9WX331lb62Sx6TIFnuIpY29jX32WcffcxlX3fLli3qjTfe0EG1ua7cLS13Tkso/u6776q1a9cGZ/9NxitBsoTpO+ywQ8J1JRCXO2vNdezrpcK8NlHl4zsvlQqTzrkFTea3/ZqGlXxeAOQWAmYAAAAAACLIur6+IM2t6dOnBy2yR+70ffXVV/VSFDKGZs2aqV9++UX9+eefwRl/k7t83TEfdNBBasyYMTpkFnZgOWzYsITNDaX9ggUL9DEJgd1r2G0lZF64cKHab7/9Eq4nJXdCP/3008GZ29ltx48fr4466qj4+eecc4766KOP9DEZp1w3LFiVcUnwbV4Pu5o3b64ef/zx4Mz0yPWSlY/vvFQqTDrnFjSZ3+5r6iv5vADILQTMAAAAAABEsNcWjqr8bp6XiVWrVqkTTjhBX1+CPTdAtQPI22+/Xe222255xi1LTqxbty44S6n169erK6+8Mr7chqxlPGnSJLV48WK1bdu24Ky83MBTQmZZPsNsxGdXv3794qG2IWG5LLPRoEEDfU79+vX1ndeyaVzUdX369OmjKlasmOe63bp1U8uXL/cG8FHMc4sqH995qZZPqucVBpnf7uvpK/m8AMgtBMwAAAAAAISQUNUXorlVoUKFoEX2SOgqG+dVq1ZNj0HuMLaXjnDDx8cee0wvH2HGbDYBrFGjRnxJDVmT+YYbbtBLUsgyEz169FAzZsxI6CvqDmJhH5Nr2ktzmGvKY9OmTdN3HAsJfWXZDdlITjbwa9++vZo8eXJCEJwsTLWP/+c///FeVzYJlLBcwuxMyXV8lapkbd2/Fycyz81rGlXyuQGQOwiYAQAAAAAIISGoL0BzSzaXyxYTQH7zzTd6QzUJTyUQfuihh/TjYQGlLEshdyu7Y99ll13ULbfcor777ju9mZ8Ey7IhoNztKxvtGSYMNZWMnDNv3jzVpUsXfR0Zpwl65U5q2Rjwjz/+0Oc++OCDqmbNmnq95U6dOqnZs2frx13uGNwyPv300/gazuba5rnKXdVr1qwJzswrql/Dd46vfFI5p7jybaLoK/ncAMgdBMwAAAAAAIQYOXKkN0BzS+70zRYTSkqIZwI/WRLi/fff14+HhZaPPPKIdz1pWcKif//+6uKLL1aHHXaYDnk7duyoA2fDDkRNpULuiO7du7e+jh0wyzVknWW5k3jKlCmqRYsW+vE2bdqoL774Imidl28cdhnLli1TZ599dvw5mutK7bvvvnqd6jBR/Rq+c3zlk8o5xZXMc/M6RpV8bgDkDgJmAAAAIMb8UAwAtkGDBiUEZ2E1ZMiQoEX23HvvvfHrP/HEE96N+myjR49W9erVSxi3lIS91atXV1WrVlU777yzateuXUK4LNxQNOwaLjlP7lSW65iA2YS9u+++u3rxxRdV586d9d9lw0HZoC+KOwa3DFlT2t7U0L6uPFdZ1zlMVL+G7xxf+aRyTnEl89y8plElnxsAuYNv0AAAAECM+aEYAGzHHXdcQnAWVrLWcDbJXb5y17Fc+5///KeaM2dOcCSRHWAOHTpUB8ju2O1q1qyZeuWVV4IWqQW65r8+sk70gAEDdN9uwCxLcbRq1Ur/WYLvJ598MmgV3afLHY9YvXq1Ou+88+LPy1xf/lu5cmX14YcfBmfmZffn9mukck6movoqyOtkQua5/ZqGlXxuAOQOvkEDAAAAMeaHYgCw1alTJyE4C6tZs2YFLbJj/PjxqkmTJvru45NPPjnPnb928GlCSfdOYvc5VKpUSd1+++36XLd9KuUjm/edfvrpkdeV53Dttdfq86P6CuMbw7fffqvXWnavJSUB83vvvRd6Hbs/U65UzsmPsP7ca4adV1hknvteU7fkcwMgd/ANGgAAAIgxPxQDgK1cuXIJwVlYrVixImiRHZdddpm+A1jWT77tttvUzz//HBzZzg4f5b+yfMZpp52mxxoW9EqfX375ZbxNuuWSxxYsWKBOPPHEyOueddZZCetH+/qKYtrY7d599934dd2SpUDM8/Sx+3P7NVI5R/z5559qy5YtejPDjRs3qg0bNqj169fHyzwma1Fv3rxZv09hfQn3mlHnFgaZ577X1C353ADIHXyDBgAAAGLMD8UAYEjoZ4dmYVWhQoWgRfb07NlTX1uWx5BwVkJMmx0+yjIVcs6xxx6r27hBb5kyZdTee++t3nrrLX1+ptzQU8LVGTNmqLZt23qvKyV3E8s6zKmyr+Er44UXXogvv+FeW0J52QQwjK9ft1K1ZMkSfbe5rEl8/PHHq8MPP1zVrVtX1a5dW282ePTRR6v27durc889Vz3wwAPqtddei6+l7ZOfsRQUme/mdY0q+fwAyA18gwYAAABizA/EAGCkerfmbrvtFrTIjh9++CEeFsvaxbLesMsOHyV8fvDBB9WBBx6o25iw1QSuckfvXXfdpVauXKnPz5Qbekqw/fDDD6tDDz004bryZykJKuWu6mQb+9nsa/jKkOsedthh8WvZ15WAN+qOc1+/bkVZu3atmjRpkho4cKDq1KmTOuCAA/TyI+b6bsnYatSooRo3bqwDZ1nyRNbLlrDZ/ocD3ziksk3mu+95uJXtu/oBFB2+QQMAAAAx5gdiADAWL16cEJiFVbbXm5Xw8pBDDtHXlgDTvXtZ2OGjLM8gG+2ZYNANeiV4ltA6v9zQUwLmwYMHqz322MN73V133VX997//1UtFpMq+hq+MG264Qe2zzz7xa5nr7rjjjqply5aRYbqvX7fCzJ8/X915553qqKOOil9bNlZs2LChOvLII1WHDh1U586d9X/lnEaNGnnDZ2nTpUsXde+996qPP/5Yv4cinbEUllTXJZd1sAHkBr5BAwAAAADgIesH+4Iztw4++OCgRXbcd999qkGDBjrou+eee5IGzLLGr4SbZrx20CtLVJx66qnxZRnyE1iaa5o+JGBu166d97pScmezjE2kel37Gr4yZGNBeykHc91q1arp5+u769vw9euWS5aDmDdvXsLz3WWXXXSAfMEFF+h/FPjoo4/UTz/9pK8tgf7s2bPVuHHj9F3ccle1BM3uayQly6G8/vrrCUtnRI2lsMl8t8cXVvL5AZAbCJgBAAAAAPCYNWuWNzhzS+5EzSZZ17hHjx46uJSgUtY6FmGh4/Lly/V6v76x169fX91xxx2R6/6Gsa/nXtM46KCDvNeVu5ovvfTSAg2YDemzefPmCdczoe1ee+2ll59Yt26dPtfXj6+iyGv3xhtvqFq1asWv16xZM73EhSwTIXcfywZ+Erib/uTP8g8D5tjnn3+ubr75Zu/dzLJGtrxPt956a3DFomXfnR1V8vkBkBsImAEAAAAA8Jg2bZo3OHPruOOOC1pkx6pVq/RSDLJ2sR1a2mVs3LhRB512+GmXLBchgbX0k66wawoJXRcuXKj2228/73XlLtinnnoqYemHVLjXtEtIf++++66+w9u+ngmYJfCeMmVK5JITvory6quv6kBZ+pclOPr27avHIK99OuQfCyZMmKDX1bbHbkrWcpblN9J9zQqazHff+NySzw+A3EDADAAAAACAhyxr4AvO3OrevXvQomi4YagdPMqSDLfccouqXr26d+xyJ7QE1uYu6HSEXVOsWbNGb7Rn1l92q23bturrr7+OB9tu+zDuNe0SsvyErFu85557JlzPBMwSqMtrYs53+wirMHPmzNFLWEjfO+ywgzr//PP1UhlRovqX90E2XJQ7lu3xm5KlNOQfDOSu56Ii8903Nrfk8wMgNxAwAwAAAADg8eijj3qDM7fkjtVs8gWUbhlffPGF6tatm9ppp528Yx84cGBwZuohrxF2TSF348rGglWrVvVet1evXsGZ6V3XvaZdQsLjPn36hF5XAnXD10dYhZFlSiS8lnC5Y8eOemNIEdXO7tcuQ9ZzHjZsmHf8ci0JtN9///3g7OyT+e4bm1uPPfZY0AJAaUfADAAAAMS0bt1aFwAYI0eO9AZnbtkhbXHz3nvvqb333luVLVs2z7hlE7rbbrstODNaVCBq2I/LmsKHH364Kl++vL6WBKPmLmIJYy+55BJ9ns3uO6x87GOLFi3SS0nIusX2c5X65z//qW644QZ9XhT7enbfNlk/WdZdPuKII+J9f/fdd8HRv/n6SlZC1i+WMNy8Zub1M3+X9823uWM2yHw3r2lUyecHQG4gYAYAAABizA/EAGDI0hJ2YBZWQ4YMCVoUP9OnT/eOWUo2a3vmmWeCM6OFBaE2+3FZJkLWI5bruOFow4YN1ejRo/V5NrvvsPKxH5dgNuxu7aOPPlpNnDgxODOce027f0M2Ehw8eLAO6StWrKj69+8fHNnOtHH7SaWELIHx7LPPxsfuvoYnn3yyevvtt/W52Sbz3YwrquTzAyA38A0aAAAAiDE/EAOAceuttyYEZmF1zTXXBC2Kl/Xr16sHHnggPk4TTpo6++yz1UcffRScHS0sCLXZj8nGd/Z17XC0a9eueh1hl9u/r3zM4ytWrNDBtfs8TZ1xxhlqwYIF+two7jVN/za5ltyhLf1WqlRJHXPMMWro0KE6sP/++++Ds1J7Tr4Sche43H1u7sa2X0NZ2/rGG2/U52UbATMAF9+gAQAAgBjzAzEAGKNGjUoIzMJq0KBBQYviZeHChXqNYN+Ype68807122+/BWdHCwtBbeax5cuX6432zHXsYFTq8ssv12s0u9z+feVjHn/33Xf1nb2+5TGkZF3jjRs36nOjuNc0/dsk/K1WrVqea8gmfPfff79eR9nw9ZesxI8//qh69+6tqlSpovt2X8dTTjlFn5dtLJEBwMU3aAAAACDG/EAMAIZsUmYHZmGV7U3+XGEB5YsvvqhatWrlHbPUCy+8oM9z22XKtP/444/13dG+a0rJXdWGfW27wvjOlRJPPPGEqly5cp7rSShbvXp19eSTT+rzDF8/Uj72MQmPX3/9dVWjRo14/3b426xZM30tc75pa/dhc4+bc1auXKn/EUDuVjbXMc9J6vjjj1d//PGHPjebUt3kTzbJBJAb+AYNAAAAxJgfiAHAeO655xICs7CSzdiKUlhAKXcRmxDULrnDV0JL2aROuO0yZdpLcC0hq3tdCUhlfeRJkybp8+zruhUm6tywNbPl+Xbu3Fm98847wZnb+fqS8rGPrV27Vs8NWX9Z+ncDZrmzWdZk/vPPP/X5dt+mD5t73JyzZs0aHcbvueee8euY5yTVtm1bvalhtnXv3j1hHGFl3mcApR/foAEAAIAY8wMxABjTpk1LCMzC6rjjjgtaZIcbRIa5+uqrveMtX7686tSpk5o7d25wZiK7/3TKkCUidthhh/j1TDBatmxZ1bhx45TWX06XrCUty0mYa9ol15flGk+WbtAAACESSURBVGTpjoIgdzDLczBLZJhw2TxPeVzu4DbPw31u7uNh1q1bp5566im1zz77xK9jnpOUrPs8Z86c4OzskflujyOs5PMDIDfwDRoAAACImTlzpi4AMGbPnu0Nztw6+uijgxbZYQeVYQGl3GXbr18/73h33nlndf311ydsRmdz+0+1jGuvvVZfxw1eJdju2bNnSsF2ukaMGKEOOOCA+HXNc5WS5/vBBx8EZxaML7/8UtWqVSvhOqb2339/dc8998Sfh/28fBXm999/15sGRgXMMkez7aijjkoYR1jNmjUraAGgtCNgBgAAAADAY8GCBd7gzK2DDz44aJEdqQSUb731lurQoYN3vHKH7ZQpU3SA6eP2n0oZsjHdOeeco6/jBswVK1ZUt99+uz7Hx9dfqs4666z45n52ECt3TR900EHqu+++C84sGHJ3cbt27fRzMtcy1+/WrZv68MMP48/Dfl6+CpNsiYw2bdrooDvbZL7b4wgr+fwAyA0EzAAAAAAAeHz77bfe4Myt/fbbL2iRHakElLJB4eGHH+4dr6wdvGzZsuDMvNz+Uylj6tSpqn379vo6bsAsdxLL0hJbtmwJzk7k6y8ZWedY7sT+17/+lXBN81zlLuOhQ4eqVatWBS0KxrZt2/RreNFFF8U3FqxataoOuu3fhrGfU1iFWbFihR57zZo148/NPC8pWeZkw4YNwdnZU6dOnYRxhNXixYuDFgBKOwJmAAAAAAA8JODzBWdu7bbbbkGLouELKy+99FK9kZ+Mzw1dDz30UL2EhrDb2u1d7nlh544aNUrfMWyuZZcE219//XVwZvJA2T7uK7Fx40a9TnGDBg30NcxzNc9XHpdlJP744w99flg/QkLol156ST344IMpB7dffPGFvht8/PjxenPDTz75RK1fvz446hd2fZfcdd2lSxcdzJvX0H4f+/TpE5yZXTLfzRiiSj4/AHIDATMAAAAAAB6ymZsvOHOrQoUKQYui4YaVW7du1RuxmTDSDlwl5JW7bM3yGHZb097HPS/s3AsvvFBVr1494fWRkqUq5I5qs9FeKv35zrFLyDISp556ap4N98x127Ztm7AUSFg/YtKkSfr8Fi1aqEWLFum7lIV9juG2TYdpm6yPzz77LL48hinz3HbffXc1bNiw4Mzskvlujyms5PMDIDcQMAMAAAAx8oN6Uf2wDqD4KleunDc8c6so79Z0g8pffvlFNWzYUI/LBK4mmJQN6EaOHBkP/+yg0+7D5Z7nO1cek4DWfl1M7brrrur888+PL1Xh9iXl8p1jl5DlMezN9uznWqNGDb2EheHrQ8ro1auXbrfXXnupjz/+OL6Uh32O4fbhOydMqu1kuRHzvEyZ59a5c2f16quvBmdmT6p39cvnBkDuIGAGAAAAYswPxQBgS3W92VmzZgUtss8OKmXJCFkDuG7dunpcJnA1weSRRx6pxyp3OQs76DR9+LjnuefK3b6ff/65OuSQQxJeF1P16tVT//nPf0LvnHb7E75zTAlZ9kLWdDZrILvP9aijjtLLZxhh/cg6zhKcmnWcZVkNd0kNl91H2DlhUmknAXffvn3jr58p89zuvPPO4MzskrnjjslX8rkBkDv4Bg0AAADEmB+KAcAmS03YwVlYyaZ6xcHKlSvVv//9b72Egm+cHTt21MtKmGDTDTvDysc+JsHxhAkT9IaHch037G3WrJlenzgs2E61bLKe8+WXX6523HFH7zX/7//+L6XN/WS9ZVlDWcYubU877TQdOgvfGKR8Uj3P5Wsj60BXrFgx/lzs/8oSHv/73//0edkm81zGkazkcwMgd/ANGgAAAIgxPxQDgG3QoEEJwVlYDRkyJGhRtGTJiN69e8fv6nXr9NNPD87czg03w8rHPiZ3AF9yySXxDeAkCDUlf2/fvr3avHmzPlfYfadTttdff101btw4voyJe8077rgjODPab7/9pkNlWSdaNkB8+umniyRgNpYsWRK/e9l+PlKy4d+jjz6qVq9eHZydXTLPzViiSj43AHIH36ABAACAGPNDMQDYZL1iOzgLqx49egQtitYXX3yh11mWsNQdY5UqVdRVV10VnJleyOtjH/vxxx/V0UcfneduYvPnM844Q58n7H7TLZvcMW2emxvENmrUSAfFqVi8eHF8SZGzzz5bB87mWu71Tfmkep7LPlf+K8tfyDId5nmZ5yTvX9euXdXatWvj52abzHMznqiSzw2A3ME3aAAAACDG/FAMALZp06YlBGdhdfDBBwctCp8JJN0Sc+fOjY/JhK4mpGzSpIm++7UwfPPNN/Fw2S0Jb1O9mzgZ8zzlbui7777bez0p2dzv008/1ee6r5MpIcuFyPIYFSpU0AHuPffcox/3nZuM2yadErKpoKxjLcuJuM9H/sFAwt1169bpc4uKzHN3bL6Szw2A3ME3aAAAACDG/FAMADa5u9UOzsJKAspsCQsoZR3kcePGxcfkBsy9evVSs2fP1ucWJNngb8aMGd67pqXatWunXnrppeDs/DHPdenSpfpubN/1pCZNmqTHJdzXypR499131THHHKPbdOnSRW+QKHznJuO2SbXMchzr169X3bp102svu89HlvAwgXlRknnujs1X8rkBkDv4Bg0AAADEDBs2TBcAuMLuzHVL1s7NBl9IKWR5jMsuuyw+Hjdgvu666+Jr95o2BWHZsmV6Y0GzFrJbAwYMUN9++21wdv6YcUuAKWs++64nQfecOXP0efZrZJeQYPeBBx6It7v//vt1yCt85yfjtkm1hKxhLUtjVKpUKeG5SJ144onqjTfe0OcVJZnf7th8JZ8XALmFgBkAAAAAgAgHHnigN0hza/r06UGLwhUWUr722mt6Mz0zHjdgfuihh/R5wrQpCPPmzdOb0oXdwTx8+PDgzPwz45ZQO+wOZtloUJYKEfZrZMqQu7nljmFpc8ABB+jnIaLaRPG1iypj06ZNOuiuVatWwvPYaaedVKtWrfQ47fOLisxve3xhJZ8XALmFgBkAAAAAgAgnn3yyN0hza9SoUUGLwhUWVD7xxBNqjz32iAfK5r9lypRRu+66q3r++eeDM9PnXtO+7v/+9z+9zIRcx349TI0dOzY4cztfX1KpMOe5azCb51q+fHl12GGHRa6/bAwaNEi3qVGjht4wUNZjTlVUv+l6+OGH1aGHHhp/LlKyFMXxxx+vvvvuu/gSGvm5RkGQ+W2PMazk8wIgtxAwAwAAAAAQIWqtX7tOOeWUoEXhCgs2ZZkKGYe5a9mErrJ0hdzZPGvWrODM9LnXtK8rm+T51g2W6x9yyCF51l/29SWVCvtcua59LfnvzjvvrLp27ao3HRR2/yaoFWPGjFH169fXbTp27Kh+/fXX4Ehq7H5Npco+V56Du6mf3IF99dVXqx9++CG+jrRI5xqFQea3Pc6wks8LgNxCwAwAAAAAQIRHH33UG6S5JUscZIMv1JTw1AThbsAsd/VeeeWV6uuvvw7OTp99Tffao0ePTngdTMn1zzjjDPXRRx8FZ27n60sqFfa5snREy5Yt489TSoLuY489Nk/AbMidz88++2z8jmG589ps7JcO069d6di4caMexxFHHKF22GGH+PgbN26sRowYob7//vvgzMRrFSV3CY+wks8LgNxCwAwAAADESMCQScgAoPRbtGiRN0jz1fz584NWhccXOMoGf2eeeaYegxswyx3MTz/9tFq3bl1wdvrsa9rXlk3xZPNA+zWwS5ZVWL58uT7X5usrFfb5K1euVI899pjaZZdd4teTZTr23ntv9d577+lzDAngJbT9z3/+o44++mh97sEHH6zvIM6EPXZ7TKnYsGGDmjx5sg7HzbjlHwGOOuoovdHg77//rs/LtP/CIPPajDVZyecFQG4hYAYAAABizA/GAOBTt27dhBAtrEaOHBm0KDy+0PH1119XnTt3jo/Dvqu3evXq6vPPPw/O9IejpsKEnSfBowm23ZK7iT/44IPgzL/7CGP3H1autWvXqi5duqjKlSsnXPvee+/VS0xIWLtq1Sq96d+AAQNU1apV9XF5TSTkNaKuIezjYeXjO/7MM88khMtSctf1jBkzgjO2tytOZF7b4w0r+ZwAyD18gwYAAABizA/HAODTr1+/hCAtrHr06BG0KDy+0PKTTz5RvXr1yjMeubv3oosu0iGrsNv6KkzYeT///LPu372uhMu9e/dWP/74oz7P19ZlnxNWLnls2bJl6tRTT1Vly5aNX79SpUr6TmZZZ7lmzZo6UDbjOumkk3TwLctlmD6iriHcc3zl4x6TjRhlWQwzTilZb1mW9Ni6dWtw1vZ2xYnMa3vMYSWfEwC5h2/QAAAAQIz54RgAfGQpBjtICysJMwubCS3t8HLLli16jI0aNYqP5Z///Ke6+OKL9ZIFZoM7t61bYaLOlU38ZC1jc125S/j0009XCxYs8Ia4YexzwirMZ599ph588EF12mmnqTp16sTHYkreFwmW5U5cexmTVK/hO88tH/O4rLk8ceJE1bx58/iY9tlnH70kxnfffafPEVF9FSV5/ezXM6xkDgLIPXyDBgAAAGLMD8cA4LN48eKEIC2q5s2bF7QqHCaEtEvIkhCywdoFF1ygzjnnHHX33XfrpSEMXztf+USd9+uvv+rlJgYOHKj69++vbrzxxoQ17SXc9rVz2eeEVRQJ2efMmaOXxxg8eLC+m1aW77jwwgv1xnnvvPNOfH1jI9X+3fN8FUau+fzzz8fXfpY67LDD1H333afHbKTSlxxbunSpfl9l2RNZA7uwyXy253dUyecEQO7hGzQAAAAQY344BoAw9erVSwjTwkqCw8JkB5FRYaQRdp7dR7LKVDp9+c51yyfqWCbs66XTt+/8bdu2qWeffTZ+h7esjS3h8tixY4Mzwtn9mT4lkH7ggQdUz5491ZAhQxLufi4sMp/dOe4r+XwAyE18gwYAAABizA/IABDm7LPPTgjUwqp79+5Bi8LhCx59kp3nHo+qTKXTl+9ct3xSPS9VmfbnO3/cuHEJay536NBBb8hoRPVt92fOk6U2pA/pq3379nr96cIm89mMP6rk8wEgN/ENGgAAAIhp3bq1LgAI8/jjj3uDNbd22GEHtWHDhqBVwXODR1+FSeWcVNl95bdcvnOkfFI5z3eOr/JD2pu1rmXt6QkTJqgWLVroOVGuXDkdwL733nvxZTHcaycrIf02aNBA99mpUyf9WGGSeSzz2Z7fYSWfDwC5iYAZAAAAAIAUfPvtt95gzVeFudmZL3x0yyeVc9Lh9pffcqVyjkjlPN85YZUp01bWXJ40aVL8zuXq1avr9ak/+ugjfVy461InK0PWX65du7buVzZSLGypbm4pJZ8PALmJgBkAAAAAgBTVr1/fG665VZh3l/oCSLd8UjknHW5/+S1XKueIVM7znRNW+SF3GEu4bDb0q1KlirrqqqvU999/H5yR/utmyIZ+L7/8stptt91UmTJl1KWXXhocKTwyj9257Sv5XADIXQTMAAAAAACk6JprrvEGbL6Su00Lgy+EdMsnlXPS4faX33Klco5I5TzfOWGVH7IshrlzWcLl8ePHq3Xr1gVHt/NdM1kJ2dDv4osvVhUrVlR16tRR9957r368sMj8ded0WMnnAkDuImAGAAAAACBF8+bN8wZsvrrnnnuCVgXLFz6mwm2X30pFpu2Er62vfDI5x5RP2Dnmz7LkhWzo17RpU71m8ZFHHqneeecdfSy/tm7dqlavXq3D66pVq+q51aZNGzVlypTgjMIh89ed02ElnwsAuYuAGQAAAACANDRr1swbsrkld7IWhrCwMxm3XX4rFZm2E762vvLJ5BxTPlHnyNIVZs1lWbpC3vv9999fXX755eq6667Td/deffXV8RoyZEhaJes3ywaBxxxzTHxu9erVS82ePTsYQeEwd2InK/k8AMhtBMwAAABAjPlBGQCSueuuuxICtqj65JNPglYFJyrsjOK2y2+lItN2wtfWVz6ZnGPKJ+ycP/74Qz3//PPqX//6V/w9/8c//pEwBwqjLrzwQvXNN98Eoyh4Mm991/WVfB4A5Da+QQMAAAAx5gdlAEhG1sK1A7aouv7664NWBScs7EzGbZffSkWm7YSvra98MjnHlE/Y8YkTJ8Y39JNg2S13PoSdl2qZPm655Ra9oWBhkXlrjzmq5PMAILfxDRoAAACIMT8oA0AqOnTokBCyhVWDBg2CFgXHDjvdwNNwz/Gd5ztHKlO+vnwVxneuW6nKtJ1w27oltmzZoh5//HHVvHnz+HvtC4R9Zc+PsPK1kzLHH3zwQT2OwiLz1h5PWMnnAAD4Bg0AAADEmB+WASAVjzzySELQFlVPP/100Kpg+AJPl3uO77xUzkmHrz9fhfGd61aqMm0n3LZ2CdnQ77PPPtN3LtuhrxsGh5U9N6LK107+K+s8y4Z/hUXmqzuWsJLPAQDwDRoAAACIMT8sA0Aq1q5dGw/9kpUEkQXJF3q63HN856VyTjp8/fkqjO9ct1KVaTvhtrVLrFu3Tk2ePFlVqFBBv792+JtK2XMjqnztypYtq/bbbz/10ksv6bEUBrPkR7KSMcnnAAD4Bg0AAADEmB+YASBVvXr1Sgjcomrq1KlBq/zzhZ4u9xzfeamckw5ff74K4zvXrVRl2k64be0Sv/76q3rooYdU1apVE95jNxAOK7tNVPnalStXTrVt21a9/fbbeiwFTeapO46wkvkPAIJv0AAAAECM+YEZAFL1/PPPJwRuUdWpU6egFVB8yTz1zV9fyfwHAME3aAAAAAAAMtSkSRNv+OarWbNmBa2A4kfmp2/e+krmPQAYBMwAAAAAAGToscce8wZwvmJJARRn6Sz5IvMeAAwCZgAAAAAA8qF+/freEM5XCxYsCFoBxcfChQu989VXMt8BwEbADAAAAABAPtx3333eIM5X5557btAKKD5kXvrmq69kvgOAjYAZAAAAAIB8+Ouvv1StWrW8YZyv5s2bF7QEip7MR9889ZXMc5nvAGAjYAYAAABiWrdurQsAMjF8+HBvIOerE044IWgFFD2Zj7556iuZ5wDgImAGAAAAYswPzwCQiTVr1qiKFSsmhHFR9dRTTwUtgaIj89A3P30l81vmOQC4+AYNAAAAxJgfoAEgU1dccUVCIBdV9erVC1oBRUfmoW9++krmNwD48A0aAAAAiDE/QANApr7//vuEQC5ZXX/99UFLIPtk/vnmZVjJ/AYAH75BAwAAADHmB2gAyI+hQ4cmhHLJ6osvvghaAtkj8843H8NK5jUAhOEbNAAAABBjfogGgPxKZ9mBU045JWgFZI/MO9989BXLuQBIhm/QAAAAQIz5QRoA8iudjdOkJk+eHLQECp/MN988DCs2pASQDN+gAQAAgJiZM2fqAoCC0KVLF29Y56u6deuqtWvXBi2BwiPzTOabbx76SuYxACRDwAwAAAAAQAGbN2+eN7ALq9NPPz1oCRQemWe++RdWMo8BIBkCZgAAAAAACsEVV1zhDe3CauTIkUFLoODJ/PLNu7CS+QsAqSBgBgAAAACgEGzatEnVrl3bG96F1QcffBC0BgqOzCvffAsrmbcyfwEgFQTMAAAAAAAUkkcffdQb4IVV06ZNg5ZAwZF55ZtvYSXzFgBSRcAMAAAAxAwbNkwXABS0jh07ekO8sBo4cGDQEsg/mU++eRZWMl8BIB0EzAAAAECM+cEaAArakiVLVLVq1RJCvGQ1fvz4oDWQOZlHvvkVVjJPZb4CQDr4Bg0AAADEmB+uAaAwTJw4MSHIS1aVK1dWCxcuDFoD6ZP5I/PIN7/CSuYpAKSLb9AAAABAjPnhGgAKy8UXX5wQ5iWrhg0bql9++SVoDaRO5o3MH9+8CiuZnwCQCb5BAwAAADHmB2wAKEwtWrRICPWSVatWrdRff/0VtAaSk/ki88Y3n8JK5iUAZIpv0AAAAECM+SEbAArTxx9/nBDspVI9evQIWgPJyXzxzaOomjt3btAaANLHN2gAAAAgxvyQDQCFbcyYMQnhXip1wQUXBK2BcDJPfPMnqmQ+AkB+8A0aAAAAiBk2bJguAMiGM8880xv2RRX/j0IUmR++eRNVMg8BIL8ImAEAAAAAyLL169erBg0aeEO/qBo9enTQA/A3mRe++RJVMv9kHgJAfhEwAwAAAABQBObPn6+qV6/uDf+i6vHHHw96AJSeD755ElUy72T+AUBBIGAGAAAAAKCIzJgxwxsAJqv7778/6AG5bNSoUd75kaxk3gFAQSFgBgAAAACgCE2YMMEbAiar2267LegBuUjef9+8SFYy3wCgIBEwAwAAADEzZ87UBQBFYcSIEd4wMFldc801QQ/IJfK+++ZDspJ5BgAFjYAZAAAAiDE/fANAURkyZEhCGJhqDRo0KOgBuUDeb988SFYyvwCgMPANGgAAAIg56aSTdAFAUerfv783HExW/fr1C3pAada3b1/v+5+sZF4BQGEhYAYAAAAAoBg58cQTvSFhsurRo4dav3590AtKE3lf5f31ve/JSuYTABQmAmYAAAAAAIqRTZs2qQ4dOnjDwmTVsGFDNWvWrKAnlAbyfsr76nu/k5XMI5lPAFCYCJgBAAAAACiGunfv7g0NU6nRo0cHvaAkk/fR9/6mUjJ/ACAbCJgBAAAAACimMl1zV2rAgAFBLyiJ5P3zva+plMwbAMgWAmYAAAAAAIqxgQMHekPEVKpFixZq4cKFQU8oCeT9kvfN936mUoMGDQp6AoDsIGAGAAAAAKCYGzJkiDdMTKV23HFHNX78+KAnFGfyPsn75XsfUymZJwCQbQTMAAAAAACUALfeeqs3VEy1+vfvr1asWBH0huJE3hd5f3zvW6ol8wMAigIBMwAAAAAAJcSoUaO84WKqVb16dfXggw8GvaE4kPdD3hff+5VqybwAgKJCwAwAAAAAQAnyzDPPqCpVqniDxlSrQ4cOau7cuUGPKAry+sv74Ht/Ui2ZBzIfAKAoETADAAAAAFDCfPnll6ply5be0DGduu6664IekU3yuvvej3RK3n+ZBwBQ1AiYAQAAAAAooQYOHOgNH9OpRo0aqRdffDHoEYVJXmd5vX3vQzol7zsAFBcEzAAAAAAAlGCPPPKIN4RMt4477jg1bdq0oFcUJHld5fX1ve7plrzfAFCcEDADAAAAAFDCffjhh+rQQw/1BpLpVrt27dTUqVODnpEf8jrK6+l7ndMteX/lfQaA4oaAGQAAAACAUmDLli3qrLPO8oaTmVTbtm3Vyy+/HPSOdMjrJq+f73XNpOR9lfcXAIojAmYAAAAAAEqR0aNHq6pVq3qDykyqVatW6oUXXgh6RxR5neT18r2OmZS8j/J+AkBxRsAMAAAAAEAp8/PPP6u+fft6Q8tMSzanGz58uFq8eHFwFQh5PeR1KYjN++yS90/eRwAo7giYAQAAAAAopV566SXVuHFjb4CZn+rYsaN64okn1NatW4Mr5RZ53uPGjdOvg+/1yU/J+yXvGwCUFATMAAAAAACUctddd503zMxvVapUSQ0YMEC9+eabwZVKN3me8nzleftej/yWvE8AUNIQMAMAAAAAkAPmzp2rjjvuOG+wWRAlS0RceOGF6rnnnlOrVq0KrlqyyfOQ5yPPq6CXwLBL3hd5fwCgJCJgBgAAAAAgh4wdO1btvffe3qCzIKtFixbq6quvVtOnT1dbtmwJrl68yThlvDJuGb/veRVkyfsg7wcAlGQEzAAAAAAA5KCRI0eqOnXqeIPPgq5y5cqp9u3bq1tvvVVNmTJFffHFF+qvv/4KRlI05PoyDhmPjEvGJ+P0jb+gS153ef0BoDQgYAYAAAAAIIeNHj1a1atXzxuEFmaVKVNGLzvRrVs3fcfw448/rubMmaNWr14djKxgSH/Sr/Qv15HryXXl+r5xFWbJ6yyvNwCUJgTMAAAAAABAPfjgg6pBgwbeYDTbVbFiRVWzZk1Vt25ddeihh6qWLVuq448/XvXu3Vude+656tJLL1WtWrXS/5W/y+NyXM6T86WdtJd+fP1nu+R1ldcXAEojAmYAAAAAABD38MMPF+qGdrlU8jrK6wkApRkBMwAAAAAAyOP5559XPXr08AanVHTJ6yavHwDkAgJmAAAAAAAQavny5WrEiBGqefPm3jCV2l7y+sjrJK8XAOQSAmYAAAAAAJCSDz/8UA0ePFjtvvvu3pA110peB3k95HUBgFxFwAwAAAAAANImS0B0795dVatWzRu+ltaS5yvPmyUwAGA7AmYAAAAAAJAvs2fPVjfffLM69thjVZkyZbzBbEkteT7yvOT5yfMEACQiYAYAAAAAAAVm8+bNatq0aeqqq64qses2N2vWTI9fnoc8HwBAOAJmAAAAAABQaFauXKkmTZqkhg8frvr06aOaNm2qKleu7A12s10yDhmPjEvGJ+OU8QIAUkfADAAAAAAAsu77779XM2bMUCNHjlQXXnihXoaidu3aqly5ct4wONOS/qTfdu3a6euMGjVKX/eHH34IRgIAyA8CZgAAAAAAUKxs3LhRLV++XC1atEjNnTtXvfXWW+qVV15REydOVGPHjlV33323GjZsmP7vQw89pB+X43LevHnzdDtpL/0AAAoXATMAAAAAAAAAICMEzAAAAAAAAACAjBAwAwAAAAAAAAAyQsAMAAAAAAAAAMgIATMAAAAAAAAAICMEzAAAAAAAAACAjBAwAwAAAAAAAAAyQsAMAAAAAAAAAMgIATMAAAAAAAAAICMEzAAAAAAAAACAjBAwAwAAAAAAAAAyQsAMAAAAAAAAAMgIATMAAAAAAAAAICMEzAAAAAAAAACAjBAwAwAAAAAAAAAyQsAMAAAAAAAAAMgIATMAAAAAAAAAICMEzAAAAAAAAACAjBAwAwAAAAAAAAAyQsAMAAAAAAAAAMgIATMAAAAAAAAAICMEzAAAAAAAAACAjBAwAwAAAAAAAAAyQsAMAAAAAAAAAMgIATMAAAAAAAAAICMEzAAAAAAAAACAjBAwAwAAAAAAAAAyQsAMAAAAAAAAAMgIATMAAAAAAAAAICMEzAAAAAAAAACAjBAwAwAAAAAAAAAyQsAMAAAAAAAAAMgIATMAAAAAAAAAICMEzAAAAAAAAACAjBAwAwAAAAAAAAAyQsAMAAAAAAAAAMgIATMAAAAAAAAAICMEzAAAAAAAAACAjBAwAwAAAAAAAAAyQsAMAAAAAAAAAMgIATMAAAAAAAAAICMEzAAAAAAAAACAjBAwAwAAAAAAAAAyQsAMAAAAAAAAAMgIATMAAAAAAAAAICMEzAAAAAAAAACAjBAwAwAAAAAAAAAyQsAMAAAAAAAAAMiAUv8P/oSShdxBIPYAAAAASUVORK5CYII=)"
   ]
  },
  {
   "cell_type": "markdown",
   "metadata": {
    "id": "xn-UVAjLaM-o"
   },
   "source": [
    "Let $(x,y)$ be the position of the pendulum bob"
   ]
  },
  {
   "cell_type": "code",
   "execution_count": null,
   "metadata": {
    "id": "bCA88wKxZX0o"
   },
   "outputs": [],
   "source": [
    "t, R, g, m1, m2 = smp.symbols('t R g m_1 m_2')\n",
    "z, theta = smp.symbols(r'z \\theta', cls=smp.Function)\n",
    "z = z(t)\n",
    "theta = theta(t)\n",
    "\n",
    "dzdt = smp.diff(z,t)\n",
    "dthedt = smp.diff(theta,t)"
   ]
  },
  {
   "cell_type": "markdown",
   "metadata": {
    "id": "XO25Ds8PaQME"
   },
   "source": [
    "Define location of pendulum"
   ]
  },
  {
   "cell_type": "code",
   "execution_count": null,
   "metadata": {
    "id": "iyr2INdWaWOO"
   },
   "outputs": [],
   "source": [
    "x = z + R*smp.sin(theta)\n",
    "y = -R*smp.cos(theta)"
   ]
  },
  {
   "cell_type": "code",
   "execution_count": null,
   "metadata": {
    "id": "BIqokB0HaYtc"
   },
   "outputs": [],
   "source": [
    "y"
   ]
  },
  {
   "cell_type": "markdown",
   "metadata": {
    "id": "zr89khrVaQPu"
   },
   "source": [
    "*Kinetic* and potential energies"
   ]
  },
  {
   "cell_type": "code",
   "execution_count": null,
   "metadata": {
    "id": "bE9VkKgKaPH7"
   },
   "outputs": [],
   "source": [
    "T1 = smp.Rational(1,2) * m1 * smp.diff(z,t)**2\n",
    "T2 = smp.Rational(1,2) * m2 * (smp.diff(x,t)**2 + smp.diff(y,t)**2)\n",
    "T = T1 + T2\n",
    "V1 = 0\n",
    "V2 = m2*g*y\n",
    "V = V1 + V2"
   ]
  },
  {
   "cell_type": "markdown",
   "metadata": {
    "id": "9MfpTrf7aeQA"
   },
   "source": [
    "Get Lagrangian"
   ]
  },
  {
   "cell_type": "code",
   "execution_count": null,
   "metadata": {
    "id": "YTZA_6LRadal"
   },
   "outputs": [],
   "source": [
    "L = T-V"
   ]
  },
  {
   "cell_type": "code",
   "execution_count": null,
   "metadata": {
    "id": "UTmeK5_7agXp"
   },
   "outputs": [],
   "source": [
    "L"
   ]
  },
  {
   "cell_type": "markdown",
   "metadata": {
    "id": "gpjy_I0xah64"
   },
   "source": [
    "Get Lagranges equations of motion"
   ]
  },
  {
   "cell_type": "code",
   "execution_count": null,
   "metadata": {
    "id": "OO-9okbYags8"
   },
   "outputs": [],
   "source": [
    "LE1 = smp.diff(L, z) - smp.diff(smp.diff(L,dzdt), t)\n",
    "LE2 = smp.diff(L, theta) - smp.diff(smp.diff(L,dthedt), t)"
   ]
  },
  {
   "cell_type": "code",
   "execution_count": null,
   "metadata": {
    "id": "PA6MwllHalJr"
   },
   "outputs": [],
   "source": [
    "LE1"
   ]
  },
  {
   "cell_type": "code",
   "execution_count": null,
   "metadata": {
    "id": "feAYsBhualo8"
   },
   "outputs": [],
   "source": [
    "LE2"
   ]
  },
  {
   "cell_type": "markdown",
   "metadata": {
    "id": "paeW4_Tqaosi"
   },
   "source": [
    "We want a system of two second order differential equations that we can solve"
   ]
  },
  {
   "cell_type": "code",
   "execution_count": null,
   "metadata": {
    "id": "6EsR9c41amD4"
   },
   "outputs": [],
   "source": [
    "sols = smp.solve([LE1, LE2], [smp.diff(z,t,t), smp.diff(theta,t,t)])"
   ]
  },
  {
   "cell_type": "code",
   "execution_count": null,
   "metadata": {
    "id": "XquKVEMNaqlJ"
   },
   "outputs": [],
   "source": [
    "sols"
   ]
  },
  {
   "cell_type": "markdown",
   "metadata": {
    "id": "zPGMuCvJas67"
   },
   "source": [
    "Find $d^2 \\theta / dt^2 = $"
   ]
  },
  {
   "cell_type": "code",
   "execution_count": null,
   "metadata": {
    "id": "3xirFUetarBF"
   },
   "outputs": [],
   "source": [
    "sols[smp.diff(theta,t,t)]"
   ]
  },
  {
   "cell_type": "markdown",
   "metadata": {
    "id": "Dwsq4x38au8b"
   },
   "source": [
    "Find $d^2 z / dt^2 = $"
   ]
  },
  {
   "cell_type": "code",
   "execution_count": null,
   "metadata": {
    "id": "5UaSpQSEavBw"
   },
   "outputs": [],
   "source": [
    "sols[smp.diff(z,t,t)]"
   ]
  },
  {
   "cell_type": "code",
   "execution_count": null,
   "metadata": {
    "id": "_F2f2dUmax3y"
   },
   "outputs": [],
   "source": []
  }
 ],
 "metadata": {
  "colab": {
   "authorship_tag": "ABX9TyPkqVGEFvQhamD32OYNNWEF",
   "collapsed_sections": [
    "vV_Fatqc6Tt7",
    "PamwkWb_6nTe",
    "9RfKtV6q63kp",
    "pBgzXYmr_IvH",
    "TtqFxVU5BBIF",
    "U-0XPhIryB1c",
    "wbGFX-nEv0eV"
   ],
   "provenance": [],
   "toc_visible": true
  },
  "kernelspec": {
   "display_name": "Python 3 (ipykernel)",
   "language": "python",
   "name": "python3"
  },
  "language_info": {
   "codemirror_mode": {
    "name": "ipython",
    "version": 3
   },
   "file_extension": ".py",
   "mimetype": "text/x-python",
   "name": "python",
   "nbconvert_exporter": "python",
   "pygments_lexer": "ipython3",
   "version": "3.10.9"
  },
  "toc-autonumbering": false
 },
 "nbformat": 4,
 "nbformat_minor": 4
}
